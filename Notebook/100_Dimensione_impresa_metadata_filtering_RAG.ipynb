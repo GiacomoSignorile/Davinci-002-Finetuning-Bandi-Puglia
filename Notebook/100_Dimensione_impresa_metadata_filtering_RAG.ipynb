{
  "cells": [
    {
      "cell_type": "markdown",
      "metadata": {
        "id": "Fz9t9xM67aVd"
      },
      "source": [
        "# QA con metadata filtering e ricerca di una label che rappresenti la dimensione delle imprese nei documenti"
      ]
    },
    {
      "cell_type": "code",
      "execution_count": 1,
      "metadata": {
        "id": "YQ4Ass2txIO5",
        "colab": {
          "base_uri": "https://localhost:8080/"
        },
        "outputId": "8feb7633-f9f0-48c0-e4c7-06446b01f7bb"
      },
      "outputs": [
        {
          "output_type": "stream",
          "name": "stdout",
          "text": [
            "Collecting pypdf\n",
            "  Downloading pypdf-3.17.1-py3-none-any.whl (277 kB)\n",
            "\u001b[?25l     \u001b[90m━━━━━━━━━━━━━━━━━━━━━━━━━━━━━━━━━━━━━━━━\u001b[0m \u001b[32m0.0/277.6 kB\u001b[0m \u001b[31m?\u001b[0m eta \u001b[36m-:--:--\u001b[0m\r\u001b[2K     \u001b[91m━━━━━━━━━━\u001b[0m\u001b[90m╺\u001b[0m\u001b[90m━━━━━━━━━━━━━━━━━━━━━━━━━━━━━\u001b[0m \u001b[32m71.7/277.6 kB\u001b[0m \u001b[31m2.0 MB/s\u001b[0m eta \u001b[36m0:00:01\u001b[0m\r\u001b[2K     \u001b[90m━━━━━━━━━━━━━━━━━━━━━━━━━━━━━━━━━━━━━━━━\u001b[0m \u001b[32m277.6/277.6 kB\u001b[0m \u001b[31m4.5 MB/s\u001b[0m eta \u001b[36m0:00:00\u001b[0m\n",
            "\u001b[?25hInstalling collected packages: pypdf\n",
            "Successfully installed pypdf-3.17.1\n",
            "Collecting langchain\n",
            "  Downloading langchain-0.0.347-py3-none-any.whl (2.0 MB)\n",
            "\u001b[2K     \u001b[90m━━━━━━━━━━━━━━━━━━━━━━━━━━━━━━━━━━━━━━━━\u001b[0m \u001b[32m2.0/2.0 MB\u001b[0m \u001b[31m16.1 MB/s\u001b[0m eta \u001b[36m0:00:00\u001b[0m\n",
            "\u001b[?25hRequirement already satisfied: PyYAML>=5.3 in /usr/local/lib/python3.10/dist-packages (from langchain) (6.0.1)\n",
            "Requirement already satisfied: SQLAlchemy<3,>=1.4 in /usr/local/lib/python3.10/dist-packages (from langchain) (2.0.23)\n",
            "Requirement already satisfied: aiohttp<4.0.0,>=3.8.3 in /usr/local/lib/python3.10/dist-packages (from langchain) (3.9.1)\n",
            "Requirement already satisfied: anyio<4.0 in /usr/local/lib/python3.10/dist-packages (from langchain) (3.7.1)\n",
            "Requirement already satisfied: async-timeout<5.0.0,>=4.0.0 in /usr/local/lib/python3.10/dist-packages (from langchain) (4.0.3)\n",
            "Collecting dataclasses-json<0.7,>=0.5.7 (from langchain)\n",
            "  Downloading dataclasses_json-0.6.3-py3-none-any.whl (28 kB)\n",
            "Collecting jsonpatch<2.0,>=1.33 (from langchain)\n",
            "  Downloading jsonpatch-1.33-py2.py3-none-any.whl (12 kB)\n",
            "Collecting langchain-core<0.1,>=0.0.11 (from langchain)\n",
            "  Downloading langchain_core-0.0.11-py3-none-any.whl (181 kB)\n",
            "\u001b[2K     \u001b[90m━━━━━━━━━━━━━━━━━━━━━━━━━━━━━━━━━━━━━━━━\u001b[0m \u001b[32m181.4/181.4 kB\u001b[0m \u001b[31m19.7 MB/s\u001b[0m eta \u001b[36m0:00:00\u001b[0m\n",
            "\u001b[?25hCollecting langsmith<0.1.0,>=0.0.63 (from langchain)\n",
            "  Downloading langsmith-0.0.69-py3-none-any.whl (48 kB)\n",
            "\u001b[2K     \u001b[90m━━━━━━━━━━━━━━━━━━━━━━━━━━━━━━━━━━━━━━━━\u001b[0m \u001b[32m48.2/48.2 kB\u001b[0m \u001b[31m6.4 MB/s\u001b[0m eta \u001b[36m0:00:00\u001b[0m\n",
            "\u001b[?25hRequirement already satisfied: numpy<2,>=1 in /usr/local/lib/python3.10/dist-packages (from langchain) (1.23.5)\n",
            "Requirement already satisfied: pydantic<3,>=1 in /usr/local/lib/python3.10/dist-packages (from langchain) (1.10.13)\n",
            "Requirement already satisfied: requests<3,>=2 in /usr/local/lib/python3.10/dist-packages (from langchain) (2.31.0)\n",
            "Requirement already satisfied: tenacity<9.0.0,>=8.1.0 in /usr/local/lib/python3.10/dist-packages (from langchain) (8.2.3)\n",
            "Requirement already satisfied: attrs>=17.3.0 in /usr/local/lib/python3.10/dist-packages (from aiohttp<4.0.0,>=3.8.3->langchain) (23.1.0)\n",
            "Requirement already satisfied: multidict<7.0,>=4.5 in /usr/local/lib/python3.10/dist-packages (from aiohttp<4.0.0,>=3.8.3->langchain) (6.0.4)\n",
            "Requirement already satisfied: yarl<2.0,>=1.0 in /usr/local/lib/python3.10/dist-packages (from aiohttp<4.0.0,>=3.8.3->langchain) (1.9.3)\n",
            "Requirement already satisfied: frozenlist>=1.1.1 in /usr/local/lib/python3.10/dist-packages (from aiohttp<4.0.0,>=3.8.3->langchain) (1.4.0)\n",
            "Requirement already satisfied: aiosignal>=1.1.2 in /usr/local/lib/python3.10/dist-packages (from aiohttp<4.0.0,>=3.8.3->langchain) (1.3.1)\n",
            "Requirement already satisfied: idna>=2.8 in /usr/local/lib/python3.10/dist-packages (from anyio<4.0->langchain) (3.6)\n",
            "Requirement already satisfied: sniffio>=1.1 in /usr/local/lib/python3.10/dist-packages (from anyio<4.0->langchain) (1.3.0)\n",
            "Requirement already satisfied: exceptiongroup in /usr/local/lib/python3.10/dist-packages (from anyio<4.0->langchain) (1.2.0)\n",
            "Collecting marshmallow<4.0.0,>=3.18.0 (from dataclasses-json<0.7,>=0.5.7->langchain)\n",
            "  Downloading marshmallow-3.20.1-py3-none-any.whl (49 kB)\n",
            "\u001b[2K     \u001b[90m━━━━━━━━━━━━━━━━━━━━━━━━━━━━━━━━━━━━━━━━\u001b[0m \u001b[32m49.4/49.4 kB\u001b[0m \u001b[31m6.9 MB/s\u001b[0m eta \u001b[36m0:00:00\u001b[0m\n",
            "\u001b[?25hCollecting typing-inspect<1,>=0.4.0 (from dataclasses-json<0.7,>=0.5.7->langchain)\n",
            "  Downloading typing_inspect-0.9.0-py3-none-any.whl (8.8 kB)\n",
            "Collecting jsonpointer>=1.9 (from jsonpatch<2.0,>=1.33->langchain)\n",
            "  Downloading jsonpointer-2.4-py2.py3-none-any.whl (7.8 kB)\n",
            "Requirement already satisfied: typing-extensions>=4.2.0 in /usr/local/lib/python3.10/dist-packages (from pydantic<3,>=1->langchain) (4.5.0)\n",
            "Requirement already satisfied: charset-normalizer<4,>=2 in /usr/local/lib/python3.10/dist-packages (from requests<3,>=2->langchain) (3.3.2)\n",
            "Requirement already satisfied: urllib3<3,>=1.21.1 in /usr/local/lib/python3.10/dist-packages (from requests<3,>=2->langchain) (2.0.7)\n",
            "Requirement already satisfied: certifi>=2017.4.17 in /usr/local/lib/python3.10/dist-packages (from requests<3,>=2->langchain) (2023.11.17)\n",
            "Requirement already satisfied: greenlet!=0.4.17 in /usr/local/lib/python3.10/dist-packages (from SQLAlchemy<3,>=1.4->langchain) (3.0.1)\n",
            "Requirement already satisfied: packaging>=17.0 in /usr/local/lib/python3.10/dist-packages (from marshmallow<4.0.0,>=3.18.0->dataclasses-json<0.7,>=0.5.7->langchain) (23.2)\n",
            "Collecting mypy-extensions>=0.3.0 (from typing-inspect<1,>=0.4.0->dataclasses-json<0.7,>=0.5.7->langchain)\n",
            "  Downloading mypy_extensions-1.0.0-py3-none-any.whl (4.7 kB)\n",
            "Installing collected packages: mypy-extensions, marshmallow, jsonpointer, typing-inspect, langsmith, jsonpatch, langchain-core, dataclasses-json, langchain\n",
            "Successfully installed dataclasses-json-0.6.3 jsonpatch-1.33 jsonpointer-2.4 langchain-0.0.347 langchain-core-0.0.11 langsmith-0.0.69 marshmallow-3.20.1 mypy-extensions-1.0.0 typing-inspect-0.9.0\n",
            "Collecting openai==0.28.1\n",
            "  Downloading openai-0.28.1-py3-none-any.whl (76 kB)\n",
            "\u001b[2K     \u001b[90m━━━━━━━━━━━━━━━━━━━━━━━━━━━━━━━━━━━━━━━━\u001b[0m \u001b[32m77.0/77.0 kB\u001b[0m \u001b[31m2.3 MB/s\u001b[0m eta \u001b[36m0:00:00\u001b[0m\n",
            "\u001b[?25hRequirement already satisfied: requests>=2.20 in /usr/local/lib/python3.10/dist-packages (from openai==0.28.1) (2.31.0)\n",
            "Requirement already satisfied: tqdm in /usr/local/lib/python3.10/dist-packages (from openai==0.28.1) (4.66.1)\n",
            "Requirement already satisfied: aiohttp in /usr/local/lib/python3.10/dist-packages (from openai==0.28.1) (3.9.1)\n",
            "Requirement already satisfied: charset-normalizer<4,>=2 in /usr/local/lib/python3.10/dist-packages (from requests>=2.20->openai==0.28.1) (3.3.2)\n",
            "Requirement already satisfied: idna<4,>=2.5 in /usr/local/lib/python3.10/dist-packages (from requests>=2.20->openai==0.28.1) (3.6)\n",
            "Requirement already satisfied: urllib3<3,>=1.21.1 in /usr/local/lib/python3.10/dist-packages (from requests>=2.20->openai==0.28.1) (2.0.7)\n",
            "Requirement already satisfied: certifi>=2017.4.17 in /usr/local/lib/python3.10/dist-packages (from requests>=2.20->openai==0.28.1) (2023.11.17)\n",
            "Requirement already satisfied: attrs>=17.3.0 in /usr/local/lib/python3.10/dist-packages (from aiohttp->openai==0.28.1) (23.1.0)\n",
            "Requirement already satisfied: multidict<7.0,>=4.5 in /usr/local/lib/python3.10/dist-packages (from aiohttp->openai==0.28.1) (6.0.4)\n",
            "Requirement already satisfied: yarl<2.0,>=1.0 in /usr/local/lib/python3.10/dist-packages (from aiohttp->openai==0.28.1) (1.9.3)\n",
            "Requirement already satisfied: frozenlist>=1.1.1 in /usr/local/lib/python3.10/dist-packages (from aiohttp->openai==0.28.1) (1.4.0)\n",
            "Requirement already satisfied: aiosignal>=1.1.2 in /usr/local/lib/python3.10/dist-packages (from aiohttp->openai==0.28.1) (1.3.1)\n",
            "Requirement already satisfied: async-timeout<5.0,>=4.0 in /usr/local/lib/python3.10/dist-packages (from aiohttp->openai==0.28.1) (4.0.3)\n",
            "Installing collected packages: openai\n",
            "\u001b[31mERROR: pip's dependency resolver does not currently take into account all the packages that are installed. This behaviour is the source of the following dependency conflicts.\n",
            "llmx 0.0.15a0 requires cohere, which is not installed.\n",
            "llmx 0.0.15a0 requires tiktoken, which is not installed.\u001b[0m\u001b[31m\n",
            "\u001b[0mSuccessfully installed openai-0.28.1\n",
            "Collecting chromadb\n",
            "  Downloading chromadb-0.4.18-py3-none-any.whl (502 kB)\n",
            "\u001b[2K     \u001b[90m━━━━━━━━━━━━━━━━━━━━━━━━━━━━━━━━━━━━━━━━\u001b[0m \u001b[32m502.4/502.4 kB\u001b[0m \u001b[31m5.9 MB/s\u001b[0m eta \u001b[36m0:00:00\u001b[0m\n",
            "\u001b[?25hRequirement already satisfied: requests>=2.28 in /usr/local/lib/python3.10/dist-packages (from chromadb) (2.31.0)\n",
            "Requirement already satisfied: pydantic>=1.9 in /usr/local/lib/python3.10/dist-packages (from chromadb) (1.10.13)\n",
            "Collecting chroma-hnswlib==0.7.3 (from chromadb)\n",
            "  Downloading chroma_hnswlib-0.7.3-cp310-cp310-manylinux_2_17_x86_64.manylinux2014_x86_64.whl (2.4 MB)\n",
            "\u001b[2K     \u001b[90m━━━━━━━━━━━━━━━━━━━━━━━━━━━━━━━━━━━━━━━━\u001b[0m \u001b[32m2.4/2.4 MB\u001b[0m \u001b[31m58.2 MB/s\u001b[0m eta \u001b[36m0:00:00\u001b[0m\n",
            "\u001b[?25hCollecting fastapi>=0.95.2 (from chromadb)\n",
            "  Downloading fastapi-0.104.1-py3-none-any.whl (92 kB)\n",
            "\u001b[2K     \u001b[90m━━━━━━━━━━━━━━━━━━━━━━━━━━━━━━━━━━━━━━━━\u001b[0m \u001b[32m92.9/92.9 kB\u001b[0m \u001b[31m13.1 MB/s\u001b[0m eta \u001b[36m0:00:00\u001b[0m\n",
            "\u001b[?25hCollecting uvicorn[standard]>=0.18.3 (from chromadb)\n",
            "  Downloading uvicorn-0.24.0.post1-py3-none-any.whl (59 kB)\n",
            "\u001b[2K     \u001b[90m━━━━━━━━━━━━━━━━━━━━━━━━━━━━━━━━━━━━━━━━\u001b[0m \u001b[32m59.7/59.7 kB\u001b[0m \u001b[31m7.5 MB/s\u001b[0m eta \u001b[36m0:00:00\u001b[0m\n",
            "\u001b[?25hCollecting posthog>=2.4.0 (from chromadb)\n",
            "  Downloading posthog-3.1.0-py2.py3-none-any.whl (37 kB)\n",
            "Requirement already satisfied: typing-extensions>=4.5.0 in /usr/local/lib/python3.10/dist-packages (from chromadb) (4.5.0)\n",
            "Collecting pulsar-client>=3.1.0 (from chromadb)\n",
            "  Downloading pulsar_client-3.3.0-cp310-cp310-manylinux_2_17_x86_64.manylinux2014_x86_64.whl (5.4 MB)\n",
            "\u001b[2K     \u001b[90m━━━━━━━━━━━━━━━━━━━━━━━━━━━━━━━━━━━━━━━━\u001b[0m \u001b[32m5.4/5.4 MB\u001b[0m \u001b[31m83.4 MB/s\u001b[0m eta \u001b[36m0:00:00\u001b[0m\n",
            "\u001b[?25hCollecting onnxruntime>=1.14.1 (from chromadb)\n",
            "  Downloading onnxruntime-1.16.3-cp310-cp310-manylinux_2_17_x86_64.manylinux2014_x86_64.whl (6.4 MB)\n",
            "\u001b[2K     \u001b[90m━━━━━━━━━━━━━━━━━━━━━━━━━━━━━━━━━━━━━━━━\u001b[0m \u001b[32m6.4/6.4 MB\u001b[0m \u001b[31m104.3 MB/s\u001b[0m eta \u001b[36m0:00:00\u001b[0m\n",
            "\u001b[?25hCollecting opentelemetry-api>=1.2.0 (from chromadb)\n",
            "  Downloading opentelemetry_api-1.21.0-py3-none-any.whl (57 kB)\n",
            "\u001b[2K     \u001b[90m━━━━━━━━━━━━━━━━━━━━━━━━━━━━━━━━━━━━━━━━\u001b[0m \u001b[32m57.9/57.9 kB\u001b[0m \u001b[31m9.2 MB/s\u001b[0m eta \u001b[36m0:00:00\u001b[0m\n",
            "\u001b[?25hCollecting opentelemetry-exporter-otlp-proto-grpc>=1.2.0 (from chromadb)\n",
            "  Downloading opentelemetry_exporter_otlp_proto_grpc-1.21.0-py3-none-any.whl (18 kB)\n",
            "Collecting opentelemetry-instrumentation-fastapi>=0.41b0 (from chromadb)\n",
            "  Downloading opentelemetry_instrumentation_fastapi-0.42b0-py3-none-any.whl (11 kB)\n",
            "Collecting opentelemetry-sdk>=1.2.0 (from chromadb)\n",
            "  Downloading opentelemetry_sdk-1.21.0-py3-none-any.whl (105 kB)\n",
            "\u001b[2K     \u001b[90m━━━━━━━━━━━━━━━━━━━━━━━━━━━━━━━━━━━━━━━━\u001b[0m \u001b[32m105.3/105.3 kB\u001b[0m \u001b[31m15.7 MB/s\u001b[0m eta \u001b[36m0:00:00\u001b[0m\n",
            "\u001b[?25hRequirement already satisfied: tokenizers>=0.13.2 in /usr/local/lib/python3.10/dist-packages (from chromadb) (0.15.0)\n",
            "Collecting pypika>=0.48.9 (from chromadb)\n",
            "  Downloading PyPika-0.48.9.tar.gz (67 kB)\n",
            "\u001b[2K     \u001b[90m━━━━━━━━━━━━━━━━━━━━━━━━━━━━━━━━━━━━━━━━\u001b[0m \u001b[32m67.3/67.3 kB\u001b[0m \u001b[31m10.1 MB/s\u001b[0m eta \u001b[36m0:00:00\u001b[0m\n",
            "\u001b[?25h  Installing build dependencies ... \u001b[?25l\u001b[?25hdone\n",
            "  Getting requirements to build wheel ... \u001b[?25l\u001b[?25hdone\n",
            "  Preparing metadata (pyproject.toml) ... \u001b[?25l\u001b[?25hdone\n",
            "Requirement already satisfied: tqdm>=4.65.0 in /usr/local/lib/python3.10/dist-packages (from chromadb) (4.66.1)\n",
            "Collecting overrides>=7.3.1 (from chromadb)\n",
            "  Downloading overrides-7.4.0-py3-none-any.whl (17 kB)\n",
            "Requirement already satisfied: importlib-resources in /usr/local/lib/python3.10/dist-packages (from chromadb) (6.1.1)\n",
            "Requirement already satisfied: grpcio>=1.58.0 in /usr/local/lib/python3.10/dist-packages (from chromadb) (1.59.3)\n",
            "Collecting bcrypt>=4.0.1 (from chromadb)\n",
            "  Downloading bcrypt-4.1.1-cp37-abi3-manylinux_2_28_x86_64.whl (699 kB)\n",
            "\u001b[2K     \u001b[90m━━━━━━━━━━━━━━━━━━━━━━━━━━━━━━━━━━━━━━━━\u001b[0m \u001b[32m699.4/699.4 kB\u001b[0m \u001b[31m63.7 MB/s\u001b[0m eta \u001b[36m0:00:00\u001b[0m\n",
            "\u001b[?25hRequirement already satisfied: typer>=0.9.0 in /usr/local/lib/python3.10/dist-packages (from chromadb) (0.9.0)\n",
            "Collecting kubernetes>=28.1.0 (from chromadb)\n",
            "  Downloading kubernetes-28.1.0-py2.py3-none-any.whl (1.6 MB)\n",
            "\u001b[2K     \u001b[90m━━━━━━━━━━━━━━━━━━━━━━━━━━━━━━━━━━━━━━━━\u001b[0m \u001b[32m1.6/1.6 MB\u001b[0m \u001b[31m76.9 MB/s\u001b[0m eta \u001b[36m0:00:00\u001b[0m\n",
            "\u001b[?25hRequirement already satisfied: tenacity>=8.2.3 in /usr/local/lib/python3.10/dist-packages (from chromadb) (8.2.3)\n",
            "Requirement already satisfied: PyYAML>=6.0.0 in /usr/local/lib/python3.10/dist-packages (from chromadb) (6.0.1)\n",
            "Collecting mmh3>=4.0.1 (from chromadb)\n",
            "  Downloading mmh3-4.0.1-cp310-cp310-manylinux_2_5_x86_64.manylinux1_x86_64.manylinux_2_17_x86_64.manylinux2014_x86_64.whl (72 kB)\n",
            "\u001b[2K     \u001b[90m━━━━━━━━━━━━━━━━━━━━━━━━━━━━━━━━━━━━━━━━\u001b[0m \u001b[32m72.6/72.6 kB\u001b[0m \u001b[31m11.0 MB/s\u001b[0m eta \u001b[36m0:00:00\u001b[0m\n",
            "\u001b[?25hRequirement already satisfied: numpy>=1.22.5 in /usr/local/lib/python3.10/dist-packages (from chromadb) (1.23.5)\n",
            "Requirement already satisfied: anyio<4.0.0,>=3.7.1 in /usr/local/lib/python3.10/dist-packages (from fastapi>=0.95.2->chromadb) (3.7.1)\n",
            "Collecting starlette<0.28.0,>=0.27.0 (from fastapi>=0.95.2->chromadb)\n",
            "  Downloading starlette-0.27.0-py3-none-any.whl (66 kB)\n",
            "\u001b[2K     \u001b[90m━━━━━━━━━━━━━━━━━━━━━━━━━━━━━━━━━━━━━━━━\u001b[0m \u001b[32m67.0/67.0 kB\u001b[0m \u001b[31m9.8 MB/s\u001b[0m eta \u001b[36m0:00:00\u001b[0m\n",
            "\u001b[?25hCollecting typing-extensions>=4.5.0 (from chromadb)\n",
            "  Downloading typing_extensions-4.8.0-py3-none-any.whl (31 kB)\n",
            "Requirement already satisfied: certifi>=14.05.14 in /usr/local/lib/python3.10/dist-packages (from kubernetes>=28.1.0->chromadb) (2023.11.17)\n",
            "Requirement already satisfied: six>=1.9.0 in /usr/local/lib/python3.10/dist-packages (from kubernetes>=28.1.0->chromadb) (1.16.0)\n",
            "Requirement already satisfied: python-dateutil>=2.5.3 in /usr/local/lib/python3.10/dist-packages (from kubernetes>=28.1.0->chromadb) (2.8.2)\n",
            "Requirement already satisfied: google-auth>=1.0.1 in /usr/local/lib/python3.10/dist-packages (from kubernetes>=28.1.0->chromadb) (2.17.3)\n",
            "Requirement already satisfied: websocket-client!=0.40.0,!=0.41.*,!=0.42.*,>=0.32.0 in /usr/local/lib/python3.10/dist-packages (from kubernetes>=28.1.0->chromadb) (1.6.4)\n",
            "Requirement already satisfied: requests-oauthlib in /usr/local/lib/python3.10/dist-packages (from kubernetes>=28.1.0->chromadb) (1.3.1)\n",
            "Requirement already satisfied: oauthlib>=3.2.2 in /usr/local/lib/python3.10/dist-packages (from kubernetes>=28.1.0->chromadb) (3.2.2)\n",
            "Collecting urllib3<2.0,>=1.24.2 (from kubernetes>=28.1.0->chromadb)\n",
            "  Downloading urllib3-1.26.18-py2.py3-none-any.whl (143 kB)\n",
            "\u001b[2K     \u001b[90m━━━━━━━━━━━━━━━━━━━━━━━━━━━━━━━━━━━━━━━━\u001b[0m \u001b[32m143.8/143.8 kB\u001b[0m \u001b[31m21.1 MB/s\u001b[0m eta \u001b[36m0:00:00\u001b[0m\n",
            "\u001b[?25hCollecting coloredlogs (from onnxruntime>=1.14.1->chromadb)\n",
            "  Downloading coloredlogs-15.0.1-py2.py3-none-any.whl (46 kB)\n",
            "\u001b[2K     \u001b[90m━━━━━━━━━━━━━━━━━━━━━━━━━━━━━━━━━━━━━━━━\u001b[0m \u001b[32m46.0/46.0 kB\u001b[0m \u001b[31m6.7 MB/s\u001b[0m eta \u001b[36m0:00:00\u001b[0m\n",
            "\u001b[?25hRequirement already satisfied: flatbuffers in /usr/local/lib/python3.10/dist-packages (from onnxruntime>=1.14.1->chromadb) (23.5.26)\n",
            "Requirement already satisfied: packaging in /usr/local/lib/python3.10/dist-packages (from onnxruntime>=1.14.1->chromadb) (23.2)\n",
            "Requirement already satisfied: protobuf in /usr/local/lib/python3.10/dist-packages (from onnxruntime>=1.14.1->chromadb) (3.20.3)\n",
            "Requirement already satisfied: sympy in /usr/local/lib/python3.10/dist-packages (from onnxruntime>=1.14.1->chromadb) (1.12)\n",
            "Collecting deprecated>=1.2.6 (from opentelemetry-api>=1.2.0->chromadb)\n",
            "  Downloading Deprecated-1.2.14-py2.py3-none-any.whl (9.6 kB)\n",
            "Requirement already satisfied: importlib-metadata<7.0,>=6.0 in /usr/local/lib/python3.10/dist-packages (from opentelemetry-api>=1.2.0->chromadb) (6.8.0)\n",
            "Collecting backoff<3.0.0,>=1.10.0 (from opentelemetry-exporter-otlp-proto-grpc>=1.2.0->chromadb)\n",
            "  Downloading backoff-2.2.1-py3-none-any.whl (15 kB)\n",
            "Requirement already satisfied: googleapis-common-protos~=1.52 in /usr/local/lib/python3.10/dist-packages (from opentelemetry-exporter-otlp-proto-grpc>=1.2.0->chromadb) (1.61.0)\n",
            "Collecting opentelemetry-exporter-otlp-proto-common==1.21.0 (from opentelemetry-exporter-otlp-proto-grpc>=1.2.0->chromadb)\n",
            "  Downloading opentelemetry_exporter_otlp_proto_common-1.21.0-py3-none-any.whl (17 kB)\n",
            "Collecting opentelemetry-proto==1.21.0 (from opentelemetry-exporter-otlp-proto-grpc>=1.2.0->chromadb)\n",
            "  Downloading opentelemetry_proto-1.21.0-py3-none-any.whl (50 kB)\n",
            "\u001b[2K     \u001b[90m━━━━━━━━━━━━━━━━━━━━━━━━━━━━━━━━━━━━━━━━\u001b[0m \u001b[32m50.8/50.8 kB\u001b[0m \u001b[31m7.2 MB/s\u001b[0m eta \u001b[36m0:00:00\u001b[0m\n",
            "\u001b[?25hCollecting opentelemetry-instrumentation-asgi==0.42b0 (from opentelemetry-instrumentation-fastapi>=0.41b0->chromadb)\n",
            "  Downloading opentelemetry_instrumentation_asgi-0.42b0-py3-none-any.whl (13 kB)\n",
            "Collecting opentelemetry-instrumentation==0.42b0 (from opentelemetry-instrumentation-fastapi>=0.41b0->chromadb)\n",
            "  Downloading opentelemetry_instrumentation-0.42b0-py3-none-any.whl (25 kB)\n",
            "Collecting opentelemetry-semantic-conventions==0.42b0 (from opentelemetry-instrumentation-fastapi>=0.41b0->chromadb)\n",
            "  Downloading opentelemetry_semantic_conventions-0.42b0-py3-none-any.whl (36 kB)\n",
            "Collecting opentelemetry-util-http==0.42b0 (from opentelemetry-instrumentation-fastapi>=0.41b0->chromadb)\n",
            "  Downloading opentelemetry_util_http-0.42b0-py3-none-any.whl (6.9 kB)\n",
            "Requirement already satisfied: setuptools>=16.0 in /usr/local/lib/python3.10/dist-packages (from opentelemetry-instrumentation==0.42b0->opentelemetry-instrumentation-fastapi>=0.41b0->chromadb) (67.7.2)\n",
            "Requirement already satisfied: wrapt<2.0.0,>=1.0.0 in /usr/local/lib/python3.10/dist-packages (from opentelemetry-instrumentation==0.42b0->opentelemetry-instrumentation-fastapi>=0.41b0->chromadb) (1.14.1)\n",
            "Collecting asgiref~=3.0 (from opentelemetry-instrumentation-asgi==0.42b0->opentelemetry-instrumentation-fastapi>=0.41b0->chromadb)\n",
            "  Downloading asgiref-3.7.2-py3-none-any.whl (24 kB)\n",
            "Collecting monotonic>=1.5 (from posthog>=2.4.0->chromadb)\n",
            "  Downloading monotonic-1.6-py2.py3-none-any.whl (8.2 kB)\n",
            "Requirement already satisfied: charset-normalizer<4,>=2 in /usr/local/lib/python3.10/dist-packages (from requests>=2.28->chromadb) (3.3.2)\n",
            "Requirement already satisfied: idna<4,>=2.5 in /usr/local/lib/python3.10/dist-packages (from requests>=2.28->chromadb) (3.6)\n",
            "Requirement already satisfied: huggingface_hub<1.0,>=0.16.4 in /usr/local/lib/python3.10/dist-packages (from tokenizers>=0.13.2->chromadb) (0.19.4)\n",
            "Requirement already satisfied: click<9.0.0,>=7.1.1 in /usr/local/lib/python3.10/dist-packages (from typer>=0.9.0->chromadb) (8.1.7)\n",
            "Collecting h11>=0.8 (from uvicorn[standard]>=0.18.3->chromadb)\n",
            "  Downloading h11-0.14.0-py3-none-any.whl (58 kB)\n",
            "\u001b[2K     \u001b[90m━━━━━━━━━━━━━━━━━━━━━━━━━━━━━━━━━━━━━━━━\u001b[0m \u001b[32m58.3/58.3 kB\u001b[0m \u001b[31m8.0 MB/s\u001b[0m eta \u001b[36m0:00:00\u001b[0m\n",
            "\u001b[?25hCollecting httptools>=0.5.0 (from uvicorn[standard]>=0.18.3->chromadb)\n",
            "  Downloading httptools-0.6.1-cp310-cp310-manylinux_2_5_x86_64.manylinux1_x86_64.manylinux_2_17_x86_64.manylinux2014_x86_64.whl (341 kB)\n",
            "\u001b[2K     \u001b[90m━━━━━━━━━━━━━━━━━━━━━━━━━━━━━━━━━━━━━━━━\u001b[0m \u001b[32m341.4/341.4 kB\u001b[0m \u001b[31m36.6 MB/s\u001b[0m eta \u001b[36m0:00:00\u001b[0m\n",
            "\u001b[?25hCollecting python-dotenv>=0.13 (from uvicorn[standard]>=0.18.3->chromadb)\n",
            "  Downloading python_dotenv-1.0.0-py3-none-any.whl (19 kB)\n",
            "Collecting uvloop!=0.15.0,!=0.15.1,>=0.14.0 (from uvicorn[standard]>=0.18.3->chromadb)\n",
            "  Downloading uvloop-0.19.0-cp310-cp310-manylinux_2_17_x86_64.manylinux2014_x86_64.whl (3.4 MB)\n",
            "\u001b[2K     \u001b[90m━━━━━━━━━━━━━━━━━━━━━━━━━━━━━━━━━━━━━━━━\u001b[0m \u001b[32m3.4/3.4 MB\u001b[0m \u001b[31m67.8 MB/s\u001b[0m eta \u001b[36m0:00:00\u001b[0m\n",
            "\u001b[?25hCollecting watchfiles>=0.13 (from uvicorn[standard]>=0.18.3->chromadb)\n",
            "  Downloading watchfiles-0.21.0-cp310-cp310-manylinux_2_17_x86_64.manylinux2014_x86_64.whl (1.3 MB)\n",
            "\u001b[2K     \u001b[90m━━━━━━━━━━━━━━━━━━━━━━━━━━━━━━━━━━━━━━━━\u001b[0m \u001b[32m1.3/1.3 MB\u001b[0m \u001b[31m67.8 MB/s\u001b[0m eta \u001b[36m0:00:00\u001b[0m\n",
            "\u001b[?25hCollecting websockets>=10.4 (from uvicorn[standard]>=0.18.3->chromadb)\n",
            "  Downloading websockets-12.0-cp310-cp310-manylinux_2_5_x86_64.manylinux1_x86_64.manylinux_2_17_x86_64.manylinux2014_x86_64.whl (130 kB)\n",
            "\u001b[2K     \u001b[90m━━━━━━━━━━━━━━━━━━━━━━━━━━━━━━━━━━━━━━━━\u001b[0m \u001b[32m130.2/130.2 kB\u001b[0m \u001b[31m14.1 MB/s\u001b[0m eta \u001b[36m0:00:00\u001b[0m\n",
            "\u001b[?25hRequirement already satisfied: sniffio>=1.1 in /usr/local/lib/python3.10/dist-packages (from anyio<4.0.0,>=3.7.1->fastapi>=0.95.2->chromadb) (1.3.0)\n",
            "Requirement already satisfied: exceptiongroup in /usr/local/lib/python3.10/dist-packages (from anyio<4.0.0,>=3.7.1->fastapi>=0.95.2->chromadb) (1.2.0)\n",
            "Requirement already satisfied: cachetools<6.0,>=2.0.0 in /usr/local/lib/python3.10/dist-packages (from google-auth>=1.0.1->kubernetes>=28.1.0->chromadb) (5.3.2)\n",
            "Requirement already satisfied: pyasn1-modules>=0.2.1 in /usr/local/lib/python3.10/dist-packages (from google-auth>=1.0.1->kubernetes>=28.1.0->chromadb) (0.3.0)\n",
            "Requirement already satisfied: rsa<5,>=3.1.4 in /usr/local/lib/python3.10/dist-packages (from google-auth>=1.0.1->kubernetes>=28.1.0->chromadb) (4.9)\n",
            "Requirement already satisfied: filelock in /usr/local/lib/python3.10/dist-packages (from huggingface_hub<1.0,>=0.16.4->tokenizers>=0.13.2->chromadb) (3.13.1)\n",
            "Requirement already satisfied: fsspec>=2023.5.0 in /usr/local/lib/python3.10/dist-packages (from huggingface_hub<1.0,>=0.16.4->tokenizers>=0.13.2->chromadb) (2023.6.0)\n",
            "Requirement already satisfied: zipp>=0.5 in /usr/local/lib/python3.10/dist-packages (from importlib-metadata<7.0,>=6.0->opentelemetry-api>=1.2.0->chromadb) (3.17.0)\n",
            "Collecting humanfriendly>=9.1 (from coloredlogs->onnxruntime>=1.14.1->chromadb)\n",
            "  Downloading humanfriendly-10.0-py2.py3-none-any.whl (86 kB)\n",
            "\u001b[2K     \u001b[90m━━━━━━━━━━━━━━━━━━━━━━━━━━━━━━━━━━━━━━━━\u001b[0m \u001b[32m86.8/86.8 kB\u001b[0m \u001b[31m12.3 MB/s\u001b[0m eta \u001b[36m0:00:00\u001b[0m\n",
            "\u001b[?25hRequirement already satisfied: mpmath>=0.19 in /usr/local/lib/python3.10/dist-packages (from sympy->onnxruntime>=1.14.1->chromadb) (1.3.0)\n",
            "Requirement already satisfied: pyasn1<0.6.0,>=0.4.6 in /usr/local/lib/python3.10/dist-packages (from pyasn1-modules>=0.2.1->google-auth>=1.0.1->kubernetes>=28.1.0->chromadb) (0.5.1)\n",
            "Building wheels for collected packages: pypika\n",
            "  Building wheel for pypika (pyproject.toml) ... \u001b[?25l\u001b[?25hdone\n",
            "  Created wheel for pypika: filename=PyPika-0.48.9-py2.py3-none-any.whl size=53723 sha256=ce5a197061bea4a401a002c885f97480d1f8b866c1d4732b8e530e808cb50049\n",
            "  Stored in directory: /root/.cache/pip/wheels/e1/26/51/d0bffb3d2fd82256676d7ad3003faea3bd6dddc9577af665f4\n",
            "Successfully built pypika\n",
            "Installing collected packages: pypika, monotonic, mmh3, websockets, uvloop, urllib3, typing-extensions, python-dotenv, pulsar-client, overrides, opentelemetry-util-http, opentelemetry-semantic-conventions, opentelemetry-proto, humanfriendly, httptools, h11, deprecated, chroma-hnswlib, bcrypt, backoff, watchfiles, uvicorn, starlette, opentelemetry-exporter-otlp-proto-common, opentelemetry-api, coloredlogs, asgiref, posthog, opentelemetry-sdk, opentelemetry-instrumentation, onnxruntime, fastapi, opentelemetry-instrumentation-asgi, opentelemetry-exporter-otlp-proto-grpc, kubernetes, opentelemetry-instrumentation-fastapi, chromadb\n",
            "  Attempting uninstall: urllib3\n",
            "    Found existing installation: urllib3 2.0.7\n",
            "    Uninstalling urllib3-2.0.7:\n",
            "      Successfully uninstalled urllib3-2.0.7\n",
            "  Attempting uninstall: typing-extensions\n",
            "    Found existing installation: typing_extensions 4.5.0\n",
            "    Uninstalling typing_extensions-4.5.0:\n",
            "      Successfully uninstalled typing_extensions-4.5.0\n",
            "\u001b[31mERROR: pip's dependency resolver does not currently take into account all the packages that are installed. This behaviour is the source of the following dependency conflicts.\n",
            "lida 0.0.10 requires kaleido, which is not installed.\n",
            "lida 0.0.10 requires python-multipart, which is not installed.\n",
            "tensorflow-probability 0.22.0 requires typing-extensions<4.6.0, but you have typing-extensions 4.8.0 which is incompatible.\u001b[0m\u001b[31m\n",
            "\u001b[0mSuccessfully installed asgiref-3.7.2 backoff-2.2.1 bcrypt-4.1.1 chroma-hnswlib-0.7.3 chromadb-0.4.18 coloredlogs-15.0.1 deprecated-1.2.14 fastapi-0.104.1 h11-0.14.0 httptools-0.6.1 humanfriendly-10.0 kubernetes-28.1.0 mmh3-4.0.1 monotonic-1.6 onnxruntime-1.16.3 opentelemetry-api-1.21.0 opentelemetry-exporter-otlp-proto-common-1.21.0 opentelemetry-exporter-otlp-proto-grpc-1.21.0 opentelemetry-instrumentation-0.42b0 opentelemetry-instrumentation-asgi-0.42b0 opentelemetry-instrumentation-fastapi-0.42b0 opentelemetry-proto-1.21.0 opentelemetry-sdk-1.21.0 opentelemetry-semantic-conventions-0.42b0 opentelemetry-util-http-0.42b0 overrides-7.4.0 posthog-3.1.0 pulsar-client-3.3.0 pypika-0.48.9 python-dotenv-1.0.0 starlette-0.27.0 typing-extensions-4.8.0 urllib3-1.26.18 uvicorn-0.24.0.post1 uvloop-0.19.0 watchfiles-0.21.0 websockets-12.0\n",
            "Collecting tiktoken\n",
            "  Downloading tiktoken-0.5.2-cp310-cp310-manylinux_2_17_x86_64.manylinux2014_x86_64.whl (2.0 MB)\n",
            "\u001b[2K     \u001b[90m━━━━━━━━━━━━━━━━━━━━━━━━━━━━━━━━━━━━━━━━\u001b[0m \u001b[32m2.0/2.0 MB\u001b[0m \u001b[31m23.5 MB/s\u001b[0m eta \u001b[36m0:00:00\u001b[0m\n",
            "\u001b[?25hRequirement already satisfied: regex>=2022.1.18 in /usr/local/lib/python3.10/dist-packages (from tiktoken) (2023.6.3)\n",
            "Requirement already satisfied: requests>=2.26.0 in /usr/local/lib/python3.10/dist-packages (from tiktoken) (2.31.0)\n",
            "Requirement already satisfied: charset-normalizer<4,>=2 in /usr/local/lib/python3.10/dist-packages (from requests>=2.26.0->tiktoken) (3.3.2)\n",
            "Requirement already satisfied: idna<4,>=2.5 in /usr/local/lib/python3.10/dist-packages (from requests>=2.26.0->tiktoken) (3.6)\n",
            "Requirement already satisfied: urllib3<3,>=1.21.1 in /usr/local/lib/python3.10/dist-packages (from requests>=2.26.0->tiktoken) (1.26.18)\n",
            "Requirement already satisfied: certifi>=2017.4.17 in /usr/local/lib/python3.10/dist-packages (from requests>=2.26.0->tiktoken) (2023.11.17)\n",
            "Installing collected packages: tiktoken\n",
            "\u001b[31mERROR: pip's dependency resolver does not currently take into account all the packages that are installed. This behaviour is the source of the following dependency conflicts.\n",
            "llmx 0.0.15a0 requires cohere, which is not installed.\u001b[0m\u001b[31m\n",
            "\u001b[0mSuccessfully installed tiktoken-0.5.2\n",
            "Collecting pinecone-client\n",
            "  Downloading pinecone_client-2.2.4-py3-none-any.whl (179 kB)\n",
            "\u001b[2K     \u001b[90m━━━━━━━━━━━━━━━━━━━━━━━━━━━━━━━━━━━━━━━━\u001b[0m \u001b[32m179.4/179.4 kB\u001b[0m \u001b[31m3.8 MB/s\u001b[0m eta \u001b[36m0:00:00\u001b[0m\n",
            "\u001b[?25hRequirement already satisfied: requests>=2.19.0 in /usr/local/lib/python3.10/dist-packages (from pinecone-client) (2.31.0)\n",
            "Requirement already satisfied: pyyaml>=5.4 in /usr/local/lib/python3.10/dist-packages (from pinecone-client) (6.0.1)\n",
            "Collecting loguru>=0.5.0 (from pinecone-client)\n",
            "  Downloading loguru-0.7.2-py3-none-any.whl (62 kB)\n",
            "\u001b[2K     \u001b[90m━━━━━━━━━━━━━━━━━━━━━━━━━━━━━━━━━━━━━━━━\u001b[0m \u001b[32m62.5/62.5 kB\u001b[0m \u001b[31m8.7 MB/s\u001b[0m eta \u001b[36m0:00:00\u001b[0m\n",
            "\u001b[?25hRequirement already satisfied: typing-extensions>=3.7.4 in /usr/local/lib/python3.10/dist-packages (from pinecone-client) (4.8.0)\n",
            "Collecting dnspython>=2.0.0 (from pinecone-client)\n",
            "  Downloading dnspython-2.4.2-py3-none-any.whl (300 kB)\n",
            "\u001b[2K     \u001b[90m━━━━━━━━━━━━━━━━━━━━━━━━━━━━━━━━━━━━━━━━\u001b[0m \u001b[32m300.4/300.4 kB\u001b[0m \u001b[31m22.3 MB/s\u001b[0m eta \u001b[36m0:00:00\u001b[0m\n",
            "\u001b[?25hRequirement already satisfied: python-dateutil>=2.5.3 in /usr/local/lib/python3.10/dist-packages (from pinecone-client) (2.8.2)\n",
            "Requirement already satisfied: urllib3>=1.21.1 in /usr/local/lib/python3.10/dist-packages (from pinecone-client) (1.26.18)\n",
            "Requirement already satisfied: tqdm>=4.64.1 in /usr/local/lib/python3.10/dist-packages (from pinecone-client) (4.66.1)\n",
            "Requirement already satisfied: numpy>=1.22.0 in /usr/local/lib/python3.10/dist-packages (from pinecone-client) (1.23.5)\n",
            "Requirement already satisfied: six>=1.5 in /usr/local/lib/python3.10/dist-packages (from python-dateutil>=2.5.3->pinecone-client) (1.16.0)\n",
            "Requirement already satisfied: charset-normalizer<4,>=2 in /usr/local/lib/python3.10/dist-packages (from requests>=2.19.0->pinecone-client) (3.3.2)\n",
            "Requirement already satisfied: idna<4,>=2.5 in /usr/local/lib/python3.10/dist-packages (from requests>=2.19.0->pinecone-client) (3.6)\n",
            "Requirement already satisfied: certifi>=2017.4.17 in /usr/local/lib/python3.10/dist-packages (from requests>=2.19.0->pinecone-client) (2023.11.17)\n",
            "Installing collected packages: loguru, dnspython, pinecone-client\n",
            "Successfully installed dnspython-2.4.2 loguru-0.7.2 pinecone-client-2.2.4\n",
            "Requirement already satisfied: python-dotenv in /usr/local/lib/python3.10/dist-packages (1.0.0)\n"
          ]
        }
      ],
      "source": [
        "!pip install pypdf\n",
        "!pip install langchain\n",
        "!pip install openai==0.28.1\n",
        "!pip install chromadb\n",
        "!pip install tiktoken\n",
        "!pip install pinecone-client\n",
        "!pip install python-dotenv"
      ]
    },
    {
      "cell_type": "code",
      "execution_count": 2,
      "metadata": {
        "colab": {
          "base_uri": "https://localhost:8080/"
        },
        "id": "6cxQAt-Uu-Ip",
        "outputId": "a6b11886-a833-436d-ccd9-88f07e7736a7"
      },
      "outputs": [
        {
          "output_type": "stream",
          "name": "stdout",
          "text": [
            "Mounted at /content/drive/\n",
            "/content/drive/My Drive\n"
          ]
        },
        {
          "output_type": "execute_result",
          "data": {
            "text/plain": [
              "True"
            ]
          },
          "metadata": {},
          "execution_count": 2
        }
      ],
      "source": [
        "from google.colab import drive, files\n",
        "import os\n",
        "from dotenv import load_dotenv, find_dotenv\n",
        "drive.mount(\"/content/drive/\", force_remount=False)\n",
        "%cd \"/content/drive/My Drive/\"\n",
        "load_dotenv('./Lab_Python/.env')"
      ]
    },
    {
      "cell_type": "code",
      "execution_count": 3,
      "metadata": {
        "id": "ej_EJtavvDph"
      },
      "outputs": [],
      "source": [
        "import pandas as pd\n",
        "\n",
        "fine_tuning_dataset = pd.read_json(\"./Tesi/fine_tune_improved.json\")\n",
        "dataset_query = pd.read_json(\"./Tesi/prova_domande_fine_tuning.json\")"
      ]
    },
    {
      "cell_type": "code",
      "source": [
        "fine_tuning_dataset[78:]"
      ],
      "metadata": {
        "colab": {
          "base_uri": "https://localhost:8080/",
          "height": 676
        },
        "id": "5ZxkpiwhA6j0",
        "outputId": "e017dd7b-25c2-4dec-dab9-14bf7ce1277a"
      },
      "execution_count": 4,
      "outputs": [
        {
          "output_type": "execute_result",
          "data": {
            "text/plain": [
              "                                               prompt  \\\n",
              "78  Quali sono i requisiti necessari per essere am...   \n",
              "79  Quali requisiti devono soddisfare le aziende c...   \n",
              "80  Quali sono i requisiti prescritti dall'avviso ...   \n",
              "81  Quali sono i percorsi previsti dal programma G...   \n",
              "82  Quali sono i soggetti ammessi alla presentazio...   \n",
              "83  Qual è l'indirizzo di posta elettronica certif...   \n",
              "84  Quali sono i requisiti necessari per le impres...   \n",
              "85  Quali sono le modalità di partecipazione neces...   \n",
              "86  Quali sono gli elementi considerati come non s...   \n",
              "87  Quali sono i requisiti necessari per partecipa...   \n",
              "88  Quali sono le responsabilità dei Dipartimento ...   \n",
              "89  Qual è il numero di contatto del Responsabile ...   \n",
              "90  Qual è la fonte specifica di risorse economich...   \n",
              "91  Quali sono i documenti necessari per la partec...   \n",
              "92  Quali sono le modalità di applicazione pratica...   \n",
              "93  Quali sono i requisiti necessari per iscrivers...   \n",
              "94  Quali sono i termini e le modalità di presenta...   \n",
              "95  Quali sono i requisiti necessari per poter par...   \n",
              "96  Quale servizio è disponibile per assistenza su...   \n",
              "97  Quali sono i documenti obbligatori da allegare...   \n",
              "\n",
              "                                           completion  \n",
              "78  In riferimento al documento \"Scheda Avviso Pub...  \n",
              "79  A partire da agosto 2019, il percorso formativ...  \n",
              "80  Per l'attestazione delle competenze acquisite,...  \n",
              "81  Il programma GOL è un'azione di riforma previs...  \n",
              "82  Con Determinazione del 21 settembre 2022 n. 42...  \n",
              "83  Le proposte progettuali devono essere trasmess...  \n",
              "84  Con Determinazione del 30 dicembre 2022 n. 106...  \n",
              "85  Le agevolazioni sono concesse nella forma di u...  \n",
              "86  Quali sono gli elementi considerati come non s...  \n",
              "87  Scheda Avviso Pubblico: \"Giardiniere d'arte pe...  \n",
              "88  Secondo quanto previsto dalla DGR n. 1686 del ...  \n",
              "89  Il Responsabile di Procedimento per l'Avviso P...  \n",
              "90  La fonte specifica di risorse economiche del b...  \n",
              "91  L'Avviso pubblico INNOAID - RIAPERTURA offre s...  \n",
              "92  Il presente Avviso emanato dalla Regione inten...  \n",
              "93  L'offerta formativa, articolata secondo le due...  \n",
              "94  I soggetti/organismi formativi ammessi alla pr...  \n",
              "95  Il documento 'Scheda Pass Laureati 2023.pdf' d...  \n",
              "96  In riferimento al documento 'Scheda Pass Laure...  \n",
              "97  pubblicato sul sito www.sistema.puglia.it, è o...  "
            ],
            "text/html": [
              "\n",
              "  <div id=\"df-0dd8f005-1b9a-4b84-8db1-01adc53ed0ed\" class=\"colab-df-container\">\n",
              "    <div>\n",
              "<style scoped>\n",
              "    .dataframe tbody tr th:only-of-type {\n",
              "        vertical-align: middle;\n",
              "    }\n",
              "\n",
              "    .dataframe tbody tr th {\n",
              "        vertical-align: top;\n",
              "    }\n",
              "\n",
              "    .dataframe thead th {\n",
              "        text-align: right;\n",
              "    }\n",
              "</style>\n",
              "<table border=\"1\" class=\"dataframe\">\n",
              "  <thead>\n",
              "    <tr style=\"text-align: right;\">\n",
              "      <th></th>\n",
              "      <th>prompt</th>\n",
              "      <th>completion</th>\n",
              "    </tr>\n",
              "  </thead>\n",
              "  <tbody>\n",
              "    <tr>\n",
              "      <th>78</th>\n",
              "      <td>Quali sono i requisiti necessari per essere am...</td>\n",
              "      <td>In riferimento al documento \"Scheda Avviso Pub...</td>\n",
              "    </tr>\n",
              "    <tr>\n",
              "      <th>79</th>\n",
              "      <td>Quali requisiti devono soddisfare le aziende c...</td>\n",
              "      <td>A partire da agosto 2019, il percorso formativ...</td>\n",
              "    </tr>\n",
              "    <tr>\n",
              "      <th>80</th>\n",
              "      <td>Quali sono i requisiti prescritti dall'avviso ...</td>\n",
              "      <td>Per l'attestazione delle competenze acquisite,...</td>\n",
              "    </tr>\n",
              "    <tr>\n",
              "      <th>81</th>\n",
              "      <td>Quali sono i percorsi previsti dal programma G...</td>\n",
              "      <td>Il programma GOL è un'azione di riforma previs...</td>\n",
              "    </tr>\n",
              "    <tr>\n",
              "      <th>82</th>\n",
              "      <td>Quali sono i soggetti ammessi alla presentazio...</td>\n",
              "      <td>Con Determinazione del 21 settembre 2022 n. 42...</td>\n",
              "    </tr>\n",
              "    <tr>\n",
              "      <th>83</th>\n",
              "      <td>Qual è l'indirizzo di posta elettronica certif...</td>\n",
              "      <td>Le proposte progettuali devono essere trasmess...</td>\n",
              "    </tr>\n",
              "    <tr>\n",
              "      <th>84</th>\n",
              "      <td>Quali sono i requisiti necessari per le impres...</td>\n",
              "      <td>Con Determinazione del 30 dicembre 2022 n. 106...</td>\n",
              "    </tr>\n",
              "    <tr>\n",
              "      <th>85</th>\n",
              "      <td>Quali sono le modalità di partecipazione neces...</td>\n",
              "      <td>Le agevolazioni sono concesse nella forma di u...</td>\n",
              "    </tr>\n",
              "    <tr>\n",
              "      <th>86</th>\n",
              "      <td>Quali sono gli elementi considerati come non s...</td>\n",
              "      <td>Quali sono gli elementi considerati come non s...</td>\n",
              "    </tr>\n",
              "    <tr>\n",
              "      <th>87</th>\n",
              "      <td>Quali sono i requisiti necessari per partecipa...</td>\n",
              "      <td>Scheda Avviso Pubblico: \"Giardiniere d'arte pe...</td>\n",
              "    </tr>\n",
              "    <tr>\n",
              "      <th>88</th>\n",
              "      <td>Quali sono le responsabilità dei Dipartimento ...</td>\n",
              "      <td>Secondo quanto previsto dalla DGR n. 1686 del ...</td>\n",
              "    </tr>\n",
              "    <tr>\n",
              "      <th>89</th>\n",
              "      <td>Qual è il numero di contatto del Responsabile ...</td>\n",
              "      <td>Il Responsabile di Procedimento per l'Avviso P...</td>\n",
              "    </tr>\n",
              "    <tr>\n",
              "      <th>90</th>\n",
              "      <td>Qual è la fonte specifica di risorse economich...</td>\n",
              "      <td>La fonte specifica di risorse economiche del b...</td>\n",
              "    </tr>\n",
              "    <tr>\n",
              "      <th>91</th>\n",
              "      <td>Quali sono i documenti necessari per la partec...</td>\n",
              "      <td>L'Avviso pubblico INNOAID - RIAPERTURA offre s...</td>\n",
              "    </tr>\n",
              "    <tr>\n",
              "      <th>92</th>\n",
              "      <td>Quali sono le modalità di applicazione pratica...</td>\n",
              "      <td>Il presente Avviso emanato dalla Regione inten...</td>\n",
              "    </tr>\n",
              "    <tr>\n",
              "      <th>93</th>\n",
              "      <td>Quali sono i requisiti necessari per iscrivers...</td>\n",
              "      <td>L'offerta formativa, articolata secondo le due...</td>\n",
              "    </tr>\n",
              "    <tr>\n",
              "      <th>94</th>\n",
              "      <td>Quali sono i termini e le modalità di presenta...</td>\n",
              "      <td>I soggetti/organismi formativi ammessi alla pr...</td>\n",
              "    </tr>\n",
              "    <tr>\n",
              "      <th>95</th>\n",
              "      <td>Quali sono i requisiti necessari per poter par...</td>\n",
              "      <td>Il documento 'Scheda Pass Laureati 2023.pdf' d...</td>\n",
              "    </tr>\n",
              "    <tr>\n",
              "      <th>96</th>\n",
              "      <td>Quale servizio è disponibile per assistenza su...</td>\n",
              "      <td>In riferimento al documento 'Scheda Pass Laure...</td>\n",
              "    </tr>\n",
              "    <tr>\n",
              "      <th>97</th>\n",
              "      <td>Quali sono i documenti obbligatori da allegare...</td>\n",
              "      <td>pubblicato sul sito www.sistema.puglia.it, è o...</td>\n",
              "    </tr>\n",
              "  </tbody>\n",
              "</table>\n",
              "</div>\n",
              "    <div class=\"colab-df-buttons\">\n",
              "\n",
              "  <div class=\"colab-df-container\">\n",
              "    <button class=\"colab-df-convert\" onclick=\"convertToInteractive('df-0dd8f005-1b9a-4b84-8db1-01adc53ed0ed')\"\n",
              "            title=\"Convert this dataframe to an interactive table.\"\n",
              "            style=\"display:none;\">\n",
              "\n",
              "  <svg xmlns=\"http://www.w3.org/2000/svg\" height=\"24px\" viewBox=\"0 -960 960 960\">\n",
              "    <path d=\"M120-120v-720h720v720H120Zm60-500h600v-160H180v160Zm220 220h160v-160H400v160Zm0 220h160v-160H400v160ZM180-400h160v-160H180v160Zm440 0h160v-160H620v160ZM180-180h160v-160H180v160Zm440 0h160v-160H620v160Z\"/>\n",
              "  </svg>\n",
              "    </button>\n",
              "\n",
              "  <style>\n",
              "    .colab-df-container {\n",
              "      display:flex;\n",
              "      gap: 12px;\n",
              "    }\n",
              "\n",
              "    .colab-df-convert {\n",
              "      background-color: #E8F0FE;\n",
              "      border: none;\n",
              "      border-radius: 50%;\n",
              "      cursor: pointer;\n",
              "      display: none;\n",
              "      fill: #1967D2;\n",
              "      height: 32px;\n",
              "      padding: 0 0 0 0;\n",
              "      width: 32px;\n",
              "    }\n",
              "\n",
              "    .colab-df-convert:hover {\n",
              "      background-color: #E2EBFA;\n",
              "      box-shadow: 0px 1px 2px rgba(60, 64, 67, 0.3), 0px 1px 3px 1px rgba(60, 64, 67, 0.15);\n",
              "      fill: #174EA6;\n",
              "    }\n",
              "\n",
              "    .colab-df-buttons div {\n",
              "      margin-bottom: 4px;\n",
              "    }\n",
              "\n",
              "    [theme=dark] .colab-df-convert {\n",
              "      background-color: #3B4455;\n",
              "      fill: #D2E3FC;\n",
              "    }\n",
              "\n",
              "    [theme=dark] .colab-df-convert:hover {\n",
              "      background-color: #434B5C;\n",
              "      box-shadow: 0px 1px 3px 1px rgba(0, 0, 0, 0.15);\n",
              "      filter: drop-shadow(0px 1px 2px rgba(0, 0, 0, 0.3));\n",
              "      fill: #FFFFFF;\n",
              "    }\n",
              "  </style>\n",
              "\n",
              "    <script>\n",
              "      const buttonEl =\n",
              "        document.querySelector('#df-0dd8f005-1b9a-4b84-8db1-01adc53ed0ed button.colab-df-convert');\n",
              "      buttonEl.style.display =\n",
              "        google.colab.kernel.accessAllowed ? 'block' : 'none';\n",
              "\n",
              "      async function convertToInteractive(key) {\n",
              "        const element = document.querySelector('#df-0dd8f005-1b9a-4b84-8db1-01adc53ed0ed');\n",
              "        const dataTable =\n",
              "          await google.colab.kernel.invokeFunction('convertToInteractive',\n",
              "                                                    [key], {});\n",
              "        if (!dataTable) return;\n",
              "\n",
              "        const docLinkHtml = 'Like what you see? Visit the ' +\n",
              "          '<a target=\"_blank\" href=https://colab.research.google.com/notebooks/data_table.ipynb>data table notebook</a>'\n",
              "          + ' to learn more about interactive tables.';\n",
              "        element.innerHTML = '';\n",
              "        dataTable['output_type'] = 'display_data';\n",
              "        await google.colab.output.renderOutput(dataTable, element);\n",
              "        const docLink = document.createElement('div');\n",
              "        docLink.innerHTML = docLinkHtml;\n",
              "        element.appendChild(docLink);\n",
              "      }\n",
              "    </script>\n",
              "  </div>\n",
              "\n",
              "\n",
              "<div id=\"df-48720cf1-cebc-4dbe-b586-4ec52efee1a6\">\n",
              "  <button class=\"colab-df-quickchart\" onclick=\"quickchart('df-48720cf1-cebc-4dbe-b586-4ec52efee1a6')\"\n",
              "            title=\"Suggest charts\"\n",
              "            style=\"display:none;\">\n",
              "\n",
              "<svg xmlns=\"http://www.w3.org/2000/svg\" height=\"24px\"viewBox=\"0 0 24 24\"\n",
              "     width=\"24px\">\n",
              "    <g>\n",
              "        <path d=\"M19 3H5c-1.1 0-2 .9-2 2v14c0 1.1.9 2 2 2h14c1.1 0 2-.9 2-2V5c0-1.1-.9-2-2-2zM9 17H7v-7h2v7zm4 0h-2V7h2v10zm4 0h-2v-4h2v4z\"/>\n",
              "    </g>\n",
              "</svg>\n",
              "  </button>\n",
              "\n",
              "<style>\n",
              "  .colab-df-quickchart {\n",
              "      --bg-color: #E8F0FE;\n",
              "      --fill-color: #1967D2;\n",
              "      --hover-bg-color: #E2EBFA;\n",
              "      --hover-fill-color: #174EA6;\n",
              "      --disabled-fill-color: #AAA;\n",
              "      --disabled-bg-color: #DDD;\n",
              "  }\n",
              "\n",
              "  [theme=dark] .colab-df-quickchart {\n",
              "      --bg-color: #3B4455;\n",
              "      --fill-color: #D2E3FC;\n",
              "      --hover-bg-color: #434B5C;\n",
              "      --hover-fill-color: #FFFFFF;\n",
              "      --disabled-bg-color: #3B4455;\n",
              "      --disabled-fill-color: #666;\n",
              "  }\n",
              "\n",
              "  .colab-df-quickchart {\n",
              "    background-color: var(--bg-color);\n",
              "    border: none;\n",
              "    border-radius: 50%;\n",
              "    cursor: pointer;\n",
              "    display: none;\n",
              "    fill: var(--fill-color);\n",
              "    height: 32px;\n",
              "    padding: 0;\n",
              "    width: 32px;\n",
              "  }\n",
              "\n",
              "  .colab-df-quickchart:hover {\n",
              "    background-color: var(--hover-bg-color);\n",
              "    box-shadow: 0 1px 2px rgba(60, 64, 67, 0.3), 0 1px 3px 1px rgba(60, 64, 67, 0.15);\n",
              "    fill: var(--button-hover-fill-color);\n",
              "  }\n",
              "\n",
              "  .colab-df-quickchart-complete:disabled,\n",
              "  .colab-df-quickchart-complete:disabled:hover {\n",
              "    background-color: var(--disabled-bg-color);\n",
              "    fill: var(--disabled-fill-color);\n",
              "    box-shadow: none;\n",
              "  }\n",
              "\n",
              "  .colab-df-spinner {\n",
              "    border: 2px solid var(--fill-color);\n",
              "    border-color: transparent;\n",
              "    border-bottom-color: var(--fill-color);\n",
              "    animation:\n",
              "      spin 1s steps(1) infinite;\n",
              "  }\n",
              "\n",
              "  @keyframes spin {\n",
              "    0% {\n",
              "      border-color: transparent;\n",
              "      border-bottom-color: var(--fill-color);\n",
              "      border-left-color: var(--fill-color);\n",
              "    }\n",
              "    20% {\n",
              "      border-color: transparent;\n",
              "      border-left-color: var(--fill-color);\n",
              "      border-top-color: var(--fill-color);\n",
              "    }\n",
              "    30% {\n",
              "      border-color: transparent;\n",
              "      border-left-color: var(--fill-color);\n",
              "      border-top-color: var(--fill-color);\n",
              "      border-right-color: var(--fill-color);\n",
              "    }\n",
              "    40% {\n",
              "      border-color: transparent;\n",
              "      border-right-color: var(--fill-color);\n",
              "      border-top-color: var(--fill-color);\n",
              "    }\n",
              "    60% {\n",
              "      border-color: transparent;\n",
              "      border-right-color: var(--fill-color);\n",
              "    }\n",
              "    80% {\n",
              "      border-color: transparent;\n",
              "      border-right-color: var(--fill-color);\n",
              "      border-bottom-color: var(--fill-color);\n",
              "    }\n",
              "    90% {\n",
              "      border-color: transparent;\n",
              "      border-bottom-color: var(--fill-color);\n",
              "    }\n",
              "  }\n",
              "</style>\n",
              "\n",
              "  <script>\n",
              "    async function quickchart(key) {\n",
              "      const quickchartButtonEl =\n",
              "        document.querySelector('#' + key + ' button');\n",
              "      quickchartButtonEl.disabled = true;  // To prevent multiple clicks.\n",
              "      quickchartButtonEl.classList.add('colab-df-spinner');\n",
              "      try {\n",
              "        const charts = await google.colab.kernel.invokeFunction(\n",
              "            'suggestCharts', [key], {});\n",
              "      } catch (error) {\n",
              "        console.error('Error during call to suggestCharts:', error);\n",
              "      }\n",
              "      quickchartButtonEl.classList.remove('colab-df-spinner');\n",
              "      quickchartButtonEl.classList.add('colab-df-quickchart-complete');\n",
              "    }\n",
              "    (() => {\n",
              "      let quickchartButtonEl =\n",
              "        document.querySelector('#df-48720cf1-cebc-4dbe-b586-4ec52efee1a6 button');\n",
              "      quickchartButtonEl.style.display =\n",
              "        google.colab.kernel.accessAllowed ? 'block' : 'none';\n",
              "    })();\n",
              "  </script>\n",
              "</div>\n",
              "    </div>\n",
              "  </div>\n"
            ]
          },
          "metadata": {},
          "execution_count": 4
        }
      ]
    },
    {
      "cell_type": "code",
      "execution_count": 5,
      "metadata": {
        "colab": {
          "base_uri": "https://localhost:8080/"
        },
        "id": "ULbhcC5Ou_4l",
        "outputId": "195d7804-43e7-4b76-f87d-96f23f60f2d7"
      },
      "outputs": [
        {
          "output_type": "stream",
          "name": "stdout",
          "text": [
            "Qual è il modo per partecipare all'Avviso MicroPrestito della Regione Puglia? in riferimento al documento: 'Scheda MicroPrestito della Regione Puglia - edizione 2021.pdf'\n"
          ]
        }
      ],
      "source": [
        "query1 = fine_tuning_dataset.prompt[0]\n",
        "print(query1)"
      ]
    },
    {
      "cell_type": "code",
      "execution_count": 6,
      "metadata": {
        "colab": {
          "base_uri": "https://localhost:8080/"
        },
        "id": "Pf03DmQ5v0p4",
        "outputId": "e3b22c1c-fdad-400c-a9be-0c5c42318f85"
      },
      "outputs": [
        {
          "output_type": "stream",
          "name": "stdout",
          "text": [
            "gpt-3.5-turbo\n"
          ]
        }
      ],
      "source": [
        "import datetime\n",
        "current_date = datetime.datetime.now().date()\n",
        "if current_date < datetime.date(2023, 9, 2):\n",
        "    llm_name = \"gpt-3.5-turbo-0301\"\n",
        "else:\n",
        "    llm_name = \"gpt-3.5-turbo\"\n",
        "print(llm_name)"
      ]
    },
    {
      "cell_type": "markdown",
      "metadata": {
        "id": "sGFM8AKB7oLJ"
      },
      "source": [
        "api langsmith per vedere le chiamate"
      ]
    },
    {
      "cell_type": "code",
      "execution_count": 7,
      "metadata": {
        "id": "MqyG91Isv2yJ"
      },
      "outputs": [],
      "source": [
        "import os\n",
        "os.environ[\"LANGCHAIN_TRACING_V2\"] = \"true\"\n",
        "os.environ[\"LANGCHAIN_ENDPOINT\"] = \"https://api.langchain.plus\"\n",
        "os.environ[\"LANGCHAIN_API_KEY\"] = \"ls__0554eeed658141b4a601195abd6c737d\""
      ]
    },
    {
      "cell_type": "markdown",
      "metadata": {
        "id": "-c5TdyrH8Zzc"
      },
      "source": [
        "Carico i documenti ed estraggo il contenuto della pagina e i suoi metadata"
      ]
    },
    {
      "cell_type": "code",
      "execution_count": 6,
      "metadata": {
        "id": "SwqWVatZv5ZU"
      },
      "outputs": [],
      "source": [
        "import os\n",
        "from langchain.document_loaders import PyPDFLoader\n",
        "\n",
        "pdf_directory = \"Tesi/Documenti\"\n",
        "\n",
        "pdf_files = [file for file in os.listdir(pdf_directory) if file.endswith('.pdf')]\n",
        "\n",
        "docs = []\n",
        "\n",
        "for pdf_file in pdf_files:\n",
        "  file_path = os.path.join(pdf_directory, pdf_file)\n",
        "\n",
        "  loader = PyPDFLoader(file_path)\n",
        "  loaded_docs = loader.load()\n",
        "\n",
        "  for doc in loaded_docs:\n",
        "      doc.metadata[\"source\"] = pdf_file\n",
        "      docs.append(doc)\n"
      ]
    },
    {
      "cell_type": "markdown",
      "metadata": {
        "id": "7rPOhuZCyhqr"
      },
      "source": [
        "Documenti che voglio usare: 9-28"
      ]
    },
    {
      "cell_type": "code",
      "execution_count": null,
      "metadata": {
        "id": "tjgyApO1svp7"
      },
      "outputs": [],
      "source": [
        "for i, doc in enumerate(docs):\n",
        "    print(f\"{i} {doc.metadata['source']} {doc.metadata['page']}\")"
      ]
    },
    {
      "cell_type": "markdown",
      "metadata": {
        "id": "nR5RxR5mfncQ"
      },
      "source": [
        "Documenti su cui provo a fare il labeling"
      ]
    },
    {
      "cell_type": "code",
      "execution_count": null,
      "metadata": {
        "id": "IVa0vISxzDPc"
      },
      "outputs": [],
      "source": [
        "test_docs = []\n",
        "\n",
        "for doc in docs:\n",
        "  if doc.metadata['source'] == 'Aiuti agli Investimenti delle Piccole e Medie Imprese (Titolo II Capo 3 Reg_ Regionale 17_2014)_br ___br __.pdf':\n",
        "    test_docs.append(doc)\n",
        "  if doc.metadata['source'] == 'Programmi Integrati di Agevolazioni PIA Piccole Imprese (Art_ 27 Reg_ Regionale 17_2014 e s_m_i_).pdf':\n",
        "    test_docs.append(doc)\n",
        "  if doc.metadata['source'] == 'Contratti di Programma per Grandi Imprese Singole o con PMI aderenti (Art_ 17 Reg_ Regionale 17_2014 e s_m_i_).pdf':\n",
        "    test_docs.append(doc)"
      ]
    },
    {
      "cell_type": "code",
      "execution_count": null,
      "metadata": {
        "colab": {
          "base_uri": "https://localhost:8080/"
        },
        "id": "LL1YYPrES1bC",
        "outputId": "0c8d0b06-9267-41ee-c46b-0671bc511476"
      },
      "outputs": [
        {
          "output_type": "stream",
          "name": "stdout",
          "text": [
            "0 Aiuti agli Investimenti delle Piccole e Medie Imprese (Titolo II Capo 3 Reg_ Regionale 17_2014)_br ___br __.pdf 0\n",
            "1 Aiuti agli Investimenti delle Piccole e Medie Imprese (Titolo II Capo 3 Reg_ Regionale 17_2014)_br ___br __.pdf 1\n",
            "2 Aiuti agli Investimenti delle Piccole e Medie Imprese (Titolo II Capo 3 Reg_ Regionale 17_2014)_br ___br __.pdf 2\n",
            "3 Aiuti agli Investimenti delle Piccole e Medie Imprese (Titolo II Capo 3 Reg_ Regionale 17_2014)_br ___br __.pdf 3\n",
            "4 Aiuti agli Investimenti delle Piccole e Medie Imprese (Titolo II Capo 3 Reg_ Regionale 17_2014)_br ___br __.pdf 4\n",
            "5 Aiuti agli Investimenti delle Piccole e Medie Imprese (Titolo II Capo 3 Reg_ Regionale 17_2014)_br ___br __.pdf 5\n",
            "6 Aiuti agli Investimenti delle Piccole e Medie Imprese (Titolo II Capo 3 Reg_ Regionale 17_2014)_br ___br __.pdf 6\n",
            "7 Aiuti agli Investimenti delle Piccole e Medie Imprese (Titolo II Capo 3 Reg_ Regionale 17_2014)_br ___br __.pdf 7\n",
            "8 Aiuti agli Investimenti delle Piccole e Medie Imprese (Titolo II Capo 3 Reg_ Regionale 17_2014)_br ___br __.pdf 8\n",
            "9 Aiuti agli Investimenti delle Piccole e Medie Imprese (Titolo II Capo 3 Reg_ Regionale 17_2014)_br ___br __.pdf 9\n",
            "10 Contratti di Programma per Grandi Imprese Singole o con PMI aderenti (Art_ 17 Reg_ Regionale 17_2014 e s_m_i_).pdf 0\n",
            "11 Contratti di Programma per Grandi Imprese Singole o con PMI aderenti (Art_ 17 Reg_ Regionale 17_2014 e s_m_i_).pdf 1\n",
            "12 Contratti di Programma per Grandi Imprese Singole o con PMI aderenti (Art_ 17 Reg_ Regionale 17_2014 e s_m_i_).pdf 2\n",
            "13 Contratti di Programma per Grandi Imprese Singole o con PMI aderenti (Art_ 17 Reg_ Regionale 17_2014 e s_m_i_).pdf 3\n",
            "14 Contratti di Programma per Grandi Imprese Singole o con PMI aderenti (Art_ 17 Reg_ Regionale 17_2014 e s_m_i_).pdf 4\n",
            "15 Contratti di Programma per Grandi Imprese Singole o con PMI aderenti (Art_ 17 Reg_ Regionale 17_2014 e s_m_i_).pdf 5\n",
            "16 Contratti di Programma per Grandi Imprese Singole o con PMI aderenti (Art_ 17 Reg_ Regionale 17_2014 e s_m_i_).pdf 6\n",
            "17 Contratti di Programma per Grandi Imprese Singole o con PMI aderenti (Art_ 17 Reg_ Regionale 17_2014 e s_m_i_).pdf 7\n",
            "18 Programmi Integrati di Agevolazioni PIA Piccole Imprese (Art_ 27 Reg_ Regionale 17_2014 e s_m_i_).pdf 0\n",
            "19 Programmi Integrati di Agevolazioni PIA Piccole Imprese (Art_ 27 Reg_ Regionale 17_2014 e s_m_i_).pdf 1\n",
            "20 Programmi Integrati di Agevolazioni PIA Piccole Imprese (Art_ 27 Reg_ Regionale 17_2014 e s_m_i_).pdf 2\n",
            "21 Programmi Integrati di Agevolazioni PIA Piccole Imprese (Art_ 27 Reg_ Regionale 17_2014 e s_m_i_).pdf 3\n",
            "22 Programmi Integrati di Agevolazioni PIA Piccole Imprese (Art_ 27 Reg_ Regionale 17_2014 e s_m_i_).pdf 4\n",
            "23 Programmi Integrati di Agevolazioni PIA Piccole Imprese (Art_ 27 Reg_ Regionale 17_2014 e s_m_i_).pdf 5\n",
            "24 Programmi Integrati di Agevolazioni PIA Piccole Imprese (Art_ 27 Reg_ Regionale 17_2014 e s_m_i_).pdf 6\n",
            "25 Programmi Integrati di Agevolazioni PIA Piccole Imprese (Art_ 27 Reg_ Regionale 17_2014 e s_m_i_).pdf 7\n"
          ]
        }
      ],
      "source": [
        "for i, doc in enumerate(test_docs):\n",
        "    print(f\"{i} {doc.metadata['source']} {doc.metadata['page']}\")"
      ]
    },
    {
      "cell_type": "markdown",
      "metadata": {
        "id": "kzpV8YSsfytm"
      },
      "source": [
        "Funzione che conta i token che gpt-3.5-turbo userà per il testo."
      ]
    },
    {
      "cell_type": "code",
      "execution_count": 8,
      "metadata": {
        "id": "Di6KdLU4fyPB"
      },
      "outputs": [],
      "source": [
        "import tiktoken\n",
        "\n",
        "tokenizer = tiktoken.get_encoding('cl100k_base')\n",
        "\n",
        "# create the length function\n",
        "def tiktoken_len(text):\n",
        "    tokens = tokenizer.encode(\n",
        "        text,\n",
        "        disallowed_special=()\n",
        "    )\n",
        "    return len(tokens)"
      ]
    },
    {
      "cell_type": "code",
      "execution_count": null,
      "metadata": {
        "id": "yVl10NZdkso9"
      },
      "outputs": [],
      "source": [
        "token_counts = [tiktoken_len(doc.page_content) for doc in test_docs]"
      ]
    },
    {
      "cell_type": "code",
      "execution_count": null,
      "metadata": {
        "colab": {
          "base_uri": "https://localhost:8080/"
        },
        "id": "6Rh3AxmflEUm",
        "outputId": "d2750c0c-47bc-4624-b89f-283cc4f4bfab"
      },
      "outputs": [
        {
          "output_type": "stream",
          "name": "stdout",
          "text": [
            "Min: 383\n",
            "Avg: 855\n",
            "Max: 1033\n"
          ]
        }
      ],
      "source": [
        "print(f\"\"\"Min: {min(token_counts)}\n",
        "Avg: {int(sum(token_counts) / len(token_counts))}\n",
        "Max: {max(token_counts)}\"\"\")"
      ]
    },
    {
      "cell_type": "markdown",
      "metadata": {
        "id": "JAYpIno5lU-O"
      },
      "source": [
        "Plottiamo il contatore di token per vedere la frequenza di quanti token hanno le pagine"
      ]
    },
    {
      "cell_type": "code",
      "execution_count": null,
      "metadata": {
        "colab": {
          "base_uri": "https://localhost:8080/",
          "height": 564
        },
        "id": "AUiExAfzlNws",
        "outputId": "13ec96f2-707e-4d31-f433-56378dc0a2f1"
      },
      "outputs": [
        {
          "output_type": "display_data",
          "data": {
            "text/plain": [
              "<Figure size 1200x600 with 1 Axes>"
            ],
            "image/png": "[encoded data removed]"
          },
          "metadata": {}
        }
      ],
      "source": [
        "import matplotlib.pyplot as plt\n",
        "import seaborn as sns\n",
        "\n",
        "sns.set_style(\"whitegrid\")\n",
        "sns.set_palette(\"muted\")\n",
        "\n",
        "plt.figure(figsize=(12, 6))\n",
        "sns.histplot(token_counts, kde=False, bins=50)\n",
        "\n",
        "plt.title(\"Token Counts Histogram\")\n",
        "plt.xlabel(\"Token Count\")\n",
        "plt.ylabel(\"Frequency\")\n",
        "\n",
        "plt.show()"
      ]
    },
    {
      "cell_type": "markdown",
      "metadata": {
        "id": "3-Nz1yMqll8d"
      },
      "source": [
        "Andiamo a fare il labelling con create_metadata_tagger per trovare il Tipo di impresa a cui si riferisce il chunk"
      ]
    },
    {
      "cell_type": "code",
      "execution_count": null,
      "metadata": {
        "id": "ckO_c19c8tsI"
      },
      "outputs": [],
      "source": [
        "from langchain.prompts import ChatPromptTemplate\n",
        "\n",
        "from langchain.chat_models import ChatOpenAI\n",
        "from langchain.document_transformers.openai_functions import create_metadata_tagger\n",
        "from langchain.schema import Document\n",
        "from typing import Literal\n",
        "\n",
        "from pydantic import BaseModel, Field\n",
        "\n",
        "prompt = ChatPromptTemplate.from_template(\n",
        "    \"\"\"Identifica il tipo di impresa a cui è riferito il documento e specifica se è \"Piccole Imprese\", \"Medie Imprese\", \"Grandi Imprese\" se nessuna delle tre \"Non classificato\" se a entrambi \"Piccole e Medie Imprese\":\n",
        "{input}\n",
        "\"\"\"\n",
        ")\n",
        "\n",
        "class Properties(BaseModel):\n",
        "    Tipo_Imprese: Literal['Non classificato', 'Piccole Imprese','Piccole e Medie Imprese', 'Medie Imprese', 'Grandi Imprese']\n",
        "\n",
        "# Must be an OpenAI model that supports functions\n",
        "llm = ChatOpenAI(temperature=0, model=\"gpt-3.5-turbo-0613\")\n",
        "\n",
        "document_transformer = create_metadata_tagger(Properties, llm=llm, prompt = prompt)\n",
        "\n",
        "enhanced_documents = document_transformer.transform_documents(test_docs)"
      ]
    },
    {
      "cell_type": "code",
      "execution_count": null,
      "metadata": {
        "colab": {
          "base_uri": "https://localhost:8080/"
        },
        "id": "IMZUU2eH0Boo",
        "outputId": "f42284eb-cb00-4587-8c49-e805ac901ec1"
      },
      "outputs": [
        {
          "output_type": "stream",
          "name": "stdout",
          "text": [
            "0 {'Tipo_Imprese': 'Piccole e Medie Imprese', 'source': 'Aiuti agli Investimenti delle Piccole e Medie Imprese (Titolo II Capo 3 Reg_ Regionale 17_2014)_br ___br __.pdf', 'page': 0}\n",
            "1 {'Tipo_Imprese': 'Non classificato', 'source': 'Aiuti agli Investimenti delle Piccole e Medie Imprese (Titolo II Capo 3 Reg_ Regionale 17_2014)_br ___br __.pdf', 'page': 1}\n",
            "2 {'Tipo_Imprese': 'Non classificato', 'source': 'Aiuti agli Investimenti delle Piccole e Medie Imprese (Titolo II Capo 3 Reg_ Regionale 17_2014)_br ___br __.pdf', 'page': 2}\n",
            "3 {'Tipo_Imprese': 'Non classificato', 'source': 'Aiuti agli Investimenti delle Piccole e Medie Imprese (Titolo II Capo 3 Reg_ Regionale 17_2014)_br ___br __.pdf', 'page': 3}\n",
            "4 {'Tipo_Imprese': 'Non classificato', 'source': 'Aiuti agli Investimenti delle Piccole e Medie Imprese (Titolo II Capo 3 Reg_ Regionale 17_2014)_br ___br __.pdf', 'page': 4}\n",
            "5 {'Tipo_Imprese': 'Non classificato', 'source': 'Aiuti agli Investimenti delle Piccole e Medie Imprese (Titolo II Capo 3 Reg_ Regionale 17_2014)_br ___br __.pdf', 'page': 5}\n",
            "6 {'Tipo_Imprese': 'Non classificato', 'source': 'Aiuti agli Investimenti delle Piccole e Medie Imprese (Titolo II Capo 3 Reg_ Regionale 17_2014)_br ___br __.pdf', 'page': 6}\n",
            "7 {'Tipo_Imprese': 'Piccole Imprese', 'source': 'Aiuti agli Investimenti delle Piccole e Medie Imprese (Titolo II Capo 3 Reg_ Regionale 17_2014)_br ___br __.pdf', 'page': 7}\n",
            "8 {'Tipo_Imprese': 'Non classificato', 'source': 'Aiuti agli Investimenti delle Piccole e Medie Imprese (Titolo II Capo 3 Reg_ Regionale 17_2014)_br ___br __.pdf', 'page': 8}\n",
            "9 {'Tipo_Imprese': 'Non classificato', 'source': 'Aiuti agli Investimenti delle Piccole e Medie Imprese (Titolo II Capo 3 Reg_ Regionale 17_2014)_br ___br __.pdf', 'page': 9}\n",
            "10 {'Tipo_Imprese': 'Grandi Imprese', 'source': 'Contratti di Programma per Grandi Imprese Singole o con PMI aderenti (Art_ 17 Reg_ Regionale 17_2014 e s_m_i_).pdf', 'page': 0}\n",
            "11 {'Tipo_Imprese': 'Non classificato', 'source': 'Contratti di Programma per Grandi Imprese Singole o con PMI aderenti (Art_ 17 Reg_ Regionale 17_2014 e s_m_i_).pdf', 'page': 1}\n",
            "12 {'Tipo_Imprese': 'Non classificato', 'source': 'Contratti di Programma per Grandi Imprese Singole o con PMI aderenti (Art_ 17 Reg_ Regionale 17_2014 e s_m_i_).pdf', 'page': 2}\n",
            "13 {'Tipo_Imprese': 'Non classificato', 'source': 'Contratti di Programma per Grandi Imprese Singole o con PMI aderenti (Art_ 17 Reg_ Regionale 17_2014 e s_m_i_).pdf', 'page': 3}\n",
            "14 {'Tipo_Imprese': 'Non classificato', 'source': 'Contratti di Programma per Grandi Imprese Singole o con PMI aderenti (Art_ 17 Reg_ Regionale 17_2014 e s_m_i_).pdf', 'page': 4}\n",
            "15 {'Tipo_Imprese': 'Non classificato', 'source': 'Contratti di Programma per Grandi Imprese Singole o con PMI aderenti (Art_ 17 Reg_ Regionale 17_2014 e s_m_i_).pdf', 'page': 5}\n",
            "16 {'Tipo_Imprese': 'Non classificato', 'source': 'Contratti di Programma per Grandi Imprese Singole o con PMI aderenti (Art_ 17 Reg_ Regionale 17_2014 e s_m_i_).pdf', 'page': 6}\n",
            "17 {'Tipo_Imprese': 'Non classificato', 'source': 'Contratti di Programma per Grandi Imprese Singole o con PMI aderenti (Art_ 17 Reg_ Regionale 17_2014 e s_m_i_).pdf', 'page': 7}\n",
            "18 {'Tipo_Imprese': 'Piccole Imprese', 'source': 'Programmi Integrati di Agevolazioni PIA Piccole Imprese (Art_ 27 Reg_ Regionale 17_2014 e s_m_i_).pdf', 'page': 0}\n",
            "19 {'Tipo_Imprese': 'Non classificato', 'source': 'Programmi Integrati di Agevolazioni PIA Piccole Imprese (Art_ 27 Reg_ Regionale 17_2014 e s_m_i_).pdf', 'page': 1}\n",
            "20 {'Tipo_Imprese': 'Non classificato', 'source': 'Programmi Integrati di Agevolazioni PIA Piccole Imprese (Art_ 27 Reg_ Regionale 17_2014 e s_m_i_).pdf', 'page': 2}\n",
            "21 {'Tipo_Imprese': 'Piccole Imprese', 'source': 'Programmi Integrati di Agevolazioni PIA Piccole Imprese (Art_ 27 Reg_ Regionale 17_2014 e s_m_i_).pdf', 'page': 3}\n",
            "22 {'Tipo_Imprese': 'Piccole Imprese', 'source': 'Programmi Integrati di Agevolazioni PIA Piccole Imprese (Art_ 27 Reg_ Regionale 17_2014 e s_m_i_).pdf', 'page': 4}\n",
            "23 {'Tipo_Imprese': 'Piccole Imprese', 'source': 'Programmi Integrati di Agevolazioni PIA Piccole Imprese (Art_ 27 Reg_ Regionale 17_2014 e s_m_i_).pdf', 'page': 5}\n",
            "24 {'Tipo_Imprese': 'Non classificato', 'source': 'Programmi Integrati di Agevolazioni PIA Piccole Imprese (Art_ 27 Reg_ Regionale 17_2014 e s_m_i_).pdf', 'page': 6}\n",
            "25 {'Tipo_Imprese': 'Non classificato', 'source': 'Programmi Integrati di Agevolazioni PIA Piccole Imprese (Art_ 27 Reg_ Regionale 17_2014 e s_m_i_).pdf', 'page': 7}\n"
          ]
        }
      ],
      "source": [
        "for i, doc in enumerate(enhanced_documents):\n",
        "    print(f\"{i} {doc.metadata}\")"
      ]
    },
    {
      "cell_type": "code",
      "execution_count": null,
      "metadata": {
        "id": "Arw_d1qjYfTX"
      },
      "outputs": [],
      "source": [
        "import pickle\n",
        "\n",
        "with open('./Metadata_tagging_RAG/documenti_labellati_start.pkl', 'wb') as file:\n",
        "    pickle.dump(enhanced_documents, file)\n"
      ]
    },
    {
      "cell_type": "code",
      "source": [
        "import pickle\n",
        "with open('./Metadata_tagging_RAG/documenti_labellati_start.pkl', 'rb') as file:\n",
        "    enhanced_documents = pickle.load(file)\n"
      ],
      "metadata": {
        "id": "Kbp-5p0kjS2j"
      },
      "execution_count": 9,
      "outputs": []
    },
    {
      "cell_type": "code",
      "execution_count": 10,
      "metadata": {
        "id": "TmVin25mSc6T"
      },
      "outputs": [],
      "source": [
        "label = None\n",
        "source = None\n",
        "\n",
        "for doc in enhanced_documents:\n",
        "  current_source = doc.metadata['source']\n",
        "  current_label = doc.metadata['Tipo_Imprese']\n",
        "\n",
        "  if current_label == 'Non classificato' and current_source == source:\n",
        "    doc.metadata['Tipo_Imprese'] = label\n",
        "\n",
        "  label = current_label\n",
        "  source = current_source\n"
      ]
    },
    {
      "cell_type": "markdown",
      "metadata": {
        "id": "e3qzcGWpVtok"
      },
      "source": [
        "Ho fatto un post-processing assegnando la label precedente al documento Non classificato successivo"
      ]
    },
    {
      "cell_type": "code",
      "execution_count": 11,
      "metadata": {
        "colab": {
          "base_uri": "https://localhost:8080/"
        },
        "id": "UlWPrydgVpnl",
        "outputId": "ff926188-1811-42ad-b401-3f1dcc15e2f7"
      },
      "outputs": [
        {
          "output_type": "stream",
          "name": "stdout",
          "text": [
            "0 {'Tipo_Imprese': 'Piccole e Medie Imprese', 'source': 'Aiuti agli Investimenti delle Piccole e Medie Imprese (Titolo II Capo 3 Reg_ Regionale 17_2014)_br ___br __.pdf', 'page': 0}\n",
            "1 {'Tipo_Imprese': 'Piccole e Medie Imprese', 'source': 'Aiuti agli Investimenti delle Piccole e Medie Imprese (Titolo II Capo 3 Reg_ Regionale 17_2014)_br ___br __.pdf', 'page': 1}\n",
            "2 {'Tipo_Imprese': 'Non classificato', 'source': 'Aiuti agli Investimenti delle Piccole e Medie Imprese (Titolo II Capo 3 Reg_ Regionale 17_2014)_br ___br __.pdf', 'page': 2}\n",
            "3 {'Tipo_Imprese': 'Non classificato', 'source': 'Aiuti agli Investimenti delle Piccole e Medie Imprese (Titolo II Capo 3 Reg_ Regionale 17_2014)_br ___br __.pdf', 'page': 3}\n",
            "4 {'Tipo_Imprese': 'Non classificato', 'source': 'Aiuti agli Investimenti delle Piccole e Medie Imprese (Titolo II Capo 3 Reg_ Regionale 17_2014)_br ___br __.pdf', 'page': 4}\n",
            "5 {'Tipo_Imprese': 'Non classificato', 'source': 'Aiuti agli Investimenti delle Piccole e Medie Imprese (Titolo II Capo 3 Reg_ Regionale 17_2014)_br ___br __.pdf', 'page': 5}\n",
            "6 {'Tipo_Imprese': 'Non classificato', 'source': 'Aiuti agli Investimenti delle Piccole e Medie Imprese (Titolo II Capo 3 Reg_ Regionale 17_2014)_br ___br __.pdf', 'page': 6}\n",
            "7 {'Tipo_Imprese': 'Piccole Imprese', 'source': 'Aiuti agli Investimenti delle Piccole e Medie Imprese (Titolo II Capo 3 Reg_ Regionale 17_2014)_br ___br __.pdf', 'page': 7}\n",
            "8 {'Tipo_Imprese': 'Piccole Imprese', 'source': 'Aiuti agli Investimenti delle Piccole e Medie Imprese (Titolo II Capo 3 Reg_ Regionale 17_2014)_br ___br __.pdf', 'page': 8}\n",
            "9 {'Tipo_Imprese': 'Non classificato', 'source': 'Aiuti agli Investimenti delle Piccole e Medie Imprese (Titolo II Capo 3 Reg_ Regionale 17_2014)_br ___br __.pdf', 'page': 9}\n",
            "10 {'Tipo_Imprese': 'Grandi Imprese', 'source': 'Contratti di Programma per Grandi Imprese Singole o con PMI aderenti (Art_ 17 Reg_ Regionale 17_2014 e s_m_i_).pdf', 'page': 0}\n",
            "11 {'Tipo_Imprese': 'Grandi Imprese', 'source': 'Contratti di Programma per Grandi Imprese Singole o con PMI aderenti (Art_ 17 Reg_ Regionale 17_2014 e s_m_i_).pdf', 'page': 1}\n",
            "12 {'Tipo_Imprese': 'Non classificato', 'source': 'Contratti di Programma per Grandi Imprese Singole o con PMI aderenti (Art_ 17 Reg_ Regionale 17_2014 e s_m_i_).pdf', 'page': 2}\n",
            "13 {'Tipo_Imprese': 'Non classificato', 'source': 'Contratti di Programma per Grandi Imprese Singole o con PMI aderenti (Art_ 17 Reg_ Regionale 17_2014 e s_m_i_).pdf', 'page': 3}\n",
            "14 {'Tipo_Imprese': 'Non classificato', 'source': 'Contratti di Programma per Grandi Imprese Singole o con PMI aderenti (Art_ 17 Reg_ Regionale 17_2014 e s_m_i_).pdf', 'page': 4}\n",
            "15 {'Tipo_Imprese': 'Non classificato', 'source': 'Contratti di Programma per Grandi Imprese Singole o con PMI aderenti (Art_ 17 Reg_ Regionale 17_2014 e s_m_i_).pdf', 'page': 5}\n",
            "16 {'Tipo_Imprese': 'Non classificato', 'source': 'Contratti di Programma per Grandi Imprese Singole o con PMI aderenti (Art_ 17 Reg_ Regionale 17_2014 e s_m_i_).pdf', 'page': 6}\n",
            "17 {'Tipo_Imprese': 'Non classificato', 'source': 'Contratti di Programma per Grandi Imprese Singole o con PMI aderenti (Art_ 17 Reg_ Regionale 17_2014 e s_m_i_).pdf', 'page': 7}\n",
            "18 {'Tipo_Imprese': 'Piccole Imprese', 'source': 'Programmi Integrati di Agevolazioni PIA Piccole Imprese (Art_ 27 Reg_ Regionale 17_2014 e s_m_i_).pdf', 'page': 0}\n",
            "19 {'Tipo_Imprese': 'Piccole Imprese', 'source': 'Programmi Integrati di Agevolazioni PIA Piccole Imprese (Art_ 27 Reg_ Regionale 17_2014 e s_m_i_).pdf', 'page': 1}\n",
            "20 {'Tipo_Imprese': 'Non classificato', 'source': 'Programmi Integrati di Agevolazioni PIA Piccole Imprese (Art_ 27 Reg_ Regionale 17_2014 e s_m_i_).pdf', 'page': 2}\n",
            "21 {'Tipo_Imprese': 'Piccole Imprese', 'source': 'Programmi Integrati di Agevolazioni PIA Piccole Imprese (Art_ 27 Reg_ Regionale 17_2014 e s_m_i_).pdf', 'page': 3}\n",
            "22 {'Tipo_Imprese': 'Piccole Imprese', 'source': 'Programmi Integrati di Agevolazioni PIA Piccole Imprese (Art_ 27 Reg_ Regionale 17_2014 e s_m_i_).pdf', 'page': 4}\n",
            "23 {'Tipo_Imprese': 'Piccole Imprese', 'source': 'Programmi Integrati di Agevolazioni PIA Piccole Imprese (Art_ 27 Reg_ Regionale 17_2014 e s_m_i_).pdf', 'page': 5}\n",
            "24 {'Tipo_Imprese': 'Piccole Imprese', 'source': 'Programmi Integrati di Agevolazioni PIA Piccole Imprese (Art_ 27 Reg_ Regionale 17_2014 e s_m_i_).pdf', 'page': 6}\n",
            "25 {'Tipo_Imprese': 'Non classificato', 'source': 'Programmi Integrati di Agevolazioni PIA Piccole Imprese (Art_ 27 Reg_ Regionale 17_2014 e s_m_i_).pdf', 'page': 7}\n"
          ]
        }
      ],
      "source": [
        "for i, doc in enumerate(enhanced_documents):\n",
        "    print(f\"{i} {doc.metadata}\")"
      ]
    },
    {
      "cell_type": "markdown",
      "metadata": {
        "id": "4LkS62gMnQHn"
      },
      "source": [
        "#Chunking the Text\n",
        "gpt-3.5-turbo supporta un insieme di 4096 tokens — ciò significa che i token di input + i token di output generati (/completion) non possono totalizzare più di 4096 senza andare in errore.\n",
        "\n",
        "Quindi dobbiamo mantenerci al di sotto di questo valore al 100%. Se assumiamo un margine  di ~ 2000 token per il prompt di input in gpt-3.5-turbo, lasciando ~ 2000 token per la conversation history e il completamento della conversazione.\n",
        "\n",
        "Con questo limite di ~2000 token potremmo voler includere cinque chunk di informazioni rilevanti, il che significa che ogni chunk non può essere lungo più di 450 token.\n",
        "\n",
        "Per creare questi chunk utilizziamo RecursiveCharacterTextSplitter di LangChain. Per misurare la lunghezza degli snippet abbiamo bisogno anche di una funzione di lunghezza. Questa è una funzione che conta il numero di token all'interno del testo (dopo la tokenizzazione utilizzando il tokenizer gpt-3.5-turbo) e restituisce quel numero.\n",
        "\n",
        "La funzione salverà anche i metadata"
      ]
    },
    {
      "cell_type": "code",
      "execution_count": 12,
      "metadata": {
        "id": "mgx9_rSqwhN0",
        "colab": {
          "base_uri": "https://localhost:8080/"
        },
        "outputId": "16a5e3c1-a129-4e6a-daee-4bfdc61760a4"
      },
      "outputs": [
        {
          "output_type": "stream",
          "name": "stdout",
          "text": [
            "page_content='puglia sviluppo  \\n \\n \\nUNIONE  EUROPEA  \\nFONDO  EUROPEO  DI SVILUPPO  REGIONALE   \\nMinistero  Sviluppo  Economico   \\nREGIONE  PUGLIA  \\nDIPARTIMENTO  SVILUPPO  ECONOMICO,  \\n  INNOVAZIONE,  ISTRUZIONE,   \\nFORMAZIONE  E LAVORO \\n \\n1 \\n \\nAiuti  agli Investimenti  delle  Piccole  e \\nMedie  Imprese  (Titolo  II Capo  3 Reg. \\nRegionale  17/2014)  \\n \\nAvviso  a sportello  a partire  dal 22/01/2015  \\nLa gestione  del presente  strumento  è di competenza  della Regione  Puglia  che, \\nad eccezione  della fase di erogazione  dei contributi,  procederà  all’attuazione  \\nmediante  Puglia  Sviluppo  SpA, in qualità  di Soggetto  Intermediario.   \\n \\nCosa  trovo  in questa  scheda?  \\nQuesta  scheda  contiene  alcune  informazioni  sullo strumento  finanziario  “Aiuti  \\nAgli Investimenti  delle piccole  e medie  imprese”  rivolto  ad imprese  di piccola  e \\nmedia  dimensione  che intendano  realizzare  un investimento  nel territorio  della \\nRegione  Puglia.  \\nL’obiettivo  di questa  scheda  è fornire  un primo  orientamento  su questa  \\nopportunità.  \\nNota bene:  le informazioni  presenti  in questa  scheda  sono puramente  indicative  \\ne potrebbero  subire  variazioni.  Invitiamo  tutte le persone  interessate  a prendere  \\nvisione  del bando  pubblicato  sul Bollettino  Ufficiale  della Regione  Puglia  del'\n",
            "page_content='31/12/2014  n. 177 e successive  modifiche  e integrazioni  e sul sito \\nwww.sistema.puglia.it/titoloIIcapo3 . \\n \\nChi può richiedere  l’agevolazione?  \\nPuò richiedere  l’agevolazione:  \\n1. microimprese  (impresa  che occupa  meno  di 10 persone,  realizza  un \\nfatturato  annuo  o un totale  di bilancio  annuo  non superiori  a 2 milioni  di \\neuro);  \\n2. imprese  di piccole  dimensioni  (impresa  che occupa  meno  di 50 persone  e \\nrealizza  un fatturato  annuo  o un totale  di bilancio  non superiori  a 10 milioni  \\ndi euro);  \\n3. imprese  di medie  dimensioni:  che occupa  meno  di 250 persone,  realizza  \\nun fatturato  annuo  non superiore  a 50 milioni  di euro oppure  il totale  di \\nbilancio  annuo  non supera  i 43 milioni  di euro.  \\n4. liberi professionisti,  in quanto  equiparati  alle piccole  e medie  imprese  come  \\nesercenti  attività  economica,  secondo  l’art. 12, legge  22 maggio  2017,  n. \\n81.'\n",
            "page_content='puglia sviluppo  \\n \\n \\nUNIONE  EUROPEA  \\nFONDO  EUROPEO  DI SVILUPPO  REGIONALE   \\nMinistero  Sviluppo  Economico   \\nREGIONE  PUGLIA  \\nDIPARTIMENTO  SVILUPPO  ECONOMICO,  \\n  INNOVAZIONE,  ISTRUZIONE,   \\nFORMAZIONE  E LAVORO \\n \\n2 \\n \\nQuali  attività  posso  realizzare  con l’aiuto  del Titolo  \\nII capo  3? \\nCon il Titolo  II capo 3 si possono  realizzare  investimenti  in unità locali \\nubicate/da  ubicare  nel territorio  della Regione  Puglia  e riguardanti  Progetti  \\ndi investimento  di importo  non inferiori  a € 30.000,00  per: \\n• la creazione  di una nuova  unità produttiva;  \\n• l’ampliamento  di una unità produttiva  esistente;  \\n• diversificazione  della produzione  di uno stabilimento  esistente  per \\nottenere  prodotti  mai fabbricati  precedentemente ; \\n• il cambiamento  fondamentale  del processo  di produzione  complessivo  \\ndi un’unità  produttiva  esistente  \\nSono ammissibili  gli investimenti  riguardanti:  \\na. imprese  artigiane,  costituite  anche  in forma  coopera tiva o consortile, \\niscritte negli albi di cui alla legge  443/85  (legge quadro sull’artigianato);  \\nb. impres e che realizzano  programm i di investimento nel settore del \\ncommercio:  \\no eserci zi commerci ali di vendita al dettaglio ed all’ingrosso  classificati \\nesercizi di vicinato  (esercizi  con superficie  di vendita  non superiore  a 250'\n",
            "page_content='mq); \\no esercizi  commerci ali di vendita al dettaglio ed all’ingrosso classi ficati \\nM1. Medie strutture  di livello  locale con superf icie di vendita  da 251 a \\n600 mq (LR n. 11/200 3); \\no esercizi  commerci ali di vendita al dettaglio ed all’ingrosso classi ficati \\nM2. Medie strutture  di livello  locale con superf icie di vendita  da 601 a \\n1.500 mq (LR n. 11/200 3); \\no esercizi  commerciali  di vendita  al dettaglio  ed all’ingrosso  classificati  M3. \\nmedie  strutture  attrattive  con superficie  di vendita  da 1501 a 2500 mq \\n(LR n. 11/200 3); \\no servizi  di ristorazione  di cui al gruppo  “56” della “Classificazione delle \\nAttività economiche  ATECO  2007”, ad eccezione  delle categorie  “56.10.4”  \\ne “56.10.5”;  \\no attività di commerc io elettron ico; per comm ercio elettronico si intende  \\nl’attività commerciale  - ovvero  quella  di acquisto  di merci  in nome  e \\nper conto  proprio  e la loro rivendita – svolta tramite la rete internet, \\nmedia nte l’utilizzo di un portale o sito web (e-commerce).'\n",
            "page_content='puglia sviluppo  \\n \\n \\nUNIONE  EUROPEA  \\nFONDO  EUROPEO  DI SVILUPPO  REGIONALE   \\nMinistero  Sviluppo  Economico   \\nREGIONE  PUGLIA  \\nDIPARTIMENTO  SVILUPPO  ECONOMICO,  \\n  INNOVAZIONE,  ISTRUZIONE,   \\nFORMAZIONE  E LAVORO \\n \\n3 \\n \\nc. imprese  che realizzano  investimenti  in alcune  attività  economiche  delle \\nseguenti  divisioni  della “Classificazione  delle Attività  economiche  ATECO  \\n2007:  \\no sezione  “C”: imprese,  non iscritte  negli albi di cui alla legge  443/85,  \\nche realizzano  investimenti  riguardanti  il settore  delle attività  \\nmanifatturiere;  \\no sezione  “E”: settore  fornitura  di acqua,  reti fognarie,  attività  di \\ntrattamento  dei rifiuti e risanamento;  \\no sezione  “F”: settore  delle costruzioni;  \\no sezione  “J”: settore  dei servizi  di comunicazione  ed informazione ; \\no sezione  “Q”: sanità  e assistenza  sociale;  \\no sezione  “R”: settore  Attività  artistiche,  di intrattenimento  e divertimento . \\nd. Liberi  professionisti  che svolgono  le attività  disciplinate  da apposite  leggi \\nprofessionali  o quelle  regolamentate  dalla legge  n. 4 del 14 gennaio  2013 \\n(“disposizioni  in materia  di professioni  non organizzate”),  che realizzano  \\nattività  in uno dei settori  previsti  di cui all’allegato  1.'\n",
            "page_content=\"L’elenco  dei codici  Ateco  e delle  attività  ammissibili  è allegato  all’Avviso  \\n(Allegato  1). \\n \\nQuali  sono  le spese  ammissibili?  \\nSono  ammissibili  le spese  per: \\na. acquisto  del suolo  aziendale  e sue sistemazioni  entro  il limite  del 5% \\ndell'importo  dell'investimento  in attivi materiali;  \\nb. spese  per opere  murarie  e assimilabili  relative  a interventi  di ampliamento  \\no di riqualificazione  di immobili  esistenti  nonché  quelle  relative  a nuova  \\ncostruzione  solo nei casi in cui l’impresa  dimostri  che l’assenza  di \\nagevolazione  su tali spese,  in ragione  delle caratteristiche  tecnologiche  e \\nlocalizzative  dell’iniziativa,  ne inficerebbe  la redditività  e le opportunità  di \\ninnovazione  e sviluppo;   \\nc. acquisto  di macchinari,  impianti  e attrezzature  varie,  nuovi  di fabbrica,  ivi \\ncompresi  quelli  necessari  all'attività  di rappresentanza,  nonché  i mezzi  \\nmobili  strettamente  necessari  al ciclo di produzione  o per il trasporto  in \\nconservazione  condizionata  dei prodotti,  purché  dimensionati  all'effettiva  \\nproduzione,  identificabili  singolarmente  ed a servizio  esclusivo  dell'unità  \\nproduttiva  oggetto  delle agevolazioni.  Per il settore  dei trasporti  sono \\nescluse  le spese  relative  all'acquisto  di materiale  di trasporto  e l'acquisto\"\n",
            "page_content='di automezzi  è ammissibile  esclusivamente  nel caso di imprese  di trasporto'\n",
            "page_content=\"puglia sviluppo  \\n \\n \\nUNIONE  EUROPEA  \\nFONDO  EUROPEO  DI SVILUPPO  REGIONALE   \\nMinistero  Sviluppo  Economico   \\nREGIONE  PUGLIA  \\nDIPARTIMENTO  SVILUPPO  ECONOMICO,  \\n  INNOVAZIONE,  ISTRUZIONE,   \\nFORMAZIONE  E LAVORO \\n \\n4 \\n \\npersone;  \\nd. Investimenti  finalizzati  al miglioramento  delle misure  di prevenzione  dei \\nrischi,  salute  e sicurezza  sui luoghi  di lavoro;  \\ne. spese di progettazione ingegneristica e di direzione lavori nei limiti del 5% \\ndelle spese  di cui alla lettera  b);  \\nf. sono ammissibili  anche  le spese  per l'acquisto  di programmi  informatici  \\ncommisurati  alle esigenze  produttive  e gestionali  dell'impresa  ed i \\ntrasferimenti  di tecnologia  mediante  l'acquisto  di diritti  di brevetto  e \\nlicenze,  connessi  alle esigenze  produttive  e gestionali  dell'impresa.  \\nÈ possibile  presentare  un programma  di investimenti  che preveda  unicamente  la \\nrealizzazione  di un “impianto  di produzione  di energia  da fonte rinnovabile”.  \\nCon la dizione  “impianti  di produzione  di energia  da fonte rinnovabile”  si intende  \\nriferirsi  alle seguenti  tipologie:  \\n• impianti  ad energia  eolica;  \\n• impianti  ad energia  solare  (tutte  le tecnologie);  \\n• macchine  frigorifere  a fonte geotermica  (refrigeratori  o pompe  di calore)\"\n",
            "page_content='integrati  nei processi  produttivi  e/o dedicati  alla climatizzazione  \\nambientale;  \\n• impianti  di produzione  di energia  termica  e/o elettrica  a biomasse  (liquide,  \\nsolide  o gassose).  \\nCon riferimento  all’acquisto  dell’immobile,  del suolo  o di software,  non è \\nammissibile  l’acquisto  da parenti  e affini fino al terzo grado  dei soci, nel caso di \\nsocietà  proponente,  o del titolare,  nel caso di ditta proponente,  nonché  dal \\nconiuge  del titolare  o dei soci”.  L’acquisto  di un immobile,  del suolo  o di software  \\ndi proprietà  di uno o più soci dell’impresa  richiedente  le agevolazioni  medesime  \\no dei relativi  coniugi  ovvero  parenti  o affini dei soci stessi  entro  il terzo grado,  è \\nammissibile  in proporzione  alle quote  di partecipazione  nell’impresa  medesima  \\ndegli altri soci che non hanno  alcun  rapporto  di parentela  e coniugio  suindicato.  \\nNon sono ammissibili  alle agevolazioni  \"gli acquisti  infragruppo,  gli acquisti  da \\nsoci o amministratori  dell’impresa  beneficiaria/proponente,  da coniugi,  parenti  o \\naffini entro  il terzo grado  di uno dei soci o amministratori  dell’impresa  \\nbeneficiaria  anche  nel caso in cui il rapporto  sussista  con un soggetto  che rivesta  \\nil ruolo di amministratore  o socio dell’impresa  fornitrice\".  \\nNon è ammissibile  l\\'acquisto  di immobili  che siano  stati oggetto  di agevolazione'\n",
            "page_content=\"nei dieci anni precedenti  come  stabilito  dall’articolo  18, comma  1 lettera  c) del \\nD.P.R.  del 5 febbraio  2018,  n. 22 recante  i criteri  sull'ammissibilità  delle spese\"\n",
            "page_content=\"puglia sviluppo  \\n \\n \\nUNIONE  EUROPEA  \\nFONDO  EUROPEO  DI SVILUPPO  REGIONALE   \\nMinistero  Sviluppo  Economico   \\nREGIONE  PUGLIA  \\nDIPARTIMENTO  SVILUPPO  ECONOMICO,  \\n  INNOVAZIONE,  ISTRUZIONE,   \\nFORMAZIONE  E LAVORO \\n \\n5 \\n \\nper i programmi  cofinanziati  dai Fondi  strutturali  di investimento  europei  (SIE)  \\nper il periodo  di programmazione  2014/2020.  \\nSpese  comunque  non ammissibili:  \\na) le spese  notarili  e quelle  relative  a imposte  e tasse;  \\nb) le spese  relative  all'acquisto  di scorte;  \\nc) le spese  relative  all'acquisto  di macchinari  ed attrezzature  usati;  \\nd)  titoli di spesa  regolati  In contanti;  \\ne) le spese  di pura sostituzione;  \\nf) le spese  di funzionamento  in generale;  \\ng) le spese  in leasing  e quelle  relative  ai cosiddetti  contratti  chiavi  in mano ; \\nh) tutte le spese  non capitalizzate;  \\ni) le spese  sostenute  con commesse  interne  di lavorazione,  anche  se \\ncapitalizzate  ed Indipendentemente  dal settore  in cui opera  l'Impresa;  \\nj) i titoli di spesa  nel quali l'importo  complessivo  dei beni agevolabili  sia \\ninferiore  a 500,00  euro;  \\nk) acquisto  di beni non strettamente  funzionali  e non a uso esclusivo  \\ndell'attività  di Impresa;\"\n",
            "page_content='dell\\'attività  di Impresa;  \\nl) acquisto  di beni facilmente  deperibili  quali ad esempio  biancheria  da \\ntavola,  biancheria  da bagno,  stoviglie,  utensili  per cucina.  \\nm) nell’acquisto  di mezzi  mobili  non sono ammissibili  le spese  di IPT, messa  \\nsu strada,  immatricolazione.  \\nNon sono  ammissibili  le spese  relative  all\\'attività  di ricevitoria,  \\ncommercio  al dettaglio  di generi  di monopolio  e le attività  di giochi,  \\nlotterie  e scommesse.  \\n \\nQuando  è possibile  avviare  gli investimenti?  \\nSi rammenta  che ciascuna  spesa  deve essere  supportata  da un documento  \\ngiuridicamente  vincolante,  come  ad esempio  un ordine  di acquisto  o un \\npreventivo  controfirmato  per accettazione  che, conformemente  alle disposizioni  \\ndell’Avviso , deve riportare  data successiva  alla data di presentazione  della \\ndomanda  (data  attestata  nell’allegato  D). \\nCon riferimento  all’effetto  di incentivazione  si evidenzia  che: ai sensi dell’art.  2 \\npunto  23 Regolamento  (CE) 651/2014  del 17/06/2014,  per \"avvio  dei lavori\"  si \\nintende:  “la data di inizio dei lavori  di costruzione  relativi  all\\'investimento  oppure'\n",
            "page_content='puglia sviluppo  \\n \\n \\nUNIONE  EUROPEA  \\nFONDO  EUROPEO  DI SVILUPPO  REGIONALE   \\nMinistero  Sviluppo  Economico   \\nREGIONE  PUGLIA  \\nDIPARTIMENTO  SVILUPPO  ECONOMICO,  \\n  INNOVAZIONE,  ISTRUZIONE,   \\nFORMAZIONE  E LAVORO \\n \\n6 \\n \\nla data del primo  impegno  giuridicamente  vincolante  ad ordinare  \\nattrezzature  o di qualsiasi  altro impegno  che renda  irreversibile  l\\'investimento,  \\na seconda  di quale  condizione  si verifichi  prima.  L\\'acquisto  di terreno  e i lavori  \\npreparatori  quali la richiesta  di permessi  o la realizzazione  di studi di fattibilità  \\nnon sono considerati  come  avvio  dei lavori.  In caso di acquisizioni,  per \"avvio  \\ndei lavori\"  si intende  il momento  di acquisizione  degli attivi direttamente  collegati  \\nallo stabilimento  acquisito” . \\nIn presenza  di un atto giuridicamente  vincolante  con data antecedente  alla data \\ndi presentazione  della domanda,  l’intero  programma  di investimenti  è ritenuto  \\ninammissibile.  \\nA titolo esemplificativo,  si riportano  i documenti  che possono  ritenersi  atti \\ngiuridicamente  vincolanti:  \\n• Preventivo  controfirmato  per accettazione;  \\n• Ordine  di acquisto/Contratto  di fornitura/appalto;  \\n• Conferma  d’ordine  (con o senza  il versamento  di un \\nacconto/anticipo/caparra);  \\n• Decreto  di trasferimento  del giudice,  nel caso di acquisto  immobile.'\n",
            "page_content='Si precisa,  inoltre,  che nel caso il progetto  di investimenti  preveda  anche  \\nl’acquisto  dell’immobile  ed il soggetto  proponente  fornisca  come  titolo di \\ndisponibilità  dell’immobile  un contratto  preliminare  di compravendita  o una \\nproposta  di acquisto  accettata,  tali documenti  devono  presentare  una condizione  \\nsospensiva  o l’espressa  rinuncia  all’applicazione  delle disposizioni  dell’art.  2932 \\nc.c. da entrambe  le parti. \\n \\nA quanto  ammontano  gli investimenti  e le \\nagevolazioni  del Titolo  II capo  3? \\nL\\'aiuto  sarà erogato  in forma  di contributo  in conto  Impianti  determinato  sul \\nmontante  degli Interessi  di un finanziamento  concesso  da un Soggetto  \\nFinanziatore.  \\nIl contributo  viene  riconosciuto  in misura  pari all\\'Interest  Rate Swap  (Euribor  6 \\nmesi versus  tasso  fisso)  denaro,  in euro a 10 anni {10Y/6M),  pubblicato  sul \\nquotidiano  \"Il Sole 24 Ore\" il giorno  della stipula  del finanziamento  da parte  del \\nSoggetto  Finanziatore,  maggiorato  di uno spread.  \\nAl momento  la misura  dello spread  è pari al 5% (500 punti base);  tale valore  \\nviene  aggiornato  di anno in anno.'\n",
            "page_content=\"puglia sviluppo  \\n \\n \\nUNIONE  EUROPEA  \\nFONDO  EUROPEO  DI SVILUPPO  REGIONALE   \\nMinistero  Sviluppo  Economico   \\nREGIONE  PUGLIA  \\nDIPARTIMENTO  SVILUPPO  ECONOMICO,  \\n  INNOVAZIONE,  ISTRUZIONE,   \\nFORMAZIONE  E LAVORO \\n \\n7 \\n \\nIl contributo  in conto  impianti  calcolato  sul montante  degli interessi  comprenderà  \\nl’eventuale  preammortamento:  \\n• Per una durata  massima  di 12 mesi per i finanziamenti  destinati  \\nall'acquisto  di macchinari  e di attrezzature;   \\n• Per una durata  massima  di 24 mesi per i finanziamenti  destinati  \\nall'ampliamento  dello stabilimento;  \\nQualunque  sia la maggior  durata  del contratto  di finanziamento,  il contributo  in \\nconto  impianti  determinato  sul montante  degli Interessi  sarà calcolato  con \\nriferimento  ad una durata  massima  del finanziamento  (al netto dell’eventuale  \\nperiodo  di preammortamento)  di: \\n• sette anni per i finanziamenti  destinati  alla creazione,  all’ampliamento  \\ne/o all’ammodernamento  dello stabilimento;  \\n• cinque  anni per i finanziamenti  destinati  all’acquisto  di macchinari,  \\nattrezzature,  brevetti  e licenze.  \\nLe agevolazioni  saranno  calcolate,  indipendentemente  dall’ammontare  del \\nprogetto  ammissibile,  su un importo  finanziato  massimo  di: \\n− 4.000.000  di euro in caso di soggetti  proponenti  di medie  dimensioni\"\n",
            "page_content='− 2.000.000  di euro in caso di soggetti  proponenti  di micro  e piccole  \\ndimensioni  \\n \\nPer gli investimenti  in nuovi  macchinari  ed attrezzature  potrà  essere  erogato  un \\ncontributo  aggiuntivo  in conto  impianti  che non potrà  essere  superiore  al 30% \\ndell’investimento  e all’importo  massimo  di 1.200.000  euro per le medie  imprese  \\ne 35% dell’investimento  e all’importo  massimo  di 700.000  euro per le piccole  \\nimprese.  \\nLe imprese  in possesso  del rating  di legalità  (articolo  5-ter del decreto  legge  24 \\ngennaio  2012,  n. 1, convertito  con modificazioni  della legge  24 maggio  2012,  n. \\n27) beneficiano  di una ulteriore  sovvenzione  diretta  che è pari al 5% dell’importo  \\ndell’investi mento  per le piccole  imprese  ed al 2,50%  dell’investimento  per le \\nmedie  imprese,  in entrambi  i casi con un tetto massimo  pari ad euro 100.000,00.  \\nAlla data di invio telematica  della domanda  da parte del Soggetto  Finanziatore,  \\nle imprese  devono  già possedere  il rating  di legalità  o avere  inoltrato  apposita  \\nrichiesta  all’Autorità  Garante  della concorrenza  e del mercato.'\n",
            "page_content=\"puglia sviluppo  \\n \\n \\nUNIONE  EUROPEA  \\nFONDO  EUROPEO  DI SVILUPPO  REGIONALE   \\nMinistero  Sviluppo  Economico   \\nREGIONE  PUGLIA  \\nDIPARTIMENTO  SVILUPPO  ECONOMICO,  \\n  INNOVAZIONE,  ISTRUZIONE,   \\nFORMAZIONE  E LAVORO \\n \\n8 \\n \\nLe imprese  che hanno  conseguito  il rating  di legalità,  l'impor to massimo  del \\ncontributo  aggiuntivo  in conto  impianti  è elevato  a 1.300.000  euro per le medie  \\ne a 800.000  euro per le piccole  imprese . \\nÈ prevista,  come  sopra  anticipato,  una premialità  pari al pari al 30%  per le \\nmedie  imprese  e pari al 35%  per le piccole  imprese  nell’eventualità  di \\nrealizzazione  di un investimento  per la realizzazione  di un “impianto  di \\nproduzione  di energia  da fonte  rinnovabile ” (comprensivo  delle spese  \\nrelative  alla diagnosi  energetica  nella misura  non superiore  all’1,5%  del costo \\ndell’impianto  di produzione  di energia  da fonte rinnovabile,  per un ammontare  \\ncomplessi vo non superiore  a € 10.000,00).  \\nI soggetti  proponenti  che realizzano  interventi  in opere  murarie  necessari  al \\nrecupero  di immobili  esistenti  e non utilizzati  (come  definiti  al comma  23 del \\nprecedente  art. 4), ove acquisibili  e restaurabili,  beneficiano  di una ulteriore\"\n",
            "page_content='sovvenzione  diretta  del 10%.  Tale 10% di ulteriore  sovvenzione  sarà \\ncalcolato  esclusivamente  con riferimento  alle spese  necessarie  all’eventuale  \\nacquisto  e al recupero  dei predetti  immobili,  così come  definiti  al comma  23 del \\nprecedente  art. 4. \\nGli aiuti di cui al presente  Avviso  sono cumulabili:  \\n➢ con gli aiuti al finanziamento  del rischio  di cui al Titolo  III del Regolamento;   \\n➢ con gli aiuti de minimis  di cui al Regolamento  Regionale  n. 15 del \\n01/08/2014.  \\n \\nL’intensità  massima  di aiuto è: \\n✓ 35%  per i soggetti  proponenti  di medie  dimensioni  \\n✓ 45%  per i soggetti  proponenti  di piccole  dimensioni  \\nIn presenza  di un eventuale  ESL aiuto  di cui al finanziamento  del rischio,  in \\nforma  di garanzia,  controgaranzia  e cogaranzia , il quale  si somma  all’aiuto  di \\ncui al presente  Avviso  fino a concorrenza  del massimale,  l’ammontare  massimo  \\ndella  sovvenzione  complessiva  viene  aumentat o di 10 punti  percentuali  (45%)  \\nper le medie  imprese  e di 15 punti  percentuali  (60%)  per le piccole  imprese.'\n",
            "page_content=\"puglia sviluppo  \\n \\n \\nUNIONE  EUROPEA  \\nFONDO  EUROPEO  DI SVILUPPO  REGIONALE   \\nMinistero  Sviluppo  Economico   \\nREGIONE  PUGLIA  \\nDIPARTIMENTO  SVILUPPO  ECONOMICO,  \\n  INNOVAZIONE,  ISTRUZIONE,   \\nFORMAZIONE  E LAVORO \\n \\n9 \\n \\nCome  presentare  domanda  di agevolazione?  \\nLe domande  possono  essere  inoltrate  unicamente  da un Soggetto  Finanziatore  \\n(Banca  o Confidi  Vigilato)  accreditato  o un Confidi  (iscritto  nell’Elenco  ex art. 112 \\nTUB tenuto  dall’Organismo  Confidi  Minori  oppure  iscritto  nell'albo  unico  di cui \\nall'art.  106 del TUB) in via telematica  attraverso  la procedura  on line “Titolo  II \\ncapo 3” messa  a disposizione  nella pagina  dedicata  all'Avviso  presente  su \\nwww.sistema.puglia.it  (sul sito sistema.puglia  è presente  un utility  con l’elenco  \\ndei soggetti  accreditati) . \\nL’invio  della domanda  di agevolazione  e della documentazione  relativa  sarà \\neffettuato  dal Soggetto  Finanziatore  solo successivamente  alla deliberazione  di \\nconcessione  del finanziamento.   \\nIl Soggetto  Finanziatore  deve deliberare  il finanziamento  bancario  ed inviare  \\ntelematicamente  la domanda  entro  6 mesi dalla data di ricevimento  della stessa  \\nda parte  dell’impresa  proponente,  pena la decadenza  della domanda  di aiuto \\ndell’impresa  e la eliminazione  della posizione  telematica  dalla procedura.\"\n",
            "page_content=\"Il Soggetto  Finanziatore  o il Confidi,  al fine di censire  telematicamente  la \\ndomanda  di aiuti nella piattaforma  telematica  (con contestuale  generazione  del \\ncodice  pratica),  deve procedere  obbligatoriamente  alla compilazione  di tutte \\nle informazioni  previste  per la generazione  della domanda  di agevolazione  \\n(Allega to C), come  da modulo  di domanda  allegato  al presente  Avviso.  Tale \\nallegato  generato  telematicamente,  deve essere  firmato  digitalmente  dal legale  \\nrappresentante  dell’impresa  proponente  o dal libero  professionista.  \\nIl Soggetto  Finanziatore  inserisce  nella procedura  telematica  l’attestazione  della \\npresentazione  domanda  (Allegato  D) sottoscritta  con firma digitale.  \\nA seguito  di presentazione  della domanda  presso  un Soggetto  Finanziatore,  \\nottenuto  il codice  pratica,  il Soggetto  Proponente  si deve obbligatoriamente  \\nregistrare  al portale  raggiungibile  nella pagina  dedicata  all'Avviso  presente  su \\nwww.sistema.puglia.it , eseguire  la procedura  di attivazione  profilo  e, \\nsuccessivamente,  accreditarsi  per la specifica  pratica.  Una volta accreditata  il \\nSoggetto  proponente  potrà  operare  sulla propria  pratica  ed effettuare  l’upload  di \\ntutta la documentazione  utile al completamento  delle verifiche  istruttorie,  \\neventualmente  richiesta  da Puglia  Sviluppo  SPA.\"\n",
            "page_content='puglia sviluppo  \\n \\n \\nUNIONE  EUROPEA  \\nFONDO  EUROPEO  DI SVILUPPO  REGIONALE   \\nMinistero  Sviluppo  Economico   \\nREGIONE  PUGLIA  \\nDIPARTIMENTO  SVILUPPO  ECONOMICO,  \\n  INNOVAZIONE,  ISTRUZIONE,   \\nFORMAZIONE  E LAVORO \\n \\n10 \\n \\nCome  riceverò  l’agevolazione?  \\nSulla base delle verifiche  effettuate  da parte  di Puglia  Sviluppo,  la Regione,  \\nmediante  Determinazione  Dirigenziale,  adotta  il provvedimento  di ammissione  \\nprovvisoria  alle agevolazioni.  \\nLa Regione  comunica  ai soggetti  proponenti  l’esito  dell’esame  tramite  pec.  \\nL’impresa  ritenuta  ammissibile,  anche  per il tramite  del Soggetto  Finanziatore  o \\ndel Confidi,  entro  2 mesi dalla documentata  conclusione  dell’investimento,  \\ninoltra  telematicamente  la richiesta  di erogazione  con tutta la documentazione  \\nprevista  dall’art.  13 dell’Avviso.  \\nPuglia  Sviluppo,  ricevuta  la richiesta  di erogazione  del contributo  con tutta la \\ndocumentazione  a corredo,  a seguito  di completamento  degli investimenti  da \\nparte  dell’impresa,  procede , per quelle  pratiche  per le quali si è concluso  \\npositivamente  l’esame  istruttorio  preliminare  con l’emissione  della determina  \\nprovvisoria,  all’ulteriore  istruttoria  tecnica,  accerta ndo la pertinenza  e'\n",
            "page_content='l’ammissibilità  delle spese  e, quindi,  l’agevolabilità  dell’iniziativa.   \\nL’attività  istruttoria  si conclude  con l’elaborazione  di una relazione  da sottoporre  \\nalla Regione  Puglia.  \\nLa Regione  provvede  periodicamente,  rispettando  l’ordine  cronologico  di \\nricezione  delle domande  da parte  dei Soggetti  Finanziatori,  all’ammissione  \\ndefinitiva  ad agevolazione  delle iniziative  istruite  positivamente,  comunicando  il \\nprovvedimento  ai richiedenti,  ai Soggetti  Finanziatori  ed all’eventuale  Confidi.   \\nLa Regione,  provvede  alla erogazione  in unica  soluzione  all’impresa  del \\ncontributo  in conto  impianti  attualizzato  al medesimo  tasso  con cui è calcolata  \\nl’agevolazione  e di quello  aggiuntivo.  \\n \\nDove  trovo  ulteriori  informazioni?  \\nRegione  Puglia  – Area Politiche  per lo Sviluppo  Economico,  il Lavoro  e \\nl’Innovazione  Corso  Sonnino,  177, 70121  Bari. \\n \\nSiti internet:   \\nwww.regione.puglia.it ; www.sistema.puglia.it ; www.pugliasviluppo.eu.  \\n \\nI moduli  e gli allegati  del presente  Avviso  sono resi disponibili  sul sito \\nwww.sistema.puglia.it . \\n \\nSul sito www.sistema.puglia.it  puoi: \\n➢ scaricare  la normativa  e la modulistica;  \\n➢ verificare  i Codici  Ateco  ammissibili;  \\n➢ formulare  specifiche  domande.'\n",
            "page_content='Puglia sviluppo  \\n \\n \\nUNIONE EUROPEA  \\nFONDO EUROPEO DI SVILUPPO REGIONALE   \\nMinistero Sviluppo Economico   \\nREGIONE PUGLIA  \\nDIPARTIMENTO SVILUPPO ECONOMICO,  \\n  INNOVAZIONE, ISTRUZIONE,  \\nFORMAZIONE E LAVORO  \\n \\n1 \\n \\nContratti di Programma  per Grandi \\nImprese Singole o con  PMI aderenti  \\n(Art. 17 Reg. Regionale 17/2014  e s.m.i. ) \\n \\nAvviso  a sportello a partire dal 15/06/2015  \\n \\nLa gestione del presente strumento è di competenza della Regione Puglia che, ad eccezione della \\nfase di erogazione dei contributi, procederà all’attuazione mediante Puglia Sviluppo S.p.A., in \\nqualità di Soggetto Intermediario.  \\n \\ncosa trovo in questa scheda ? \\nQuesta scheda contiene alcune informazioni sullo strumento finanziario “ Contratti di Programma ” \\nrivolto ad imprese di grande dimensione e a piccole e/o medie imprese in a ssociate  alla grande  \\nimpresa proponente che intendano realizzare un investimento di tipo integrato nel territorio della \\nRegione Puglia.  \\nL’obiettivo di questa scheda è fornire un primo orientamento su questa opportunità.  \\nNota bene: le informazioni presenti in questa scheda son o puramente indicative  e potrebbero \\nsubire variazioni. Invitiamo tutte le persone interessate a prendere  visione dell’Avviso  pubblicato \\nsul Bollettino Ufficiale della Regione Puglia del 14/05/2015 n.68 e sul sito \\nwww.sistema.puglia.it/contrattidiprogramma  e delle successive modifiche, in particolare della'\n",
            "page_content='Determina n. 539 del 08/08/2019 , pubblicata sul B.U.R.P. del 13/02/2020  n. 20. \\n \\nchi può richiedere l’agevolazione?  \\nPossono richiedere l’agevolazione : \\n- Le imprese di grande dimensione come da definizione di cui all’Allegato I del \\nRegolamento (UE) 651/2014 della Commissione del 17 giugno 2014, in regime di \\ncontabilità ordinaria, che alla data di presentazione della domanda abbiano già \\nappro vato almeno due bilanci.  \\n- Le imprese di grande dimensione non attive controllate da imprese di grande \\ndimensione che abbiano approvato almeno due bilanci alla data di presentazione della \\ndomanda.  \\n- Altre piccole e medie imprese, in regime di contabilità ordi naria, aderenti al contratto di \\nProgramma presentato d alla grande impresa proponente che si assume la \\nresponsabilità del CdP ai soli fini della coerenza tecnica ed industriale; in questa ipotesi,'\n",
            "page_content='Puglia sviluppo  \\n \\n \\nUNIONE EUROPEA  \\nFONDO EUROPEO DI SVILUPPO REGIONALE   \\nMinistero Sviluppo Economico   \\nREGIONE PUGLIA  \\nDIPARTIMENTO SVILUPPO ECONOMICO,  \\n  INNOVAZIONE, ISTRUZIONE,  \\nFORMAZIONE E LAVORO  \\n \\n2 \\n \\nle PMI aderenti devono essere attive ed aver approvato almen o due bilanci alla data di \\npresentazione dell’istanza di accesso. Nell’ambito del Contratto di Programma  \\nl’iniziativa imprenditoriale di competenza della grande  impresa proponente deve \\npresentare spese ammissibili almeno pari al 50% dell’importo complessiv o del \\ncontratto e ciascun programma di investimento realizzato da micro, piccole e medie \\nimprese aderenti deve presentare costi ammissibili non inferiori a euro 1 milione.  \\n- due o più grandi imprese, purché una sola impresa tra esse (grande impresa \\nproponent e) assuma la responsabilità della proposta contrattuale ai soli fini della \\ncoerenza tecnica ed industriale.  In questo caso la grande impresa proponente deve \\npresentare spese ammissibili almeno pari al 50% dell’importo complessivo del \\ncontratto.  \\n- Nel caso in  cui il Contratto di Programma proposto dalla grande impresa preveda la \\nrealizzazione di programmi di investimento di altre PMI o altre grandi imprese alla data \\ndi presentazione della domanda, almeno i 2/3 delle imprese partecipanti al contratto di \\nprogram ma, devono essere attive ed aver approvato almeno due bilanci alla data di \\npresentazione della istanza di accesso. L’eventuale PMI aderente non attiva deve essere'\n",
            "page_content='partecipata per oltre il 50% da altra PMI attiva che abbia già approvato almeno due \\nbilanci a lla data di presentazione dell’istanza di accesso  \\n \\nquali attività posso realizzare  con l’aiuto d el Contratto di \\nProgramma ? \\nCon il Contratto di Programma si possono  realizzare investimenti in unità locali ubicate/da ubicare \\nnel territorio della Regione Puglia e riguardanti : \\na. la realizzazione di nuove unità produttive;  \\nb. l’ampliamento di unità produttive esistenti;  \\nc. la diversificazione della produzione di uno stabilimento esistente per ottenere prodotti \\nmai fabbricati precedentemente;  \\nd. un cambiamento f ondamentale del processo di produzione complessivo di un’unità \\nproduttiva esistente.  \\nSono ammissibili gli investimenti riguardanti il settore delle attività manifatturiere di cui alla \\nsezione “C” della “Classificazione delle Attività economiche ATECO 2007 ” ad eccezione dei gruppi e \\nclassi di cui alla sezione “C” afferenti i settori esclusi e di seguito indicati:  \\n✓ 12.0 “Industria del tabacco”;  \\n✓ 19 “Fabbricazione di coke e prodotti derivanti dalla raffinazione del petrolio” ad eccezione del 19.20.40 \\n“Fabbricaz ione di emulsioni di bitume, di catrame e di leganti per uso stradale”;  \\n✓ 20.6 “Fabbricazione di fibre sintetiche e artificiali”;  \\n✓ 24.1 “Siderurgia”;  \\n✓ 24.2 “Fabbricazione di tubi, condotti, profilati cavi e relativi accessori in acciaio (esclusi quelli in acciaio \\ncolato)”;'\n",
            "page_content='colato)”;  \\n✓ 30.11.02 “Cantieri navali per costruzioni metalliche e non metalliche (esclusi i sedili per navi)”.'\n",
            "page_content='Puglia sviluppo  \\n \\n \\nUNIONE EUROPEA  \\nFONDO EUROPEO DI SVILUPPO REGIONALE   \\nMinistero Sviluppo Economico   \\nREGIONE PUGLIA  \\nDIPARTIMENTO SVILUPPO ECONOMICO,  \\n  INNOVAZIONE, ISTRUZIONE,  \\nFORMAZIONE E LAVORO  \\n \\n3 \\n \\n✓ 33.15 “Riparazione e manutenzione di navi e imbarcazioni (esclusi i motori), “limitatamente alla “riparazione \\ne manutenzione ordinaria di navi”.  \\nSono ammissibili anche gli investimenti riguardanti i seguenti servizi di cui alla “Classificazione \\ndelle Attività economiche ATECO 2007”: “52”, “58”, “59”, “61”, “62”, “63” limitatamente alle \\nsottocategorie “63.11.20”, “63.11.30”, “63.12.00” e “63 .91.00”, “71.2”, “72”, “82” limitatamente \\nalla classe “82.20.00 attività dei call center”, nonché le sottocategorie:  \\n- “38.22.00 Trattamento e smaltimento di rifiuti pericolosi” limitatamente ai rifiuti di \\namianto.  \\n- “38.31.10 Demolizione di carcasse”;  \\n- “38.31 .20 Cantieri di demolizione navali”;  \\n- “38.32.10 Recupero e preparazione per il riciclaggio di cascami e rottami metallici”;  \\n- “38.32.20 Recupero e preparazione per il riciclaggio di materiale plastico per \\nproduzione di materie prime plastiche, resine sintetic he”;  \\n- “38.32.30 Recupero e preparazione per il riciclaggio di rifiuti solidi urbani, industriali e \\nbiomasse”. Tale Codice è ammissibile esclusivamente per il riciclaggio di rifiuti'\n",
            "page_content='industriali e biomasse”.  \\nSi chiarisce che la classe 38.32 “Recupero e cernit a dei materiali” si riferisce agli impianti finalizzati \\nalla materia prima secondaria (end of waste) per la trasformazione di rifiuti metallici e non \\nmetallici, rottami ed altri oggetti, usati o meno, in materie prime secondarie, comprendendo di \\nsolito un processo di trasformazione meccanica o chimica.  \\nAttesa la necessità di garantire idoneo raccordo con la Pianificazione e Programmazione vigente \\nnel settore di gestione dei rifiuti, le proposte progettuali di cui ai codici Ateco riferiti alle attività di \\nvalorizzazione dei rifiuti saranno ammesse previa acquisizione di esito favorevole da parte del \\nTavolo Tecnico costituito da Dipartimento Mobilità, Qualità urbana, Opere pubbliche, Ecologia e \\nPaesaggio – Sezione Ciclo dei Rifiuti e Bonifica della Regione Pu glia, AGER, Sezione Competitività e \\nRicerca dei Sistemi Produttivi e Puglia Sviluppo S.p.A. Tale Tavolo Tecnico si riunisce con cadenza \\nmensile per l’istruttoria delle istanze ricevute; è consentito un unico rinvio per approfondimenti \\nistruttori.  \\nInfine, con esclusivo riferimento ai progetti ricadenti nell’ambito della sottocategoria “38.22.00 \\nTrattamento e smaltimento di rifiuti pericolosi, limitatamente ai rifiuti di amianto” saranno \\nvalutate favorevolmente le iniziative che prevedano esclusivamente il t rattamento e smaltimento \\ndel rifiuto di amianto raccolto nell’ambito della Regione Puglia. Le tariffe applicate dovranno \\nessere esposte nel business plan e dovranno tenere conto dei benefici rivenienti dall’agevolazione'\n",
            "page_content='richiesta sul piano economico finanz iario dell’impresa.  \\nI Codici Ateco ammissibili sono riportati sul sito www.sistema.puglia.it  nella sezione PIA Medie \\nImprese.'\n",
            "page_content='Puglia sviluppo  \\n \\n \\nUNIONE EUROPEA  \\nFONDO EUROPEO DI SVILUPPO REGIONALE   \\nMinistero Sviluppo Economico   \\nREGIONE PUGLIA  \\nDIPARTIMENTO SVILUPPO ECONOMICO,  \\n  INNOVAZIONE, ISTRUZIONE,  \\nFORMAZIONE E LAVORO  \\n \\n4 \\n \\na quanto ammontano gli investimenti e le agevolazioni d el \\nContratto di Programma ? \\nLe istanze di accesso devono riguardare programmi di investimento, denominati Contratti di \\nProgramma, di importo complessivo delle spese e dei costi ammissibili compresi tra 5 milioni di \\neuro e 100 milioni di euro .  \\n \\nPer Contratto di Programma  si intende il complesso dei programmi di investimento che:  \\nI. nel caso d ella grande impresa può riguardare:  \\na) progetti di Ricerca e Sviluppo che possono essere integrati con progetti industriali a \\nsostegno della valorizzazione economica dell’innovazione e dell’i ndustrializzazione \\ndei risultati della ricerca;  \\nb) progetti industriali per lo sfruttamento di tecnologie o soluzioni innovative nei \\nprocessi, nei prodotti/servizi e nell’organizzazione.  \\nII. nel caso delle PMI aderenti, devono riguardare investimenti in attivi materiali, che devono \\nessere obbligatoriamente integrati con investimenti in ricerca e sviluppo e/o con \\ninvestimenti in innovazione tecnologica dei processi e dell’organizzazione. Inoltr e, il progetto \\ndelle PMI aderenti può essere integrato con investimenti per l’acquisizione di servizi.  \\n \\nSi riporta, di seguito, una tabella riepilogativa delle intensità di aiuto concedibili : \\nVoci di Spesa  Attivi Materiali  \\nAgevolazioni (% di contributo a fondo perduto)'\n",
            "page_content=\"Agevolazioni (% di contributo a fondo perduto)  \\nGli aiuti, nell’ambito degli Attivi Materiali, possono essere concessi \\ncon i seguenti limiti:  \\na1. grandi imprese: tasso di aiuto corretto1, così come calcolato \\nsecondo la formula esposta al punto 20 dell'articolo 2 del \\nRegolamento in esenzione;  \\na2. PMI aderenti: aiuto non superiore a 10 milioni di Euro per \\nmedia impresa e 5 milioni di Euro per piccola impresa.    \\nstudi preliminari di fattibilità nel limite del 1,5% \\ndell’importo complessivo delle spese ammissibili \\ne spese per progettazioni e direzione lavori nel \\nlimite del 6% delle spese in opere murarie e \\nassimilabili  Per investimenti in Attivi Materiali di importo ammissibile inferiore a \\n50.000.000,00 di euro e limitatamente alle PMI aderenti:  \\n35% MEDIE IMPRESE  \\n45% PICCOLE IMPRESE  \\n \\n1“Importo di aiuto corretto ”: importo massimo di aiuto consentito per un grande progetto di investimento, calco lato \\nsecondo la seguente formula:  \\nimporto massimo di aiuto = R x (A + 0,50 x B + 0 x C)  \\ndove: R è l'intensità massima di aiuto applicabile nella zona interessata stabilita in una carta degli aiuti a finalità \\nregionale in vigore alla data in cui è concesso l'aiuto, esclusa l'intensità di aiuto maggiorata per le PMI; A sono i \\nprimi 50 milioni di EUR O di costi ammissibili, B è la parte di costi ammissibili compresa tra 50 milioni di EUR O \\ne 100 milioni di EUR O e C è la parte di costi ammissibili superiore a 100 milioni di EUR O.\"\n",
            "page_content='Puglia sviluppo  \\n \\n \\nUNIONE EUROPEA  \\nFONDO EUROPEO DI SVILUPPO REGIONALE   \\nMinistero Sviluppo Economico   \\nREGIONE PUGLIA  \\nDIPARTIMENTO SVILUPPO ECONOMICO,  \\n  INNOVAZIONE, ISTRUZIONE,  \\nFORMAZIONE E LAVORO  \\n \\n5 \\n \\nacquisto del suolo aziendale e sue sistemazioni \\nentro il limite del 5% dell’importo \\ndell’investimento in attivi materiali  Per investimenti in Attivi Materiali di importo ammissibile inferiore a \\n50.000.000,00 di euro:  \\n15% GRANDI  IMPRESE + e fino al 25% in caso di maggiorazioni di cui all’art. 11 \\ncomma 4 dell’Avviso  \\n20% MEDIE IMPRESE e fino al 35% in caso di maggiorazioni di cui all’art. 11 \\ncomma 4 dell’Avviso  \\n25% PICCOLE IMPRESE e fino al 45% in caso di maggiorazioni di cui all’art. 11 \\ncomma 4 dell’Avviso  \\nPer investimenti in Attivi Materiali di importo ammissibile pari o superiore a \\n50.000.000,00 di euro:  \\n18%  \\nopere murarie e assimilabili  Per investimenti in Attivi Materiali di importo ammissibile inferiore a \\n50.000.000,00 di euro:  \\n15% GRANDI IMPRESE+ e fino al 25% in caso di maggiorazioni di cui all’art. 11 \\ncomma 4 dell’Avvisoi  \\n20% MEDIE IMPRESE e fino al 35% in caso di maggiorazioni di cui all’art. 11 \\ncomma 4 dell’Avviso  \\n25% PICCOLE IMPRESE e fino al 45% in c aso di maggiorazioni di cui all’art. 11 \\ncomma 4 dell’Avviso'\n",
            "page_content='comma 4 dell’Avviso  \\nPer investimenti in Attivi Materiali di importo ammissibile pari o superiore a \\n50.000.000,00 di euro:  \\n18%  \\nacquisto di macchinari, impianti e attrezzature \\nvarie, nuovi di fabbrica, ivi compresi quelli \\nnecessari all’attività di rappresentanza, \\nprogrammi informatici commisurati alle \\nesigenze produttive e gestionali dell’impresa.  Per investimenti in Attivi Materiali di importo ammissibile inferiore a \\n50.000.000,00 di euro:  \\n25% GRANDI IMPRES E \\n35% MEDIE IMPRESE  \\n45% PICCOLE IMPRESE  \\nPer investimenti in Attivi Materiali di importo ammissibile pari o superiore a \\n50.000.000,00 di euro:  \\n18%  \\nacquisto di brevetti, licenze, know how  e \\nconoscenze tecniche non brevettate, nuove \\ntecnologie di prodotti e processi produttivi, per \\nla parte in cui sono utilizzati per l’attività svolta \\nnell’unità produttiva interessata dal programma  Per investimenti in Attivi Materiali di importo ammissibil e inferiore a \\n50.000.000,00 di euro:  \\n25% GRANDI IMPRESE  \\n35% MEDIE IMPRESE  \\n45% PICCOLE IMPRESE  \\nVoci di Spesa  R&S  \\nAgevolazioni  \\n(% di contributo a fondo perduto)  \\nLe agevolazioni, compresa l’eventuale maggiorazione, per gli \\ninvestimenti in ricerca e sviluppo non potranno superare, \\nindipendentemente dall’ammontare dell’investimento ammissibile, i \\nseguenti importi:  \\ni. Euro 20 milioni (grande), Euro 10 milioni (medie) ed Euro 5 \\nmilioni (piccole) per attività di ricerca industriale;'\n",
            "page_content='milioni (piccole) per attività di ricerca industriale;  \\nii. Euro 15 milioni (grande), Euro 7,5 milioni (medie) ed Euro 3,5 \\nmilioni (piccole) per attività di sviluppo sperimentale;  \\niii. Euro 1 milione (medie) ed Euro 0,5 milioni (piccole) per gli studi'\n",
            "page_content=\"Puglia sviluppo  \\n \\n \\nUNIONE EUROPEA  \\nFONDO EUROPEO DI SVILUPPO REGIONALE   \\nMinistero Sviluppo Economico   \\nREGIONE PUGLIA  \\nDIPARTIMENTO SVILUPPO ECONOMICO,  \\n  INNOVAZIONE, ISTRUZIONE,  \\nFORMAZIONE E LAVORO  \\n \\n6 \\n \\ndi fattibilità tecnica;  \\niv. Euro 4 milioni (medie) ed Euro 2 milioni (piccole) per i brev etti.  \\nRicerca Industriale  50% GRANDI IMPRESE  \\n60% MEDIE IMPRESE  \\n70% PICCOLE IMPRESE  \\n(a specifiche condizioni, previste dall’Avviso, è concedibile la \\nmaggiorazione di 15% fino ad un massimo dell'80%)  \\nSviluppo Sperimentale  25% GRANDI IMPRESE  \\n35% MEDIE IMPRESE  \\n45% PICCOLE IMPRESE  \\n(a specifiche condizioni, previste dall’Avviso, è concedibile la \\nmaggiorazione di 15% fino ad un massimo dell'80%)  \\nstudi di fattibilità tecnica (limitatamente alle \\nPMI aderenti)  50% MEDIE E PICCOLE IMPRESE  \\nbrevetti ed altri diritti di proprietà industriale \\n(limitatamente alle PMI aderenti)  50% MEDIE E PICCOLE IMPRESE  \\nVoci di Spesa  Innovazione tecnologica, dei processi e dell’organizzazione (limitatamente \\nalle PMI aderenti)  \\nAgevolazioni  \\n(% di contributo a fondo perduto)  \\nGli aiuti all’innovazione tecnologica, dei processi e \\ndell’organizzazione delle PMI aderenti non possono superare 1 \\nmilione di Euro per impresa e 7,5 milioni per progetto. Il limite degli \\naiuti alle spese per la messa a disposizione di personale a ltamente\"\n",
            "page_content='aiuti alle spese per la messa a disposizione di personale a ltamente \\nqualificato è pari a 1 milione di Euro per progetto.  \\nservizi di consulenza in materia di innovazione;  \\n50% PER MEDIE E PICCOLE IMPRESE  servizi di consulenza e di supporto \\nall’innovazione;  \\nservizi per l’innovazione dei processi e \\ndell’organizzazione;  \\nmessa a disposizione di personale altamente \\nqualificato da parte di un organismo di ricerca.  \\nVoci di Spesa  Servizi di consulenza (limitatamente alle PMI aderenti)  \\nAgevolazioni  \\n(% di contributo a fondo perduto)  \\nLe agevolazioni per gli investimenti per l’acquisizione di servizi da \\nparte delle PMI non potranno superare, indipendentemente \\ndall’ammontare dell’investimento ammissibile, i seguenti importi:  \\ni. 300 mila Euro per la media impresa, 200 mila euro per la \\npiccola i mpresa e 2 milioni di Euro per contratto di programma \\nper acquisizione di Servizi di consulenza di cui all’art. 65 del \\nRegolamento regionale;  \\nii. 100 mila Euro per impresa per la partecipazione a fiere e 2 \\nmilioni di Euro per progetto . Dette soglie sono incrementate del'\n",
            "page_content=\"Puglia sviluppo  \\n \\n \\nUNIONE EUROPEA  \\nFONDO EUROPEO DI SVILUPPO REGIONALE   \\nMinistero Sviluppo Economico   \\nREGIONE PUGLIA  \\nDIPARTIMENTO SVILUPPO ECONOMICO,  \\n  INNOVAZIONE, ISTRUZIONE,  \\nFORMAZIONE E LAVORO  \\n \\n7 \\n \\n20% per le imprese che si associano nella forma della rete \\nd’impresa e per le imprese che abbiano conseguito il rating di \\nlegalità.  \\nCertificazione ex novo EMAS  \\n45% PER MEDIE E PICCOLE IMPRESE (50% nel caso di rating di legalità e/o \\nadesione in rete d'impresa)  Certificazione ex novo ISO 14001  \\nCertificazione ex novo ECOLABEL  \\nstudi di fattibilità volti a valutare i vantaggi \\neconomici dell'impresa derivanti dall'adozione \\ndi soluzioni tecnologiche ecoefficienti  \\nCertificazione ex novo SA8000  \\nProgrammi di Internazionalizzazione  \\nProgrammi di Marketing Internazionale  \\nE-Business  \\nPartecipazione a fiera  \\n \\ncome posso richiedere l’agevolazione?  \\nLe domande devono essere inoltrate, a pena di esclusione, unicamente in via telematica \\nattraverso la procedura on line  “Contratti di Programma ” messa a disposizione all’indirizzo \\nwww.sistema.puglia.it . Il sogget to proponente deve trasmettere l’istanza di accesso utilizzando \\nobbligatoriamente il modulo di cui all’apposito allegato (sezione 1 in caso di impresa singola e \\nsezione 1a ed 1b in caso di impresa proponente con imprese aderenti) mediante la registrazione e \\ncompilazione telematica attraverso il sito\"\n",
            "page_content='compilazione telematica attraverso il sito \\nhttp://www.sistema.puglia.it/SistemaPuglia/contrattidiprogramma , con l’apposizione di firma \\ndigitale degli istanti . \\nLa predetta is tanza di accesso, che descrive le caratteristiche tecniche ed economiche del \\nContratto di Programma , il profilo delle imprese coinvolte che realizzano il programma di \\ninvestimento, nonché l’ammontare e le caratteristiche dello stesso, dovrà includere anche  la \\ncompilazione telematica di quanto richiesto dall’Avviso e previsto dalla piattaforma telematica.  \\n \\ncome riceverò l’agevolazione?  \\nSulla base delle verifiche effettuate  in fase di accesso  da parte di Puglia Sviluppo , il dirigente \\ncompetente con proprio atto adotta il provvedimento di ammissione della proposta alla fase di \\npresentazione del progetto definitivo ovvero di inammissibilità . \\nLa Regione comunica ai soggetti proponenti l’esito dell’esame. Detta comunicazione contiene, per \\nle sole istanze  valutate ammissibili, il termine perentorio di 60 giorni, pena la decadenza \\ndell’istanza, entro il quale deve essere presentata la documentazione progettuale indicata nella \\npredetta comunicazione; la comunicazione indica, altresì, il termine di 150 giorni , eventualmente \\nprorogabile, dalla data di ricezione della suddetta comunicazione, entro il quale deve essere \\npresentata  la documentazione relativa alla concessione di un finanziamento a medio lungo'\n",
            "page_content='Puglia sviluppo  \\n \\n \\nUNIONE EUROPEA  \\nFONDO EUROPEO DI SVILUPPO REGIONALE   \\nMinistero Sviluppo Economico   \\nREGIONE PUGLIA  \\nDIPARTIMENTO SVILUPPO ECONOMICO,  \\n  INNOVAZIONE, ISTRUZIONE,  \\nFORMAZIONE E LAVORO  \\n \\n8 \\n \\ntermine e/o la documentazione attestante l’apporto di mez zi propri, finalizzati alla completa \\ncopertura finanziaria del programma di investimenti per la parte non coperta dalle agevolazioni, \\nnonché le eventuali autorizzazioni amministrative necessarie alla realizzazione dell’investimento.  \\nLa documentazione proge ttuale riferita al progetto definitivo, dovrà essere presentata \\ntelematicamente dal soggetto proponente, utilizzando obbligatoriamente la modulistica resa \\ndisponibile sul sito www.sistema.puglia.it , entro il ter mine perentorio indicato nella \\ncomunicazione sopra citata. Decorso inutilmente tale termine ovvero nel caso in cui la \\ndocumentazione non sia completa, la proposta è dichiarata decaduta.  \\nSulla base delle risultanze istruttorie relative alla valutazione del  progetto definitivo  da parte di \\nPuglia Sviluppo , con atto dirigenziale si approva la proposta, si determina l’importo complessivo \\ndelle agevolazioni da concedere in favore di ogni singolo programma di investimenti, si impegna la \\nspesa e si individua il te rmine entro il quale provvedere alla sottoscrizione del Contratto di \\nProgramma . \\nEntro il termine assegnato, la Regione ed i soggetti beneficiari sottoscrivono un Contratto di \\nProgramma , nel quale sono indicati i reciproci impegni ed obblighi, in particolar e le modalità di'\n",
            "page_content='erogazione delle agevolazioni, le condizioni che possono determinare la revoca delle stesse, gli \\nobblighi connessi al monitoraggio ed alle attività di accertamento finale dell’avvenuta \\nrealizzazione dei programmi nonché di controllo ed isp ezione e quant’altro necessario ai fini della \\nrealizzazione del progetto.  \\nL’erogazione delle agevolazioni è di competenza della Regione Puglia , che adotta l’atto dirigenziale \\nsulla base dell’istruttoria effettuata da Puglia Sviluppo . A tal fine, il soggett o beneficiario \\npresenterà le richieste di erogazione delle agevolazioni, le rendicontazioni per stati di \\navanzamento e la documentazione finale di spesa nelle forme, nei modi e nei tempi previsti dal \\nContratto di Programma  e a seguito della verifica istrut toria da parte di Puglia Sviluppo.  \\nLe richieste di erogazione sono redatte utilizzando gli appositi moduli forniti dalla Regione Puglia  e \\ndisponibili sul sito www.sistema.puglia.it . \\nLa Regione e Puglia Sviluppo possono disporre, in ogni momento, controlli e verifiche, anche in \\ncorso d’opera, sull’attuazione dei progetti.  \\n \\ndove trovo ulteriori informazioni?  \\nRegione Puglia – Dipartimento Sviluppo Economico, Innovazione , Istruzione, Formazione e Lavoro  \\nCorso Sonnino, 177, 70121 B ari.  \\nSiti internet: www.regione.puglia.it ; www.sistema.puglia.it ; www.pugliasviluppo.eu.  \\nI moduli e gli allegati del presente Avviso sono resi disponibili sul sito www.sistema.puglia.it . \\nSul sito www. sistema .puglia.it puoi:  \\nn scaricare la normativa e la modulistica;  \\nn verificare i Codici Ateco ammissibili ;'\n",
            "page_content='n verificare i Codici Ateco ammissibili ; \\nn formulare specifiche domande;  \\nn compilare ed inviare l ’istanza di accesso, il business plan ed i relativi allegati .'\n",
            "page_content='Puglia sviluppo  \\n \\n \\nUNIONE EUROPEA  \\nFONDO EUROPEO DI SVILUPPO REGIONALE   \\nMinistero Sviluppo Economico   \\nREGIONE PUGLIA  \\nDIPARTIMENTO  SVILUPPO  ECONOMICO,  \\n  INNOVAZIONE , ISTRUZIONE,  \\nFORMAZIONE E LAVORO  \\n \\n1 \\n \\nProg rammi  Integrati di Agevolazioni PIA  \\nPiccole  Imprese ( Art. 2 7 Reg. Regionale \\n17/2014  e s.m.i. ) \\n \\nAvviso  a sportello a partire dal 03/06/2015  \\nLa gestione del presente strumento è di competenza della Regione Puglia che, ad eccezione della \\nfase di erogazione dei contributi, procederà all’attuazione mediante Puglia Sviluppo S .p.A., in \\nqualità di Soggetto Intermediario.  \\n \\ncosa trovo in questa scheda?  \\nQuesta scheda contiene alcune informazioni sullo strumento finanziario “PIA – Prog rammi  \\nIntegrati di Agevolazioni” rivolto ad imprese di piccola  dimensione che intendano realizzare un \\ninvestimento di tipo integrato nel territorio della Regione Puglia.  \\nL’obiettivo di questa scheda è fornire un primo orientamento su questa opportunità.  \\nNota be ne: le informazioni presenti in questa scheda sono puramente indicative e potrebbero \\nsubire variazioni. Invitiamo tutte le persone interessate a prendere visione dell’Avviso bando \\npubblicato sul Bollettino Ufficiale della Regione Puglia del 14/05/2015 n.68  e sul sito \\nwww.sistema.puglia.it/piapiccoleimprese e delle successive modifiche, in particolare della'\n",
            "page_content='Determina n. 541 del 08/08/2019 , pubblicata sul B.U.R.P. del  13/02/2020  n. 20. \\n \\nchi può richiedere l’agevolazione?  \\nPuò richiedere l’agevolazione : \\n- un’impresa  di piccola  dimensione come da definizione di cui all’Allegato I del Regolamento \\n(UE) 651/2014 della Commissione del 17 giugno 2014, in regime di contabilità ordinaria, \\nche: \\n1. alla data di presentazione della domanda abbia già approvato almeno tre bilanci ; \\n2. abbia regist rato nei tre esercizi precedenti un fatturato medio non inferiore a 1,5 \\nmilioni di euro ed abbiano registrato, nei 12 mesi antecedenti la presentazione della \\ndomanda, un numero di ULA almeno pari a 10.  \\n- un’impres a di piccola dimensione non attiv a, controll ata da una  piccola impresa che abbia:  \\n1. approvato almeno tre bilanci alla data di presentazione della domanda ; \\n2. registrato nei tre esercizi precedenti un fatturato medio non inferiore a 1,5 milioni di \\neuro ; \\n3. registrato, nei 12 mesi antecedenti la presentazione  della domanda, un numero di ULA \\nalmeno pari a 10 .'\n",
            "page_content='Puglia sviluppo  \\n \\n \\nUNIONE EUROPEA  \\nFONDO EUROPEO DI SVILUPPO REGIONALE   \\nMinistero Sviluppo Economico   \\nREGIONE PUGLIA  \\nDIPARTIMENTO  SVILUPPO  ECONOMICO,  \\n  INNOVAZIONE , ISTRUZIONE,  \\nFORMAZIONE E LAVORO  \\n \\n2 \\n \\n- altre piccole o microimprese attive, con almeno due bilanci approvati, in adesione alla \\npiccola impresa proponente, a condizione che le aderenti, qualora non in possesso dei \\nrequisiti di tre bilanci appro vati, del fatturato medio non inferiore a 1,5 milioni di euro e \\ndei 10 ULA, promuovano investimenti di importo non superiore a 2 milioni di euro.  \\nNell’ambito del progetto integrato, ciascun programma di investimento realizzato da micro e \\npiccole imprese aderenti deve presentare costi ammissibili non inferiori a euro 500.000.  \\nNell’ambito del programma integrato promosso da piccole imprese, l’iniziativa imprenditoriale di \\ncompetenza della piccola impresa proponente, che assume la responsabilità ai s oli fini della \\ncoerenza tecnica e industriale, deve presentare spese ammissibili almeno pari al 50% dell’importo \\ncomplessivo del programma.  \\n \\nquali attività posso realizzare  con l’aiuto d el PIA ? \\nCon il PIA si possono  realizzare investimenti in unità locali ubicate/da ubicare nel territorio della \\nRegione Puglia e riguardanti : \\na. la realizzazione di nuove unità produttive;  \\nb. l’ampliamento di unità produttive esistenti;  \\nc. la diversificazione della produzione di uno stabilimento esistente per ottenere prodotti'\n",
            "page_content='mai fabbricati precedentemente;  \\nd. un cambiamento fondamentale del processo di produzione complessivo di un’unità \\nproduttiva esistente.  \\n \\nSono ammissibili gli investimenti riguardanti il settore delle attività manifatturiere di cui alla \\nsezione “C” della “Class ificazione delle Attività economiche ATECO 2007” ad eccezione dei gruppi e \\nclassi di cui alla sezione “C” afferenti i settori esclusi e di seguito indicati:  \\n12.0 “Industria del tabacco”;  \\n19 “Fabbricazione di coke e prodotti derivanti dalla raffinazione del  petrolio” ad eccezione del 19.20.40 “Fabbricazione \\ndi emulsioni di bitume, di catrame e di leganti per uso stradale”;  \\n20.6 “Fabbricazione di fibre sintetiche e artificiali”;  \\n24.1 “Siderurgia”;  \\n24.2 “Fabbricazione di tubi, condotti, profilati cavi e relati vi accessori in acciaio (esclusi quelli in acciaio colato)”;  \\n30.11.02 “Cantieri navali per costruzioni metalliche e non metalliche (esclusi i sedili per navi)”.  \\n33.15 “Riparazione e manutenzione di navi e imbarcazioni (esclusi i motori),  limitatamente alla  “riparazione e \\nmanutenzione ordinaria di navi”.  \\n \\nSono ammissibili anche gli investimenti riguardanti i seguenti servizi di cui alla “Classificazione \\ndelle Attività economiche ATECO 2007”: “52”, “58”, “59”, “61”, “62”, “63” limitatamente alle \\nsottocategorie “63.11.20”, “63.11.30”, “63.12.00” e “63.91.00”,  “71.2”, “72”, “82” limitatamente'\n",
            "page_content='alla classe “82.20.00 attività dei call center”, nonché le sottocategorie:'\n",
            "page_content='Puglia sviluppo  \\n \\n \\nUNIONE EUROPEA  \\nFONDO EUROPEO DI SVILUPPO REGIONALE   \\nMinistero Sviluppo Economico   \\nREGIONE PUGLIA  \\nDIPARTIMENTO  SVILUPPO  ECONOMICO,  \\n  INNOVAZIONE , ISTRUZIONE,  \\nFORMAZIONE E LAVORO  \\n \\n3 \\n \\n- “38.22.00 Trattamento e smaltimento di rifiuti pericolosi” limitatamente ai rifiuti di \\namianto.  \\n- “38.31.10 Demolizione di carcasse”;  \\n- “38.31.20 Cant ieri di demolizione navali”;  \\n- “38.32.10 Recupero e preparazione per il riciclaggio di cascami e rottami metallici”;  \\n- “38.32.20 Recupero e preparazione per il riciclaggio di materiale plastico per \\nproduzione di materie prime plastiche, resine sintetiche”;  \\n- “38.32.30 Recupero e preparazione per il riciclaggio di rifiuti solidi urbani, industriali e \\nbiomasse”. Tale Codice è ammissibile esclusivamente per il riciclaggio di rifiuti \\nindustriali e biomasse”.  \\n \\nSi chiarisce che la classe 38.32 “Recupero e cernita dei ma teriali” si riferisce agli impianti finalizzati \\nalla materia prima secondaria (end of waste) per la trasformazione di rifiuti metallici e non \\nmetallici, rottami ed altri oggetti, usati o meno, in materie prime secondarie, comprendendo di \\nsolito un processo  di trasformazione meccanica o chimica.  \\nAttesa la necessità di garantire idoneo raccordo con la Pianificazione e Programmazione vigente \\nnel settore di gestione dei rifiuti, le proposte progettuali di cui ai codici Ateco riferiti alle attività di'\n",
            "page_content='valorizza zione dei rifiuti saranno ammesse previa acquisizione di esito favorevole da parte del \\nTavolo Tecnico costituito da Dipartimento Mobilità, Qualità urbana, Opere pubbliche, Ecologia e \\nPaesaggio – Sezione Ciclo dei Rifiuti e Bonifica della Regione Puglia, AG ER, Sezione Competitività e \\nRicerca dei Sistemi Produttivi e Puglia Sviluppo S.p.A. Tale Tavolo Tecnico si riunisce con cadenza \\nmensile per l’istruttoria delle istanze ricevute; è consentito un unico rinvio per approfondimenti \\nistruttori.  \\nInfine, con escl usivo riferimento ai progetti ricadenti nell’ambito della sottocategoria “38.22.00 \\nTrattamento e smaltimento di rifiuti pericolosi, limitatamente ai rifiuti di amianto” saranno \\nvalutate favorevolmente le iniziative che prevedano esclusivamente il trattamen to e smaltimento \\ndel rifiuto di amianto raccolto nell’ambito della Regione Puglia. Le tariffe applicate dovranno \\nessere esposte nel business plan e dovranno tenere conto dei benefici rivenienti dall’agevolazione \\nrichiesta sul piano economico finanziario de ll’impresa.  \\nI Codici Ateco ammissibili sono riportati sul sito www.sistema.puglia.it  nella sezione PIA Piccole \\nImprese.  \\n \\na quanto ammontano gli investimenti e le agevolazioni d el PIA ? \\nLe istanze di accesso devono riguardare progetti integrati di importo complessivo delle spese e dei \\ncosti ammissibili compresi tra 1 milione di euro e 20 milioni di euro .  \\n \\nNell’ambito del progetto integrato, ciascun programma di investimento realizzato da  micro e'\n",
            "page_content='piccole imprese aderenti deve presentare costi ammissibili non inferiori a euro 500.000.'\n",
            "page_content='Puglia sviluppo  \\n \\n \\nUNIONE EUROPEA  \\nFONDO EUROPEO DI SVILUPPO REGIONALE   \\nMinistero Sviluppo Economico   \\nREGIONE PUGLIA  \\nDIPARTIMENTO  SVILUPPO  ECONOMICO,  \\n  INNOVAZIONE , ISTRUZIONE,  \\nFORMAZIONE E LAVORO  \\n \\n4 \\n \\nNell’ambito del programma integrato promosso da piccole imprese, l’iniziativa imprenditoriale di \\ncompetenza della piccola impresa proponente, che assume la re sponsabilità ai soli fini della \\ncoerenza tecnica e industriale, deve presentare spese ammissibili almeno pari al 50% dell’importo \\ncomplessivo del programma.  \\nPer progetto integrato si intende il complesso dei programmi di investimento di ciascuna impresa; \\nciascun programma di investimento riguarda un’iniziativa imprenditoriale finalizzata alla \\nproduzione di beni e/o servizi per la cui realizzazione sono previst i investimenti in attivi materiali , \\nche devono essere obbligatoriamente integrati  con investimenti in ricerca e sviluppo di cui all’art. \\n8 dell’Avviso e/o con investimenti in innovazione tecnologica dei processi e dell’organizzazione  di \\ncui all’art. 9 dell’Avviso . Inoltre, ciascun programma di investimento  può essere integrato  con \\ninvestimenti per l’acquisizione di servizi  di cui all’art. 10 dell’Avviso . \\n \\nL’ammontare degli investimenti in Attivi Materiali non potrà comunque essere in feriore al 20% \\ndegli investimenti complessivi ammissibili per impresa.  \\nSarà possibile derogare al limite di cui al comma precedente e prevedere spese per Attivi Materiali \\nin percentuale non inferiore al 5%, solo nel caso in cui:'\n",
            "page_content='in percentuale non inferiore al 5%, solo nel caso in cui:  \\n- il progetto rientri nell’am bito del Codice Ateco 62;  \\n- tale codice risulti anche identificativo dell’attività prevalente svolta dall’impresa (Ateco \\n2007 di importanza primaria),  \\n- l’impresa dimostri, attraverso documentazione probante ed idonea anche rispetto alla \\ndurata del programma,  di disporre delle attrezzature necessarie alla realizzazione del \\nprogetto attraverso la forma “as a service”.  \\n \\nSi riporta, di seguito, una tabella riepilogativa delle intensità di aiuto concedibili : \\n \\nVoci di Spesa  Attivi Materiali  \\nAgevolazioni  \\n(% di contributo a fondo perduto)  \\nL’aiuto in Attivi Materiali non può essere superiore a 6 milioni di Euro \\nper impresa  \\nstudi preliminari di fattibilità nel limite \\ndel 1,5% dell’importo complessivo delle \\nspese ammissibili e spese per \\nprogettazioni e direzione lavori nel limite \\ndel 6% delle spese in opere murarie e \\nassimilabili  45% PICCOLE IMPRESE  \\nacquisto del suolo aziendale e sue \\nsistemazioni entro il limite del 5% \\ndell’importo dell’investimento in attivi \\nmateriali  25% PICCOLE IMPRESE ( nel caso di richiesta delle premialità, \\ncumulabili tra loro, di cui alle lettere a), b), c), d), f) del comma 3 \\ndell’articolo 11 dell’Avviso, fino ad un massimo del 45%) )'\n",
            "page_content='Puglia sviluppo  \\n \\n \\nUNIONE EUROPEA  \\nFONDO EUROPEO DI SVILUPPO REGIONALE   \\nMinistero Sviluppo Economico   \\nREGIONE PUGLIA  \\nDIPARTIMENTO  SVILUPPO  ECONOMICO,  \\n  INNOVAZIONE , ISTRUZIONE,  \\nFORMAZIONE E LAVORO  \\n \\n5 \\n \\nopere murarie e assimilabili  25% PICCOLE IMPRESE ( nel caso di richiesta del le premialità, \\ncumulabili tra loro, di cui alle lettere a), b), c), d), f) del comma 3 \\ndell’articolo 11 dell’Avviso, fino ad un massimo del 45%) ) \\nopere murarie e assimilabili riferite a \\nimmobili dichiarati inagibili o inabitabili e \\ndi fatto non utilizzati   35% PICCOLE IMPRESE (nel caso di richiesta delle premialità, \\ncumulabili tra loro, di cui alle lettere a), b), c), d), e), f) del comma 3 \\ndell’articolo 11 dell’Avviso, fino ad un massimo del 45%)  \\nacquisto di macchinari, impianti e \\nattrezzature varie, nuovi di fabbrica, ivi \\ncompresi quelli necessari all’attività di \\nrappresentanza, programmi informatici \\ncommisurati alle esigenze produttive e \\ngestionali dell’impresa.  45% PICCOLE IMPRESE  \\nacquisto di brevetti, licenze, know how e \\nconosc enze tecniche non brevettate, \\nnuove tecnologie di prodotti e processi \\nproduttivi, per la parte in cui sono \\nutilizzati per l’attività svolta nell’unità \\nproduttiva interessata dal programma  45% PICCOLE IMPRESE  \\nVoci di Spesa  R&S'\n",
            "page_content=\"Voci di Spesa  R&S  \\nAgevolazioni  \\n(% di contributo a fondo perduto)  \\nLe agevolazioni, compresa l’eventuale maggiorazione, per gli \\ninvestimenti in ricerca e sviluppo non potranno superare, \\nindipendentemente dall’ammontare dell’investimento \\nammissibile, i seguenti importi:  \\ni.Euro 5 milioni per attività di ricerca industriale;  \\nii.Euro 3,5 milioni per attività di sviluppo sperimentale;  \\niii.Euro 0,5 milioni per gli studi di fattibilità tecnica;  \\niv.Euro 2 milioni per i brevetti.  \\nRicerca Industriale  70% PICCOLE IMPRESE  \\n(a specifiche condizioni, previste dall’Avviso, è concedibile la \\nmaggiorazione di 15% fino ad un massimo dell'80%)  \\nSviluppo Sperimentale  45% PICCOLE IMPRESE  \\n(a specifiche condizioni, previste dall’Avviso, è concedibile la \\nmaggiorazione di 15%)  \\nNell’ambito della Ricerca Industrial e e \\ndello Sviluppo Sperimentale sono anche \\nammissibili investimenti relativi a:  \\n- studi di fattibilità tecnica  \\n \\n 50% PICCOLE IMPRESE\"\n",
            "page_content='Puglia sviluppo  \\n \\n \\nUNIONE EUROPEA  \\nFONDO EUROPEO DI SVILUPPO REGIONALE   \\nMinistero Sviluppo Economico   \\nREGIONE PUGLIA  \\nDIPARTIMENTO  SVILUPPO  ECONOMICO,  \\n  INNOVAZIONE , ISTRUZIONE,  \\nFORMAZIONE E LAVORO  \\n \\n6 \\n \\nVoci di Spesa  Innovazione tecnologica, dei processi e dell’organizzazione  \\nAgevolazioni  \\n(% di contributo a fondo perduto)  \\nGli aiuti all’innovazione tecnologica, dei processi e \\ndell’organizzazione non possono superare 0,5 milioni di Euro. Il \\nlimite degli aiuti alle spese per la messa a disposizione di personale \\naltamente qualificato è pari a 0,5 milioni di Euro.  \\nservizi di consulenza in materia di \\ninnovazione;  \\n50% PICCOLE IMPRESE  servizi di consulenza e di supporto \\nall’innovazione;  \\nservizi per l’innovazione dei processi e \\ndell’organizzazione;  \\nmessa a disposizione di personale \\naltamente qualificato da parte di un \\norganismo di ricerca.  \\nVoci di Spesa  Servizi di consulenza  \\nAgevolazioni  \\n(% di contributo a fondo perduto)  \\nLe agevolazioni per gli investimenti per l’acquisizione di servizi non \\npotranno superare, indipendentemente dall’ammontare \\ndell’investimento ammissibile, i seguenti importi:  \\ni. 200 mila euro per acquisizione di Servizi di consulenza \\nconsulenza  per l’innovazione delle imprese e per migliorare \\nil posizionamento competitivo dei sistemi produttivi locali;  \\nii. 100 mila euro per la partecipazione a fiere di cui all’art. 67 \\ndel Regolamento regionale. Tale soglia è incrementata fino'\n",
            "page_content=\"del Regolamento regionale. Tale soglia è incrementata fino \\na 120 mila Euro per le imprese che abbiano conseguito il \\nrating di legalità.   \\nCertificazione ex novo EMAS  \\n45% PICCOLE IMPRESE  \\n(50% nel caso di rating di legalità)  Certificazione ex novo ISO 14001  \\nCertificazione ex novo ECOLABEL  \\nstudi di fattibilità volti a valutare i \\nvantaggi economici dell'impresa \\nderivanti dall'adozione di soluzioni \\ntecnologiche ecoefficienti  \\nCertificazione ex novo SA8000  \\nProgrammi di Internazionalizzazione  \\nProgrammi di Marketing Internazionale  \\nE-Business  \\nPartecipazione a fiera  \\n \\ncome posso richiedere l’agevolazione?  \\nLe domande devono essere inoltrate, a pena di esclusione, unicamente in via telematica \\nattraverso la procedura on line  “PIA Piccole  Imprese” messa a disposizione all’indirizzo \\nwww.sistema.puglia.it . Il soggetto proponente e gli eventuali aderenti devono trasmettere\"\n",
            "page_content='Puglia sviluppo  \\n \\n \\nUNIONE EUROPEA  \\nFONDO EUROPEO DI SVILUPPO REGIONALE   \\nMinistero Sviluppo Economico   \\nREGIONE PUGLIA  \\nDIPARTIMENTO  SVILUPPO  ECONOMICO,  \\n  INNOVAZIONE , ISTRUZIONE,  \\nFORMAZIONE E LAVORO  \\n \\n7 \\n \\nl’istanza di accesso utilizzando obbligatoriamente il modulo di cui alla sezione mediante la \\nregistrazione e compilazione telematica attraverso il sito \\nhttp://www.sistema.puglia.it/SistemaPuglia/piapiccoleimprese , con l’apposizione di firma digitale \\ndegli  istanti . \\nLa predetta istanza di accesso, che descrive le caratteristiche tecniche ed economiche del progetto \\nintegrato, il profilo dell ’impres a che realizza il programma di investimento, nonché l’ammontare e \\nle caratteristiche dello stesso, dovrà includere anche la compilazione telematica di quanto \\nrichiesto dall’Avviso e previsto dalla piattaforma telematica.  \\n \\ncome riceverò l’agevolazione?  \\nSulla base delle verifiche effettuate  in fase di accesso  da parte di Puglia Sviluppo , la Regione, \\nmediante Determinazione Dirigenziale, adotta il provvedimento di ammissione della proposta alla \\nfase di presentazione del progetto definitivo ovvero di inammissibilità.  \\nLa Regione comunica a i soggetti proponenti l’esito dell’esame. Detta comunicazione contiene, per \\nle sole istanze valutate ammissibili, il termine perentorio di 60 giorni, pena la decadenza \\ndell’istanza, entro il quale deve essere  presentata la documentazione progettuale indicata nella \\npredetta comunicazione; la comunicazione indica, altresì, il termine di 150 giorni, eventualmente'\n",
            "page_content='prorogabile, dalla data di ricezione della suddetta comunicazione, entro il quale deve essere \\npresent ata la documentazione relativa alla concessione di un finanziamento a medio lungo \\ntermine e/o la documentazione attestante l’apporto di mezzi propri, finalizzati alla completa \\ncopertura finanziaria del programma di investimenti per la parte non coperta dal le agevolazioni, \\nnonché le eventuali autorizzazioni amministrative necessarie alla realizzazione dell’investimento.  \\nLa documentazione progettuale riferita al progetto definitivo  da parte di Puglia Sviluppo , dovrà \\nessere presentata telematicamente dal sogge tto proponente, utilizzando obbligatoriamente la \\nmodulistica resa disponibile sul sito www.sistema.puglia.it , entro il termine perentorio indicato \\nnella comunicazione sopra citata.  \\nDecorso inutilmente tale term ine ovvero nel caso in cui la documentazione non sia completa, la \\nproposta è dichiarata decaduta.  \\nSulla base delle risultanze istruttorie relative alla valutazione del progetto definitivo, la Regione  \\napprova le proposte determinando l’importo complessivo d elle agevolazioni da concedere in \\nfavore di ogni singolo programma di investimento ed assegna un termine entro il quale procedere \\nalla sottoscrizione del Disciplinare.  \\nEntro il termine assegnato, la Regione ed i soggetti beneficiari sottoscrivono un Discip linare, nel \\nquale sono indicati i reciproci impegni ed obblighi, in particolare le modalità di erogazione delle \\nagevolazioni, le condizioni che possono determinare la revoca delle stesse, gli obblighi connessi al \\nmonitoraggio ed alle attività di accertamen to finale dell’avvenuta realizzazione dei programmi \\nnonché di controllo ed ispezione e quant’altro necessario ai fini della realizzazione del progetto.'\n",
            "page_content='L’erogazione delle agevolazioni è di competenza della Regione Puglia. A tal fine, il soggetto \\nbeneficiar io presenterà le richieste di erogazione delle agevolazioni, le rendicontazioni per stati di \\navanzamento e la documentazione finale di spesa nelle forme, nei modi e nei tempi previsti dal \\nDisciplinare , a seguito di verifica istruttoria da parte di Puglia S viluppo .'\n",
            "page_content='Puglia sviluppo  \\n \\n \\nUNIONE EUROPEA  \\nFONDO EUROPEO DI SVILUPPO REGIONALE   \\nMinistero Sviluppo Economico   \\nREGIONE PUGLIA  \\nDIPARTIMENTO  SVILUPPO  ECONOMICO,  \\n  INNOVAZIONE , ISTRUZIONE,  \\nFORMAZIONE E LAVORO  \\n \\n8 \\n \\nLe richieste di erogazione sono redatte utilizzando gli appositi moduli forniti dalla Regione Puglia  e \\ndisponibili sul sito www.sistema.puglia.it . \\nLa Regione e Puglia Sviluppo possono disporre, in ogni momento, controlli e verifiche, anche in \\ncorso d’opera, sull’attuazione dei progetti.  \\n \\ndove trovo ulteriori informazioni?  \\nRegione Puglia – Dipartimento Sviluppo Economico, Innovazione , Istruzione, Formazione e Lavoro  \\nCorso Sonnino, 177, 70121 B ari.  \\nSiti internet: www.regione.puglia.it  ; www.sistema.puglia.it  ; www.pugliasviluppo.eu.  \\nI moduli e gli allegati del presente Avviso sono resi disponibili sul sito www.s istema.puglia.it . \\n \\nSul sito www. sistema .puglia.it puoi:  \\nn scaricare la normativa e la modulistica;  \\nn verificare i Codici Ateco ammissibili ; \\nn formulare specifiche domande;  \\nn compilare ed inviare l ’istanza di accesso, il business plan ed i relativi allegati .'\n"
          ]
        }
      ],
      "source": [
        "from langchain.text_splitter import RecursiveCharacterTextSplitter\n",
        "from langchain.schema import Document\n",
        "\n",
        "text_splitter = RecursiveCharacterTextSplitter(\n",
        "    chunk_size=500,\n",
        "    chunk_overlap=20,  # number of tokens overlap between chunks\n",
        "    length_function=tiktoken_len,\n",
        "    separators=['\\n\\n', '\\n', ' ', '']\n",
        ")\n",
        "\n",
        "\n",
        "split_docs = []\n",
        "\n",
        "for document in enhanced_documents:\n",
        "  metadata = document.metadata\n",
        "  page_content = document.page_content\n",
        "\n",
        "\n",
        "  split_content = text_splitter.create_documents([page_content])\n",
        "\n",
        "\n",
        "  for content_chunk in split_content:\n",
        "    print(content_chunk)\n",
        "    split_docs.append(Document(metadata = metadata, page_content = content_chunk.page_content))\n",
        "\n"
      ]
    },
    {
      "cell_type": "code",
      "execution_count": 17,
      "metadata": {
        "colab": {
          "base_uri": "https://localhost:8080/"
        },
        "id": "FKhPyVd-GI_-",
        "outputId": "378aeb0e-a4bc-4bbb-f7a7-edc6c2678d60"
      },
      "outputs": [
        {
          "output_type": "stream",
          "name": "stdout",
          "text": [
            "0 {'Tipo_Imprese': 'Piccole e Medie Imprese', 'source': 'Aiuti agli Investimenti delle Piccole e Medie Imprese (Titolo II Capo 3 Reg_ Regionale 17_2014)_br ___br __.pdf', 'page': 0}\n",
            "1 {'Tipo_Imprese': 'Piccole e Medie Imprese', 'source': 'Aiuti agli Investimenti delle Piccole e Medie Imprese (Titolo II Capo 3 Reg_ Regionale 17_2014)_br ___br __.pdf', 'page': 0}\n",
            "2 {'Tipo_Imprese': 'Piccole e Medie Imprese', 'source': 'Aiuti agli Investimenti delle Piccole e Medie Imprese (Titolo II Capo 3 Reg_ Regionale 17_2014)_br ___br __.pdf', 'page': 1}\n",
            "3 {'Tipo_Imprese': 'Piccole e Medie Imprese', 'source': 'Aiuti agli Investimenti delle Piccole e Medie Imprese (Titolo II Capo 3 Reg_ Regionale 17_2014)_br ___br __.pdf', 'page': 1}\n",
            "4 {'Tipo_Imprese': 'Non classificato', 'source': 'Aiuti agli Investimenti delle Piccole e Medie Imprese (Titolo II Capo 3 Reg_ Regionale 17_2014)_br ___br __.pdf', 'page': 2}\n",
            "5 {'Tipo_Imprese': 'Non classificato', 'source': 'Aiuti agli Investimenti delle Piccole e Medie Imprese (Titolo II Capo 3 Reg_ Regionale 17_2014)_br ___br __.pdf', 'page': 2}\n",
            "6 {'Tipo_Imprese': 'Non classificato', 'source': 'Aiuti agli Investimenti delle Piccole e Medie Imprese (Titolo II Capo 3 Reg_ Regionale 17_2014)_br ___br __.pdf', 'page': 2}\n",
            "7 {'Tipo_Imprese': 'Non classificato', 'source': 'Aiuti agli Investimenti delle Piccole e Medie Imprese (Titolo II Capo 3 Reg_ Regionale 17_2014)_br ___br __.pdf', 'page': 3}\n",
            "8 {'Tipo_Imprese': 'Non classificato', 'source': 'Aiuti agli Investimenti delle Piccole e Medie Imprese (Titolo II Capo 3 Reg_ Regionale 17_2014)_br ___br __.pdf', 'page': 3}\n",
            "9 {'Tipo_Imprese': 'Non classificato', 'source': 'Aiuti agli Investimenti delle Piccole e Medie Imprese (Titolo II Capo 3 Reg_ Regionale 17_2014)_br ___br __.pdf', 'page': 3}\n",
            "10 {'Tipo_Imprese': 'Non classificato', 'source': 'Aiuti agli Investimenti delle Piccole e Medie Imprese (Titolo II Capo 3 Reg_ Regionale 17_2014)_br ___br __.pdf', 'page': 4}\n",
            "11 {'Tipo_Imprese': 'Non classificato', 'source': 'Aiuti agli Investimenti delle Piccole e Medie Imprese (Titolo II Capo 3 Reg_ Regionale 17_2014)_br ___br __.pdf', 'page': 4}\n",
            "12 {'Tipo_Imprese': 'Non classificato', 'source': 'Aiuti agli Investimenti delle Piccole e Medie Imprese (Titolo II Capo 3 Reg_ Regionale 17_2014)_br ___br __.pdf', 'page': 5}\n",
            "13 {'Tipo_Imprese': 'Non classificato', 'source': 'Aiuti agli Investimenti delle Piccole e Medie Imprese (Titolo II Capo 3 Reg_ Regionale 17_2014)_br ___br __.pdf', 'page': 5}\n",
            "14 {'Tipo_Imprese': 'Non classificato', 'source': 'Aiuti agli Investimenti delle Piccole e Medie Imprese (Titolo II Capo 3 Reg_ Regionale 17_2014)_br ___br __.pdf', 'page': 6}\n",
            "15 {'Tipo_Imprese': 'Non classificato', 'source': 'Aiuti agli Investimenti delle Piccole e Medie Imprese (Titolo II Capo 3 Reg_ Regionale 17_2014)_br ___br __.pdf', 'page': 6}\n",
            "16 {'Tipo_Imprese': 'Piccole Imprese', 'source': 'Aiuti agli Investimenti delle Piccole e Medie Imprese (Titolo II Capo 3 Reg_ Regionale 17_2014)_br ___br __.pdf', 'page': 7}\n",
            "17 {'Tipo_Imprese': 'Piccole Imprese', 'source': 'Aiuti agli Investimenti delle Piccole e Medie Imprese (Titolo II Capo 3 Reg_ Regionale 17_2014)_br ___br __.pdf', 'page': 7}\n",
            "18 {'Tipo_Imprese': 'Piccole Imprese', 'source': 'Aiuti agli Investimenti delle Piccole e Medie Imprese (Titolo II Capo 3 Reg_ Regionale 17_2014)_br ___br __.pdf', 'page': 8}\n",
            "19 {'Tipo_Imprese': 'Piccole Imprese', 'source': 'Aiuti agli Investimenti delle Piccole e Medie Imprese (Titolo II Capo 3 Reg_ Regionale 17_2014)_br ___br __.pdf', 'page': 8}\n",
            "20 {'Tipo_Imprese': 'Non classificato', 'source': 'Aiuti agli Investimenti delle Piccole e Medie Imprese (Titolo II Capo 3 Reg_ Regionale 17_2014)_br ___br __.pdf', 'page': 9}\n",
            "21 {'Tipo_Imprese': 'Non classificato', 'source': 'Aiuti agli Investimenti delle Piccole e Medie Imprese (Titolo II Capo 3 Reg_ Regionale 17_2014)_br ___br __.pdf', 'page': 9}\n",
            "22 {'Tipo_Imprese': 'Grandi Imprese', 'source': 'Contratti di Programma per Grandi Imprese Singole o con PMI aderenti (Art_ 17 Reg_ Regionale 17_2014 e s_m_i_).pdf', 'page': 0}\n",
            "23 {'Tipo_Imprese': 'Grandi Imprese', 'source': 'Contratti di Programma per Grandi Imprese Singole o con PMI aderenti (Art_ 17 Reg_ Regionale 17_2014 e s_m_i_).pdf', 'page': 0}\n",
            "24 {'Tipo_Imprese': 'Grandi Imprese', 'source': 'Contratti di Programma per Grandi Imprese Singole o con PMI aderenti (Art_ 17 Reg_ Regionale 17_2014 e s_m_i_).pdf', 'page': 1}\n",
            "25 {'Tipo_Imprese': 'Grandi Imprese', 'source': 'Contratti di Programma per Grandi Imprese Singole o con PMI aderenti (Art_ 17 Reg_ Regionale 17_2014 e s_m_i_).pdf', 'page': 1}\n",
            "26 {'Tipo_Imprese': 'Grandi Imprese', 'source': 'Contratti di Programma per Grandi Imprese Singole o con PMI aderenti (Art_ 17 Reg_ Regionale 17_2014 e s_m_i_).pdf', 'page': 1}\n",
            "27 {'Tipo_Imprese': 'Medie Imprese', 'source': 'Contratti di Programma per Grandi Imprese Singole o con PMI aderenti (Art_ 17 Reg_ Regionale 17_2014 e s_m_i_).pdf', 'page': 2}\n",
            "28 {'Tipo_Imprese': 'Medie Imprese', 'source': 'Contratti di Programma per Grandi Imprese Singole o con PMI aderenti (Art_ 17 Reg_ Regionale 17_2014 e s_m_i_).pdf', 'page': 2}\n",
            "29 {'Tipo_Imprese': 'Medie Imprese', 'source': 'Contratti di Programma per Grandi Imprese Singole o con PMI aderenti (Art_ 17 Reg_ Regionale 17_2014 e s_m_i_).pdf', 'page': 2}\n",
            "30 {'Tipo_Imprese': 'Non classificato', 'source': 'Contratti di Programma per Grandi Imprese Singole o con PMI aderenti (Art_ 17 Reg_ Regionale 17_2014 e s_m_i_).pdf', 'page': 3}\n",
            "31 {'Tipo_Imprese': 'Non classificato', 'source': 'Contratti di Programma per Grandi Imprese Singole o con PMI aderenti (Art_ 17 Reg_ Regionale 17_2014 e s_m_i_).pdf', 'page': 3}\n",
            "32 {'Tipo_Imprese': 'Non classificato', 'source': 'Contratti di Programma per Grandi Imprese Singole o con PMI aderenti (Art_ 17 Reg_ Regionale 17_2014 e s_m_i_).pdf', 'page': 4}\n",
            "33 {'Tipo_Imprese': 'Non classificato', 'source': 'Contratti di Programma per Grandi Imprese Singole o con PMI aderenti (Art_ 17 Reg_ Regionale 17_2014 e s_m_i_).pdf', 'page': 4}\n",
            "34 {'Tipo_Imprese': 'Non classificato', 'source': 'Contratti di Programma per Grandi Imprese Singole o con PMI aderenti (Art_ 17 Reg_ Regionale 17_2014 e s_m_i_).pdf', 'page': 4}\n",
            "35 {'Tipo_Imprese': 'Non classificato', 'source': 'Contratti di Programma per Grandi Imprese Singole o con PMI aderenti (Art_ 17 Reg_ Regionale 17_2014 e s_m_i_).pdf', 'page': 5}\n",
            "36 {'Tipo_Imprese': 'Non classificato', 'source': 'Contratti di Programma per Grandi Imprese Singole o con PMI aderenti (Art_ 17 Reg_ Regionale 17_2014 e s_m_i_).pdf', 'page': 5}\n",
            "37 {'Tipo_Imprese': 'Non classificato', 'source': 'Contratti di Programma per Grandi Imprese Singole o con PMI aderenti (Art_ 17 Reg_ Regionale 17_2014 e s_m_i_).pdf', 'page': 6}\n",
            "38 {'Tipo_Imprese': 'Non classificato', 'source': 'Contratti di Programma per Grandi Imprese Singole o con PMI aderenti (Art_ 17 Reg_ Regionale 17_2014 e s_m_i_).pdf', 'page': 6}\n",
            "39 {'Tipo_Imprese': 'Non classificato', 'source': 'Contratti di Programma per Grandi Imprese Singole o con PMI aderenti (Art_ 17 Reg_ Regionale 17_2014 e s_m_i_).pdf', 'page': 7}\n",
            "40 {'Tipo_Imprese': 'Non classificato', 'source': 'Contratti di Programma per Grandi Imprese Singole o con PMI aderenti (Art_ 17 Reg_ Regionale 17_2014 e s_m_i_).pdf', 'page': 7}\n",
            "41 {'Tipo_Imprese': 'Non classificato', 'source': 'Contratti di Programma per Grandi Imprese Singole o con PMI aderenti (Art_ 17 Reg_ Regionale 17_2014 e s_m_i_).pdf', 'page': 7}\n",
            "42 {'Tipo_Imprese': 'Piccole Imprese', 'source': 'Programmi Integrati di Agevolazioni PIA Piccole Imprese (Art_ 27 Reg_ Regionale 17_2014 e s_m_i_).pdf', 'page': 0}\n",
            "43 {'Tipo_Imprese': 'Piccole Imprese', 'source': 'Programmi Integrati di Agevolazioni PIA Piccole Imprese (Art_ 27 Reg_ Regionale 17_2014 e s_m_i_).pdf', 'page': 0}\n",
            "44 {'Tipo_Imprese': 'Piccole Imprese', 'source': 'Programmi Integrati di Agevolazioni PIA Piccole Imprese (Art_ 27 Reg_ Regionale 17_2014 e s_m_i_).pdf', 'page': 1}\n",
            "45 {'Tipo_Imprese': 'Piccole Imprese', 'source': 'Programmi Integrati di Agevolazioni PIA Piccole Imprese (Art_ 27 Reg_ Regionale 17_2014 e s_m_i_).pdf', 'page': 1}\n",
            "46 {'Tipo_Imprese': 'Piccole Imprese', 'source': 'Programmi Integrati di Agevolazioni PIA Piccole Imprese (Art_ 27 Reg_ Regionale 17_2014 e s_m_i_).pdf', 'page': 1}\n",
            "47 {'Tipo_Imprese': 'Non classificato', 'source': 'Programmi Integrati di Agevolazioni PIA Piccole Imprese (Art_ 27 Reg_ Regionale 17_2014 e s_m_i_).pdf', 'page': 2}\n",
            "48 {'Tipo_Imprese': 'Non classificato', 'source': 'Programmi Integrati di Agevolazioni PIA Piccole Imprese (Art_ 27 Reg_ Regionale 17_2014 e s_m_i_).pdf', 'page': 2}\n",
            "49 {'Tipo_Imprese': 'Non classificato', 'source': 'Programmi Integrati di Agevolazioni PIA Piccole Imprese (Art_ 27 Reg_ Regionale 17_2014 e s_m_i_).pdf', 'page': 2}\n",
            "50 {'Tipo_Imprese': 'Piccole Imprese', 'source': 'Programmi Integrati di Agevolazioni PIA Piccole Imprese (Art_ 27 Reg_ Regionale 17_2014 e s_m_i_).pdf', 'page': 3}\n",
            "51 {'Tipo_Imprese': 'Piccole Imprese', 'source': 'Programmi Integrati di Agevolazioni PIA Piccole Imprese (Art_ 27 Reg_ Regionale 17_2014 e s_m_i_).pdf', 'page': 3}\n",
            "52 {'Tipo_Imprese': 'Piccole Imprese', 'source': 'Programmi Integrati di Agevolazioni PIA Piccole Imprese (Art_ 27 Reg_ Regionale 17_2014 e s_m_i_).pdf', 'page': 4}\n",
            "53 {'Tipo_Imprese': 'Piccole Imprese', 'source': 'Programmi Integrati di Agevolazioni PIA Piccole Imprese (Art_ 27 Reg_ Regionale 17_2014 e s_m_i_).pdf', 'page': 4}\n",
            "54 {'Tipo_Imprese': 'Piccole Imprese', 'source': 'Programmi Integrati di Agevolazioni PIA Piccole Imprese (Art_ 27 Reg_ Regionale 17_2014 e s_m_i_).pdf', 'page': 5}\n",
            "55 {'Tipo_Imprese': 'Piccole Imprese', 'source': 'Programmi Integrati di Agevolazioni PIA Piccole Imprese (Art_ 27 Reg_ Regionale 17_2014 e s_m_i_).pdf', 'page': 5}\n",
            "56 {'Tipo_Imprese': 'Piccole Imprese', 'source': 'Programmi Integrati di Agevolazioni PIA Piccole Imprese (Art_ 27 Reg_ Regionale 17_2014 e s_m_i_).pdf', 'page': 6}\n",
            "57 {'Tipo_Imprese': 'Piccole Imprese', 'source': 'Programmi Integrati di Agevolazioni PIA Piccole Imprese (Art_ 27 Reg_ Regionale 17_2014 e s_m_i_).pdf', 'page': 6}\n",
            "58 {'Tipo_Imprese': 'Piccole Imprese', 'source': 'Programmi Integrati di Agevolazioni PIA Piccole Imprese (Art_ 27 Reg_ Regionale 17_2014 e s_m_i_).pdf', 'page': 6}\n",
            "59 {'Tipo_Imprese': 'Non classificato', 'source': 'Programmi Integrati di Agevolazioni PIA Piccole Imprese (Art_ 27 Reg_ Regionale 17_2014 e s_m_i_).pdf', 'page': 7}\n"
          ]
        }
      ],
      "source": [
        "for i, doc in enumerate(split_docs):\n",
        "    print(f\"{i} {doc.metadata}\")"
      ]
    },
    {
      "cell_type": "code",
      "execution_count": null,
      "metadata": {
        "id": "X3qe4LORwsK9"
      },
      "outputs": [],
      "source": [
        "import pandas as pd\n",
        "\n",
        "df= pd.DataFrame(split_docs)\n",
        "\n",
        "df.to_csv(\"df_with metadata_tag\", index=False)\n",
        "df"
      ]
    },
    {
      "cell_type": "code",
      "execution_count": null,
      "metadata": {
        "id": "sGUGTRRQxXqA"
      },
      "outputs": [],
      "source": [
        "import pandas as pd\n",
        "\n",
        "# Assuming df is your DataFrame\n",
        "pd.set_option('display.max_colwidth', None)\n",
        "\n",
        "# Display the DataFrame\n",
        "df.head(30)\n"
      ]
    },
    {
      "cell_type": "code",
      "execution_count": 19,
      "metadata": {
        "colab": {
          "base_uri": "https://localhost:8080/"
        },
        "id": "QfRmQjKrwjUE",
        "outputId": "62b38433-6937-40ed-8a8c-edf61e798da4"
      },
      "outputs": [
        {
          "output_type": "execute_result",
          "data": {
            "text/plain": [
              "Document(page_content='Puglia sviluppo  \\n \\n \\nUNIONE EUROPEA  \\nFONDO EUROPEO DI SVILUPPO REGIONALE   \\nMinistero Sviluppo Economico   \\nREGIONE PUGLIA  \\nDIPARTIMENTO SVILUPPO ECONOMICO,  \\n  INNOVAZIONE, ISTRUZIONE,  \\nFORMAZIONE E LAVORO  \\n \\n3 \\n \\n✓ 33.15 “Riparazione e manutenzione di navi e imbarcazioni (esclusi i motori), “limitatamente alla “riparazione \\ne manutenzione ordinaria di navi”.  \\nSono ammissibili anche gli investimenti riguardanti i seguenti servizi di cui alla “Classificazione \\ndelle Attività economiche ATECO 2007”: “52”, “58”, “59”, “61”, “62”, “63” limitatamente alle \\nsottocategorie “63.11.20”, “63.11.30”, “63.12.00” e “63 .91.00”, “71.2”, “72”, “82” limitatamente \\nalla classe “82.20.00 attività dei call center”, nonché le sottocategorie:  \\n- “38.22.00 Trattamento e smaltimento di rifiuti pericolosi” limitatamente ai rifiuti di \\namianto.  \\n- “38.31.10 Demolizione di carcasse”;  \\n- “38.31 .20 Cantieri di demolizione navali”;  \\n- “38.32.10 Recupero e preparazione per il riciclaggio di cascami e rottami metallici”;  \\n- “38.32.20 Recupero e preparazione per il riciclaggio di materiale plastico per \\nproduzione di materie prime plastiche, resine sintetic he”;  \\n- “38.32.30 Recupero e preparazione per il riciclaggio di rifiuti solidi urbani, industriali e \\nbiomasse”. Tale Codice è ammissibile esclusivamente per il riciclaggio di rifiuti', metadata={'Tipo_Imprese': 'Medie Imprese', 'source': 'Contratti di Programma per Grandi Imprese Singole o con PMI aderenti (Art_ 17 Reg_ Regionale 17_2014 e s_m_i_).pdf', 'page': 2})"
            ]
          },
          "metadata": {},
          "execution_count": 19
        }
      ],
      "source": [
        "split_docs[27]"
      ]
    },
    {
      "cell_type": "markdown",
      "metadata": {
        "id": "8FL06DlU-A0q"
      },
      "source": [
        "Qui provo a cambiare a mano una label decisa da me"
      ]
    },
    {
      "cell_type": "code",
      "execution_count": 21,
      "metadata": {
        "id": "O69cKzEO13gJ"
      },
      "outputs": [],
      "source": [
        "for doc in split_docs:\n",
        "  if doc.metadata['source'] == \"Contratti di Programma per Grandi Imprese Singole o con PMI aderenti (Art_ 17 Reg_ Regionale 17_2014 e s_m_i_).pdf\" and doc.metadata['page'] == 2:\n",
        "    doc.metadata['Tipo_Imprese'] = 'Medie Imprese'\n"
      ]
    },
    {
      "cell_type": "code",
      "source": [
        "split_docs[27].metadata"
      ],
      "metadata": {
        "colab": {
          "base_uri": "https://localhost:8080/"
        },
        "id": "Q_Mxn6eJBGI2",
        "outputId": "32e8d365-3d95-4f6d-cdf1-cb0dbe74dc3b"
      },
      "execution_count": 20,
      "outputs": [
        {
          "output_type": "execute_result",
          "data": {
            "text/plain": [
              "{'Tipo_Imprese': 'Medie Imprese',\n",
              " 'source': 'Contratti di Programma per Grandi Imprese Singole o con PMI aderenti (Art_ 17 Reg_ Regionale 17_2014 e s_m_i_).pdf',\n",
              " 'page': 2}"
            ]
          },
          "metadata": {},
          "execution_count": 20
        }
      ]
    },
    {
      "cell_type": "markdown",
      "metadata": {
        "id": "axJqvzDPtZhS"
      },
      "source": [
        "Voglio salvarmi il dataset con oggetti di tipo document:"
      ]
    },
    {
      "cell_type": "code",
      "execution_count": 22,
      "metadata": {
        "id": "M1YaUPyn1BEv"
      },
      "outputs": [],
      "source": [
        "import pickle\n",
        "\n",
        "with open('./Metadata_tagging_RAG/chunk_labellati.pkl', 'wb') as file:\n",
        "    pickle.dump(split_docs, file)\n"
      ]
    },
    {
      "cell_type": "code",
      "source": [
        "import pickle\n",
        "with open('./Metadata_tagging_RAG/chunk_labellati.pkl', 'rb') as file:\n",
        "    loaded_docs = pickle.load(file)\n"
      ],
      "metadata": {
        "id": "Azq-GdJLB-Vb"
      },
      "execution_count": 23,
      "outputs": []
    },
    {
      "cell_type": "code",
      "execution_count": 24,
      "metadata": {
        "colab": {
          "base_uri": "https://localhost:8080/"
        },
        "id": "gpQeZyExCuC3",
        "outputId": "b25863b6-81a8-439c-b125-2007ed64d9b0"
      },
      "outputs": [
        {
          "output_type": "stream",
          "name": "stdout",
          "text": [
            "Numero di chunks 60\n"
          ]
        }
      ],
      "source": [
        "print(f'Numero di chunks {len(split_docs)}')"
      ]
    },
    {
      "cell_type": "markdown",
      "metadata": {
        "id": "IjCVltiu-ssO"
      },
      "source": [
        "#Creazione del Vector Store"
      ]
    },
    {
      "cell_type": "code",
      "execution_count": 25,
      "metadata": {
        "id": "TBneD_5lC25t"
      },
      "outputs": [],
      "source": [
        "from langchain.embeddings.openai import OpenAIEmbeddings\n",
        "embedding = OpenAIEmbeddings()"
      ]
    },
    {
      "cell_type": "code",
      "execution_count": null,
      "metadata": {
        "id": "E10Z4y-ANMms"
      },
      "outputs": [],
      "source": [
        "from langchain.vectorstores import Chroma\n",
        "persist_directory = './Tesi/Documenti/docs/chroma/'"
      ]
    },
    {
      "cell_type": "markdown",
      "metadata": {
        "id": "f-LqGBrv-oH-"
      },
      "source": [
        "Creo un vector store con Chroma"
      ]
    },
    {
      "cell_type": "code",
      "execution_count": null,
      "metadata": {
        "id": "u_j9rj2BOE_f"
      },
      "outputs": [],
      "source": [
        "vectordb = Chroma.from_documents(\n",
        "    documents=split_docs,\n",
        "    embedding=embedding,\n",
        "    persist_directory=persist_directory\n",
        ")"
      ]
    },
    {
      "cell_type": "code",
      "execution_count": null,
      "metadata": {
        "id": "7hLVXep-s3cY"
      },
      "outputs": [],
      "source": [
        "vectordb = Chroma(persist_directory = persist_directory, embedding_function= embedding)"
      ]
    },
    {
      "cell_type": "code",
      "execution_count": null,
      "metadata": {
        "colab": {
          "base_uri": "https://localhost:8080/"
        },
        "id": "g46scIryOMuA",
        "outputId": "990c8db4-949f-41b4-8c3c-55fde21d17da"
      },
      "outputs": [
        {
          "name": "stdout",
          "output_type": "stream",
          "text": [
            "127\n"
          ]
        }
      ],
      "source": [
        "print(vectordb._collection.count())"
      ]
    },
    {
      "cell_type": "code",
      "execution_count": null,
      "metadata": {
        "id": "AE_MidE9NmMs"
      },
      "outputs": [],
      "source": [
        "# !rm -rf ./Tesi/Documenti/docs/chroma/ # remove old database files if any"
      ]
    },
    {
      "cell_type": "code",
      "execution_count": 26,
      "metadata": {
        "id": "uHibXEmhC0vl"
      },
      "outputs": [],
      "source": [
        "def insert_or_fetch_embeddings(index_name, chunks):\n",
        "    import pinecone\n",
        "    from langchain.vectorstores import Pinecone\n",
        "    from langchain.embeddings.openai import OpenAIEmbeddings\n",
        "\n",
        "    embeddings = OpenAIEmbeddings()\n",
        "\n",
        "    pinecone.init(api_key=os.environ.get('PINECONE_API_KEY'), environment=os.environ.get('PINECONE_ENV'))\n",
        "\n",
        "    if index_name in pinecone.list_indexes():\n",
        "        print(f'Index {index_name} esiste. Loading embeddings ... ', end='')\n",
        "        vector_store = Pinecone.from_existing_index(index_name, embeddings)\n",
        "        print('Ok')\n",
        "    else:\n",
        "        print(f'Creazione di index {index_name} e embeddings ...', end='')\n",
        "        pinecone.create_index(index_name, dimension=1536, metric='cosine')\n",
        "        vector_store = Pinecone.from_documents(chunks, embeddings, index_name=index_name)\n",
        "        print('Ok')\n",
        "\n",
        "    return vector_store"
      ]
    },
    {
      "cell_type": "code",
      "execution_count": 27,
      "metadata": {
        "colab": {
          "base_uri": "https://localhost:8080/"
        },
        "id": "cwXPPNQeC52Y",
        "outputId": "9ee07536-c93e-420e-8d1d-e4d66da9646f"
      },
      "outputs": [
        {
          "output_type": "stream",
          "name": "stdout",
          "text": [
            "1536\n"
          ]
        }
      ],
      "source": [
        "vector = embedding.embed_query(split_docs[0].page_content)\n",
        "print(len(vector))"
      ]
    },
    {
      "cell_type": "code",
      "execution_count": null,
      "metadata": {
        "colab": {
          "base_uri": "https://localhost:8080/"
        },
        "id": "FLCAGneFC6_X",
        "outputId": "50bb8300-e69b-48df-d9a9-2aa05c6d4a17"
      },
      "outputs": [
        {
          "output_type": "stream",
          "name": "stdout",
          "text": [
            "Numero totale di Token: 22416\n",
            "Costo degli Embedding $: 0.002242\n"
          ]
        }
      ],
      "source": [
        "def print_embedding_cost(texts):\n",
        "    import tiktoken\n",
        "    enc = tiktoken.encoding_for_model('text-embedding-ada-002')\n",
        "    total_tokens = sum([len(enc.encode(page.page_content)) for page in texts])\n",
        "    print(f'Numero totale di Token: {total_tokens}')\n",
        "    print(f'Costo degli Embedding $: {total_tokens / 1000 * 0.0001:.6f}')\n",
        "\n",
        "print_embedding_cost(split_docs)"
      ]
    },
    {
      "cell_type": "code",
      "execution_count": 28,
      "metadata": {
        "colab": {
          "base_uri": "https://localhost:8080/"
        },
        "id": "CA1Ptid3C9JC",
        "outputId": "ae93c049-1622-4cb2-86fa-a24940f688fe"
      },
      "outputs": [
        {
          "output_type": "stream",
          "name": "stderr",
          "text": [
            "/usr/local/lib/python3.10/dist-packages/pinecone/index.py:4: TqdmExperimentalWarning: Using `tqdm.autonotebook.tqdm` in notebook mode. Use `tqdm.tqdm` instead to force console mode (e.g. in jupyter console)\n",
            "  from tqdm.autonotebook import tqdm\n"
          ]
        }
      ],
      "source": [
        "import pinecone\n",
        "\n",
        "pinecone.init(\n",
        "    api_key=os.environ.get('PINECONE_API_KEY'),\n",
        "    environment=os.environ.get('PINECONE_ENV')\n",
        ")"
      ]
    },
    {
      "cell_type": "code",
      "execution_count": 29,
      "metadata": {
        "colab": {
          "base_uri": "https://localhost:8080/"
        },
        "id": "n4FVd0GSC_Oy",
        "outputId": "db1f77dd-53e8-4100-b294-13daff2d86e3"
      },
      "outputs": [
        {
          "output_type": "execute_result",
          "data": {
            "text/plain": [
              "['embedding-bandi']"
            ]
          },
          "metadata": {},
          "execution_count": 29
        }
      ],
      "source": [
        "pinecone.list_indexes()"
      ]
    },
    {
      "cell_type": "code",
      "execution_count": 30,
      "metadata": {
        "colab": {
          "base_uri": "https://localhost:8080/"
        },
        "id": "hoRbwGtvDBt3",
        "outputId": "e6f5a756-e19e-47eb-d77c-7c0fb6e83c84"
      },
      "outputs": [
        {
          "output_type": "stream",
          "name": "stdout",
          "text": [
            "ok\n"
          ]
        }
      ],
      "source": [
        "indexes = pinecone.list_indexes()\n",
        "for i in indexes:\n",
        "  pinecone.delete_index(i)\n",
        "  print('ok')"
      ]
    },
    {
      "cell_type": "code",
      "execution_count": null,
      "metadata": {
        "id": "o377q8BtqIAz"
      },
      "outputs": [],
      "source": [
        "#runnare solo se non si cancella l'index\n",
        "# split_docs = []"
      ]
    },
    {
      "cell_type": "markdown",
      "metadata": {
        "id": "7ghLDbqE-zl7"
      },
      "source": [
        "Mentre qui creo un vectorstore di Pinecone"
      ]
    },
    {
      "cell_type": "code",
      "execution_count": 31,
      "metadata": {
        "colab": {
          "base_uri": "https://localhost:8080/"
        },
        "id": "0qWCAF-7DF9C",
        "outputId": "245c97cc-9383-45fe-9435-ae97b60f33ad"
      },
      "outputs": [
        {
          "output_type": "stream",
          "name": "stdout",
          "text": [
            "Creazione di index embedding-bandi e embeddings ...Ok\n"
          ]
        }
      ],
      "source": [
        "index_name = 'embedding-bandi'\n",
        "vector_store = insert_or_fetch_embeddings(index_name, split_docs)"
      ]
    },
    {
      "cell_type": "markdown",
      "metadata": {
        "id": "dAjbSZu9-6TI"
      },
      "source": [
        "provo a fare una similarity search su Pinecone filtrando una label"
      ]
    },
    {
      "cell_type": "code",
      "execution_count": 36,
      "metadata": {
        "colab": {
          "base_uri": "https://localhost:8080/"
        },
        "id": "BAVZA6HjDHJy",
        "outputId": "7468aa98-cf2a-4549-f611-6a17190ef3cd"
      },
      "outputs": [
        {
          "output_type": "stream",
          "name": "stdout",
          "text": [
            "[Document(page_content='Determina n. 541 del 08/08/2019 , pubblicata sul B.U.R.P. del  13/02/2020  n. 20. \\n \\nchi può richiedere l’agevolazione?  \\nPuò richiedere l’agevolazione : \\n- un’impresa  di piccola  dimensione come da definizione di cui all’Allegato I del Regolamento \\n(UE) 651/2014 della Commissione del 17 giugno 2014, in regime di contabilità ordinaria, \\nche: \\n1. alla data di presentazione della domanda abbia già approvato almeno tre bilanci ; \\n2. abbia regist rato nei tre esercizi precedenti un fatturato medio non inferiore a 1,5 \\nmilioni di euro ed abbiano registrato, nei 12 mesi antecedenti la presentazione della \\ndomanda, un numero di ULA almeno pari a 10.  \\n- un’impres a di piccola dimensione non attiv a, controll ata da una  piccola impresa che abbia:  \\n1. approvato almeno tre bilanci alla data di presentazione della domanda ; \\n2. registrato nei tre esercizi precedenti un fatturato medio non inferiore a 1,5 milioni di \\neuro ; \\n3. registrato, nei 12 mesi antecedenti la presentazione  della domanda, un numero di ULA \\nalmeno pari a 10 .', metadata={'Tipo_Imprese': 'Piccole Imprese', 'page': 0.0, 'source': 'Programmi Integrati di Agevolazioni PIA Piccole Imprese (Art_ 27 Reg_ Regionale 17_2014 e s_m_i_).pdf'}), Document(page_content=\"Voci di Spesa  R&S  \\nAgevolazioni  \\n(% di contributo a fondo perduto)  \\nLe agevolazioni, compresa l’eventuale maggiorazione, per gli \\ninvestimenti in ricerca e sviluppo non potranno superare, \\nindipendentemente dall’ammontare dell’investimento \\nammissibile, i seguenti importi:  \\ni.Euro 5 milioni per attività di ricerca industriale;  \\nii.Euro 3,5 milioni per attività di sviluppo sperimentale;  \\niii.Euro 0,5 milioni per gli studi di fattibilità tecnica;  \\niv.Euro 2 milioni per i brevetti.  \\nRicerca Industriale  70% PICCOLE IMPRESE  \\n(a specifiche condizioni, previste dall’Avviso, è concedibile la \\nmaggiorazione di 15% fino ad un massimo dell'80%)  \\nSviluppo Sperimentale  45% PICCOLE IMPRESE  \\n(a specifiche condizioni, previste dall’Avviso, è concedibile la \\nmaggiorazione di 15%)  \\nNell’ambito della Ricerca Industrial e e \\ndello Sviluppo Sperimentale sono anche \\nammissibili investimenti relativi a:  \\n- studi di fattibilità tecnica  \\n \\n 50% PICCOLE IMPRESE\", metadata={'Tipo_Imprese': 'Piccole Imprese', 'page': 4.0, 'source': 'Programmi Integrati di Agevolazioni PIA Piccole Imprese (Art_ 27 Reg_ Regionale 17_2014 e s_m_i_).pdf'}), Document(page_content=\"del Regolamento regionale. Tale soglia è incrementata fino \\na 120 mila Euro per le imprese che abbiano conseguito il \\nrating di legalità.   \\nCertificazione ex novo EMAS  \\n45% PICCOLE IMPRESE  \\n(50% nel caso di rating di legalità)  Certificazione ex novo ISO 14001  \\nCertificazione ex novo ECOLABEL  \\nstudi di fattibilità volti a valutare i \\nvantaggi economici dell'impresa \\nderivanti dall'adozione di soluzioni \\ntecnologiche ecoefficienti  \\nCertificazione ex novo SA8000  \\nProgrammi di Internazionalizzazione  \\nProgrammi di Marketing Internazionale  \\nE-Business  \\nPartecipazione a fiera  \\n \\ncome posso richiedere l’agevolazione?  \\nLe domande devono essere inoltrate, a pena di esclusione, unicamente in via telematica \\nattraverso la procedura on line  “PIA Piccole  Imprese” messa a disposizione all’indirizzo \\nwww.sistema.puglia.it . Il soggetto proponente e gli eventuali aderenti devono trasmettere\", metadata={'Tipo_Imprese': 'Piccole Imprese', 'page': 5.0, 'source': 'Programmi Integrati di Agevolazioni PIA Piccole Imprese (Art_ 27 Reg_ Regionale 17_2014 e s_m_i_).pdf'}), Document(page_content='alla classe “82.20.00 attività dei call center”, nonché le sottocategorie:', metadata={'Tipo_Imprese': 'Piccole Imprese', 'page': 1.0, 'source': 'Programmi Integrati di Agevolazioni PIA Piccole Imprese (Art_ 27 Reg_ Regionale 17_2014 e s_m_i_).pdf'})]\n"
          ]
        }
      ],
      "source": [
        "query = \"Sono una piccola impresa quali agevolazioni mi spettano?\"\n",
        "\n",
        "results = vector_store.similarity_search(query, filter = {'Tipo_Imprese': 'Piccole Imprese'} )\n",
        "print(results)"
      ]
    },
    {
      "cell_type": "markdown",
      "metadata": {
        "id": "UY9b1TvoLUNU"
      },
      "source": [
        "Mastering Pinecone’s Advanced Filtering Techniques\n",
        "Pinecone’s filtering query language takes a leaf out of MongoDB’s book, employing a similar structure of query and projection operators. This allows us to create complex metadata filters using logical operators like AND and OR. Here are some operators you can use:\n",
        "\n",
        "\n",
        "```\n",
        "\n",
        "$eq - Equal to (number, string, boolean)\n",
        "$ne - Not equal to (number, string, boolean)\n",
        "$gt - Greater than (number)\n",
        "$gte - Greater than or equal to (number)\n",
        "$lt - Less than (number)\n",
        "$lte - Less than or equal to (number)\n",
        "$in - In array (string or number)\n",
        "$nin - Not in array (string or number)\n",
        "```\n",
        "\n"
      ]
    },
    {
      "cell_type": "markdown",
      "metadata": {
        "id": "uNQ8Wfn0_KMy"
      },
      "source": [
        "###Label retrieval dalla query"
      ]
    },
    {
      "cell_type": "code",
      "execution_count": 32,
      "metadata": {
        "id": "IvRKGCnuiP_e"
      },
      "outputs": [],
      "source": [
        "from langchain.prompts import ChatPromptTemplate\n",
        "\n",
        "prompt = ChatPromptTemplate.from_template(\n",
        "    \"\"\"Classifica la seguente query per ottenere una label dalla lista:\n",
        "{input}\n",
        "\"\"\"\n",
        ")\n"
      ]
    },
    {
      "cell_type": "code",
      "execution_count": null,
      "metadata": {
        "colab": {
          "base_uri": "https://localhost:8080/"
        },
        "id": "u8xvHTPhBIpQ",
        "outputId": "0b9ba472-4787-4af6-a9c0-b8b888a189e0"
      },
      "outputs": [
        {
          "output_type": "stream",
          "name": "stdout",
          "text": [
            "42                                                                                                                                                             Quali sono i requisiti necessari per essere ammessi al PIA? in riferimento al documento: 'Programmi Integrati di Agevolazioni PIA Piccole Imprese (Art_ 27 Reg_ Regionale 17_2014 e s_m_i_).pdf'\n",
            "43    Quali sono le condizioni necessarie affinché un progetto ricadente nell'ambito della sottocategoria \"38.22.00 Trattamento e smaltimento di rifiuti pericolosi, limitatamente ai rifiuti di amianto\" sia ammissibile? in riferimento al documento: 'Programmi Integrati di Agevolazioni PIA Piccole Imprese (Art_ 27 Reg_ Regionale 17_2014 e s_m_i_).pdf'\n",
            "44                                                                                               Quali sono le intensità di aiuti concessibili per le micro e piccole imprese aderenti nell'ambito del progetto integrato? in riferimento al documento: 'Programmi Integrati di Agevolazioni PIA Piccole Imprese (Art_ 27 Reg_ Regionale 17_2014 e s_m_i_).pdf'\n",
            "45                                                                                                           Quali sono le agevolazioni previste per le piccole imprese che effettuano investimenti in ricerca e sviluppo? in riferimento al documento: 'Programmi Integrati di Agevolazioni PIA Piccole Imprese (Art_ 27 Reg_ Regionale 17_2014 e s_m_i_).pdf'\n",
            "46                                                                                                                                      Quali sono le modalità di erogazione delle agevolazioni previste dal Disciplinare? in riferimento al documento: 'Programmi Integrati di Agevolazioni PIA Piccole Imprese (Art_ 27 Reg_ Regionale 17_2014 e s_m_i_).pdf'\n",
            "47                                                                                                                                                        Quali sono i servizi disponibili sul sito www.sistema.puglia.it? in riferimento al documento: 'Programmi Integrati di Agevolazioni PIA Piccole Imprese (Art_ 27 Reg_ Regionale 17_2014 e s_m_i_).pdf'\n",
            "Name: prompt, dtype: object\n"
          ]
        }
      ],
      "source": [
        "filtro = fine_tuning_dataset[fine_tuning_dataset['prompt'].str.contains('Programmi Integrati di Agevolazioni PIA Piccole Imprese')]\n",
        "\n",
        "print(filtro.prompt)\n"
      ]
    },
    {
      "cell_type": "code",
      "execution_count": null,
      "metadata": {
        "colab": {
          "base_uri": "https://localhost:8080/",
          "height": 54
        },
        "id": "seOOL7IunBTu",
        "outputId": "fbf5f259-e1c0-4053-e1ea-83caa5d73846"
      },
      "outputs": [
        {
          "data": {
            "application/vnd.google.colaboratory.intrinsic+json": {
              "type": "string"
            },
            "text/plain": [
              "\"Qual è l'importo massimo del contributo aggiuntivo in conto impianti per le piccole imprese in possesso del rating di legalità? in riferimento al documento: 'Aiuti agli Investimenti delle Piccole e Medie Imprese (Titolo II Capo 3 Reg_ Regionale 17_2014)_br ___br __.pdf'\""
            ]
          },
          "execution_count": 75,
          "metadata": {},
          "output_type": "execute_result"
        }
      ],
      "source": [
        "fine_tuning_dataset.prompt[11]"
      ]
    },
    {
      "cell_type": "markdown",
      "metadata": {
        "id": "fnR6YHRC_RNG"
      },
      "source": [
        "Qui creo una funzione che data la query trovi,sempre usando la functions create_metadata_tagger, una label da filtrare nel vectorstore.\n",
        "Lo faccio mettendo nelle proprietà label : Literal[tutta la lista dei label], purtroppo faccio copia incolla dalla lista stampata sopra, devo trovare un modo per passargli un attributo dinamico"
      ]
    },
    {
      "cell_type": "code",
      "execution_count": 33,
      "metadata": {
        "id": "bQsEixmBfrXo"
      },
      "outputs": [],
      "source": [
        "from langchain.chat_models import ChatOpenAI\n",
        "from langchain.document_transformers.openai_functions import create_metadata_tagger\n",
        "from langchain.schema import Document\n",
        "from typing import List, Literal\n",
        "from pydantic import BaseModel\n",
        "\n",
        "class Properties(BaseModel):\n",
        "    Tipo_Imprese: Literal['Non classificato', 'Piccole Imprese','Piccole e Medie Imprese', 'Medie Imprese', 'Grandi Imprese']\n",
        "\n",
        "def get_label_from_query(query, llm_model=\"gpt-3.5-turbo-0613\"):\n",
        "    llm = ChatOpenAI(temperature=0, model=llm_model)\n",
        "\n",
        "    metadata_tagger = create_metadata_tagger(Properties, llm)\n",
        "\n",
        "    query_document = Document(page_content=query)\n",
        "    enhanced_query = metadata_tagger.transform_documents([query_document])\n",
        "\n",
        "    label = enhanced_query[0].metadata[\"Tipo_Imprese\"]\n",
        "\n",
        "    return label\n",
        "\n",
        "# query = \"voglio informazioni per le Medie imprese\"\n",
        "# result_label = get_label_from_query(query)\n",
        "# print(f\"Label: {result_label}\")\n"
      ]
    },
    {
      "cell_type": "markdown",
      "metadata": {
        "id": "7UDG1UN-_9uN"
      },
      "source": [
        "Creo una funzione che trovi la risposta usando il filtro dinamico che va passato al retriever"
      ]
    },
    {
      "cell_type": "code",
      "source": [
        "from langchain.chains import RetrievalQA\n",
        "from langchain.chat_models import ChatOpenAI\n",
        "from langchain.vectorstores import Pinecone\n",
        "\n",
        "def get_answer_with_dynamic_filter(query, vector_store, label_to_search, llm_model='gpt-3.5-turbo', temperature=0.7):\n",
        "    llm = ChatOpenAI(model=llm_model, temperature=temperature)\n",
        "\n",
        "    dynamic_label = label_to_search\n",
        "\n",
        "    vectorStore = Pinecone.from_existing_index(index_name, embedding)\n",
        "\n",
        "    retriever = vector_store.as_retriever(search_kwargs={\"k\":5,\n",
        "                                                     'filter': {'Tipo_Imprese': {'$eq': result_label}}\n",
        "                                                     })\n",
        "\n",
        "    chain = RetrievalQA.from_chain_type(llm=llm, chain_type='stuff', retriever=retriever)\n",
        "\n",
        "    answer = chain.run(query)\n",
        "\n",
        "    return answer"
      ],
      "metadata": {
        "id": "IL_Qkg8tfAep"
      },
      "execution_count": 57,
      "outputs": []
    },
    {
      "cell_type": "code",
      "source": [
        "fine_tuning_dataset.prompt[11]"
      ],
      "metadata": {
        "colab": {
          "base_uri": "https://localhost:8080/",
          "height": 36
        },
        "id": "SmIkwTq6L0Gg",
        "outputId": "70fb6b11-7edd-4d8b-bb7c-6a5db779839c"
      },
      "execution_count": 56,
      "outputs": [
        {
          "output_type": "execute_result",
          "data": {
            "text/plain": [
              "\"Qual è l'importo massimo del contributo aggiuntivo in conto impianti per le piccole imprese in possesso del rating di legalità? in riferimento al documento: 'Aiuti agli Investimenti delle Piccole e Medie Imprese (Titolo II Capo 3 Reg_ Regionale 17_2014)_br ___br __.pdf'\""
            ],
            "application/vnd.google.colaboratory.intrinsic+json": {
              "type": "string"
            }
          },
          "metadata": {},
          "execution_count": 56
        }
      ]
    },
    {
      "cell_type": "code",
      "source": [
        "query = fine_tuning_dataset.prompt[11]\n",
        "result_label = get_label_from_query(query)\n",
        "print(result_label)\n",
        "result = get_answer_with_dynamic_filter(query, vector_store, result_label)\n",
        "print(result)"
      ],
      "metadata": {
        "colab": {
          "base_uri": "https://localhost:8080/"
        },
        "id": "CKFp5XcRCmDo",
        "outputId": "93c3565a-68d1-48b0-d3d5-10e812e89d32"
      },
      "execution_count": 58,
      "outputs": [
        {
          "output_type": "stream",
          "name": "stdout",
          "text": [
            "Piccole Imprese\n",
            "Nel documento fornito non è specificato l'importo massimo del contributo aggiuntivo in conto impianti per le piccole imprese in possesso del rating di legalità.\n"
          ]
        }
      ]
    },
    {
      "cell_type": "markdown",
      "source": [
        "Il chunk dove è riportato l'importo massimo è 'Non classificato' quindi non riesce a trovare una specifica risposta, magari andrebbe fatto un controllo sul retriever oppure va migliorato il labeling iniziale"
      ],
      "metadata": {
        "id": "k9bDATAtDOet"
      }
    },
    {
      "cell_type": "code",
      "execution_count": 59,
      "metadata": {
        "colab": {
          "base_uri": "https://localhost:8080/"
        },
        "id": "ZpuNrWnnAIrQ",
        "outputId": "524c9350-2a64-4a25-e6a1-4a159cb34cbf"
      },
      "outputs": [
        {
          "output_type": "stream",
          "name": "stdout",
          "text": [
            "Piccole Imprese\n",
            "L'importo massimo del contributo aggiuntivo in conto impianti per le piccole imprese in possesso del rating di legalità è di 700.000 euro.\n"
          ]
        }
      ],
      "source": [
        "from langchain.chains import RetrievalQA\n",
        "from langchain.chat_models import ChatOpenAI\n",
        "from langchain.vectorstores import Pinecone\n",
        "\n",
        "def get_answer_with_dynamic_filter(query, vector_store, label_to_search, llm_model='gpt-3.5-turbo', temperature=0.7):\n",
        "    llm = ChatOpenAI(model=llm_model, temperature=temperature)\n",
        "\n",
        "    dynamic_label = label_to_search\n",
        "\n",
        "    search_kwargs = {\"k\": 3}\n",
        "\n",
        "    vectorStore = Pinecone.from_existing_index(index_name, embedding)\n",
        "\n",
        "    retriever = vectorStore.as_retriever(search_kwargs=search_kwargs)\n",
        "\n",
        "    chain = RetrievalQA.from_chain_type(llm=llm, chain_type='stuff', retriever=retriever)\n",
        "\n",
        "    answer = chain.run(query)\n",
        "\n",
        "    return answer\n",
        "\n",
        "\n",
        "query = fine_tuning_dataset.prompt[11]\n",
        "result_label = get_label_from_query(query)\n",
        "print(result_label)\n",
        "result = get_answer_with_dynamic_filter(query, vector_store, result_label)\n",
        "print(result)\n"
      ]
    },
    {
      "cell_type": "markdown",
      "source": [
        "Possiamo anche includere le sources che LLM utilizza per rispondere alla nostra domanda. Possiamo farlo utilizzando una versione leggermente diversa di RetrievalQA chiamata RetrievalQAWithSourcesChain: (non trova la risposta filtrando la label)"
      ],
      "metadata": {
        "id": "M6QojUM2g07x"
      }
    },
    {
      "cell_type": "code",
      "source": [
        "from langchain.chains import RetrievalQAWithSourcesChain\n",
        "from langchain.chat_models import ChatOpenAI\n",
        "from langchain.vectorstores import Pinecone\n",
        "\n",
        "def get_answer_with_dynamic_filter_sources(query, vector_store, label_to_search, llm_model='gpt-3.5-turbo', temperature=0.7):\n",
        "    llm = ChatOpenAI(model=llm_model, temperature=temperature)\n",
        "\n",
        "    dynamic_label = label_to_search\n",
        "\n",
        "    search_kwargs = {\"k\": 3}\n",
        "\n",
        "    vectorStore = Pinecone.from_existing_index(index_name, embedding)\n",
        "\n",
        "    retriever = vectorStore.as_retriever()\n",
        "\n",
        "    chain = RetrievalQAWithSourcesChain.from_chain_type(llm=llm, chain_type='stuff', retriever=retriever)\n",
        "\n",
        "    answer = chain(query)\n",
        "\n",
        "    return answer\n",
        "\n",
        "\n",
        "query = fine_tuning_dataset.prompt[11]\n",
        "result_label = get_label_from_query(query)\n",
        "print(result_label)\n",
        "result = get_answer_with_dynamic_filter_sources(query, vector_store, result_label)\n",
        "print(result)\n"
      ],
      "metadata": {
        "colab": {
          "base_uri": "https://localhost:8080/"
        },
        "id": "SC81n-r9hEUG",
        "outputId": "81b7af62-df6c-47dd-8a87-2bd47cc5363e"
      },
      "execution_count": null,
      "outputs": [
        {
          "output_type": "stream",
          "name": "stdout",
          "text": [
            "Piccole Imprese\n",
            "{'question': \"Qual è l'importo massimo del contributo aggiuntivo in conto impianti per le piccole imprese in possesso del rating di legalità? in riferimento al documento: 'Aiuti agli Investimenti delle Piccole e Medie Imprese (Titolo II Capo 3 Reg_ Regionale 17_2014)_br ___br __.pdf'\", 'answer': \"L'importo massimo del contributo aggiuntivo in conto impianti per le piccole imprese in possesso del rating di legalità è del 60%. \\n\", 'sources': 'Aiuti agli Investimenti delle Piccole e Medie Imprese (Titolo II Capo 3 Reg_ Regionale 17_2014)_br ___br __.pdf'}\n"
          ]
        }
      ]
    },
    {
      "cell_type": "code",
      "source": [
        "query = \"Quale valore di spread viene aggiornato ogni anno per determinare la misura dell'aiuto erogato come contributo in conto impianti?\"\n",
        "print(f\"Query : {query}\")\n",
        "result_label = get_label_from_query(query)\n",
        "print(f\"Label trovata: {result_label}\")\n",
        "result = get_answer_with_dynamic_filter(query, vector_store, result_label)\n",
        "print(result)\n"
      ],
      "metadata": {
        "colab": {
          "base_uri": "https://localhost:8080/"
        },
        "id": "sWREqN2FfEf7",
        "outputId": "c2902818-6c18-40ff-c72f-3b8a4eacbc1d"
      },
      "execution_count": 38,
      "outputs": [
        {
          "output_type": "stream",
          "name": "stdout",
          "text": [
            "Query : Quale valore di spread viene aggiornato ogni anno per determinare la misura dell'aiuto erogato come contributo in conto impianti?\n",
            "Label trovata: Non classificato\n",
            "Non è possibile determinare il valore di spread aggiornato annualmente per determinare la misura dell'aiuto erogato come contributo in conto impianti con le informazioni fornite.\n"
          ]
        }
      ]
    },
    {
      "cell_type": "code",
      "source": [
        "query = \"Quali sono i requisiti necessari per essere ammessi al PIA? in riferimento al documento: 'Programmi Integrati di Agevolazioni PIA Piccole Imprese'\"\n",
        "print(f\"Query : {query}\")\n",
        "result_label = get_label_from_query(query)\n",
        "print(f\"Label trovata: {result_label}\")\n",
        "result = get_answer_with_dynamic_filter(query, vector_store, result_label)\n",
        "print(result)"
      ],
      "metadata": {
        "colab": {
          "base_uri": "https://localhost:8080/"
        },
        "id": "tPNWxGiFflST",
        "outputId": "751bdd9f-472c-429c-9bf8-611defd1b1b1"
      },
      "execution_count": null,
      "outputs": [
        {
          "output_type": "stream",
          "name": "stdout",
          "text": [
            "Query : Quali sono i requisiti necessari per essere ammessi al PIA? in riferimento al documento: 'Programmi Integrati di Agevolazioni PIA Piccole Imprese'\n",
            "Label trovata: Piccole Imprese\n",
            "I requisiti necessari per essere ammessi al PIA sono i seguenti:\n",
            "\n",
            "1. L'impresa deve rientrare nella definizione di piccola dimensione come stabilito nell'Allegato I del Regolamento (UE) 651/2014 della Commissione del 17 giugno 2014 e deve operare in regime di contabilità ordinaria.\n",
            "\n",
            "2. Alla data di presentazione della domanda, l'impresa deve aver già approvato almeno tre bilanci.\n",
            "\n",
            "3. Nei tre esercizi precedenti alla presentazione della domanda, l'impresa deve aver registrato un fatturato medio non inferiore a 1,5 milioni di euro.\n",
            "\n",
            "4. Nei 12 mesi antecedenti alla presentazione della domanda, l'impresa deve aver registrato un numero di ULA (Unità Lavorative Anno) almeno pari a 10.\n",
            "\n",
            "Inoltre, è possibile richiedere l'agevolazione anche se si tratta di un'impresa di piccola dimensione non attiva, ma controllata da una piccola impresa che soddisfa i requisiti sopra elencati.\n",
            "\n",
            "Ti consiglio di consultare il documento \"Programmi Integrati di Agevolazioni PIA Piccole Imprese\" sul sito www.sistema.puglia.it/piapiccoleimprese per ulteriori dettagli e eventuali modifiche.\n"
          ]
        }
      ]
    },
    {
      "cell_type": "markdown",
      "source": [
        "Ricercare i documenti rilevanti:"
      ],
      "metadata": {
        "id": "Mu5rezttj4sc"
      }
    },
    {
      "cell_type": "code",
      "source": [
        "query = \"Quali sono i requisiti necessari per essere ammessi al PIA? in riferimento al documento: 'Programmi Integrati di Agevolazioni PIA Piccole Imprese'\"\n",
        "result_label = get_label_from_query(query)\n",
        "retriever = vector_store.as_retriever(filter={'Tipo_imprese': {'$eq': result_label}},)\n",
        "relevant_documents = retriever.get_relevant_documents(query)"
      ],
      "metadata": {
        "id": "Toea-9S8jikT"
      },
      "execution_count": 41,
      "outputs": []
    },
    {
      "cell_type": "code",
      "source": [
        "relevant_documents"
      ],
      "metadata": {
        "colab": {
          "base_uri": "https://localhost:8080/"
        },
        "id": "O7T335nEj85E",
        "outputId": "bfe601d9-babe-4de7-b9c8-be1946baefac"
      },
      "execution_count": 42,
      "outputs": [
        {
          "output_type": "execute_result",
          "data": {
            "text/plain": [
              "[Document(page_content='Determina n. 541 del 08/08/2019 , pubblicata sul B.U.R.P. del  13/02/2020  n. 20. \\n \\nchi può richiedere l’agevolazione?  \\nPuò richiedere l’agevolazione : \\n- un’impresa  di piccola  dimensione come da definizione di cui all’Allegato I del Regolamento \\n(UE) 651/2014 della Commissione del 17 giugno 2014, in regime di contabilità ordinaria, \\nche: \\n1. alla data di presentazione della domanda abbia già approvato almeno tre bilanci ; \\n2. abbia regist rato nei tre esercizi precedenti un fatturato medio non inferiore a 1,5 \\nmilioni di euro ed abbiano registrato, nei 12 mesi antecedenti la presentazione della \\ndomanda, un numero di ULA almeno pari a 10.  \\n- un’impres a di piccola dimensione non attiv a, controll ata da una  piccola impresa che abbia:  \\n1. approvato almeno tre bilanci alla data di presentazione della domanda ; \\n2. registrato nei tre esercizi precedenti un fatturato medio non inferiore a 1,5 milioni di \\neuro ; \\n3. registrato, nei 12 mesi antecedenti la presentazione  della domanda, un numero di ULA \\nalmeno pari a 10 .', metadata={'Tipo_Imprese': 'Piccole Imprese', 'page': 0.0, 'source': 'Programmi Integrati di Agevolazioni PIA Piccole Imprese (Art_ 27 Reg_ Regionale 17_2014 e s_m_i_).pdf'}),\n",
              " Document(page_content='alla classe “82.20.00 attività dei call center”, nonché le sottocategorie:', metadata={'Tipo_Imprese': 'Piccole Imprese', 'page': 1.0, 'source': 'Programmi Integrati di Agevolazioni PIA Piccole Imprese (Art_ 27 Reg_ Regionale 17_2014 e s_m_i_).pdf'}),\n",
              " Document(page_content='31/12/2014  n. 177 e successive  modifiche  e integrazioni  e sul sito \\nwww.sistema.puglia.it/titoloIIcapo3 . \\n \\nChi può richiedere  l’agevolazione?  \\nPuò richiedere  l’agevolazione:  \\n1. microimprese  (impresa  che occupa  meno  di 10 persone,  realizza  un \\nfatturato  annuo  o un totale  di bilancio  annuo  non superiori  a 2 milioni  di \\neuro);  \\n2. imprese  di piccole  dimensioni  (impresa  che occupa  meno  di 50 persone  e \\nrealizza  un fatturato  annuo  o un totale  di bilancio  non superiori  a 10 milioni  \\ndi euro);  \\n3. imprese  di medie  dimensioni:  che occupa  meno  di 250 persone,  realizza  \\nun fatturato  annuo  non superiore  a 50 milioni  di euro oppure  il totale  di \\nbilancio  annuo  non supera  i 43 milioni  di euro.  \\n4. liberi professionisti,  in quanto  equiparati  alle piccole  e medie  imprese  come  \\nesercenti  attività  economica,  secondo  l’art. 12, legge  22 maggio  2017,  n. \\n81.', metadata={'Tipo_Imprese': 'Piccole e Medie Imprese', 'page': 0.0, 'source': 'Aiuti agli Investimenti delle Piccole e Medie Imprese (Titolo II Capo 3 Reg_ Regionale 17_2014)_br ___br __.pdf'}),\n",
              " Document(page_content='richiesta sul piano economico finanz iario dell’impresa.  \\nI Codici Ateco ammissibili sono riportati sul sito www.sistema.puglia.it  nella sezione PIA Medie \\nImprese.', metadata={'Tipo_Imprese': 'Medie Imprese', 'page': 2.0, 'source': 'Contratti di Programma per Grandi Imprese Singole o con PMI aderenti (Art_ 17 Reg_ Regionale 17_2014 e s_m_i_).pdf'})]"
            ]
          },
          "metadata": {},
          "execution_count": 42
        }
      ]
    },
    {
      "cell_type": "markdown",
      "source": [
        "Esempio di come deve essere scritto il retriever:\n",
        "\n",
        "```\n",
        "retriever = vectorstore.as_retriever(search_kwargs={\"filter\": {\"metadata_field\": \"value\"}})\n",
        "\n",
        "```\n",
        "\n"
      ],
      "metadata": {
        "id": "ipxZ3yniNUfK"
      }
    },
    {
      "cell_type": "code",
      "source": [
        "query = \"Quali sono i requisiti necessari per essere ammessi al PIA? in riferimento al documento: 'Programmi Integrati di Agevolazioni PIA Piccole Imprese'\"\n",
        "result_label = get_label_from_query(query)\n",
        "print(result_label)\n",
        "retriever = vector_store.as_retriever(search_kwargs={\"k\":3,\n",
        "                                                     'filter': {'Tipo_Imprese': {'$eq': result_label}}\n",
        "                                                     })\n",
        "relevant_documents = retriever.get_relevant_documents(query)"
      ],
      "metadata": {
        "colab": {
          "base_uri": "https://localhost:8080/"
        },
        "id": "j16y9bJDE8F7",
        "outputId": "d35389c9-0fef-4258-cd78-09d2f8111da8"
      },
      "execution_count": 49,
      "outputs": [
        {
          "output_type": "stream",
          "name": "stdout",
          "text": [
            "Piccole Imprese\n"
          ]
        }
      ]
    },
    {
      "cell_type": "code",
      "source": [
        "relevant_documents"
      ],
      "metadata": {
        "colab": {
          "base_uri": "https://localhost:8080/"
        },
        "id": "VPsg0mjiFMvz",
        "outputId": "8b790d37-38c8-4bd5-b868-0a63a61b39a4"
      },
      "execution_count": 50,
      "outputs": [
        {
          "output_type": "execute_result",
          "data": {
            "text/plain": [
              "[Document(page_content='Determina n. 541 del 08/08/2019 , pubblicata sul B.U.R.P. del  13/02/2020  n. 20. \\n \\nchi può richiedere l’agevolazione?  \\nPuò richiedere l’agevolazione : \\n- un’impresa  di piccola  dimensione come da definizione di cui all’Allegato I del Regolamento \\n(UE) 651/2014 della Commissione del 17 giugno 2014, in regime di contabilità ordinaria, \\nche: \\n1. alla data di presentazione della domanda abbia già approvato almeno tre bilanci ; \\n2. abbia regist rato nei tre esercizi precedenti un fatturato medio non inferiore a 1,5 \\nmilioni di euro ed abbiano registrato, nei 12 mesi antecedenti la presentazione della \\ndomanda, un numero di ULA almeno pari a 10.  \\n- un’impres a di piccola dimensione non attiv a, controll ata da una  piccola impresa che abbia:  \\n1. approvato almeno tre bilanci alla data di presentazione della domanda ; \\n2. registrato nei tre esercizi precedenti un fatturato medio non inferiore a 1,5 milioni di \\neuro ; \\n3. registrato, nei 12 mesi antecedenti la presentazione  della domanda, un numero di ULA \\nalmeno pari a 10 .', metadata={'Tipo_Imprese': 'Piccole Imprese', 'page': 0.0, 'source': 'Programmi Integrati di Agevolazioni PIA Piccole Imprese (Art_ 27 Reg_ Regionale 17_2014 e s_m_i_).pdf'}),\n",
              " Document(page_content='alla classe “82.20.00 attività dei call center”, nonché le sottocategorie:', metadata={'Tipo_Imprese': 'Piccole Imprese', 'page': 1.0, 'source': 'Programmi Integrati di Agevolazioni PIA Piccole Imprese (Art_ 27 Reg_ Regionale 17_2014 e s_m_i_).pdf'}),\n",
              " Document(page_content='in percentuale non inferiore al 5%, solo nel caso in cui:  \\n- il progetto rientri nell’am bito del Codice Ateco 62;  \\n- tale codice risulti anche identificativo dell’attività prevalente svolta dall’impresa (Ateco \\n2007 di importanza primaria),  \\n- l’impresa dimostri, attraverso documentazione probante ed idonea anche rispetto alla \\ndurata del programma,  di disporre delle attrezzature necessarie alla realizzazione del \\nprogetto attraverso la forma “as a service”.  \\n \\nSi riporta, di seguito, una tabella riepilogativa delle intensità di aiuto concedibili : \\n \\nVoci di Spesa  Attivi Materiali  \\nAgevolazioni  \\n(% di contributo a fondo perduto)  \\nL’aiuto in Attivi Materiali non può essere superiore a 6 milioni di Euro \\nper impresa  \\nstudi preliminari di fattibilità nel limite \\ndel 1,5% dell’importo complessivo delle \\nspese ammissibili e spese per \\nprogettazioni e direzione lavori nel limite \\ndel 6% delle spese in opere murarie e \\nassimilabili  45% PICCOLE IMPRESE  \\nacquisto del suolo aziendale e sue \\nsistemazioni entro il limite del 5% \\ndell’importo dell’investimento in attivi \\nmateriali  25% PICCOLE IMPRESE ( nel caso di richiesta delle premialità, \\ncumulabili tra loro, di cui alle lettere a), b), c), d), f) del comma 3 \\ndell’articolo 11 dell’Avviso, fino ad un massimo del 45%) )', metadata={'Tipo_Imprese': 'Piccole Imprese', 'page': 3.0, 'source': 'Programmi Integrati di Agevolazioni PIA Piccole Imprese (Art_ 27 Reg_ Regionale 17_2014 e s_m_i_).pdf'})]"
            ]
          },
          "metadata": {},
          "execution_count": 50
        }
      ]
    },
    {
      "cell_type": "code",
      "source": [],
      "metadata": {
        "id": "75I6fNX-O4Bk"
      },
      "execution_count": null,
      "outputs": []
    }
  ],
  "metadata": {
    "colab": {
      "provenance": []
    },
    "kernelspec": {
      "display_name": "Python 3",
      "name": "python3"
    },
    "language_info": {
      "name": "python"
    }
  },
  "nbformat": 4,
  "nbformat_minor": 0
}