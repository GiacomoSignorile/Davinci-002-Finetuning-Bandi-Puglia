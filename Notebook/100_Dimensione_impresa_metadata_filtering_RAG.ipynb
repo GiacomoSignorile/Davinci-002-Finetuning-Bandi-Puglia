{
  "cells": [
    {
      "cell_type": "markdown",
      "metadata": {
        "id": "Fz9t9xM67aVd"
      },
      "source": [
        "# QA con metadata filtering e ricerca di una label che rappresenti la dimensione delle imprese nei documenti"
      ]
    },
    {
      "cell_type": "code",
      "execution_count": 1,
      "metadata": {
        "id": "YQ4Ass2txIO5",
        "colab": {
          "base_uri": "https://localhost:8080/"
        },
        "outputId": "2e92b9ac-b562-4d17-cb88-a9b7469b11be"
      },
      "outputs": [
        {
          "output_type": "stream",
          "name": "stdout",
          "text": [
            "Collecting pypdf\n",
            "  Downloading pypdf-3.17.1-py3-none-any.whl (277 kB)\n",
            "\u001b[?25l     \u001b[90m━━━━━━━━━━━━━━━━━━━━━━━━━━━━━━━━━━━━━━━━\u001b[0m \u001b[32m0.0/277.6 kB\u001b[0m \u001b[31m?\u001b[0m eta \u001b[36m-:--:--\u001b[0m\r\u001b[2K     \u001b[91m━━━━━━━━━━━━━━\u001b[0m\u001b[91m╸\u001b[0m\u001b[90m━━━━━━━━━━━━━━━━━━━━━━━━━\u001b[0m \u001b[32m102.4/277.6 kB\u001b[0m \u001b[31m2.8 MB/s\u001b[0m eta \u001b[36m0:00:01\u001b[0m\r\u001b[2K     \u001b[90m━━━━━━━━━━━━━━━━━━━━━━━━━━━━━━━━━━━━━━━━\u001b[0m \u001b[32m277.6/277.6 kB\u001b[0m \u001b[31m4.9 MB/s\u001b[0m eta \u001b[36m0:00:00\u001b[0m\n",
            "\u001b[?25hInstalling collected packages: pypdf\n",
            "Successfully installed pypdf-3.17.1\n",
            "Collecting langchain\n",
            "  Downloading langchain-0.0.345-py3-none-any.whl (2.0 MB)\n",
            "\u001b[2K     \u001b[90m━━━━━━━━━━━━━━━━━━━━━━━━━━━━━━━━━━━━━━━━\u001b[0m \u001b[32m2.0/2.0 MB\u001b[0m \u001b[31m19.4 MB/s\u001b[0m eta \u001b[36m0:00:00\u001b[0m\n",
            "\u001b[?25hRequirement already satisfied: PyYAML>=5.3 in /usr/local/lib/python3.10/dist-packages (from langchain) (6.0.1)\n",
            "Requirement already satisfied: SQLAlchemy<3,>=1.4 in /usr/local/lib/python3.10/dist-packages (from langchain) (2.0.23)\n",
            "Requirement already satisfied: aiohttp<4.0.0,>=3.8.3 in /usr/local/lib/python3.10/dist-packages (from langchain) (3.9.1)\n",
            "Requirement already satisfied: anyio<4.0 in /usr/local/lib/python3.10/dist-packages (from langchain) (3.7.1)\n",
            "Requirement already satisfied: async-timeout<5.0.0,>=4.0.0 in /usr/local/lib/python3.10/dist-packages (from langchain) (4.0.3)\n",
            "Collecting dataclasses-json<0.7,>=0.5.7 (from langchain)\n",
            "  Downloading dataclasses_json-0.6.3-py3-none-any.whl (28 kB)\n",
            "Collecting jsonpatch<2.0,>=1.33 (from langchain)\n",
            "  Downloading jsonpatch-1.33-py2.py3-none-any.whl (12 kB)\n",
            "Collecting langchain-core<0.1,>=0.0.9 (from langchain)\n",
            "  Downloading langchain_core-0.0.9-py3-none-any.whl (177 kB)\n",
            "\u001b[2K     \u001b[90m━━━━━━━━━━━━━━━━━━━━━━━━━━━━━━━━━━━━━━━━\u001b[0m \u001b[32m177.8/177.8 kB\u001b[0m \u001b[31m22.7 MB/s\u001b[0m eta \u001b[36m0:00:00\u001b[0m\n",
            "\u001b[?25hCollecting langsmith<0.1.0,>=0.0.63 (from langchain)\n",
            "  Downloading langsmith-0.0.69-py3-none-any.whl (48 kB)\n",
            "\u001b[2K     \u001b[90m━━━━━━━━━━━━━━━━━━━━━━━━━━━━━━━━━━━━━━━━\u001b[0m \u001b[32m48.2/48.2 kB\u001b[0m \u001b[31m6.2 MB/s\u001b[0m eta \u001b[36m0:00:00\u001b[0m\n",
            "\u001b[?25hRequirement already satisfied: numpy<2,>=1 in /usr/local/lib/python3.10/dist-packages (from langchain) (1.23.5)\n",
            "Requirement already satisfied: pydantic<3,>=1 in /usr/local/lib/python3.10/dist-packages (from langchain) (1.10.13)\n",
            "Requirement already satisfied: requests<3,>=2 in /usr/local/lib/python3.10/dist-packages (from langchain) (2.31.0)\n",
            "Requirement already satisfied: tenacity<9.0.0,>=8.1.0 in /usr/local/lib/python3.10/dist-packages (from langchain) (8.2.3)\n",
            "Requirement already satisfied: attrs>=17.3.0 in /usr/local/lib/python3.10/dist-packages (from aiohttp<4.0.0,>=3.8.3->langchain) (23.1.0)\n",
            "Requirement already satisfied: multidict<7.0,>=4.5 in /usr/local/lib/python3.10/dist-packages (from aiohttp<4.0.0,>=3.8.3->langchain) (6.0.4)\n",
            "Requirement already satisfied: yarl<2.0,>=1.0 in /usr/local/lib/python3.10/dist-packages (from aiohttp<4.0.0,>=3.8.3->langchain) (1.9.3)\n",
            "Requirement already satisfied: frozenlist>=1.1.1 in /usr/local/lib/python3.10/dist-packages (from aiohttp<4.0.0,>=3.8.3->langchain) (1.4.0)\n",
            "Requirement already satisfied: aiosignal>=1.1.2 in /usr/local/lib/python3.10/dist-packages (from aiohttp<4.0.0,>=3.8.3->langchain) (1.3.1)\n",
            "Requirement already satisfied: idna>=2.8 in /usr/local/lib/python3.10/dist-packages (from anyio<4.0->langchain) (3.6)\n",
            "Requirement already satisfied: sniffio>=1.1 in /usr/local/lib/python3.10/dist-packages (from anyio<4.0->langchain) (1.3.0)\n",
            "Requirement already satisfied: exceptiongroup in /usr/local/lib/python3.10/dist-packages (from anyio<4.0->langchain) (1.2.0)\n",
            "Collecting marshmallow<4.0.0,>=3.18.0 (from dataclasses-json<0.7,>=0.5.7->langchain)\n",
            "  Downloading marshmallow-3.20.1-py3-none-any.whl (49 kB)\n",
            "\u001b[2K     \u001b[90m━━━━━━━━━━━━━━━━━━━━━━━━━━━━━━━━━━━━━━━━\u001b[0m \u001b[32m49.4/49.4 kB\u001b[0m \u001b[31m6.5 MB/s\u001b[0m eta \u001b[36m0:00:00\u001b[0m\n",
            "\u001b[?25hCollecting typing-inspect<1,>=0.4.0 (from dataclasses-json<0.7,>=0.5.7->langchain)\n",
            "  Downloading typing_inspect-0.9.0-py3-none-any.whl (8.8 kB)\n",
            "Collecting jsonpointer>=1.9 (from jsonpatch<2.0,>=1.33->langchain)\n",
            "  Downloading jsonpointer-2.4-py2.py3-none-any.whl (7.8 kB)\n",
            "Requirement already satisfied: typing-extensions>=4.2.0 in /usr/local/lib/python3.10/dist-packages (from pydantic<3,>=1->langchain) (4.5.0)\n",
            "Requirement already satisfied: charset-normalizer<4,>=2 in /usr/local/lib/python3.10/dist-packages (from requests<3,>=2->langchain) (3.3.2)\n",
            "Requirement already satisfied: urllib3<3,>=1.21.1 in /usr/local/lib/python3.10/dist-packages (from requests<3,>=2->langchain) (2.0.7)\n",
            "Requirement already satisfied: certifi>=2017.4.17 in /usr/local/lib/python3.10/dist-packages (from requests<3,>=2->langchain) (2023.11.17)\n",
            "Requirement already satisfied: greenlet!=0.4.17 in /usr/local/lib/python3.10/dist-packages (from SQLAlchemy<3,>=1.4->langchain) (3.0.1)\n",
            "Requirement already satisfied: packaging>=17.0 in /usr/local/lib/python3.10/dist-packages (from marshmallow<4.0.0,>=3.18.0->dataclasses-json<0.7,>=0.5.7->langchain) (23.2)\n",
            "Collecting mypy-extensions>=0.3.0 (from typing-inspect<1,>=0.4.0->dataclasses-json<0.7,>=0.5.7->langchain)\n",
            "  Downloading mypy_extensions-1.0.0-py3-none-any.whl (4.7 kB)\n",
            "Installing collected packages: mypy-extensions, marshmallow, jsonpointer, typing-inspect, langsmith, jsonpatch, langchain-core, dataclasses-json, langchain\n",
            "Successfully installed dataclasses-json-0.6.3 jsonpatch-1.33 jsonpointer-2.4 langchain-0.0.345 langchain-core-0.0.9 langsmith-0.0.69 marshmallow-3.20.1 mypy-extensions-1.0.0 typing-inspect-0.9.0\n",
            "Collecting openai==0.28.1\n",
            "  Downloading openai-0.28.1-py3-none-any.whl (76 kB)\n",
            "\u001b[2K     \u001b[90m━━━━━━━━━━━━━━━━━━━━━━━━━━━━━━━━━━━━━━━━\u001b[0m \u001b[32m77.0/77.0 kB\u001b[0m \u001b[31m1.8 MB/s\u001b[0m eta \u001b[36m0:00:00\u001b[0m\n",
            "\u001b[?25hRequirement already satisfied: requests>=2.20 in /usr/local/lib/python3.10/dist-packages (from openai==0.28.1) (2.31.0)\n",
            "Requirement already satisfied: tqdm in /usr/local/lib/python3.10/dist-packages (from openai==0.28.1) (4.66.1)\n",
            "Requirement already satisfied: aiohttp in /usr/local/lib/python3.10/dist-packages (from openai==0.28.1) (3.9.1)\n",
            "Requirement already satisfied: charset-normalizer<4,>=2 in /usr/local/lib/python3.10/dist-packages (from requests>=2.20->openai==0.28.1) (3.3.2)\n",
            "Requirement already satisfied: idna<4,>=2.5 in /usr/local/lib/python3.10/dist-packages (from requests>=2.20->openai==0.28.1) (3.6)\n",
            "Requirement already satisfied: urllib3<3,>=1.21.1 in /usr/local/lib/python3.10/dist-packages (from requests>=2.20->openai==0.28.1) (2.0.7)\n",
            "Requirement already satisfied: certifi>=2017.4.17 in /usr/local/lib/python3.10/dist-packages (from requests>=2.20->openai==0.28.1) (2023.11.17)\n",
            "Requirement already satisfied: attrs>=17.3.0 in /usr/local/lib/python3.10/dist-packages (from aiohttp->openai==0.28.1) (23.1.0)\n",
            "Requirement already satisfied: multidict<7.0,>=4.5 in /usr/local/lib/python3.10/dist-packages (from aiohttp->openai==0.28.1) (6.0.4)\n",
            "Requirement already satisfied: yarl<2.0,>=1.0 in /usr/local/lib/python3.10/dist-packages (from aiohttp->openai==0.28.1) (1.9.3)\n",
            "Requirement already satisfied: frozenlist>=1.1.1 in /usr/local/lib/python3.10/dist-packages (from aiohttp->openai==0.28.1) (1.4.0)\n",
            "Requirement already satisfied: aiosignal>=1.1.2 in /usr/local/lib/python3.10/dist-packages (from aiohttp->openai==0.28.1) (1.3.1)\n",
            "Requirement already satisfied: async-timeout<5.0,>=4.0 in /usr/local/lib/python3.10/dist-packages (from aiohttp->openai==0.28.1) (4.0.3)\n",
            "Installing collected packages: openai\n",
            "\u001b[31mERROR: pip's dependency resolver does not currently take into account all the packages that are installed. This behaviour is the source of the following dependency conflicts.\n",
            "llmx 0.0.15a0 requires cohere, which is not installed.\n",
            "llmx 0.0.15a0 requires tiktoken, which is not installed.\u001b[0m\u001b[31m\n",
            "\u001b[0mSuccessfully installed openai-0.28.1\n",
            "Collecting chromadb\n",
            "  Downloading chromadb-0.4.18-py3-none-any.whl (502 kB)\n",
            "\u001b[2K     \u001b[90m━━━━━━━━━━━━━━━━━━━━━━━━━━━━━━━━━━━━━━━━\u001b[0m \u001b[32m502.4/502.4 kB\u001b[0m \u001b[31m4.2 MB/s\u001b[0m eta \u001b[36m0:00:00\u001b[0m\n",
            "\u001b[?25hRequirement already satisfied: requests>=2.28 in /usr/local/lib/python3.10/dist-packages (from chromadb) (2.31.0)\n",
            "Requirement already satisfied: pydantic>=1.9 in /usr/local/lib/python3.10/dist-packages (from chromadb) (1.10.13)\n",
            "Collecting chroma-hnswlib==0.7.3 (from chromadb)\n",
            "  Downloading chroma_hnswlib-0.7.3-cp310-cp310-manylinux_2_17_x86_64.manylinux2014_x86_64.whl (2.4 MB)\n",
            "\u001b[2K     \u001b[90m━━━━━━━━━━━━━━━━━━━━━━━━━━━━━━━━━━━━━━━━\u001b[0m \u001b[32m2.4/2.4 MB\u001b[0m \u001b[31m10.6 MB/s\u001b[0m eta \u001b[36m0:00:00\u001b[0m\n",
            "\u001b[?25hCollecting fastapi>=0.95.2 (from chromadb)\n",
            "  Downloading fastapi-0.104.1-py3-none-any.whl (92 kB)\n",
            "\u001b[2K     \u001b[90m━━━━━━━━━━━━━━━━━━━━━━━━━━━━━━━━━━━━━━━━\u001b[0m \u001b[32m92.9/92.9 kB\u001b[0m \u001b[31m11.4 MB/s\u001b[0m eta \u001b[36m0:00:00\u001b[0m\n",
            "\u001b[?25hCollecting uvicorn[standard]>=0.18.3 (from chromadb)\n",
            "  Downloading uvicorn-0.24.0.post1-py3-none-any.whl (59 kB)\n",
            "\u001b[2K     \u001b[90m━━━━━━━━━━━━━━━━━━━━━━━━━━━━━━━━━━━━━━━━\u001b[0m \u001b[32m59.7/59.7 kB\u001b[0m \u001b[31m7.9 MB/s\u001b[0m eta \u001b[36m0:00:00\u001b[0m\n",
            "\u001b[?25hCollecting posthog>=2.4.0 (from chromadb)\n",
            "  Downloading posthog-3.0.2-py2.py3-none-any.whl (37 kB)\n",
            "Requirement already satisfied: typing-extensions>=4.5.0 in /usr/local/lib/python3.10/dist-packages (from chromadb) (4.5.0)\n",
            "Collecting pulsar-client>=3.1.0 (from chromadb)\n",
            "  Downloading pulsar_client-3.3.0-cp310-cp310-manylinux_2_17_x86_64.manylinux2014_x86_64.whl (5.4 MB)\n",
            "\u001b[2K     \u001b[90m━━━━━━━━━━━━━━━━━━━━━━━━━━━━━━━━━━━━━━━━\u001b[0m \u001b[32m5.4/5.4 MB\u001b[0m \u001b[31m21.3 MB/s\u001b[0m eta \u001b[36m0:00:00\u001b[0m\n",
            "\u001b[?25hCollecting onnxruntime>=1.14.1 (from chromadb)\n",
            "  Downloading onnxruntime-1.16.3-cp310-cp310-manylinux_2_17_x86_64.manylinux2014_x86_64.whl (6.4 MB)\n",
            "\u001b[2K     \u001b[90m━━━━━━━━━━━━━━━━━━━━━━━━━━━━━━━━━━━━━━━━\u001b[0m \u001b[32m6.4/6.4 MB\u001b[0m \u001b[31m35.5 MB/s\u001b[0m eta \u001b[36m0:00:00\u001b[0m\n",
            "\u001b[?25hCollecting opentelemetry-api>=1.2.0 (from chromadb)\n",
            "  Downloading opentelemetry_api-1.21.0-py3-none-any.whl (57 kB)\n",
            "\u001b[2K     \u001b[90m━━━━━━━━━━━━━━━━━━━━━━━━━━━━━━━━━━━━━━━━\u001b[0m \u001b[32m57.9/57.9 kB\u001b[0m \u001b[31m7.8 MB/s\u001b[0m eta \u001b[36m0:00:00\u001b[0m\n",
            "\u001b[?25hCollecting opentelemetry-exporter-otlp-proto-grpc>=1.2.0 (from chromadb)\n",
            "  Downloading opentelemetry_exporter_otlp_proto_grpc-1.21.0-py3-none-any.whl (18 kB)\n",
            "Collecting opentelemetry-instrumentation-fastapi>=0.41b0 (from chromadb)\n",
            "  Downloading opentelemetry_instrumentation_fastapi-0.42b0-py3-none-any.whl (11 kB)\n",
            "Collecting opentelemetry-sdk>=1.2.0 (from chromadb)\n",
            "  Downloading opentelemetry_sdk-1.21.0-py3-none-any.whl (105 kB)\n",
            "\u001b[2K     \u001b[90m━━━━━━━━━━━━━━━━━━━━━━━━━━━━━━━━━━━━━━━━\u001b[0m \u001b[32m105.3/105.3 kB\u001b[0m \u001b[31m13.1 MB/s\u001b[0m eta \u001b[36m0:00:00\u001b[0m\n",
            "\u001b[?25hRequirement already satisfied: tokenizers>=0.13.2 in /usr/local/lib/python3.10/dist-packages (from chromadb) (0.15.0)\n",
            "Collecting pypika>=0.48.9 (from chromadb)\n",
            "  Downloading PyPika-0.48.9.tar.gz (67 kB)\n",
            "\u001b[2K     \u001b[90m━━━━━━━━━━━━━━━━━━━━━━━━━━━━━━━━━━━━━━━━\u001b[0m \u001b[32m67.3/67.3 kB\u001b[0m \u001b[31m9.0 MB/s\u001b[0m eta \u001b[36m0:00:00\u001b[0m\n",
            "\u001b[?25h  Installing build dependencies ... \u001b[?25l\u001b[?25hdone\n",
            "  Getting requirements to build wheel ... \u001b[?25l\u001b[?25hdone\n",
            "  Preparing metadata (pyproject.toml) ... \u001b[?25l\u001b[?25hdone\n",
            "Requirement already satisfied: tqdm>=4.65.0 in /usr/local/lib/python3.10/dist-packages (from chromadb) (4.66.1)\n",
            "Collecting overrides>=7.3.1 (from chromadb)\n",
            "  Downloading overrides-7.4.0-py3-none-any.whl (17 kB)\n",
            "Requirement already satisfied: importlib-resources in /usr/local/lib/python3.10/dist-packages (from chromadb) (6.1.1)\n",
            "Requirement already satisfied: grpcio>=1.58.0 in /usr/local/lib/python3.10/dist-packages (from chromadb) (1.59.3)\n",
            "Collecting bcrypt>=4.0.1 (from chromadb)\n",
            "  Downloading bcrypt-4.1.1-cp37-abi3-manylinux_2_28_x86_64.whl (699 kB)\n",
            "\u001b[2K     \u001b[90m━━━━━━━━━━━━━━━━━━━━━━━━━━━━━━━━━━━━━━━━\u001b[0m \u001b[32m699.4/699.4 kB\u001b[0m \u001b[31m56.5 MB/s\u001b[0m eta \u001b[36m0:00:00\u001b[0m\n",
            "\u001b[?25hRequirement already satisfied: typer>=0.9.0 in /usr/local/lib/python3.10/dist-packages (from chromadb) (0.9.0)\n",
            "Collecting kubernetes>=28.1.0 (from chromadb)\n",
            "  Downloading kubernetes-28.1.0-py2.py3-none-any.whl (1.6 MB)\n",
            "\u001b[2K     \u001b[90m━━━━━━━━━━━━━━━━━━━━━━━━━━━━━━━━━━━━━━━━\u001b[0m \u001b[32m1.6/1.6 MB\u001b[0m \u001b[31m37.4 MB/s\u001b[0m eta \u001b[36m0:00:00\u001b[0m\n",
            "\u001b[?25hRequirement already satisfied: tenacity>=8.2.3 in /usr/local/lib/python3.10/dist-packages (from chromadb) (8.2.3)\n",
            "Requirement already satisfied: PyYAML>=6.0.0 in /usr/local/lib/python3.10/dist-packages (from chromadb) (6.0.1)\n",
            "Collecting mmh3>=4.0.1 (from chromadb)\n",
            "  Downloading mmh3-4.0.1-cp310-cp310-manylinux_2_5_x86_64.manylinux1_x86_64.manylinux_2_17_x86_64.manylinux2014_x86_64.whl (72 kB)\n",
            "\u001b[2K     \u001b[90m━━━━━━━━━━━━━━━━━━━━━━━━━━━━━━━━━━━━━━━━\u001b[0m \u001b[32m72.6/72.6 kB\u001b[0m \u001b[31m10.0 MB/s\u001b[0m eta \u001b[36m0:00:00\u001b[0m\n",
            "\u001b[?25hRequirement already satisfied: numpy>=1.22.5 in /usr/local/lib/python3.10/dist-packages (from chromadb) (1.23.5)\n",
            "Requirement already satisfied: anyio<4.0.0,>=3.7.1 in /usr/local/lib/python3.10/dist-packages (from fastapi>=0.95.2->chromadb) (3.7.1)\n",
            "Collecting starlette<0.28.0,>=0.27.0 (from fastapi>=0.95.2->chromadb)\n",
            "  Downloading starlette-0.27.0-py3-none-any.whl (66 kB)\n",
            "\u001b[2K     \u001b[90m━━━━━━━━━━━━━━━━━━━━━━━━━━━━━━━━━━━━━━━━\u001b[0m \u001b[32m67.0/67.0 kB\u001b[0m \u001b[31m8.1 MB/s\u001b[0m eta \u001b[36m0:00:00\u001b[0m\n",
            "\u001b[?25hCollecting typing-extensions>=4.5.0 (from chromadb)\n",
            "  Downloading typing_extensions-4.8.0-py3-none-any.whl (31 kB)\n",
            "Requirement already satisfied: certifi>=14.05.14 in /usr/local/lib/python3.10/dist-packages (from kubernetes>=28.1.0->chromadb) (2023.11.17)\n",
            "Requirement already satisfied: six>=1.9.0 in /usr/local/lib/python3.10/dist-packages (from kubernetes>=28.1.0->chromadb) (1.16.0)\n",
            "Requirement already satisfied: python-dateutil>=2.5.3 in /usr/local/lib/python3.10/dist-packages (from kubernetes>=28.1.0->chromadb) (2.8.2)\n",
            "Requirement already satisfied: google-auth>=1.0.1 in /usr/local/lib/python3.10/dist-packages (from kubernetes>=28.1.0->chromadb) (2.17.3)\n",
            "Requirement already satisfied: websocket-client!=0.40.0,!=0.41.*,!=0.42.*,>=0.32.0 in /usr/local/lib/python3.10/dist-packages (from kubernetes>=28.1.0->chromadb) (1.6.4)\n",
            "Requirement already satisfied: requests-oauthlib in /usr/local/lib/python3.10/dist-packages (from kubernetes>=28.1.0->chromadb) (1.3.1)\n",
            "Requirement already satisfied: oauthlib>=3.2.2 in /usr/local/lib/python3.10/dist-packages (from kubernetes>=28.1.0->chromadb) (3.2.2)\n",
            "Collecting urllib3<2.0,>=1.24.2 (from kubernetes>=28.1.0->chromadb)\n",
            "  Downloading urllib3-1.26.18-py2.py3-none-any.whl (143 kB)\n",
            "\u001b[2K     \u001b[90m━━━━━━━━━━━━━━━━━━━━━━━━━━━━━━━━━━━━━━━━\u001b[0m \u001b[32m143.8/143.8 kB\u001b[0m \u001b[31m18.0 MB/s\u001b[0m eta \u001b[36m0:00:00\u001b[0m\n",
            "\u001b[?25hCollecting coloredlogs (from onnxruntime>=1.14.1->chromadb)\n",
            "  Downloading coloredlogs-15.0.1-py2.py3-none-any.whl (46 kB)\n",
            "\u001b[2K     \u001b[90m━━━━━━━━━━━━━━━━━━━━━━━━━━━━━━━━━━━━━━━━\u001b[0m \u001b[32m46.0/46.0 kB\u001b[0m \u001b[31m6.4 MB/s\u001b[0m eta \u001b[36m0:00:00\u001b[0m\n",
            "\u001b[?25hRequirement already satisfied: flatbuffers in /usr/local/lib/python3.10/dist-packages (from onnxruntime>=1.14.1->chromadb) (23.5.26)\n",
            "Requirement already satisfied: packaging in /usr/local/lib/python3.10/dist-packages (from onnxruntime>=1.14.1->chromadb) (23.2)\n",
            "Requirement already satisfied: protobuf in /usr/local/lib/python3.10/dist-packages (from onnxruntime>=1.14.1->chromadb) (3.20.3)\n",
            "Requirement already satisfied: sympy in /usr/local/lib/python3.10/dist-packages (from onnxruntime>=1.14.1->chromadb) (1.12)\n",
            "Collecting deprecated>=1.2.6 (from opentelemetry-api>=1.2.0->chromadb)\n",
            "  Downloading Deprecated-1.2.14-py2.py3-none-any.whl (9.6 kB)\n",
            "Requirement already satisfied: importlib-metadata<7.0,>=6.0 in /usr/local/lib/python3.10/dist-packages (from opentelemetry-api>=1.2.0->chromadb) (6.8.0)\n",
            "Collecting backoff<3.0.0,>=1.10.0 (from opentelemetry-exporter-otlp-proto-grpc>=1.2.0->chromadb)\n",
            "  Downloading backoff-2.2.1-py3-none-any.whl (15 kB)\n",
            "Requirement already satisfied: googleapis-common-protos~=1.52 in /usr/local/lib/python3.10/dist-packages (from opentelemetry-exporter-otlp-proto-grpc>=1.2.0->chromadb) (1.61.0)\n",
            "Collecting opentelemetry-exporter-otlp-proto-common==1.21.0 (from opentelemetry-exporter-otlp-proto-grpc>=1.2.0->chromadb)\n",
            "  Downloading opentelemetry_exporter_otlp_proto_common-1.21.0-py3-none-any.whl (17 kB)\n",
            "Collecting opentelemetry-proto==1.21.0 (from opentelemetry-exporter-otlp-proto-grpc>=1.2.0->chromadb)\n",
            "  Downloading opentelemetry_proto-1.21.0-py3-none-any.whl (50 kB)\n",
            "\u001b[2K     \u001b[90m━━━━━━━━━━━━━━━━━━━━━━━━━━━━━━━━━━━━━━━━\u001b[0m \u001b[32m50.8/50.8 kB\u001b[0m \u001b[31m6.3 MB/s\u001b[0m eta \u001b[36m0:00:00\u001b[0m\n",
            "\u001b[?25hCollecting opentelemetry-instrumentation-asgi==0.42b0 (from opentelemetry-instrumentation-fastapi>=0.41b0->chromadb)\n",
            "  Downloading opentelemetry_instrumentation_asgi-0.42b0-py3-none-any.whl (13 kB)\n",
            "Collecting opentelemetry-instrumentation==0.42b0 (from opentelemetry-instrumentation-fastapi>=0.41b0->chromadb)\n",
            "  Downloading opentelemetry_instrumentation-0.42b0-py3-none-any.whl (25 kB)\n",
            "Collecting opentelemetry-semantic-conventions==0.42b0 (from opentelemetry-instrumentation-fastapi>=0.41b0->chromadb)\n",
            "  Downloading opentelemetry_semantic_conventions-0.42b0-py3-none-any.whl (36 kB)\n",
            "Collecting opentelemetry-util-http==0.42b0 (from opentelemetry-instrumentation-fastapi>=0.41b0->chromadb)\n",
            "  Downloading opentelemetry_util_http-0.42b0-py3-none-any.whl (6.9 kB)\n",
            "Requirement already satisfied: setuptools>=16.0 in /usr/local/lib/python3.10/dist-packages (from opentelemetry-instrumentation==0.42b0->opentelemetry-instrumentation-fastapi>=0.41b0->chromadb) (67.7.2)\n",
            "Requirement already satisfied: wrapt<2.0.0,>=1.0.0 in /usr/local/lib/python3.10/dist-packages (from opentelemetry-instrumentation==0.42b0->opentelemetry-instrumentation-fastapi>=0.41b0->chromadb) (1.14.1)\n",
            "Collecting asgiref~=3.0 (from opentelemetry-instrumentation-asgi==0.42b0->opentelemetry-instrumentation-fastapi>=0.41b0->chromadb)\n",
            "  Downloading asgiref-3.7.2-py3-none-any.whl (24 kB)\n",
            "Collecting monotonic>=1.5 (from posthog>=2.4.0->chromadb)\n",
            "  Downloading monotonic-1.6-py2.py3-none-any.whl (8.2 kB)\n",
            "Requirement already satisfied: charset-normalizer<4,>=2 in /usr/local/lib/python3.10/dist-packages (from requests>=2.28->chromadb) (3.3.2)\n",
            "Requirement already satisfied: idna<4,>=2.5 in /usr/local/lib/python3.10/dist-packages (from requests>=2.28->chromadb) (3.6)\n",
            "Requirement already satisfied: huggingface_hub<1.0,>=0.16.4 in /usr/local/lib/python3.10/dist-packages (from tokenizers>=0.13.2->chromadb) (0.19.4)\n",
            "Requirement already satisfied: click<9.0.0,>=7.1.1 in /usr/local/lib/python3.10/dist-packages (from typer>=0.9.0->chromadb) (8.1.7)\n",
            "Collecting h11>=0.8 (from uvicorn[standard]>=0.18.3->chromadb)\n",
            "  Downloading h11-0.14.0-py3-none-any.whl (58 kB)\n",
            "\u001b[2K     \u001b[90m━━━━━━━━━━━━━━━━━━━━━━━━━━━━━━━━━━━━━━━━\u001b[0m \u001b[32m58.3/58.3 kB\u001b[0m \u001b[31m8.6 MB/s\u001b[0m eta \u001b[36m0:00:00\u001b[0m\n",
            "\u001b[?25hCollecting httptools>=0.5.0 (from uvicorn[standard]>=0.18.3->chromadb)\n",
            "  Downloading httptools-0.6.1-cp310-cp310-manylinux_2_5_x86_64.manylinux1_x86_64.manylinux_2_17_x86_64.manylinux2014_x86_64.whl (341 kB)\n",
            "\u001b[2K     \u001b[90m━━━━━━━━━━━━━━━━━━━━━━━━━━━━━━━━━━━━━━━━\u001b[0m \u001b[32m341.4/341.4 kB\u001b[0m \u001b[31m34.2 MB/s\u001b[0m eta \u001b[36m0:00:00\u001b[0m\n",
            "\u001b[?25hCollecting python-dotenv>=0.13 (from uvicorn[standard]>=0.18.3->chromadb)\n",
            "  Downloading python_dotenv-1.0.0-py3-none-any.whl (19 kB)\n",
            "Collecting uvloop!=0.15.0,!=0.15.1,>=0.14.0 (from uvicorn[standard]>=0.18.3->chromadb)\n",
            "  Downloading uvloop-0.19.0-cp310-cp310-manylinux_2_17_x86_64.manylinux2014_x86_64.whl (3.4 MB)\n",
            "\u001b[2K     \u001b[90m━━━━━━━━━━━━━━━━━━━━━━━━━━━━━━━━━━━━━━━━\u001b[0m \u001b[32m3.4/3.4 MB\u001b[0m \u001b[31m52.7 MB/s\u001b[0m eta \u001b[36m0:00:00\u001b[0m\n",
            "\u001b[?25hCollecting watchfiles>=0.13 (from uvicorn[standard]>=0.18.3->chromadb)\n",
            "  Downloading watchfiles-0.21.0-cp310-cp310-manylinux_2_17_x86_64.manylinux2014_x86_64.whl (1.3 MB)\n",
            "\u001b[2K     \u001b[90m━━━━━━━━━━━━━━━━━━━━━━━━━━━━━━━━━━━━━━━━\u001b[0m \u001b[32m1.3/1.3 MB\u001b[0m \u001b[31m62.6 MB/s\u001b[0m eta \u001b[36m0:00:00\u001b[0m\n",
            "\u001b[?25hCollecting websockets>=10.4 (from uvicorn[standard]>=0.18.3->chromadb)\n",
            "  Downloading websockets-12.0-cp310-cp310-manylinux_2_5_x86_64.manylinux1_x86_64.manylinux_2_17_x86_64.manylinux2014_x86_64.whl (130 kB)\n",
            "\u001b[2K     \u001b[90m━━━━━━━━━━━━━━━━━━━━━━━━━━━━━━━━━━━━━━━━\u001b[0m \u001b[32m130.2/130.2 kB\u001b[0m \u001b[31m15.5 MB/s\u001b[0m eta \u001b[36m0:00:00\u001b[0m\n",
            "\u001b[?25hRequirement already satisfied: sniffio>=1.1 in /usr/local/lib/python3.10/dist-packages (from anyio<4.0.0,>=3.7.1->fastapi>=0.95.2->chromadb) (1.3.0)\n",
            "Requirement already satisfied: exceptiongroup in /usr/local/lib/python3.10/dist-packages (from anyio<4.0.0,>=3.7.1->fastapi>=0.95.2->chromadb) (1.2.0)\n",
            "Requirement already satisfied: cachetools<6.0,>=2.0.0 in /usr/local/lib/python3.10/dist-packages (from google-auth>=1.0.1->kubernetes>=28.1.0->chromadb) (5.3.2)\n",
            "Requirement already satisfied: pyasn1-modules>=0.2.1 in /usr/local/lib/python3.10/dist-packages (from google-auth>=1.0.1->kubernetes>=28.1.0->chromadb) (0.3.0)\n",
            "Requirement already satisfied: rsa<5,>=3.1.4 in /usr/local/lib/python3.10/dist-packages (from google-auth>=1.0.1->kubernetes>=28.1.0->chromadb) (4.9)\n",
            "Requirement already satisfied: filelock in /usr/local/lib/python3.10/dist-packages (from huggingface_hub<1.0,>=0.16.4->tokenizers>=0.13.2->chromadb) (3.13.1)\n",
            "Requirement already satisfied: fsspec>=2023.5.0 in /usr/local/lib/python3.10/dist-packages (from huggingface_hub<1.0,>=0.16.4->tokenizers>=0.13.2->chromadb) (2023.6.0)\n",
            "Requirement already satisfied: zipp>=0.5 in /usr/local/lib/python3.10/dist-packages (from importlib-metadata<7.0,>=6.0->opentelemetry-api>=1.2.0->chromadb) (3.17.0)\n",
            "Collecting humanfriendly>=9.1 (from coloredlogs->onnxruntime>=1.14.1->chromadb)\n",
            "  Downloading humanfriendly-10.0-py2.py3-none-any.whl (86 kB)\n",
            "\u001b[2K     \u001b[90m━━━━━━━━━━━━━━━━━━━━━━━━━━━━━━━━━━━━━━━━\u001b[0m \u001b[32m86.8/86.8 kB\u001b[0m \u001b[31m10.8 MB/s\u001b[0m eta \u001b[36m0:00:00\u001b[0m\n",
            "\u001b[?25hRequirement already satisfied: mpmath>=0.19 in /usr/local/lib/python3.10/dist-packages (from sympy->onnxruntime>=1.14.1->chromadb) (1.3.0)\n",
            "Requirement already satisfied: pyasn1<0.6.0,>=0.4.6 in /usr/local/lib/python3.10/dist-packages (from pyasn1-modules>=0.2.1->google-auth>=1.0.1->kubernetes>=28.1.0->chromadb) (0.5.1)\n",
            "Building wheels for collected packages: pypika\n",
            "  Building wheel for pypika (pyproject.toml) ... \u001b[?25l\u001b[?25hdone\n",
            "  Created wheel for pypika: filename=PyPika-0.48.9-py2.py3-none-any.whl size=53723 sha256=a5b0e3cbc8789190c3535573258bbb0c599571c576c2f00d1fc2eb386e10012e\n",
            "  Stored in directory: /root/.cache/pip/wheels/e1/26/51/d0bffb3d2fd82256676d7ad3003faea3bd6dddc9577af665f4\n",
            "Successfully built pypika\n",
            "Installing collected packages: pypika, monotonic, mmh3, websockets, uvloop, urllib3, typing-extensions, python-dotenv, pulsar-client, overrides, opentelemetry-util-http, opentelemetry-semantic-conventions, opentelemetry-proto, humanfriendly, httptools, h11, deprecated, chroma-hnswlib, bcrypt, backoff, watchfiles, uvicorn, starlette, opentelemetry-exporter-otlp-proto-common, opentelemetry-api, coloredlogs, asgiref, posthog, opentelemetry-sdk, opentelemetry-instrumentation, onnxruntime, fastapi, opentelemetry-instrumentation-asgi, opentelemetry-exporter-otlp-proto-grpc, kubernetes, opentelemetry-instrumentation-fastapi, chromadb\n",
            "  Attempting uninstall: urllib3\n",
            "    Found existing installation: urllib3 2.0.7\n",
            "    Uninstalling urllib3-2.0.7:\n",
            "      Successfully uninstalled urllib3-2.0.7\n",
            "  Attempting uninstall: typing-extensions\n",
            "    Found existing installation: typing_extensions 4.5.0\n",
            "    Uninstalling typing_extensions-4.5.0:\n",
            "      Successfully uninstalled typing_extensions-4.5.0\n",
            "\u001b[31mERROR: pip's dependency resolver does not currently take into account all the packages that are installed. This behaviour is the source of the following dependency conflicts.\n",
            "lida 0.0.10 requires kaleido, which is not installed.\n",
            "lida 0.0.10 requires python-multipart, which is not installed.\n",
            "tensorflow-probability 0.22.0 requires typing-extensions<4.6.0, but you have typing-extensions 4.8.0 which is incompatible.\u001b[0m\u001b[31m\n",
            "\u001b[0mSuccessfully installed asgiref-3.7.2 backoff-2.2.1 bcrypt-4.1.1 chroma-hnswlib-0.7.3 chromadb-0.4.18 coloredlogs-15.0.1 deprecated-1.2.14 fastapi-0.104.1 h11-0.14.0 httptools-0.6.1 humanfriendly-10.0 kubernetes-28.1.0 mmh3-4.0.1 monotonic-1.6 onnxruntime-1.16.3 opentelemetry-api-1.21.0 opentelemetry-exporter-otlp-proto-common-1.21.0 opentelemetry-exporter-otlp-proto-grpc-1.21.0 opentelemetry-instrumentation-0.42b0 opentelemetry-instrumentation-asgi-0.42b0 opentelemetry-instrumentation-fastapi-0.42b0 opentelemetry-proto-1.21.0 opentelemetry-sdk-1.21.0 opentelemetry-semantic-conventions-0.42b0 opentelemetry-util-http-0.42b0 overrides-7.4.0 posthog-3.0.2 pulsar-client-3.3.0 pypika-0.48.9 python-dotenv-1.0.0 starlette-0.27.0 typing-extensions-4.8.0 urllib3-1.26.18 uvicorn-0.24.0.post1 uvloop-0.19.0 watchfiles-0.21.0 websockets-12.0\n",
            "Collecting tiktoken\n",
            "  Downloading tiktoken-0.5.2-cp310-cp310-manylinux_2_17_x86_64.manylinux2014_x86_64.whl (2.0 MB)\n",
            "\u001b[2K     \u001b[90m━━━━━━━━━━━━━━━━━━━━━━━━━━━━━━━━━━━━━━━━\u001b[0m \u001b[32m2.0/2.0 MB\u001b[0m \u001b[31m10.0 MB/s\u001b[0m eta \u001b[36m0:00:00\u001b[0m\n",
            "\u001b[?25hRequirement already satisfied: regex>=2022.1.18 in /usr/local/lib/python3.10/dist-packages (from tiktoken) (2023.6.3)\n",
            "Requirement already satisfied: requests>=2.26.0 in /usr/local/lib/python3.10/dist-packages (from tiktoken) (2.31.0)\n",
            "Requirement already satisfied: charset-normalizer<4,>=2 in /usr/local/lib/python3.10/dist-packages (from requests>=2.26.0->tiktoken) (3.3.2)\n",
            "Requirement already satisfied: idna<4,>=2.5 in /usr/local/lib/python3.10/dist-packages (from requests>=2.26.0->tiktoken) (3.6)\n",
            "Requirement already satisfied: urllib3<3,>=1.21.1 in /usr/local/lib/python3.10/dist-packages (from requests>=2.26.0->tiktoken) (1.26.18)\n",
            "Requirement already satisfied: certifi>=2017.4.17 in /usr/local/lib/python3.10/dist-packages (from requests>=2.26.0->tiktoken) (2023.11.17)\n",
            "Installing collected packages: tiktoken\n",
            "\u001b[31mERROR: pip's dependency resolver does not currently take into account all the packages that are installed. This behaviour is the source of the following dependency conflicts.\n",
            "llmx 0.0.15a0 requires cohere, which is not installed.\u001b[0m\u001b[31m\n",
            "\u001b[0mSuccessfully installed tiktoken-0.5.2\n",
            "Collecting pinecone-client\n",
            "  Downloading pinecone_client-2.2.4-py3-none-any.whl (179 kB)\n",
            "\u001b[2K     \u001b[90m━━━━━━━━━━━━━━━━━━━━━━━━━━━━━━━━━━━━━━━━\u001b[0m \u001b[32m179.4/179.4 kB\u001b[0m \u001b[31m3.6 MB/s\u001b[0m eta \u001b[36m0:00:00\u001b[0m\n",
            "\u001b[?25hRequirement already satisfied: requests>=2.19.0 in /usr/local/lib/python3.10/dist-packages (from pinecone-client) (2.31.0)\n",
            "Requirement already satisfied: pyyaml>=5.4 in /usr/local/lib/python3.10/dist-packages (from pinecone-client) (6.0.1)\n",
            "Collecting loguru>=0.5.0 (from pinecone-client)\n",
            "  Downloading loguru-0.7.2-py3-none-any.whl (62 kB)\n",
            "\u001b[2K     \u001b[90m━━━━━━━━━━━━━━━━━━━━━━━━━━━━━━━━━━━━━━━━\u001b[0m \u001b[32m62.5/62.5 kB\u001b[0m \u001b[31m9.1 MB/s\u001b[0m eta \u001b[36m0:00:00\u001b[0m\n",
            "\u001b[?25hRequirement already satisfied: typing-extensions>=3.7.4 in /usr/local/lib/python3.10/dist-packages (from pinecone-client) (4.8.0)\n",
            "Collecting dnspython>=2.0.0 (from pinecone-client)\n",
            "  Downloading dnspython-2.4.2-py3-none-any.whl (300 kB)\n",
            "\u001b[2K     \u001b[90m━━━━━━━━━━━━━━━━━━━━━━━━━━━━━━━━━━━━━━━━\u001b[0m \u001b[32m300.4/300.4 kB\u001b[0m \u001b[31m16.2 MB/s\u001b[0m eta \u001b[36m0:00:00\u001b[0m\n",
            "\u001b[?25hRequirement already satisfied: python-dateutil>=2.5.3 in /usr/local/lib/python3.10/dist-packages (from pinecone-client) (2.8.2)\n",
            "Requirement already satisfied: urllib3>=1.21.1 in /usr/local/lib/python3.10/dist-packages (from pinecone-client) (1.26.18)\n",
            "Requirement already satisfied: tqdm>=4.64.1 in /usr/local/lib/python3.10/dist-packages (from pinecone-client) (4.66.1)\n",
            "Requirement already satisfied: numpy>=1.22.0 in /usr/local/lib/python3.10/dist-packages (from pinecone-client) (1.23.5)\n",
            "Requirement already satisfied: six>=1.5 in /usr/local/lib/python3.10/dist-packages (from python-dateutil>=2.5.3->pinecone-client) (1.16.0)\n",
            "Requirement already satisfied: charset-normalizer<4,>=2 in /usr/local/lib/python3.10/dist-packages (from requests>=2.19.0->pinecone-client) (3.3.2)\n",
            "Requirement already satisfied: idna<4,>=2.5 in /usr/local/lib/python3.10/dist-packages (from requests>=2.19.0->pinecone-client) (3.6)\n",
            "Requirement already satisfied: certifi>=2017.4.17 in /usr/local/lib/python3.10/dist-packages (from requests>=2.19.0->pinecone-client) (2023.11.17)\n",
            "Installing collected packages: loguru, dnspython, pinecone-client\n",
            "Successfully installed dnspython-2.4.2 loguru-0.7.2 pinecone-client-2.2.4\n",
            "Requirement already satisfied: python-dotenv in /usr/local/lib/python3.10/dist-packages (1.0.0)\n"
          ]
        }
      ],
      "source": [
        "!pip install pypdf\n",
        "!pip install langchain\n",
        "!pip install openai==0.28.1\n",
        "!pip install chromadb\n",
        "!pip install tiktoken\n",
        "!pip install pinecone-client\n",
        "!pip install python-dotenv"
      ]
    },
    {
      "cell_type": "code",
      "execution_count": 2,
      "metadata": {
        "colab": {
          "base_uri": "https://localhost:8080/"
        },
        "id": "6cxQAt-Uu-Ip",
        "outputId": "982c3ade-10b3-4f15-b8f6-e20bcb92fa64"
      },
      "outputs": [
        {
          "output_type": "stream",
          "name": "stdout",
          "text": [
            "Mounted at /content/drive/\n",
            "/content/drive/My Drive\n"
          ]
        },
        {
          "output_type": "execute_result",
          "data": {
            "text/plain": [
              "True"
            ]
          },
          "metadata": {},
          "execution_count": 2
        }
      ],
      "source": [
        "from google.colab import drive, files\n",
        "import os\n",
        "from dotenv import load_dotenv, find_dotenv\n",
        "drive.mount(\"/content/drive/\", force_remount=False)\n",
        "%cd \"/content/drive/My Drive/\"\n",
        "load_dotenv('./Lab_Python/.env')"
      ]
    },
    {
      "cell_type": "code",
      "execution_count": 3,
      "metadata": {
        "id": "ej_EJtavvDph"
      },
      "outputs": [],
      "source": [
        "import pandas as pd\n",
        "\n",
        "fine_tuning_dataset = pd.read_json(\"./Tesi/fine_tune_improved.json\")\n",
        "dataset_query = pd.read_json(\"./Tesi/prova_domande_fine_tuning.json\")"
      ]
    },
    {
      "cell_type": "code",
      "execution_count": 4,
      "metadata": {
        "colab": {
          "base_uri": "https://localhost:8080/"
        },
        "id": "ULbhcC5Ou_4l",
        "outputId": "f74336ee-7522-45fe-c0b1-b0edfd8312b7"
      },
      "outputs": [
        {
          "output_type": "stream",
          "name": "stdout",
          "text": [
            "Qual è il modo per partecipare all'Avviso MicroPrestito della Regione Puglia? in riferimento al documento: 'Scheda MicroPrestito della Regione Puglia - edizione 2021.pdf'\n"
          ]
        }
      ],
      "source": [
        "query1 = fine_tuning_dataset.prompt[0]\n",
        "print(query1)"
      ]
    },
    {
      "cell_type": "code",
      "execution_count": 5,
      "metadata": {
        "colab": {
          "base_uri": "https://localhost:8080/"
        },
        "id": "Pf03DmQ5v0p4",
        "outputId": "ac475dee-4d0e-452c-9fc6-4195ea70633d"
      },
      "outputs": [
        {
          "output_type": "stream",
          "name": "stdout",
          "text": [
            "gpt-3.5-turbo\n"
          ]
        }
      ],
      "source": [
        "import datetime\n",
        "current_date = datetime.datetime.now().date()\n",
        "if current_date < datetime.date(2023, 9, 2):\n",
        "    llm_name = \"gpt-3.5-turbo-0301\"\n",
        "else:\n",
        "    llm_name = \"gpt-3.5-turbo\"\n",
        "print(llm_name)"
      ]
    },
    {
      "cell_type": "markdown",
      "metadata": {
        "id": "sGFM8AKB7oLJ"
      },
      "source": [
        "api langsmith per vedere le chiamate"
      ]
    },
    {
      "cell_type": "code",
      "execution_count": 6,
      "metadata": {
        "id": "MqyG91Isv2yJ"
      },
      "outputs": [],
      "source": [
        "import os\n",
        "os.environ[\"LANGCHAIN_TRACING_V2\"] = \"true\"\n",
        "os.environ[\"LANGCHAIN_ENDPOINT\"] = \"https://api.langchain.plus\"\n",
        "os.environ[\"LANGCHAIN_API_KEY\"] = \"ls__0554eeed658141b4a601195abd6c737d\""
      ]
    },
    {
      "cell_type": "markdown",
      "metadata": {
        "id": "-c5TdyrH8Zzc"
      },
      "source": [
        "Carico i documenti ed estraggo il contenuto della pagina e i suoi metadata"
      ]
    },
    {
      "cell_type": "code",
      "execution_count": 7,
      "metadata": {
        "id": "SwqWVatZv5ZU"
      },
      "outputs": [],
      "source": [
        "import os\n",
        "from langchain.document_loaders import PyPDFLoader\n",
        "\n",
        "pdf_directory = \"Tesi/Documenti\"\n",
        "\n",
        "pdf_files = [file for file in os.listdir(pdf_directory) if file.endswith('.pdf')]\n",
        "\n",
        "docs = []\n",
        "\n",
        "for pdf_file in pdf_files:\n",
        "  file_path = os.path.join(pdf_directory, pdf_file)\n",
        "\n",
        "  loader = PyPDFLoader(file_path)\n",
        "  loaded_docs = loader.load()\n",
        "\n",
        "  for doc in loaded_docs:\n",
        "      doc.metadata[\"source\"] = pdf_file\n",
        "      docs.append(doc)\n"
      ]
    },
    {
      "cell_type": "code",
      "execution_count": null,
      "metadata": {
        "colab": {
          "base_uri": "https://localhost:8080/"
        },
        "id": "0WUSSTnVwYY7",
        "outputId": "3c676c7d-1d09-4787-8b90-f9b34c1fb6aa"
      },
      "outputs": [
        {
          "data": {
            "text/plain": [
              "Document(page_content='  \\n \\n14 ottobre  2021 Pag 1 di 2 Centro Servizi Sistema Puglia  \\nwww.sistema.puglia.it  \\n \\n \\nScheda: Avviso MicroPrestito  della  Regione  Puglia  \\n \\nInformazioni  generali  Titolo  bando  MicroPrestito  della  Regione  Puglia  \\nDescrizione  L’Avviso  è stato  adottato  per far fronte  alle esigenze  delle  imprese  derivanti  dalle  \\nripercussioni  economiche  causate  dall’emergenza  epidemiologia  Covid -19. La \\nmisura vuole garantire la continuità dell’operatività aziendale  e la salvaguardia \\ndell’occupazione.  \\nLe disposizioni  dell’Avviso  sono  conformi  all’approvazione  dell’Aiuto  di Stato  SA. \\n57021 -Italia -Covid19 regime quadro del 21 maggio 2020 da parte della  \\nCommissione  europea  ai sensi dell’art.  108 del TFUE e  s.m.i.  \\nRisultati  attesi  La misura  sostiene  l’accesso  al credito  attraverso  interventi  di micro -finanza  \\nche consistono  in mutui  concessi  a tasso zero  e senza  garanzie.  \\nDestinatari  Il sistema  economico  e produttivo  pugliese.  Chi può  partecipare  Beneficiari  Le microimprese ed i lavoratori autonomi iscritti al registro delle imprese,  con \\nsede operativa  in Puglia  che abbiano  subito  perdite  di fatturato  o incrementi di \\ncosti in conseguenza dell’epidemia Covid -19 e delle relative  misure  di \\ncontenimento,  avendo  avuto  nel periodo  compreso  tra il 1° gennaio  2021  e il 30 \\nsettembre  2021  ricavi  inferiori  ai ricavi  del periodo  dal \\n1° gennaio  2019 al  30 settembre  2019.  \\nLe microimprese devono essere costituite nelle seguenti forme giuridiche:  ditta  \\nindividuale,  società  in nome  collettivo,  società  in accomandita  semplice, società \\ncooperative, società a responsabilità limitata (anche in  forma  unipersonale  e \\nsemplificata).  \\nL’elenco  dei codici  attività  ammissibili  è riportato  nell’Allegato  1 dell’Avviso.  \\nLe imprese,  nell’esercizio  2019,  non devono  aver  generato  \\nricavi /compensi/fatturato  annuali  superiori a  400.000,00  €. \\nSe l’esercizio  2019  si è concluso  con una perdita,  quest’ultima  non deve  essere  \\nstata  superiore  al 20%  del fatturato.  Cosa  \\nfinanzi a Operazioni  finanziabili  Spese  di funzionamento:  costi  derivanti  dalla  gestione  dell’attività  d’impresa  \\nsostenuti (pagati) in data successiva alla partecipazione all’avviso ed entro  12 mesi \\ndalla concessione  delle agevolazioni.  Risorse  economiche  Fonte  delle  risorse  POR  Puglia  2014 -2020  \\nFonte  specifica  Azioni  3.6 e 3.8 del POR  Puglia  2014 -2020.  \\nFondo  Microprestito  della  Regione  Puglia  2014 -2020.  \\nA sportello  / A \\nscadenza  Avviso  a sportello  operativo  sino al 31/12/2021  e, comunque,  sino ad \\nesaurimento  fondi  \\nContributo massimo  \\nper progetto  Il finanziamento erogabile potrà essere compreso tra 5.000 € e 30.000 € in  ragione \\ndel fatturato conseguito nel 2019. I mutui avranno durata massima  pari a 60 mesi \\n(più preammortamento della durata di 12 mesi). Le imprese,  in regola  con la \\nrestituzione  del finanziamento,  ottengono  un contributo  pari al 20%  dell’importo  \\ndello  stesso  finanziamento  sotto  forma  di abbuono  delle  ultime  12 rate.  \\nGli aiuti  sono  cumulabili  con altri eventuali  strumenti  emergenziali  di cui alla \\nComunicazione  della  Commissione  n. 1863/2020  e ss.mm.ii.  \\nRisorse  totali  stanziate  80.000.000  € Come partecipare   \\n \\nModalità di  \\npartecipazione  \\n \\n La domanda di partecipazione potrà essere presentata direttamente  \\ndall’impresa che chiede l’agevolazione, previa iscrizione al portale  Sistema \\nPuglia al seguente indirizzo:  https://microcredito2021.sistema.puglia.it . \\nLa procedura  di partecipazione  è interamente  telematica.  \\nL’impresa  dovrà  essere  in possesso  di firma  digitale  ed essere titolare  \\ndi conto corrente  business  anche  non dedicato esclusivamente  al progetto.  ', metadata={'source': 'Scheda MicroPrestito della Regione Puglia - edizione 2021.pdf', 'page': 0})"
            ]
          },
          "execution_count": 8,
          "metadata": {},
          "output_type": "execute_result"
        }
      ],
      "source": [
        "docs[0]"
      ]
    },
    {
      "cell_type": "markdown",
      "metadata": {
        "id": "7rPOhuZCyhqr"
      },
      "source": [
        "Documenti che voglio usare: 9-28"
      ]
    },
    {
      "cell_type": "code",
      "execution_count": null,
      "metadata": {
        "id": "tjgyApO1svp7"
      },
      "outputs": [],
      "source": [
        "for i, doc in enumerate(docs):\n",
        "    print(f\"{i} {doc.metadata['source']} {doc.metadata['page']}\")"
      ]
    },
    {
      "cell_type": "markdown",
      "metadata": {
        "id": "nR5RxR5mfncQ"
      },
      "source": [
        "Documenti su cui provo a fare il labeling"
      ]
    },
    {
      "cell_type": "code",
      "execution_count": 8,
      "metadata": {
        "id": "IVa0vISxzDPc"
      },
      "outputs": [],
      "source": [
        "test_docs = []\n",
        "\n",
        "for doc in docs:\n",
        "  if doc.metadata['source'] == 'Aiuti agli Investimenti delle Piccole e Medie Imprese (Titolo II Capo 3 Reg_ Regionale 17_2014)_br ___br __.pdf':\n",
        "    test_docs.append(doc)\n",
        "  if doc.metadata['source'] == 'Programmi Integrati di Agevolazioni PIA Piccole Imprese (Art_ 27 Reg_ Regionale 17_2014 e s_m_i_).pdf':\n",
        "    test_docs.append(doc)\n",
        "  if doc.metadata['source'] == 'Contratti di Programma per Grandi Imprese Singole o con PMI aderenti (Art_ 17 Reg_ Regionale 17_2014 e s_m_i_).pdf':\n",
        "    test_docs.append(doc)"
      ]
    },
    {
      "cell_type": "code",
      "execution_count": 9,
      "metadata": {
        "colab": {
          "base_uri": "https://localhost:8080/"
        },
        "id": "LL1YYPrES1bC",
        "outputId": "0c8d0b06-9267-41ee-c46b-0671bc511476"
      },
      "outputs": [
        {
          "output_type": "stream",
          "name": "stdout",
          "text": [
            "0 Aiuti agli Investimenti delle Piccole e Medie Imprese (Titolo II Capo 3 Reg_ Regionale 17_2014)_br ___br __.pdf 0\n",
            "1 Aiuti agli Investimenti delle Piccole e Medie Imprese (Titolo II Capo 3 Reg_ Regionale 17_2014)_br ___br __.pdf 1\n",
            "2 Aiuti agli Investimenti delle Piccole e Medie Imprese (Titolo II Capo 3 Reg_ Regionale 17_2014)_br ___br __.pdf 2\n",
            "3 Aiuti agli Investimenti delle Piccole e Medie Imprese (Titolo II Capo 3 Reg_ Regionale 17_2014)_br ___br __.pdf 3\n",
            "4 Aiuti agli Investimenti delle Piccole e Medie Imprese (Titolo II Capo 3 Reg_ Regionale 17_2014)_br ___br __.pdf 4\n",
            "5 Aiuti agli Investimenti delle Piccole e Medie Imprese (Titolo II Capo 3 Reg_ Regionale 17_2014)_br ___br __.pdf 5\n",
            "6 Aiuti agli Investimenti delle Piccole e Medie Imprese (Titolo II Capo 3 Reg_ Regionale 17_2014)_br ___br __.pdf 6\n",
            "7 Aiuti agli Investimenti delle Piccole e Medie Imprese (Titolo II Capo 3 Reg_ Regionale 17_2014)_br ___br __.pdf 7\n",
            "8 Aiuti agli Investimenti delle Piccole e Medie Imprese (Titolo II Capo 3 Reg_ Regionale 17_2014)_br ___br __.pdf 8\n",
            "9 Aiuti agli Investimenti delle Piccole e Medie Imprese (Titolo II Capo 3 Reg_ Regionale 17_2014)_br ___br __.pdf 9\n",
            "10 Contratti di Programma per Grandi Imprese Singole o con PMI aderenti (Art_ 17 Reg_ Regionale 17_2014 e s_m_i_).pdf 0\n",
            "11 Contratti di Programma per Grandi Imprese Singole o con PMI aderenti (Art_ 17 Reg_ Regionale 17_2014 e s_m_i_).pdf 1\n",
            "12 Contratti di Programma per Grandi Imprese Singole o con PMI aderenti (Art_ 17 Reg_ Regionale 17_2014 e s_m_i_).pdf 2\n",
            "13 Contratti di Programma per Grandi Imprese Singole o con PMI aderenti (Art_ 17 Reg_ Regionale 17_2014 e s_m_i_).pdf 3\n",
            "14 Contratti di Programma per Grandi Imprese Singole o con PMI aderenti (Art_ 17 Reg_ Regionale 17_2014 e s_m_i_).pdf 4\n",
            "15 Contratti di Programma per Grandi Imprese Singole o con PMI aderenti (Art_ 17 Reg_ Regionale 17_2014 e s_m_i_).pdf 5\n",
            "16 Contratti di Programma per Grandi Imprese Singole o con PMI aderenti (Art_ 17 Reg_ Regionale 17_2014 e s_m_i_).pdf 6\n",
            "17 Contratti di Programma per Grandi Imprese Singole o con PMI aderenti (Art_ 17 Reg_ Regionale 17_2014 e s_m_i_).pdf 7\n",
            "18 Programmi Integrati di Agevolazioni PIA Piccole Imprese (Art_ 27 Reg_ Regionale 17_2014 e s_m_i_).pdf 0\n",
            "19 Programmi Integrati di Agevolazioni PIA Piccole Imprese (Art_ 27 Reg_ Regionale 17_2014 e s_m_i_).pdf 1\n",
            "20 Programmi Integrati di Agevolazioni PIA Piccole Imprese (Art_ 27 Reg_ Regionale 17_2014 e s_m_i_).pdf 2\n",
            "21 Programmi Integrati di Agevolazioni PIA Piccole Imprese (Art_ 27 Reg_ Regionale 17_2014 e s_m_i_).pdf 3\n",
            "22 Programmi Integrati di Agevolazioni PIA Piccole Imprese (Art_ 27 Reg_ Regionale 17_2014 e s_m_i_).pdf 4\n",
            "23 Programmi Integrati di Agevolazioni PIA Piccole Imprese (Art_ 27 Reg_ Regionale 17_2014 e s_m_i_).pdf 5\n",
            "24 Programmi Integrati di Agevolazioni PIA Piccole Imprese (Art_ 27 Reg_ Regionale 17_2014 e s_m_i_).pdf 6\n",
            "25 Programmi Integrati di Agevolazioni PIA Piccole Imprese (Art_ 27 Reg_ Regionale 17_2014 e s_m_i_).pdf 7\n"
          ]
        }
      ],
      "source": [
        "for i, doc in enumerate(test_docs):\n",
        "    print(f\"{i} {doc.metadata['source']} {doc.metadata['page']}\")"
      ]
    },
    {
      "cell_type": "markdown",
      "metadata": {
        "id": "kzpV8YSsfytm"
      },
      "source": [
        "Funzione che conta i token che gpt-3.5-turbo userà per il testo."
      ]
    },
    {
      "cell_type": "code",
      "execution_count": 10,
      "metadata": {
        "id": "Di6KdLU4fyPB"
      },
      "outputs": [],
      "source": [
        "import tiktoken\n",
        "\n",
        "tokenizer = tiktoken.get_encoding('cl100k_base')\n",
        "\n",
        "# create the length function\n",
        "def tiktoken_len(text):\n",
        "    tokens = tokenizer.encode(\n",
        "        text,\n",
        "        disallowed_special=()\n",
        "    )\n",
        "    return len(tokens)"
      ]
    },
    {
      "cell_type": "code",
      "execution_count": 11,
      "metadata": {
        "id": "yVl10NZdkso9"
      },
      "outputs": [],
      "source": [
        "token_counts = [tiktoken_len(doc.page_content) for doc in test_docs]"
      ]
    },
    {
      "cell_type": "code",
      "execution_count": 12,
      "metadata": {
        "colab": {
          "base_uri": "https://localhost:8080/"
        },
        "id": "6Rh3AxmflEUm",
        "outputId": "d2750c0c-47bc-4624-b89f-283cc4f4bfab"
      },
      "outputs": [
        {
          "output_type": "stream",
          "name": "stdout",
          "text": [
            "Min: 383\n",
            "Avg: 855\n",
            "Max: 1033\n"
          ]
        }
      ],
      "source": [
        "print(f\"\"\"Min: {min(token_counts)}\n",
        "Avg: {int(sum(token_counts) / len(token_counts))}\n",
        "Max: {max(token_counts)}\"\"\")"
      ]
    },
    {
      "cell_type": "markdown",
      "metadata": {
        "id": "JAYpIno5lU-O"
      },
      "source": [
        "Plottiamo il contatore di token per vedere la frequenza di quanti token hanno le pagine"
      ]
    },
    {
      "cell_type": "code",
      "execution_count": 13,
      "metadata": {
        "colab": {
          "base_uri": "https://localhost:8080/",
          "height": 564
        },
        "id": "AUiExAfzlNws",
        "outputId": "13ec96f2-707e-4d31-f433-56378dc0a2f1"
      },
      "outputs": [
        {
          "output_type": "display_data",
          "data": {
            "text/plain": [
              "<Figure size 1200x600 with 1 Axes>"
            ],
            "image/png": "[encoded data removed]"
          },
          "metadata": {}
        }
      ],
      "source": [
        "import matplotlib.pyplot as plt\n",
        "import seaborn as sns\n",
        "\n",
        "sns.set_style(\"whitegrid\")\n",
        "sns.set_palette(\"muted\")\n",
        "\n",
        "plt.figure(figsize=(12, 6))\n",
        "sns.histplot(token_counts, kde=False, bins=50)\n",
        "\n",
        "plt.title(\"Token Counts Histogram\")\n",
        "plt.xlabel(\"Token Count\")\n",
        "plt.ylabel(\"Frequency\")\n",
        "\n",
        "plt.show()"
      ]
    },
    {
      "cell_type": "markdown",
      "metadata": {
        "id": "3-Nz1yMqll8d"
      },
      "source": [
        "Andiamo a fare il labelling con create_metadata_tagger per trovare il Tipo di impresa a cui si riferisce il chunk"
      ]
    },
    {
      "cell_type": "code",
      "execution_count": 14,
      "metadata": {
        "id": "ckO_c19c8tsI"
      },
      "outputs": [],
      "source": [
        "from langchain.prompts import ChatPromptTemplate\n",
        "\n",
        "from langchain.chat_models import ChatOpenAI\n",
        "from langchain.document_transformers.openai_functions import create_metadata_tagger\n",
        "from langchain.schema import Document\n",
        "from typing import Literal\n",
        "\n",
        "from pydantic import BaseModel, Field\n",
        "\n",
        "prompt = ChatPromptTemplate.from_template(\n",
        "    \"\"\"Identifica il tipo di impresa a cui è riferito il documento e specifica se è \"Piccole Imprese\", \"Medie Imprese\", \"Grandi Imprese\" se nessuna delle tre \"Non classificato\" se a entrambi \"Piccole e Medie Imprese\":\n",
        "{input}\n",
        "\"\"\"\n",
        ")\n",
        "\n",
        "class Properties(BaseModel):\n",
        "    Tipo_Imprese: Literal['Non classificato', 'Piccole Imprese','Piccole e Medie Imprese', 'Medie Imprese', 'Grandi Imprese']\n",
        "\n",
        "# Must be an OpenAI model that supports functions\n",
        "llm = ChatOpenAI(temperature=0, model=\"gpt-3.5-turbo-0613\")\n",
        "\n",
        "document_transformer = create_metadata_tagger(Properties, llm=llm, prompt = prompt)\n",
        "\n",
        "enhanced_documents = document_transformer.transform_documents(test_docs)"
      ]
    },
    {
      "cell_type": "code",
      "execution_count": 15,
      "metadata": {
        "colab": {
          "base_uri": "https://localhost:8080/"
        },
        "id": "IMZUU2eH0Boo",
        "outputId": "f42284eb-cb00-4587-8c49-e805ac901ec1"
      },
      "outputs": [
        {
          "output_type": "stream",
          "name": "stdout",
          "text": [
            "0 {'Tipo_Imprese': 'Piccole e Medie Imprese', 'source': 'Aiuti agli Investimenti delle Piccole e Medie Imprese (Titolo II Capo 3 Reg_ Regionale 17_2014)_br ___br __.pdf', 'page': 0}\n",
            "1 {'Tipo_Imprese': 'Non classificato', 'source': 'Aiuti agli Investimenti delle Piccole e Medie Imprese (Titolo II Capo 3 Reg_ Regionale 17_2014)_br ___br __.pdf', 'page': 1}\n",
            "2 {'Tipo_Imprese': 'Non classificato', 'source': 'Aiuti agli Investimenti delle Piccole e Medie Imprese (Titolo II Capo 3 Reg_ Regionale 17_2014)_br ___br __.pdf', 'page': 2}\n",
            "3 {'Tipo_Imprese': 'Non classificato', 'source': 'Aiuti agli Investimenti delle Piccole e Medie Imprese (Titolo II Capo 3 Reg_ Regionale 17_2014)_br ___br __.pdf', 'page': 3}\n",
            "4 {'Tipo_Imprese': 'Non classificato', 'source': 'Aiuti agli Investimenti delle Piccole e Medie Imprese (Titolo II Capo 3 Reg_ Regionale 17_2014)_br ___br __.pdf', 'page': 4}\n",
            "5 {'Tipo_Imprese': 'Non classificato', 'source': 'Aiuti agli Investimenti delle Piccole e Medie Imprese (Titolo II Capo 3 Reg_ Regionale 17_2014)_br ___br __.pdf', 'page': 5}\n",
            "6 {'Tipo_Imprese': 'Non classificato', 'source': 'Aiuti agli Investimenti delle Piccole e Medie Imprese (Titolo II Capo 3 Reg_ Regionale 17_2014)_br ___br __.pdf', 'page': 6}\n",
            "7 {'Tipo_Imprese': 'Piccole Imprese', 'source': 'Aiuti agli Investimenti delle Piccole e Medie Imprese (Titolo II Capo 3 Reg_ Regionale 17_2014)_br ___br __.pdf', 'page': 7}\n",
            "8 {'Tipo_Imprese': 'Non classificato', 'source': 'Aiuti agli Investimenti delle Piccole e Medie Imprese (Titolo II Capo 3 Reg_ Regionale 17_2014)_br ___br __.pdf', 'page': 8}\n",
            "9 {'Tipo_Imprese': 'Non classificato', 'source': 'Aiuti agli Investimenti delle Piccole e Medie Imprese (Titolo II Capo 3 Reg_ Regionale 17_2014)_br ___br __.pdf', 'page': 9}\n",
            "10 {'Tipo_Imprese': 'Grandi Imprese', 'source': 'Contratti di Programma per Grandi Imprese Singole o con PMI aderenti (Art_ 17 Reg_ Regionale 17_2014 e s_m_i_).pdf', 'page': 0}\n",
            "11 {'Tipo_Imprese': 'Non classificato', 'source': 'Contratti di Programma per Grandi Imprese Singole o con PMI aderenti (Art_ 17 Reg_ Regionale 17_2014 e s_m_i_).pdf', 'page': 1}\n",
            "12 {'Tipo_Imprese': 'Non classificato', 'source': 'Contratti di Programma per Grandi Imprese Singole o con PMI aderenti (Art_ 17 Reg_ Regionale 17_2014 e s_m_i_).pdf', 'page': 2}\n",
            "13 {'Tipo_Imprese': 'Non classificato', 'source': 'Contratti di Programma per Grandi Imprese Singole o con PMI aderenti (Art_ 17 Reg_ Regionale 17_2014 e s_m_i_).pdf', 'page': 3}\n",
            "14 {'Tipo_Imprese': 'Non classificato', 'source': 'Contratti di Programma per Grandi Imprese Singole o con PMI aderenti (Art_ 17 Reg_ Regionale 17_2014 e s_m_i_).pdf', 'page': 4}\n",
            "15 {'Tipo_Imprese': 'Non classificato', 'source': 'Contratti di Programma per Grandi Imprese Singole o con PMI aderenti (Art_ 17 Reg_ Regionale 17_2014 e s_m_i_).pdf', 'page': 5}\n",
            "16 {'Tipo_Imprese': 'Non classificato', 'source': 'Contratti di Programma per Grandi Imprese Singole o con PMI aderenti (Art_ 17 Reg_ Regionale 17_2014 e s_m_i_).pdf', 'page': 6}\n",
            "17 {'Tipo_Imprese': 'Non classificato', 'source': 'Contratti di Programma per Grandi Imprese Singole o con PMI aderenti (Art_ 17 Reg_ Regionale 17_2014 e s_m_i_).pdf', 'page': 7}\n",
            "18 {'Tipo_Imprese': 'Piccole Imprese', 'source': 'Programmi Integrati di Agevolazioni PIA Piccole Imprese (Art_ 27 Reg_ Regionale 17_2014 e s_m_i_).pdf', 'page': 0}\n",
            "19 {'Tipo_Imprese': 'Non classificato', 'source': 'Programmi Integrati di Agevolazioni PIA Piccole Imprese (Art_ 27 Reg_ Regionale 17_2014 e s_m_i_).pdf', 'page': 1}\n",
            "20 {'Tipo_Imprese': 'Non classificato', 'source': 'Programmi Integrati di Agevolazioni PIA Piccole Imprese (Art_ 27 Reg_ Regionale 17_2014 e s_m_i_).pdf', 'page': 2}\n",
            "21 {'Tipo_Imprese': 'Piccole Imprese', 'source': 'Programmi Integrati di Agevolazioni PIA Piccole Imprese (Art_ 27 Reg_ Regionale 17_2014 e s_m_i_).pdf', 'page': 3}\n",
            "22 {'Tipo_Imprese': 'Piccole Imprese', 'source': 'Programmi Integrati di Agevolazioni PIA Piccole Imprese (Art_ 27 Reg_ Regionale 17_2014 e s_m_i_).pdf', 'page': 4}\n",
            "23 {'Tipo_Imprese': 'Piccole Imprese', 'source': 'Programmi Integrati di Agevolazioni PIA Piccole Imprese (Art_ 27 Reg_ Regionale 17_2014 e s_m_i_).pdf', 'page': 5}\n",
            "24 {'Tipo_Imprese': 'Non classificato', 'source': 'Programmi Integrati di Agevolazioni PIA Piccole Imprese (Art_ 27 Reg_ Regionale 17_2014 e s_m_i_).pdf', 'page': 6}\n",
            "25 {'Tipo_Imprese': 'Non classificato', 'source': 'Programmi Integrati di Agevolazioni PIA Piccole Imprese (Art_ 27 Reg_ Regionale 17_2014 e s_m_i_).pdf', 'page': 7}\n"
          ]
        }
      ],
      "source": [
        "for i, doc in enumerate(enhanced_documents):\n",
        "    print(f\"{i} {doc.metadata}\")"
      ]
    },
    {
      "cell_type": "code",
      "execution_count": 16,
      "metadata": {
        "id": "Arw_d1qjYfTX"
      },
      "outputs": [],
      "source": [
        "import pickle\n",
        "\n",
        "with open('./Metadata_tagging_RAG/documenti_labellati_start.pkl', 'wb') as file:\n",
        "    pickle.dump(enhanced_documents, file)\n",
        "\n",
        "with open('./Metadata_tagging_RAG/documenti_labellati_start.pkl', 'rb') as file:\n",
        "    enhanced_documents = pickle.load(file)\n"
      ]
    },
    {
      "cell_type": "code",
      "execution_count": 17,
      "metadata": {
        "id": "TmVin25mSc6T"
      },
      "outputs": [],
      "source": [
        "label = None\n",
        "source = None\n",
        "\n",
        "for doc in enhanced_documents:\n",
        "  current_source = doc.metadata['source']\n",
        "  current_label = doc.metadata['Tipo_Imprese']\n",
        "\n",
        "  if current_label == 'Non classificato' and current_source == source:\n",
        "    doc.metadata['Tipo_Imprese'] = label\n",
        "\n",
        "  label = current_label\n",
        "  source = current_source\n"
      ]
    },
    {
      "cell_type": "markdown",
      "metadata": {
        "id": "e3qzcGWpVtok"
      },
      "source": [
        "Ho fatto un post-processing assegnando la label precedente al documento Non classificato successivo"
      ]
    },
    {
      "cell_type": "code",
      "execution_count": 18,
      "metadata": {
        "colab": {
          "base_uri": "https://localhost:8080/"
        },
        "id": "UlWPrydgVpnl",
        "outputId": "2dd69b77-e9c3-4605-b944-1faeeda44403"
      },
      "outputs": [
        {
          "output_type": "stream",
          "name": "stdout",
          "text": [
            "0 {'Tipo_Imprese': 'Piccole e Medie Imprese', 'source': 'Aiuti agli Investimenti delle Piccole e Medie Imprese (Titolo II Capo 3 Reg_ Regionale 17_2014)_br ___br __.pdf', 'page': 0}\n",
            "1 {'Tipo_Imprese': 'Piccole e Medie Imprese', 'source': 'Aiuti agli Investimenti delle Piccole e Medie Imprese (Titolo II Capo 3 Reg_ Regionale 17_2014)_br ___br __.pdf', 'page': 1}\n",
            "2 {'Tipo_Imprese': 'Non classificato', 'source': 'Aiuti agli Investimenti delle Piccole e Medie Imprese (Titolo II Capo 3 Reg_ Regionale 17_2014)_br ___br __.pdf', 'page': 2}\n",
            "3 {'Tipo_Imprese': 'Non classificato', 'source': 'Aiuti agli Investimenti delle Piccole e Medie Imprese (Titolo II Capo 3 Reg_ Regionale 17_2014)_br ___br __.pdf', 'page': 3}\n",
            "4 {'Tipo_Imprese': 'Non classificato', 'source': 'Aiuti agli Investimenti delle Piccole e Medie Imprese (Titolo II Capo 3 Reg_ Regionale 17_2014)_br ___br __.pdf', 'page': 4}\n",
            "5 {'Tipo_Imprese': 'Non classificato', 'source': 'Aiuti agli Investimenti delle Piccole e Medie Imprese (Titolo II Capo 3 Reg_ Regionale 17_2014)_br ___br __.pdf', 'page': 5}\n",
            "6 {'Tipo_Imprese': 'Non classificato', 'source': 'Aiuti agli Investimenti delle Piccole e Medie Imprese (Titolo II Capo 3 Reg_ Regionale 17_2014)_br ___br __.pdf', 'page': 6}\n",
            "7 {'Tipo_Imprese': 'Piccole Imprese', 'source': 'Aiuti agli Investimenti delle Piccole e Medie Imprese (Titolo II Capo 3 Reg_ Regionale 17_2014)_br ___br __.pdf', 'page': 7}\n",
            "8 {'Tipo_Imprese': 'Piccole Imprese', 'source': 'Aiuti agli Investimenti delle Piccole e Medie Imprese (Titolo II Capo 3 Reg_ Regionale 17_2014)_br ___br __.pdf', 'page': 8}\n",
            "9 {'Tipo_Imprese': 'Non classificato', 'source': 'Aiuti agli Investimenti delle Piccole e Medie Imprese (Titolo II Capo 3 Reg_ Regionale 17_2014)_br ___br __.pdf', 'page': 9}\n",
            "10 {'Tipo_Imprese': 'Grandi Imprese', 'source': 'Contratti di Programma per Grandi Imprese Singole o con PMI aderenti (Art_ 17 Reg_ Regionale 17_2014 e s_m_i_).pdf', 'page': 0}\n",
            "11 {'Tipo_Imprese': 'Grandi Imprese', 'source': 'Contratti di Programma per Grandi Imprese Singole o con PMI aderenti (Art_ 17 Reg_ Regionale 17_2014 e s_m_i_).pdf', 'page': 1}\n",
            "12 {'Tipo_Imprese': 'Non classificato', 'source': 'Contratti di Programma per Grandi Imprese Singole o con PMI aderenti (Art_ 17 Reg_ Regionale 17_2014 e s_m_i_).pdf', 'page': 2}\n",
            "13 {'Tipo_Imprese': 'Non classificato', 'source': 'Contratti di Programma per Grandi Imprese Singole o con PMI aderenti (Art_ 17 Reg_ Regionale 17_2014 e s_m_i_).pdf', 'page': 3}\n",
            "14 {'Tipo_Imprese': 'Non classificato', 'source': 'Contratti di Programma per Grandi Imprese Singole o con PMI aderenti (Art_ 17 Reg_ Regionale 17_2014 e s_m_i_).pdf', 'page': 4}\n",
            "15 {'Tipo_Imprese': 'Non classificato', 'source': 'Contratti di Programma per Grandi Imprese Singole o con PMI aderenti (Art_ 17 Reg_ Regionale 17_2014 e s_m_i_).pdf', 'page': 5}\n",
            "16 {'Tipo_Imprese': 'Non classificato', 'source': 'Contratti di Programma per Grandi Imprese Singole o con PMI aderenti (Art_ 17 Reg_ Regionale 17_2014 e s_m_i_).pdf', 'page': 6}\n",
            "17 {'Tipo_Imprese': 'Non classificato', 'source': 'Contratti di Programma per Grandi Imprese Singole o con PMI aderenti (Art_ 17 Reg_ Regionale 17_2014 e s_m_i_).pdf', 'page': 7}\n",
            "18 {'Tipo_Imprese': 'Piccole Imprese', 'source': 'Programmi Integrati di Agevolazioni PIA Piccole Imprese (Art_ 27 Reg_ Regionale 17_2014 e s_m_i_).pdf', 'page': 0}\n",
            "19 {'Tipo_Imprese': 'Piccole Imprese', 'source': 'Programmi Integrati di Agevolazioni PIA Piccole Imprese (Art_ 27 Reg_ Regionale 17_2014 e s_m_i_).pdf', 'page': 1}\n",
            "20 {'Tipo_Imprese': 'Non classificato', 'source': 'Programmi Integrati di Agevolazioni PIA Piccole Imprese (Art_ 27 Reg_ Regionale 17_2014 e s_m_i_).pdf', 'page': 2}\n",
            "21 {'Tipo_Imprese': 'Piccole Imprese', 'source': 'Programmi Integrati di Agevolazioni PIA Piccole Imprese (Art_ 27 Reg_ Regionale 17_2014 e s_m_i_).pdf', 'page': 3}\n",
            "22 {'Tipo_Imprese': 'Piccole Imprese', 'source': 'Programmi Integrati di Agevolazioni PIA Piccole Imprese (Art_ 27 Reg_ Regionale 17_2014 e s_m_i_).pdf', 'page': 4}\n",
            "23 {'Tipo_Imprese': 'Piccole Imprese', 'source': 'Programmi Integrati di Agevolazioni PIA Piccole Imprese (Art_ 27 Reg_ Regionale 17_2014 e s_m_i_).pdf', 'page': 5}\n",
            "24 {'Tipo_Imprese': 'Piccole Imprese', 'source': 'Programmi Integrati di Agevolazioni PIA Piccole Imprese (Art_ 27 Reg_ Regionale 17_2014 e s_m_i_).pdf', 'page': 6}\n",
            "25 {'Tipo_Imprese': 'Non classificato', 'source': 'Programmi Integrati di Agevolazioni PIA Piccole Imprese (Art_ 27 Reg_ Regionale 17_2014 e s_m_i_).pdf', 'page': 7}\n"
          ]
        }
      ],
      "source": [
        "for i, doc in enumerate(enhanced_documents):\n",
        "    print(f\"{i} {doc.metadata}\")"
      ]
    },
    {
      "cell_type": "markdown",
      "metadata": {
        "id": "4LkS62gMnQHn"
      },
      "source": [
        "#Chunking the Text\n",
        "gpt-3.5-turbo supporta un insieme di 4096 tokens — ciò significa che i token di input + i token di output generati (/completion) non possono totalizzare più di 4096 senza andare in errore.\n",
        "\n",
        "Quindi dobbiamo mantenerci al di sotto di questo valore al 100%. Se assumiamo un margine  di ~ 2000 token per il prompt di input in gpt-3.5-turbo, lasciando ~ 2000 token per la conversation history e il completamento della conversazione.\n",
        "\n",
        "Con questo limite di ~2000 token potremmo voler includere cinque chunk di informazioni rilevanti, il che significa che ogni chunk non può essere lungo più di 450 token.\n",
        "\n",
        "Per creare questi chunk utilizziamo RecursiveCharacterTextSplitter di LangChain. Per misurare la lunghezza degli snippet abbiamo bisogno anche di una funzione di lunghezza. Questa è una funzione che conta il numero di token all'interno del testo (dopo la tokenizzazione utilizzando il tokenizer gpt-3.5-turbo) e restituisce quel numero.\n",
        "\n",
        "La funzione salverà anche i metadata"
      ]
    },
    {
      "cell_type": "code",
      "execution_count": null,
      "metadata": {
        "id": "mgx9_rSqwhN0"
      },
      "outputs": [],
      "source": [
        "from langchain.text_splitter import RecursiveCharacterTextSplitter\n",
        "from langchain.schema import Document\n",
        "\n",
        "text_splitter = RecursiveCharacterTextSplitter(\n",
        "    chunk_size=450,\n",
        "    chunk_overlap=20,  # number of tokens overlap between chunks\n",
        "    length_function=tiktoken_len,\n",
        "    separators=['\\n\\n', '\\n', ' ', '']\n",
        ")\n",
        "\n",
        "\n",
        "split_docs = []\n",
        "\n",
        "for document in enhanced_documents:\n",
        "  metadata = document.metadata\n",
        "  page_content = document.page_content\n",
        "\n",
        "\n",
        "  split_content = text_splitter.create_documents([page_content])\n",
        "\n",
        "\n",
        "  for content_chunk in split_content:\n",
        "    print(content_chunk)\n",
        "    split_docs.append(Document(metadata = metadata, page_content = content_chunk.page_content))\n",
        "\n"
      ]
    },
    {
      "cell_type": "code",
      "execution_count": 20,
      "metadata": {
        "colab": {
          "base_uri": "https://localhost:8080/"
        },
        "id": "FKhPyVd-GI_-",
        "outputId": "668fcdf8-fe1e-4080-a135-6a25e3ff4fc1"
      },
      "outputs": [
        {
          "output_type": "stream",
          "name": "stdout",
          "text": [
            "0 {'Tipo_Imprese': 'Piccole e Medie Imprese', 'source': 'Aiuti agli Investimenti delle Piccole e Medie Imprese (Titolo II Capo 3 Reg_ Regionale 17_2014)_br ___br __.pdf', 'page': 0}\n",
            "1 {'Tipo_Imprese': 'Piccole e Medie Imprese', 'source': 'Aiuti agli Investimenti delle Piccole e Medie Imprese (Titolo II Capo 3 Reg_ Regionale 17_2014)_br ___br __.pdf', 'page': 0}\n",
            "2 {'Tipo_Imprese': 'Piccole e Medie Imprese', 'source': 'Aiuti agli Investimenti delle Piccole e Medie Imprese (Titolo II Capo 3 Reg_ Regionale 17_2014)_br ___br __.pdf', 'page': 1}\n",
            "3 {'Tipo_Imprese': 'Piccole e Medie Imprese', 'source': 'Aiuti agli Investimenti delle Piccole e Medie Imprese (Titolo II Capo 3 Reg_ Regionale 17_2014)_br ___br __.pdf', 'page': 1}\n",
            "4 {'Tipo_Imprese': 'Non classificato', 'source': 'Aiuti agli Investimenti delle Piccole e Medie Imprese (Titolo II Capo 3 Reg_ Regionale 17_2014)_br ___br __.pdf', 'page': 2}\n",
            "5 {'Tipo_Imprese': 'Non classificato', 'source': 'Aiuti agli Investimenti delle Piccole e Medie Imprese (Titolo II Capo 3 Reg_ Regionale 17_2014)_br ___br __.pdf', 'page': 2}\n",
            "6 {'Tipo_Imprese': 'Non classificato', 'source': 'Aiuti agli Investimenti delle Piccole e Medie Imprese (Titolo II Capo 3 Reg_ Regionale 17_2014)_br ___br __.pdf', 'page': 2}\n",
            "7 {'Tipo_Imprese': 'Non classificato', 'source': 'Aiuti agli Investimenti delle Piccole e Medie Imprese (Titolo II Capo 3 Reg_ Regionale 17_2014)_br ___br __.pdf', 'page': 3}\n",
            "8 {'Tipo_Imprese': 'Non classificato', 'source': 'Aiuti agli Investimenti delle Piccole e Medie Imprese (Titolo II Capo 3 Reg_ Regionale 17_2014)_br ___br __.pdf', 'page': 3}\n",
            "9 {'Tipo_Imprese': 'Non classificato', 'source': 'Aiuti agli Investimenti delle Piccole e Medie Imprese (Titolo II Capo 3 Reg_ Regionale 17_2014)_br ___br __.pdf', 'page': 3}\n",
            "10 {'Tipo_Imprese': 'Non classificato', 'source': 'Aiuti agli Investimenti delle Piccole e Medie Imprese (Titolo II Capo 3 Reg_ Regionale 17_2014)_br ___br __.pdf', 'page': 4}\n",
            "11 {'Tipo_Imprese': 'Non classificato', 'source': 'Aiuti agli Investimenti delle Piccole e Medie Imprese (Titolo II Capo 3 Reg_ Regionale 17_2014)_br ___br __.pdf', 'page': 4}\n",
            "12 {'Tipo_Imprese': 'Non classificato', 'source': 'Aiuti agli Investimenti delle Piccole e Medie Imprese (Titolo II Capo 3 Reg_ Regionale 17_2014)_br ___br __.pdf', 'page': 4}\n",
            "13 {'Tipo_Imprese': 'Non classificato', 'source': 'Aiuti agli Investimenti delle Piccole e Medie Imprese (Titolo II Capo 3 Reg_ Regionale 17_2014)_br ___br __.pdf', 'page': 5}\n",
            "14 {'Tipo_Imprese': 'Non classificato', 'source': 'Aiuti agli Investimenti delle Piccole e Medie Imprese (Titolo II Capo 3 Reg_ Regionale 17_2014)_br ___br __.pdf', 'page': 5}\n",
            "15 {'Tipo_Imprese': 'Non classificato', 'source': 'Aiuti agli Investimenti delle Piccole e Medie Imprese (Titolo II Capo 3 Reg_ Regionale 17_2014)_br ___br __.pdf', 'page': 5}\n",
            "16 {'Tipo_Imprese': 'Non classificato', 'source': 'Aiuti agli Investimenti delle Piccole e Medie Imprese (Titolo II Capo 3 Reg_ Regionale 17_2014)_br ___br __.pdf', 'page': 6}\n",
            "17 {'Tipo_Imprese': 'Non classificato', 'source': 'Aiuti agli Investimenti delle Piccole e Medie Imprese (Titolo II Capo 3 Reg_ Regionale 17_2014)_br ___br __.pdf', 'page': 6}\n",
            "18 {'Tipo_Imprese': 'Non classificato', 'source': 'Aiuti agli Investimenti delle Piccole e Medie Imprese (Titolo II Capo 3 Reg_ Regionale 17_2014)_br ___br __.pdf', 'page': 6}\n",
            "19 {'Tipo_Imprese': 'Piccole Imprese', 'source': 'Aiuti agli Investimenti delle Piccole e Medie Imprese (Titolo II Capo 3 Reg_ Regionale 17_2014)_br ___br __.pdf', 'page': 7}\n",
            "20 {'Tipo_Imprese': 'Piccole Imprese', 'source': 'Aiuti agli Investimenti delle Piccole e Medie Imprese (Titolo II Capo 3 Reg_ Regionale 17_2014)_br ___br __.pdf', 'page': 7}\n",
            "21 {'Tipo_Imprese': 'Piccole Imprese', 'source': 'Aiuti agli Investimenti delle Piccole e Medie Imprese (Titolo II Capo 3 Reg_ Regionale 17_2014)_br ___br __.pdf', 'page': 8}\n",
            "22 {'Tipo_Imprese': 'Piccole Imprese', 'source': 'Aiuti agli Investimenti delle Piccole e Medie Imprese (Titolo II Capo 3 Reg_ Regionale 17_2014)_br ___br __.pdf', 'page': 8}\n",
            "23 {'Tipo_Imprese': 'Piccole Imprese', 'source': 'Aiuti agli Investimenti delle Piccole e Medie Imprese (Titolo II Capo 3 Reg_ Regionale 17_2014)_br ___br __.pdf', 'page': 8}\n",
            "24 {'Tipo_Imprese': 'Non classificato', 'source': 'Aiuti agli Investimenti delle Piccole e Medie Imprese (Titolo II Capo 3 Reg_ Regionale 17_2014)_br ___br __.pdf', 'page': 9}\n",
            "25 {'Tipo_Imprese': 'Non classificato', 'source': 'Aiuti agli Investimenti delle Piccole e Medie Imprese (Titolo II Capo 3 Reg_ Regionale 17_2014)_br ___br __.pdf', 'page': 9}\n",
            "26 {'Tipo_Imprese': 'Non classificato', 'source': 'Aiuti agli Investimenti delle Piccole e Medie Imprese (Titolo II Capo 3 Reg_ Regionale 17_2014)_br ___br __.pdf', 'page': 9}\n",
            "27 {'Tipo_Imprese': 'Grandi Imprese', 'source': 'Contratti di Programma per Grandi Imprese Singole o con PMI aderenti (Art_ 17 Reg_ Regionale 17_2014 e s_m_i_).pdf', 'page': 0}\n",
            "28 {'Tipo_Imprese': 'Grandi Imprese', 'source': 'Contratti di Programma per Grandi Imprese Singole o con PMI aderenti (Art_ 17 Reg_ Regionale 17_2014 e s_m_i_).pdf', 'page': 0}\n",
            "29 {'Tipo_Imprese': 'Grandi Imprese', 'source': 'Contratti di Programma per Grandi Imprese Singole o con PMI aderenti (Art_ 17 Reg_ Regionale 17_2014 e s_m_i_).pdf', 'page': 1}\n",
            "30 {'Tipo_Imprese': 'Grandi Imprese', 'source': 'Contratti di Programma per Grandi Imprese Singole o con PMI aderenti (Art_ 17 Reg_ Regionale 17_2014 e s_m_i_).pdf', 'page': 1}\n",
            "31 {'Tipo_Imprese': 'Grandi Imprese', 'source': 'Contratti di Programma per Grandi Imprese Singole o con PMI aderenti (Art_ 17 Reg_ Regionale 17_2014 e s_m_i_).pdf', 'page': 1}\n",
            "32 {'Tipo_Imprese': 'Non classificato', 'source': 'Contratti di Programma per Grandi Imprese Singole o con PMI aderenti (Art_ 17 Reg_ Regionale 17_2014 e s_m_i_).pdf', 'page': 2}\n",
            "33 {'Tipo_Imprese': 'Non classificato', 'source': 'Contratti di Programma per Grandi Imprese Singole o con PMI aderenti (Art_ 17 Reg_ Regionale 17_2014 e s_m_i_).pdf', 'page': 2}\n",
            "34 {'Tipo_Imprese': 'Non classificato', 'source': 'Contratti di Programma per Grandi Imprese Singole o con PMI aderenti (Art_ 17 Reg_ Regionale 17_2014 e s_m_i_).pdf', 'page': 2}\n",
            "35 {'Tipo_Imprese': 'Non classificato', 'source': 'Contratti di Programma per Grandi Imprese Singole o con PMI aderenti (Art_ 17 Reg_ Regionale 17_2014 e s_m_i_).pdf', 'page': 3}\n",
            "36 {'Tipo_Imprese': 'Non classificato', 'source': 'Contratti di Programma per Grandi Imprese Singole o con PMI aderenti (Art_ 17 Reg_ Regionale 17_2014 e s_m_i_).pdf', 'page': 3}\n",
            "37 {'Tipo_Imprese': 'Non classificato', 'source': 'Contratti di Programma per Grandi Imprese Singole o con PMI aderenti (Art_ 17 Reg_ Regionale 17_2014 e s_m_i_).pdf', 'page': 3}\n",
            "38 {'Tipo_Imprese': 'Non classificato', 'source': 'Contratti di Programma per Grandi Imprese Singole o con PMI aderenti (Art_ 17 Reg_ Regionale 17_2014 e s_m_i_).pdf', 'page': 4}\n",
            "39 {'Tipo_Imprese': 'Non classificato', 'source': 'Contratti di Programma per Grandi Imprese Singole o con PMI aderenti (Art_ 17 Reg_ Regionale 17_2014 e s_m_i_).pdf', 'page': 4}\n",
            "40 {'Tipo_Imprese': 'Non classificato', 'source': 'Contratti di Programma per Grandi Imprese Singole o con PMI aderenti (Art_ 17 Reg_ Regionale 17_2014 e s_m_i_).pdf', 'page': 4}\n",
            "41 {'Tipo_Imprese': 'Non classificato', 'source': 'Contratti di Programma per Grandi Imprese Singole o con PMI aderenti (Art_ 17 Reg_ Regionale 17_2014 e s_m_i_).pdf', 'page': 5}\n",
            "42 {'Tipo_Imprese': 'Non classificato', 'source': 'Contratti di Programma per Grandi Imprese Singole o con PMI aderenti (Art_ 17 Reg_ Regionale 17_2014 e s_m_i_).pdf', 'page': 5}\n",
            "43 {'Tipo_Imprese': 'Non classificato', 'source': 'Contratti di Programma per Grandi Imprese Singole o con PMI aderenti (Art_ 17 Reg_ Regionale 17_2014 e s_m_i_).pdf', 'page': 6}\n",
            "44 {'Tipo_Imprese': 'Non classificato', 'source': 'Contratti di Programma per Grandi Imprese Singole o con PMI aderenti (Art_ 17 Reg_ Regionale 17_2014 e s_m_i_).pdf', 'page': 6}\n",
            "45 {'Tipo_Imprese': 'Non classificato', 'source': 'Contratti di Programma per Grandi Imprese Singole o con PMI aderenti (Art_ 17 Reg_ Regionale 17_2014 e s_m_i_).pdf', 'page': 7}\n",
            "46 {'Tipo_Imprese': 'Non classificato', 'source': 'Contratti di Programma per Grandi Imprese Singole o con PMI aderenti (Art_ 17 Reg_ Regionale 17_2014 e s_m_i_).pdf', 'page': 7}\n",
            "47 {'Tipo_Imprese': 'Non classificato', 'source': 'Contratti di Programma per Grandi Imprese Singole o con PMI aderenti (Art_ 17 Reg_ Regionale 17_2014 e s_m_i_).pdf', 'page': 7}\n",
            "48 {'Tipo_Imprese': 'Piccole Imprese', 'source': 'Programmi Integrati di Agevolazioni PIA Piccole Imprese (Art_ 27 Reg_ Regionale 17_2014 e s_m_i_).pdf', 'page': 0}\n",
            "49 {'Tipo_Imprese': 'Piccole Imprese', 'source': 'Programmi Integrati di Agevolazioni PIA Piccole Imprese (Art_ 27 Reg_ Regionale 17_2014 e s_m_i_).pdf', 'page': 0}\n",
            "50 {'Tipo_Imprese': 'Piccole Imprese', 'source': 'Programmi Integrati di Agevolazioni PIA Piccole Imprese (Art_ 27 Reg_ Regionale 17_2014 e s_m_i_).pdf', 'page': 1}\n",
            "51 {'Tipo_Imprese': 'Piccole Imprese', 'source': 'Programmi Integrati di Agevolazioni PIA Piccole Imprese (Art_ 27 Reg_ Regionale 17_2014 e s_m_i_).pdf', 'page': 1}\n",
            "52 {'Tipo_Imprese': 'Piccole Imprese', 'source': 'Programmi Integrati di Agevolazioni PIA Piccole Imprese (Art_ 27 Reg_ Regionale 17_2014 e s_m_i_).pdf', 'page': 1}\n",
            "53 {'Tipo_Imprese': 'Non classificato', 'source': 'Programmi Integrati di Agevolazioni PIA Piccole Imprese (Art_ 27 Reg_ Regionale 17_2014 e s_m_i_).pdf', 'page': 2}\n",
            "54 {'Tipo_Imprese': 'Non classificato', 'source': 'Programmi Integrati di Agevolazioni PIA Piccole Imprese (Art_ 27 Reg_ Regionale 17_2014 e s_m_i_).pdf', 'page': 2}\n",
            "55 {'Tipo_Imprese': 'Non classificato', 'source': 'Programmi Integrati di Agevolazioni PIA Piccole Imprese (Art_ 27 Reg_ Regionale 17_2014 e s_m_i_).pdf', 'page': 2}\n",
            "56 {'Tipo_Imprese': 'Piccole Imprese', 'source': 'Programmi Integrati di Agevolazioni PIA Piccole Imprese (Art_ 27 Reg_ Regionale 17_2014 e s_m_i_).pdf', 'page': 3}\n",
            "57 {'Tipo_Imprese': 'Piccole Imprese', 'source': 'Programmi Integrati di Agevolazioni PIA Piccole Imprese (Art_ 27 Reg_ Regionale 17_2014 e s_m_i_).pdf', 'page': 3}\n",
            "58 {'Tipo_Imprese': 'Piccole Imprese', 'source': 'Programmi Integrati di Agevolazioni PIA Piccole Imprese (Art_ 27 Reg_ Regionale 17_2014 e s_m_i_).pdf', 'page': 3}\n",
            "59 {'Tipo_Imprese': 'Piccole Imprese', 'source': 'Programmi Integrati di Agevolazioni PIA Piccole Imprese (Art_ 27 Reg_ Regionale 17_2014 e s_m_i_).pdf', 'page': 4}\n",
            "60 {'Tipo_Imprese': 'Piccole Imprese', 'source': 'Programmi Integrati di Agevolazioni PIA Piccole Imprese (Art_ 27 Reg_ Regionale 17_2014 e s_m_i_).pdf', 'page': 4}\n",
            "61 {'Tipo_Imprese': 'Piccole Imprese', 'source': 'Programmi Integrati di Agevolazioni PIA Piccole Imprese (Art_ 27 Reg_ Regionale 17_2014 e s_m_i_).pdf', 'page': 5}\n",
            "62 {'Tipo_Imprese': 'Piccole Imprese', 'source': 'Programmi Integrati di Agevolazioni PIA Piccole Imprese (Art_ 27 Reg_ Regionale 17_2014 e s_m_i_).pdf', 'page': 5}\n",
            "63 {'Tipo_Imprese': 'Piccole Imprese', 'source': 'Programmi Integrati di Agevolazioni PIA Piccole Imprese (Art_ 27 Reg_ Regionale 17_2014 e s_m_i_).pdf', 'page': 6}\n",
            "64 {'Tipo_Imprese': 'Piccole Imprese', 'source': 'Programmi Integrati di Agevolazioni PIA Piccole Imprese (Art_ 27 Reg_ Regionale 17_2014 e s_m_i_).pdf', 'page': 6}\n",
            "65 {'Tipo_Imprese': 'Piccole Imprese', 'source': 'Programmi Integrati di Agevolazioni PIA Piccole Imprese (Art_ 27 Reg_ Regionale 17_2014 e s_m_i_).pdf', 'page': 6}\n",
            "66 {'Tipo_Imprese': 'Non classificato', 'source': 'Programmi Integrati di Agevolazioni PIA Piccole Imprese (Art_ 27 Reg_ Regionale 17_2014 e s_m_i_).pdf', 'page': 7}\n"
          ]
        }
      ],
      "source": [
        "for i, doc in enumerate(split_docs):\n",
        "    print(f\"{i} {doc.metadata}\")"
      ]
    },
    {
      "cell_type": "code",
      "execution_count": null,
      "metadata": {
        "id": "X3qe4LORwsK9"
      },
      "outputs": [],
      "source": [
        "import pandas as pd\n",
        "\n",
        "df= pd.DataFrame(split_docs)\n",
        "\n",
        "df.to_csv(\"df_with metadata_tag\", index=False)\n",
        "df"
      ]
    },
    {
      "cell_type": "code",
      "execution_count": null,
      "metadata": {
        "id": "sGUGTRRQxXqA"
      },
      "outputs": [],
      "source": [
        "import pandas as pd\n",
        "\n",
        "# Assuming df is your DataFrame\n",
        "pd.set_option('display.max_colwidth', None)\n",
        "\n",
        "# Display the DataFrame\n",
        "df.head(30)\n"
      ]
    },
    {
      "cell_type": "code",
      "execution_count": 28,
      "metadata": {
        "colab": {
          "base_uri": "https://localhost:8080/"
        },
        "id": "QfRmQjKrwjUE",
        "outputId": "c28f69ec-99d8-41ea-b3f0-b24c717507d4"
      },
      "outputs": [
        {
          "output_type": "execute_result",
          "data": {
            "text/plain": [
              "Document(page_content='istruttori.  \\nInfine, con esclusivo riferimento ai progetti ricadenti nell’ambito della sottocategoria “38.22.00 \\nTrattamento e smaltimento di rifiuti pericolosi, limitatamente ai rifiuti di amianto” saranno \\nvalutate favorevolmente le iniziative che prevedano esclusivamente il t rattamento e smaltimento \\ndel rifiuto di amianto raccolto nell’ambito della Regione Puglia. Le tariffe applicate dovranno \\nessere esposte nel business plan e dovranno tenere conto dei benefici rivenienti dall’agevolazione \\nrichiesta sul piano economico finanz iario dell’impresa.  \\nI Codici Ateco ammissibili sono riportati sul sito www.sistema.puglia.it  nella sezione PIA Medie \\nImprese.', metadata={'Tipo_Imprese': 'Non classificato', 'source': 'Contratti di Programma per Grandi Imprese Singole o con PMI aderenti (Art_ 17 Reg_ Regionale 17_2014 e s_m_i_).pdf', 'page': 2})"
            ]
          },
          "metadata": {},
          "execution_count": 28
        }
      ],
      "source": [
        "split_docs[34]"
      ]
    },
    {
      "cell_type": "markdown",
      "metadata": {
        "id": "8FL06DlU-A0q"
      },
      "source": [
        "Qui provo a cambiare a mano una label decisa da me"
      ]
    },
    {
      "cell_type": "code",
      "execution_count": 31,
      "metadata": {
        "colab": {
          "base_uri": "https://localhost:8080/"
        },
        "id": "O69cKzEO13gJ",
        "outputId": "6b5722af-7aba-427e-aec1-a8d2bfc50aae"
      },
      "outputs": [
        {
          "output_type": "execute_result",
          "data": {
            "text/plain": [
              "{'Tipo_Imprese': 'Medie Imprese',\n",
              " 'source': 'Contratti di Programma per Grandi Imprese Singole o con PMI aderenti (Art_ 17 Reg_ Regionale 17_2014 e s_m_i_).pdf',\n",
              " 'page': 2}"
            ]
          },
          "metadata": {},
          "execution_count": 31
        }
      ],
      "source": [
        "for doc in split_docs:\n",
        "  if doc.metadata['source'] == \"Contratti di Programma per Grandi Imprese Singole o con PMI aderenti (Art_ 17 Reg_ Regionale 17_2014 e s_m_i_).pdf\" and doc.metadata['page'] == 2:\n",
        "    doc.metadata['Tipo_Imprese'] = 'Medie Imprese'\n",
        "split_docs[34].metadata"
      ]
    },
    {
      "cell_type": "markdown",
      "metadata": {
        "id": "axJqvzDPtZhS"
      },
      "source": [
        "Voglio salvarmi il dataset con oggetti di tipo document:"
      ]
    },
    {
      "cell_type": "code",
      "execution_count": 32,
      "metadata": {
        "id": "M1YaUPyn1BEv"
      },
      "outputs": [],
      "source": [
        "import pickle\n",
        "\n",
        "with open('./Metadata_tagging_RAG/chunk_labellati.pkl', 'wb') as file:\n",
        "    pickle.dump(split_docs, file)\n",
        "\n",
        "with open('./Metadata_tagging_RAG/chunk_labellati.pkl', 'rb') as file:\n",
        "    loaded_docs = pickle.load(file)\n"
      ]
    },
    {
      "cell_type": "code",
      "execution_count": 33,
      "metadata": {
        "colab": {
          "base_uri": "https://localhost:8080/"
        },
        "id": "gpQeZyExCuC3",
        "outputId": "69f85105-5b83-4de2-9a46-4395941407c4"
      },
      "outputs": [
        {
          "output_type": "stream",
          "name": "stdout",
          "text": [
            "Numero di chunks 67\n"
          ]
        }
      ],
      "source": [
        "print(f'Numero di chunks {len(split_docs)}')"
      ]
    },
    {
      "cell_type": "markdown",
      "metadata": {
        "id": "IjCVltiu-ssO"
      },
      "source": [
        "#Creazione del Vector Store"
      ]
    },
    {
      "cell_type": "code",
      "execution_count": 34,
      "metadata": {
        "id": "TBneD_5lC25t"
      },
      "outputs": [],
      "source": [
        "from langchain.embeddings.openai import OpenAIEmbeddings\n",
        "embedding = OpenAIEmbeddings()"
      ]
    },
    {
      "cell_type": "code",
      "execution_count": null,
      "metadata": {
        "id": "E10Z4y-ANMms"
      },
      "outputs": [],
      "source": [
        "from langchain.vectorstores import Chroma\n",
        "persist_directory = './Tesi/Documenti/docs/chroma/'"
      ]
    },
    {
      "cell_type": "markdown",
      "metadata": {
        "id": "f-LqGBrv-oH-"
      },
      "source": [
        "Creo un vector store con Chroma"
      ]
    },
    {
      "cell_type": "code",
      "execution_count": null,
      "metadata": {
        "id": "u_j9rj2BOE_f"
      },
      "outputs": [],
      "source": [
        "vectordb = Chroma.from_documents(\n",
        "    documents=split_docs,\n",
        "    embedding=embedding,\n",
        "    persist_directory=persist_directory\n",
        ")"
      ]
    },
    {
      "cell_type": "code",
      "execution_count": null,
      "metadata": {
        "id": "7hLVXep-s3cY"
      },
      "outputs": [],
      "source": [
        "vectordb = Chroma(persist_directory = persist_directory, embedding_function= embedding)"
      ]
    },
    {
      "cell_type": "code",
      "execution_count": null,
      "metadata": {
        "colab": {
          "base_uri": "https://localhost:8080/"
        },
        "id": "g46scIryOMuA",
        "outputId": "990c8db4-949f-41b4-8c3c-55fde21d17da"
      },
      "outputs": [
        {
          "name": "stdout",
          "output_type": "stream",
          "text": [
            "127\n"
          ]
        }
      ],
      "source": [
        "print(vectordb._collection.count())"
      ]
    },
    {
      "cell_type": "code",
      "execution_count": null,
      "metadata": {
        "id": "AE_MidE9NmMs"
      },
      "outputs": [],
      "source": [
        "# !rm -rf ./Tesi/Documenti/docs/chroma/ # remove old database files if any"
      ]
    },
    {
      "cell_type": "code",
      "execution_count": 35,
      "metadata": {
        "id": "uHibXEmhC0vl"
      },
      "outputs": [],
      "source": [
        "def insert_or_fetch_embeddings(index_name, chunks):\n",
        "    import pinecone\n",
        "    from langchain.vectorstores import Pinecone\n",
        "    from langchain.embeddings.openai import OpenAIEmbeddings\n",
        "\n",
        "    embeddings = OpenAIEmbeddings()\n",
        "\n",
        "    pinecone.init(api_key=os.environ.get('PINECONE_API_KEY'), environment=os.environ.get('PINECONE_ENV'))\n",
        "\n",
        "    if index_name in pinecone.list_indexes():\n",
        "        print(f'Index {index_name} esiste. Loading embeddings ... ', end='')\n",
        "        vector_store = Pinecone.from_existing_index(index_name, embeddings)\n",
        "        print('Ok')\n",
        "    else:\n",
        "        print(f'Creazione di index {index_name} e embeddings ...', end='')\n",
        "        pinecone.create_index(index_name, dimension=1536, metric='cosine')\n",
        "        vector_store = Pinecone.from_documents(chunks, embeddings, index_name=index_name)\n",
        "        print('Ok')\n",
        "\n",
        "    return vector_store"
      ]
    },
    {
      "cell_type": "code",
      "execution_count": 36,
      "metadata": {
        "colab": {
          "base_uri": "https://localhost:8080/"
        },
        "id": "cwXPPNQeC52Y",
        "outputId": "9689a79a-5227-422f-f61d-594a75b8fd47"
      },
      "outputs": [
        {
          "output_type": "stream",
          "name": "stdout",
          "text": [
            "1536\n"
          ]
        }
      ],
      "source": [
        "vector = embedding.embed_query(split_docs[0].page_content)\n",
        "print(len(vector))"
      ]
    },
    {
      "cell_type": "code",
      "execution_count": 37,
      "metadata": {
        "colab": {
          "base_uri": "https://localhost:8080/"
        },
        "id": "FLCAGneFC6_X",
        "outputId": "50bb8300-e69b-48df-d9a9-2aa05c6d4a17"
      },
      "outputs": [
        {
          "output_type": "stream",
          "name": "stdout",
          "text": [
            "Numero totale di Token: 22416\n",
            "Costo degli Embedding $: 0.002242\n"
          ]
        }
      ],
      "source": [
        "def print_embedding_cost(texts):\n",
        "    import tiktoken\n",
        "    enc = tiktoken.encoding_for_model('text-embedding-ada-002')\n",
        "    total_tokens = sum([len(enc.encode(page.page_content)) for page in texts])\n",
        "    print(f'Numero totale di Token: {total_tokens}')\n",
        "    print(f'Costo degli Embedding $: {total_tokens / 1000 * 0.0001:.6f}')\n",
        "\n",
        "print_embedding_cost(split_docs)"
      ]
    },
    {
      "cell_type": "code",
      "execution_count": 38,
      "metadata": {
        "colab": {
          "base_uri": "https://localhost:8080/"
        },
        "id": "CA1Ptid3C9JC",
        "outputId": "f16a39cc-a124-498c-d42a-ac68f5dc8a68"
      },
      "outputs": [
        {
          "output_type": "stream",
          "name": "stderr",
          "text": [
            "/usr/local/lib/python3.10/dist-packages/pinecone/index.py:4: TqdmExperimentalWarning: Using `tqdm.autonotebook.tqdm` in notebook mode. Use `tqdm.tqdm` instead to force console mode (e.g. in jupyter console)\n",
            "  from tqdm.autonotebook import tqdm\n"
          ]
        }
      ],
      "source": [
        "import pinecone\n",
        "\n",
        "pinecone.init(\n",
        "    api_key=os.environ.get('PINECONE_API_KEY'),\n",
        "    environment=os.environ.get('PINECONE_ENV')\n",
        ")"
      ]
    },
    {
      "cell_type": "code",
      "execution_count": 39,
      "metadata": {
        "colab": {
          "base_uri": "https://localhost:8080/"
        },
        "id": "n4FVd0GSC_Oy",
        "outputId": "5ea02ec0-a71b-47a8-e57a-44f193b62037"
      },
      "outputs": [
        {
          "output_type": "execute_result",
          "data": {
            "text/plain": [
              "['embedding-bandi']"
            ]
          },
          "metadata": {},
          "execution_count": 39
        }
      ],
      "source": [
        "pinecone.list_indexes()"
      ]
    },
    {
      "cell_type": "code",
      "execution_count": 40,
      "metadata": {
        "colab": {
          "base_uri": "https://localhost:8080/"
        },
        "id": "hoRbwGtvDBt3",
        "outputId": "71044954-f719-40a6-b534-12507cb3d3ba"
      },
      "outputs": [
        {
          "output_type": "stream",
          "name": "stdout",
          "text": [
            "ok\n"
          ]
        }
      ],
      "source": [
        "indexes = pinecone.list_indexes()\n",
        "for i in indexes:\n",
        "  pinecone.delete_index(i)\n",
        "  print('ok')"
      ]
    },
    {
      "cell_type": "code",
      "execution_count": null,
      "metadata": {
        "id": "o377q8BtqIAz"
      },
      "outputs": [],
      "source": [
        "#runnare solo se non si cancella l'index\n",
        "# split_docs = []"
      ]
    },
    {
      "cell_type": "markdown",
      "metadata": {
        "id": "7ghLDbqE-zl7"
      },
      "source": [
        "Mentre qui creo un vectorstore di Pinecone"
      ]
    },
    {
      "cell_type": "code",
      "execution_count": 41,
      "metadata": {
        "colab": {
          "base_uri": "https://localhost:8080/"
        },
        "id": "0qWCAF-7DF9C",
        "outputId": "6a862783-9833-49d2-f599-8797c9b75614"
      },
      "outputs": [
        {
          "output_type": "stream",
          "name": "stdout",
          "text": [
            "Creazione di index embedding-bandi e embeddings ...Ok\n"
          ]
        }
      ],
      "source": [
        "index_name = 'embedding-bandi'\n",
        "vector_store = insert_or_fetch_embeddings(index_name, split_docs)"
      ]
    },
    {
      "cell_type": "markdown",
      "metadata": {
        "id": "dAjbSZu9-6TI"
      },
      "source": [
        "provo a fare una similarity search su Pinecone filtrando una label"
      ]
    },
    {
      "cell_type": "code",
      "execution_count": null,
      "metadata": {
        "colab": {
          "base_uri": "https://localhost:8080/"
        },
        "id": "BAVZA6HjDHJy",
        "outputId": "00bdd913-4a53-4e30-f312-3b452d6f0f7b"
      },
      "outputs": [
        {
          "name": "stdout",
          "output_type": "stream",
          "text": [
            "[]\n"
          ]
        }
      ],
      "source": [
        "query = \"Sono una piccola impresa quali agevolazioni mi spettano?\"\n",
        "\n",
        "results = vector_store.similarity_search(query, filter = {'label': 'Piccole Imprese'} )\n",
        "print(results)"
      ]
    },
    {
      "cell_type": "markdown",
      "metadata": {
        "id": "UY9b1TvoLUNU"
      },
      "source": [
        "Mastering Pinecone’s Advanced Filtering Techniques\n",
        "Pinecone’s filtering query language takes a leaf out of MongoDB’s book, employing a similar structure of query and projection operators. This allows us to create complex metadata filters using logical operators like AND and OR. Here are some operators you can use:\n",
        "\n",
        "\n",
        "```\n",
        "\n",
        "$eq - Equal to (number, string, boolean)\n",
        "$ne - Not equal to (number, string, boolean)\n",
        "$gt - Greater than (number)\n",
        "$gte - Greater than or equal to (number)\n",
        "$lt - Less than (number)\n",
        "$lte - Less than or equal to (number)\n",
        "$in - In array (string or number)\n",
        "$nin - Not in array (string or number)\n",
        "```\n",
        "\n"
      ]
    },
    {
      "cell_type": "markdown",
      "metadata": {
        "id": "uNQ8Wfn0_KMy"
      },
      "source": [
        "###Label retrieval dalla query"
      ]
    },
    {
      "cell_type": "code",
      "execution_count": 42,
      "metadata": {
        "id": "IvRKGCnuiP_e"
      },
      "outputs": [],
      "source": [
        "from langchain.prompts import ChatPromptTemplate\n",
        "\n",
        "prompt = ChatPromptTemplate.from_template(\n",
        "    \"\"\"Classifica la seguente query per ottenere una label dalla lista:\n",
        "{input}\n",
        "\"\"\"\n",
        ")\n"
      ]
    },
    {
      "cell_type": "code",
      "execution_count": 48,
      "metadata": {
        "colab": {
          "base_uri": "https://localhost:8080/"
        },
        "id": "u8xvHTPhBIpQ",
        "outputId": "0b9ba472-4787-4af6-a9c0-b8b888a189e0"
      },
      "outputs": [
        {
          "output_type": "stream",
          "name": "stdout",
          "text": [
            "42                                                                                                                                                             Quali sono i requisiti necessari per essere ammessi al PIA? in riferimento al documento: 'Programmi Integrati di Agevolazioni PIA Piccole Imprese (Art_ 27 Reg_ Regionale 17_2014 e s_m_i_).pdf'\n",
            "43    Quali sono le condizioni necessarie affinché un progetto ricadente nell'ambito della sottocategoria \"38.22.00 Trattamento e smaltimento di rifiuti pericolosi, limitatamente ai rifiuti di amianto\" sia ammissibile? in riferimento al documento: 'Programmi Integrati di Agevolazioni PIA Piccole Imprese (Art_ 27 Reg_ Regionale 17_2014 e s_m_i_).pdf'\n",
            "44                                                                                               Quali sono le intensità di aiuti concessibili per le micro e piccole imprese aderenti nell'ambito del progetto integrato? in riferimento al documento: 'Programmi Integrati di Agevolazioni PIA Piccole Imprese (Art_ 27 Reg_ Regionale 17_2014 e s_m_i_).pdf'\n",
            "45                                                                                                           Quali sono le agevolazioni previste per le piccole imprese che effettuano investimenti in ricerca e sviluppo? in riferimento al documento: 'Programmi Integrati di Agevolazioni PIA Piccole Imprese (Art_ 27 Reg_ Regionale 17_2014 e s_m_i_).pdf'\n",
            "46                                                                                                                                      Quali sono le modalità di erogazione delle agevolazioni previste dal Disciplinare? in riferimento al documento: 'Programmi Integrati di Agevolazioni PIA Piccole Imprese (Art_ 27 Reg_ Regionale 17_2014 e s_m_i_).pdf'\n",
            "47                                                                                                                                                        Quali sono i servizi disponibili sul sito www.sistema.puglia.it? in riferimento al documento: 'Programmi Integrati di Agevolazioni PIA Piccole Imprese (Art_ 27 Reg_ Regionale 17_2014 e s_m_i_).pdf'\n",
            "Name: prompt, dtype: object\n"
          ]
        }
      ],
      "source": [
        "filtro = fine_tuning_dataset[fine_tuning_dataset['prompt'].str.contains('Programmi Integrati di Agevolazioni PIA Piccole Imprese')]\n",
        "\n",
        "print(filtro.prompt)\n"
      ]
    },
    {
      "cell_type": "code",
      "execution_count": null,
      "metadata": {
        "colab": {
          "base_uri": "https://localhost:8080/",
          "height": 54
        },
        "id": "seOOL7IunBTu",
        "outputId": "fbf5f259-e1c0-4053-e1ea-83caa5d73846"
      },
      "outputs": [
        {
          "data": {
            "application/vnd.google.colaboratory.intrinsic+json": {
              "type": "string"
            },
            "text/plain": [
              "\"Qual è l'importo massimo del contributo aggiuntivo in conto impianti per le piccole imprese in possesso del rating di legalità? in riferimento al documento: 'Aiuti agli Investimenti delle Piccole e Medie Imprese (Titolo II Capo 3 Reg_ Regionale 17_2014)_br ___br __.pdf'\""
            ]
          },
          "execution_count": 75,
          "metadata": {},
          "output_type": "execute_result"
        }
      ],
      "source": [
        "fine_tuning_dataset.prompt[11]"
      ]
    },
    {
      "cell_type": "markdown",
      "metadata": {
        "id": "fnR6YHRC_RNG"
      },
      "source": [
        "Qui creo una funzione che data la query trovi,sempre usando la functions create_metadata_tagger, una label da filtrare nel vectorstore.\n",
        "Lo faccio mettendo nelle proprietà label : Literal[tutta la lista dei label], purtroppo faccio copia incolla dalla lista stampata sopra, devo trovare un modo per passargli un attributo dinamico"
      ]
    },
    {
      "cell_type": "code",
      "execution_count": 43,
      "metadata": {
        "id": "bQsEixmBfrXo"
      },
      "outputs": [],
      "source": [
        "from langchain.chat_models import ChatOpenAI\n",
        "from langchain.document_transformers.openai_functions import create_metadata_tagger\n",
        "from langchain.schema import Document\n",
        "from typing import List, Literal\n",
        "from pydantic import BaseModel\n",
        "\n",
        "class Properties(BaseModel):\n",
        "    Tipo_Imprese: Literal['Non classificato', 'Piccole Imprese','Piccole e Medie Imprese', 'Medie Imprese', 'Grandi Imprese']\n",
        "\n",
        "def get_label_from_query(query, llm_model=\"gpt-3.5-turbo-0613\"):\n",
        "    llm = ChatOpenAI(temperature=0, model=llm_model)\n",
        "\n",
        "    metadata_tagger = create_metadata_tagger(Properties, llm)\n",
        "\n",
        "    query_document = Document(page_content=query)\n",
        "    enhanced_query = metadata_tagger.transform_documents([query_document])\n",
        "\n",
        "    label = enhanced_query[0].metadata[\"Tipo_Imprese\"]\n",
        "\n",
        "    return label\n",
        "\n",
        "# query = \"voglio informazioni per le Medie imprese\"\n",
        "# result_label = get_label_from_query(query)\n",
        "# print(f\"Label: {result_label}\")\n"
      ]
    },
    {
      "cell_type": "markdown",
      "metadata": {
        "id": "7UDG1UN-_9uN"
      },
      "source": [
        "Creo una funzione che trovi la risposta usando il filtro dinamico che va passato al retriever"
      ]
    },
    {
      "cell_type": "code",
      "source": [
        "from langchain.chains import RetrievalQA\n",
        "from langchain.chat_models import ChatOpenAI\n",
        "from langchain.vectorstores import Pinecone\n",
        "\n",
        "def get_answer_with_dynamic_filter(query, vector_store, label_to_search, llm_model='gpt-3.5-turbo', temperature=0.7):\n",
        "    llm = ChatOpenAI(model=llm_model, temperature=temperature)\n",
        "\n",
        "    dynamic_label = label_to_search\n",
        "\n",
        "    search_kwargs = {\"k\": 3}\n",
        "\n",
        "    vectorStore = Pinecone.from_existing_index(index_name, embedding)\n",
        "\n",
        "    retriever = vectorStore.as_retriever(filter={'label': {'$eq': dynamic_label}}, search_kwargs=search_kwargs)\n",
        "\n",
        "    chain = RetrievalQA.from_chain_type(llm=llm, chain_type='stuff', retriever=retriever)\n",
        "\n",
        "    answer = chain.run(query)\n",
        "\n",
        "    return answer"
      ],
      "metadata": {
        "id": "IL_Qkg8tfAep"
      },
      "execution_count": 51,
      "outputs": []
    },
    {
      "cell_type": "code",
      "execution_count": null,
      "metadata": {
        "colab": {
          "base_uri": "https://localhost:8080/"
        },
        "id": "ZpuNrWnnAIrQ",
        "outputId": "62beca8d-32b5-4b7f-d3af-219640d1ca95"
      },
      "outputs": [
        {
          "name": "stdout",
          "output_type": "stream",
          "text": [
            "Piccole Imprese\n",
            "L'importo massimo del contributo aggiuntivo in conto impianti per le piccole imprese in possesso del rating di legalità è pari a euro 100.000,00, come indicato nel documento di riferimento 'Aiuti agli Investimenti delle Piccole e Medie Imprese (Titolo II Capo 3 Reg_ Regionale 17_2014)_br ___br __.pdf'.\n"
          ]
        }
      ],
      "source": [
        "from langchain.chains import RetrievalQA\n",
        "from langchain.chat_models import ChatOpenAI\n",
        "from langchain.vectorstores import Pinecone\n",
        "\n",
        "def get_answer_with_dynamic_filter(query, vector_store, label_to_search, llm_model='gpt-3.5-turbo', temperature=0.7):\n",
        "    llm = ChatOpenAI(model=llm_model, temperature=temperature)\n",
        "\n",
        "    dynamic_label = label_to_search\n",
        "\n",
        "    search_kwargs = {\"k\": 3}\n",
        "\n",
        "    vectorStore = Pinecone.from_existing_index(index_name, embedding)\n",
        "\n",
        "    retriever = vectorStore.as_retriever(filter={'label': {'$eq': dynamic_label}}, search_kwargs=search_kwargs)\n",
        "\n",
        "    chain = RetrievalQA.from_chain_type(llm=llm, chain_type='stuff', retriever=retriever)\n",
        "\n",
        "    answer = chain.run(query)\n",
        "\n",
        "    return answer\n",
        "\n",
        "\n",
        "query = fine_tuning_dataset.prompt[11]\n",
        "result_label = get_label_from_query(query)\n",
        "print(result_label)\n",
        "result = get_answer_with_dynamic_filter(query, vector_store, result_label)\n",
        "print(result)\n"
      ]
    },
    {
      "cell_type": "markdown",
      "source": [
        "Possiamo anche includere le sources che LLM utilizza per rispondere alla nostra domanda. Possiamo farlo utilizzando una versione leggermente diversa di RetrievalQA chiamata RetrievalQAWithSourcesChain: (non trova la risposta filtrando la label)"
      ],
      "metadata": {
        "id": "M6QojUM2g07x"
      }
    },
    {
      "cell_type": "code",
      "source": [
        "from langchain.chains import RetrievalQAWithSourcesChain\n",
        "from langchain.chat_models import ChatOpenAI\n",
        "from langchain.vectorstores import Pinecone\n",
        "\n",
        "def get_answer_with_dynamic_filter_sources(query, vector_store, label_to_search, llm_model='gpt-3.5-turbo', temperature=0.7):\n",
        "    llm = ChatOpenAI(model=llm_model, temperature=temperature)\n",
        "\n",
        "    dynamic_label = label_to_search\n",
        "\n",
        "    search_kwargs = {\"k\": 3}\n",
        "\n",
        "    vectorStore = Pinecone.from_existing_index(index_name, embedding)\n",
        "\n",
        "    retriever = vectorStore.as_retriever()\n",
        "\n",
        "    chain = RetrievalQAWithSourcesChain.from_chain_type(llm=llm, chain_type='stuff', retriever=retriever)\n",
        "\n",
        "    answer = chain(query)\n",
        "\n",
        "    return answer\n",
        "\n",
        "\n",
        "query = fine_tuning_dataset.prompt[11]\n",
        "result_label = get_label_from_query(query)\n",
        "print(result_label)\n",
        "result = get_answer_with_dynamic_filter_sources(query, vector_store, result_label)\n",
        "print(result)\n"
      ],
      "metadata": {
        "colab": {
          "base_uri": "https://localhost:8080/"
        },
        "id": "SC81n-r9hEUG",
        "outputId": "81b7af62-df6c-47dd-8a87-2bd47cc5363e"
      },
      "execution_count": 54,
      "outputs": [
        {
          "output_type": "stream",
          "name": "stdout",
          "text": [
            "Piccole Imprese\n",
            "{'question': \"Qual è l'importo massimo del contributo aggiuntivo in conto impianti per le piccole imprese in possesso del rating di legalità? in riferimento al documento: 'Aiuti agli Investimenti delle Piccole e Medie Imprese (Titolo II Capo 3 Reg_ Regionale 17_2014)_br ___br __.pdf'\", 'answer': \"L'importo massimo del contributo aggiuntivo in conto impianti per le piccole imprese in possesso del rating di legalità è del 60%. \\n\", 'sources': 'Aiuti agli Investimenti delle Piccole e Medie Imprese (Titolo II Capo 3 Reg_ Regionale 17_2014)_br ___br __.pdf'}\n"
          ]
        }
      ]
    },
    {
      "cell_type": "code",
      "source": [
        "query = \"Quale valore di spread viene aggiornato ogni anno per determinare la misura dell'aiuto erogato come contributo in conto impianti?\"\n",
        "print(f\"Query : {query}\")\n",
        "result_label = get_label_from_query(query)\n",
        "print(f\"Label trovata: {result_label}\")\n",
        "result = get_answer_with_dynamic_filter(query, vector_store, result_label)\n",
        "print(result)\n"
      ],
      "metadata": {
        "colab": {
          "base_uri": "https://localhost:8080/"
        },
        "id": "sWREqN2FfEf7",
        "outputId": "cb79c03c-daaf-492d-9ced-a040d746f58d"
      },
      "execution_count": 47,
      "outputs": [
        {
          "output_type": "stream",
          "name": "stdout",
          "text": [
            "Query : Quale valore di spread viene aggiornato ogni anno per determinare la misura dell'aiuto erogato come contributo in conto impianti?\n",
            "Label trovata: Non classificato\n",
            "Il valore dello spread viene aggiornato ogni anno, ma il testo non specifica quale sia il nuovo valore. Quindi, non posso fornire questa informazione specifica.\n"
          ]
        }
      ]
    },
    {
      "cell_type": "code",
      "source": [
        "query = \"Quali sono i requisiti necessari per essere ammessi al PIA? in riferimento al documento: 'Programmi Integrati di Agevolazioni PIA Piccole Imprese'\"\n",
        "print(f\"Query : {query}\")\n",
        "result_label = get_label_from_query(query)\n",
        "print(f\"Label trovata: {result_label}\")\n",
        "result = get_answer_with_dynamic_filter(query, vector_store, result_label)\n",
        "print(result)"
      ],
      "metadata": {
        "colab": {
          "base_uri": "https://localhost:8080/"
        },
        "id": "tPNWxGiFflST",
        "outputId": "751bdd9f-472c-429c-9bf8-611defd1b1b1"
      },
      "execution_count": 49,
      "outputs": [
        {
          "output_type": "stream",
          "name": "stdout",
          "text": [
            "Query : Quali sono i requisiti necessari per essere ammessi al PIA? in riferimento al documento: 'Programmi Integrati di Agevolazioni PIA Piccole Imprese'\n",
            "Label trovata: Piccole Imprese\n",
            "I requisiti necessari per essere ammessi al PIA sono i seguenti:\n",
            "\n",
            "1. L'impresa deve rientrare nella definizione di piccola dimensione come stabilito nell'Allegato I del Regolamento (UE) 651/2014 della Commissione del 17 giugno 2014 e deve operare in regime di contabilità ordinaria.\n",
            "\n",
            "2. Alla data di presentazione della domanda, l'impresa deve aver già approvato almeno tre bilanci.\n",
            "\n",
            "3. Nei tre esercizi precedenti alla presentazione della domanda, l'impresa deve aver registrato un fatturato medio non inferiore a 1,5 milioni di euro.\n",
            "\n",
            "4. Nei 12 mesi antecedenti alla presentazione della domanda, l'impresa deve aver registrato un numero di ULA (Unità Lavorative Anno) almeno pari a 10.\n",
            "\n",
            "Inoltre, è possibile richiedere l'agevolazione anche se si tratta di un'impresa di piccola dimensione non attiva, ma controllata da una piccola impresa che soddisfa i requisiti sopra elencati.\n",
            "\n",
            "Ti consiglio di consultare il documento \"Programmi Integrati di Agevolazioni PIA Piccole Imprese\" sul sito www.sistema.puglia.it/piapiccoleimprese per ulteriori dettagli e eventuali modifiche.\n"
          ]
        }
      ]
    },
    {
      "cell_type": "markdown",
      "source": [
        "Ricercare i documenti rilevanti:"
      ],
      "metadata": {
        "id": "Mu5rezttj4sc"
      }
    },
    {
      "cell_type": "code",
      "source": [
        "query = \"Quali sono i requisiti necessari per essere ammessi al PIA? in riferimento al documento: 'Programmi Integrati di Agevolazioni PIA Piccole Imprese'\"\n",
        "result_label = get_label_from_query(query)\n",
        "retriever = vector_store.as_retriever(filter={'label': {'$eq': result_label}},)\n",
        "relevant_documents = retriever.get_relevant_documents(query)"
      ],
      "metadata": {
        "id": "Toea-9S8jikT"
      },
      "execution_count": 55,
      "outputs": []
    },
    {
      "cell_type": "code",
      "source": [
        "relevant_documents"
      ],
      "metadata": {
        "colab": {
          "base_uri": "https://localhost:8080/"
        },
        "id": "O7T335nEj85E",
        "outputId": "46618d25-a2de-4e57-f864-7cf85d267ac8"
      },
      "execution_count": 56,
      "outputs": [
        {
          "output_type": "execute_result",
          "data": {
            "text/plain": [
              "[Document(page_content='richiesta sul piano economico finanziario de ll’impresa.  \\nI Codici Ateco ammissibili sono riportati sul sito www.sistema.puglia.it  nella sezione PIA Piccole \\nImprese.  \\n \\na quanto ammontano gli investimenti e le agevolazioni d el PIA ? \\nLe istanze di accesso devono riguardare progetti integrati di importo complessivo delle spese e dei \\ncosti ammissibili compresi tra 1 milione di euro e 20 milioni di euro .  \\n \\nNell’ambito del progetto integrato, ciascun programma di investimento realizzato da  micro e \\npiccole imprese aderenti deve presentare costi ammissibili non inferiori a euro 500.000.', metadata={'Tipo_Imprese': 'Non classificato', 'page': 2.0, 'source': 'Programmi Integrati di Agevolazioni PIA Piccole Imprese (Art_ 27 Reg_ Regionale 17_2014 e s_m_i_).pdf'}),\n",
              " Document(page_content='www.sistema.puglia.it/piapiccoleimprese e delle successive modifiche, in particolare della \\nDetermina n. 541 del 08/08/2019 , pubblicata sul B.U.R.P. del  13/02/2020  n. 20. \\n \\nchi può richiedere l’agevolazione?  \\nPuò richiedere l’agevolazione : \\n- un’impresa  di piccola  dimensione come da definizione di cui all’Allegato I del Regolamento \\n(UE) 651/2014 della Commissione del 17 giugno 2014, in regime di contabilità ordinaria, \\nche: \\n1. alla data di presentazione della domanda abbia già approvato almeno tre bilanci ; \\n2. abbia regist rato nei tre esercizi precedenti un fatturato medio non inferiore a 1,5 \\nmilioni di euro ed abbiano registrato, nei 12 mesi antecedenti la presentazione della \\ndomanda, un numero di ULA almeno pari a 10.  \\n- un’impres a di piccola dimensione non attiv a, controll ata da una  piccola impresa che abbia:  \\n1. approvato almeno tre bilanci alla data di presentazione della domanda ; \\n2. registrato nei tre esercizi precedenti un fatturato medio non inferiore a 1,5 milioni di \\neuro ; \\n3. registrato, nei 12 mesi antecedenti la presentazione  della domanda, un numero di ULA \\nalmeno pari a 10 .', metadata={'Tipo_Imprese': 'Piccole Imprese', 'page': 0.0, 'source': 'Programmi Integrati di Agevolazioni PIA Piccole Imprese (Art_ 27 Reg_ Regionale 17_2014 e s_m_i_).pdf'}),\n",
              " Document(page_content='www.sistema.puglia.it/piapiccoleimprese e delle successive modifiche, in particolare della \\nDetermina n. 541 del 08/08/2019 , pubblicata sul B.U.R.P. del  13/02/2020  n. 20. \\n \\nchi può richiedere l’agevolazione?  \\nPuò richiedere l’agevolazione : \\n- un’impresa  di piccola  dimensione come da definizione di cui all’Allegato I del Regolamento \\n(UE) 651/2014 della Commissione del 17 giugno 2014, in regime di contabilità ordinaria, \\nche: \\n1. alla data di presentazione della domanda abbia già approvato almeno tre bilanci ; \\n2. abbia regist rato nei tre esercizi precedenti un fatturato medio non inferiore a 1,5 \\nmilioni di euro ed abbiano registrato, nei 12 mesi antecedenti la presentazione della \\ndomanda, un numero di ULA almeno pari a 10.  \\n- un’impres a di piccola dimensione non attiv a, controll ata da una  piccola impresa che abbia:  \\n1. approvato almeno tre bilanci alla data di presentazione della domanda ; \\n2. registrato nei tre esercizi precedenti un fatturato medio non inferiore a 1,5 milioni di \\neuro ; \\n3. registrato, nei 12 mesi antecedenti la presentazione  della domanda, un numero di ULA \\nalmeno pari a 10 .', metadata={'Tipo_Imprese': 'Piccole Imprese', 'page': 0.0, 'source': 'Programmi Integrati di Agevolazioni PIA Piccole Imprese (Art_ 27 Reg_ Regionale 17_2014 e s_m_i_).pdf'}),\n",
              " Document(page_content='manutenzione ordinaria di navi”.  \\n \\nSono ammissibili anche gli investimenti riguardanti i seguenti servizi di cui alla “Classificazione \\ndelle Attività economiche ATECO 2007”: “52”, “58”, “59”, “61”, “62”, “63” limitatamente alle \\nsottocategorie “63.11.20”, “63.11.30”, “63.12.00” e “63.91.00”,  “71.2”, “72”, “82” limitatamente \\nalla classe “82.20.00 attività dei call center”, nonché le sottocategorie:', metadata={'Tipo_Imprese': 'Piccole Imprese', 'page': 1.0, 'source': 'Programmi Integrati di Agevolazioni PIA Piccole Imprese (Art_ 27 Reg_ Regionale 17_2014 e s_m_i_).pdf'})]"
            ]
          },
          "metadata": {},
          "execution_count": 56
        }
      ]
    }
  ],
  "metadata": {
    "colab": {
      "provenance": []
    },
    "kernelspec": {
      "display_name": "Python 3",
      "name": "python3"
    },
    "language_info": {
      "name": "python"
    }
  },
  "nbformat": 4,
  "nbformat_minor": 0
}