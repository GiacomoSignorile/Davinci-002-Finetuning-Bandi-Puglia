{
  "nbformat": 4,
  "nbformat_minor": 0,
  "metadata": {
    "colab": {
      "provenance": []
    },
    "kernelspec": {
      "name": "python3",
      "display_name": "Python 3"
    },
    "language_info": {
      "name": "python"
    }
  },
  "cells": [
    {
      "cell_type": "markdown",
      "source": [
        "#Valutazione del Fine-tuning"
      ],
      "metadata": {
        "id": "BkrlzmoJ00u_"
      }
    },
    {
      "cell_type": "code",
      "execution_count": 1,
      "metadata": {
        "colab": {
          "base_uri": "https://localhost:8080/"
        },
        "id": "3XeGRmnLNADo",
        "outputId": "95c576e6-859d-4210-af01-3ee91b8bfc61"
      },
      "outputs": [
        {
          "output_type": "stream",
          "name": "stdout",
          "text": [
            "Collecting openai==0.28.1\n",
            "  Downloading openai-0.28.1-py3-none-any.whl (76 kB)\n",
            "\u001b[?25l     \u001b[90m━━━━━━━━━━━━━━━━━━━━━━━━━━━━━━━━━━━━━━━━\u001b[0m \u001b[32m0.0/77.0 kB\u001b[0m \u001b[31m?\u001b[0m eta \u001b[36m-:--:--\u001b[0m\r\u001b[2K     \u001b[90m━━━━━━━━━━━━━━━━━━━━━━━━━━━━━━━━━━━━━━━━\u001b[0m \u001b[32m77.0/77.0 kB\u001b[0m \u001b[31m3.0 MB/s\u001b[0m eta \u001b[36m0:00:00\u001b[0m\n",
            "\u001b[?25hRequirement already satisfied: requests>=2.20 in /usr/local/lib/python3.10/dist-packages (from openai==0.28.1) (2.31.0)\n",
            "Requirement already satisfied: tqdm in /usr/local/lib/python3.10/dist-packages (from openai==0.28.1) (4.66.1)\n",
            "Requirement already satisfied: aiohttp in /usr/local/lib/python3.10/dist-packages (from openai==0.28.1) (3.8.6)\n",
            "Requirement already satisfied: charset-normalizer<4,>=2 in /usr/local/lib/python3.10/dist-packages (from requests>=2.20->openai==0.28.1) (3.3.2)\n",
            "Requirement already satisfied: idna<4,>=2.5 in /usr/local/lib/python3.10/dist-packages (from requests>=2.20->openai==0.28.1) (3.4)\n",
            "Requirement already satisfied: urllib3<3,>=1.21.1 in /usr/local/lib/python3.10/dist-packages (from requests>=2.20->openai==0.28.1) (2.0.7)\n",
            "Requirement already satisfied: certifi>=2017.4.17 in /usr/local/lib/python3.10/dist-packages (from requests>=2.20->openai==0.28.1) (2023.7.22)\n",
            "Requirement already satisfied: attrs>=17.3.0 in /usr/local/lib/python3.10/dist-packages (from aiohttp->openai==0.28.1) (23.1.0)\n",
            "Requirement already satisfied: multidict<7.0,>=4.5 in /usr/local/lib/python3.10/dist-packages (from aiohttp->openai==0.28.1) (6.0.4)\n",
            "Requirement already satisfied: async-timeout<5.0,>=4.0.0a3 in /usr/local/lib/python3.10/dist-packages (from aiohttp->openai==0.28.1) (4.0.3)\n",
            "Requirement already satisfied: yarl<2.0,>=1.0 in /usr/local/lib/python3.10/dist-packages (from aiohttp->openai==0.28.1) (1.9.2)\n",
            "Requirement already satisfied: frozenlist>=1.1.1 in /usr/local/lib/python3.10/dist-packages (from aiohttp->openai==0.28.1) (1.4.0)\n",
            "Requirement already satisfied: aiosignal>=1.1.2 in /usr/local/lib/python3.10/dist-packages (from aiohttp->openai==0.28.1) (1.3.1)\n",
            "Installing collected packages: openai\n",
            "\u001b[31mERROR: pip's dependency resolver does not currently take into account all the packages that are installed. This behaviour is the source of the following dependency conflicts.\n",
            "llmx 0.0.15a0 requires cohere, which is not installed.\n",
            "llmx 0.0.15a0 requires tiktoken, which is not installed.\u001b[0m\u001b[31m\n",
            "\u001b[0mSuccessfully installed openai-0.28.1\n",
            "Collecting python-dotenv\n",
            "  Downloading python_dotenv-1.0.0-py3-none-any.whl (19 kB)\n",
            "Installing collected packages: python-dotenv\n",
            "Successfully installed python-dotenv-1.0.0\n"
          ]
        }
      ],
      "source": [
        "!pip install openai==0.28.1\n",
        "!pip install python-dotenv"
      ]
    },
    {
      "cell_type": "code",
      "source": [
        "from google.colab import drive, files\n",
        "import os\n",
        "from dotenv import load_dotenv, find_dotenv\n",
        "drive.mount(\"/content/drive/\", force_remount=False)\n",
        "%cd \"/content/drive/My Drive/\"\n",
        "load_dotenv('./Lab_Python/.env')"
      ],
      "metadata": {
        "colab": {
          "base_uri": "https://localhost:8080/"
        },
        "id": "LLTz1ZPtNOe_",
        "outputId": "dbd08d0d-2bd1-4fa3-d24a-e778b67c95a4"
      },
      "execution_count": 2,
      "outputs": [
        {
          "output_type": "stream",
          "name": "stdout",
          "text": [
            "Mounted at /content/drive/\n",
            "/content/drive/My Drive\n"
          ]
        },
        {
          "output_type": "execute_result",
          "data": {
            "text/plain": [
              "True"
            ]
          },
          "metadata": {},
          "execution_count": 2
        }
      ]
    },
    {
      "cell_type": "code",
      "source": [
        "import pandas as pd\n",
        "\n",
        "fine_tuning_dataset = pd.read_json(\"./Tesi/fine_tune_improved.json\")\n",
        "fine_tuning_dataset"
      ],
      "metadata": {
        "colab": {
          "base_uri": "https://localhost:8080/",
          "height": 423
        },
        "id": "7pBRXqYzOmwv",
        "outputId": "a5e074aa-7bdc-49c7-93f5-b3563982d3e1"
      },
      "execution_count": 3,
      "outputs": [
        {
          "output_type": "execute_result",
          "data": {
            "text/plain": [
              "                                               prompt  \\\n",
              "0   Qual è il modo per partecipare all'Avviso Micr...   \n",
              "1   Quale documentazione è necessaria per la prese...   \n",
              "2   Quali sono le categorie di soggetti che posson...   \n",
              "3   Quali sono i codici ATECO ammissibili per le i...   \n",
              "4   Qual è l'agevolazione prevista per gli investi...   \n",
              "..                                                ...   \n",
              "93  Quali sono i requisiti necessari per iscrivers...   \n",
              "94  Quali sono i termini e le modalità di presenta...   \n",
              "95  Quali sono i requisiti necessari per poter par...   \n",
              "96  Quale servizio è disponibile per assistenza su...   \n",
              "97  Quali sono i documenti obbligatori da allegare...   \n",
              "\n",
              "                                           completion  \n",
              "0   L'Avviso MicroPrestito della Regione Puglia è ...  \n",
              "1   Per presentare la domanda di agevolazione, è n...  \n",
              "2   La misura NIDI offre un aiuto per l'avvio di u...  \n",
              "3   I codici ATECO ammissibili per le imprese conf...  \n",
              "4   Per le iniziative in continuità con imprese pr...  \n",
              "..                                                ...  \n",
              "93  L’offerta  formativa,  articolata  secondo  le...  \n",
              "94  crediti  formativi  pertinenti  e adeguatament...  \n",
              "95  05 ottobre  2023 Pag 1 di 3 Centro Servizi Sis...  \n",
              "96  www.sistema.puglia.it   Semplificazione dei Co...  \n",
              "97  www.sistema.puglia.it   Inoltre, nella stessa ...  \n",
              "\n",
              "[98 rows x 2 columns]"
            ],
            "text/html": [
              "\n",
              "  <div id=\"df-562fa4a7-b269-4da4-9b4e-f5b524e479bd\" class=\"colab-df-container\">\n",
              "    <div>\n",
              "<style scoped>\n",
              "    .dataframe tbody tr th:only-of-type {\n",
              "        vertical-align: middle;\n",
              "    }\n",
              "\n",
              "    .dataframe tbody tr th {\n",
              "        vertical-align: top;\n",
              "    }\n",
              "\n",
              "    .dataframe thead th {\n",
              "        text-align: right;\n",
              "    }\n",
              "</style>\n",
              "<table border=\"1\" class=\"dataframe\">\n",
              "  <thead>\n",
              "    <tr style=\"text-align: right;\">\n",
              "      <th></th>\n",
              "      <th>prompt</th>\n",
              "      <th>completion</th>\n",
              "    </tr>\n",
              "  </thead>\n",
              "  <tbody>\n",
              "    <tr>\n",
              "      <th>0</th>\n",
              "      <td>Qual è il modo per partecipare all'Avviso Micr...</td>\n",
              "      <td>L'Avviso MicroPrestito della Regione Puglia è ...</td>\n",
              "    </tr>\n",
              "    <tr>\n",
              "      <th>1</th>\n",
              "      <td>Quale documentazione è necessaria per la prese...</td>\n",
              "      <td>Per presentare la domanda di agevolazione, è n...</td>\n",
              "    </tr>\n",
              "    <tr>\n",
              "      <th>2</th>\n",
              "      <td>Quali sono le categorie di soggetti che posson...</td>\n",
              "      <td>La misura NIDI offre un aiuto per l'avvio di u...</td>\n",
              "    </tr>\n",
              "    <tr>\n",
              "      <th>3</th>\n",
              "      <td>Quali sono i codici ATECO ammissibili per le i...</td>\n",
              "      <td>I codici ATECO ammissibili per le imprese conf...</td>\n",
              "    </tr>\n",
              "    <tr>\n",
              "      <th>4</th>\n",
              "      <td>Qual è l'agevolazione prevista per gli investi...</td>\n",
              "      <td>Per le iniziative in continuità con imprese pr...</td>\n",
              "    </tr>\n",
              "    <tr>\n",
              "      <th>...</th>\n",
              "      <td>...</td>\n",
              "      <td>...</td>\n",
              "    </tr>\n",
              "    <tr>\n",
              "      <th>93</th>\n",
              "      <td>Quali sono i requisiti necessari per iscrivers...</td>\n",
              "      <td>L’offerta  formativa,  articolata  secondo  le...</td>\n",
              "    </tr>\n",
              "    <tr>\n",
              "      <th>94</th>\n",
              "      <td>Quali sono i termini e le modalità di presenta...</td>\n",
              "      <td>crediti  formativi  pertinenti  e adeguatament...</td>\n",
              "    </tr>\n",
              "    <tr>\n",
              "      <th>95</th>\n",
              "      <td>Quali sono i requisiti necessari per poter par...</td>\n",
              "      <td>05 ottobre  2023 Pag 1 di 3 Centro Servizi Sis...</td>\n",
              "    </tr>\n",
              "    <tr>\n",
              "      <th>96</th>\n",
              "      <td>Quale servizio è disponibile per assistenza su...</td>\n",
              "      <td>www.sistema.puglia.it   Semplificazione dei Co...</td>\n",
              "    </tr>\n",
              "    <tr>\n",
              "      <th>97</th>\n",
              "      <td>Quali sono i documenti obbligatori da allegare...</td>\n",
              "      <td>www.sistema.puglia.it   Inoltre, nella stessa ...</td>\n",
              "    </tr>\n",
              "  </tbody>\n",
              "</table>\n",
              "<p>98 rows × 2 columns</p>\n",
              "</div>\n",
              "    <div class=\"colab-df-buttons\">\n",
              "\n",
              "  <div class=\"colab-df-container\">\n",
              "    <button class=\"colab-df-convert\" onclick=\"convertToInteractive('df-562fa4a7-b269-4da4-9b4e-f5b524e479bd')\"\n",
              "            title=\"Convert this dataframe to an interactive table.\"\n",
              "            style=\"display:none;\">\n",
              "\n",
              "  <svg xmlns=\"http://www.w3.org/2000/svg\" height=\"24px\" viewBox=\"0 -960 960 960\">\n",
              "    <path d=\"M120-120v-720h720v720H120Zm60-500h600v-160H180v160Zm220 220h160v-160H400v160Zm0 220h160v-160H400v160ZM180-400h160v-160H180v160Zm440 0h160v-160H620v160ZM180-180h160v-160H180v160Zm440 0h160v-160H620v160Z\"/>\n",
              "  </svg>\n",
              "    </button>\n",
              "\n",
              "  <style>\n",
              "    .colab-df-container {\n",
              "      display:flex;\n",
              "      gap: 12px;\n",
              "    }\n",
              "\n",
              "    .colab-df-convert {\n",
              "      background-color: #E8F0FE;\n",
              "      border: none;\n",
              "      border-radius: 50%;\n",
              "      cursor: pointer;\n",
              "      display: none;\n",
              "      fill: #1967D2;\n",
              "      height: 32px;\n",
              "      padding: 0 0 0 0;\n",
              "      width: 32px;\n",
              "    }\n",
              "\n",
              "    .colab-df-convert:hover {\n",
              "      background-color: #E2EBFA;\n",
              "      box-shadow: 0px 1px 2px rgba(60, 64, 67, 0.3), 0px 1px 3px 1px rgba(60, 64, 67, 0.15);\n",
              "      fill: #174EA6;\n",
              "    }\n",
              "\n",
              "    .colab-df-buttons div {\n",
              "      margin-bottom: 4px;\n",
              "    }\n",
              "\n",
              "    [theme=dark] .colab-df-convert {\n",
              "      background-color: #3B4455;\n",
              "      fill: #D2E3FC;\n",
              "    }\n",
              "\n",
              "    [theme=dark] .colab-df-convert:hover {\n",
              "      background-color: #434B5C;\n",
              "      box-shadow: 0px 1px 3px 1px rgba(0, 0, 0, 0.15);\n",
              "      filter: drop-shadow(0px 1px 2px rgba(0, 0, 0, 0.3));\n",
              "      fill: #FFFFFF;\n",
              "    }\n",
              "  </style>\n",
              "\n",
              "    <script>\n",
              "      const buttonEl =\n",
              "        document.querySelector('#df-562fa4a7-b269-4da4-9b4e-f5b524e479bd button.colab-df-convert');\n",
              "      buttonEl.style.display =\n",
              "        google.colab.kernel.accessAllowed ? 'block' : 'none';\n",
              "\n",
              "      async function convertToInteractive(key) {\n",
              "        const element = document.querySelector('#df-562fa4a7-b269-4da4-9b4e-f5b524e479bd');\n",
              "        const dataTable =\n",
              "          await google.colab.kernel.invokeFunction('convertToInteractive',\n",
              "                                                    [key], {});\n",
              "        if (!dataTable) return;\n",
              "\n",
              "        const docLinkHtml = 'Like what you see? Visit the ' +\n",
              "          '<a target=\"_blank\" href=https://colab.research.google.com/notebooks/data_table.ipynb>data table notebook</a>'\n",
              "          + ' to learn more about interactive tables.';\n",
              "        element.innerHTML = '';\n",
              "        dataTable['output_type'] = 'display_data';\n",
              "        await google.colab.output.renderOutput(dataTable, element);\n",
              "        const docLink = document.createElement('div');\n",
              "        docLink.innerHTML = docLinkHtml;\n",
              "        element.appendChild(docLink);\n",
              "      }\n",
              "    </script>\n",
              "  </div>\n",
              "\n",
              "\n",
              "<div id=\"df-bdafa1c3-81d5-41fa-9d00-f622e323f2f2\">\n",
              "  <button class=\"colab-df-quickchart\" onclick=\"quickchart('df-bdafa1c3-81d5-41fa-9d00-f622e323f2f2')\"\n",
              "            title=\"Suggest charts\"\n",
              "            style=\"display:none;\">\n",
              "\n",
              "<svg xmlns=\"http://www.w3.org/2000/svg\" height=\"24px\"viewBox=\"0 0 24 24\"\n",
              "     width=\"24px\">\n",
              "    <g>\n",
              "        <path d=\"M19 3H5c-1.1 0-2 .9-2 2v14c0 1.1.9 2 2 2h14c1.1 0 2-.9 2-2V5c0-1.1-.9-2-2-2zM9 17H7v-7h2v7zm4 0h-2V7h2v10zm4 0h-2v-4h2v4z\"/>\n",
              "    </g>\n",
              "</svg>\n",
              "  </button>\n",
              "\n",
              "<style>\n",
              "  .colab-df-quickchart {\n",
              "      --bg-color: #E8F0FE;\n",
              "      --fill-color: #1967D2;\n",
              "      --hover-bg-color: #E2EBFA;\n",
              "      --hover-fill-color: #174EA6;\n",
              "      --disabled-fill-color: #AAA;\n",
              "      --disabled-bg-color: #DDD;\n",
              "  }\n",
              "\n",
              "  [theme=dark] .colab-df-quickchart {\n",
              "      --bg-color: #3B4455;\n",
              "      --fill-color: #D2E3FC;\n",
              "      --hover-bg-color: #434B5C;\n",
              "      --hover-fill-color: #FFFFFF;\n",
              "      --disabled-bg-color: #3B4455;\n",
              "      --disabled-fill-color: #666;\n",
              "  }\n",
              "\n",
              "  .colab-df-quickchart {\n",
              "    background-color: var(--bg-color);\n",
              "    border: none;\n",
              "    border-radius: 50%;\n",
              "    cursor: pointer;\n",
              "    display: none;\n",
              "    fill: var(--fill-color);\n",
              "    height: 32px;\n",
              "    padding: 0;\n",
              "    width: 32px;\n",
              "  }\n",
              "\n",
              "  .colab-df-quickchart:hover {\n",
              "    background-color: var(--hover-bg-color);\n",
              "    box-shadow: 0 1px 2px rgba(60, 64, 67, 0.3), 0 1px 3px 1px rgba(60, 64, 67, 0.15);\n",
              "    fill: var(--button-hover-fill-color);\n",
              "  }\n",
              "\n",
              "  .colab-df-quickchart-complete:disabled,\n",
              "  .colab-df-quickchart-complete:disabled:hover {\n",
              "    background-color: var(--disabled-bg-color);\n",
              "    fill: var(--disabled-fill-color);\n",
              "    box-shadow: none;\n",
              "  }\n",
              "\n",
              "  .colab-df-spinner {\n",
              "    border: 2px solid var(--fill-color);\n",
              "    border-color: transparent;\n",
              "    border-bottom-color: var(--fill-color);\n",
              "    animation:\n",
              "      spin 1s steps(1) infinite;\n",
              "  }\n",
              "\n",
              "  @keyframes spin {\n",
              "    0% {\n",
              "      border-color: transparent;\n",
              "      border-bottom-color: var(--fill-color);\n",
              "      border-left-color: var(--fill-color);\n",
              "    }\n",
              "    20% {\n",
              "      border-color: transparent;\n",
              "      border-left-color: var(--fill-color);\n",
              "      border-top-color: var(--fill-color);\n",
              "    }\n",
              "    30% {\n",
              "      border-color: transparent;\n",
              "      border-left-color: var(--fill-color);\n",
              "      border-top-color: var(--fill-color);\n",
              "      border-right-color: var(--fill-color);\n",
              "    }\n",
              "    40% {\n",
              "      border-color: transparent;\n",
              "      border-right-color: var(--fill-color);\n",
              "      border-top-color: var(--fill-color);\n",
              "    }\n",
              "    60% {\n",
              "      border-color: transparent;\n",
              "      border-right-color: var(--fill-color);\n",
              "    }\n",
              "    80% {\n",
              "      border-color: transparent;\n",
              "      border-right-color: var(--fill-color);\n",
              "      border-bottom-color: var(--fill-color);\n",
              "    }\n",
              "    90% {\n",
              "      border-color: transparent;\n",
              "      border-bottom-color: var(--fill-color);\n",
              "    }\n",
              "  }\n",
              "</style>\n",
              "\n",
              "  <script>\n",
              "    async function quickchart(key) {\n",
              "      const quickchartButtonEl =\n",
              "        document.querySelector('#' + key + ' button');\n",
              "      quickchartButtonEl.disabled = true;  // To prevent multiple clicks.\n",
              "      quickchartButtonEl.classList.add('colab-df-spinner');\n",
              "      try {\n",
              "        const charts = await google.colab.kernel.invokeFunction(\n",
              "            'suggestCharts', [key], {});\n",
              "      } catch (error) {\n",
              "        console.error('Error during call to suggestCharts:', error);\n",
              "      }\n",
              "      quickchartButtonEl.classList.remove('colab-df-spinner');\n",
              "      quickchartButtonEl.classList.add('colab-df-quickchart-complete');\n",
              "    }\n",
              "    (() => {\n",
              "      let quickchartButtonEl =\n",
              "        document.querySelector('#df-bdafa1c3-81d5-41fa-9d00-f622e323f2f2 button');\n",
              "      quickchartButtonEl.style.display =\n",
              "        google.colab.kernel.accessAllowed ? 'block' : 'none';\n",
              "    })();\n",
              "  </script>\n",
              "</div>\n",
              "    </div>\n",
              "  </div>\n"
            ]
          },
          "metadata": {},
          "execution_count": 3
        }
      ]
    },
    {
      "cell_type": "code",
      "source": [
        "fine_tuning_dataset.prompt[4]"
      ],
      "metadata": {
        "colab": {
          "base_uri": "https://localhost:8080/",
          "height": 54
        },
        "id": "Ub7D34pc1Ps5",
        "outputId": "41bc784c-9437-4a4a-c852-dc80d195ac5a"
      },
      "execution_count": null,
      "outputs": [
        {
          "output_type": "execute_result",
          "data": {
            "text/plain": [
              "\"Qual è l'agevolazione prevista per gli investimenti compresi tra 50.000 e 100.000 euro per le iniziative in continuità con imprese pre-esistenti? in riferimento al documento: 'Scheda NIDI - Nuove iniziative d'impresa_ Strumento di ingegneria finanziaria.pdf'\""
            ],
            "application/vnd.google.colaboratory.intrinsic+json": {
              "type": "string"
            }
          },
          "metadata": {},
          "execution_count": 4
        }
      ]
    },
    {
      "cell_type": "markdown",
      "source": [
        "Testo il modello che ho ottenuto con alcuni prompt del dataset su cui è stato allenato"
      ],
      "metadata": {
        "id": "Ee53jv4j1biE"
      }
    },
    {
      "cell_type": "code",
      "source": [
        "import openai\n",
        "\n",
        "client = openai.Completion.create(\n",
        "    engine=\"ft:davinci-002:links:test-signorile:8MHkSMB0\",\n",
        "    prompt=fine_tuning_dataset.prompt[4],\n",
        "    max_tokens=1024,\n",
        "    n=1,\n",
        "    stop=None,\n",
        "    temperature=0.7\n",
        ")\n",
        "\n",
        "print(client['choices'])\n"
      ],
      "metadata": {
        "colab": {
          "base_uri": "https://localhost:8080/"
        },
        "id": "IBnfR5s4N9n8",
        "outputId": "22c746eb-3154-4416-fb20-0e0cf4a6de9d"
      },
      "execution_count": null,
      "outputs": [
        {
          "output_type": "stream",
          "name": "stdout",
          "text": [
            "[<OpenAIObject at 0x7cc272caaed0> JSON: {\n",
            "  \"text\": \"Sono previste agevolazioni fino al 50% dell\\u2019investimento, al netto della quota di capitale non finanziato, in moneta corrente e/o in forma di prestiti obbligazionari, con le seguenti caratteristiche: \\n\\u2022 Il finanziamento in conto capitale, a tasso agevolato, non supera il 25% dell\\u2019importo complessivo del progetto; \\u2022 Il finanziamento in conto finanziamento, a tasso agevolato, non supera il 45% dell\\u2019importo complessivo del progetto; \\u2022 Il Tasso di Copertura, calcolato in misura complessiva, non deve essere inferiore a 1,15. \\nPer le imprese con un investimento compreso tra 50.000,00 euro e 100.000,00 euro, \\u00e8 prevista un'agevolazione fino al 50% dell'investimento, al netto della quota di capitale non finanziato. Gli importi massimi degli incentivi erogabili sono i seguenti: \\n- Investimenti fino a 250.000 euro: in misura complessiva fino a 125.000 euro di agevolazioni; - Investimenti compresi tra 250.000 euro e 500.000 euro: in misura complessiva fino a 250.000 euro di agevolazioni; - Investimenti compresi tra 500.000 euro e 1.000.000 euro: in misura complessiva fino a 500.000 euro di agevolazioni; - Investimenti compresi tra 1.000.000 euro e 1.500.000 euro: in misura complessiva fino a 750.000 euro di agevolazioni; - Investimenti compresi tra 1.500.000 euro e 2.000.000 euro: in misura complessiva fino a 1.000.000 euro di agevolazioni; - Investimenti compresi tra 2.000.000 euro e 2.500.000 euro: in misura complessiva fino a 1.250.000 euro di agevolazioni; - Investimenti compresi tra 2.500.000 euro e 3.000.000 euro: in misura complessiva fino a 1.500.000 euro di agevolazioni; - Investimenti compresi tra 3.000.000 euro e 3.500.000 euro: in misura complessiva fino a 1.750.000 euro di agevolazioni; - Investimenti compresi tra 3.500.000 euro e 4.000.000 euro: in misura complessiva fino a 2.000.000 euro di agevolazioni; - Investimenti compresi tra 4.000.000 euro e 4.500.000 euro: in misura complessiva fino a 2.250.000 euro di agevolazioni; - Investimenti compresi tra 4.500.000 euro e 5.000.000 euro: in misura complessiva fino a 2.500.000 euro di agevolazioni. \\nPer le iniziative in continuit\\u00e0 con imprese pre-esistenti, gli investimenti ammissibili sono pari a massimo: - 3.000.000 euro per le microimprese, i lavoratori autonomi e le cooperative; - 5.000.000 euro per le piccole e medie imprese (PMI); - 10.000.000 euro per le grandi imprese. \\nTutte le informazioni su normativa, modulistica, documentazione, allegati, ecc. sono disponibili sul sito www.sistema.puglia.it, nella sezione dedicata a \\u2018NIDI - Nuove iniziative d\\u2019impresa\\u2019, oppure compilando il questionario on line inoltrato all\\u2019indirizzo: https://consultazioni.sistema.puglia.it/nidi, che consente di inviare istanze di chiarimento o proposte alle istituzioni. \\nPer far fronte all\\u2019emergenza COVID-19, il 15 agosto 2020 \\u00e8 inoltre stato pubblicato il Decreto \\u2018Sostegno\\u2019. Attraverso questo strumento, le imprese che presentano un calo di fatturato nell\\u2019ultimo trimestre 2020 superiore al 50% rispetto a quello riferito allo stesso trimestre del 2019, possono beneficiare di un contributo diretto a fondo perduto pari al 50% dei ricavi mancanti. La domanda di ammissione all\\u2019iniziativa pu\\u00f2 essere presentata in via telematica entro e\",\n",
            "  \"index\": 0,\n",
            "  \"logprobs\": null,\n",
            "  \"finish_reason\": \"length\"\n",
            "}]\n"
          ]
        }
      ]
    },
    {
      "cell_type": "code",
      "source": [
        "print(len(client['choices'][0]['text']))"
      ],
      "metadata": {
        "colab": {
          "base_uri": "https://localhost:8080/"
        },
        "id": "CgzcM5zD2I6y",
        "outputId": "cf3c203d-dfe3-4e29-e694-90f056a696f5"
      },
      "execution_count": null,
      "outputs": [
        {
          "output_type": "stream",
          "name": "stdout",
          "text": [
            "3216\n"
          ]
        }
      ]
    },
    {
      "cell_type": "code",
      "source": [
        "client['choices'][0]['text']"
      ],
      "metadata": {
        "colab": {
          "base_uri": "https://localhost:8080/",
          "height": 309
        },
        "id": "lh81s6RhP5SV",
        "outputId": "09d57832-97f9-4857-9fc9-9022a458654e"
      },
      "execution_count": null,
      "outputs": [
        {
          "output_type": "execute_result",
          "data": {
            "text/plain": [
              "\"Sono previste agevolazioni fino al 50% dell’investimento, al netto della quota di capitale non finanziato, in moneta corrente e/o in forma di prestiti obbligazionari, con le seguenti caratteristiche: \\n• Il finanziamento in conto capitale, a tasso agevolato, non supera il 25% dell’importo complessivo del progetto; • Il finanziamento in conto finanziamento, a tasso agevolato, non supera il 45% dell’importo complessivo del progetto; • Il Tasso di Copertura, calcolato in misura complessiva, non deve essere inferiore a 1,15. \\nPer le imprese con un investimento compreso tra 50.000,00 euro e 100.000,00 euro, è prevista un'agevolazione fino al 50% dell'investimento, al netto della quota di capitale non finanziato. Gli importi massimi degli incentivi erogabili sono i seguenti: \\n- Investimenti fino a 250.000 euro: in misura complessiva fino a 125.000 euro di agevolazioni; - Investimenti compresi tra 250.000 euro e 500.000 euro: in misura complessiva fino a 250.000 euro di agevolazioni; - Investimenti compresi tra 500.000 euro e 1.000.000 euro: in misura complessiva fino a 500.000 euro di agevolazioni; - Investimenti compresi tra 1.000.000 euro e 1.500.000 euro: in misura complessiva fino a 750.000 euro di agevolazioni; - Investimenti compresi tra 1.500.000 euro e 2.000.000 euro: in misura complessiva fino a 1.000.000 euro di agevolazioni; - Investimenti compresi tra 2.000.000 euro e 2.500.000 euro: in misura complessiva fino a 1.250.000 euro di agevolazioni; - Investimenti compresi tra 2.500.000 euro e 3.000.000 euro: in misura complessiva fino a 1.500.000 euro di agevolazioni; - Investimenti compresi tra 3.000.000 euro e 3.500.000 euro: in misura complessiva fino a 1.750.000 euro di agevolazioni; - Investimenti compresi tra 3.500.000 euro e 4.000.000 euro: in misura complessiva fino a 2.000.000 euro di agevolazioni; - Investimenti compresi tra 4.000.000 euro e 4.500.000 euro: in misura complessiva fino a 2.250.000 euro di agevolazioni; - Investimenti compresi tra 4.500.000 euro e 5.000.000 euro: in misura complessiva fino a 2.500.000 euro di agevolazioni. \\nPer le iniziative in continuità con imprese pre-esistenti, gli investimenti ammissibili sono pari a massimo: - 3.000.000 euro per le microimprese, i lavoratori autonomi e le cooperative; - 5.000.000 euro per le piccole e medie imprese (PMI); - 10.000.000 euro per le grandi imprese. \\nTutte le informazioni su normativa, modulistica, documentazione, allegati, ecc. sono disponibili sul sito www.sistema.puglia.it, nella sezione dedicata a ‘NIDI - Nuove iniziative d’impresa’, oppure compilando il questionario on line inoltrato all’indirizzo: https://consultazioni.sistema.puglia.it/nidi, che consente di inviare istanze di chiarimento o proposte alle istituzioni. \\nPer far fronte all’emergenza COVID-19, il 15 agosto 2020 è inoltre stato pubblicato il Decreto ‘Sostegno’. Attraverso questo strumento, le imprese che presentano un calo di fatturato nell’ultimo trimestre 2020 superiore al 50% rispetto a quello riferito allo stesso trimestre del 2019, possono beneficiare di un contributo diretto a fondo perduto pari al 50% dei ricavi mancanti. La domanda di ammissione all’iniziativa può essere presentata in via telematica entro e\""
            ],
            "application/vnd.google.colaboratory.intrinsic+json": {
              "type": "string"
            }
          },
          "metadata": {},
          "execution_count": 32
        }
      ]
    },
    {
      "cell_type": "code",
      "source": [
        "fine_tuning_dataset.completion[4]"
      ],
      "metadata": {
        "colab": {
          "base_uri": "https://localhost:8080/",
          "height": 91
        },
        "id": "QAj4idDuQRwS",
        "outputId": "5fc0e721-c292-41ee-fdae-7e39cb6712e3"
      },
      "execution_count": null,
      "outputs": [
        {
          "output_type": "execute_result",
          "data": {
            "text/plain": [
              "\"Per le iniziative in continuità con imprese pre-esistenti quali: passaggio generazionale, rilevamento di impresa in crisi, rilevamento di impresa confiscata, cooperative sociali assegnatarie di beni immobili confiscati, è possibile prevedere programmi di investimento fino ad € 250.000,00. L'agevolazione, somma di sovvenzione (fondo perduto) e mutuo agevolato, varia al crescere del valore dell’investimento. L'agevolazione per investimenti compresi tra 50.000 e 100.000 euro è pari al 90%: un contributo a fondo perduto pari al 50% del totale degli investimenti agevolati e un prestito rimborsabile pari al 50% del totale degli investimenti agevolati (ridotto al 25% per Compagini Giovanili ed Imprese Femminili).\""
            ],
            "application/vnd.google.colaboratory.intrinsic+json": {
              "type": "string"
            }
          },
          "metadata": {},
          "execution_count": 20
        }
      ]
    },
    {
      "cell_type": "code",
      "source": [
        "import openai\n",
        "\n",
        "client = openai.Completion.create(\n",
        "    engine=\"ft:davinci-002:links:test-signorile:8MHkSMB0\",\n",
        "    prompt=fine_tuning_dataset.prompt[4],\n",
        "    max_tokens=1024,\n",
        "    n=1,\n",
        "    stop=None,\n",
        "    temperature=0.5\n",
        ")\n",
        "\n",
        "print(client['choices'])"
      ],
      "metadata": {
        "colab": {
          "base_uri": "https://localhost:8080/"
        },
        "id": "q4lOEaxtRBeH",
        "outputId": "591285db-169b-444a-a97d-c42c14cbbff0"
      },
      "execution_count": null,
      "outputs": [
        {
          "output_type": "stream",
          "name": "stdout",
          "text": [
            "[<OpenAIObject at 0x7cc272ac2840> JSON: {\n",
            "  \"text\": \"Per gli investimenti compresi tra 50.000 e 100.000 euro, l'agevolazione \\u00e8 pari al 25% del finanziamento concesso, a condizione che la redditivit\\u00e0 dell'investimento sia almeno pari al 15% (per le iniziative in cui si prevede l'impiego di almeno 2 addetti a tempo pieno). Per le iniziative in continuit\\u00e0 con imprese pre-esistenti, l'agevolazione \\u00e8 pari al 30% del finanziamento concesso. Inoltre, \\u00e8 prevista un'agevolazione maggiorata pari al 5% del finanziamento concesso per le imprese che si avvalgono di consulenti esterni per la redazione del business plan e/o per la gestione di un sistema informativo di gestione. La misura agevolativa massima \\u00e8 pari a 60.000 euro per gli investimenti fino a 250.000 euro e a 100.000 euro per gli investimenti compresi tra 250.000 euro e 500.000 euro. Inoltre, \\u00e8 prevista un'agevolazione pari al 50% per i costi di affitto di locali per le attivit\\u00e0 commerciali in cui il personale impiegato sia in misura non inferiore al 30% di donne in possesso di un titolo di studio non inferiore al diploma di scuola media inferiore. Per le iniziative di artigianato, l'agevolazione \\u00e8 pari al 30% del finanziamento concesso. Le agevolazioni sono cumulabili fino ad un massimo del 50%, a condizione che il finanziamento erogabile sia compreso tra 50.000 e 300.000 euro. Inoltre, per le iniziative che prevedono l'impiego di donne, gli investimenti inferiori a 50.000 euro sono ammissibili a finanziamento in misura pari al 50%, indipendentemente dal reddito pro-capite del socio imprenditore. Per maggiori informazioni, \\u00e8 possibile visitare la pagina www.sistema.puglia.it/nidi oppure contattare il numero verde 800 90 92 91.\\n\\nPer le iniziative di artigianato, l'agevolazione \\u00e8 pari al 30% del finanziamento concesso. Le agevolazioni sono cumulabili fino ad un massimo del 50%, a condizione che il finanziamento erogabile sia compreso tra 50.000 e 300.000 euro. Inoltre, per le iniziative che prevedono l'impiego di donne, gli investimenti inferiori a 50.000 euro sono ammissibili a finanziamento in misura pari al 50%, indipendentemente dal reddito pro-capite del socio imprenditore. Per maggiori informazioni, \\u00e8 possibile visitare la pagina www.sistema.puglia.it/nidi oppure contattare il numero verde 800 90 92 91. \\n\\nPer gli investimenti compresi tra 50.000 e 100.000 euro, l'agevolazione \\u00e8 pari al 25% del finanziamento concesso, a condizione che la redditivit\\u00e0 dell'investimento sia almeno pari al 15% (per le iniziative in cui si prevede l'impiego di almeno 2 addetti a tempo pieno). Per le iniziative in continuit\\u00e0 con imprese pre-esistenti, l'agevolazione \\u00e8 pari al 30% del finanziamento concesso. Inoltre, \\u00e8 prevista un'agevolazione maggiorata pari al 5% del finanziamento concesso per le imprese che si avvalgono di consulenti esterni per la redazione del business plan e/o per la gestione di un sistema informativo di gestione. La misura agevolativa massima \\u00e8 pari a 60.000 euro per gli investimenti fino a 250.000 euro e a 100.000 euro per gli investimenti compresi tra 250.000 euro e 500.000 euro. Inoltre, \\u00e8 prevista un'agevolazione pari al 50% per i costi di affitto di locali per le attivit\\u00e0 commerciali in cui il personale impiegato sia in misura non inferiore al 30% di donne in possesso di un titolo di studio non inferiore al diploma di scuola media inferiore. Per maggiori informazioni, \\u00e8 possibile visitare la pagina www.sistema.puglia.it/nidi oppure contattare il numero verde 800 90 92 91.\\n\\nNel documento 'Scheda NIDI - Nuove iniziative d\",\n",
            "  \"index\": 0,\n",
            "  \"logprobs\": null,\n",
            "  \"finish_reason\": \"length\"\n",
            "}]\n"
          ]
        }
      ]
    },
    {
      "cell_type": "code",
      "source": [
        "print(len(client['choices'][0]['text']))"
      ],
      "metadata": {
        "colab": {
          "base_uri": "https://localhost:8080/"
        },
        "id": "0JKwQGgv5eG5",
        "outputId": "cdd76de9-a133-4af7-c6bf-bc2d87f4fed9"
      },
      "execution_count": null,
      "outputs": [
        {
          "output_type": "stream",
          "name": "stdout",
          "text": [
            "3488\n"
          ]
        }
      ]
    },
    {
      "cell_type": "code",
      "source": [
        "client['choices'][0]['text']"
      ],
      "metadata": {
        "colab": {
          "base_uri": "https://localhost:8080/",
          "height": 346
        },
        "id": "I7H7Sr3tRKTB",
        "outputId": "6c0ede56-0c37-4bd6-f70d-bfbc77567cfc"
      },
      "execution_count": null,
      "outputs": [
        {
          "output_type": "execute_result",
          "data": {
            "text/plain": [
              "\"Per gli investimenti compresi tra 50.000 e 100.000 euro, l'agevolazione è pari al 25% del finanziamento concesso, a condizione che la redditività dell'investimento sia almeno pari al 15% (per le iniziative in cui si prevede l'impiego di almeno 2 addetti a tempo pieno). Per le iniziative in continuità con imprese pre-esistenti, l'agevolazione è pari al 30% del finanziamento concesso. Inoltre, è prevista un'agevolazione maggiorata pari al 5% del finanziamento concesso per le imprese che si avvalgono di consulenti esterni per la redazione del business plan e/o per la gestione di un sistema informativo di gestione. La misura agevolativa massima è pari a 60.000 euro per gli investimenti fino a 250.000 euro e a 100.000 euro per gli investimenti compresi tra 250.000 euro e 500.000 euro. Inoltre, è prevista un'agevolazione pari al 50% per i costi di affitto di locali per le attività commerciali in cui il personale impiegato sia in misura non inferiore al 30% di donne in possesso di un titolo di studio non inferiore al diploma di scuola media inferiore. Per le iniziative di artigianato, l'agevolazione è pari al 30% del finanziamento concesso. Le agevolazioni sono cumulabili fino ad un massimo del 50%, a condizione che il finanziamento erogabile sia compreso tra 50.000 e 300.000 euro. Inoltre, per le iniziative che prevedono l'impiego di donne, gli investimenti inferiori a 50.000 euro sono ammissibili a finanziamento in misura pari al 50%, indipendentemente dal reddito pro-capite del socio imprenditore. Per maggiori informazioni, è possibile visitare la pagina www.sistema.puglia.it/nidi oppure contattare il numero verde 800 90 92 91.\\n\\nPer le iniziative di artigianato, l'agevolazione è pari al 30% del finanziamento concesso. Le agevolazioni sono cumulabili fino ad un massimo del 50%, a condizione che il finanziamento erogabile sia compreso tra 50.000 e 300.000 euro. Inoltre, per le iniziative che prevedono l'impiego di donne, gli investimenti inferiori a 50.000 euro sono ammissibili a finanziamento in misura pari al 50%, indipendentemente dal reddito pro-capite del socio imprenditore. Per maggiori informazioni, è possibile visitare la pagina www.sistema.puglia.it/nidi oppure contattare il numero verde 800 90 92 91. \\n\\nPer gli investimenti compresi tra 50.000 e 100.000 euro, l'agevolazione è pari al 25% del finanziamento concesso, a condizione che la redditività dell'investimento sia almeno pari al 15% (per le iniziative in cui si prevede l'impiego di almeno 2 addetti a tempo pieno). Per le iniziative in continuità con imprese pre-esistenti, l'agevolazione è pari al 30% del finanziamento concesso. Inoltre, è prevista un'agevolazione maggiorata pari al 5% del finanziamento concesso per le imprese che si avvalgono di consulenti esterni per la redazione del business plan e/o per la gestione di un sistema informativo di gestione. La misura agevolativa massima è pari a 60.000 euro per gli investimenti fino a 250.000 euro e a 100.000 euro per gli investimenti compresi tra 250.000 euro e 500.000 euro. Inoltre, è prevista un'agevolazione pari al 50% per i costi di affitto di locali per le attività commerciali in cui il personale impiegato sia in misura non inferiore al 30% di donne in possesso di un titolo di studio non inferiore al diploma di scuola media inferiore. Per maggiori informazioni, è possibile visitare la pagina www.sistema.puglia.it/nidi oppure contattare il numero verde 800 90 92 91.\\n\\nNel documento 'Scheda NIDI - Nuove iniziative d\""
            ],
            "application/vnd.google.colaboratory.intrinsic+json": {
              "type": "string"
            }
          },
          "metadata": {},
          "execution_count": 29
        }
      ]
    },
    {
      "cell_type": "markdown",
      "source": [
        "Provando diverse risposte a diverse temperature 0.7 e 0.5 ho osservato che a 0.7, il modello andava a inventare troppo la risposta e quindi ho scelto di porre a 0.5 la temperature in quanto ha una creatività abbastanza elevata ma non troppo da snaturare la risposta"
      ],
      "metadata": {
        "id": "oUvnmLph599A"
      }
    },
    {
      "cell_type": "code",
      "source": [
        "import openai\n",
        "\n",
        "client = openai.Completion.create(\n",
        "    engine=\"ft:davinci-002:links:test-signorile:8MHkSMB0\",\n",
        "    prompt=\"Qual è l'agevolazione prevista per gli investimenti compresi tra 50.000 e 100.000 euro per le iniziative in continuità con imprese pre-esistenti?\",\n",
        "    max_tokens=1024,\n",
        "    n=1,\n",
        "    stop=None,\n",
        "    temperature=0.5\n",
        ")\n",
        "\n",
        "print(client['choices'])"
      ],
      "metadata": {
        "colab": {
          "base_uri": "https://localhost:8080/"
        },
        "id": "t87miAu9R2VY",
        "outputId": "51599ed0-5273-4a71-ac74-7a3129767906"
      },
      "execution_count": null,
      "outputs": [
        {
          "output_type": "stream",
          "name": "stdout",
          "text": [
            "[<OpenAIObject at 0x7cc272caacf0> JSON: {\n",
            "  \"text\": \" Per le iniziative in continuit\\u00e0 con imprese pre-esistenti, l'agevolazione prevista \\u00e8 pari al 30% del totale ammissibile delle spese per l'investimento, con un tetto di 100.000 euro per le microimpres e e di 300.000 euro per le piccole e medie imprese. Per le imprese esercenti l\\u2019attivit\\u00e0 in locali non propri (di seguito \\u201cimpresa in affitto\\u201d) e per le imprese esercenti l\\u2019attivit\\u00e0 in locali propriet\\u00e0 dell\\u2019istituto di credito o della societ\\u00e0 di leasing che ne gestisce l\\u2019uso (di seguito \\u201cimpresa in leasing\\u201d), l'agevolazione \\u00e8 pari al 35% del totale ammissibile delle spese per l'investimento, con un tetto di 100.000 euro per le microimprese e di 350.000 euro per le piccole e medie imprese. Inoltre, per le microimprese, l'agevolazione \\u00e8 in forma di sovvenzione, mentre per le piccole e medie imprese \\u00e8 in forma di prestito agevolato. \\n\\nPer gli investimenti compresi tra 100.000 e 300.000 euro, l'agevolazione \\u00e8 pari al 25% del totale ammissibile delle spese per l'investimento, con un tetto di 200.000 euro per le microimprese e di 600.000 euro per le piccole e medie imprese. Per le imprese esercenti l\\u2019attivit\\u00e0 in locali non propri (di seguito \\u201cimpresa in affitto\\u201d) e per le imprese esercenti l\\u2019attivit\\u00e0 in locali propriet\\u00e0 dell\\u2019istituto di credito o della societ\\u00e0 di leasing che ne gestisce l\\u2019uso (di seguito \\u201cimpresa in leasing\\u201d), l'agevolazione \\u00e8 pari al 30% del totale ammissibile delle spese per l'investimento, con un tetto di 200.000 euro per le microimprese e di 650.000 euro per le piccole e medie imprese. Inoltre, per le microimprese, l'agevolazione \\u00e8 in forma di sovvenzione, mentre per le piccole e medie imprese \\u00e8 in forma di prestito agevolato. \\n\\nPer gli investimenti compresi tra 300.000 e 1.000.000 euro, l'agevolazione \\u00e8 pari al 20% del totale ammissibile delle spese per l'investimento, con un tetto di 500.000 euro per le microimprese e 1.500.000 euro per le piccole e medie imprese. Per le microimprese, l'agevolazione \\u00e8 in forma di sovvenzione, mentre per le piccole e medie imprese \\u00e8 in forma di prestito agevolato. \\n\\nPer gli investimenti compresi tra 1.000.000 e 5.000.000 euro, l'agevolazione \\u00e8 pari al 15% del totale ammissibile delle spese per l'investimento, con un tetto di 1.500.000 euro per le microimprese e 5.000.000 euro per le piccole e medie imprese. Per le microimprese, l'agevolazione \\u00e8 in forma di sovvenzione, mentre per le piccole e medie imprese \\u00e8 in forma di prestito agevolato. \\n\\nPer gli investimenti compresi tra 5.000.000 e 10.000.000 euro, l'agevolazione \\u00e8 pari al 10% del totale ammissibile delle spese per l'investimento, con un tetto di 5.000.000 euro per le microimprese e 10.000.000 euro per le piccole e medie imprese. Per le microimprese, l'agevolazione \\u00e8 in forma di sovvenzione, mentre per le piccole e medie imprese \\u00e8 in forma di prestito agevolato. \\n\\nPer gli investimenti compresi tra 10.000.000 e 20.000.000 euro, l'agevolazione \\u00e8 pari al 5% del totale ammissibile delle spese per l'investimento, con un tetto di 10.000.000 euro per le microimprese e 20.000.000 euro per le piccole e medie imprese. Per le microimprese, l'agevolazione \\u00e8 in forma di sovven\",\n",
            "  \"index\": 0,\n",
            "  \"logprobs\": null,\n",
            "  \"finish_reason\": \"length\"\n",
            "}]\n"
          ]
        }
      ]
    },
    {
      "cell_type": "markdown",
      "source": [
        "Qui ho provato a fare la domanda senza fare riferimento al documento per vedere cosa mi rispondesse e ovvimanente mi restituisce risposte generiche sugli investimenti."
      ],
      "metadata": {
        "id": "sxH5P8Sg7lep"
      }
    },
    {
      "cell_type": "code",
      "source": [
        "print(client['choices'][0]['text'])"
      ],
      "metadata": {
        "colab": {
          "base_uri": "https://localhost:8080/"
        },
        "id": "x3xQBctKR5Qo",
        "outputId": "75561020-d51d-4130-b4a5-1969e5596992"
      },
      "execution_count": null,
      "outputs": [
        {
          "output_type": "stream",
          "name": "stdout",
          "text": [
            " Per le iniziative in continuità con imprese pre-esistenti, l'agevolazione prevista è pari al 30% del totale ammissibile delle spese per l'investimento, con un tetto di 100.000 euro per le microimpres e e di 300.000 euro per le piccole e medie imprese. Per le imprese esercenti l’attività in locali non propri (di seguito “impresa in affitto”) e per le imprese esercenti l’attività in locali proprietà dell’istituto di credito o della società di leasing che ne gestisce l’uso (di seguito “impresa in leasing”), l'agevolazione è pari al 35% del totale ammissibile delle spese per l'investimento, con un tetto di 100.000 euro per le microimprese e di 350.000 euro per le piccole e medie imprese. Inoltre, per le microimprese, l'agevolazione è in forma di sovvenzione, mentre per le piccole e medie imprese è in forma di prestito agevolato. \n",
            "\n",
            "Per gli investimenti compresi tra 100.000 e 300.000 euro, l'agevolazione è pari al 25% del totale ammissibile delle spese per l'investimento, con un tetto di 200.000 euro per le microimprese e di 600.000 euro per le piccole e medie imprese. Per le imprese esercenti l’attività in locali non propri (di seguito “impresa in affitto”) e per le imprese esercenti l’attività in locali proprietà dell’istituto di credito o della società di leasing che ne gestisce l’uso (di seguito “impresa in leasing”), l'agevolazione è pari al 30% del totale ammissibile delle spese per l'investimento, con un tetto di 200.000 euro per le microimprese e di 650.000 euro per le piccole e medie imprese. Inoltre, per le microimprese, l'agevolazione è in forma di sovvenzione, mentre per le piccole e medie imprese è in forma di prestito agevolato. \n",
            "\n",
            "Per gli investimenti compresi tra 300.000 e 1.000.000 euro, l'agevolazione è pari al 20% del totale ammissibile delle spese per l'investimento, con un tetto di 500.000 euro per le microimprese e 1.500.000 euro per le piccole e medie imprese. Per le microimprese, l'agevolazione è in forma di sovvenzione, mentre per le piccole e medie imprese è in forma di prestito agevolato. \n",
            "\n",
            "Per gli investimenti compresi tra 1.000.000 e 5.000.000 euro, l'agevolazione è pari al 15% del totale ammissibile delle spese per l'investimento, con un tetto di 1.500.000 euro per le microimprese e 5.000.000 euro per le piccole e medie imprese. Per le microimprese, l'agevolazione è in forma di sovvenzione, mentre per le piccole e medie imprese è in forma di prestito agevolato. \n",
            "\n",
            "Per gli investimenti compresi tra 5.000.000 e 10.000.000 euro, l'agevolazione è pari al 10% del totale ammissibile delle spese per l'investimento, con un tetto di 5.000.000 euro per le microimprese e 10.000.000 euro per le piccole e medie imprese. Per le microimprese, l'agevolazione è in forma di sovvenzione, mentre per le piccole e medie imprese è in forma di prestito agevolato. \n",
            "\n",
            "Per gli investimenti compresi tra 10.000.000 e 20.000.000 euro, l'agevolazione è pari al 5% del totale ammissibile delle spese per l'investimento, con un tetto di 10.000.000 euro per le microimprese e 20.000.000 euro per le piccole e medie imprese. Per le microimprese, l'agevolazione è in forma di sovven\n"
          ]
        }
      ]
    },
    {
      "cell_type": "markdown",
      "source": [
        "Qui ho provato a fare una domanda dove la completion ovvero la risposta al prompt nel dataset non è stata \"migliorata\" da text-davinci-003"
      ],
      "metadata": {
        "id": "mgivIUXE8sf-"
      }
    },
    {
      "cell_type": "code",
      "source": [
        "import openai\n",
        "\n",
        "prompt_text = f\"Generami 10 domande simili a questa {fine_tuning_dataset.prompt[13]}\"\n",
        "\n",
        "response = openai.ChatCompletion.create(\n",
        "    model=\"gpt-3.5-turbo\",\n",
        "    messages=[\n",
        "        {\"role\": \"system\", \"content\": \"You are a helpful assistant.\"},\n",
        "        {\"role\": \"user\", \"content\": prompt_text},\n",
        "    ],\n",
        ")\n",
        "\n",
        "print(response['choices'][0]['message']['content'].strip())\n"
      ],
      "metadata": {
        "colab": {
          "base_uri": "https://localhost:8080/"
        },
        "id": "Ae05XUFBeOnJ",
        "outputId": "6a2f338c-d4bc-40d4-c2f0-bab1fa2397cb"
      },
      "execution_count": null,
      "outputs": [
        {
          "output_type": "stream",
          "name": "stdout",
          "text": [
            "1. Quali sono i requisiti necessari per accedere all'agevolazione prevista nell'Avviso?\n",
            "2. Quali documenti sono richiesti per presentare la domanda di agevolazione?\n",
            "3. C'è una scadenza per presentare la domanda di agevolazione?\n",
            "4. Quali sono i criteri di valutazione utilizzati per selezionare i beneficiari dell'agevolazione?\n",
            "5. Qual è l'importo massimo dell'agevolazione che può essere ottenuto?\n",
            "6. Quali sono le tipologie di investimenti ammissibili per ottenere l'agevolazione?\n",
            "7. Qual è la durata dell'agevolazione una volta ottenuta?\n",
            "8. Quali sono gli obblighi e gli adempimenti che i beneficiari dell'agevolazione devono rispettare?\n",
            "9. C'è la possibilità di ricevere un'anticipazione dell'agevolazione durante il processo di valutazione della domanda?\n",
            "10. Quali sono le procedure e i tempi previsti per la comunicazione dell'esito della domanda di agevolazione?\n"
          ]
        }
      ]
    },
    {
      "cell_type": "code",
      "source": [
        "import time\n",
        "import openai\n",
        "\n",
        "domande_generate = [\n",
        "    \"Quali sono i requisiti necessari per accedere all'agevolazione prevista nell'Avviso? in riferimento al documento: 'Aiuti agli Investimenti delle Piccole e Medie Imprese (Titolo II Capo 3 Reg_ Regionale 17_2014)_br ___br __.pdf'\",\n",
        "    \"Quali documenti sono richiesti per presentare la domanda di agevolazione? in riferimento al documento: 'Aiuti agli Investimenti delle Piccole e Medie Imprese (Titolo II Capo 3 Reg_ Regionale 17_2014)_br ___br __.pdf'\",\n",
        "    \"C'è una scadenza per presentare la domanda di agevolazione? in riferimento al documento: 'Aiuti agli Investimenti delle Piccole e Medie Imprese (Titolo II Capo 3 Reg_ Regionale 17_2014)_br ___br __.pdf'\",\n",
        "    \"Quali sono i criteri di valutazione utilizzati per selezionare i beneficiari dell'agevolazione? in riferimento al documento: 'Aiuti agli Investimenti delle Piccole e Medie Imprese (Titolo II Capo 3 Reg_ Regionale 17_2014)_br ___br __.pdf'\",\n",
        "    \"Qual è l'importo massimo dell'agevolazione che può essere ottenuto? in riferimento al documento: 'Aiuti agli Investimenti delle Piccole e Medie Imprese (Titolo II Capo 3 Reg_ Regionale 17_2014)_br ___br __.pdf'\",\n",
        "    \"Quali sono le tipologie di investimenti ammissibili per ottenere l'agevolazione? in riferimento al documento: 'Aiuti agli Investimenti delle Piccole e Medie Imprese (Titolo II Capo 3 Reg_ Regionale 17_2014)_br ___br __.pdf'\",\n",
        "    \"Qual è la durata dell'agevolazione una volta ottenuta? in riferimento al documento: 'Aiuti agli Investimenti delle Piccole e Medie Imprese (Titolo II Capo 3 Reg_ Regionale 17_2014)_br ___br __.pdf'\",\n",
        "    \"Quali sono gli obblighi e gli adempimenti che i beneficiari dell'agevolazione devono rispettare? in riferimento al documento: 'Aiuti agli Investimenti delle Piccole e Medie Imprese (Titolo II Capo 3 Reg_ Regionale 17_2014)_br ___br __.pdf'\",\n",
        "    \"C'è la possibilità di ricevere un'anticipazione dell'agevolazione durante il processo di valutazione della domanda? in riferimento al documento: 'Aiuti agli Investimenti delle Piccole e Medie Imprese (Titolo II Capo 3 Reg_ Regionale 17_2014)_br ___br __.pdf'\",\n",
        "    \"Quali sono le procedure e i tempi previsti per la comunicazione dell'esito della domanda di agevolazione? in riferimento al documento: 'Aiuti agli Investimenti delle Piccole e Medie Imprese (Titolo II Capo 3 Reg_ Regionale 17_2014)_br ___br __.pdf'\"\n",
        "]\n",
        "\n",
        "risposte_generate = []\n",
        "for domanda in domande_generate:\n",
        "    client = openai.Completion.create(\n",
        "        engine=\"ft:davinci-002:links:test-signorile:8MHkSMB0\",\n",
        "        prompt=domanda,\n",
        "        max_tokens=1024,\n",
        "        n=1,\n",
        "        temperature=0.5,\n",
        "        frequency_penalty=1\n",
        "    )\n",
        "    risposta = client['choices'][0]['text'].strip()\n",
        "    risposte_generate.append(risposta)\n",
        "    time.sleep(5)"
      ],
      "metadata": {
        "id": "Mo9Kk31kfcrt"
      },
      "execution_count": 20,
      "outputs": []
    },
    {
      "cell_type": "code",
      "source": [
        "df = pd.DataFrame(list(zip(domande_generate, risposte_generate)), columns=['Domanda', 'Risposta'])\n",
        "\n",
        "df.to_csv(\"risposte_generate.csv\", index=False, encoding=\"utf-8\")\n",
        "\n",
        "print(\"Risposte salvate su disco come file CSV con successo.\")"
      ],
      "metadata": {
        "colab": {
          "base_uri": "https://localhost:8080/"
        },
        "id": "XwAg8SGGcIya",
        "outputId": "c3c78779-73d3-4b16-a875-a6b1161565c2"
      },
      "execution_count": 21,
      "outputs": [
        {
          "output_type": "stream",
          "name": "stdout",
          "text": [
            "Risposte salvate su disco come file CSV con successo.\n"
          ]
        }
      ]
    },
    {
      "cell_type": "code",
      "source": [
        "df"
      ],
      "metadata": {
        "colab": {
          "base_uri": "https://localhost:8080/",
          "height": 3526
        },
        "id": "Z7VEyfFxhe1q",
        "outputId": "cae3d010-ca70-4caa-be95-7d99f019dd87"
      },
      "execution_count": 22,
      "outputs": [
        {
          "output_type": "execute_result",
          "data": {
            "text/plain": [
              "                                             Domanda  \\\n",
              "0  Quali sono i requisiti necessari per accedere ...   \n",
              "1  Quali documenti sono richiesti per presentare ...   \n",
              "2  C'è una scadenza per presentare la domanda di ...   \n",
              "3  Quali sono i criteri di valutazione utilizzati...   \n",
              "4  Qual è l'importo massimo dell'agevolazione che...   \n",
              "5  Quali sono le tipologie di investimenti ammiss...   \n",
              "6  Qual è la durata dell'agevolazione una volta o...   \n",
              "7  Quali sono gli obblighi e gli adempimenti che ...   \n",
              "8  C'è la possibilità di ricevere un'anticipazion...   \n",
              "9  Quali sono le procedure e i tempi previsti per...   \n",
              "\n",
              "                                            Risposta  \n",
              "0  di Regione Campania, si precisa che l'agevolaz...  \n",
              "1  Per presentare la domanda di agevolazione, le ...  \n",
              "2  Sì, la scadenza è il 30 giugno 2016. Per prese...  \n",
              "3  I criteri di valutazione utilizzati per selezi...  \n",
              "4  Aiuti agli Investimenti delle Piccole e Medie ...  \n",
              "5  Si possono ottenere agevolazioni per investime...  \n",
              "6  Le agevolazioni sono erogate in conto interess...  \n",
              "7  I beneficiari dell'agevolazione devono rispett...  \n",
              "8  No, l'anticipazione dell'agevolazione non è pr...  \n",
              "9  Le domande di agevolazione dovranno essere ino...  "
            ],
            "text/html": [
              "\n",
              "  <div id=\"df-db119df7-cf20-49fb-a2c3-4680a494b012\" class=\"colab-df-container\">\n",
              "    <div>\n",
              "<style scoped>\n",
              "    .dataframe tbody tr th:only-of-type {\n",
              "        vertical-align: middle;\n",
              "    }\n",
              "\n",
              "    .dataframe tbody tr th {\n",
              "        vertical-align: top;\n",
              "    }\n",
              "\n",
              "    .dataframe thead th {\n",
              "        text-align: right;\n",
              "    }\n",
              "</style>\n",
              "<table border=\"1\" class=\"dataframe\">\n",
              "  <thead>\n",
              "    <tr style=\"text-align: right;\">\n",
              "      <th></th>\n",
              "      <th>Domanda</th>\n",
              "      <th>Risposta</th>\n",
              "    </tr>\n",
              "  </thead>\n",
              "  <tbody>\n",
              "    <tr>\n",
              "      <th>0</th>\n",
              "      <td>Quali sono i requisiti necessari per accedere ...</td>\n",
              "      <td>di Regione Campania, si precisa che l'agevolaz...</td>\n",
              "    </tr>\n",
              "    <tr>\n",
              "      <th>1</th>\n",
              "      <td>Quali documenti sono richiesti per presentare ...</td>\n",
              "      <td>Per presentare la domanda di agevolazione, le ...</td>\n",
              "    </tr>\n",
              "    <tr>\n",
              "      <th>2</th>\n",
              "      <td>C'è una scadenza per presentare la domanda di ...</td>\n",
              "      <td>Sì, la scadenza è il 30 giugno 2016. Per prese...</td>\n",
              "    </tr>\n",
              "    <tr>\n",
              "      <th>3</th>\n",
              "      <td>Quali sono i criteri di valutazione utilizzati...</td>\n",
              "      <td>I criteri di valutazione utilizzati per selezi...</td>\n",
              "    </tr>\n",
              "    <tr>\n",
              "      <th>4</th>\n",
              "      <td>Qual è l'importo massimo dell'agevolazione che...</td>\n",
              "      <td>Aiuti agli Investimenti delle Piccole e Medie ...</td>\n",
              "    </tr>\n",
              "    <tr>\n",
              "      <th>5</th>\n",
              "      <td>Quali sono le tipologie di investimenti ammiss...</td>\n",
              "      <td>Si possono ottenere agevolazioni per investime...</td>\n",
              "    </tr>\n",
              "    <tr>\n",
              "      <th>6</th>\n",
              "      <td>Qual è la durata dell'agevolazione una volta o...</td>\n",
              "      <td>Le agevolazioni sono erogate in conto interess...</td>\n",
              "    </tr>\n",
              "    <tr>\n",
              "      <th>7</th>\n",
              "      <td>Quali sono gli obblighi e gli adempimenti che ...</td>\n",
              "      <td>I beneficiari dell'agevolazione devono rispett...</td>\n",
              "    </tr>\n",
              "    <tr>\n",
              "      <th>8</th>\n",
              "      <td>C'è la possibilità di ricevere un'anticipazion...</td>\n",
              "      <td>No, l'anticipazione dell'agevolazione non è pr...</td>\n",
              "    </tr>\n",
              "    <tr>\n",
              "      <th>9</th>\n",
              "      <td>Quali sono le procedure e i tempi previsti per...</td>\n",
              "      <td>Le domande di agevolazione dovranno essere ino...</td>\n",
              "    </tr>\n",
              "  </tbody>\n",
              "</table>\n",
              "</div>\n",
              "    <div class=\"colab-df-buttons\">\n",
              "\n",
              "  <div class=\"colab-df-container\">\n",
              "    <button class=\"colab-df-convert\" onclick=\"convertToInteractive('df-db119df7-cf20-49fb-a2c3-4680a494b012')\"\n",
              "            title=\"Convert this dataframe to an interactive table.\"\n",
              "            style=\"display:none;\">\n",
              "\n",
              "  <svg xmlns=\"http://www.w3.org/2000/svg\" height=\"24px\" viewBox=\"0 -960 960 960\">\n",
              "    <path d=\"M120-120v-720h720v720H120Zm60-500h600v-160H180v160Zm220 220h160v-160H400v160Zm0 220h160v-160H400v160ZM180-400h160v-160H180v160Zm440 0h160v-160H620v160ZM180-180h160v-160H180v160Zm440 0h160v-160H620v160Z\"/>\n",
              "  </svg>\n",
              "    </button>\n",
              "\n",
              "  <style>\n",
              "    .colab-df-container {\n",
              "      display:flex;\n",
              "      gap: 12px;\n",
              "    }\n",
              "\n",
              "    .colab-df-convert {\n",
              "      background-color: #E8F0FE;\n",
              "      border: none;\n",
              "      border-radius: 50%;\n",
              "      cursor: pointer;\n",
              "      display: none;\n",
              "      fill: #1967D2;\n",
              "      height: 32px;\n",
              "      padding: 0 0 0 0;\n",
              "      width: 32px;\n",
              "    }\n",
              "\n",
              "    .colab-df-convert:hover {\n",
              "      background-color: #E2EBFA;\n",
              "      box-shadow: 0px 1px 2px rgba(60, 64, 67, 0.3), 0px 1px 3px 1px rgba(60, 64, 67, 0.15);\n",
              "      fill: #174EA6;\n",
              "    }\n",
              "\n",
              "    .colab-df-buttons div {\n",
              "      margin-bottom: 4px;\n",
              "    }\n",
              "\n",
              "    [theme=dark] .colab-df-convert {\n",
              "      background-color: #3B4455;\n",
              "      fill: #D2E3FC;\n",
              "    }\n",
              "\n",
              "    [theme=dark] .colab-df-convert:hover {\n",
              "      background-color: #434B5C;\n",
              "      box-shadow: 0px 1px 3px 1px rgba(0, 0, 0, 0.15);\n",
              "      filter: drop-shadow(0px 1px 2px rgba(0, 0, 0, 0.3));\n",
              "      fill: #FFFFFF;\n",
              "    }\n",
              "  </style>\n",
              "\n",
              "    <script>\n",
              "      const buttonEl =\n",
              "        document.querySelector('#df-db119df7-cf20-49fb-a2c3-4680a494b012 button.colab-df-convert');\n",
              "      buttonEl.style.display =\n",
              "        google.colab.kernel.accessAllowed ? 'block' : 'none';\n",
              "\n",
              "      async function convertToInteractive(key) {\n",
              "        const element = document.querySelector('#df-db119df7-cf20-49fb-a2c3-4680a494b012');\n",
              "        const dataTable =\n",
              "          await google.colab.kernel.invokeFunction('convertToInteractive',\n",
              "                                                    [key], {});\n",
              "        if (!dataTable) return;\n",
              "\n",
              "        const docLinkHtml = 'Like what you see? Visit the ' +\n",
              "          '<a target=\"_blank\" href=https://colab.research.google.com/notebooks/data_table.ipynb>data table notebook</a>'\n",
              "          + ' to learn more about interactive tables.';\n",
              "        element.innerHTML = '';\n",
              "        dataTable['output_type'] = 'display_data';\n",
              "        await google.colab.output.renderOutput(dataTable, element);\n",
              "        const docLink = document.createElement('div');\n",
              "        docLink.innerHTML = docLinkHtml;\n",
              "        element.appendChild(docLink);\n",
              "      }\n",
              "    </script>\n",
              "  </div>\n",
              "\n",
              "\n",
              "<div id=\"df-1cef027c-1efd-4b57-892c-bd1d47a2c195\">\n",
              "  <button class=\"colab-df-quickchart\" onclick=\"quickchart('df-1cef027c-1efd-4b57-892c-bd1d47a2c195')\"\n",
              "            title=\"Suggest charts\"\n",
              "            style=\"display:none;\">\n",
              "\n",
              "<svg xmlns=\"http://www.w3.org/2000/svg\" height=\"24px\"viewBox=\"0 0 24 24\"\n",
              "     width=\"24px\">\n",
              "    <g>\n",
              "        <path d=\"M19 3H5c-1.1 0-2 .9-2 2v14c0 1.1.9 2 2 2h14c1.1 0 2-.9 2-2V5c0-1.1-.9-2-2-2zM9 17H7v-7h2v7zm4 0h-2V7h2v10zm4 0h-2v-4h2v4z\"/>\n",
              "    </g>\n",
              "</svg>\n",
              "  </button>\n",
              "\n",
              "<style>\n",
              "  .colab-df-quickchart {\n",
              "      --bg-color: #E8F0FE;\n",
              "      --fill-color: #1967D2;\n",
              "      --hover-bg-color: #E2EBFA;\n",
              "      --hover-fill-color: #174EA6;\n",
              "      --disabled-fill-color: #AAA;\n",
              "      --disabled-bg-color: #DDD;\n",
              "  }\n",
              "\n",
              "  [theme=dark] .colab-df-quickchart {\n",
              "      --bg-color: #3B4455;\n",
              "      --fill-color: #D2E3FC;\n",
              "      --hover-bg-color: #434B5C;\n",
              "      --hover-fill-color: #FFFFFF;\n",
              "      --disabled-bg-color: #3B4455;\n",
              "      --disabled-fill-color: #666;\n",
              "  }\n",
              "\n",
              "  .colab-df-quickchart {\n",
              "    background-color: var(--bg-color);\n",
              "    border: none;\n",
              "    border-radius: 50%;\n",
              "    cursor: pointer;\n",
              "    display: none;\n",
              "    fill: var(--fill-color);\n",
              "    height: 32px;\n",
              "    padding: 0;\n",
              "    width: 32px;\n",
              "  }\n",
              "\n",
              "  .colab-df-quickchart:hover {\n",
              "    background-color: var(--hover-bg-color);\n",
              "    box-shadow: 0 1px 2px rgba(60, 64, 67, 0.3), 0 1px 3px 1px rgba(60, 64, 67, 0.15);\n",
              "    fill: var(--button-hover-fill-color);\n",
              "  }\n",
              "\n",
              "  .colab-df-quickchart-complete:disabled,\n",
              "  .colab-df-quickchart-complete:disabled:hover {\n",
              "    background-color: var(--disabled-bg-color);\n",
              "    fill: var(--disabled-fill-color);\n",
              "    box-shadow: none;\n",
              "  }\n",
              "\n",
              "  .colab-df-spinner {\n",
              "    border: 2px solid var(--fill-color);\n",
              "    border-color: transparent;\n",
              "    border-bottom-color: var(--fill-color);\n",
              "    animation:\n",
              "      spin 1s steps(1) infinite;\n",
              "  }\n",
              "\n",
              "  @keyframes spin {\n",
              "    0% {\n",
              "      border-color: transparent;\n",
              "      border-bottom-color: var(--fill-color);\n",
              "      border-left-color: var(--fill-color);\n",
              "    }\n",
              "    20% {\n",
              "      border-color: transparent;\n",
              "      border-left-color: var(--fill-color);\n",
              "      border-top-color: var(--fill-color);\n",
              "    }\n",
              "    30% {\n",
              "      border-color: transparent;\n",
              "      border-left-color: var(--fill-color);\n",
              "      border-top-color: var(--fill-color);\n",
              "      border-right-color: var(--fill-color);\n",
              "    }\n",
              "    40% {\n",
              "      border-color: transparent;\n",
              "      border-right-color: var(--fill-color);\n",
              "      border-top-color: var(--fill-color);\n",
              "    }\n",
              "    60% {\n",
              "      border-color: transparent;\n",
              "      border-right-color: var(--fill-color);\n",
              "    }\n",
              "    80% {\n",
              "      border-color: transparent;\n",
              "      border-right-color: var(--fill-color);\n",
              "      border-bottom-color: var(--fill-color);\n",
              "    }\n",
              "    90% {\n",
              "      border-color: transparent;\n",
              "      border-bottom-color: var(--fill-color);\n",
              "    }\n",
              "  }\n",
              "</style>\n",
              "\n",
              "  <script>\n",
              "    async function quickchart(key) {\n",
              "      const quickchartButtonEl =\n",
              "        document.querySelector('#' + key + ' button');\n",
              "      quickchartButtonEl.disabled = true;  // To prevent multiple clicks.\n",
              "      quickchartButtonEl.classList.add('colab-df-spinner');\n",
              "      try {\n",
              "        const charts = await google.colab.kernel.invokeFunction(\n",
              "            'suggestCharts', [key], {});\n",
              "      } catch (error) {\n",
              "        console.error('Error during call to suggestCharts:', error);\n",
              "      }\n",
              "      quickchartButtonEl.classList.remove('colab-df-spinner');\n",
              "      quickchartButtonEl.classList.add('colab-df-quickchart-complete');\n",
              "    }\n",
              "    (() => {\n",
              "      let quickchartButtonEl =\n",
              "        document.querySelector('#df-1cef027c-1efd-4b57-892c-bd1d47a2c195 button');\n",
              "      quickchartButtonEl.style.display =\n",
              "        google.colab.kernel.accessAllowed ? 'block' : 'none';\n",
              "    })();\n",
              "  </script>\n",
              "</div>\n",
              "    </div>\n",
              "  </div>\n"
            ]
          },
          "metadata": {},
          "execution_count": 22
        }
      ]
    },
    {
      "cell_type": "markdown",
      "source": [
        "#Fine-Tuning con 6 epochs analisi\n",
        "Ho provato ad riaddestrare il modello con 6 epoche però in questo caso con solo i prompt e la completion composta da tutti i chunk non migliorati da text-davinci-003"
      ],
      "metadata": {
        "id": "rdDxrYwtcLU4"
      }
    },
    {
      "cell_type": "markdown",
      "source": [
        "Confronto le due riposte con i modelli differenti,\n",
        "per primo faccio la domanda al modello addestrato con 4 epoche e completion migliorata"
      ],
      "metadata": {
        "id": "32MmJkCSoJnL"
      }
    },
    {
      "cell_type": "code",
      "source": [
        "import openai\n",
        "\n",
        "client = openai.Completion.create(\n",
        "    engine=\"ft:davinci-002:links:test-signorile:8MHkSMB0\",\n",
        "    prompt=\"Quali sono le modalità per ottenere l'agevolazione prevista dall'Avviso? in riferimento al documento: 'Aiuti agli Investimenti delle Piccole e Medie Imprese (Titolo II Capo 3 Reg_ Regionale 17_2014)_br ___br __.pdf'\",\n",
        "    max_tokens=1024,\n",
        "    n=1,\n",
        "    stop=None,\n",
        "    temperature=0.6\n",
        ")\n",
        "rispostad13_t0 = client['choices'][0]['text'].strip()"
      ],
      "metadata": {
        "id": "lZIXEiGBzgfY"
      },
      "execution_count": null,
      "outputs": []
    },
    {
      "cell_type": "code",
      "source": [
        "rispostad13_t0"
      ],
      "metadata": {
        "colab": {
          "base_uri": "https://localhost:8080/",
          "height": 309
        },
        "id": "dTc_wKZvzwah",
        "outputId": "0428f66c-2134-4b44-b01a-420e65d717ca"
      },
      "execution_count": null,
      "outputs": [
        {
          "output_type": "execute_result",
          "data": {
            "text/plain": [
              "\"L'agevolazione è erogata in forma di contributo a fondo perduto a seguito di verifica di regolarità del finanziamento erogato e di conformità dei costi ammissibili all'Avviso. L'importo del contributo erogato non potrà essere superiore all'importo dei costi ammissibili erogati dell'importo del finanziamento preso in concessione. La Regione potrà concedere contributi in forma di garanzia a favore del sistema banche per la concessione di finanziamenti a tasso agevolato alle PMI che risulteranno finanziabili a seguito dell'istruttoria di regolarità amministrativa e tecnica. \\n\\nPossono presentare domanda di contributo le PMI che abbiano al proprio interno, come soggetto proponente, almeno un imprenditore individuale iscritto alla Camera di Commercio, un socio lavoratore di una cooperativa di lavoro associato, o un socio lavoratore in una società cooperativa di progettazione. \\n\\nLe domande di contribuzione devono essere presentate unitamente all'istanza di accesso al finanziamento e successivamente all'atto della presentazione dell'istanza di accesso a sistema, utilizzando il modulo predisposto sul sito www.regione.puglia.it, sezione “Aiuti alle imprese”, con la procedura “Aiuti alle imprese - Titolo II Capo 3 Regolamento regionale 17/2014”. \\n\\nPer ottenere l'agevolazione prevista dall'Avviso, le PMI dovranno inoltrare istanza di accesso al finanziamento, al sistema “Sistema Puglia”, anche attraverso la propria area riservata, entro 120 giorni dalla data di presentazione della domanda di accesso all'agevolazione e successivamente all'atto della presentazione dell'istanza di accesso a sistema. \\n\\nLe domande dovranno essere presentate dal soggetto proponente, unitamente all'istanza di accesso al finanziamento da parte delle PMI, ai sensi dell'Avviso e delle relative istruzioni operative. \\n\\nIscrizioni alla Camusso, associazioni di categoria ed organismi di rappresentanza del territorio potranno presentare un unico progetto di intervento, presentato dai soggetti imprenditoriali beneficiari dell'intervento, nel rispetto dei requisiti di accesso e di ammissibilità definiti nell'Avviso. \\n\\nPer maggiori dettagli, si rimanda all'Avviso pubblicato sul BURP n. 69 del 19/09/2019 edizione speciale e disponibile sul sito www.regione.puglia.it, sezione “Aiuti alle imprese”, con la procedura “Aiuti alle imprese - Titolo II Capo 3 Regolamento regionale 17/2019”.  Le domande di accesso al finanziamento, eventualmente presentate in via preliminare, non dovranno essere inoltrate nuovamente a seguito dell'Avviso. \\n\\nPer ogni informazione, è possibile contattare la referente di settore, sig.ra Francesca Baratta, al numero 080 554 55 14, oppure inviare una mail a [email\\xa0protected] visitando la pagina www.regione.puglia.it, sezione “Aiuti alle imprese”, con la procedura “Aiuti alle imprese - Titolo II Capo 3 Regolamento regionale 17/2019”. \\n\\nPUGLIA, 19/09/2019 - 25/10/2019 - 10:30\\n\\nUfficio Stampa\\n\\nwww.regione.puglia.it\\n\\nwww.sistema.puglia.it\\n\\nwww.sistema.puglia.it/agevolazioniperlafabbrica\\n\\nwww.sistema.puglia.it/investinpuglia\\n\\nwww.facebook.com/sistema.puglia\\n\\nwww.youtube.com/sistema.puglia\\n\\nwww.twitter.com/sistema_puglia\\n\\nwww.linkedin.com/company/sistema-puglia\\n\\nwww.flickr.com/photos/sistema_puglia\\n\\nwww.instagram.com/sistema_puglia\\n\\nwww.sistema.puglia.it/agevolazioniperlafabbrica\\n\\nwww.sistema.puglia.it/finanziaperilfuturo\\n\\nwww.sistema.puglia.it/sistema/agevolazioni-2020\\n\\nwww.sistema.puglia.it/sistema/agevolazione-innovazione\\n\\nwww.sistema.puglia.it/sistema/agevolazioni-2020/aiuti-investimenti\\n\\nwww.sistema.pug\""
            ],
            "application/vnd.google.colaboratory.intrinsic+json": {
              "type": "string"
            }
          },
          "metadata": {},
          "execution_count": 15
        }
      ]
    },
    {
      "cell_type": "markdown",
      "source": [
        "E poi riprovo con la stessa domanda posta al modello addestrato con 6 epoche e completion non migliorata"
      ],
      "metadata": {
        "id": "XLKsodieooQf"
      }
    },
    {
      "cell_type": "code",
      "source": [
        "import openai\n",
        "\n",
        "client = openai.Completion.create(\n",
        "    engine=\"ft:davinci-002:links:test-signorile:8PTwTi0r\",\n",
        "    prompt=\"Quali sono le modalità per ottenere l'agevolazione prevista dall'Avviso? in riferimento al documento: 'Aiuti agli Investimenti delle Piccole e Medie Imprese (Titolo II Capo 3 Reg_ Regionale 17_2014)_br ___br __.pdf'\",\n",
        "    max_tokens=1024,\n",
        "    n=1,\n",
        "    stop=None,\n",
        "    temperature=0.6\n",
        ")\n",
        "rispostad13 = client['choices'][0]['text'].strip()\n",
        "print(rispostad13)"
      ],
      "metadata": {
        "id": "fSHs5wvmctxW"
      },
      "execution_count": null,
      "outputs": []
    },
    {
      "cell_type": "markdown",
      "source": [
        "Osservo che la risposta generata segue la struttura del chunk, ma la risposta risulta parecchio adeguata."
      ],
      "metadata": {
        "id": "sufLcJhBpSRf"
      }
    },
    {
      "cell_type": "code",
      "source": [
        "rispostad13"
      ],
      "metadata": {
        "colab": {
          "base_uri": "https://localhost:8080/",
          "height": 255
        },
        "id": "pFCBWWCKd50u",
        "outputId": "fac3593f-aa3d-4d00-9663-53a3220219e5"
      },
      "execution_count": null,
      "outputs": [
        {
          "output_type": "execute_result",
          "data": {
            "text/plain": [
              "'05 gennaio  2016 Pag 1 di 2 Centro Servizi Sistema Puglia  www.sistema.puglia.it   Avviso 12/2016 Aiuti agli Investimenti delle  Piccole e Medie  Imprese (Titolo II Capo 3 Reg. Regionale  17/2014)  Le modalità di presentazione delle domande di  agevolazione  sono le seguenti:  a) telematicamente, mediante la compilazione ed il  successivo  invio on line dei moduli messi a disposizione sul sito www.sistema.puglia.it , mediante l’attivazione della procedura “Avviso 12/2016” e della specifica voce “Presenta domanda”;  b) telematicamente, mediante la compilazione ed il  successivo  invio on line dei moduli messi a disposizione sul sito www.sistema.puglia.it , mediante l’attivazione della procedura “Avviso 12/2016” e della specifica voce “Scarica moduli e allegati”, di seguito siglati “BI” ed  “AA” e di quelle  presenti nell’Avviso, in carta semplice, in originale,  pena l’inefficacia degli atti, redatte ai sensi degli  artt. 1340 e 1341 del codice civile e degli artt. 1414  e  1423 codice contratto di societa’ commerciale;  sopraeleggibili  quelle che riportano l’indicazione della procedura di gara ai sensi del D.Lgs.  50/2016 e s.m.i. e dell’Avviso  pubblico del  Soges s.p.a. del 02/10/2019 relativo al  finanziamento “FUSIONI - RISORSE PER LA  CRESCITA”  avente ad oggetto la concessione di agevolazioni  a fondo perduto a sostegno di  operazioni di  fusione  e cessione di ramo d’azienda realizzate da  imprese  di piccole e  medie dimensioni  finalizzate  alla realizzazione di  un’impresa di  medie dimensioni  o di un gruppo di imprese).  D’ufficio  sarà rifiutata  l’ammissione  al procedimento  di domanda  di chi non  abbia provveduto  alla registrazione  telematica  ovvero  a chi abbia  compilato  la domanda  utilizzando  un codice  fiscale  erroneo o di soggetto  giuridico  non ammissibile  o di soggetto  non iscritto  all’Albo  unico  delle Camere  di Commercio  o di soggetto  non titolare  dell’attività  di cui all’art.  2, comma  1, lett. a) del  Regolamento  DPR 9 aprile  2008, n. 59  (Disposizioni  generali  in materia  di codice  fiscale),  salvo  quanto  previsto  dall’art.  11, comma  5, del  D. Lgs.  8 giugno  2001, n.  152, recante  “Attuazione  di alcune  disposizioni  concernenti  il codice  fiscale  di cui al decreto  legislativo  24 febbraio  1997, n.  33, recante  \"Disciplina  del codice  fiscale\" \"che  dispone:  “Per le domande  di cui a questo  provvedimento  relativa  al contributo  alle spese  di iscrizione  all’Albo  unico  delle Camere  di Commercio  è previsto  un contributo  a fondo  perduto  pari ad Euro  200,00. Tale importo sarà  erogato  a titolo  di contributo  direttamente  con l\\'agevolazione  concedente  in concomitanza  con l\\'erogazione  dell\\'agevolazione  stessa nella  misura  non inferiore  a quella  di cui all\\'art.  6 dell\\'Avviso.   05 gennaio  2016 Pag 2 di 2 Centro Servizi Sistema Puglia  www.sistema.puglia.it   I codici  Fiscale  valido  per la presentazione  della domanda  di accesso  all’agevolazione  sono:  a'"
            ],
            "application/vnd.google.colaboratory.intrinsic+json": {
              "type": "string"
            }
          },
          "metadata": {},
          "execution_count": 11
        }
      ]
    },
    {
      "cell_type": "code",
      "source": [
        "import openai\n",
        "\n",
        "client = openai.Completion.create(\n",
        "    engine=\"ft:davinci-002:links:test-signorile:8PTwTi0r\",\n",
        "    prompt=\"Quali sono i requisiti necessari per accedere all'agevolazione prevista nell'Avviso 'Aiuti agli Investimenti delle Piccole e Medie Imprese' ?\",\n",
        "    max_tokens=1024,\n",
        "    n=1,\n",
        "    stop=None,\n",
        "    temperature=0.6\n",
        ")\n",
        "rispostad13_1 = client['choices'][0]['text'].strip()\n",
        "print(rispostad13_1)"
      ],
      "metadata": {
        "id": "5blKr-iNnDck"
      },
      "execution_count": null,
      "outputs": []
    },
    {
      "cell_type": "code",
      "source": [
        "rispostad13_1"
      ],
      "metadata": {
        "colab": {
          "base_uri": "https://localhost:8080/",
          "height": 273
        },
        "id": "hKWMXU9BnYjr",
        "outputId": "1a54c884-77bc-4426-ac42-3b284663effc"
      },
      "execution_count": null,
      "outputs": [
        {
          "output_type": "execute_result",
          "data": {
            "text/plain": [
              "\"Le domande dovranno essere presentate esclusivamente in via telematica all'Ati da costituire, mediante apposito modello messo a disposizione dal sito internet www.sistema.puglia.it/agevolazioni.   Per accedere all'agevolazione, le imprese dovranno rispettare i seguenti requisiti:   a) l’impresa dovrà essere costituita e in attività al momento della presentazione della domanda, senza alcun limite di  età, a condizione che abbia ottenuto la concessione edilizia o il permesso di costruire, con esito positivo, o comunque abbia inoltrato la domanda, o, comunque, abbia assunto  impegni per l’ottenimento della suddetta concessione.  L’età della struttura, misurata in termini di durata dell’attività di impresa a norma del codice Ateco 2007, deve essere pari o inferiore a 5 anni, calcolata a  data di presentazione della domanda di contributo, per l’investimento di cui all’art. 3).  La durata della struttura, misurata in termini di durata dell’attività di impresa a norma del codice Ateco 2007, deve essere pari o inferiore a 10 anni, per l’investimento di  cui all’art. 3).  L’età della struttura e la sua durata, misurate come sopra, non devono risultare peggiori rispetto a quelle dell’unità produttiva gia’ acquisita a norma dell’art. 3 del  D.M. 18/05/2016.  L’età della struttura, misurata in termini di durata dell’attività di impresa a norma del codice Ateco 2007, non deve risultare peggiori rispetto a quella dell’unità  produttiva gia’ acquisita a norma dell’art. 3 del D.M. 18/05/2016, per l’investimento di cui all’art. 3.  Il codice Ateco 2007 deve risultare codificato in almeno il 50% delle attività svolte dall’impresa ai sensi dell’art. 2 del D.M. 18/05/2016, nei 3 (tre) anni  precedenti la presentazione della domanda di contributo.  L'imprenditore che intenda presentare la domanda di contributo, deve aver sostenuto almeno l’80% delle spese di investimento ammissibili di cui all’art. 3 (Investimento  in attivo immaturo) entro la data di presentazione della domanda di contributo.  In caso di domanda presentata da più imprese, anche in forma associata, i beneficiari devono aver sostenuto almeno l’80% delle spese di investimento ammissibili  di cui all’art. 3 (Investimento in attivo immaturo) da ciascuna d’esse.  b) L’impresa deve aver sostenuto, nella fase di progettazione, almeno il 10% dei costi di investimento ammissibili di cui all’art. 3 del D.M. 18/05/2016.  Cosa non previsto dall'Avviso?  Non è ammissibile l'istanza di contributo per investimenti in corso di realizzazione al momento della presentazione della domanda.  Non sono ammissibili investimenti in attivo immaturo relativi a opere edili e/o di urbanizzazione non strettamente necessarie alla realizzazione  dell'investimento in immaturo.  Inoltre, non sono ammissibili i seguenti investimenti:  - opere edili e/o di urbanizzazione non strettamente necessarie alla realizzazione dell’investimento in attivo immaturo;  - acquisto di terreni, fabbricati rurali e fabbricati rurali da destinare ad uso industriale;  - acquisizione di macchinari, impianti e utensileria usati;  - acquisizione di macchinari, impianti e utensileria in leasing finanziario o in comodato d’uso con obbligo di riscatto;  - acquisizione di macchinari, impianti e utensileria per la produzione di energia elettrica da fonti rinnovabili e da\""
            ],
            "application/vnd.google.colaboratory.intrinsic+json": {
              "type": "string"
            }
          },
          "metadata": {},
          "execution_count": 13
        }
      ]
    },
    {
      "cell_type": "code",
      "source": [
        "import openai\n",
        "\n",
        "client = openai.Completion.create(\n",
        "    engine=\"ft:davinci-002:links:test-signorile:8PTwTi0r\",\n",
        "    prompt=fine_tuning_dataset.prompt[4],\n",
        "    max_tokens=1024,\n",
        "    n=1,\n",
        "    stop=None,\n",
        "    temperature=0.5\n",
        ")\n",
        "\n",
        "risposta4_ft2 = client['choices'][0]['text'].strip()"
      ],
      "metadata": {
        "id": "feuIYxs9pyUL"
      },
      "execution_count": null,
      "outputs": []
    },
    {
      "cell_type": "code",
      "source": [
        "fine_tuning_dataset.prompt[4]"
      ],
      "metadata": {
        "colab": {
          "base_uri": "https://localhost:8080/",
          "height": 54
        },
        "id": "-7x2vqi-tLgf",
        "outputId": "ce851f82-5fe5-436c-cca2-d7c68443dd78"
      },
      "execution_count": null,
      "outputs": [
        {
          "output_type": "execute_result",
          "data": {
            "text/plain": [
              "\"Qual è l'agevolazione prevista per gli investimenti compresi tra 50.000 e 100.000 euro per le iniziative in continuità con imprese pre-esistenti? in riferimento al documento: 'Scheda NIDI - Nuove iniziative d'impresa_ Strumento di ingegneria finanziaria.pdf'\""
            ],
            "application/vnd.google.colaboratory.intrinsic+json": {
              "type": "string"
            }
          },
          "metadata": {},
          "execution_count": 21
        }
      ]
    },
    {
      "cell_type": "code",
      "source": [
        "fine_tuning_dataset.completion[4]"
      ],
      "metadata": {
        "colab": {
          "base_uri": "https://localhost:8080/",
          "height": 90
        },
        "id": "-VvKNfj4p_12",
        "outputId": "b76105eb-b740-4018-d577-2dae7c365d1f"
      },
      "execution_count": null,
      "outputs": [
        {
          "output_type": "execute_result",
          "data": {
            "text/plain": [
              "\"Per le iniziative in continuità con imprese pre-esistenti quali: passaggio generazionale, rilevamento di impresa in crisi, rilevamento di impresa confiscata, cooperative sociali assegnatarie di beni immobili confiscati, è possibile prevedere programmi di investimento fino ad € 250.000,00. L'agevolazione, somma di sovvenzione (fondo perduto) e mutuo agevolato, varia al crescere del valore dell’investimento. L'agevolazione per investimenti compresi tra 50.000 e 100.000 euro è pari al 90%: un contributo a fondo perduto pari al 50% del totale degli investimenti agevolati e un prestito rimborsabile pari al 50% del totale degli investimenti agevolati (ridotto al 25% per Compagini Giovanili ed Imprese Femminili).\""
            ],
            "application/vnd.google.colaboratory.intrinsic+json": {
              "type": "string"
            }
          },
          "metadata": {},
          "execution_count": 17
        }
      ]
    },
    {
      "cell_type": "markdown",
      "source": [
        "La risposta a questa domanda risultava anche ambigua nel modello fine-tunato con completion migliorata. Adesso risulta in parte corretta, in quanto manca un pezzo di risposta"
      ],
      "metadata": {
        "id": "opvXZSLhtBCh"
      }
    },
    {
      "cell_type": "code",
      "source": [
        "risposta4_ft2"
      ],
      "metadata": {
        "colab": {
          "base_uri": "https://localhost:8080/",
          "height": 91
        },
        "id": "B2dR4nh-p8Ha",
        "outputId": "b96a65e9-10fc-4845-deeb-ae0942048f2a"
      },
      "execution_count": null,
      "outputs": [
        {
          "output_type": "execute_result",
          "data": {
            "text/plain": [
              "'07 ottobre  2020  Pag 2 di 2 Centro Servizi Sistema Puglia  www.sistema.puglia.it   L’agevolazione è pari al 50% dei costi ammissibili e si articola in un contributo a fondo perduto e in un finanziamento agevolato a tasso agevolato. Per gli investimenti fino a 100.000 euro, per le iniziative in continuità con imprese pre-esistenti, è previsto un finanziamento agevolato a tasso agevolato del 30% della spesa ammissibile, pari a 30.000 euro, a condizione che l’impresa presenti un piano di investimenti per almeno 50.000 euro.   Note:  • Le informazioni contenute nella scheda sono puramente indicative e potrebbero subire variazioni in fase di definizione del progetto.  • Per ulteriori approfondimenti è possibile inviare una e-mail al seguente indirizzo: nidi@pec.sistema.puglia.it  Centro Servizi Sistema Puglia  www.sistema.puglia.it'"
            ],
            "application/vnd.google.colaboratory.intrinsic+json": {
              "type": "string"
            }
          },
          "metadata": {},
          "execution_count": 23
        }
      ]
    },
    {
      "cell_type": "markdown",
      "source": [
        "Ora vado a confrontare un altra domanda che era strutturata con una completion non migliorata con n epoche 4 con il nuovo f.t. con n epoche 6"
      ],
      "metadata": {
        "id": "hc_Za-anwnLl"
      }
    },
    {
      "cell_type": "code",
      "source": [
        "import openai\n",
        "\n",
        "client = openai.Completion.create(\n",
        "    engine=\"ft:davinci-002:links:test-signorile:8MHkSMB0\",\n",
        "    prompt=fine_tuning_dataset.prompt[78],\n",
        "    max_tokens=1024,\n",
        "    n=1,\n",
        "    stop=None,\n",
        "    temperature=0.5\n",
        ")\n",
        "\n",
        "print(client['choices'])"
      ],
      "metadata": {
        "colab": {
          "base_uri": "https://localhost:8080/"
        },
        "id": "JFGuw_dmPgNj",
        "outputId": "3ebb469c-21e8-487c-8da7-c2c8f757f953"
      },
      "execution_count": null,
      "outputs": [
        {
          "output_type": "stream",
          "name": "stdout",
          "text": [
            "[<OpenAIObject at 0x7cc273f4e480> JSON: {\n",
            "  \"text\": \"La Regione Puglia, in collaborazione con i Centri per l'Impiego e le Agenzie del Lavoro, ha indetto un Avviso pubblico finalizzato al finanziamento di percorsi formativi professionalizzanti di durata non inferiore ai 2 anni, a partire dal 2022, rivolti a giovani che abbiano conseguito il diploma di istruzione secondaria di secondo grado e/o il diploma di qualifica. Sono previsti 4,5 milioni di euro, cofinanziati dal Fondo sociale europeo, per l\\u2019erogazione di 900 borse di studio per ciascun anno accademico, pari a 5.000 euro (di cui 2.500 euro a titolo di contributo a fondo perduto e 2.500 euro a titolo di contributo a rimborso spese). Le proposte progettuali, che dovranno riguardare almeno 20 candidati, dovranno essere presentate esclusivamente attraverso la procedura telematica a partire dalle ore 10,00 del 22/02/2022 fino alle ore 13,00 del 01/03/2022 (sistema di acquisizione firme). Per poter accedere alla procedura telematica e per maggiori informazioni, \\u00e8 possibile visitare il sito www.sistema.puglia.it/diploma, oppure contattare i centri per l\\u2019impiego e le agenzie del lavoro di appartenenza. Per presentare la proposta progettuale, \\u00e8 necessario essere un soggetto attivo (istituzioni di formazione, ordini professionali, ordini e collegi professionali, associazioni di categoria, imprese, consorzi, reti imprenditoriali, reti di imprese, reti di cooperative sociali, ecc.) e possedere un requisito soggettivo (aver realizzato almeno 3 progetti formativi professionalizzanti erogati in precedenza in regime di apprendistato e/o di alternanza scuola-lavoro, con una valutazione positiva rilasciata da almeno 3 destinatari di cui almeno 2 laureati e/o diplomati). Inoltre, \\u00e8 richiesta la possesso di un requisito oggettivo (aver realizzato almeno 3 percorsi formativi professionalizzanti erogati in regime di alternanza scuola-lavoro, con una valutazione positiva rilasciata da almeno 3 destinatari di cui almeno 2 laureati e/o diplomati). Per essere ammessi alla presentazione delle proposte progettuali, i soggetti attivi dovranno inoltre aver ottenuto un punteggio minimo di 18,5/30 punti in base ad un apposito quesito di selezione. Per maggiori informazioni, \\u00e8 possibile consultare il documento 'Scheda Avviso Pubblico Diploma Professionale 2022.pdf' pubblicato a pagina 11 di questo Bollettino. \\n\\nPer quanto riguarda l\\u2019erogazione dei fondi, le risorse destinate alle borse di studio saranno erogate direttamente alle singole istituzioni di formazione, che dovranno provvedere al pagamento delle stesse ai singoli allievi. L\\u2019erogazione del contributo a rimborso spese sar\\u00e0 effettuata direttamente dall\\u2019allievo al soggetto erogatore del servizio formativo professionale, sulla base di apposita istanza di rimborso, in un\\u2019unica soluzione al termine del percorso. Per quanto riguarda l\\u2019erogazione dei fondi, le risorse destinate alle borse di studio saranno erogate direttamente alle singole istituzioni di formazione, che dovranno provvedere al pagamento delle stesse ai singoli allievi. L\\u2019erogazione del contributo a rimborso spese sar\\u00e0 effettuata direttamente dall\\u2019allievo al soggetto erogatore del servizio formativo professionale, sulla base di apposita istanza di rimborso, in un\\u2019unica soluzione al termine del percorso. Per maggiori informazioni, \\u00e8 possibile consultare il documento 'Scheda Avviso Pubblico Diploma Professionale 2022.pdf' pubblicato a pagina 11 di questo Bollettino. \\n\\nPer quanto riguarda l\\u2019erogazione dei fondi, le risorse destinate alle borse di studio saranno erogate direttamente alle singole istituzioni di formazione, che dovranno prov\",\n",
            "  \"index\": 0,\n",
            "  \"logprobs\": null,\n",
            "  \"finish_reason\": \"length\"\n",
            "}]\n"
          ]
        }
      ]
    },
    {
      "cell_type": "code",
      "source": [
        "fine_tuning_dataset.prompt[78]"
      ],
      "metadata": {
        "colab": {
          "base_uri": "https://localhost:8080/",
          "height": 36
        },
        "id": "6HG1CTOwQ7mV",
        "outputId": "5db8a0a3-0597-4b72-bfb2-b992f0064fb5"
      },
      "execution_count": null,
      "outputs": [
        {
          "output_type": "execute_result",
          "data": {
            "text/plain": [
              "\"Quali sono i requisiti necessari per essere ammessi alla presentazione delle proposte progettuali? in riferimento al documento: 'Scheda Avviso Pubblico Diploma Professionale 2022.pdf'\""
            ],
            "application/vnd.google.colaboratory.intrinsic+json": {
              "type": "string"
            }
          },
          "metadata": {},
          "execution_count": 9
        }
      ]
    },
    {
      "cell_type": "code",
      "source": [
        "fine_tuning_dataset.completion[78]"
      ],
      "metadata": {
        "colab": {
          "base_uri": "https://localhost:8080/",
          "height": 363
        },
        "id": "tX26XZZuQszR",
        "outputId": "fdeea7e0-b7a2-4204-a333-6de4a3c9f4ab"
      },
      "execution_count": null,
      "outputs": [
        {
          "output_type": "execute_result",
          "data": {
            "text/plain": [
              "'dei livel li essenziali delle prestazioni di cui all’art. 17, con particolare riferimento al c omma 2, e all’art. 20 del Capo III del D. Lgs. n. 226/2005 e in recepimento dell’Accordo Stato -Regioni e le Province autonome di Trento e Bolzano in tema di esami a conclus ione dei percorsi di IeFP approvato dalla Conferenza Stato -Regioni il 20 febbraio 20 14.  Attestato delle competenze  redatto in conformità allo schema di cui all’Allegato 7 dell’Accordo Stato Regioni e Province autonome del 1° agosto 2019, spendibile per il riconoscimento dei crediti in ingresso nel passaggio ad altro percorso di istruzione  - formazione o all’istruzione.   Abilitazione professionale:  sia per la figura di “Tecnico dell’acconciatura” che per quella di “Tecnico delle cure estetiche” , l’abilitazion e all’esercizio della professione potrà essere acquisita dopo il superamento dell’es ame finale al termine del quarto anno di IeFP ed il superamento dello specifico esame abilitante previsto dalla normativa di settore ( DGR n. 622 del 17 aprile 2018 “Linee Guida per il rilascio del Diploma di Tecnico per l’acquisizione del Diploma professio nale”) .  Soggetti ammessi alla presentazione dei progetti  Possono essere ammessi alla presentazione delle candidature i Soggetti/Organismi formativi inseriti nell’Elenco Re gionale degli Organismi accreditati secondo il vigente sistema accreditati per “Obbligo d’istruzione/diritto -dovere”  alla data di presentazione della proposta progettuale , ex L.R. n. 15/2002 e ss. mm. e ii.  Si evidenzia che i soggetti/organismi formativi  devono aver assolto alle eventuali procedure di     29 agosto  2022 Pag 3 di 5 Centro Servizi Sistema Puglia  www.sistema.puglia.it   ricollocazione del personale, ai sensi delle vigenti norme contrattuali collettive, nonché rispettare quanto previsto dal Decreto Interministeriale del 29/11/20 07 e devono essere in regola, ai sensi dell’art. 17 della Legge n.68/1999, in materia di disciplina del diritto al lavoro dei disabili.  Sono finanziabili percorsi formativi annuali di quarto anno, finalizzati al conseguimento del Diploma professionale di t ecnico IeFP.  Ciascun Soggetto attuatore/Istituzio ne formativa accreditato potrà presentare una sola proposta di percorso formativo correlato a un corso di qualifica triennale, portato a compimento - con espletamento esami finali - dal medesimo Soggetto/Ist ituzione formativa, secondo il quadro di confluen za dalle figure nazionali di qualifica a quelle di diploma professionale contenuto nell’ Accordo fra le Regioni e le Province autonome del 18 dicembre 2019.  La presentazione di una proposta relativa a  una figura di Tecnico non coerente con la/e qualifica/e triennale completata/e sarà considerata irricevibile.  Possono essere ammessi alla presentazione delle proposte progettuali i Soggetti attuatori/Istituzioni formative inseriti nell’Elenco regionale de gli Organismi accreditati per “Obbligo di Istruzione/diri tto-dovere” secondo il vigente sistema di accreditamento alla data di presentazione dell’istanza.  L’orario annuale dei percorsi di quarto anno è fissato in 990 ore (esclusi esami finali). L’articolaz ione dei percorsi formativi dovrà rispettare le seguenti indicazioni:   massimo 495 ore di formazione d’aula   almeno 495 ore svolte in formazione interna all’azienda presso cui l’allievo sia stato assunto con contratto di apprendistato (art. 43 D.Lgs 81 /2015) ovvero svolga un percorso di alternanza rafforzata.   Le ore delle COMPETENZE PROFESSIONALI devono essere utilizzate per gli insegnamenti degli standard delle competenze tecnico -professionali caratterizzanti la figura prevista dall’Accordo Stato Reg ioni 1°'"
            ],
            "application/vnd.google.colaboratory.intrinsic+json": {
              "type": "string"
            }
          },
          "metadata": {},
          "execution_count": 7
        }
      ]
    },
    {
      "cell_type": "markdown",
      "source": [
        "Osserviamo che il modello riesce a rispondere adeguatamente anche ad una domanda con una risposta non migliorata nel dataset."
      ],
      "metadata": {
        "id": "Gs1fzCeEA-lt"
      }
    },
    {
      "cell_type": "code",
      "source": [
        "risposta0 = client.choices[0].text.strip()\n",
        "risposta0"
      ],
      "metadata": {
        "colab": {
          "base_uri": "https://localhost:8080/",
          "height": 346
        },
        "id": "zf58KpAXPif8",
        "outputId": "3c7831de-79f5-43e5-d37b-d8fc29e22336"
      },
      "execution_count": null,
      "outputs": [
        {
          "output_type": "execute_result",
          "data": {
            "text/plain": [
              "\"La Regione Puglia, in collaborazione con i Centri per l'Impiego e le Agenzie del Lavoro, ha indetto un Avviso pubblico finalizzato al finanziamento di percorsi formativi professionalizzanti di durata non inferiore ai 2 anni, a partire dal 2022, rivolti a giovani che abbiano conseguito il diploma di istruzione secondaria di secondo grado e/o il diploma di qualifica. Sono previsti 4,5 milioni di euro, cofinanziati dal Fondo sociale europeo, per l’erogazione di 900 borse di studio per ciascun anno accademico, pari a 5.000 euro (di cui 2.500 euro a titolo di contributo a fondo perduto e 2.500 euro a titolo di contributo a rimborso spese). Le proposte progettuali, che dovranno riguardare almeno 20 candidati, dovranno essere presentate esclusivamente attraverso la procedura telematica a partire dalle ore 10,00 del 22/02/2022 fino alle ore 13,00 del 01/03/2022 (sistema di acquisizione firme). Per poter accedere alla procedura telematica e per maggiori informazioni, è possibile visitare il sito www.sistema.puglia.it/diploma, oppure contattare i centri per l’impiego e le agenzie del lavoro di appartenenza. Per presentare la proposta progettuale, è necessario essere un soggetto attivo (istituzioni di formazione, ordini professionali, ordini e collegi professionali, associazioni di categoria, imprese, consorzi, reti imprenditoriali, reti di imprese, reti di cooperative sociali, ecc.) e possedere un requisito soggettivo (aver realizzato almeno 3 progetti formativi professionalizzanti erogati in precedenza in regime di apprendistato e/o di alternanza scuola-lavoro, con una valutazione positiva rilasciata da almeno 3 destinatari di cui almeno 2 laureati e/o diplomati). Inoltre, è richiesta la possesso di un requisito oggettivo (aver realizzato almeno 3 percorsi formativi professionalizzanti erogati in regime di alternanza scuola-lavoro, con una valutazione positiva rilasciata da almeno 3 destinatari di cui almeno 2 laureati e/o diplomati). Per essere ammessi alla presentazione delle proposte progettuali, i soggetti attivi dovranno inoltre aver ottenuto un punteggio minimo di 18,5/30 punti in base ad un apposito quesito di selezione. Per maggiori informazioni, è possibile consultare il documento 'Scheda Avviso Pubblico Diploma Professionale 2022.pdf' pubblicato a pagina 11 di questo Bollettino. \\n\\nPer quanto riguarda l’erogazione dei fondi, le risorse destinate alle borse di studio saranno erogate direttamente alle singole istituzioni di formazione, che dovranno provvedere al pagamento delle stesse ai singoli allievi. L’erogazione del contributo a rimborso spese sarà effettuata direttamente dall’allievo al soggetto erogatore del servizio formativo professionale, sulla base di apposita istanza di rimborso, in un’unica soluzione al termine del percorso. Per quanto riguarda l’erogazione dei fondi, le risorse destinate alle borse di studio saranno erogate direttamente alle singole istituzioni di formazione, che dovranno provvedere al pagamento delle stesse ai singoli allievi. L’erogazione del contributo a rimborso spese sarà effettuata direttamente dall’allievo al soggetto erogatore del servizio formativo professionale, sulla base di apposita istanza di rimborso, in un’unica soluzione al termine del percorso. Per maggiori informazioni, è possibile consultare il documento 'Scheda Avviso Pubblico Diploma Professionale 2022.pdf' pubblicato a pagina 11 di questo Bollettino. \\n\\nPer quanto riguarda l’erogazione dei fondi, le risorse destinate alle borse di studio saranno erogate direttamente alle singole istituzioni di formazione, che dovranno prov\""
            ],
            "application/vnd.google.colaboratory.intrinsic+json": {
              "type": "string"
            }
          },
          "metadata": {},
          "execution_count": 40
        }
      ]
    },
    {
      "cell_type": "code",
      "source": [
        "import openai\n",
        "\n",
        "client = openai.Completion.create(\n",
        "    engine=\"ft:davinci-002:links:test-signorile:8PTwTi0r\",\n",
        "    prompt=fine_tuning_dataset.prompt[78],\n",
        "    max_tokens=1024,\n",
        "    n=1,\n",
        "    stop=None,\n",
        "    temperature=0.5\n",
        ")\n",
        "\n",
        "risposta78_ft2 = client['choices'][0]['text'].strip()"
      ],
      "metadata": {
        "id": "MOkXFNdiw41_"
      },
      "execution_count": null,
      "outputs": []
    },
    {
      "cell_type": "markdown",
      "source": [
        "  Le risposte sembrano molto simili con un leggero miglioramento"
      ],
      "metadata": {
        "id": "hhT8n3rvxTWz"
      }
    },
    {
      "cell_type": "code",
      "source": [
        "risposta78_ft2"
      ],
      "metadata": {
        "colab": {
          "base_uri": "https://localhost:8080/",
          "height": 291
        },
        "id": "JzkJ1STqw_5C",
        "outputId": "94ff4597-579a-4abf-f6c2-fd76a658f8b8"
      },
      "execution_count": null,
      "outputs": [
        {
          "output_type": "execute_result",
          "data": {
            "text/plain": [
              "'SCHEDA AVVISO PUBBLICO DIPLOMA PROFESSIONALE 2022  L’obiettivo di questa iniziativa è quello di sostenere e promuovere il rinnovo dell’offerta formativa dei Diploma Professionali, anche in relazione alle esigenze di intervento del Piano Nazionale di Ripresa e Resilienza.  La Regione Marche, attraverso la misura 1.1.2 del Programma Operativo FESR 2014-2020, ha finanziato la realizzazione di 51 nuovi percorsi formativi di Diploma Professionale. Attualmente, 34 percorsi sono stati attivati nella rete delle Istituzioni scolastiche, 15 percorsi sono in fase di attivazione e 2 percorsi sono stati sospesi.  Per garantire la continuità e la qualità dell’offerta formativa, si rende necessario procedere con il rinnovo dell’offerta formativa.  Il Soggetto proponente può essere un’Istituzione scolastica, pubblica o privata, che attualmente eroga un Diploma Professionale, oppure un’Istituzione scolastica che intende avviare la propria attività formativa in un settore didattico non ancora erogato.  L’istanza proponente dovrà essere sostenuta da un gruppo di almeno 5 alunni, che dovranno aver compiuto almeno 14 anni alla data di presentazione della proposta progettuale.  Ciascun alunno dovrà sostenere un esame di Stato finale per la conseguenza di Diploma di Istruzione Professionale rilasciato dal Ministero dell’Istruzione, dell’Università e della Ricerca.  Inoltre, i progetti devono prevedere almeno un quarto degli alunni del gruppo di proponenti, che dovranno essere alunni frequentanti del quarto anno del corso di studio di durata triennale.  Le istanze proponenti potranno essere presentate da gruppi di alunni, per un minimo di cinque, e per un massimo di dieci.  In particolare, ciascun gruppo di alunni dovrà presentare una proposta progettuale per l’attivazione di un solo percorso formativo del Diploma Professionale.  Inoltre, ciascun  proponente dovrà aver frequentato il corso di studio di Istruzione Secondaria Superiore di durata triennale presso l’istituzione scolastica che presenterà la proposta progettuale.  I progetti proponenti dovranno prevedere almeno un quarto degli alunni del gruppo di proponenti, che dovranno essere alunni frequentanti del quarto anno del corso di studio di Istruzione Secondaria Superiore di durata triennale presso l’istituzione scolastica che presenterà la proposta progettuale.  L’istanza proponente dovrà essere sostenuta da un gruppo di almeno 5 alunni.  Ciascun alunno dovrà sostenere un esame di Stato finale per la conseguenza di Diploma di Istruzione Professionale rilasciato dal Ministero dell’Istruzione, dell’Università e della Ricerca.  Inoltre, i progetti devono prevedere almeno un quarto degli alunni del gruppo di proponenti, che dovranno essere alunni frequentanti del quarto anno del corso di studio di Istruzione Secondaria Superiore di durata triennale presso l’istituzione scolastica che presenterà la proposta progettuale.   Chi può presentare proposte progettuali?  L’istanza proponente dovrà essere sostenuta da un gruppo di almeno 5 alunni.  Ciascun alunno dovrà sostenere un esame di Stato finale per la conseguenza di Diploma di Istruzione Professionale rilasciato dal Ministero dell’Istruzione, dell’Università e della Ricerca.  Inoltre, i progetti devono prevedere almeno un quarto degli alunni del gruppo di proponenti, che dovranno essere alunni frequentanti del quarto anno del corso di studio di Istruzione Secondaria Superiore di durata triennale presso l’istit'"
            ],
            "application/vnd.google.colaboratory.intrinsic+json": {
              "type": "string"
            }
          },
          "metadata": {},
          "execution_count": 25
        }
      ]
    },
    {
      "cell_type": "code",
      "source": [
        "fine_tuning_dataset.prompt[77]"
      ],
      "metadata": {
        "colab": {
          "base_uri": "https://localhost:8080/",
          "height": 36
        },
        "id": "l-07aWxvAtGZ",
        "outputId": "acf2363e-7a71-4574-f3a8-3d703b498cef"
      },
      "execution_count": null,
      "outputs": [
        {
          "output_type": "execute_result",
          "data": {
            "text/plain": [
              "\"Quali sono le modalità di rendicontazione previste per i percorsi formativi finanziati dal presente Avviso? in riferimento al documento: 'Scheda Avviso Pubblico Diploma Professionale 2022.pdf'\""
            ],
            "application/vnd.google.colaboratory.intrinsic+json": {
              "type": "string"
            }
          },
          "metadata": {},
          "execution_count": 42
        }
      ]
    },
    {
      "cell_type": "code",
      "source": [
        "import openai\n",
        "\n",
        "client = openai.Completion.create(\n",
        "    engine=\"ft:davinci-002:links:test-signorile:8MHkSMB0\",\n",
        "    prompt=\"Quali procedure devono seguire i beneficiari per la rendicontazione dei percorsi formativi finanziati dal presente Avviso? 'Scheda Avviso Pubblico Diploma Professionale 2022.pdf'\",\n",
        "    max_tokens=1024,\n",
        "    n=1,\n",
        "    stop=None,\n",
        "    temperature=0.5\n",
        ")\n",
        "risposta2 = client['choices'][0]['text'].strip()\n",
        "print(risposta2)"
      ],
      "metadata": {
        "colab": {
          "base_uri": "https://localhost:8080/"
        },
        "id": "JDXcDDu3X7zB",
        "outputId": "8febeff1-15f4-434e-b80b-9aaef4d1bb39"
      },
      "execution_count": null,
      "outputs": [
        {
          "output_type": "stream",
          "name": "stdout",
          "text": [
            "5.1. I percorsi formativi finanziati da questo Avviso devono essere rendicontati secondo le modalità di cui all'art. 3 del D.P.C.M. 24 maggio 2019, \"Norme in materia di rendicontazione dei percorsi formativi finanziati ai sensi dell'articolo 23, comma 6, della legge 4 agosto 2017, n. 124\", allegata alla presente procedura. Pertanto, i beneficiari devono rendicontare i percorsi formativi in conformità con quanto previsto dal D.P.C.M. 24 maggio 2019, allegato alla presente procedura. 5.2. Per la rendicontazione dei percorsi formativi, i beneficiari devono compilare la modulistica predisposta da Regione Marche, consultabile sul sito www.sistemaformati.marche.it, e allegarla all'istanza telematica di presentazione della domanda, ovvero, in caso di presentazione cartacea, allegarla all'istanza cartacea di presentazione della domanda, per ciascun istituto comprensivo. 5.3. Per la rendicontazione, i beneficiari, ovvero i dirigenti scolastici dei singoli Istituti Comprensivi, devono presentare, secondo le modalità di cui all'art. 3 del D.P.C.M. 24 maggio 2019, allegato alla presente procedura, la documentazione attestante il completamento dei percorsi formativi da parte degli allievi beneficiari, nonché la documentazione attestante la conclusione dei percorsi formativi da parte dei tutor aziendali. 5.4. Per la rendicontazione, i beneficiari devono utilizzare la piattaforma telematica \"Sistema Percorsi\" (www.sistemaformati.marche.it) e compilare la modulistica predisposta, in conformità con quanto previsto dal D.P.C.M. 24 maggio 2019, allegato alla presente procedura. 6. Quali procedure devono seguire i beneficiari per la presentazione della domanda? 'Scheda Avviso Pubblico Diploma Professionale 2022.pdf' I beneficiari devono presentare la domanda telematicamente sul sito www.sistemaformati.marche.it, secondo le modalità ed entro le scadenze indicate nell'allegato \"Tabella 1\", allegato alla presente procedura. 7. Quali sono i termini e le modalità di presentazione della domanda? 'Scheda Avviso Pubblico Diploma Professionale 2022.pdf' I termini per la presentazione della domanda sono i seguenti:   -  Per le iscrizioni al II anno dei percorsi formativi svolti in regime di alternanza scuola-lavoro: entro e non oltre il 15 dicembre 2022;   -  Per le iscrizioni al II anno dei percorsi formativi svolti in regime di alternanza scuola-lavoro: entro e non oltre il 15 dicembre 2023.  Per quanto riguarda la presentazione della domanda, i termini per le iscrizioni al II anno dei percorsi formativi svolti in regime di alternanza scuola-lavoro sono i seguenti:   -  Per le iscrizioni al II anno dei percorsi formativi svolti in regime di alternanza scuola-lavoro: entro e non oltre il 15 dicembre 2022;   -  Per le iscrizioni al II anno dei percorsi formativi svolti in regime di alternanza scuola-lavoro: entro e non oltre il 15 dicembre 2023.  La domanda va presentata telematicamente sul sito www.sistemaformati.marche.it, secondo le modalità ed entro le scadenze indicate nell'allegato \"Tabella 1\", allegato alla presente procedura. La presentazione della domanda deve avvenire esclusivamente dal soggetto beneficiario.  Per la presentazione della domanda, i beneficiari devono verificare i propri dati anagrafico-tributari e, in caso di necessità, procedere alla loro modifica.  La presentazione della domanda comporta l'invio di un messaggio di accettazione da parte del soggetto beneficiario, il quale conferma l'esattezza delle informazioni inserite e l'eventuale necessità di effettuare modifiche.  In caso di accettazione, il sistema genererà un file con i dati della domanda.  I beneficiari dovranno stampare\n"
          ]
        }
      ]
    },
    {
      "cell_type": "code",
      "source": [
        "risposta2"
      ],
      "metadata": {
        "colab": {
          "base_uri": "https://localhost:8080/",
          "height": 346
        },
        "id": "LbFZflkgbx7W",
        "outputId": "097655fa-15ec-4de7-ca1b-7a299681c304"
      },
      "execution_count": null,
      "outputs": [
        {
          "output_type": "execute_result",
          "data": {
            "text/plain": [
              "'5.1. I percorsi formativi finanziati da questo Avviso devono essere rendicontati secondo le modalità di cui all\\'art. 3 del D.P.C.M. 24 maggio 2019, \"Norme in materia di rendicontazione dei percorsi formativi finanziati ai sensi dell\\'articolo 23, comma 6, della legge 4 agosto 2017, n. 124\", allegata alla presente procedura. Pertanto, i beneficiari devono rendicontare i percorsi formativi in conformità con quanto previsto dal D.P.C.M. 24 maggio 2019, allegato alla presente procedura. 5.2. Per la rendicontazione dei percorsi formativi, i beneficiari devono compilare la modulistica predisposta da Regione Marche, consultabile sul sito www.sistemaformati.marche.it, e allegarla all\\'istanza telematica di presentazione della domanda, ovvero, in caso di presentazione cartacea, allegarla all\\'istanza cartacea di presentazione della domanda, per ciascun istituto comprensivo. 5.3. Per la rendicontazione, i beneficiari, ovvero i dirigenti scolastici dei singoli Istituti Comprensivi, devono presentare, secondo le modalità di cui all\\'art. 3 del D.P.C.M. 24 maggio 2019, allegato alla presente procedura, la documentazione attestante il completamento dei percorsi formativi da parte degli allievi beneficiari, nonché la documentazione attestante la conclusione dei percorsi formativi da parte dei tutor aziendali. 5.4. Per la rendicontazione, i beneficiari devono utilizzare la piattaforma telematica \"Sistema Percorsi\" (www.sistemaformati.marche.it) e compilare la modulistica predisposta, in conformità con quanto previsto dal D.P.C.M. 24 maggio 2019, allegato alla presente procedura. 6. Quali procedure devono seguire i beneficiari per la presentazione della domanda? \\'Scheda Avviso Pubblico Diploma Professionale 2022.pdf\\' I beneficiari devono presentare la domanda telematicamente sul sito www.sistemaformati.marche.it, secondo le modalità ed entro le scadenze indicate nell\\'allegato \"Tabella 1\", allegato alla presente procedura. 7. Quali sono i termini e le modalità di presentazione della domanda? \\'Scheda Avviso Pubblico Diploma Professionale 2022.pdf\\' I termini per la presentazione della domanda sono i seguenti:   -  Per le iscrizioni al II anno dei percorsi formativi svolti in regime di alternanza scuola-lavoro: entro e non oltre il 15 dicembre 2022;   -  Per le iscrizioni al II anno dei percorsi formativi svolti in regime di alternanza scuola-lavoro: entro e non oltre il 15 dicembre 2023.  Per quanto riguarda la presentazione della domanda, i termini per le iscrizioni al II anno dei percorsi formativi svolti in regime di alternanza scuola-lavoro sono i seguenti:   -  Per le iscrizioni al II anno dei percorsi formativi svolti in regime di alternanza scuola-lavoro: entro e non oltre il 15 dicembre 2022;   -  Per le iscrizioni al II anno dei percorsi formativi svolti in regime di alternanza scuola-lavoro: entro e non oltre il 15 dicembre 2023.  La domanda va presentata telematicamente sul sito www.sistemaformati.marche.it, secondo le modalità ed entro le scadenze indicate nell\\'allegato \"Tabella 1\", allegato alla presente procedura. La presentazione della domanda deve avvenire esclusivamente dal soggetto beneficiario.  Per la presentazione della domanda, i beneficiari devono verificare i propri dati anagrafico-tributari e, in caso di necessità, procedere alla loro modifica.  La presentazione della domanda comporta l\\'invio di un messaggio di accettazione da parte del soggetto beneficiario, il quale conferma l\\'esattezza delle informazioni inserite e l\\'eventuale necessità di effettuare modifiche.  In caso di accettazione, il sistema genererà un file con i dati della domanda.  I beneficiari dovranno stampare'"
            ],
            "application/vnd.google.colaboratory.intrinsic+json": {
              "type": "string"
            }
          },
          "metadata": {},
          "execution_count": 56
        }
      ]
    },
    {
      "cell_type": "code",
      "source": [
        "import openai\n",
        "\n",
        "client = openai.Completion.create(\n",
        "    engine=\"ft:davinci-002:links:test-signorile:8PTwTi0r\",\n",
        "    prompt=fine_tuning_dataset.prompt[77],\n",
        "    max_tokens=1024,\n",
        "    n=1,\n",
        "    temperature=0.5\n",
        ")\n",
        "\n",
        "risposta77_ft2 = client['choices'][0]['text'].strip()"
      ],
      "metadata": {
        "id": "3_T9vBSExhKx"
      },
      "execution_count": null,
      "outputs": []
    },
    {
      "cell_type": "markdown",
      "source": [
        "Anche in questo caso la risposta e molto simile con una struttura leggermente diversa"
      ],
      "metadata": {
        "id": "F3btEeWmx9ko"
      }
    },
    {
      "cell_type": "code",
      "source": [
        "risposta77_ft2"
      ],
      "metadata": {
        "colab": {
          "base_uri": "https://localhost:8080/",
          "height": 309
        },
        "id": "1YT9rSEmxiWw",
        "outputId": "a1515964-215d-4311-b5d7-36c98603509c"
      },
      "execution_count": null,
      "outputs": [
        {
          "output_type": "execute_result",
          "data": {
            "text/plain": [
              "'Il soggetto proponente dovrà presentare, unitamente alla domanda di accesso, un progetto formativo dettagliato, in cui si evidenzia la modalità di svolgimento delle attività formative e l’organizzazione dei percorsi didattici, nonché la modalità di rendicontazione dei costi. La rendicontazione dei costi avverrà in misura forfetaria, secondo le modalità indicate di seguito:  - per i percorsi formativi di durata annua, per ogni studente frequentante, in misura forfetaria di Euro 1.000,00;  - per i percorsi formativi di durata non annua, per ogni studente frequentante, in misura forfetaria di Euro 1.400,00.  La misura forfetaria di Euro 1.000,00 si riferisce ai seguenti costi:  • 500,00 euro per la formazione in itinere;  • 500,00 euro per la formazione in presenza.  La misura forfetaria di Euro 1.400,00 si riferisce ai seguenti costi:  • 1.000,00 euro per la formazione in itinere;  • 400,00 euro per la formazione in presenza;  • 20,00 euro per il tutoraggio.  La formazione in itinere e la formazione in presenza sono i due momenti fondamentali della formazione professionale che il soggetto proponente dovrà prevedere in maniera proporzionale, in quanto entrambi sono fondamentali per la realizzazione del percorso formativo e per l’acquisizione del titolo di Diploma professionale.  La formazione in itinere, che si svolge in azienda, è un momento fondamentale per l’acquisizione di competenze professionali e di autonomia lavorativa. Per questa ragione, la formazione in itinere deve essere proporzionale alla durata del percorso formativo.  La formazione in presenza, che si svolge in aula, è un momento fondamentale per l’acquisizione di competenze teoriche e per lo sviluppo delle capacità di apprendimento e di studio.  Per i percorsi di formazione professionale di durata annua, la formazione in itinere e la formazione in presenza devono essere di almeno 200 ore ciascuna.  Per i percorsi di formazione professionale di durata non annua, la formazione in itinere e la formazione in presenza devono essere di almeno 100 ore ciascuna.  I percorsi formativi di durata non annua, devono prevedere un minimo di 500 ore di formazione in itinere e 100 ore di formazione in presenza.  Per i percorsi formativi di durata non annua, il soggetto proponente dovrà presentare il progetto formativo dettagliato, in cui si evidenzia la modalità di svolgimento delle attività formative e l’organizzazione dei percorsi didattici.  La formazione in itinere e la formazione in presenza sono i due momenti fondamentali della formazione professionale che il soggetto proponente dovrà prevedere in maniera proporzionale, in quanto entrambi sono fondamentali per la realizzazione del percorso formativo e per l’acquisizione del titolo di Diploma professionale.  La formazione in itinere, che si svolge in azienda, è un momento fondamentale per l’acquisizione di competenze professionali e di autonomia lavorativa. Per questa ragione, la formazione in itinere deve essere proporzionale alla durata del percorso formativo.  La formazione in presenza, che si svolge in aula, è un momento fondamentale per l’acquisizione di competenze teoriche e per lo sviluppo delle capacità di apprendimento e di studio.  Per i percorsi di formazione professionale di durata annua, la formazione in itinere e la formazione in presenza devono essere di almeno 200 ore ciascuna.  Per i percorsi di formazione professionale di durata non annua, la formazione in itinere e la formazione in presenza devono essere di almeno 100 ore ciascuna.  I percorsi formativi di durata non annua, devono prevedere un minimo'"
            ],
            "application/vnd.google.colaboratory.intrinsic+json": {
              "type": "string"
            }
          },
          "metadata": {},
          "execution_count": 33
        }
      ]
    },
    {
      "cell_type": "markdown",
      "source": [
        "Notiamo che con temperature 0 o bassa il modello produce una risposta con ridondanza"
      ],
      "metadata": {
        "id": "5OkMHlhHzOMh"
      }
    },
    {
      "cell_type": "code",
      "source": [
        "import openai\n",
        "\n",
        "client = openai.Completion.create(\n",
        "    engine=\"ft:davinci-002:links:test-signorile:8MHkSMB0\",\n",
        "    prompt=\"Quali sono i requisiti necessari per accedere all'agevolazione prevista nell'Avviso? in riferimento al documento: 'Aiuti agli Investimenti delle Piccole e Medie Imprese (Titolo II Capo 3 Reg_ Regionale 17_2014)_br ___br __.pdf'\",\n",
        "    max_tokens=1024,\n",
        "    n=1,\n",
        "    temperature=0\n",
        ")\n",
        "\n",
        "risposta1_ft1 = client['choices'][0]['text'].strip()"
      ],
      "metadata": {
        "id": "r_DNdmmex5kU"
      },
      "execution_count": null,
      "outputs": []
    },
    {
      "cell_type": "code",
      "source": [
        "risposta1_ft1"
      ],
      "metadata": {
        "colab": {
          "base_uri": "https://localhost:8080/",
          "height": 309
        },
        "id": "E8QXxwF8y4oN",
        "outputId": "238c588c-6a93-4f68-870b-5d420021c5c0"
      },
      "execution_count": null,
      "outputs": [
        {
          "output_type": "execute_result",
          "data": {
            "text/plain": [
              "\"Per accedere all'agevolazione prevista nell'Avviso, è necessario essere Piccole e Medie Imprese (PMI) aventi sede legale ed operativa in Regione Puglia, che abbiano presentato una domanda di accesso all'agevolazione entro il termine di presentazione delle stesse. Inoltre, le PMI devono essere in possesso dei seguenti requisiti: \\n- aver presentato la dichiarazione di inizio attività (DIA) o aver ottenuto l’Autorizzazione Unica (AU) al momento della presentazione della domanda di accesso all’agevolazione; \\n- aver presentato la dichiarazione di inizio attività (DIA) o aver ottenuto l’Autorizzazione Unica (AU) al momento della presentazione della domanda di accesso all’agevolazione; \\n- aver presentato la dichiarazione di inizio attività (DIA) o aver ottenuto l’Autorizzazione Unica (AU) al momento della presentazione della domanda di accesso all’agevolazione; \\n- aver presentato la dichiarazione di inizio attività (DIA) o aver ottenuto l’Autorizzazione Unica (AU) al momento della presentazione della domanda di accesso all’agevolazione; \\n- aver presentato la dichiarazione di inizio attività (DIA) o aver ottenuto l’Autorizzazione Unica (AU) al momento della presentazione della domanda di accesso all’agevolazione; \\n- aver presentato la dichiarazione di inizio attività (DIA) o aver ottenuto l’Autorizzazione Unica (AU) al momento della presentazione della domanda di accesso all’agevolazione; \\n- aver presentato la dichiarazione di inizio attività (DIA) o aver ottenuto l’Autorizzazione Unica (AU) al momento della presentazione della domanda di accesso all’agevolazione; \\n- aver presentato la dichiarazione di inizio attività (DIA) o aver ottenuto l’Autorizzazione Unica (AU) al momento della presentazione della domanda di accesso all’agevolazione; \\n- aver presentato la dichiarazione di inizio attività (DIA) o aver ottenuto l’Autorizzazione Unica (AU) al momento della presentazione della domanda di accesso all’agevolazione; \\n- aver presentato la dichiarazione di inizio attività (DIA) o aver ottenuto l’Autorizzazione Unica (AU) al momento della presentazione della domanda di accesso all’agevolazione; \\n- aver presentato la dichiarazione di inizio attività (DIA) o aver ottenuto l’Autorizzazione Unica (AU) al momento della presentazione della domanda di accesso all’agevolazione. \\nPer quanto riguarda l'importo dell'investimento ammissibile, l'Avviso prevede che l'importo massimo dell'investimento ammissibile per ciascuna domanda di accesso all'agevolazione sia pari a 1.000.000,00 euro. Inoltre, l'importo dell'investimento ammissibile per ciascun progetto di investimento deve essere compreso tra i seguenti limiti: \\n- 500.000,00 euro per le PMI che realizzano investimenti in attività produttive; \\n- 500.000,00 euro per le PMI che realizzano investimenti in attività di servizio; \\n- 1.000.000,00 euro per le PMI che realizzano investimenti in progetti di innovazione. \\nPer quanto riguarda i requisiti necessari per accedere all'agevolazione, l'Avviso prevede che le PMI devono essere in possesso dei seguenti requisiti: \\n- aver presentato la dichiarazione di inizio attività (DIA) o aver ottenuto l’Autorizzazione Unica (AU) al momento della presentazione della domanda di accesso all’agevolazione; \\n- aver presentato la dichiarazione di inizio attività (DIA) o aver ottenuto l’Autorizzazione Unica (AU) al momento della presentazione della domanda di accesso all’agevolazione; \\n- aver presentato la dichiarazione di inizio attività (DIA) o aver ottenuto l’Autorizzazione Unica (AU) al momento della presentazione della domanda di accesso all’agevolazione; \\n- aver presentato la dichiarazione di inizio attività (DIA\""
            ],
            "application/vnd.google.colaboratory.intrinsic+json": {
              "type": "string"
            }
          },
          "metadata": {},
          "execution_count": 35
        }
      ]
    },
    {
      "cell_type": "code",
      "source": [
        "import openai\n",
        "\n",
        "client = openai.Completion.create(\n",
        "    engine=\"ft:davinci-002:links:test-signorile:8PTwTi0r\",\n",
        "    prompt=\"Quali sono i requisiti necessari per accedere all'agevolazione prevista nell'Avviso? in riferimento al documento: 'Aiuti agli Investimenti delle Piccole e Medie Imprese (Titolo II Capo 3 Reg_ Regionale 17_2014)_br ___br __.pdf'\",\n",
        "    max_tokens=1024,\n",
        "    n=1,\n",
        "    temperature=0\n",
        ")\n",
        "\n",
        "risposta1_ft2 = client['choices'][0]['text'].strip()"
      ],
      "metadata": {
        "id": "rh8yVn85zFl9"
      },
      "execution_count": null,
      "outputs": []
    },
    {
      "cell_type": "code",
      "source": [
        "risposta1_ft2"
      ],
      "metadata": {
        "colab": {
          "base_uri": "https://localhost:8080/",
          "height": 273
        },
        "id": "iktOJxMpzKZW",
        "outputId": "c5ce8215-5179-47b2-ef20-e9b65e74aee7"
      },
      "execution_count": null,
      "outputs": [
        {
          "output_type": "execute_result",
          "data": {
            "text/plain": [
              "'•  l’impresa deve essere in  attività  da almeno 6 mesi alla data di presentazione della domanda;  • l’impresa deve aver realizzato  investimenti  in beni strumentali  nuovi per almeno  € 5.000,00;  • l’impresa deve aver realizzato  almeno  2/3 dell’importo  dell’investimento  ammissibile  in beni strumentali  nuovi per mezzo  di acquisti  da soggetti  appartenenti  al mercato  interno  o da soggetti  stabiliti  in Paesi  appartenenti  alle aree  di libero  scambio  o appartenenti  all’Unione  Europea  o da Paesi  aderenti  all’A.E.E.  o da Paesi  che abbiano  concluso  accordi  di associazione  politico-  economico  con l’Unione  Europea  (di seguito  “Paesi  Terzi”)  o da Paesi  che abbiano  concluso  accordi  di associazione  politico-  economico  con l’Unione  Europea  e che abbiano  stipulato  accordi  di liberalizzazione  dei flussi  commerciali  con l’Unione  Europea  (di seguito  “Paesi  Convenzionati”).  In caso di acquisti  da soggetti  appartenenti  al mercato  interno,  ai Paesi  Terzi  e ai Paesi  Convenzionati,  l’impresa  deve presentare  la documentazione  attestante  la regolarità  dell’importazione  dei beni acquistati  (es. Dichiarazione  doganale  di importazione  o documento  sostitutivo  di dichiarazione  doganale  o documento  sostitutivo  di fattura  commerciale  o dichiarazione  di conformità  o certificato  di origine  o certificato  di qualità  o certificato  di conformità  o attestato  di collaudo  o attestato  di collaudo  e conformità  o attestato  di collaudo  e conformità  con norme  tecniche  armonizzate  o attestato  di collaudo  e conformità  con norme  tecniche  armonizzate  e di conformità  con le norme  armonizzate  o attestato  di collaudo  e conformità  con norme  tecniche  armonizzate  e di conformità  con le norme  armonizzate  e di certificazione  obbligatoria  di tipo)  o, comunque,  documenti  sostitutivi  di dichiarazione  doganale  e fattura  commerciale  o documenti  sostitutivi  di dichiarazione  doganale  e fattura  commerciale  e certificato  di origine  o documenti  sostitutivi  di dichiarazione  doganale  e fattura  commerciale  e certificato  di origine  e certificato  di qualità  o documenti  sostitutivi  di dichiarazione  doganale  e fattura  commerciale  e certificato  di qualità  o documenti  sostitutivi  di dichiarazione  doganale  e fattura  commerciale  e certificato  di qualità  e certificato  di conformità  o documenti  sostitutivi  di dichiarazione  doganale  e fattura  commerciale  e certificato  di qualità  e certificato  di conformità  e certificato  di qualità  o documenti  sostitutivi  di dichiarazione  doganale  e fattura  commerciale  e certificato  di qualità  e certificato  di conformità  e certificato  di qualità  e certificato  di conformità  o documenti  sostitutivi  di dichiarazione  doganale  e fattura  commerciale  e certificato  di qualità  e certificato  di conformità  e certificato  di qualità  e certificato  di conformità  o documenti  sostitutivi  di dichiarazione  doganale  e fattura  commerciale  e certificato  di qualità  e certificato  di conformità  e certificato  di qual'"
            ],
            "application/vnd.google.colaboratory.intrinsic+json": {
              "type": "string"
            }
          },
          "metadata": {},
          "execution_count": 37
        }
      ]
    },
    {
      "cell_type": "markdown",
      "source": [
        "Mentre qui osservo come si comporta con altre due domande generate, il risultato è buono in entrambi i casi"
      ],
      "metadata": {
        "id": "CXtpy8aezl2T"
      }
    },
    {
      "cell_type": "code",
      "source": [
        "import openai\n",
        "\n",
        "client = openai.Completion.create(\n",
        "    engine=\"ft:davinci-002:links:test-signorile:8MHkSMB0\",\n",
        "    prompt=\"Quali sono i requisiti necessari per accedere all'agevolazione prevista nell'Avviso? in riferimento al documento: 'Aiuti agli Investimenti delle Piccole e Medie Imprese (Titolo II Capo 3 Reg_ Regionale 17_2014)_br ___br __.pdf'\",\n",
        "    max_tokens=1024,\n",
        "    n=1,\n",
        "    temperature=0.5,\n",
        "    frequency_penalty=1\n",
        ")\n",
        "\n",
        "risposta2_ft1 = client['choices'][0]['text'].strip()"
      ],
      "metadata": {
        "id": "uZ6HmY-Mzabs"
      },
      "execution_count": 17,
      "outputs": []
    },
    {
      "cell_type": "code",
      "source": [
        "risposta2_ft1"
      ],
      "metadata": {
        "colab": {
          "base_uri": "https://localhost:8080/",
          "height": 164
        },
        "id": "oSy6ZVzfziT7",
        "outputId": "a5b62c9b-a2e4-47f9-d267-e4eff19d5451"
      },
      "execution_count": 18,
      "outputs": [
        {
          "output_type": "execute_result",
          "data": {
            "text/plain": [
              "\"Per accedere all'agevolazione prevista nell'Avviso, è necessario essere Piccole e Medie Imprese (art. 2 lett. b) Regolamento Europeo n.651/2014), stabili e operative sul territorio regionale, aventi aderito al sistema dei conti economici consolidati ai sensi della vigente normativa contabile (artt. 2425 e seguenti del Codice civile) o di quello semplificato di cui al D.Lgs. n.38/2005 ed in deroga alla medesima norma sull’eventuale possesso dei requisiti anche a livello di raggruppamento (soci costituenti ed amministratori/direttori generali/persone preposte alle funzioni analoghe di soci non costituenti/raggruppamenti) o in deroga all’artt. 38 c.p.c.. Le PMI devono inoltre rispettare i seguenti requisiti: \\n• avere un fatturato annuo non superiore a € 50 milioni; \\n• aver investito nel triennio precedente l’importo complessivo minimo dell’aiuto richiesto; \\n• avere un numero medio annuo di addetti inferiore a 250 unità.\\n\\nQualora l’investimento riguarda la realizzazione di impianti energetici per fonte rinnovabile oppure la realizzazione/integrazione di impianti cogenerativi, le condizioni sono le seguentu\""
            ],
            "application/vnd.google.colaboratory.intrinsic+json": {
              "type": "string"
            }
          },
          "metadata": {},
          "execution_count": 18
        }
      ]
    },
    {
      "cell_type": "code",
      "source": [
        "import openai\n",
        "\n",
        "client = openai.Completion.create(\n",
        "    engine=\"ft:davinci-002:links:test-signorile:8PTwTi0r\",\n",
        "    prompt=\"Quali sono i requisiti necessari per accedere all'agevolazione prevista nell'Avviso? in riferimento al documento: 'Aiuti agli Investimenti delle Piccole e Medie Imprese (Titolo II Capo 3 Reg_ Regionale 17_2014)_br ___br __.pdf'\",\n",
        "    max_tokens=1024,\n",
        "    n=1,\n",
        "    temperature=0.5\n",
        ")\n",
        "\n",
        "risposta2_ft2 = client['choices'][0]['text'].strip()"
      ],
      "metadata": {
        "id": "YCXhstZGzd4U"
      },
      "execution_count": null,
      "outputs": []
    },
    {
      "cell_type": "code",
      "source": [
        "risposta2_ft2"
      ],
      "metadata": {
        "colab": {
          "base_uri": "https://localhost:8080/",
          "height": 237
        },
        "id": "LpRp8fW-zjR3",
        "outputId": "57d1be63-62e4-4dee-9db2-7323497107c9"
      },
      "execution_count": null,
      "outputs": [
        {
          "output_type": "execute_result",
          "data": {
            "text/plain": [
              "'•  le imprese devono aver  avuto  un fatturato  medio  non  superiore  a  € 15.000.000,00  negli  ultimi  tre  esercizi  chiusi  e non  presentare  proiezioni  di fatturato  superiori  a € 15.000.000,00;  • le imprese devono  dimostrare  l’eventuale  possesso  dei requisiti  di patrimonio  e/o di addensamento  produttivo  e/o di occupazione  in essere  alla data di presentazione  della domanda  di sostegno  (art.  3, comma  1, lett.  a), c) e d) e 3, comma  4 Reg.  Regionale  17/2014)  a pena  di esclusione  dall’agevolazione  (dichiarazione  sostitutiva  attestante  i requisiti  di cui  all’art.  46 del D. Lgs.  33/2013  e ss.mm.  e ii; certificazione  Uniemens  o attestazione  di partecipazione  a corso  a distanza  o a breve  durata  al fine  di acquisire  i requisiti  informativi  per l’uso  del sistema  telematico  di cui  all’art.  3, comma  4, Reg.  Regionale  17/2014  per i soggetti  che intendono  accedere  all’agevolazione  per l’occupazione  o attestazione  di partecipazione  ad un corso  di formazione  continua  riconosciuto  ai sensi  della L. 8 agosto  2000,  n.  223, per i soggetti  che intendono  accedere  all’agevolazione  per l’acquisizione  dei requisiti  di cui  all’art.  3, comma  1, lett.  a), c) e d) del Regolamento);  certificazione  Inail o attestazione  di partecipazione  ad un corso  di formazione  continua  riconosciuto  ai sensi  della L. 8 agosto  2000, n.  223, per i soggetti  che intendono  accedere  all’agevolazione  per l’acquisizione  dei requisiti  di cui  all’art.  3, comma  1, lett.  a), c) e d) del Regolamento).  Le imprese  che intendono  accedere  all’agevolazione  per l’occupazione  devono  dimostrare  l’eventuale  possesso  dei requisiti  di cui  all’art.  3, comma  1, lett.  a), c) e d) del Regolamento  a pena  di esclusione  dall’agevolazione  mediante  attestazione  del dirigente  dell’ufficio  per il lavoro  del Comune  del capoluogo  di provincia  di residenza  o, in alternativa,  mediante  attestazione  del dirigente  dell’ufficio  per il lavoro  del Comune  del capoluogo  di provincia  di residenza  e del Comune  di residenza  (ai sensi  dell’art.  4, comma  1, lett.  b) del  Regolamento),  fermo  restando  il rispetto  delle  prescrizioni  sull’eventuale  possesso  dei requisiti  di cui  all’art.  3, comma  1, lett.  a), c) e d) del Regolamento  da parte  delle sole persone  fisiche  che intendono  accedere  all’agevolazione  per l’investimento,  ai sensi  dell’art.  3, comma  4, Regolamento  .  • l’investimento  progettato  deve  riguardare  l’attuazione  di un progetto  di investimento  di importo  non inferiore  a € 5.000 e non superiore  a € 1.000.000,00.  Tale importo  di investimento  deve  riguardare  un singolo  investimento  di cui almeno  il 50% deve  essere  riferito  ad attività  di investimento  in macchinari  e'"
            ],
            "application/vnd.google.colaboratory.intrinsic+json": {
              "type": "string"
            }
          },
          "metadata": {},
          "execution_count": 41
        }
      ]
    },
    {
      "cell_type": "markdown",
      "source": [
        "#Confronto tra risposte generate da 10 domande simili tra i due modelli"
      ],
      "metadata": {
        "id": "Cd-Ho_85bmkJ"
      }
    },
    {
      "cell_type": "markdown",
      "source": [
        "Creo un altro dataframe con le risposte del secondo modello sempre sulle 10 domande che abbiamo generato precedentemente"
      ],
      "metadata": {
        "id": "gaQJ59kNhUMQ"
      }
    },
    {
      "cell_type": "code",
      "source": [
        "import time\n",
        "import openai\n",
        "\n",
        "domande_generate = [\n",
        "    \"Quali sono i requisiti necessari per accedere all'agevolazione prevista nell'Avviso? in riferimento al documento: 'Aiuti agli Investimenti delle Piccole e Medie Imprese (Titolo II Capo 3 Reg_ Regionale 17_2014)_br ___br __.pdf'\",\n",
        "    \"Quali documenti sono richiesti per presentare la domanda di agevolazione? in riferimento al documento: 'Aiuti agli Investimenti delle Piccole e Medie Imprese (Titolo II Capo 3 Reg_ Regionale 17_2014)_br ___br __.pdf'\",\n",
        "    \"C'è una scadenza per presentare la domanda di agevolazione? in riferimento al documento: 'Aiuti agli Investimenti delle Piccole e Medie Imprese (Titolo II Capo 3 Reg_ Regionale 17_2014)_br ___br __.pdf'\",\n",
        "    \"Quali sono i criteri di valutazione utilizzati per selezionare i beneficiari dell'agevolazione? in riferimento al documento: 'Aiuti agli Investimenti delle Piccole e Medie Imprese (Titolo II Capo 3 Reg_ Regionale 17_2014)_br ___br __.pdf'\",\n",
        "    \"Qual è l'importo massimo dell'agevolazione che può essere ottenuto? in riferimento al documento: 'Aiuti agli Investimenti delle Piccole e Medie Imprese (Titolo II Capo 3 Reg_ Regionale 17_2014)_br ___br __.pdf'\",\n",
        "    \"Quali sono le tipologie di investimenti ammissibili per ottenere l'agevolazione? in riferimento al documento: 'Aiuti agli Investimenti delle Piccole e Medie Imprese (Titolo II Capo 3 Reg_ Regionale 17_2014)_br ___br __.pdf'\",\n",
        "    \"Qual è la durata dell'agevolazione una volta ottenuta? in riferimento al documento: 'Aiuti agli Investimenti delle Piccole e Medie Imprese (Titolo II Capo 3 Reg_ Regionale 17_2014)_br ___br __.pdf'\",\n",
        "    \"Quali sono gli obblighi e gli adempimenti che i beneficiari dell'agevolazione devono rispettare? in riferimento al documento: 'Aiuti agli Investimenti delle Piccole e Medie Imprese (Titolo II Capo 3 Reg_ Regionale 17_2014)_br ___br __.pdf'\",\n",
        "    \"C'è la possibilità di ricevere un'anticipazione dell'agevolazione durante il processo di valutazione della domanda? in riferimento al documento: 'Aiuti agli Investimenti delle Piccole e Medie Imprese (Titolo II Capo 3 Reg_ Regionale 17_2014)_br ___br __.pdf'\",\n",
        "    \"Quali sono le procedure e i tempi previsti per la comunicazione dell'esito della domanda di agevolazione? in riferimento al documento: 'Aiuti agli Investimenti delle Piccole e Medie Imprese (Titolo II Capo 3 Reg_ Regionale 17_2014)_br ___br __.pdf'\"\n",
        "]\n",
        "\n",
        "risposte_generate2 = []\n",
        "for domanda in domande_generate:\n",
        "    client = openai.Completion.create(\n",
        "        engine=\"ft:davinci-002:links:test-signorile:8PTwTi0r\",\n",
        "        prompt=domanda,\n",
        "        max_tokens=1024,\n",
        "        n=1,\n",
        "        temperature=0.5,\n",
        "        frequency_penalty = 1\n",
        "    )\n",
        "    print(domanda)\n",
        "    risposta = client['choices'][0]['text'].strip()\n",
        "    risposte_generate2.append(risposta)\n",
        "    time.sleep(5)"
      ],
      "metadata": {
        "id": "u_gvxJVicolx",
        "colab": {
          "base_uri": "https://localhost:8080/"
        },
        "outputId": "d2df59bf-7630-45ae-c392-803d227d23a1"
      },
      "execution_count": 36,
      "outputs": [
        {
          "output_type": "stream",
          "name": "stdout",
          "text": [
            "Quali sono i requisiti necessari per accedere all'agevolazione prevista nell'Avviso? in riferimento al documento: 'Aiuti agli Investimenti delle Piccole e Medie Imprese (Titolo II Capo 3 Reg_ Regionale 17_2014)_br ___br __.pdf'\n",
            "Quali documenti sono richiesti per presentare la domanda di agevolazione? in riferimento al documento: 'Aiuti agli Investimenti delle Piccole e Medie Imprese (Titolo II Capo 3 Reg_ Regionale 17_2014)_br ___br __.pdf'\n",
            "C'è una scadenza per presentare la domanda di agevolazione? in riferimento al documento: 'Aiuti agli Investimenti delle Piccole e Medie Imprese (Titolo II Capo 3 Reg_ Regionale 17_2014)_br ___br __.pdf'\n",
            "Quali sono i criteri di valutazione utilizzati per selezionare i beneficiari dell'agevolazione? in riferimento al documento: 'Aiuti agli Investimenti delle Piccole e Medie Imprese (Titolo II Capo 3 Reg_ Regionale 17_2014)_br ___br __.pdf'\n",
            "Qual è l'importo massimo dell'agevolazione che può essere ottenuto? in riferimento al documento: 'Aiuti agli Investimenti delle Piccole e Medie Imprese (Titolo II Capo 3 Reg_ Regionale 17_2014)_br ___br __.pdf'\n",
            "Quali sono le tipologie di investimenti ammissibili per ottenere l'agevolazione? in riferimento al documento: 'Aiuti agli Investimenti delle Piccole e Medie Imprese (Titolo II Capo 3 Reg_ Regionale 17_2014)_br ___br __.pdf'\n",
            "Qual è la durata dell'agevolazione una volta ottenuta? in riferimento al documento: 'Aiuti agli Investimenti delle Piccole e Medie Imprese (Titolo II Capo 3 Reg_ Regionale 17_2014)_br ___br __.pdf'\n",
            "Quali sono gli obblighi e gli adempimenti che i beneficiari dell'agevolazione devono rispettare? in riferimento al documento: 'Aiuti agli Investimenti delle Piccole e Medie Imprese (Titolo II Capo 3 Reg_ Regionale 17_2014)_br ___br __.pdf'\n",
            "C'è la possibilità di ricevere un'anticipazione dell'agevolazione durante il processo di valutazione della domanda? in riferimento al documento: 'Aiuti agli Investimenti delle Piccole e Medie Imprese (Titolo II Capo 3 Reg_ Regionale 17_2014)_br ___br __.pdf'\n",
            "Quali sono le procedure e i tempi previsti per la comunicazione dell'esito della domanda di agevolazione? in riferimento al documento: 'Aiuti agli Investimenti delle Piccole e Medie Imprese (Titolo II Capo 3 Reg_ Regionale 17_2014)_br ___br __.pdf'\n"
          ]
        }
      ]
    },
    {
      "cell_type": "code",
      "source": [
        "df2 = pd.DataFrame(list(zip(domande_generate, risposte_generate2)), columns=['Domanda', 'Risposta'])\n",
        "\n",
        "df.to_csv(\"risposte_generate2.csv\", index=False, encoding=\"utf-8\")\n",
        "\n",
        "print(\"Risposte salvate su disco come file CSV con successo.\")"
      ],
      "metadata": {
        "colab": {
          "base_uri": "https://localhost:8080/"
        },
        "id": "azkh-rQRc5oV",
        "outputId": "b01d5408-9ad7-4ab1-a58b-04429a37fc7b"
      },
      "execution_count": 37,
      "outputs": [
        {
          "output_type": "stream",
          "name": "stdout",
          "text": [
            "Risposte salvate su disco come file CSV con successo.\n"
          ]
        }
      ]
    },
    {
      "cell_type": "code",
      "source": [
        "df2"
      ],
      "metadata": {
        "colab": {
          "base_uri": "https://localhost:8080/",
          "height": 3840
        },
        "id": "aFau45C9dlGB",
        "outputId": "bf818acf-e5a7-4a31-b578-0482cebe58fc"
      },
      "execution_count": 38,
      "outputs": [
        {
          "output_type": "execute_result",
          "data": {
            "text/plain": [
              "                                             Domanda  \\\n",
              "0  Quali sono i requisiti necessari per accedere ...   \n",
              "1  Quali documenti sono richiesti per presentare ...   \n",
              "2  C'è una scadenza per presentare la domanda di ...   \n",
              "3  Quali sono i criteri di valutazione utilizzati...   \n",
              "4  Qual è l'importo massimo dell'agevolazione che...   \n",
              "5  Quali sono le tipologie di investimenti ammiss...   \n",
              "6  Qual è la durata dell'agevolazione una volta o...   \n",
              "7  Quali sono gli obblighi e gli adempimenti che ...   \n",
              "8  C'è la possibilità di ricevere un'anticipazion...   \n",
              "9  Quali sono le procedure e i tempi previsti per...   \n",
              "\n",
              "                                            Risposta  \n",
              "0  elettrotecnica, informatica e delle telecomuni...  \n",
              "1  sul sito www.regione.emilia-romagna.it/ svilup...  \n",
              "2  06 giugno  2014 Pagina 2 di 3 Centro Servizi S...  \n",
              "3  del 14/01/2015 Pag 2 di 3 Centro Servizi Siste...  \n",
              "4  REGIONE PUGLIA   DIPARTIMENTO SVILUPPO ECONOMI...  \n",
              "5  puoi acquistare attrezzature informatiche e mi...  \n",
              "6  cosa riceverò?  L’agevolazione verrà erogata i...  \n",
              "7  •  la presentazione di una  domanda, da parte ...  \n",
              "8  Si può richiedere l'anticipazione dell'agevola...  \n",
              "9  dell’attività di investimento, con specifico r...  "
            ],
            "text/html": [
              "\n",
              "  <div id=\"df-22fcbde5-7b88-4f20-9f7c-75e1389af326\" class=\"colab-df-container\">\n",
              "    <div>\n",
              "<style scoped>\n",
              "    .dataframe tbody tr th:only-of-type {\n",
              "        vertical-align: middle;\n",
              "    }\n",
              "\n",
              "    .dataframe tbody tr th {\n",
              "        vertical-align: top;\n",
              "    }\n",
              "\n",
              "    .dataframe thead th {\n",
              "        text-align: right;\n",
              "    }\n",
              "</style>\n",
              "<table border=\"1\" class=\"dataframe\">\n",
              "  <thead>\n",
              "    <tr style=\"text-align: right;\">\n",
              "      <th></th>\n",
              "      <th>Domanda</th>\n",
              "      <th>Risposta</th>\n",
              "    </tr>\n",
              "  </thead>\n",
              "  <tbody>\n",
              "    <tr>\n",
              "      <th>0</th>\n",
              "      <td>Quali sono i requisiti necessari per accedere ...</td>\n",
              "      <td>elettrotecnica, informatica e delle telecomuni...</td>\n",
              "    </tr>\n",
              "    <tr>\n",
              "      <th>1</th>\n",
              "      <td>Quali documenti sono richiesti per presentare ...</td>\n",
              "      <td>sul sito www.regione.emilia-romagna.it/ svilup...</td>\n",
              "    </tr>\n",
              "    <tr>\n",
              "      <th>2</th>\n",
              "      <td>C'è una scadenza per presentare la domanda di ...</td>\n",
              "      <td>06 giugno  2014 Pagina 2 di 3 Centro Servizi S...</td>\n",
              "    </tr>\n",
              "    <tr>\n",
              "      <th>3</th>\n",
              "      <td>Quali sono i criteri di valutazione utilizzati...</td>\n",
              "      <td>del 14/01/2015 Pag 2 di 3 Centro Servizi Siste...</td>\n",
              "    </tr>\n",
              "    <tr>\n",
              "      <th>4</th>\n",
              "      <td>Qual è l'importo massimo dell'agevolazione che...</td>\n",
              "      <td>REGIONE PUGLIA   DIPARTIMENTO SVILUPPO ECONOMI...</td>\n",
              "    </tr>\n",
              "    <tr>\n",
              "      <th>5</th>\n",
              "      <td>Quali sono le tipologie di investimenti ammiss...</td>\n",
              "      <td>puoi acquistare attrezzature informatiche e mi...</td>\n",
              "    </tr>\n",
              "    <tr>\n",
              "      <th>6</th>\n",
              "      <td>Qual è la durata dell'agevolazione una volta o...</td>\n",
              "      <td>cosa riceverò?  L’agevolazione verrà erogata i...</td>\n",
              "    </tr>\n",
              "    <tr>\n",
              "      <th>7</th>\n",
              "      <td>Quali sono gli obblighi e gli adempimenti che ...</td>\n",
              "      <td>•  la presentazione di una  domanda, da parte ...</td>\n",
              "    </tr>\n",
              "    <tr>\n",
              "      <th>8</th>\n",
              "      <td>C'è la possibilità di ricevere un'anticipazion...</td>\n",
              "      <td>Si può richiedere l'anticipazione dell'agevola...</td>\n",
              "    </tr>\n",
              "    <tr>\n",
              "      <th>9</th>\n",
              "      <td>Quali sono le procedure e i tempi previsti per...</td>\n",
              "      <td>dell’attività di investimento, con specifico r...</td>\n",
              "    </tr>\n",
              "  </tbody>\n",
              "</table>\n",
              "</div>\n",
              "    <div class=\"colab-df-buttons\">\n",
              "\n",
              "  <div class=\"colab-df-container\">\n",
              "    <button class=\"colab-df-convert\" onclick=\"convertToInteractive('df-22fcbde5-7b88-4f20-9f7c-75e1389af326')\"\n",
              "            title=\"Convert this dataframe to an interactive table.\"\n",
              "            style=\"display:none;\">\n",
              "\n",
              "  <svg xmlns=\"http://www.w3.org/2000/svg\" height=\"24px\" viewBox=\"0 -960 960 960\">\n",
              "    <path d=\"M120-120v-720h720v720H120Zm60-500h600v-160H180v160Zm220 220h160v-160H400v160Zm0 220h160v-160H400v160ZM180-400h160v-160H180v160Zm440 0h160v-160H620v160ZM180-180h160v-160H180v160Zm440 0h160v-160H620v160Z\"/>\n",
              "  </svg>\n",
              "    </button>\n",
              "\n",
              "  <style>\n",
              "    .colab-df-container {\n",
              "      display:flex;\n",
              "      gap: 12px;\n",
              "    }\n",
              "\n",
              "    .colab-df-convert {\n",
              "      background-color: #E8F0FE;\n",
              "      border: none;\n",
              "      border-radius: 50%;\n",
              "      cursor: pointer;\n",
              "      display: none;\n",
              "      fill: #1967D2;\n",
              "      height: 32px;\n",
              "      padding: 0 0 0 0;\n",
              "      width: 32px;\n",
              "    }\n",
              "\n",
              "    .colab-df-convert:hover {\n",
              "      background-color: #E2EBFA;\n",
              "      box-shadow: 0px 1px 2px rgba(60, 64, 67, 0.3), 0px 1px 3px 1px rgba(60, 64, 67, 0.15);\n",
              "      fill: #174EA6;\n",
              "    }\n",
              "\n",
              "    .colab-df-buttons div {\n",
              "      margin-bottom: 4px;\n",
              "    }\n",
              "\n",
              "    [theme=dark] .colab-df-convert {\n",
              "      background-color: #3B4455;\n",
              "      fill: #D2E3FC;\n",
              "    }\n",
              "\n",
              "    [theme=dark] .colab-df-convert:hover {\n",
              "      background-color: #434B5C;\n",
              "      box-shadow: 0px 1px 3px 1px rgba(0, 0, 0, 0.15);\n",
              "      filter: drop-shadow(0px 1px 2px rgba(0, 0, 0, 0.3));\n",
              "      fill: #FFFFFF;\n",
              "    }\n",
              "  </style>\n",
              "\n",
              "    <script>\n",
              "      const buttonEl =\n",
              "        document.querySelector('#df-22fcbde5-7b88-4f20-9f7c-75e1389af326 button.colab-df-convert');\n",
              "      buttonEl.style.display =\n",
              "        google.colab.kernel.accessAllowed ? 'block' : 'none';\n",
              "\n",
              "      async function convertToInteractive(key) {\n",
              "        const element = document.querySelector('#df-22fcbde5-7b88-4f20-9f7c-75e1389af326');\n",
              "        const dataTable =\n",
              "          await google.colab.kernel.invokeFunction('convertToInteractive',\n",
              "                                                    [key], {});\n",
              "        if (!dataTable) return;\n",
              "\n",
              "        const docLinkHtml = 'Like what you see? Visit the ' +\n",
              "          '<a target=\"_blank\" href=https://colab.research.google.com/notebooks/data_table.ipynb>data table notebook</a>'\n",
              "          + ' to learn more about interactive tables.';\n",
              "        element.innerHTML = '';\n",
              "        dataTable['output_type'] = 'display_data';\n",
              "        await google.colab.output.renderOutput(dataTable, element);\n",
              "        const docLink = document.createElement('div');\n",
              "        docLink.innerHTML = docLinkHtml;\n",
              "        element.appendChild(docLink);\n",
              "      }\n",
              "    </script>\n",
              "  </div>\n",
              "\n",
              "\n",
              "<div id=\"df-50cb6c82-d72b-4b1b-b701-43f4439d3e93\">\n",
              "  <button class=\"colab-df-quickchart\" onclick=\"quickchart('df-50cb6c82-d72b-4b1b-b701-43f4439d3e93')\"\n",
              "            title=\"Suggest charts\"\n",
              "            style=\"display:none;\">\n",
              "\n",
              "<svg xmlns=\"http://www.w3.org/2000/svg\" height=\"24px\"viewBox=\"0 0 24 24\"\n",
              "     width=\"24px\">\n",
              "    <g>\n",
              "        <path d=\"M19 3H5c-1.1 0-2 .9-2 2v14c0 1.1.9 2 2 2h14c1.1 0 2-.9 2-2V5c0-1.1-.9-2-2-2zM9 17H7v-7h2v7zm4 0h-2V7h2v10zm4 0h-2v-4h2v4z\"/>\n",
              "    </g>\n",
              "</svg>\n",
              "  </button>\n",
              "\n",
              "<style>\n",
              "  .colab-df-quickchart {\n",
              "      --bg-color: #E8F0FE;\n",
              "      --fill-color: #1967D2;\n",
              "      --hover-bg-color: #E2EBFA;\n",
              "      --hover-fill-color: #174EA6;\n",
              "      --disabled-fill-color: #AAA;\n",
              "      --disabled-bg-color: #DDD;\n",
              "  }\n",
              "\n",
              "  [theme=dark] .colab-df-quickchart {\n",
              "      --bg-color: #3B4455;\n",
              "      --fill-color: #D2E3FC;\n",
              "      --hover-bg-color: #434B5C;\n",
              "      --hover-fill-color: #FFFFFF;\n",
              "      --disabled-bg-color: #3B4455;\n",
              "      --disabled-fill-color: #666;\n",
              "  }\n",
              "\n",
              "  .colab-df-quickchart {\n",
              "    background-color: var(--bg-color);\n",
              "    border: none;\n",
              "    border-radius: 50%;\n",
              "    cursor: pointer;\n",
              "    display: none;\n",
              "    fill: var(--fill-color);\n",
              "    height: 32px;\n",
              "    padding: 0;\n",
              "    width: 32px;\n",
              "  }\n",
              "\n",
              "  .colab-df-quickchart:hover {\n",
              "    background-color: var(--hover-bg-color);\n",
              "    box-shadow: 0 1px 2px rgba(60, 64, 67, 0.3), 0 1px 3px 1px rgba(60, 64, 67, 0.15);\n",
              "    fill: var(--button-hover-fill-color);\n",
              "  }\n",
              "\n",
              "  .colab-df-quickchart-complete:disabled,\n",
              "  .colab-df-quickchart-complete:disabled:hover {\n",
              "    background-color: var(--disabled-bg-color);\n",
              "    fill: var(--disabled-fill-color);\n",
              "    box-shadow: none;\n",
              "  }\n",
              "\n",
              "  .colab-df-spinner {\n",
              "    border: 2px solid var(--fill-color);\n",
              "    border-color: transparent;\n",
              "    border-bottom-color: var(--fill-color);\n",
              "    animation:\n",
              "      spin 1s steps(1) infinite;\n",
              "  }\n",
              "\n",
              "  @keyframes spin {\n",
              "    0% {\n",
              "      border-color: transparent;\n",
              "      border-bottom-color: var(--fill-color);\n",
              "      border-left-color: var(--fill-color);\n",
              "    }\n",
              "    20% {\n",
              "      border-color: transparent;\n",
              "      border-left-color: var(--fill-color);\n",
              "      border-top-color: var(--fill-color);\n",
              "    }\n",
              "    30% {\n",
              "      border-color: transparent;\n",
              "      border-left-color: var(--fill-color);\n",
              "      border-top-color: var(--fill-color);\n",
              "      border-right-color: var(--fill-color);\n",
              "    }\n",
              "    40% {\n",
              "      border-color: transparent;\n",
              "      border-right-color: var(--fill-color);\n",
              "      border-top-color: var(--fill-color);\n",
              "    }\n",
              "    60% {\n",
              "      border-color: transparent;\n",
              "      border-right-color: var(--fill-color);\n",
              "    }\n",
              "    80% {\n",
              "      border-color: transparent;\n",
              "      border-right-color: var(--fill-color);\n",
              "      border-bottom-color: var(--fill-color);\n",
              "    }\n",
              "    90% {\n",
              "      border-color: transparent;\n",
              "      border-bottom-color: var(--fill-color);\n",
              "    }\n",
              "  }\n",
              "</style>\n",
              "\n",
              "  <script>\n",
              "    async function quickchart(key) {\n",
              "      const quickchartButtonEl =\n",
              "        document.querySelector('#' + key + ' button');\n",
              "      quickchartButtonEl.disabled = true;  // To prevent multiple clicks.\n",
              "      quickchartButtonEl.classList.add('colab-df-spinner');\n",
              "      try {\n",
              "        const charts = await google.colab.kernel.invokeFunction(\n",
              "            'suggestCharts', [key], {});\n",
              "      } catch (error) {\n",
              "        console.error('Error during call to suggestCharts:', error);\n",
              "      }\n",
              "      quickchartButtonEl.classList.remove('colab-df-spinner');\n",
              "      quickchartButtonEl.classList.add('colab-df-quickchart-complete');\n",
              "    }\n",
              "    (() => {\n",
              "      let quickchartButtonEl =\n",
              "        document.querySelector('#df-50cb6c82-d72b-4b1b-b701-43f4439d3e93 button');\n",
              "      quickchartButtonEl.style.display =\n",
              "        google.colab.kernel.accessAllowed ? 'block' : 'none';\n",
              "    })();\n",
              "  </script>\n",
              "</div>\n",
              "    </div>\n",
              "  </div>\n"
            ]
          },
          "metadata": {},
          "execution_count": 38
        }
      ]
    },
    {
      "cell_type": "code",
      "source": [
        "nltk.download('stopwords')\n",
        "nltk.download('punkt')"
      ],
      "metadata": {
        "colab": {
          "base_uri": "https://localhost:8080/"
        },
        "id": "FS7T3PHRgUqU",
        "outputId": "6c95704a-0f46-4aa0-f3c4-f4a34dd7bfc5"
      },
      "execution_count": 25,
      "outputs": [
        {
          "output_type": "stream",
          "name": "stderr",
          "text": [
            "[nltk_data] Downloading package stopwords to /root/nltk_data...\n",
            "[nltk_data]   Unzipping corpora/stopwords.zip.\n",
            "[nltk_data] Downloading package punkt to /root/nltk_data...\n",
            "[nltk_data]   Unzipping tokenizers/punkt.zip.\n"
          ]
        },
        {
          "output_type": "execute_result",
          "data": {
            "text/plain": [
              "True"
            ]
          },
          "metadata": {},
          "execution_count": 25
        }
      ]
    },
    {
      "cell_type": "markdown",
      "source": [
        "Calcolo la similarità del coseno tra le risposte dei due modelli fine-tuned per confrontare la vicinanza"
      ],
      "metadata": {
        "id": "efm02xzshz7u"
      }
    },
    {
      "cell_type": "code",
      "source": [
        "import pandas as pd\n",
        "import numpy as np\n",
        "\n",
        "import nltk\n",
        "from nltk.corpus import stopwords\n",
        "import string\n",
        "\n",
        "from sklearn.feature_extraction.text import TfidfVectorizer\n",
        "\n",
        "from tqdm import tqdm\n",
        "\n",
        "remove_punctuation_map = dict((ord(char), None) for char in string.punctuation)\n",
        "ita_stopwords = stopwords.words('italian')\n",
        "\n",
        "def preprocess(text):\n",
        "    return nltk.word_tokenize(text.lower().translate(remove_punctuation_map))\n",
        "\n",
        "vectorizer = TfidfVectorizer(tokenizer=preprocess, stop_words=ita_stopwords)\n",
        "\n",
        "def compute_similarity(a, b):\n",
        "    tfidf = vectorizer.fit_transform([a, b])\n",
        "    return ((tfidf * tfidf.T).toarray())[0, 1]\n",
        "\n",
        "similarities = []\n",
        "\n",
        "for i in tqdm(range(len(df))):\n",
        "    risposta1 = df.loc[i, 'Risposta']\n",
        "    risposta2 = df2.loc[i, 'Risposta']\n",
        "\n",
        "    similarity = compute_similarity(risposta1, risposta2)\n",
        "\n",
        "    similarities.append((risposta1, risposta2, similarity))\n",
        "\n",
        "df_similarity = pd.DataFrame(similarities, columns=['risposta1', 'risposta2', 'similarità'])\n",
        "\n",
        "df_similarity\n"
      ],
      "metadata": {
        "colab": {
          "base_uri": "https://localhost:8080/",
          "height": 8691
        },
        "id": "L0uR-I-ifu4-",
        "outputId": "30d5e508-1750-4de7-e6bf-4f07ae6a3257"
      },
      "execution_count": 30,
      "outputs": [
        {
          "output_type": "stream",
          "name": "stderr",
          "text": [
            "  0%|          | 0/10 [00:00<?, ?it/s]/usr/local/lib/python3.10/dist-packages/sklearn/feature_extraction/text.py:528: UserWarning: The parameter 'token_pattern' will not be used since 'tokenizer' is not None'\n",
            "  warnings.warn(\n",
            "100%|██████████| 10/10 [00:00<00:00, 58.62it/s]\n"
          ]
        },
        {
          "output_type": "execute_result",
          "data": {
            "text/plain": [
              "                                           risposta1  \\\n",
              "0  di Regione Campania, si precisa che l'agevolaz...   \n",
              "1  Per presentare la domanda di agevolazione, le ...   \n",
              "2  Sì, la scadenza è il 30 giugno 2016. Per prese...   \n",
              "3  I criteri di valutazione utilizzati per selezi...   \n",
              "4  Aiuti agli Investimenti delle Piccole e Medie ...   \n",
              "5  Si possono ottenere agevolazioni per investime...   \n",
              "6  Le agevolazioni sono erogate in conto interess...   \n",
              "7  I beneficiari dell'agevolazione devono rispett...   \n",
              "8  No, l'anticipazione dell'agevolazione non è pr...   \n",
              "9  Le domande di agevolazione dovranno essere ino...   \n",
              "\n",
              "                                           risposta2  similarità  \n",
              "0  Per accedere all'agevolazione prevista nell'Av...    0.043509  \n",
              "1  Per presentare la domanda di agevolazione, è n...    0.008285  \n",
              "2  Sì, la scadenza per la presentazione della dom...    0.188017  \n",
              "3  I criteri di valutazione utilizzati per selezi...    0.080077  \n",
              "4  La Regione Puglia, attraverso il POR FESR Pugl...    0.296356  \n",
              "5  Le tipologie di investimento ammissibili per o...    0.083952  \n",
              "6  La durata dell'agevolazione una volta ottenuta...    0.094956  \n",
              "7  I beneficiari dell'agevolazione devono rispett...    0.043417  \n",
              "8  Si, la Regione Puglia ha previsto la possibili...    0.074965  \n",
              "9  La Regione Puglia ha previsto una procedura se...    0.086827  "
            ],
            "text/html": [
              "\n",
              "  <div id=\"df-84dd0a3b-8444-4000-adde-0e9a3e0cad80\" class=\"colab-df-container\">\n",
              "    <div>\n",
              "<style scoped>\n",
              "    .dataframe tbody tr th:only-of-type {\n",
              "        vertical-align: middle;\n",
              "    }\n",
              "\n",
              "    .dataframe tbody tr th {\n",
              "        vertical-align: top;\n",
              "    }\n",
              "\n",
              "    .dataframe thead th {\n",
              "        text-align: right;\n",
              "    }\n",
              "</style>\n",
              "<table border=\"1\" class=\"dataframe\">\n",
              "  <thead>\n",
              "    <tr style=\"text-align: right;\">\n",
              "      <th></th>\n",
              "      <th>risposta1</th>\n",
              "      <th>risposta2</th>\n",
              "      <th>similarità</th>\n",
              "    </tr>\n",
              "  </thead>\n",
              "  <tbody>\n",
              "    <tr>\n",
              "      <th>0</th>\n",
              "      <td>di Regione Campania, si precisa che l'agevolaz...</td>\n",
              "      <td>Per accedere all'agevolazione prevista nell'Av...</td>\n",
              "      <td>0.043509</td>\n",
              "    </tr>\n",
              "    <tr>\n",
              "      <th>1</th>\n",
              "      <td>Per presentare la domanda di agevolazione, le ...</td>\n",
              "      <td>Per presentare la domanda di agevolazione, è n...</td>\n",
              "      <td>0.008285</td>\n",
              "    </tr>\n",
              "    <tr>\n",
              "      <th>2</th>\n",
              "      <td>Sì, la scadenza è il 30 giugno 2016. Per prese...</td>\n",
              "      <td>Sì, la scadenza per la presentazione della dom...</td>\n",
              "      <td>0.188017</td>\n",
              "    </tr>\n",
              "    <tr>\n",
              "      <th>3</th>\n",
              "      <td>I criteri di valutazione utilizzati per selezi...</td>\n",
              "      <td>I criteri di valutazione utilizzati per selezi...</td>\n",
              "      <td>0.080077</td>\n",
              "    </tr>\n",
              "    <tr>\n",
              "      <th>4</th>\n",
              "      <td>Aiuti agli Investimenti delle Piccole e Medie ...</td>\n",
              "      <td>La Regione Puglia, attraverso il POR FESR Pugl...</td>\n",
              "      <td>0.296356</td>\n",
              "    </tr>\n",
              "    <tr>\n",
              "      <th>5</th>\n",
              "      <td>Si possono ottenere agevolazioni per investime...</td>\n",
              "      <td>Le tipologie di investimento ammissibili per o...</td>\n",
              "      <td>0.083952</td>\n",
              "    </tr>\n",
              "    <tr>\n",
              "      <th>6</th>\n",
              "      <td>Le agevolazioni sono erogate in conto interess...</td>\n",
              "      <td>La durata dell'agevolazione una volta ottenuta...</td>\n",
              "      <td>0.094956</td>\n",
              "    </tr>\n",
              "    <tr>\n",
              "      <th>7</th>\n",
              "      <td>I beneficiari dell'agevolazione devono rispett...</td>\n",
              "      <td>I beneficiari dell'agevolazione devono rispett...</td>\n",
              "      <td>0.043417</td>\n",
              "    </tr>\n",
              "    <tr>\n",
              "      <th>8</th>\n",
              "      <td>No, l'anticipazione dell'agevolazione non è pr...</td>\n",
              "      <td>Si, la Regione Puglia ha previsto la possibili...</td>\n",
              "      <td>0.074965</td>\n",
              "    </tr>\n",
              "    <tr>\n",
              "      <th>9</th>\n",
              "      <td>Le domande di agevolazione dovranno essere ino...</td>\n",
              "      <td>La Regione Puglia ha previsto una procedura se...</td>\n",
              "      <td>0.086827</td>\n",
              "    </tr>\n",
              "  </tbody>\n",
              "</table>\n",
              "</div>\n",
              "    <div class=\"colab-df-buttons\">\n",
              "\n",
              "  <div class=\"colab-df-container\">\n",
              "    <button class=\"colab-df-convert\" onclick=\"convertToInteractive('df-84dd0a3b-8444-4000-adde-0e9a3e0cad80')\"\n",
              "            title=\"Convert this dataframe to an interactive table.\"\n",
              "            style=\"display:none;\">\n",
              "\n",
              "  <svg xmlns=\"http://www.w3.org/2000/svg\" height=\"24px\" viewBox=\"0 -960 960 960\">\n",
              "    <path d=\"M120-120v-720h720v720H120Zm60-500h600v-160H180v160Zm220 220h160v-160H400v160Zm0 220h160v-160H400v160ZM180-400h160v-160H180v160Zm440 0h160v-160H620v160ZM180-180h160v-160H180v160Zm440 0h160v-160H620v160Z\"/>\n",
              "  </svg>\n",
              "    </button>\n",
              "\n",
              "  <style>\n",
              "    .colab-df-container {\n",
              "      display:flex;\n",
              "      gap: 12px;\n",
              "    }\n",
              "\n",
              "    .colab-df-convert {\n",
              "      background-color: #E8F0FE;\n",
              "      border: none;\n",
              "      border-radius: 50%;\n",
              "      cursor: pointer;\n",
              "      display: none;\n",
              "      fill: #1967D2;\n",
              "      height: 32px;\n",
              "      padding: 0 0 0 0;\n",
              "      width: 32px;\n",
              "    }\n",
              "\n",
              "    .colab-df-convert:hover {\n",
              "      background-color: #E2EBFA;\n",
              "      box-shadow: 0px 1px 2px rgba(60, 64, 67, 0.3), 0px 1px 3px 1px rgba(60, 64, 67, 0.15);\n",
              "      fill: #174EA6;\n",
              "    }\n",
              "\n",
              "    .colab-df-buttons div {\n",
              "      margin-bottom: 4px;\n",
              "    }\n",
              "\n",
              "    [theme=dark] .colab-df-convert {\n",
              "      background-color: #3B4455;\n",
              "      fill: #D2E3FC;\n",
              "    }\n",
              "\n",
              "    [theme=dark] .colab-df-convert:hover {\n",
              "      background-color: #434B5C;\n",
              "      box-shadow: 0px 1px 3px 1px rgba(0, 0, 0, 0.15);\n",
              "      filter: drop-shadow(0px 1px 2px rgba(0, 0, 0, 0.3));\n",
              "      fill: #FFFFFF;\n",
              "    }\n",
              "  </style>\n",
              "\n",
              "    <script>\n",
              "      const buttonEl =\n",
              "        document.querySelector('#df-84dd0a3b-8444-4000-adde-0e9a3e0cad80 button.colab-df-convert');\n",
              "      buttonEl.style.display =\n",
              "        google.colab.kernel.accessAllowed ? 'block' : 'none';\n",
              "\n",
              "      async function convertToInteractive(key) {\n",
              "        const element = document.querySelector('#df-84dd0a3b-8444-4000-adde-0e9a3e0cad80');\n",
              "        const dataTable =\n",
              "          await google.colab.kernel.invokeFunction('convertToInteractive',\n",
              "                                                    [key], {});\n",
              "        if (!dataTable) return;\n",
              "\n",
              "        const docLinkHtml = 'Like what you see? Visit the ' +\n",
              "          '<a target=\"_blank\" href=https://colab.research.google.com/notebooks/data_table.ipynb>data table notebook</a>'\n",
              "          + ' to learn more about interactive tables.';\n",
              "        element.innerHTML = '';\n",
              "        dataTable['output_type'] = 'display_data';\n",
              "        await google.colab.output.renderOutput(dataTable, element);\n",
              "        const docLink = document.createElement('div');\n",
              "        docLink.innerHTML = docLinkHtml;\n",
              "        element.appendChild(docLink);\n",
              "      }\n",
              "    </script>\n",
              "  </div>\n",
              "\n",
              "\n",
              "<div id=\"df-317f46bc-1097-422d-bc65-23c9801ef714\">\n",
              "  <button class=\"colab-df-quickchart\" onclick=\"quickchart('df-317f46bc-1097-422d-bc65-23c9801ef714')\"\n",
              "            title=\"Suggest charts\"\n",
              "            style=\"display:none;\">\n",
              "\n",
              "<svg xmlns=\"http://www.w3.org/2000/svg\" height=\"24px\"viewBox=\"0 0 24 24\"\n",
              "     width=\"24px\">\n",
              "    <g>\n",
              "        <path d=\"M19 3H5c-1.1 0-2 .9-2 2v14c0 1.1.9 2 2 2h14c1.1 0 2-.9 2-2V5c0-1.1-.9-2-2-2zM9 17H7v-7h2v7zm4 0h-2V7h2v10zm4 0h-2v-4h2v4z\"/>\n",
              "    </g>\n",
              "</svg>\n",
              "  </button>\n",
              "\n",
              "<style>\n",
              "  .colab-df-quickchart {\n",
              "      --bg-color: #E8F0FE;\n",
              "      --fill-color: #1967D2;\n",
              "      --hover-bg-color: #E2EBFA;\n",
              "      --hover-fill-color: #174EA6;\n",
              "      --disabled-fill-color: #AAA;\n",
              "      --disabled-bg-color: #DDD;\n",
              "  }\n",
              "\n",
              "  [theme=dark] .colab-df-quickchart {\n",
              "      --bg-color: #3B4455;\n",
              "      --fill-color: #D2E3FC;\n",
              "      --hover-bg-color: #434B5C;\n",
              "      --hover-fill-color: #FFFFFF;\n",
              "      --disabled-bg-color: #3B4455;\n",
              "      --disabled-fill-color: #666;\n",
              "  }\n",
              "\n",
              "  .colab-df-quickchart {\n",
              "    background-color: var(--bg-color);\n",
              "    border: none;\n",
              "    border-radius: 50%;\n",
              "    cursor: pointer;\n",
              "    display: none;\n",
              "    fill: var(--fill-color);\n",
              "    height: 32px;\n",
              "    padding: 0;\n",
              "    width: 32px;\n",
              "  }\n",
              "\n",
              "  .colab-df-quickchart:hover {\n",
              "    background-color: var(--hover-bg-color);\n",
              "    box-shadow: 0 1px 2px rgba(60, 64, 67, 0.3), 0 1px 3px 1px rgba(60, 64, 67, 0.15);\n",
              "    fill: var(--button-hover-fill-color);\n",
              "  }\n",
              "\n",
              "  .colab-df-quickchart-complete:disabled,\n",
              "  .colab-df-quickchart-complete:disabled:hover {\n",
              "    background-color: var(--disabled-bg-color);\n",
              "    fill: var(--disabled-fill-color);\n",
              "    box-shadow: none;\n",
              "  }\n",
              "\n",
              "  .colab-df-spinner {\n",
              "    border: 2px solid var(--fill-color);\n",
              "    border-color: transparent;\n",
              "    border-bottom-color: var(--fill-color);\n",
              "    animation:\n",
              "      spin 1s steps(1) infinite;\n",
              "  }\n",
              "\n",
              "  @keyframes spin {\n",
              "    0% {\n",
              "      border-color: transparent;\n",
              "      border-bottom-color: var(--fill-color);\n",
              "      border-left-color: var(--fill-color);\n",
              "    }\n",
              "    20% {\n",
              "      border-color: transparent;\n",
              "      border-left-color: var(--fill-color);\n",
              "      border-top-color: var(--fill-color);\n",
              "    }\n",
              "    30% {\n",
              "      border-color: transparent;\n",
              "      border-left-color: var(--fill-color);\n",
              "      border-top-color: var(--fill-color);\n",
              "      border-right-color: var(--fill-color);\n",
              "    }\n",
              "    40% {\n",
              "      border-color: transparent;\n",
              "      border-right-color: var(--fill-color);\n",
              "      border-top-color: var(--fill-color);\n",
              "    }\n",
              "    60% {\n",
              "      border-color: transparent;\n",
              "      border-right-color: var(--fill-color);\n",
              "    }\n",
              "    80% {\n",
              "      border-color: transparent;\n",
              "      border-right-color: var(--fill-color);\n",
              "      border-bottom-color: var(--fill-color);\n",
              "    }\n",
              "    90% {\n",
              "      border-color: transparent;\n",
              "      border-bottom-color: var(--fill-color);\n",
              "    }\n",
              "  }\n",
              "</style>\n",
              "\n",
              "  <script>\n",
              "    async function quickchart(key) {\n",
              "      const quickchartButtonEl =\n",
              "        document.querySelector('#' + key + ' button');\n",
              "      quickchartButtonEl.disabled = true;  // To prevent multiple clicks.\n",
              "      quickchartButtonEl.classList.add('colab-df-spinner');\n",
              "      try {\n",
              "        const charts = await google.colab.kernel.invokeFunction(\n",
              "            'suggestCharts', [key], {});\n",
              "      } catch (error) {\n",
              "        console.error('Error during call to suggestCharts:', error);\n",
              "      }\n",
              "      quickchartButtonEl.classList.remove('colab-df-spinner');\n",
              "      quickchartButtonEl.classList.add('colab-df-quickchart-complete');\n",
              "    }\n",
              "    (() => {\n",
              "      let quickchartButtonEl =\n",
              "        document.querySelector('#df-317f46bc-1097-422d-bc65-23c9801ef714 button');\n",
              "      quickchartButtonEl.style.display =\n",
              "        google.colab.kernel.accessAllowed ? 'block' : 'none';\n",
              "    })();\n",
              "  </script>\n",
              "</div>\n",
              "    </div>\n",
              "  </div>\n"
            ]
          },
          "metadata": {},
          "execution_count": 30
        }
      ]
    },
    {
      "cell_type": "code",
      "source": [
        "df_similarity.to_csv(\"similarities.csv\", index=False, encoding=\"utf-8\")\n",
        "\n",
        "print(\"DataFrame delle similarità salvato su disco come file CSV con successo.\")"
      ],
      "metadata": {
        "id": "eHXr4Yo0iWO7",
        "outputId": "9004733c-5060-4752-ce16-0d1f487c2501",
        "colab": {
          "base_uri": "https://localhost:8080/"
        }
      },
      "execution_count": 39,
      "outputs": [
        {
          "output_type": "stream",
          "name": "stdout",
          "text": [
            "DataFrame delle similarità salvato su disco come file CSV con successo.\n"
          ]
        }
      ]
    },
    {
      "cell_type": "markdown",
      "source": [
        "# Conclusioni\n",
        "\n",
        "\n",
        "* Costo generazione del prompt dal testo: 3 dollari\n",
        "* Costo fine tuning con 4 epoche 1.5 dollari\n",
        "* Costo fine tuning miglioramento delle domande 2 dollari\n",
        "* Costo totale 4 epoche 3.5 dollari\n",
        "* Costo fine tuning con 6 epoche 3.5 dollari\n",
        "\n",
        "\n",
        "\n",
        "\n",
        "\n",
        "Quindi i costi tra il miglioramento delle domande e il modello addrestrato sulle domande non migliorate ma con 6 epoche è lo stesso, e le risposte date sono equalmente buone, in molti casi è meglio il modello fine-tuned con la completion migliorata e in alcuni casi l' altro. La risposta con la completion migliorata sembra essere molto più naturale. Inoltre i costi di utilizzo sono altrettando uguali. Ogni tanto comunque le risposte soffrono comunque il fenomeno dell'Hallucination, contenente testo ridondante\n",
        "\n",
        "edit. ho risolto la ridondanza inserendo nei parametri frequency_penalty=1"
      ],
      "metadata": {
        "id": "53UMqZaF6ZLr"
      }
    }
  ]
}