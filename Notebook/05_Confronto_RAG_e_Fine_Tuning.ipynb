{
  "cells": [
    {
      "cell_type": "markdown",
      "source": [
        "#Confronto fra RAG e Fine-tuning"
      ],
      "metadata": {
        "id": "BuordqNsTDXh"
      }
    },
    {
      "cell_type": "code",
      "execution_count": null,
      "metadata": {
        "id": "Agf_yALssRQm"
      },
      "outputs": [],
      "source": [
        "!pip install pypdf\n",
        "!pip install langchain\n",
        "!pip install openai==0.28.1\n",
        "!pip install chromadb\n",
        "!pip install tiktoken\n",
        "!pip install pinecone-client\n",
        "!pip install python-dotenv"
      ]
    },
    {
      "cell_type": "code",
      "execution_count": 2,
      "metadata": {
        "colab": {
          "base_uri": "https://localhost:8080/"
        },
        "id": "FiT01Frksvy6",
        "outputId": "29af9284-3c38-4907-8440-3e94da87566c"
      },
      "outputs": [
        {
          "output_type": "stream",
          "name": "stdout",
          "text": [
            "Mounted at /content/drive/\n",
            "/content/drive/My Drive\n"
          ]
        },
        {
          "output_type": "execute_result",
          "data": {
            "text/plain": [
              "True"
            ]
          },
          "metadata": {},
          "execution_count": 2
        }
      ],
      "source": [
        "from google.colab import drive, files\n",
        "import os\n",
        "from dotenv import load_dotenv, find_dotenv\n",
        "drive.mount(\"/content/drive/\", force_remount=False)\n",
        "%cd \"/content/drive/My Drive/\"\n",
        "load_dotenv('./Lab_Python/.env')"
      ]
    },
    {
      "cell_type": "code",
      "execution_count": 3,
      "metadata": {
        "id": "nLkAS5Y_t4wN"
      },
      "outputs": [],
      "source": [
        "import pandas as pd\n",
        "\n",
        "fine_tuning_dataset = pd.read_json(\"./Tesi/fine_tune_improved.json\")\n",
        "dataset_query = pd.read_json(\"./Tesi/prova_domande_fine_tuning.json\")"
      ]
    },
    {
      "cell_type": "code",
      "execution_count": 23,
      "metadata": {
        "colab": {
          "base_uri": "https://localhost:8080/"
        },
        "id": "R-2uAkXs-i4f",
        "outputId": "513ed612-c16f-444a-ff3e-4f8ee230fe39"
      },
      "outputs": [
        {
          "output_type": "stream",
          "name": "stdout",
          "text": [
            "Qual è il modo per partecipare all'Avviso MicroPrestito della Regione Puglia? in riferimento al documento: 'Scheda MicroPrestito della Regione Puglia - edizione 2021.pdf'\n"
          ]
        }
      ],
      "source": [
        "query1 = fine_tuning_dataset.prompt[0]\n",
        "print(query1)"
      ]
    },
    {
      "cell_type": "code",
      "execution_count": 24,
      "metadata": {
        "colab": {
          "base_uri": "https://localhost:8080/",
          "height": 1000
        },
        "id": "Ji7YoAJvwJlv",
        "outputId": "113ba502-2d24-41e7-d59f-b0deb20e2fa4"
      },
      "outputs": [
        {
          "output_type": "execute_result",
          "data": {
            "text/plain": [
              "                                               prompt  \\\n",
              "0   Qual è il modo per partecipare all'Avviso Micr...   \n",
              "1   Quale documentazione è necessaria per la prese...   \n",
              "2   Quali sono le categorie di soggetti che posson...   \n",
              "3   Quali sono i codici ATECO ammissibili per le i...   \n",
              "4   Qual è l'agevolazione prevista per gli investi...   \n",
              "5   Quali sono le modalità per accedere alle agevo...   \n",
              "6   Quali servizi sono offerti dagli sportelli inf...   \n",
              "7   Quali sono i requisiti per le imprese che inte...   \n",
              "8   Quali sono le attività economiche ammissibili ...   \n",
              "9   Quali spese non sono ammissibili alle agevolaz...   \n",
              "10  Quale valore di spread viene aggiornato ogni a...   \n",
              "11  Qual è l'importo massimo del contributo aggiun...   \n",
              "12  Quali sono le procedure da seguire per present...   \n",
              "13  Quali sono le modalità per ottenere l'agevolaz...   \n",
              "14  Quali sono le attività che può realizzare un'i...   \n",
              "15  Quali sono le attività turistico-alberghiere a...   \n",
              "16  Quali sono le tipologie di impianti di produzi...   \n",
              "17  Quali sono le condizioni necessarie per inizia...   \n",
              "18  Che tipo di agevolazioni e investimenti sono p...   \n",
              "19  Qual è l'intensità massima di aiuto per le med...   \n",
              "20  Quali sono le informazioni necessarie per la g...   \n",
              "21  Quali sono le principali strategie per formula...   \n",
              "22  Quali sono i requisiti richiesti alle imprese ...   \n",
              "23  Quali sono le attività ammissibili al Contratt...   \n",
              "24  Quali sono le tariffe applicate e quali sono i...   \n",
              "25  Quali sono le agevolazioni massime previste pe...   \n",
              "26  Quali sono i requisiti necessari per richieder...   \n",
              "27  Quali sono i siti web che forniscono informazi...   \n",
              "28  Quali sono i Codici Ateco ammissibili per acce...   \n",
              "29  Quali sono i requisiti necessari per presentar...   \n",
              "30  Quali sono i requisiti necessari per le PMI ad...   \n",
              "31  Quali sono le tipologie d'investimento che pre...   \n",
              "\n",
              "                                           completion  \n",
              "0   L'Avviso MicroPrestito della Regione Puglia è ...  \n",
              "1   Per presentare la domanda di agevolazione, è n...  \n",
              "2   La misura NIDI offre un aiuto per l'avvio di u...  \n",
              "3   I codici ATECO ammissibili per le imprese conf...  \n",
              "4   Per le iniziative in continuità con imprese pr...  \n",
              "5   di Puglia Sviluppo S.p.A.\\nLe agevolazioni del...  \n",
              "6   Sul sito www.sistema.puglia.it/nidi è possibil...  \n",
              "7   Le imprese che intendono accedere al Titolo II...  \n",
              "8   Sono ammissibili a beneficiare dell'agevolazio...  \n",
              "9   Non sono ammissibili alle agevolazioni previst...  \n",
              "10  Il contributo in conto impianti viene erogato ...  \n",
              "11  Nel documento 'Aiuti agli Investimenti delle P...  \n",
              "12  Le domande di agevolazione devono essere inolt...  \n",
              "13  Il Fondo Europeo di Sviluppo Regionale (FESR) ...  \n",
              "14  si possono realizzare investimenti in unità lo...  \n",
              "15  Le attività turistico-alberghiere ammissibili ...  \n",
              "16  Sono ammissibili investimenti per la realizzaz...  \n",
              "17  si evidenzia che, ai sensi dell’articolo 2, pu...  \n",
              "18  si precisa che l'aiuto sarà erogato in forma d...  \n",
              "19  Le imprese che beneficiano degli aiuti di cui ...  \n",
              "20  Il Soggetto Finanziatore o il Confidi, al fine...  \n",
              "21  Quali sono le principali strategie per formula...  \n",
              "22  si prevede che possano richiedere l'agevolazio...  \n",
              "23  Si possono realizzare investimenti in unità lo...  \n",
              "24  La Tavola Tecnica della Regione Puglia, AGER, ...  \n",
              "25  Le agevolazioni massime previste per gli inves...  \n",
              "26  Le PMI aderenti possono richiedere agevolazion...  \n",
              "27  La Regione Puglia, a seguito dell'esame della ...  \n",
              "28  Per accedere al finanziamento previsto nel doc...  \n",
              "29  Puglia Sviluppo, in collaborazione con l'Union...  \n",
              "30  Tutte le PMI aderenti attive che partecipano a...  \n",
              "31  Il Programma Integrato di Agevolazione PIA Tur...  "
            ],
            "text/html": [
              "\n",
              "  <div id=\"df-19b387f8-8597-4b30-9c66-afd11295e2c4\" class=\"colab-df-container\">\n",
              "    <div>\n",
              "<style scoped>\n",
              "    .dataframe tbody tr th:only-of-type {\n",
              "        vertical-align: middle;\n",
              "    }\n",
              "\n",
              "    .dataframe tbody tr th {\n",
              "        vertical-align: top;\n",
              "    }\n",
              "\n",
              "    .dataframe thead th {\n",
              "        text-align: right;\n",
              "    }\n",
              "</style>\n",
              "<table border=\"1\" class=\"dataframe\">\n",
              "  <thead>\n",
              "    <tr style=\"text-align: right;\">\n",
              "      <th></th>\n",
              "      <th>prompt</th>\n",
              "      <th>completion</th>\n",
              "    </tr>\n",
              "  </thead>\n",
              "  <tbody>\n",
              "    <tr>\n",
              "      <th>0</th>\n",
              "      <td>Qual è il modo per partecipare all'Avviso Micr...</td>\n",
              "      <td>L'Avviso MicroPrestito della Regione Puglia è ...</td>\n",
              "    </tr>\n",
              "    <tr>\n",
              "      <th>1</th>\n",
              "      <td>Quale documentazione è necessaria per la prese...</td>\n",
              "      <td>Per presentare la domanda di agevolazione, è n...</td>\n",
              "    </tr>\n",
              "    <tr>\n",
              "      <th>2</th>\n",
              "      <td>Quali sono le categorie di soggetti che posson...</td>\n",
              "      <td>La misura NIDI offre un aiuto per l'avvio di u...</td>\n",
              "    </tr>\n",
              "    <tr>\n",
              "      <th>3</th>\n",
              "      <td>Quali sono i codici ATECO ammissibili per le i...</td>\n",
              "      <td>I codici ATECO ammissibili per le imprese conf...</td>\n",
              "    </tr>\n",
              "    <tr>\n",
              "      <th>4</th>\n",
              "      <td>Qual è l'agevolazione prevista per gli investi...</td>\n",
              "      <td>Per le iniziative in continuità con imprese pr...</td>\n",
              "    </tr>\n",
              "    <tr>\n",
              "      <th>5</th>\n",
              "      <td>Quali sono le modalità per accedere alle agevo...</td>\n",
              "      <td>di Puglia Sviluppo S.p.A.\\nLe agevolazioni del...</td>\n",
              "    </tr>\n",
              "    <tr>\n",
              "      <th>6</th>\n",
              "      <td>Quali servizi sono offerti dagli sportelli inf...</td>\n",
              "      <td>Sul sito www.sistema.puglia.it/nidi è possibil...</td>\n",
              "    </tr>\n",
              "    <tr>\n",
              "      <th>7</th>\n",
              "      <td>Quali sono i requisiti per le imprese che inte...</td>\n",
              "      <td>Le imprese che intendono accedere al Titolo II...</td>\n",
              "    </tr>\n",
              "    <tr>\n",
              "      <th>8</th>\n",
              "      <td>Quali sono le attività economiche ammissibili ...</td>\n",
              "      <td>Sono ammissibili a beneficiare dell'agevolazio...</td>\n",
              "    </tr>\n",
              "    <tr>\n",
              "      <th>9</th>\n",
              "      <td>Quali spese non sono ammissibili alle agevolaz...</td>\n",
              "      <td>Non sono ammissibili alle agevolazioni previst...</td>\n",
              "    </tr>\n",
              "    <tr>\n",
              "      <th>10</th>\n",
              "      <td>Quale valore di spread viene aggiornato ogni a...</td>\n",
              "      <td>Il contributo in conto impianti viene erogato ...</td>\n",
              "    </tr>\n",
              "    <tr>\n",
              "      <th>11</th>\n",
              "      <td>Qual è l'importo massimo del contributo aggiun...</td>\n",
              "      <td>Nel documento 'Aiuti agli Investimenti delle P...</td>\n",
              "    </tr>\n",
              "    <tr>\n",
              "      <th>12</th>\n",
              "      <td>Quali sono le procedure da seguire per present...</td>\n",
              "      <td>Le domande di agevolazione devono essere inolt...</td>\n",
              "    </tr>\n",
              "    <tr>\n",
              "      <th>13</th>\n",
              "      <td>Quali sono le modalità per ottenere l'agevolaz...</td>\n",
              "      <td>Il Fondo Europeo di Sviluppo Regionale (FESR) ...</td>\n",
              "    </tr>\n",
              "    <tr>\n",
              "      <th>14</th>\n",
              "      <td>Quali sono le attività che può realizzare un'i...</td>\n",
              "      <td>si possono realizzare investimenti in unità lo...</td>\n",
              "    </tr>\n",
              "    <tr>\n",
              "      <th>15</th>\n",
              "      <td>Quali sono le attività turistico-alberghiere a...</td>\n",
              "      <td>Le attività turistico-alberghiere ammissibili ...</td>\n",
              "    </tr>\n",
              "    <tr>\n",
              "      <th>16</th>\n",
              "      <td>Quali sono le tipologie di impianti di produzi...</td>\n",
              "      <td>Sono ammissibili investimenti per la realizzaz...</td>\n",
              "    </tr>\n",
              "    <tr>\n",
              "      <th>17</th>\n",
              "      <td>Quali sono le condizioni necessarie per inizia...</td>\n",
              "      <td>si evidenzia che, ai sensi dell’articolo 2, pu...</td>\n",
              "    </tr>\n",
              "    <tr>\n",
              "      <th>18</th>\n",
              "      <td>Che tipo di agevolazioni e investimenti sono p...</td>\n",
              "      <td>si precisa che l'aiuto sarà erogato in forma d...</td>\n",
              "    </tr>\n",
              "    <tr>\n",
              "      <th>19</th>\n",
              "      <td>Qual è l'intensità massima di aiuto per le med...</td>\n",
              "      <td>Le imprese che beneficiano degli aiuti di cui ...</td>\n",
              "    </tr>\n",
              "    <tr>\n",
              "      <th>20</th>\n",
              "      <td>Quali sono le informazioni necessarie per la g...</td>\n",
              "      <td>Il Soggetto Finanziatore o il Confidi, al fine...</td>\n",
              "    </tr>\n",
              "    <tr>\n",
              "      <th>21</th>\n",
              "      <td>Quali sono le principali strategie per formula...</td>\n",
              "      <td>Quali sono le principali strategie per formula...</td>\n",
              "    </tr>\n",
              "    <tr>\n",
              "      <th>22</th>\n",
              "      <td>Quali sono i requisiti richiesti alle imprese ...</td>\n",
              "      <td>si prevede che possano richiedere l'agevolazio...</td>\n",
              "    </tr>\n",
              "    <tr>\n",
              "      <th>23</th>\n",
              "      <td>Quali sono le attività ammissibili al Contratt...</td>\n",
              "      <td>Si possono realizzare investimenti in unità lo...</td>\n",
              "    </tr>\n",
              "    <tr>\n",
              "      <th>24</th>\n",
              "      <td>Quali sono le tariffe applicate e quali sono i...</td>\n",
              "      <td>La Tavola Tecnica della Regione Puglia, AGER, ...</td>\n",
              "    </tr>\n",
              "    <tr>\n",
              "      <th>25</th>\n",
              "      <td>Quali sono le agevolazioni massime previste pe...</td>\n",
              "      <td>Le agevolazioni massime previste per gli inves...</td>\n",
              "    </tr>\n",
              "    <tr>\n",
              "      <th>26</th>\n",
              "      <td>Quali sono i requisiti necessari per richieder...</td>\n",
              "      <td>Le PMI aderenti possono richiedere agevolazion...</td>\n",
              "    </tr>\n",
              "    <tr>\n",
              "      <th>27</th>\n",
              "      <td>Quali sono i siti web che forniscono informazi...</td>\n",
              "      <td>La Regione Puglia, a seguito dell'esame della ...</td>\n",
              "    </tr>\n",
              "    <tr>\n",
              "      <th>28</th>\n",
              "      <td>Quali sono i Codici Ateco ammissibili per acce...</td>\n",
              "      <td>Per accedere al finanziamento previsto nel doc...</td>\n",
              "    </tr>\n",
              "    <tr>\n",
              "      <th>29</th>\n",
              "      <td>Quali sono i requisiti necessari per presentar...</td>\n",
              "      <td>Puglia Sviluppo, in collaborazione con l'Union...</td>\n",
              "    </tr>\n",
              "    <tr>\n",
              "      <th>30</th>\n",
              "      <td>Quali sono i requisiti necessari per le PMI ad...</td>\n",
              "      <td>Tutte le PMI aderenti attive che partecipano a...</td>\n",
              "    </tr>\n",
              "    <tr>\n",
              "      <th>31</th>\n",
              "      <td>Quali sono le tipologie d'investimento che pre...</td>\n",
              "      <td>Il Programma Integrato di Agevolazione PIA Tur...</td>\n",
              "    </tr>\n",
              "  </tbody>\n",
              "</table>\n",
              "</div>\n",
              "    <div class=\"colab-df-buttons\">\n",
              "\n",
              "  <div class=\"colab-df-container\">\n",
              "    <button class=\"colab-df-convert\" onclick=\"convertToInteractive('df-19b387f8-8597-4b30-9c66-afd11295e2c4')\"\n",
              "            title=\"Convert this dataframe to an interactive table.\"\n",
              "            style=\"display:none;\">\n",
              "\n",
              "  <svg xmlns=\"http://www.w3.org/2000/svg\" height=\"24px\" viewBox=\"0 -960 960 960\">\n",
              "    <path d=\"M120-120v-720h720v720H120Zm60-500h600v-160H180v160Zm220 220h160v-160H400v160Zm0 220h160v-160H400v160ZM180-400h160v-160H180v160Zm440 0h160v-160H620v160ZM180-180h160v-160H180v160Zm440 0h160v-160H620v160Z\"/>\n",
              "  </svg>\n",
              "    </button>\n",
              "\n",
              "  <style>\n",
              "    .colab-df-container {\n",
              "      display:flex;\n",
              "      gap: 12px;\n",
              "    }\n",
              "\n",
              "    .colab-df-convert {\n",
              "      background-color: #E8F0FE;\n",
              "      border: none;\n",
              "      border-radius: 50%;\n",
              "      cursor: pointer;\n",
              "      display: none;\n",
              "      fill: #1967D2;\n",
              "      height: 32px;\n",
              "      padding: 0 0 0 0;\n",
              "      width: 32px;\n",
              "    }\n",
              "\n",
              "    .colab-df-convert:hover {\n",
              "      background-color: #E2EBFA;\n",
              "      box-shadow: 0px 1px 2px rgba(60, 64, 67, 0.3), 0px 1px 3px 1px rgba(60, 64, 67, 0.15);\n",
              "      fill: #174EA6;\n",
              "    }\n",
              "\n",
              "    .colab-df-buttons div {\n",
              "      margin-bottom: 4px;\n",
              "    }\n",
              "\n",
              "    [theme=dark] .colab-df-convert {\n",
              "      background-color: #3B4455;\n",
              "      fill: #D2E3FC;\n",
              "    }\n",
              "\n",
              "    [theme=dark] .colab-df-convert:hover {\n",
              "      background-color: #434B5C;\n",
              "      box-shadow: 0px 1px 3px 1px rgba(0, 0, 0, 0.15);\n",
              "      filter: drop-shadow(0px 1px 2px rgba(0, 0, 0, 0.3));\n",
              "      fill: #FFFFFF;\n",
              "    }\n",
              "  </style>\n",
              "\n",
              "    <script>\n",
              "      const buttonEl =\n",
              "        document.querySelector('#df-19b387f8-8597-4b30-9c66-afd11295e2c4 button.colab-df-convert');\n",
              "      buttonEl.style.display =\n",
              "        google.colab.kernel.accessAllowed ? 'block' : 'none';\n",
              "\n",
              "      async function convertToInteractive(key) {\n",
              "        const element = document.querySelector('#df-19b387f8-8597-4b30-9c66-afd11295e2c4');\n",
              "        const dataTable =\n",
              "          await google.colab.kernel.invokeFunction('convertToInteractive',\n",
              "                                                    [key], {});\n",
              "        if (!dataTable) return;\n",
              "\n",
              "        const docLinkHtml = 'Like what you see? Visit the ' +\n",
              "          '<a target=\"_blank\" href=https://colab.research.google.com/notebooks/data_table.ipynb>data table notebook</a>'\n",
              "          + ' to learn more about interactive tables.';\n",
              "        element.innerHTML = '';\n",
              "        dataTable['output_type'] = 'display_data';\n",
              "        await google.colab.output.renderOutput(dataTable, element);\n",
              "        const docLink = document.createElement('div');\n",
              "        docLink.innerHTML = docLinkHtml;\n",
              "        element.appendChild(docLink);\n",
              "      }\n",
              "    </script>\n",
              "  </div>\n",
              "\n",
              "\n",
              "<div id=\"df-84788ab1-56d4-49cc-a6cb-5d333032f620\">\n",
              "  <button class=\"colab-df-quickchart\" onclick=\"quickchart('df-84788ab1-56d4-49cc-a6cb-5d333032f620')\"\n",
              "            title=\"Suggest charts\"\n",
              "            style=\"display:none;\">\n",
              "\n",
              "<svg xmlns=\"http://www.w3.org/2000/svg\" height=\"24px\"viewBox=\"0 0 24 24\"\n",
              "     width=\"24px\">\n",
              "    <g>\n",
              "        <path d=\"M19 3H5c-1.1 0-2 .9-2 2v14c0 1.1.9 2 2 2h14c1.1 0 2-.9 2-2V5c0-1.1-.9-2-2-2zM9 17H7v-7h2v7zm4 0h-2V7h2v10zm4 0h-2v-4h2v4z\"/>\n",
              "    </g>\n",
              "</svg>\n",
              "  </button>\n",
              "\n",
              "<style>\n",
              "  .colab-df-quickchart {\n",
              "      --bg-color: #E8F0FE;\n",
              "      --fill-color: #1967D2;\n",
              "      --hover-bg-color: #E2EBFA;\n",
              "      --hover-fill-color: #174EA6;\n",
              "      --disabled-fill-color: #AAA;\n",
              "      --disabled-bg-color: #DDD;\n",
              "  }\n",
              "\n",
              "  [theme=dark] .colab-df-quickchart {\n",
              "      --bg-color: #3B4455;\n",
              "      --fill-color: #D2E3FC;\n",
              "      --hover-bg-color: #434B5C;\n",
              "      --hover-fill-color: #FFFFFF;\n",
              "      --disabled-bg-color: #3B4455;\n",
              "      --disabled-fill-color: #666;\n",
              "  }\n",
              "\n",
              "  .colab-df-quickchart {\n",
              "    background-color: var(--bg-color);\n",
              "    border: none;\n",
              "    border-radius: 50%;\n",
              "    cursor: pointer;\n",
              "    display: none;\n",
              "    fill: var(--fill-color);\n",
              "    height: 32px;\n",
              "    padding: 0;\n",
              "    width: 32px;\n",
              "  }\n",
              "\n",
              "  .colab-df-quickchart:hover {\n",
              "    background-color: var(--hover-bg-color);\n",
              "    box-shadow: 0 1px 2px rgba(60, 64, 67, 0.3), 0 1px 3px 1px rgba(60, 64, 67, 0.15);\n",
              "    fill: var(--button-hover-fill-color);\n",
              "  }\n",
              "\n",
              "  .colab-df-quickchart-complete:disabled,\n",
              "  .colab-df-quickchart-complete:disabled:hover {\n",
              "    background-color: var(--disabled-bg-color);\n",
              "    fill: var(--disabled-fill-color);\n",
              "    box-shadow: none;\n",
              "  }\n",
              "\n",
              "  .colab-df-spinner {\n",
              "    border: 2px solid var(--fill-color);\n",
              "    border-color: transparent;\n",
              "    border-bottom-color: var(--fill-color);\n",
              "    animation:\n",
              "      spin 1s steps(1) infinite;\n",
              "  }\n",
              "\n",
              "  @keyframes spin {\n",
              "    0% {\n",
              "      border-color: transparent;\n",
              "      border-bottom-color: var(--fill-color);\n",
              "      border-left-color: var(--fill-color);\n",
              "    }\n",
              "    20% {\n",
              "      border-color: transparent;\n",
              "      border-left-color: var(--fill-color);\n",
              "      border-top-color: var(--fill-color);\n",
              "    }\n",
              "    30% {\n",
              "      border-color: transparent;\n",
              "      border-left-color: var(--fill-color);\n",
              "      border-top-color: var(--fill-color);\n",
              "      border-right-color: var(--fill-color);\n",
              "    }\n",
              "    40% {\n",
              "      border-color: transparent;\n",
              "      border-right-color: var(--fill-color);\n",
              "      border-top-color: var(--fill-color);\n",
              "    }\n",
              "    60% {\n",
              "      border-color: transparent;\n",
              "      border-right-color: var(--fill-color);\n",
              "    }\n",
              "    80% {\n",
              "      border-color: transparent;\n",
              "      border-right-color: var(--fill-color);\n",
              "      border-bottom-color: var(--fill-color);\n",
              "    }\n",
              "    90% {\n",
              "      border-color: transparent;\n",
              "      border-bottom-color: var(--fill-color);\n",
              "    }\n",
              "  }\n",
              "</style>\n",
              "\n",
              "  <script>\n",
              "    async function quickchart(key) {\n",
              "      const quickchartButtonEl =\n",
              "        document.querySelector('#' + key + ' button');\n",
              "      quickchartButtonEl.disabled = true;  // To prevent multiple clicks.\n",
              "      quickchartButtonEl.classList.add('colab-df-spinner');\n",
              "      try {\n",
              "        const charts = await google.colab.kernel.invokeFunction(\n",
              "            'suggestCharts', [key], {});\n",
              "      } catch (error) {\n",
              "        console.error('Error during call to suggestCharts:', error);\n",
              "      }\n",
              "      quickchartButtonEl.classList.remove('colab-df-spinner');\n",
              "      quickchartButtonEl.classList.add('colab-df-quickchart-complete');\n",
              "    }\n",
              "    (() => {\n",
              "      let quickchartButtonEl =\n",
              "        document.querySelector('#df-84788ab1-56d4-49cc-a6cb-5d333032f620 button');\n",
              "      quickchartButtonEl.style.display =\n",
              "        google.colab.kernel.accessAllowed ? 'block' : 'none';\n",
              "    })();\n",
              "  </script>\n",
              "</div>\n",
              "    </div>\n",
              "  </div>\n"
            ]
          },
          "metadata": {},
          "execution_count": 24
        }
      ],
      "source": [
        "fine_tuning_dataset.head(32)"
      ]
    },
    {
      "cell_type": "code",
      "execution_count": null,
      "metadata": {
        "colab": {
          "base_uri": "https://localhost:8080/"
        },
        "id": "SVmcOOicxKbz",
        "outputId": "60f7b844-5d0d-47ee-ae53-aaf75d9306c1"
      },
      "outputs": [
        {
          "output_type": "stream",
          "name": "stdout",
          "text": [
            "gpt-3.5-turbo\n"
          ]
        }
      ],
      "source": [
        "import datetime\n",
        "current_date = datetime.datetime.now().date()\n",
        "if current_date < datetime.date(2023, 9, 2):\n",
        "    llm_name = \"gpt-3.5-turbo-0301\"\n",
        "else:\n",
        "    llm_name = \"gpt-3.5-turbo\"\n",
        "print(llm_name)"
      ]
    },
    {
      "cell_type": "code",
      "execution_count": null,
      "metadata": {
        "id": "RCFSSQXzxaW2"
      },
      "outputs": [],
      "source": [
        "import os\n",
        "os.environ[\"LANGCHAIN_TRACING_V2\"] = \"true\"\n",
        "os.environ[\"LANGCHAIN_ENDPOINT\"] = \"https://api.langchain.plus\"\n",
        "os.environ[\"LANGCHAIN_API_KEY\"] = \"ls__0554eeed658141b4a601195abd6c737d\""
      ]
    },
    {
      "cell_type": "code",
      "execution_count": null,
      "metadata": {
        "id": "CLtOtS5lxfaO"
      },
      "outputs": [],
      "source": [
        "import os\n",
        "from langchain.document_loaders import PyPDFLoader\n",
        "\n",
        "pdf_directory = \"Tesi/Documenti\"\n",
        "\n",
        "pdf_files = [file for file in os.listdir(pdf_directory) if file.endswith('.pdf')]\n",
        "\n",
        "docs = []\n",
        "\n",
        "for pdf_file in pdf_files:\n",
        "  file_path = os.path.join(pdf_directory, pdf_file)\n",
        "\n",
        "  loader = PyPDFLoader(file_path)\n",
        "  loaded_docs = loader.load()\n",
        "\n",
        "  for doc in loaded_docs:\n",
        "      doc.metadata[\"source\"] = pdf_file\n",
        "      docs.append(doc)\n"
      ]
    },
    {
      "cell_type": "code",
      "execution_count": null,
      "metadata": {
        "colab": {
          "base_uri": "https://localhost:8080/"
        },
        "id": "x8k9tizVzOeR",
        "outputId": "4db78c3b-bd90-4654-c1a7-8d73b19fd975"
      },
      "outputs": [
        {
          "output_type": "stream",
          "name": "stdout",
          "text": [
            "page_content=' \\n  \\n \\n05 ottobre  2023 Pag 3 di 3 Centro Servizi Sistema Pug lia \\nwww.sistema.puglia.it  \\n Inoltre, nella stessa pagina web sarà pubblicato il docu mento “ ITER PROCEDURALE ” che descrive , \\nsinteticamente e step -to-step, la proced ura operativa per l’inoltro dell a candidatura . \\nIl candidato, nella fase di presentazione dell’istanza, dovrà obbligatoriamente , a pena di esclusione , \\nallegare la seguente documentazione in formato pdf:  \\n• autocertificazione attestante i requisiti soggettivi di parte cipazione di cui ai punti a), b), c) e d) del \\nparagrafo 3.1  (il modello verrà generato dalla procedura telematica );  \\n• brochure / scheda infor mativa ufficiale del Master prescelto (o altro documento equivalente), \\nrilasciata dall’Organismo attuatore, da cui p ossano evincersi tutti i requisiti previsti alle lettere a), b), \\nc) e d) del paragrafo 2.1, nonché l’articolazione del percorso formativo (ore didattica frontale; ore \\nstage o tirocinio; materie; numero di CFU; numero di edizione; costo di iscrizione al Mas ter);  \\n• dichiarazione r ilasciata dal soggetto erogatore del Master circa il possesso dei requisiti specifici ad esso \\nrichiesti (solo per i Master di tipologia C).  \\nPer i documenti redatti in lingua straniera è obbligatorio produrre anche la traduzione degli  stessi. La \\nveridicità  della traduzione, oltre che dagli organismi preposti, potrà essere attestata, sotto propria \\nresponsabilità ai sensi dell’art. 46 del DPR 445/2000 e nella consapevolezza del disposto di cui agli artt. 75 \\ne 76 del citato DPR, dal candi dato.  \\n \\nIn caso di irre golarità della documentazione valida ai fini dell’ammissibilità, ai sensi dell’art. 6, comma 1, \\nlett. b), della L. 241/90, l’Amministrazione potrà procedere all’invio di una richiesta di integrazione al \\ndomicilio digitale comunicato a l momento della compil azione dell’istanza che dovrà essere evasa entro e \\nnon oltre i dieci giorni dalla ricezione. In caso di mancata integrazione documentale il Responsabile del \\nProcedimento provvederà alla declaratoria di inammissibilità dell’istanza.  \\nDiversamente, in caso d i mancanza anche di un singolo documento richiesto per l’ammissibilità, \\nl’Amministrazione procederà alla declaratoria di inammissibilità dell’istanza proposta. La presenza di una \\nrichiesta di integrazione verrà notificata all’utente tramite messaggio via s ms e via e -mail, ai recapiti \\nspecificati nel pannello omonimo della procedura e sui quali è possibile in qualunque momento operare un \\naggiornamento.  \\n \\nEventuali disallineamenti della modulistica allegat a rispetto alla lex-specialis  (l’Avviso pubblico) \\nverranno , in seguito , corretti con apposito provvedimento ; in caso di eventuali  discrasi e tra \\ndisposizioni dell ’Avviso e relativa modulistica verrà applica ta la regula iuris  della  prevalenza delle \\ndisposizioni dell’Avviso .  \\n \\nStruttura Res ponsabile del Procedimento  \\nLa Struttura responsabile del procedimento è la Regione Puglia - Sezione Formazione.  \\nIl responsabile del procedimento fino alla fase di adozione dell’atto di ammissione a contributo è l’Avv. \\nMonica Calzetta.  \\nIl responsabile del  procedimento per la fase di gestione è l’Avv. Christian Cavallo.  \\nIl responsabile del procedimento per la fase di controllo è il dott. Gaetano D’Innocenzo.  \\n \\n \\n \\n  ' metadata={'source': 'Scheda Pass Laureati 2023.pdf', 'page': 2}\n"
          ]
        }
      ],
      "source": [
        "print(docs[118])"
      ]
    },
    {
      "cell_type": "code",
      "execution_count": null,
      "metadata": {
        "colab": {
          "base_uri": "https://localhost:8080/"
        },
        "id": "Fla3GnBu2NUE",
        "outputId": "4b076406-2381-47d0-ea0e-e5b541b37189"
      },
      "outputs": [
        {
          "output_type": "execute_result",
          "data": {
            "text/plain": [
              "Document(page_content='  \\n \\n14 ottobre  2021 Pag 1 di 2 Centro Servizi Sistema Puglia  \\nwww.sistema.puglia.it  \\n \\n \\nScheda: Avviso MicroPrestito  della  Regione  Puglia  \\n \\nInformazioni  generali  Titolo  bando  MicroPrestito  della  Regione  Puglia  \\nDescrizione  L’Avviso  è stato  adottato  per far fronte  alle esigenze  delle  imprese  derivanti  dalle  \\nripercussioni  economiche  causate  dall’emergenza  epidemiologia  Covid -19. La \\nmisura vuole garantire la continuità dell’operatività aziendale  e la salvaguardia \\ndell’occupazione.  \\nLe disposizioni  dell’Avviso  sono  conformi  all’approvazione  dell’Aiuto  di Stato  SA. \\n57021 -Italia -Covid19 regime quadro del 21 maggio 2020 da parte della  \\nCommissione  europea  ai sensi dell’art.  108 del TFUE e  s.m.i.  \\nRisultati  attesi  La misura  sostiene  l’accesso  al credito  attraverso  interventi  di micro -finanza  \\nche consistono  in mutui  concessi  a tasso zero  e senza  garanzie.  \\nDestinatari  Il sistema  economico  e produttivo  pugliese.  Chi può  partecipare  Beneficiari  Le microimprese ed i lavoratori autonomi iscritti al registro delle imprese,  con \\nsede operativa  in Puglia  che abbiano  subito  perdite  di fatturato  o incrementi di \\ncosti in conseguenza dell’epidemia Covid -19 e delle relative  misure  di \\ncontenimento,  avendo  avuto  nel periodo  compreso  tra il 1° gennaio  2021  e il 30 \\nsettembre  2021  ricavi  inferiori  ai ricavi  del periodo  dal \\n1° gennaio  2019 al  30 settembre  2019.  \\nLe microimprese devono essere costituite nelle seguenti forme giuridiche:  ditta  \\nindividuale,  società  in nome  collettivo,  società  in accomandita  semplice, società \\ncooperative, società a responsabilità limitata (anche in  forma  unipersonale  e \\nsemplificata).  \\nL’elenco  dei codici  attività  ammissibili  è riportato  nell’Allegato  1 dell’Avviso.  \\nLe imprese,  nell’esercizio  2019,  non devono  aver  generato  \\nricavi /compensi/fatturato  annuali  superiori a  400.000,00  €. \\nSe l’esercizio  2019  si è concluso  con una perdita,  quest’ultima  non deve  essere  \\nstata  superiore  al 20%  del fatturato.  Cosa  \\nfinanzi a Operazioni  finanziabili  Spese  di funzionamento:  costi  derivanti  dalla  gestione  dell’attività  d’impresa  \\nsostenuti (pagati) in data successiva alla partecipazione all’avviso ed entro  12 mesi \\ndalla concessione  delle agevolazioni.  Risorse  economiche  Fonte  delle  risorse  POR  Puglia  2014 -2020  \\nFonte  specifica  Azioni  3.6 e 3.8 del POR  Puglia  2014 -2020.  \\nFondo  Microprestito  della  Regione  Puglia  2014 -2020.  \\nA sportello  / A \\nscadenza  Avviso  a sportello  operativo  sino al 31/12/2021  e, comunque,  sino ad \\nesaurimento  fondi  \\nContributo massimo  \\nper progetto  Il finanziamento erogabile potrà essere compreso tra 5.000 € e 30.000 € in  ragione \\ndel fatturato conseguito nel 2019. I mutui avranno durata massima  pari a 60 mesi \\n(più preammortamento della durata di 12 mesi). Le imprese,  in regola  con la \\nrestituzione  del finanziamento,  ottengono  un contributo  pari al 20%  dell’importo  \\ndello  stesso  finanziamento  sotto  forma  di abbuono  delle  ultime  12 rate.  \\nGli aiuti  sono  cumulabili  con altri eventuali  strumenti  emergenziali  di cui alla \\nComunicazione  della  Commissione  n. 1863/2020  e ss.mm.ii.  \\nRisorse  totali  stanziate  80.000.000  € Come partecipare   \\n \\nModalità di  \\npartecipazione  \\n \\n La domanda di partecipazione potrà essere presentata direttamente  \\ndall’impresa che chiede l’agevolazione, previa iscrizione al portale  Sistema \\nPuglia al seguente indirizzo:  https://microcredito2021.sistema.puglia.it . \\nLa procedura  di partecipazione  è interamente  telematica.  \\nL’impresa  dovrà  essere  in possesso  di firma  digitale  ed essere titolare  \\ndi conto corrente  business  anche  non dedicato esclusivamente  al progetto.  ', metadata={'source': 'Scheda MicroPrestito della Regione Puglia - edizione 2021.pdf', 'page': 0})"
            ]
          },
          "metadata": {},
          "execution_count": 10
        }
      ],
      "source": [
        "docs[0]"
      ]
    },
    {
      "cell_type": "code",
      "execution_count": null,
      "metadata": {
        "colab": {
          "base_uri": "https://localhost:8080/"
        },
        "id": "D-FAo7kmzFMh",
        "outputId": "8036d234-bf1f-42ed-aa3f-a35485431dd6"
      },
      "outputs": [
        {
          "output_type": "stream",
          "name": "stdout",
          "text": [
            "119\n"
          ]
        }
      ],
      "source": [
        "print(len(docs))"
      ]
    },
    {
      "cell_type": "code",
      "source": [
        "import tiktoken\n",
        "\n",
        "tokenizer = tiktoken.get_encoding('cl100k_base')\n",
        "\n",
        "# create the length function\n",
        "def tiktoken_len(text):\n",
        "    tokens = tokenizer.encode(\n",
        "        text,\n",
        "        disallowed_special=()\n",
        "    )\n",
        "    return len(tokens)"
      ],
      "metadata": {
        "id": "tqnNmrhrqW2T"
      },
      "execution_count": null,
      "outputs": []
    },
    {
      "cell_type": "code",
      "source": [
        "token_counts = [tiktoken_len(doc.page_content) for doc in docs]"
      ],
      "metadata": {
        "id": "-t8WVsnLqacl"
      },
      "execution_count": null,
      "outputs": []
    },
    {
      "cell_type": "code",
      "source": [
        "print(f\"\"\"Min: {min(token_counts)}\n",
        "Avg: {int(sum(token_counts) / len(token_counts))}\n",
        "Max: {max(token_counts)}\"\"\")"
      ],
      "metadata": {
        "colab": {
          "base_uri": "https://localhost:8080/"
        },
        "id": "a4zFUC2KqeQ6",
        "outputId": "b1a22f89-089c-4784-a62f-089f8f2a7ec3"
      },
      "execution_count": null,
      "outputs": [
        {
          "output_type": "stream",
          "name": "stdout",
          "text": [
            "Min: 99\n",
            "Avg: 834\n",
            "Max: 1398\n"
          ]
        }
      ]
    },
    {
      "cell_type": "markdown",
      "source": [
        "Osserviamo il numero di token per ciascuna delle frasi e notiamo che la maggior parte delle completion ha intorno agli 800 token"
      ],
      "metadata": {
        "id": "xv7Lk-4IU4Gb"
      }
    },
    {
      "cell_type": "code",
      "source": [
        "import matplotlib.pyplot as plt\n",
        "import seaborn as sns\n",
        "\n",
        "sns.set_style(\"whitegrid\")\n",
        "sns.set_palette(\"muted\")\n",
        "\n",
        "plt.figure(figsize=(12, 6))\n",
        "sns.histplot(token_counts, kde=False, bins=50)\n",
        "\n",
        "plt.title(\"Token Counts Histogram\")\n",
        "plt.xlabel(\"Token Count\")\n",
        "plt.ylabel(\"Frequency\")\n",
        "\n",
        "plt.show()"
      ],
      "metadata": {
        "colab": {
          "base_uri": "https://localhost:8080/",
          "height": 564
        },
        "id": "By25LGWCqg2n",
        "outputId": "bfb9ed9a-2d55-4480-f43a-2cc4b09b2a4e"
      },
      "execution_count": null,
      "outputs": [
        {
          "output_type": "display_data",
          "data": {
            "text/plain": [
              "<Figure size 1200x600 with 1 Axes>"
            ],
            "image/png": "[encoded data removed]"
          },
          "metadata": {}
        }
      ]
    },
    {
      "cell_type": "markdown",
      "source": [
        "Splittiamo i documenti ognuno in chunk da 400 token usando la lenght_function = tiktoken_len"
      ],
      "metadata": {
        "id": "Z5fCKBvyVH_g"
      }
    },
    {
      "cell_type": "code",
      "execution_count": null,
      "metadata": {
        "id": "Sjxeew9UzKYP"
      },
      "outputs": [],
      "source": [
        "from langchain.text_splitter import RecursiveCharacterTextSplitter\n",
        "from langchain.schema import Document\n",
        "\n",
        "text_splitter = RecursiveCharacterTextSplitter(\n",
        "    chunk_size=400,\n",
        "    chunk_overlap=20,\n",
        "    length_function=tiktoken_len,\n",
        "    separators=['\\n\\n', '\\n', ' ', '']\n",
        ")\n",
        "\n",
        "\n",
        "split_docs = []\n",
        "\n",
        "for document in docs:\n",
        "  metadata = document.metadata\n",
        "  page_content = document.page_content\n",
        "\n",
        "\n",
        "  split_content = text_splitter.create_documents([page_content])\n",
        "\n",
        "\n",
        "  for content_chunk in split_content:\n",
        "    print(content_chunk)\n",
        "    split_docs.append(Document(metadata = metadata, page_content = content_chunk.page_content))\n",
        "\n"
      ]
    },
    {
      "cell_type": "code",
      "execution_count": null,
      "metadata": {
        "colab": {
          "base_uri": "https://localhost:8080/"
        },
        "id": "ecDBuBCizV-Q",
        "outputId": "43f312b7-940d-4024-c9a6-a5e31c798762"
      },
      "outputs": [
        {
          "output_type": "execute_result",
          "data": {
            "text/plain": [
              "Document(page_content='Gli aiuti  sono  cumulabili  con altri eventuali  strumenti  emergenziali  di cui alla \\nComunicazione  della  Commissione  n. 1863/2020  e ss.mm.ii.  \\nRisorse  totali  stanziate  80.000.000  € Come partecipare   \\n \\nModalità di  \\npartecipazione  \\n \\n La domanda di partecipazione potrà essere presentata direttamente  \\ndall’impresa che chiede l’agevolazione, previa iscrizione al portale  Sistema \\nPuglia al seguente indirizzo:  https://microcredito2021.sistema.puglia.it . \\nLa procedura  di partecipazione  è interamente  telematica.  \\nL’impresa  dovrà  essere  in possesso  di firma  digitale  ed essere titolare  \\ndi conto corrente  business  anche  non dedicato esclusivamente  al progetto.', metadata={'source': 'Scheda MicroPrestito della Regione Puglia - edizione 2021.pdf', 'page': 0})"
            ]
          },
          "metadata": {},
          "execution_count": 17
        }
      ],
      "source": [
        "split_docs[3]"
      ]
    },
    {
      "cell_type": "code",
      "execution_count": null,
      "metadata": {
        "id": "gGSqv0ZbHMKm"
      },
      "outputs": [],
      "source": [
        "# split_docs[0].metadata['label'] = 'Compilazione della domanda'"
      ]
    },
    {
      "cell_type": "code",
      "execution_count": null,
      "metadata": {
        "colab": {
          "base_uri": "https://localhost:8080/"
        },
        "id": "clz2LJT4LkLA",
        "outputId": "f311eb50-4e2c-499e-fb3d-de1896d3e562"
      },
      "outputs": [
        {
          "data": {
            "text/plain": [
              "Document(page_content='di conto corrente  business  anche  non dedicato esclusivamente  al progetto.', metadata={'source': 'Scheda MicroPrestito della Regione Puglia - edizione 2021.pdf', 'page': 0, 'label': 'Compilazione della domanda'})"
            ]
          },
          "execution_count": 97,
          "metadata": {},
          "output_type": "execute_result"
        }
      ],
      "source": [
        "# for doc in split_docs:\n",
        "#   if doc.metadata['source'] == 'Scheda MicroPrestito della Regione Puglia - edizione 2021.pdf':\n",
        "#     doc.metadata['label'] = 'Compilazione della domanda'\n",
        "# split_docs[1]"
      ]
    },
    {
      "cell_type": "code",
      "execution_count": null,
      "metadata": {
        "colab": {
          "base_uri": "https://localhost:8080/"
        },
        "id": "rXbOp8m1XAbw",
        "outputId": "9476cc2a-c9d2-42fa-85e2-65ab90890076"
      },
      "outputs": [
        {
          "data": {
            "text/plain": [
              "{'source': \"Scheda NIDI - Nuove iniziative d'impresa_ Strumento di ingegneria finanziaria.pdf\",\n",
              " 'page': 3,\n",
              " 'text': 'Puglia sviluppo  \\nUNIONE  EUROPEA  \\nFONDO  EUROPEO  DI SVILUPPO  REGIONALE  REGIONE  PUGLIA  \\nDIPARTIMENTO  SVILUPPO  ECONOMICO,  \\nINNOVAZIONE,  ISTRUZIONE,  \\nFORMAZIONE  E LAVORO  Ministero  Sviluppo  Economico  \\n4  \\n Internet, servizi di posizionamento sui motori di ricerca, acquisto di spazi  \\nper campagne  di Web Marketing; servizi di personalizzazione  di siti \\nInternet acquisiti da impresa operante nel settore della produzione di  \\nsoftware,  consulenza  informatica  e attività  connesse ; \\n•  spese per l’acquisto di dispositivi di protezione individuale e collettiva . \\n \\nA quanto ammontano gli investimenti e le \\nagevolazioni  di NIDI?  \\nA. \\nPer \\n\\uf0fc le nuove attività  \\ne \\n\\uf0fc le imprese  già esistenti  perché beneficiarie  della  misura  “PIN  – \\nPugliesi Innovativi” , \\nl’investimento  proposto può avere  un valore  compreso  tra 10mila  e 150mila  \\neuro. \\n \\nL’agevolazione, somma  di sovvenzione  (fondo  perduto)  e mutuo  agevolato, varia \\nal crescere  del valore  dell’investimento.  \\nAgevolazione  pari al 100%  \\nper investimenti compresi  tra 10mila  e 50mila  euro. \\nAgevolazione  pari al 90%  (100% per le sole imprese femminili)  \\nper investimenti compresi  tra 50mila  e 100mila  euro. \\nAgevolazione  pari al 80%  \\nper investimenti compresi  tra 100mila e 150mila  euro. \\n \\nL’agevolazion e è costituita da:  \\n• un contributo a fondo perduto pari al 50% del totale degli investimenti agevolati;  \\n• un prestito rimborsabile pari al 50% del totale degli investimenti agevolati (ridotto al 25% per Compagini Giovanili  ed Imprese Femminili ); \\n• per Compagini Giovanili  ed Imprese Femminili  un aiuto nella forma \\ndell’assistenza rimborsabile pari al 25% del totale degli investimenti agevolati.  \\n \\nLe spese di gestione vengono agevolate al 100% sino ad un massimo di 10mila  \\neuro. Tale importo  massimo vale  per ogni progetto.  Per le Compagini Giovanili e \\nle Imprese Femminili  è previsto un contributo aggiuntivo pari ad € 5.000,00 per \\nspese in servizi informatici.  \\n \\nSi riporta no di seguito tabella con l’esemplificazione delle agevolazioni concedibili \\nper alcune tipologie di investimento:',\n",
              " 'label': 'misura massima di €5.000'}"
            ]
          },
          "execution_count": 117,
          "metadata": {},
          "output_type": "execute_result"
        }
      ],
      "source": [
        "# for doc in split_docs:\n",
        "#   if doc.metadata['source'] == \"Scheda NIDI - Nuove iniziative d'impresa_ Strumento di ingegneria finanziaria.pdf\":\n",
        "#     doc.metadata['label'] = 'misura massima di €5.000'\n",
        "# split_docs[6].metadata"
      ]
    },
    {
      "cell_type": "code",
      "execution_count": null,
      "metadata": {
        "colab": {
          "base_uri": "https://localhost:8080/"
        },
        "id": "aMsawa5O0mRp",
        "outputId": "587ad014-4000-4764-9618-a2448bba2932"
      },
      "outputs": [
        {
          "output_type": "execute_result",
          "data": {
            "text/plain": [
              "{'source': 'Scheda MicroPrestito della Regione Puglia - edizione 2021.pdf',\n",
              " 'page': 0}"
            ]
          },
          "metadata": {},
          "execution_count": 14
        }
      ],
      "source": [
        "split_docs[0].metadata"
      ]
    },
    {
      "cell_type": "code",
      "execution_count": null,
      "metadata": {
        "colab": {
          "base_uri": "https://localhost:8080/"
        },
        "id": "gxk8u3sL0oAR",
        "outputId": "ce99fcbb-c97f-40b8-c641-e4c198bbb248"
      },
      "outputs": [
        {
          "output_type": "stream",
          "name": "stdout",
          "text": [
            "Numero di chunks 127\n"
          ]
        }
      ],
      "source": [
        "print(f'Numero di chunks {len(split_docs)}')"
      ]
    },
    {
      "cell_type": "markdown",
      "metadata": {
        "id": "pqlkI1lnvFoY"
      },
      "source": [
        "###Retrieval Augmentation\n",
        "\n"
      ]
    },
    {
      "cell_type": "markdown",
      "source": [
        "inserimento o fetch del vector_store di Pinecone"
      ],
      "metadata": {
        "id": "XM59rW7OVYYA"
      }
    },
    {
      "cell_type": "code",
      "execution_count": 14,
      "metadata": {
        "id": "6lrKV9Df-JIx"
      },
      "outputs": [],
      "source": [
        "def insert_or_fetch_embeddings(index_name, chunks):\n",
        "    import pinecone\n",
        "    from langchain.vectorstores import Pinecone\n",
        "    from langchain.embeddings.openai import OpenAIEmbeddings\n",
        "\n",
        "    embeddings = OpenAIEmbeddings()\n",
        "\n",
        "    pinecone.init(api_key=os.environ.get('PINECONE_API_KEY'), environment=os.environ.get('PINECONE_ENV'))\n",
        "\n",
        "    if index_name in pinecone.list_indexes():\n",
        "        print(f'Index {index_name} esiste. Loading embeddings ... ', end='')\n",
        "        vector_store = Pinecone.from_existing_index(index_name, embeddings)\n",
        "        print('Ok')\n",
        "    else:\n",
        "        print(f'Creazione di index {index_name} e embeddings ...', end='')\n",
        "        pinecone.create_index(index_name, dimension=1536, metric='cosine')\n",
        "        vector_store = Pinecone.from_documents(chunks, embeddings, index_name=index_name)\n",
        "        print('Ok')\n",
        "\n",
        "    return vector_store"
      ]
    },
    {
      "cell_type": "markdown",
      "source": [
        "Scelta embedding"
      ],
      "metadata": {
        "id": "ioLBRUPhVdMZ"
      }
    },
    {
      "cell_type": "code",
      "execution_count": 13,
      "metadata": {
        "id": "L8tGAdmB-1t6"
      },
      "outputs": [],
      "source": [
        "from langchain.embeddings.openai import OpenAIEmbeddings\n",
        "embedding = OpenAIEmbeddings()"
      ]
    },
    {
      "cell_type": "code",
      "execution_count": null,
      "metadata": {
        "colab": {
          "base_uri": "https://localhost:8080/"
        },
        "id": "dHd8tUVn3omh",
        "outputId": "d169b41e-f24e-479c-d39f-11abef8b335e"
      },
      "outputs": [
        {
          "output_type": "stream",
          "name": "stdout",
          "text": [
            "1536\n"
          ]
        }
      ],
      "source": [
        "vector = embedding.embed_query(split_docs[0].page_content)\n",
        "print(len(vector))"
      ]
    },
    {
      "cell_type": "code",
      "execution_count": null,
      "metadata": {
        "colab": {
          "base_uri": "https://localhost:8080/"
        },
        "id": "BmltFNbm9wGK",
        "outputId": "c3c84732-cb9b-44c0-a39c-8cb92692d85d"
      },
      "outputs": [
        {
          "output_type": "stream",
          "name": "stdout",
          "text": [
            "Numero totale di Token: 99662\n",
            "Costo degli Embedding $: 0.009966\n"
          ]
        }
      ],
      "source": [
        "def print_embedding_cost(texts):\n",
        "    import tiktoken\n",
        "    enc = tiktoken.encoding_for_model('text-embedding-ada-002')\n",
        "    total_tokens = sum([len(enc.encode(page.page_content)) for page in texts])\n",
        "    print(f'Numero totale di Token: {total_tokens}')\n",
        "    print(f'Costo degli Embedding $: {total_tokens / 1000 * 0.0001:.6f}')\n",
        "\n",
        "print_embedding_cost(split_docs)"
      ]
    },
    {
      "cell_type": "code",
      "execution_count": 15,
      "metadata": {
        "id": "PNqwe_zo9Qqf",
        "colab": {
          "base_uri": "https://localhost:8080/"
        },
        "outputId": "64959a3d-6575-4a13-a5f2-77dfde1fe15f"
      },
      "outputs": [
        {
          "output_type": "stream",
          "name": "stderr",
          "text": [
            "/usr/local/lib/python3.10/dist-packages/pinecone/index.py:4: TqdmExperimentalWarning: Using `tqdm.autonotebook.tqdm` in notebook mode. Use `tqdm.tqdm` instead to force console mode (e.g. in jupyter console)\n",
            "  from tqdm.autonotebook import tqdm\n"
          ]
        }
      ],
      "source": [
        "import pinecone\n",
        "\n",
        "pinecone.init(\n",
        "    api_key=os.environ.get('PINECONE_API_KEY'),\n",
        "    environment=os.environ.get('PINECONE_ENV')\n",
        ")"
      ]
    },
    {
      "cell_type": "code",
      "execution_count": 16,
      "metadata": {
        "colab": {
          "base_uri": "https://localhost:8080/"
        },
        "id": "R407gnlK9RMX",
        "outputId": "9267f430-4a90-4865-ed5d-f466ce94e5e3"
      },
      "outputs": [
        {
          "output_type": "execute_result",
          "data": {
            "text/plain": [
              "['embedding-bandi']"
            ]
          },
          "metadata": {},
          "execution_count": 16
        }
      ],
      "source": [
        "pinecone.list_indexes()"
      ]
    },
    {
      "cell_type": "markdown",
      "metadata": {
        "id": "Va8325sQBVlJ"
      },
      "source": [
        "delete:"
      ]
    },
    {
      "cell_type": "code",
      "execution_count": null,
      "metadata": {
        "colab": {
          "base_uri": "https://localhost:8080/"
        },
        "id": "JUrDLvXU9Gkd",
        "outputId": "e8a6c801-d82a-47e5-8c88-097583d581c7"
      },
      "outputs": [
        {
          "output_type": "stream",
          "name": "stdout",
          "text": [
            "ok\n"
          ]
        }
      ],
      "source": [
        "indexes = pinecone.list_indexes()\n",
        "for i in indexes:\n",
        "  pinecone.delete_index(i)\n",
        "  print('ok')"
      ]
    },
    {
      "cell_type": "code",
      "execution_count": null,
      "metadata": {
        "id": "LoycTGWp9Ix-"
      },
      "outputs": [],
      "source": [
        "# index_name = 'embedding-bandi'\n",
        "# if index_name not in pinecone.list_indexes():\n",
        "#   pinecone.create_index(index_name, dimension=768, metric='cosine')"
      ]
    },
    {
      "cell_type": "code",
      "execution_count": 19,
      "metadata": {
        "colab": {
          "base_uri": "https://localhost:8080/"
        },
        "id": "8KMnrMCB90Xa",
        "outputId": "68feb10a-33b1-4110-dbf6-c90585619e09"
      },
      "outputs": [
        {
          "output_type": "stream",
          "name": "stdout",
          "text": [
            "Index embedding-bandi esiste. Loading embeddings ... Ok\n"
          ]
        }
      ],
      "source": [
        "index_name = 'embedding-bandi'\n",
        "vector_store = insert_or_fetch_embeddings(index_name, split_docs)"
      ]
    },
    {
      "cell_type": "code",
      "execution_count": null,
      "metadata": {
        "colab": {
          "base_uri": "https://localhost:8080/"
        },
        "id": "5NmA3oW3-WQx",
        "outputId": "e831988f-ac45-4a2f-b679-7591c943f538"
      },
      "outputs": [
        {
          "output_type": "stream",
          "name": "stdout",
          "text": [
            "[Document(page_content='Gli aiuti  sono  cumulabili  con altri eventuali  strumenti  emergenziali  di cui alla \\nComunicazione  della  Commissione  n. 1863/2020  e ss.mm.ii.  \\nRisorse  totali  stanziate  80.000.000  € Come partecipare   \\n \\nModalità di  \\npartecipazione  \\n \\n La domanda di partecipazione potrà essere presentata direttamente  \\ndall’impresa che chiede l’agevolazione, previa iscrizione al portale  Sistema \\nPuglia al seguente indirizzo:  https://microcredito2021.sistema.puglia.it . \\nLa procedura  di partecipazione  è interamente  telematica.  \\nL’impresa  dovrà  essere  in possesso  di firma  digitale  ed essere titolare  \\ndi conto corrente  business  anche  non dedicato esclusivamente  al progetto.', metadata={'page': 0.0, 'source': 'Scheda MicroPrestito della Regione Puglia - edizione 2021.pdf'}), Document(page_content='Gli aiuti  sono  cumulabili  con altri eventuali  strumenti  emergenziali  di cui alla \\nComunicazione  della  Commissione  n. 1863/2020  e ss.mm.ii.  \\nRisorse  totali  stanziate  80.000.000  € Come partecipare   \\n \\nModalità di  \\npartecipazione  \\n \\n La domanda di partecipazione potrà essere presentata direttamente  \\ndall’impresa che chiede l’agevolazione, previa iscrizione al portale  Sistema \\nPuglia al seguente indirizzo:  https://microcredito2021.sistema.puglia.it . \\nLa procedura  di partecipazione  è interamente  telematica.  \\nL’impresa  dovrà  essere  in possesso  di firma  digitale  ed essere titolare  \\ndi conto corrente  business  anche  non dedicato esclusivamente  al progetto.', metadata={'page': 0.0, 'source': 'Scheda MicroPrestito della Regione Puglia - edizione 2021.pdf'}), Document(page_content='bilancio  annuo  non supera  i 43 milioni  di euro.  \\n4. liberi professionisti,  in quanto  equiparati  alle piccole  e medie  imprese  come  \\nesercenti  attività  economica,  secondo  l’art. 12, legge  22 maggio  2017,  n. \\n81.', metadata={'page': 0.0, 'source': 'Aiuti agli Investimenti delle Piccole e Medie Imprese (Titolo II Capo 3 Reg_ Regionale 17_2014)_br ___br __.pdf'}), Document(page_content='Determinazione  di \\napprovazione  Determina  del Direttore  Generale  di Puglia  Sviluppo n.  39 dell’8/10/2021  \\nBURP  Bollettino  Ufficiale  della  Regione  Puglia  del 21 ottobre  2021', metadata={'page': 1.0, 'source': 'Scheda MicroPrestito della Regione Puglia - edizione 2021.pdf'})]\n"
          ]
        }
      ],
      "source": [
        "query = query1\n",
        "results = vector_store.similarity_search(query)\n",
        "print(results)"
      ]
    },
    {
      "cell_type": "code",
      "execution_count": null,
      "metadata": {
        "colab": {
          "base_uri": "https://localhost:8080/"
        },
        "id": "dWUcw_pX_PSD",
        "outputId": "35f2e381-16ae-4d8f-cad3-397792991065"
      },
      "outputs": [
        {
          "output_type": "stream",
          "name": "stdout",
          "text": [
            "Gli aiuti  sono  cumulabili  con altri eventuali  strumenti  emergenziali  di cui alla \n",
            "Comunicazione  della  Commissione  n. 1863/2020  e ss.mm.ii.  \n",
            "Risorse  totali  stanziate  80.000.000  € Come partecipare   \n",
            " \n",
            "Modalità di  \n",
            "partecipazione  \n",
            " \n",
            " La domanda di partecipazione potrà essere presentata direttamente  \n",
            "dall’impresa che chiede l’agevolazione, previa iscrizione al portale  Sistema \n",
            "Puglia al seguente indirizzo:  https://microcredito2021.sistema.puglia.it . \n",
            "La procedura  di partecipazione  è interamente  telematica.  \n",
            "L’impresa  dovrà  essere  in possesso  di firma  digitale  ed essere titolare  \n",
            "di conto corrente  business  anche  non dedicato esclusivamente  al progetto.\n",
            "==================================================\n",
            "Gli aiuti  sono  cumulabili  con altri eventuali  strumenti  emergenziali  di cui alla \n",
            "Comunicazione  della  Commissione  n. 1863/2020  e ss.mm.ii.  \n",
            "Risorse  totali  stanziate  80.000.000  € Come partecipare   \n",
            " \n",
            "Modalità di  \n",
            "partecipazione  \n",
            " \n",
            " La domanda di partecipazione potrà essere presentata direttamente  \n",
            "dall’impresa che chiede l’agevolazione, previa iscrizione al portale  Sistema \n",
            "Puglia al seguente indirizzo:  https://microcredito2021.sistema.puglia.it . \n",
            "La procedura  di partecipazione  è interamente  telematica.  \n",
            "L’impresa  dovrà  essere  in possesso  di firma  digitale  ed essere titolare  \n",
            "di conto corrente  business  anche  non dedicato esclusivamente  al progetto.\n",
            "==================================================\n",
            "bilancio  annuo  non supera  i 43 milioni  di euro.  \n",
            "4. liberi professionisti,  in quanto  equiparati  alle piccole  e medie  imprese  come  \n",
            "esercenti  attività  economica,  secondo  l’art. 12, legge  22 maggio  2017,  n. \n",
            "81.\n",
            "==================================================\n",
            "Determinazione  di \n",
            "approvazione  Determina  del Direttore  Generale  di Puglia  Sviluppo n.  39 dell’8/10/2021  \n",
            "BURP  Bollettino  Ufficiale  della  Regione  Puglia  del 21 ottobre  2021\n",
            "==================================================\n"
          ]
        }
      ],
      "source": [
        "for res in results:\n",
        "  print(res.page_content)\n",
        "  print('='*50)"
      ]
    },
    {
      "cell_type": "markdown",
      "source": [
        "Definizione della chain per il RetrievalQA"
      ],
      "metadata": {
        "id": "I1aYccBdVlg6"
      }
    },
    {
      "cell_type": "code",
      "execution_count": 42,
      "metadata": {
        "id": "ldaf2mid_iSA"
      },
      "outputs": [],
      "source": [
        "from langchain.chains import RetrievalQA\n",
        "from langchain.chat_models import ChatOpenAI\n",
        "\n",
        "llm = ChatOpenAI(model='gpt-3.5-turbo', temperature = 0.7)\n",
        "retriever = vector_store.as_retriever(search_type='similarity', search_kwargs={'k':3})\n",
        "chain = RetrievalQA.from_chain_type(llm = llm, chain_type='stuff', retriever = retriever)"
      ]
    },
    {
      "cell_type": "code",
      "execution_count": null,
      "metadata": {
        "id": "INSWebxu_xAk"
      },
      "outputs": [],
      "source": [
        "def ask_with_memory(vector_store, question, chat_history=[]):\n",
        "    from langchain.chains import ConversationalRetrievalChain # Per la conversazione va usata questa classe\n",
        "    from langchain.chat_models import ChatOpenAI\n",
        "\n",
        "    llm = ChatOpenAI(temperature=1)\n",
        "    retriever = vector_store.as_retriever(search_type='similarity', search_kwargs={'k': 3})\n",
        "\n",
        "    crc = ConversationalRetrievalChain.from_llm(llm, retriever)\n",
        "    result = crc({'question': question, 'chat_history': chat_history})\n",
        "    chat_history.append((question, result['answer']))\n",
        "\n",
        "    return result, chat_history"
      ]
    },
    {
      "cell_type": "code",
      "execution_count": null,
      "metadata": {
        "id": "lP3xGscZ_nFw"
      },
      "outputs": [],
      "source": [
        "query=\"Di cosa si parla nel documento Scheda Efficientamento Energetico Edifici Pubblici.pdf\"\n",
        "answer = chain.run(query)"
      ]
    },
    {
      "cell_type": "code",
      "execution_count": null,
      "metadata": {
        "colab": {
          "base_uri": "https://localhost:8080/"
        },
        "id": "WWkF0hU5CWWp",
        "outputId": "73c54a42-d3cf-498e-a32d-9ec77f429dd8"
      },
      "outputs": [
        {
          "output_type": "stream",
          "name": "stdout",
          "text": [
            "Qual è il modo per partecipare all'Avviso MicroPrestito della Regione Puglia? in riferimento al documento: 'Scheda MicroPrestito della Regione Puglia - edizione 2021.pdf'\n"
          ]
        }
      ],
      "source": [
        "print(query1)"
      ]
    },
    {
      "cell_type": "code",
      "execution_count": null,
      "metadata": {
        "colab": {
          "base_uri": "https://localhost:8080/"
        },
        "id": "68MPG3HYuH3Z",
        "outputId": "094b3e38-d0c8-4fe1-b039-15789d5e6040"
      },
      "outputs": [
        {
          "output_type": "stream",
          "name": "stdout",
          "text": [
            "Il documento \"Scheda Efficientamento Energetico Edifici Pubblici.pdf\" parla dell'avviso n. 40/2017 relativo all'Asse Prioritario IV del Programma Operativo (PO) Puglia F.E.S.R. - F.S.E. 2014-2020. L'obiettivo specifico di questo avviso è promuovere l'energia sostenibile e migliorare la qualità della vita attraverso interventi di efficientamento energetico negli edifici pubblici. \n",
            "\n",
            "Nel documento si forniscono informazioni sulle risorse finanziarie disponibili per tali interventi, che ammontano a € 157.891.208,00. Si specifica anche che i richiedenti possono presentare al massimo 3 richieste di finanziamento, purché si riferiscano a edifici diversi. \n",
            "\n",
            "Inoltre, vengono fornite le caratteristiche degli interventi finanziabili: l'importo massimo per ogni singolo intervento non deve superare € 5.000.000,00, ma per le Amministrazioni statali il limite massimo è di € 10.000.000,00 e per le ASL e aziende ospedaliere il limite massimo è di € 30.000.000,00. \n",
            "\n",
            "Pertanto, il documento si occupa di fornire le linee guida e le informazioni necessarie per presentare una richiesta di finanziamento per interventi di efficientamento energetico negli edifici pubblici nel contesto del Programma Operativo Puglia F.E.S.R. - F.S.E. 2014-2020.\n"
          ]
        }
      ],
      "source": [
        "risposta_query0 = answer\n",
        "print(risposta_query0)"
      ]
    },
    {
      "cell_type": "code",
      "execution_count": null,
      "metadata": {
        "id": "w7vAzEWEohoZ"
      },
      "outputs": [],
      "source": [
        "query=query1\n",
        "answer = chain.run(query)\n",
        "answer"
      ]
    },
    {
      "cell_type": "code",
      "execution_count": null,
      "metadata": {
        "colab": {
          "base_uri": "https://localhost:8080/",
          "height": 91
        },
        "id": "Dbu_cr3IqJLW",
        "outputId": "bbe5a625-caa1-4d8d-d258-ef975dfc628c"
      },
      "outputs": [
        {
          "data": {
            "application/vnd.google.colaboratory.intrinsic+json": {
              "type": "string"
            },
            "text/plain": [
              "'Per partecipare all\\'Avviso MicroPrestito della Regione Puglia, devi presentare la domanda di agevolazione tramite la procedura online \"PIA Medie Imprese\" disponibile sul sito www.sistema.puglia.it. Dovrai compilare il modulo di istanza di accesso utilizzando la modulistica fornita e apporre la firma digitale. L\\'istanza di accesso deve descrivere le caratteristiche tecniche ed economiche del progetto integrato e includere la compilazione telematica richiesta dall\\'Avviso e prevista dalla piattaforma telematica. Saranno effettuate delle verifiche da parte di Puglia Sviluppo e successivamente la Regione adotterà un provvedimento di ammissione o inammissibilità della proposta. Sarà comunicato l\\'esito dell\\'esame e, in caso di ammissibilità, saranno indicati i termini per la presentazione della documentazione progettuale.'"
            ]
          },
          "execution_count": 109,
          "metadata": {},
          "output_type": "execute_result"
        }
      ],
      "source": [
        "answer1 = chain.run(query1, metadata = {'label': 'Compilazione della domanda'})\n",
        "answer1"
      ]
    },
    {
      "cell_type": "code",
      "execution_count": null,
      "metadata": {
        "colab": {
          "base_uri": "https://localhost:8080/",
          "height": 123
        },
        "id": "nZQtZgxYBBgO",
        "outputId": "6ab95790-c1cf-4976-8e83-66a52fe8f7d1"
      },
      "outputs": [
        {
          "data": {
            "application/vnd.google.colaboratory.intrinsic+json": {
              "type": "string"
            },
            "text/plain": [
              "\"Il modo per partecipare all'Avviso MicroPrestito della Regione Puglia è presentare la domanda di partecipazione direttamente dall'impresa che richiede l'agevolazione, previa iscrizione al portale Sistema Puglia all'indirizzo https://microcredito2021.sistema.puglia.it. La procedura di partecipazione è interamente telematica. L'impresa deve essere in possesso di firma digitale ed essere titolare della stessa. Sono necessari anche alcuni documenti da produrre, tra cui la domanda di agevolazione firmata digitalmente, la dichiarazione di consenso al trattamento dei dati personali, la dichiarazione sostitutiva di atto notorio attestante il possesso dei requisiti previsti dall'Avviso, la dichiarazione sostitutiva di atto notorio attestante il rispetto degli obblighi contributivi, la documentazione fiscale dell'esercizio 2019, documentazione attestante i minori ricavi dei primi 9 mesi del 2021 rispetto al medesimo periodo del 2019 e l'estratto conto corrente aziendale dell'ultimo trimestre. Si consiglia di consultare l'Avviso pubblico e la modulistica disponibili sul sito https://regione.puglia.it/web/guest/bandi-e-avvisi per ulteriori dettagli e informazioni importanti.\""
            ]
          },
          "execution_count": 70,
          "metadata": {},
          "output_type": "execute_result"
        }
      ],
      "source": [
        "risposta_query1 = answer\n",
        "risposta_query1"
      ]
    },
    {
      "cell_type": "code",
      "execution_count": null,
      "metadata": {
        "id": "qXalJXPGFhG5"
      },
      "outputs": [],
      "source": [
        "query = \"Per cosa è stato adottato l'Avviso MicroPrestito della Regione Puglia, chi può parteciparvi e come? in riferimento al documento: 'Scheda MicroPrestito della Regione Puglia - edizione 2021.pdf\"\n",
        "answer = chain.run(query)\n"
      ]
    },
    {
      "cell_type": "code",
      "execution_count": null,
      "metadata": {
        "colab": {
          "base_uri": "https://localhost:8080/"
        },
        "id": "eIFprDdFuv-e",
        "outputId": "b2570346-b979-40eb-bea3-00678ab49d6a"
      },
      "outputs": [
        {
          "name": "stdout",
          "output_type": "stream",
          "text": [
            "Il documento fornito non contiene informazioni specifiche sul modo di partecipare all'Avviso MicroPrestito della Regione Puglia. Tuttavia, nel testo è indicato che per la presentazione della domanda di agevolazione devono essere prodotti diversi documenti, tra cui la domanda di agevolazione firmata digitalmente, la dichiarazione di consenso al trattamento dei dati personali, la dichiarazione sostitutiva di atto notorio attestante il possesso dei requisiti previsti dall'Avviso, la dichiarazione sostitutiva di atto notorio attestante il rispetto degli obblighi contributivi, la documentazione fiscale dell'esercizio 2019, la documentazione attestante i minori ricavi dei primi 9 mesi del 2021 rispetto al medesimo periodo del 2019 e l'estratto conto corrente aziendale dell'ultimo trimestre. Si consiglia di consultare il sito web indicato nel documento per ottenere ulteriori informazioni sulle modalità di partecipazione all'Avviso MicroPrestito della Regione Puglia.\n"
          ]
        }
      ],
      "source": [
        "print(answer)"
      ]
    },
    {
      "cell_type": "code",
      "execution_count": null,
      "metadata": {
        "colab": {
          "base_uri": "https://localhost:8080/",
          "height": 109
        },
        "id": "LL7SncwCGovX",
        "outputId": "9c83456b-2ba6-44e1-caaf-0f3fa047df62"
      },
      "outputs": [
        {
          "data": {
            "application/vnd.google.colaboratory.intrinsic+json": {
              "type": "string"
            },
            "text/plain": [
              "\"L'Avviso MicroPrestito della Regione Puglia è stato adottato per far fronte alle esigenze delle imprese derivanti dalle ripercussioni economiche causate dall'emergenza epidemiologia Covid-19. La misura vuole garantire la continuità dell'operatività aziendale e la salvaguardia dell'occupazione. \\n\\nPossono partecipare al MicroPrestito della Regione Puglia le microimprese ed i lavoratori autonomi iscritti al registro delle imprese, con sede operativa in Puglia, che abbiano subito perdite di fatturato o incrementi di costi a causa dell'epidemia Covid-19 e delle relative misure di contenimento, avendo avuto nel periodo compreso tra il 1° gennaio 2021 e il 30 settembre 2021 ricavi inferiori ai ricavi del periodo dal 1° gennaio 2019 al 30 settembre 2019.\\n\\nLa domanda di partecipazione può essere presentata direttamente dall'impresa che chiede l'agevolazione, previa iscrizione al portale Sistema Puglia. La procedura di partecipazione è interamente telematica e l'impresa deve essere in possesso di firma digitale ed essere titolare di un conto corrente aziendale. La documentazione richiesta per la presentazione della domanda include la domanda di agevolazione firmata digitalmente, la dichiarazione di consenso al trattamento dei dati personali, la dichiarazione sostitutiva di atto notorio attestante il possesso dei requisiti previsti dall'Avviso, la dichiarazione sostitutiva di atto notorio attestante il rispetto degli obblighi contributivi, la documentazione fiscale dell'esercizio 2019, la documentazione attestante i minori ricavi dei primi 9 mesi del 2021 rispetto al medesimo periodo del 2019, e l'estratto conto corrente aziendale dell'ultimo trimestre.\\n\\nSi consiglia di consultare il sito web del MicroPrestito della Regione Puglia e di accedere alla compilazione della domanda solo quando si è in possesso della firma digitale e di tutti i dati e la documentazione richiesti.\""
            ]
          },
          "execution_count": 77,
          "metadata": {},
          "output_type": "execute_result"
        }
      ],
      "source": [
        "answer"
      ]
    },
    {
      "cell_type": "markdown",
      "source": [
        "#Fine-Tuning unito al RAG"
      ],
      "metadata": {
        "id": "MBg6aJ_iICua"
      }
    },
    {
      "cell_type": "markdown",
      "source": [
        "Per usare un modello fine-tuned insieme al RAG deve essere compatibile, cioè deve essere un chat-model come gpt-3.5-turbo"
      ],
      "metadata": {
        "id": "hnnklb9gVwCd"
      }
    },
    {
      "cell_type": "code",
      "source": [
        "import os\n",
        "import openai\n",
        "\n",
        "openai.api_key = os.getenv(\"OPENAI_API_KEY\")\n",
        "\n",
        "c = openai.File.create(\n",
        "  file=open(\"./Tesi/gpt-3.5-turbo_data.jsonl\", \"rb\"),\n",
        "  purpose='fine-tune'\n",
        ")\n",
        "\n",
        "print(c)"
      ],
      "metadata": {
        "colab": {
          "base_uri": "https://localhost:8080/"
        },
        "id": "LFgbY0KiICf-",
        "outputId": "6320637b-18ba-4860-b915-7426c2fb2ee8"
      },
      "execution_count": 4,
      "outputs": [
        {
          "output_type": "stream",
          "name": "stdout",
          "text": [
            "{\n",
            "  \"object\": \"file\",\n",
            "  \"id\": \"file-2PIukqb0doY8LrnTPEXcuvJN\",\n",
            "  \"purpose\": \"fine-tune\",\n",
            "  \"filename\": \"file\",\n",
            "  \"bytes\": 206569,\n",
            "  \"created_at\": 1701715411,\n",
            "  \"status\": \"processed\",\n",
            "  \"status_details\": null\n",
            "}\n"
          ]
        }
      ]
    },
    {
      "cell_type": "markdown",
      "source": [
        "Andiamo ad avviare il fine-tuning di gpt-3.5-turbo-1106 con 4 epoche"
      ],
      "metadata": {
        "id": "Ki0lh7KKV441"
      }
    },
    {
      "cell_type": "code",
      "source": [
        "#r = openai.FineTuningJob.create(training_file=\"file-2PIukqb0doY8LrnTPEXcuvJN\", model=\"gpt-3.5-turbo-1106\", suffix=\"gpt-3.5-Signorile\",hyperparameters={\"n_epochs\":4})\n",
        "\n",
        "print(r)"
      ],
      "metadata": {
        "colab": {
          "base_uri": "https://localhost:8080/"
        },
        "id": "mQYzZOs1JJ7c",
        "outputId": "6860a0b4-72e5-49a5-8a5c-68d87013f7ca"
      },
      "execution_count": 5,
      "outputs": [
        {
          "output_type": "stream",
          "name": "stdout",
          "text": [
            "{\n",
            "  \"object\": \"fine_tuning.job\",\n",
            "  \"id\": \"ftjob-Z2g8bHRfEb9HMarLTJ6GjKRl\",\n",
            "  \"model\": \"gpt-3.5-turbo-1106\",\n",
            "  \"created_at\": 1701715586,\n",
            "  \"finished_at\": null,\n",
            "  \"fine_tuned_model\": null,\n",
            "  \"organization_id\": \"org-OF04YbDrGXeJxlDm77negXuJ\",\n",
            "  \"result_files\": [],\n",
            "  \"status\": \"validating_files\",\n",
            "  \"validation_file\": null,\n",
            "  \"training_file\": \"file-2PIukqb0doY8LrnTPEXcuvJN\",\n",
            "  \"hyperparameters\": {\n",
            "    \"n_epochs\": 4,\n",
            "    \"batch_size\": \"auto\",\n",
            "    \"learning_rate_multiplier\": \"auto\"\n",
            "  },\n",
            "  \"trained_tokens\": null,\n",
            "  \"error\": null\n",
            "}\n"
          ]
        }
      ]
    },
    {
      "cell_type": "code",
      "source": [
        "import openai\n",
        "\n",
        "jobname = \"ftjob-Z2g8bHRfEb9HMarLTJ6GjKRl\"\n",
        "\n",
        "r = openai.FineTuningJob.retrieve(jobname)\n",
        "e = openai.FineTuningJob.list_events(id=jobname, limit=10)\n",
        "print(f\"status: {r}\")\n",
        "print(\"\\n\\n\\n\")\n",
        "print(f\"events: {e}\")"
      ],
      "metadata": {
        "colab": {
          "base_uri": "https://localhost:8080/"
        },
        "id": "h-GyNxFNMa2_",
        "outputId": "ac6c296b-f0c9-49c2-d7d4-735566b0a63e"
      },
      "execution_count": 10,
      "outputs": [
        {
          "output_type": "stream",
          "name": "stdout",
          "text": [
            "status: {\n",
            "  \"object\": \"fine_tuning.job\",\n",
            "  \"id\": \"ftjob-Z2g8bHRfEb9HMarLTJ6GjKRl\",\n",
            "  \"model\": \"gpt-3.5-turbo-1106\",\n",
            "  \"created_at\": 1701715586,\n",
            "  \"finished_at\": 1701716382,\n",
            "  \"fine_tuned_model\": \"ft:gpt-3.5-turbo-1106:links:gpt-3-5-signorile:8S8SNEPI\",\n",
            "  \"organization_id\": \"org-OF04YbDrGXeJxlDm77negXuJ\",\n",
            "  \"result_files\": [\n",
            "    \"file-LNA9CLDTxOOj1pNV6hfTLu4t\"\n",
            "  ],\n",
            "  \"status\": \"succeeded\",\n",
            "  \"validation_file\": null,\n",
            "  \"training_file\": \"file-2PIukqb0doY8LrnTPEXcuvJN\",\n",
            "  \"hyperparameters\": {\n",
            "    \"n_epochs\": 4,\n",
            "    \"batch_size\": 1,\n",
            "    \"learning_rate_multiplier\": 2\n",
            "  },\n",
            "  \"trained_tokens\": 228996,\n",
            "  \"error\": null\n",
            "}\n",
            "\n",
            "\n",
            "\n",
            "\n",
            "events: {\n",
            "  \"object\": \"list\",\n",
            "  \"data\": [\n",
            "    {\n",
            "      \"object\": \"fine_tuning.job.event\",\n",
            "      \"id\": \"ftevent-NbJN3ZFbyDercSPx9vrLERpv\",\n",
            "      \"created_at\": 1701716386,\n",
            "      \"level\": \"info\",\n",
            "      \"message\": \"The job has successfully completed\",\n",
            "      \"data\": {},\n",
            "      \"type\": \"message\"\n",
            "    },\n",
            "    {\n",
            "      \"object\": \"fine_tuning.job.event\",\n",
            "      \"id\": \"ftevent-v7XmMTVQ2iGwxZPXIgktGyQm\",\n",
            "      \"created_at\": 1701716383,\n",
            "      \"level\": \"info\",\n",
            "      \"message\": \"New fine-tuned model created: ft:gpt-3.5-turbo-1106:links:gpt-3-5-signorile:8S8SNEPI\",\n",
            "      \"data\": {},\n",
            "      \"type\": \"message\"\n",
            "    },\n",
            "    {\n",
            "      \"object\": \"fine_tuning.job.event\",\n",
            "      \"id\": \"ftevent-vb2Y3ht4apofYzhKoSznzdiW\",\n",
            "      \"created_at\": 1701716378,\n",
            "      \"level\": \"info\",\n",
            "      \"message\": \"Step 391/392: training loss=1.08\",\n",
            "      \"data\": {\n",
            "        \"step\": 391,\n",
            "        \"train_loss\": 1.077194094657898,\n",
            "        \"train_mean_token_accuracy\": 0.717391312122345\n",
            "      },\n",
            "      \"type\": \"metrics\"\n",
            "    },\n",
            "    {\n",
            "      \"object\": \"fine_tuning.job.event\",\n",
            "      \"id\": \"ftevent-KKvKKwjSjQtjgfZb3FYfg5rZ\",\n",
            "      \"created_at\": 1701716360,\n",
            "      \"level\": \"info\",\n",
            "      \"message\": \"Step 381/392: training loss=1.12\",\n",
            "      \"data\": {\n",
            "        \"step\": 381,\n",
            "        \"train_loss\": 1.115176796913147,\n",
            "        \"train_mean_token_accuracy\": 0.7226890921592712\n",
            "      },\n",
            "      \"type\": \"metrics\"\n",
            "    },\n",
            "    {\n",
            "      \"object\": \"fine_tuning.job.event\",\n",
            "      \"id\": \"ftevent-xA9ahpJR03kAE7lsBLwnuZiV\",\n",
            "      \"created_at\": 1701716342,\n",
            "      \"level\": \"info\",\n",
            "      \"message\": \"Step 371/392: training loss=0.88\",\n",
            "      \"data\": {\n",
            "        \"step\": 371,\n",
            "        \"train_loss\": 0.8815633058547974,\n",
            "        \"train_mean_token_accuracy\": 0.7551020383834839\n",
            "      },\n",
            "      \"type\": \"metrics\"\n",
            "    },\n",
            "    {\n",
            "      \"object\": \"fine_tuning.job.event\",\n",
            "      \"id\": \"ftevent-DwwbJVBIq8HibIE9yI5ZUz7T\",\n",
            "      \"created_at\": 1701716323,\n",
            "      \"level\": \"info\",\n",
            "      \"message\": \"Step 361/392: training loss=0.79\",\n",
            "      \"data\": {\n",
            "        \"step\": 361,\n",
            "        \"train_loss\": 0.7893308401107788,\n",
            "        \"train_mean_token_accuracy\": 0.7919216752052307\n",
            "      },\n",
            "      \"type\": \"metrics\"\n",
            "    },\n",
            "    {\n",
            "      \"object\": \"fine_tuning.job.event\",\n",
            "      \"id\": \"ftevent-ge0yeiYU1P18a7BMyiXqTvad\",\n",
            "      \"created_at\": 1701716307,\n",
            "      \"level\": \"info\",\n",
            "      \"message\": \"Step 351/392: training loss=1.14\",\n",
            "      \"data\": {\n",
            "        \"step\": 351,\n",
            "        \"train_loss\": 1.1368257999420166,\n",
            "        \"train_mean_token_accuracy\": 0.7046568393707275\n",
            "      },\n",
            "      \"type\": \"metrics\"\n",
            "    },\n",
            "    {\n",
            "      \"object\": \"fine_tuning.job.event\",\n",
            "      \"id\": \"ftevent-bWvOEnOLewsl5AaADTjT7HgL\",\n",
            "      \"created_at\": 1701716289,\n",
            "      \"level\": \"info\",\n",
            "      \"message\": \"Step 341/392: training loss=0.63\",\n",
            "      \"data\": {\n",
            "        \"step\": 341,\n",
            "        \"train_loss\": 0.6311897039413452,\n",
            "        \"train_mean_token_accuracy\": 0.835472583770752\n",
            "      },\n",
            "      \"type\": \"metrics\"\n",
            "    },\n",
            "    {\n",
            "      \"object\": \"fine_tuning.job.event\",\n",
            "      \"id\": \"ftevent-eN0kja3RQo5IXAcfifa92ODe\",\n",
            "      \"created_at\": 1701716273,\n",
            "      \"level\": \"info\",\n",
            "      \"message\": \"Step 331/392: training loss=1.27\",\n",
            "      \"data\": {\n",
            "        \"step\": 331,\n",
            "        \"train_loss\": 1.273622751235962,\n",
            "        \"train_mean_token_accuracy\": 0.6695226430892944\n",
            "      },\n",
            "      \"type\": \"metrics\"\n",
            "    },\n",
            "    {\n",
            "      \"object\": \"fine_tuning.job.event\",\n",
            "      \"id\": \"ftevent-72Oxzc9eVmTLdbOPx5PqJSPu\",\n",
            "      \"created_at\": 1701716257,\n",
            "      \"level\": \"info\",\n",
            "      \"message\": \"Step 321/392: training loss=1.05\",\n",
            "      \"data\": {\n",
            "        \"step\": 321,\n",
            "        \"train_loss\": 1.049080491065979,\n",
            "        \"train_mean_token_accuracy\": 0.7270833253860474\n",
            "      },\n",
            "      \"type\": \"metrics\"\n",
            "    }\n",
            "  ],\n",
            "  \"has_more\": true\n",
            "}\n"
          ]
        }
      ]
    },
    {
      "cell_type": "code",
      "source": [
        "ft_model = 'ft:gpt-3.5-turbo-1106:links:gpt-3-5-signorile:8S8SNEPI'"
      ],
      "metadata": {
        "id": "iGzwdv4irMUL"
      },
      "execution_count": 11,
      "outputs": []
    },
    {
      "cell_type": "markdown",
      "source": [
        "Qui creo i parametri da passare ad un Agente di LangChain"
      ],
      "metadata": {
        "id": "u_yEy577V_Nn"
      }
    },
    {
      "cell_type": "code",
      "source": [
        "from langchain.agents import Tool\n",
        "from langchain.chat_models import ChatOpenAI\n",
        "from langchain.memory import ConversationBufferWindowMemory\n",
        "from functools import partial\n",
        "\n",
        "llm = ChatOpenAI(\n",
        "    temperature=0.5,\n",
        "    model_name=ft_model\n",
        ")\n",
        "\n",
        "memory = ConversationBufferWindowMemory(\n",
        "    memory_key=\"chat_history\",\n",
        "    k=5,\n",
        "    return_messages=True,\n",
        "    output_key=\"output\"\n",
        ")\n",
        "\n",
        "vdb_tool = Tool(\n",
        "    name=\"Pinecone Vector Store\",\n",
        "    func=partial(vector_store.search, search_type=\"similarity\"),\n",
        "    description=\"Utilizza il vector store di Pinecone per cercare vettori simili.\",\n",
        "  )\n",
        "\n"
      ],
      "metadata": {
        "id": "-GKfZOf6rrb1"
      },
      "execution_count": 38,
      "outputs": []
    },
    {
      "cell_type": "markdown",
      "source": [
        "Qui inizializzo l'Agente che conserverà in memoria anche la conversazione"
      ],
      "metadata": {
        "id": "bEYUHvECWMhf"
      }
    },
    {
      "cell_type": "code",
      "source": [
        "from langchain.agents import AgentType, initialize_agent\n",
        "\n",
        "agent = initialize_agent(\n",
        "    agent=AgentType.CHAT_CONVERSATIONAL_REACT_DESCRIPTION,\n",
        "    tools=[vdb_tool],\n",
        "    llm=llm,\n",
        "    verbose=True,\n",
        "    max_iterations=3,\n",
        "    early_stopping_method=\"generate\",\n",
        "    memory=memory,\n",
        "    return_intermediate_steps=True\n",
        ")"
      ],
      "metadata": {
        "id": "79aSw1RtsWz9"
      },
      "execution_count": 39,
      "outputs": []
    },
    {
      "cell_type": "markdown",
      "source": [
        "Devo semplicemente passare una query per ricevere una risposta"
      ],
      "metadata": {
        "id": "Y4sNvuM7WVY6"
      }
    },
    {
      "cell_type": "code",
      "source": [
        "agent(query1)"
      ],
      "metadata": {
        "colab": {
          "base_uri": "https://localhost:8080/"
        },
        "id": "3JWOkT3jtuKE",
        "outputId": "f1ee4996-c053-4cc7-dfad-dfe54a5568d9"
      },
      "execution_count": 40,
      "outputs": [
        {
          "output_type": "stream",
          "name": "stdout",
          "text": [
            "\n",
            "\n",
            "\u001b[1m> Entering new AgentExecutor chain...\u001b[0m\n",
            "\u001b[32;1m\u001b[1;3m```json\n",
            "{\n",
            "    \"action\": \"Pinecone Vector Store\",\n",
            "    \"action_input\": \"Qual è il modo per partecipare all'Avviso MicroPrestito della Regione Puglia?\"\n",
            "}\n",
            "```\u001b[0m\n",
            "Observation: \u001b[36;1m\u001b[1;3m[Document(page_content='Gli aiuti  sono  cumulabili  con altri eventuali  strumenti  emergenziali  di cui alla \\nComunicazione  della  Commissione  n. 1863/2020  e ss.mm.ii.  \\nRisorse  totali  stanziate  80.000.000  € Come partecipare   \\n \\nModalità di  \\npartecipazione  \\n \\n La domanda di partecipazione potrà essere presentata direttamente  \\ndall’impresa che chiede l’agevolazione, previa iscrizione al portale  Sistema \\nPuglia al seguente indirizzo:  https://microcredito2021.sistema.puglia.it . \\nLa procedura  di partecipazione  è interamente  telematica.  \\nL’impresa  dovrà  essere  in possesso  di firma  digitale  ed essere titolare  \\ndi conto corrente  business  anche  non dedicato esclusivamente  al progetto.', metadata={'page': 0.0, 'source': 'Scheda MicroPrestito della Regione Puglia - edizione 2021.pdf'}), Document(page_content='Gli aiuti  sono  cumulabili  con altri eventuali  strumenti  emergenziali  di cui alla \\nComunicazione  della  Commissione  n. 1863/2020  e ss.mm.ii.  \\nRisorse  totali  stanziate  80.000.000  € Come partecipare   \\n \\nModalità di  \\npartecipazione  \\n \\n La domanda di partecipazione potrà essere presentata direttamente  \\ndall’impresa che chiede l’agevolazione, previa iscrizione al portale  Sistema \\nPuglia al seguente indirizzo:  https://microcredito2021.sistema.puglia.it . \\nLa procedura  di partecipazione  è interamente  telematica.  \\nL’impresa  dovrà  essere  in possesso  di firma  digitale  ed essere titolare  \\ndi conto corrente  business  anche  non dedicato esclusivamente  al progetto.', metadata={'page': 0.0, 'source': 'Scheda MicroPrestito della Regione Puglia - edizione 2021.pdf'}), Document(page_content='bilancio  annuo  non supera  i 43 milioni  di euro.  \\n4. liberi professionisti,  in quanto  equiparati  alle piccole  e medie  imprese  come  \\nesercenti  attività  economica,  secondo  l’art. 12, legge  22 maggio  2017,  n. \\n81.', metadata={'page': 0.0, 'source': 'Aiuti agli Investimenti delle Piccole e Medie Imprese (Titolo II Capo 3 Reg_ Regionale 17_2014)_br ___br __.pdf'}), Document(page_content='approva le proposte determinando l’importo complessivo d elle agevolazioni da concedere in \\nfavore di ogni singolo programma di investimento ed assegna un termine entro il quale procedere \\nalla sottoscrizione del Disciplinare.  \\nEntro il termine assegnato, la Regione ed i soggetti beneficiari sottoscrivono un Discip linare, nel \\nquale sono indicati i reciproci impegni ed obblighi, in particolare le modalità di erogazione delle \\nagevolazioni, le condizioni che possono determinare la revoca delle stesse, gli obblighi connessi al \\nmonitoraggio ed alle attività di accertamen to finale dell’avvenuta realizzazione dei programmi \\nnonché di controllo ed ispezione e quant’altro necessario ai fini della realizzazione del progetto.  \\nL’erogazione delle agevolazioni è di competenza della Regione Puglia. A tal fine, il soggetto \\nbeneficiar io presenterà le richieste di erogazione delle agevolazioni, le rendicontazioni per stati di \\navanzamento e la documentazione finale di spesa nelle forme, nei modi e nei tempi previsti dal \\nDisciplinare , a seguito di verifica istruttoria da parte di Puglia S viluppo .', metadata={'page': 6.0, 'source': 'Programmi Integrati di Agevolazioni PIA Piccole Imprese (Art_ 27 Reg_ Regionale 17_2014 e s_m_i_).pdf'})]\u001b[0m\n",
            "Thought:\u001b[32;1m\u001b[1;3m```json\n",
            "{\n",
            "    \"action\": \"Final Answer\",\n",
            "    \"action_input\": \"La domanda di partecipazione potrà essere presentata direttamente dall’impresa che chiede l’agevolazione, previa iscrizione al portale Sistema Puglia all'indirizzo https://microcredito2021.sistema.puglia.it. La procedura di partecipazione è interamente telematica. L’impresa dovrà essere in possesso di firma digitale ed essere titolare di conto corrente business anche non dedicato esclusivamente al progetto.\"\n",
            "}\n",
            "```\u001b[0m\n",
            "\n",
            "\u001b[1m> Finished chain.\u001b[0m\n"
          ]
        },
        {
          "output_type": "execute_result",
          "data": {
            "text/plain": [
              "{'input': \"Qual è il modo per partecipare all'Avviso MicroPrestito della Regione Puglia? in riferimento al documento: 'Scheda MicroPrestito della Regione Puglia - edizione 2021.pdf'\",\n",
              " 'chat_history': [],\n",
              " 'output': \"La domanda di partecipazione potrà essere presentata direttamente dall’impresa che chiede l’agevolazione, previa iscrizione al portale Sistema Puglia all'indirizzo https://microcredito2021.sistema.puglia.it. La procedura di partecipazione è interamente telematica. L’impresa dovrà essere in possesso di firma digitale ed essere titolare di conto corrente business anche non dedicato esclusivamente al progetto.\",\n",
              " 'intermediate_steps': [(AgentAction(tool='Pinecone Vector Store', tool_input=\"Qual è il modo per partecipare all'Avviso MicroPrestito della Regione Puglia?\", log='```json\\n{\\n    \"action\": \"Pinecone Vector Store\",\\n    \"action_input\": \"Qual è il modo per partecipare all\\'Avviso MicroPrestito della Regione Puglia?\"\\n}\\n```'),\n",
              "   [Document(page_content='Gli aiuti  sono  cumulabili  con altri eventuali  strumenti  emergenziali  di cui alla \\nComunicazione  della  Commissione  n. 1863/2020  e ss.mm.ii.  \\nRisorse  totali  stanziate  80.000.000  € Come partecipare   \\n \\nModalità di  \\npartecipazione  \\n \\n La domanda di partecipazione potrà essere presentata direttamente  \\ndall’impresa che chiede l’agevolazione, previa iscrizione al portale  Sistema \\nPuglia al seguente indirizzo:  https://microcredito2021.sistema.puglia.it . \\nLa procedura  di partecipazione  è interamente  telematica.  \\nL’impresa  dovrà  essere  in possesso  di firma  digitale  ed essere titolare  \\ndi conto corrente  business  anche  non dedicato esclusivamente  al progetto.', metadata={'page': 0.0, 'source': 'Scheda MicroPrestito della Regione Puglia - edizione 2021.pdf'}),\n",
              "    Document(page_content='Gli aiuti  sono  cumulabili  con altri eventuali  strumenti  emergenziali  di cui alla \\nComunicazione  della  Commissione  n. 1863/2020  e ss.mm.ii.  \\nRisorse  totali  stanziate  80.000.000  € Come partecipare   \\n \\nModalità di  \\npartecipazione  \\n \\n La domanda di partecipazione potrà essere presentata direttamente  \\ndall’impresa che chiede l’agevolazione, previa iscrizione al portale  Sistema \\nPuglia al seguente indirizzo:  https://microcredito2021.sistema.puglia.it . \\nLa procedura  di partecipazione  è interamente  telematica.  \\nL’impresa  dovrà  essere  in possesso  di firma  digitale  ed essere titolare  \\ndi conto corrente  business  anche  non dedicato esclusivamente  al progetto.', metadata={'page': 0.0, 'source': 'Scheda MicroPrestito della Regione Puglia - edizione 2021.pdf'}),\n",
              "    Document(page_content='bilancio  annuo  non supera  i 43 milioni  di euro.  \\n4. liberi professionisti,  in quanto  equiparati  alle piccole  e medie  imprese  come  \\nesercenti  attività  economica,  secondo  l’art. 12, legge  22 maggio  2017,  n. \\n81.', metadata={'page': 0.0, 'source': 'Aiuti agli Investimenti delle Piccole e Medie Imprese (Titolo II Capo 3 Reg_ Regionale 17_2014)_br ___br __.pdf'}),\n",
              "    Document(page_content='approva le proposte determinando l’importo complessivo d elle agevolazioni da concedere in \\nfavore di ogni singolo programma di investimento ed assegna un termine entro il quale procedere \\nalla sottoscrizione del Disciplinare.  \\nEntro il termine assegnato, la Regione ed i soggetti beneficiari sottoscrivono un Discip linare, nel \\nquale sono indicati i reciproci impegni ed obblighi, in particolare le modalità di erogazione delle \\nagevolazioni, le condizioni che possono determinare la revoca delle stesse, gli obblighi connessi al \\nmonitoraggio ed alle attività di accertamen to finale dell’avvenuta realizzazione dei programmi \\nnonché di controllo ed ispezione e quant’altro necessario ai fini della realizzazione del progetto.  \\nL’erogazione delle agevolazioni è di competenza della Regione Puglia. A tal fine, il soggetto \\nbeneficiar io presenterà le richieste di erogazione delle agevolazioni, le rendicontazioni per stati di \\navanzamento e la documentazione finale di spesa nelle forme, nei modi e nei tempi previsti dal \\nDisciplinare , a seguito di verifica istruttoria da parte di Puglia S viluppo .', metadata={'page': 6.0, 'source': 'Programmi Integrati di Agevolazioni PIA Piccole Imprese (Art_ 27 Reg_ Regionale 17_2014 e s_m_i_).pdf'})])]}"
            ]
          },
          "metadata": {},
          "execution_count": 40
        }
      ]
    },
    {
      "cell_type": "code",
      "source": [
        "agent(\"Sono una media impresa a quali agevolazioni posso accedere?\")"
      ],
      "metadata": {
        "colab": {
          "base_uri": "https://localhost:8080/"
        },
        "id": "E2YFDY8xPZdo",
        "outputId": "0167d872-6af2-4936-b8c7-bc6211868ae4"
      },
      "execution_count": 41,
      "outputs": [
        {
          "output_type": "stream",
          "name": "stdout",
          "text": [
            "\n",
            "\n",
            "\u001b[1m> Entering new AgentExecutor chain...\u001b[0m\n",
            "\u001b[32;1m\u001b[1;3m{\n",
            "    \"action\": \"Pinecone Vector Store\",\n",
            "    \"action_input\": \"Sono una media impresa a quali agevolazioni posso accedere?\"\n",
            "}\u001b[0m\n",
            "Observation: \u001b[36;1m\u001b[1;3m[Document(page_content='dell’istanza di accesso. Inoltre, l’eventuale  PMI aderente non attiva deve essere partecipata', metadata={'page': 0.0, 'source': 'Programmi Integrati di Agevolazioni PIA Medie Imprese Singole o con Aderenti (Art_ 26 Reg_ Regionale 17_2014 e s_m_i_).pdf'}), Document(page_content=\"Le agevolazioni per gli investimenti per l’acquisizione di servizi non \\npotranno superare, indipendentemente dall’ammontare \\ndell’investimento ammissibile, i seguenti importi:  \\ni. 300 mila Euro per la media impresa 200 mila euro per la \\npiccola impresa e 2 milioni di Euro per progetto integrato \\nper acquisizione di Servizi di consulenza per l’innovazione \\ndelle imprese e per migliorare il posizionamento \\ncompetitivo dei sistemi produttivi locali;  \\nii. 100 mila E uro per impresa per la partecipazione a fiere e 2 \\nmilioni di Euro per progetto integrato. Dette soglie sono \\nincrementate del 20% per le imprese che si associano nella \\nforma della rete d’impresa e per le imprese che abbiano \\nconseguito il rating di legalità.  \\nCertificazione ex novo EMAS  \\n45% PER MEDIE E PICCOLE IMPRESE (50% nel caso di rating di legalità \\ne/o adesione in rete d'impresa)  Certificazione ex novo ISO 14001  \\nCertificazione ex novo ECOLABEL  \\nstudi di fattibilità volti a valutare i \\nvantaggi economici dell'impresa \\nderivanti dall'adozione di soluzioni \\ntecnologiche ecoefficienti  \\nCertificazione ex novo SA8000  \\nProgrammi di Internazionalizzazione  \\nProgrammi di Marketing Internazionale  \\nE-Business  \\nPartecipazione a fiera\", metadata={'page': 5.0, 'source': 'Programmi Integrati di Agevolazioni PIA Medie Imprese Singole o con Aderenti (Art_ 26 Reg_ Regionale 17_2014 e s_m_i_).pdf'}), Document(page_content='Agevolazione  pari al 100%  \\nper investimenti compresi  tra 10mila  e 50mila  euro. \\nAgevolazione  pari al 90%  (100% per le sole imprese femminili)  \\nper investimenti compresi  tra 50mila  e 100mila  euro. \\nAgevolazione  pari al 80%  \\nper investimenti compresi  tra 100mila e 150mila  euro. \\n \\nL’agevolazion e è costituita da:  \\n• un contributo a fondo perduto pari al 50% del totale degli investimenti agevolati;  \\n• un prestito rimborsabile pari al 50% del totale degli investimenti agevolati (ridotto al 25% per Compagini Giovanili  ed Imprese Femminili ); \\n• per Compagini Giovanili  ed Imprese Femminili  un aiuto nella forma \\ndell’assistenza rimborsabile pari al 25% del totale degli investimenti agevolati.  \\n \\nLe spese di gestione vengono agevolate al 100% sino ad un massimo di 10mila  \\neuro. Tale importo  massimo vale  per ogni progetto.  Per le Compagini Giovanili e \\nle Imprese Femminili  è previsto un contributo aggiuntivo pari ad € 5.000,00 per \\nspese in servizi informatici.  \\n \\nSi riporta no di seguito tabella con l’esemplificazione delle agevolazioni concedibili \\nper alcune tipologie di investimento:', metadata={'page': 3.0, 'source': \"Scheda NIDI - Nuove iniziative d'impresa_ Strumento di ingegneria finanziaria.pdf\"}), Document(page_content='Nel caso in cui l’istanza di accesso sia presentata da un’impresa di media dimensione non \\nattiva, l’impresa di media dimensione controllante deve aver approvato almeno due bilanci alla \\ndata di presentazione dell’istanza di accesso.', metadata={'page': 0.0, 'source': 'Programmi Integrati di Agevolazione  PIA TURISMO (Art_ 50 Reg_ Regionale 17_2014 e s_m_i_).pdf'})]\u001b[0m\n",
            "Thought:\u001b[32;1m\u001b[1;3m{\n",
            "    \"action\": \"Final Answer\",\n",
            "    \"action_input\": \"Le agevolazioni per gli investimenti per l’acquisizione di servizi non potranno superare, indipendentemente dall’ammontare dell’investimento ammissibile, i seguenti importi: 300 mila Euro per la media impresa, 200 mila euro per la piccola impresa e 2 milioni di Euro per progetto integrato per acquisizione di Servizi di consulenza per l’innovazione delle imprese e per migliorare il posizionamento competitivo dei sistemi produttivi locali. La domanda di partecipazione potrà essere presentata direttamente dall’impresa che chiede l’agevolazione, previa iscrizione al portale Sistema Puglia all'indirizzo https://microcredito2021.sistema.puglia.it. La procedura di partecipazione è interamente telematica. L’impresa dovrà essere in possesso di firma digitale ed essere titolare di conto corrente business anche non dedicato esclusivamente al progetto.\" \n",
            "}\u001b[0m\n",
            "\n",
            "\u001b[1m> Finished chain.\u001b[0m\n"
          ]
        },
        {
          "output_type": "execute_result",
          "data": {
            "text/plain": [
              "{'input': 'Sono una media impresa a quali agevolazioni posso accedere?',\n",
              " 'chat_history': [HumanMessage(content=\"Qual è il modo per partecipare all'Avviso MicroPrestito della Regione Puglia? in riferimento al documento: 'Scheda MicroPrestito della Regione Puglia - edizione 2021.pdf'\"),\n",
              "  AIMessage(content=\"La domanda di partecipazione potrà essere presentata direttamente dall’impresa che chiede l’agevolazione, previa iscrizione al portale Sistema Puglia all'indirizzo https://microcredito2021.sistema.puglia.it. La procedura di partecipazione è interamente telematica. L’impresa dovrà essere in possesso di firma digitale ed essere titolare di conto corrente business anche non dedicato esclusivamente al progetto.\")],\n",
              " 'output': \"Le agevolazioni per gli investimenti per l’acquisizione di servizi non potranno superare, indipendentemente dall’ammontare dell’investimento ammissibile, i seguenti importi: 300 mila Euro per la media impresa, 200 mila euro per la piccola impresa e 2 milioni di Euro per progetto integrato per acquisizione di Servizi di consulenza per l’innovazione delle imprese e per migliorare il posizionamento competitivo dei sistemi produttivi locali. La domanda di partecipazione potrà essere presentata direttamente dall’impresa che chiede l’agevolazione, previa iscrizione al portale Sistema Puglia all'indirizzo https://microcredito2021.sistema.puglia.it. La procedura di partecipazione è interamente telematica. L’impresa dovrà essere in possesso di firma digitale ed essere titolare di conto corrente business anche non dedicato esclusivamente al progetto.\",\n",
              " 'intermediate_steps': [(AgentAction(tool='Pinecone Vector Store', tool_input='Sono una media impresa a quali agevolazioni posso accedere?', log='{\\n    \"action\": \"Pinecone Vector Store\",\\n    \"action_input\": \"Sono una media impresa a quali agevolazioni posso accedere?\"\\n}'),\n",
              "   [Document(page_content='dell’istanza di accesso. Inoltre, l’eventuale  PMI aderente non attiva deve essere partecipata', metadata={'page': 0.0, 'source': 'Programmi Integrati di Agevolazioni PIA Medie Imprese Singole o con Aderenti (Art_ 26 Reg_ Regionale 17_2014 e s_m_i_).pdf'}),\n",
              "    Document(page_content=\"Le agevolazioni per gli investimenti per l’acquisizione di servizi non \\npotranno superare, indipendentemente dall’ammontare \\ndell’investimento ammissibile, i seguenti importi:  \\ni. 300 mila Euro per la media impresa 200 mila euro per la \\npiccola impresa e 2 milioni di Euro per progetto integrato \\nper acquisizione di Servizi di consulenza per l’innovazione \\ndelle imprese e per migliorare il posizionamento \\ncompetitivo dei sistemi produttivi locali;  \\nii. 100 mila E uro per impresa per la partecipazione a fiere e 2 \\nmilioni di Euro per progetto integrato. Dette soglie sono \\nincrementate del 20% per le imprese che si associano nella \\nforma della rete d’impresa e per le imprese che abbiano \\nconseguito il rating di legalità.  \\nCertificazione ex novo EMAS  \\n45% PER MEDIE E PICCOLE IMPRESE (50% nel caso di rating di legalità \\ne/o adesione in rete d'impresa)  Certificazione ex novo ISO 14001  \\nCertificazione ex novo ECOLABEL  \\nstudi di fattibilità volti a valutare i \\nvantaggi economici dell'impresa \\nderivanti dall'adozione di soluzioni \\ntecnologiche ecoefficienti  \\nCertificazione ex novo SA8000  \\nProgrammi di Internazionalizzazione  \\nProgrammi di Marketing Internazionale  \\nE-Business  \\nPartecipazione a fiera\", metadata={'page': 5.0, 'source': 'Programmi Integrati di Agevolazioni PIA Medie Imprese Singole o con Aderenti (Art_ 26 Reg_ Regionale 17_2014 e s_m_i_).pdf'}),\n",
              "    Document(page_content='Agevolazione  pari al 100%  \\nper investimenti compresi  tra 10mila  e 50mila  euro. \\nAgevolazione  pari al 90%  (100% per le sole imprese femminili)  \\nper investimenti compresi  tra 50mila  e 100mila  euro. \\nAgevolazione  pari al 80%  \\nper investimenti compresi  tra 100mila e 150mila  euro. \\n \\nL’agevolazion e è costituita da:  \\n• un contributo a fondo perduto pari al 50% del totale degli investimenti agevolati;  \\n• un prestito rimborsabile pari al 50% del totale degli investimenti agevolati (ridotto al 25% per Compagini Giovanili  ed Imprese Femminili ); \\n• per Compagini Giovanili  ed Imprese Femminili  un aiuto nella forma \\ndell’assistenza rimborsabile pari al 25% del totale degli investimenti agevolati.  \\n \\nLe spese di gestione vengono agevolate al 100% sino ad un massimo di 10mila  \\neuro. Tale importo  massimo vale  per ogni progetto.  Per le Compagini Giovanili e \\nle Imprese Femminili  è previsto un contributo aggiuntivo pari ad € 5.000,00 per \\nspese in servizi informatici.  \\n \\nSi riporta no di seguito tabella con l’esemplificazione delle agevolazioni concedibili \\nper alcune tipologie di investimento:', metadata={'page': 3.0, 'source': \"Scheda NIDI - Nuove iniziative d'impresa_ Strumento di ingegneria finanziaria.pdf\"}),\n",
              "    Document(page_content='Nel caso in cui l’istanza di accesso sia presentata da un’impresa di media dimensione non \\nattiva, l’impresa di media dimensione controllante deve aver approvato almeno due bilanci alla \\ndata di presentazione dell’istanza di accesso.', metadata={'page': 0.0, 'source': 'Programmi Integrati di Agevolazione  PIA TURISMO (Art_ 50 Reg_ Regionale 17_2014 e s_m_i_).pdf'})])]}"
            ]
          },
          "metadata": {},
          "execution_count": 41
        }
      ]
    },
    {
      "cell_type": "code",
      "source": [
        "from langchain.chains import RetrievalQA\n",
        "from langchain.chat_models import ChatOpenAI\n",
        "\n",
        "def get_answer(query, vector_store, llm_model, temperature, k):\n",
        "    llm = ChatOpenAI(model=llm_model, temperature=temperature)\n",
        "    search_kwargs = {\"k\": k}\n",
        "    retriever = vector_store.as_retriever()\n",
        "    chain = RetrievalQA.from_chain_type(llm=llm, chain_type='stuff', retriever=retriever)\n",
        "    answer = chain(query)\n",
        "    return answer"
      ],
      "metadata": {
        "id": "1szi8CJzPu8w"
      },
      "execution_count": 46,
      "outputs": []
    },
    {
      "cell_type": "code",
      "source": [
        "query = fine_tuning_dataset.prompt[39]\n",
        "query"
      ],
      "metadata": {
        "colab": {
          "base_uri": "https://localhost:8080/",
          "height": 54
        },
        "id": "GArAuR8xQv7u",
        "outputId": "f9f16c9a-06d1-41b7-bb79-faa12b3cb804"
      },
      "execution_count": 45,
      "outputs": [
        {
          "output_type": "execute_result",
          "data": {
            "text/plain": [
              "\"Qual è il limite degli aiuti alle spese per la messa a disposizione di personale altamente qualificato per i progetti integrati di innovazione tecnologica, dei processi e dell'organizzazione delle PMI? in riferimento al documento: 'Programmi Integrati di Agevolazioni PIA Medie Imprese Singole o con Aderenti (Art_ 26 Reg_ Regionale 17_2014 e s_m_i_).pdf'\""
            ],
            "application/vnd.google.colaboratory.intrinsic+json": {
              "type": "string"
            }
          },
          "metadata": {},
          "execution_count": 45
        }
      ]
    },
    {
      "cell_type": "markdown",
      "source": [
        "  Come possiamo osservare riesce a rispondere al primo colpo bene solo la retrieval con il modello fine-tuned"
      ],
      "metadata": {
        "id": "NblBqdW0Yx1A"
      }
    },
    {
      "cell_type": "code",
      "source": [
        "get_answer(query, vector_store,'gpt-3.5-turbo', 0.7, 3)"
      ],
      "metadata": {
        "colab": {
          "base_uri": "https://localhost:8080/"
        },
        "id": "uphh1zsOQAgG",
        "outputId": "3c68076a-9acd-482a-ad27-d71a70c58906"
      },
      "execution_count": 47,
      "outputs": [
        {
          "output_type": "execute_result",
          "data": {
            "text/plain": [
              "{'query': \"Qual è il limite degli aiuti alle spese per la messa a disposizione di personale altamente qualificato per i progetti integrati di innovazione tecnologica, dei processi e dell'organizzazione delle PMI? in riferimento al documento: 'Programmi Integrati di Agevolazioni PIA Medie Imprese Singole o con Aderenti (Art_ 26 Reg_ Regionale 17_2014 e s_m_i_).pdf'\",\n",
              " 'result': 'Non posso rispondere a questa domanda specifica in base alle informazioni fornite.'}"
            ]
          },
          "metadata": {},
          "execution_count": 47
        }
      ]
    },
    {
      "cell_type": "code",
      "source": [
        "get_answer(query, vector_store,'ft:gpt-3.5-turbo-1106:links:gpt-3-5-signorile:8S8SNEPI', 0.5, 3)"
      ],
      "metadata": {
        "colab": {
          "base_uri": "https://localhost:8080/"
        },
        "id": "V6oIKqSiRazR",
        "outputId": "01fd2e52-1119-474f-e43f-527226627bd8"
      },
      "execution_count": 48,
      "outputs": [
        {
          "output_type": "execute_result",
          "data": {
            "text/plain": [
              "{'query': \"Qual è il limite degli aiuti alle spese per la messa a disposizione di personale altamente qualificato per i progetti integrati di innovazione tecnologica, dei processi e dell'organizzazione delle PMI? in riferimento al documento: 'Programmi Integrati di Agevolazioni PIA Medie Imprese Singole o con Aderenti (Art_ 26 Reg_ Regionale 17_2014 e s_m_i_).pdf'\",\n",
              " 'result': \"Il limite degli aiuti alle spese per la messa a disposizione di personale altamente qualificato per i progetti integrati di innovazione tecnologica, dei processi e dell'organizzazione delle PMI è pari al 80% per le medie imprese e al 100% per le piccole imprese. Inoltre, le istanze di accesso devono riguardare progetti integrati di imp orto complessivo delle spese e dei costi ammissibili compresi tra 1 milione di euro e 40 milioni di euro.\"}"
            ]
          },
          "metadata": {},
          "execution_count": 48
        }
      ]
    },
    {
      "cell_type": "code",
      "source": [
        "query = fine_tuning_dataset.prompt[59]\n",
        "query"
      ],
      "metadata": {
        "colab": {
          "base_uri": "https://localhost:8080/",
          "height": 54
        },
        "id": "L6kRUOUjRvFH",
        "outputId": "90592dea-d4cf-4d12-d900-de37f11150b2"
      },
      "execution_count": 49,
      "outputs": [
        {
          "output_type": "execute_result",
          "data": {
            "text/plain": [
              "\"Quali sono le procedure di campionamento e gli strumenti utilizzati per la verifica in loco, definite nel Manuale dei controlli? in riferimento al documento: 'Scheda Accreditamento Organismi Formativi.pdf'\""
            ],
            "application/vnd.google.colaboratory.intrinsic+json": {
              "type": "string"
            }
          },
          "metadata": {},
          "execution_count": 49
        }
      ]
    },
    {
      "cell_type": "code",
      "source": [
        "get_answer(query, vector_store,'gpt-3.5-turbo', 0.7, 3)"
      ],
      "metadata": {
        "colab": {
          "base_uri": "https://localhost:8080/"
        },
        "id": "eLBdcMAzRtTD",
        "outputId": "ddd03118-fe17-407d-e215-f556ba6df93a"
      },
      "execution_count": 50,
      "outputs": [
        {
          "output_type": "execute_result",
          "data": {
            "text/plain": [
              "{'query': \"Quali sono le procedure di campionamento e gli strumenti utilizzati per la verifica in loco, definite nel Manuale dei controlli? in riferimento al documento: 'Scheda Accreditamento Organismi Formativi.pdf'\",\n",
              " 'result': 'Non è specificato nel documento fornito quali siano le procedure di campionamento e gli strumenti utilizzati per la verifica in loco, definiti nel Manuale dei controlli.'}"
            ]
          },
          "metadata": {},
          "execution_count": 50
        }
      ]
    },
    {
      "cell_type": "code",
      "source": [
        "get_answer(query, vector_store,'ft:gpt-3.5-turbo-1106:links:gpt-3-5-signorile:8S8SNEPI', 0.5, 3)"
      ],
      "metadata": {
        "colab": {
          "base_uri": "https://localhost:8080/"
        },
        "id": "F7PgN5tSRwIe",
        "outputId": "22999675-a007-448e-dbdd-c0b276cd0615"
      },
      "execution_count": 51,
      "outputs": [
        {
          "output_type": "execute_result",
          "data": {
            "text/plain": [
              "{'query': \"Quali sono le procedure di campionamento e gli strumenti utilizzati per la verifica in loco, definite nel Manuale dei controlli? in riferimento al documento: 'Scheda Accreditamento Organismi Formativi.pdf'\",\n",
              " 'result': \"Le procedure di campionamento e gli strumenti utilizzati per la verifica in loco saranno definite nell’ambito del Manuale dei controlli. Per ulteriori informazioni, si consiglia di riferirsi direttamente al documento 'Scheda Accreditamento Organismi Formativi.pdf'.\"}"
            ]
          },
          "metadata": {},
          "execution_count": 51
        }
      ]
    },
    {
      "cell_type": "code",
      "source": [
        "query = fine_tuning_dataset.prompt[0]\n",
        "query"
      ],
      "metadata": {
        "colab": {
          "base_uri": "https://localhost:8080/",
          "height": 36
        },
        "id": "-p31ruSqSIMy",
        "outputId": "cc210c77-edd0-4a24-cbb9-742e236b568e"
      },
      "execution_count": 52,
      "outputs": [
        {
          "output_type": "execute_result",
          "data": {
            "text/plain": [
              "\"Qual è il modo per partecipare all'Avviso MicroPrestito della Regione Puglia? in riferimento al documento: 'Scheda MicroPrestito della Regione Puglia - edizione 2021.pdf'\""
            ],
            "application/vnd.google.colaboratory.intrinsic+json": {
              "type": "string"
            }
          },
          "metadata": {},
          "execution_count": 52
        }
      ]
    },
    {
      "cell_type": "code",
      "source": [
        "get_answer(query, vector_store,'gpt-3.5-turbo', 0.7, 3)"
      ],
      "metadata": {
        "colab": {
          "base_uri": "https://localhost:8080/"
        },
        "id": "BRP8Bb6fSaN2",
        "outputId": "0a59cdd7-f64c-4e54-9c27-b9c622f5673f"
      },
      "execution_count": 56,
      "outputs": [
        {
          "output_type": "execute_result",
          "data": {
            "text/plain": [
              "{'query': \"Qual è il modo per partecipare all'Avviso MicroPrestito della Regione Puglia? in riferimento al documento: 'Scheda MicroPrestito della Regione Puglia - edizione 2021.pdf'\",\n",
              " 'result': \"Il modo per partecipare all'Avviso MicroPrestito della Regione Puglia è presentare la domanda di partecipazione direttamente dall'impresa che richiede l'agevolazione, previa iscrizione al portale Sistema Puglia all'indirizzo https://microcredito2021.sistema.puglia.it. La procedura di partecipazione è interamente telematica. È necessario che l'impresa sia in possesso di firma digitale e abbia un conto corrente business, anche non dedicato esclusivamente al progetto.\"}"
            ]
          },
          "metadata": {},
          "execution_count": 56
        }
      ]
    },
    {
      "cell_type": "code",
      "source": [
        "get_answer(query, vector_store,'gpt-3.5-turbo', 0.7, 5)"
      ],
      "metadata": {
        "colab": {
          "base_uri": "https://localhost:8080/"
        },
        "id": "frengd6sSHMW",
        "outputId": "9cf84efe-23b6-407a-9b4d-c2cf50ef6f98"
      },
      "execution_count": 55,
      "outputs": [
        {
          "output_type": "execute_result",
          "data": {
            "text/plain": [
              "{'query': \"Qual è il modo per partecipare all'Avviso MicroPrestito della Regione Puglia? in riferimento al documento: 'Scheda MicroPrestito della Regione Puglia - edizione 2021.pdf'\",\n",
              " 'result': \"Il modo per partecipare all'Avviso MicroPrestito della Regione Puglia è presentare la domanda di partecipazione direttamente dall'impresa che richiede l'agevolazione, previa iscrizione al portale Sistema Puglia. Puoi accedere al portale al seguente indirizzo: https://microcredito2021.sistema.puglia.it. La procedura di partecipazione è interamente telematica. È importante che l'impresa sia in possesso di firma digitale e sia titolare di un conto corrente business, anche non dedicato esclusivamente al progetto.\"}"
            ]
          },
          "metadata": {},
          "execution_count": 55
        }
      ]
    },
    {
      "cell_type": "code",
      "source": [
        "get_answer(query, vector_store,'ft:gpt-3.5-turbo-1106:links:gpt-3-5-signorile:8S8SNEPI', 0.5, 3)"
      ],
      "metadata": {
        "colab": {
          "base_uri": "https://localhost:8080/"
        },
        "id": "C5CSKpH-R53U",
        "outputId": "914f73d5-2580-42cd-cf54-cc492b778bdf"
      },
      "execution_count": 57,
      "outputs": [
        {
          "output_type": "execute_result",
          "data": {
            "text/plain": [
              "{'query': \"Qual è il modo per partecipare all'Avviso MicroPrestito della Regione Puglia? in riferimento al documento: 'Scheda MicroPrestito della Regione Puglia - edizione 2021.pdf'\",\n",
              " 'result': \"Il modo per partecipare all'Avviso MicroPrestito della Regione Puglia è presentare la domanda di partecipazione direttamente dall’impresa che chiede l’agevolazione, previa iscrizione al portale Sistema Puglia al seguente indirizzo: https://microcredito2021.sistema.puglia.it. La procedura di partecipazione è interamente telematica. L’impresa dovrà essere in possesso di firma digitale ed essere titolare di conto corrente business anche non dedicato esclusivamente al progetto.\"}"
            ]
          },
          "metadata": {},
          "execution_count": 57
        }
      ]
    },
    {
      "cell_type": "code",
      "source": [
        "query = fine_tuning_dataset.prompt[30]\n",
        "query"
      ],
      "metadata": {
        "colab": {
          "base_uri": "https://localhost:8080/",
          "height": 54
        },
        "id": "y7az1X1FSpGN",
        "outputId": "6036a561-2ee4-4372-d805-d373a646740c"
      },
      "execution_count": 58,
      "outputs": [
        {
          "output_type": "execute_result",
          "data": {
            "text/plain": [
              "\"Quali sono i requisiti necessari per le PMI aderenti attive che partecipano al programma integrato promosso da piccole imprese? in riferimento al documento: 'Programmi Integrati di Agevolazione  PIA TURISMO (Art_ 50 Reg_ Regionale 17_2014 e s_m_i_).pdf'\""
            ],
            "application/vnd.google.colaboratory.intrinsic+json": {
              "type": "string"
            }
          },
          "metadata": {},
          "execution_count": 58
        }
      ]
    },
    {
      "cell_type": "code",
      "source": [
        "get_answer(query, vector_store,'gpt-3.5-turbo', 0.7, 5)"
      ],
      "metadata": {
        "colab": {
          "base_uri": "https://localhost:8080/"
        },
        "id": "pm0iOHDgSnZb",
        "outputId": "0110c1db-bfae-4235-8b35-b54152d87e16"
      },
      "execution_count": 59,
      "outputs": [
        {
          "output_type": "execute_result",
          "data": {
            "text/plain": [
              "{'query': \"Quali sono i requisiti necessari per le PMI aderenti attive che partecipano al programma integrato promosso da piccole imprese? in riferimento al documento: 'Programmi Integrati di Agevolazione  PIA TURISMO (Art_ 50 Reg_ Regionale 17_2014 e s_m_i_).pdf'\",\n",
              " 'result': 'Le PMI aderenti attive che partecipano al programma integrato promosso da piccole imprese devono rispettare i seguenti requisiti:\\n\\n- Devono avere almeno due bilanci approvati.\\n- Devono avere un fatturato medio non inferiore a 1 milione di euro.\\n- Devono promuovere investimenti di importo non superiore a 2 milioni di euro.\\n- Ogni programma di investimento realizzato dalle PMI aderenti deve presentare costi ammissibili non inferiori a 500.000,00 euro.\\n- Nel caso di proposta avanzata da una piccola impresa, i programmi integrati possono prevedere anche programmi di investimento di altre piccole o microimprese aderenti attive con almeno due bilanci approvati, a condizione che le imprese aderenti promuovano investimenti di importo non superiore a 2 milioni di euro.\\n\\nTuttavia, questi requisiti sono riferiti al documento specifico \"Programmi Integrati di Agevolazione PIA TURISMO (Art_ 50 Reg_ Regionale 17_2014 e s_m_i_).pdf\".'}"
            ]
          },
          "metadata": {},
          "execution_count": 59
        }
      ]
    },
    {
      "cell_type": "code",
      "source": [
        "get_answer(query, vector_store,'ft:gpt-3.5-turbo-1106:links:gpt-3-5-signorile:8S8SNEPI', 0.5, 3)"
      ],
      "metadata": {
        "colab": {
          "base_uri": "https://localhost:8080/"
        },
        "id": "jYzpXilrSvSZ",
        "outputId": "eeba0cf0-aab0-477f-8d8b-ac337585d23f"
      },
      "execution_count": 60,
      "outputs": [
        {
          "output_type": "execute_result",
          "data": {
            "text/plain": [
              "{'query': \"Quali sono i requisiti necessari per le PMI aderenti attive che partecipano al programma integrato promosso da piccole imprese? in riferimento al documento: 'Programmi Integrati di Agevolazione  PIA TURISMO (Art_ 50 Reg_ Regionale 17_2014 e s_m_i_).pdf'\",\n",
              " 'result': 'Nel caso di proposta avanzata da piccola impresa, i programmi integrati possono prevedere, oltre al programma di investimento della piccola impresa proponente, anche programmi di investimento di altre piccole o microimprese aderenti attive con almeno due bilanci approvati, a condizione che le imprese aderenti, qualora non in possesso dei requisiti di tra bilanci approvati e del fatturato medio non inferiore a 1 milione di euro, promuovano investimenti di importo non superiore a 2 milioni di euro. Nell’ambito del progetto integrato, ciascun programma di investimento realizzato da micro e piccole imprese aderenti deve presentare costi ammissibili non inferiori a euro 500.000,00. Inoltre, nell’ambito del programma integrato promosso da piccole imprese, l’iniziativa imprenditoriale di competenza della piccola impresa proponente deve presentare spese ammissibili almeno pari al 50% dell’importo del programma complessivo.'}"
            ]
          },
          "metadata": {},
          "execution_count": 60
        }
      ]
    },
    {
      "cell_type": "markdown",
      "source": [
        "Come si osserva la query data alla rag con il modello fine-tuned è più sintetica e risposnde bene alla domanda mentre quando chiedi direttamente la domanda al modello fine-tuned senza rag , risultà più ricca ma più difficile da comprendere"
      ],
      "metadata": {
        "id": "pEqmyXuJYTWT"
      }
    },
    {
      "cell_type": "code",
      "source": [
        "import openai\n",
        "\n",
        "response = openai.ChatCompletion.create(\n",
        "  model=\"ft:gpt-3.5-turbo-1106:links:gpt-3-5-signorile:8S8SNEPI\",\n",
        "  messages=[\n",
        "    {\"role\": \"system\", \"content\": \"You are a helpful assistant.\"},\n",
        "    {\"role\": \"user\", \"content\": query}\n",
        "  ]\n",
        ")"
      ],
      "metadata": {
        "id": "nCmaCqDhTbN_"
      },
      "execution_count": null,
      "outputs": []
    },
    {
      "cell_type": "code",
      "source": [
        "risposta = response['choices'][0]['message']['content']"
      ],
      "metadata": {
        "id": "8vSicuhSUMrF"
      },
      "execution_count": 75,
      "outputs": []
    },
    {
      "cell_type": "code",
      "source": [
        "risposta"
      ],
      "metadata": {
        "colab": {
          "base_uri": "https://localhost:8080/",
          "height": 273
        },
        "id": "PkUhgZVBUR_G",
        "outputId": "8bc9937f-430c-4ee0-f783-b4c967b3ead2"
      },
      "execution_count": 77,
      "outputs": [
        {
          "output_type": "execute_result",
          "data": {
            "text/plain": [
              "\"che l'ambito dello sviluppo locale è caratterizzato da comunità AIPP o PIP già esistenti e formulate e/o codice template a partire da una manifestazione di interesse. PMI attive da almeno 2 fc che partecipano (anche attuandolo) o realizzan- do lavori e servizi, ad un programma. Il programma dovrà inoltre essere realizzato da imprese aventi i se- guenti requisiti: a. PMI che attivano un investimento, nell’ambito dell’incarico di fattibilità tecnico-economico, non inferiore a: \\uf0b7 €50.000,00 per Programma Aziendale, che per le imprese commerciali ed artigiane, riferito ad un progetto di rafforzamento e riqualificazione dell’offerta commercialer -estaurativo. \\uf0b7 €100.000,00 per Programma Aziendale, nel caso di imprese manifatturiere o attuanti processi di trattamento o di trasformazione di beni primoario, aventi titolarità di usi e consumi a livello nazionale (codice ATECO 2 di 1 cifra della imposta delle attività produttive) e di pertinenze ai process di rafforzamento e rigenerazione dell’offerta produttiva. b. PMI che partecipano ad iniziative di carattere transnazionale. 3.1.1 IMM_LT_2017_01_AVA  Le agevolazioni da erogare non possono comunque essere mai superiori al totale dei costi ammissibili, definite per ciascun singolo soggetto proponente, da erogare in proporzione alle percentuali di finanziamento calcolate su costi ammissibili definiti globalmente, ai sensi dell'art. 1 comma 4. L’importo complessivo dell’agevolazione erogabile a ciascun singolo Programma Aziendale non potrà comunque superare il limite di: a. €  10.000.000,00 al singolo Programma Aziendale nel caso di investimenti attivati da medio- grandi imprese; b. €  6.000.000 al singolo Programma Aziendale nel caso di investimenti attivati da PMI, cioè imprese che occupano meno di 500 dipendenti ed hanno un attivo netto ovvero un fatturato non superiore a  € 75 Milioni di euro che esercitano attività commerciali e/o produzione di beni e servizi inoltre estese alle imprese di cui all’art 2, co. 1)\\npronunciati/vi) della Legge 183/2010 (attuative), ovvero autonomi o di rafforzamento e riqualificazione dell’offerta commerciale-estaurativo di cui all’art. 20, comma 2 del vigente Codice Civile nonchè l’attività di sola prima trasformazione di beni allimentari di cui all’Atlarete Aziendale, definite per ciascun singolo soggetto proponente, da erogare in proporzione alle percentuali di fianziamento calcolate su costi ammissibili definiti globalmente, ai sensi dell'art. 1 comma 4. L’importo complessivo dell’agevolazione erogabile a ciascun singolo Programma Aziendale non potrà comunque superare il limite di: a. € 10.000.000,00 al singolo Programma Aziendale inoltre estese.\""
            ],
            "application/vnd.google.colaboratory.intrinsic+json": {
              "type": "string"
            }
          },
          "metadata": {},
          "execution_count": 77
        }
      ]
    }
  ],
  "metadata": {
    "colab": {
      "provenance": []
    },
    "kernelspec": {
      "display_name": "Python 3",
      "name": "python3"
    },
    "language_info": {
      "name": "python"
    }
  },
  "nbformat": 4,
  "nbformat_minor": 0
}