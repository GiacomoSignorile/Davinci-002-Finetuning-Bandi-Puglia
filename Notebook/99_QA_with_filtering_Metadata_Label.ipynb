{
  "cells": [
    {
      "cell_type": "markdown",
      "source": [
        "# QA con metadata filtering e ricerca di una label nei documenti"
      ],
      "metadata": {
        "id": "Fz9t9xM67aVd"
      }
    },
    {
      "cell_type": "code",
      "execution_count": null,
      "metadata": {
        "id": "YQ4Ass2txIO5"
      },
      "outputs": [],
      "source": [
        "!pip install pypdf\n",
        "!pip install langchain\n",
        "!pip install openai==0.28.1\n",
        "!pip install chromadb\n",
        "!pip install tiktoken\n",
        "!pip install pinecone-client\n",
        "!pip install python-dotenv"
      ]
    },
    {
      "cell_type": "code",
      "execution_count": null,
      "metadata": {
        "colab": {
          "base_uri": "https://localhost:8080/"
        },
        "id": "6cxQAt-Uu-Ip",
        "outputId": "031e363f-470a-426f-dcb7-ba9e6f69f542"
      },
      "outputs": [
        {
          "output_type": "stream",
          "name": "stdout",
          "text": [
            "Mounted at /content/drive/\n",
            "/content/drive/My Drive\n"
          ]
        },
        {
          "output_type": "execute_result",
          "data": {
            "text/plain": [
              "True"
            ]
          },
          "metadata": {},
          "execution_count": 2
        }
      ],
      "source": [
        "from google.colab import drive, files\n",
        "import os\n",
        "from dotenv import load_dotenv, find_dotenv\n",
        "drive.mount(\"/content/drive/\", force_remount=False)\n",
        "%cd \"/content/drive/My Drive/\"\n",
        "load_dotenv('./Lab_Python/.env')"
      ]
    },
    {
      "cell_type": "code",
      "execution_count": null,
      "metadata": {
        "id": "ej_EJtavvDph"
      },
      "outputs": [],
      "source": [
        "import pandas as pd\n",
        "\n",
        "fine_tuning_dataset = pd.read_json(\"./Tesi/fine_tune_improved.json\")\n",
        "dataset_query = pd.read_json(\"./Tesi/prova_domande_fine_tuning.json\")"
      ]
    },
    {
      "cell_type": "code",
      "execution_count": null,
      "metadata": {
        "colab": {
          "base_uri": "https://localhost:8080/"
        },
        "id": "ULbhcC5Ou_4l",
        "outputId": "d1bf72ef-45a6-4442-ebfb-e3a6b7f2048e"
      },
      "outputs": [
        {
          "output_type": "stream",
          "name": "stdout",
          "text": [
            "Qual è il modo per partecipare all'Avviso MicroPrestito della Regione Puglia? in riferimento al documento: 'Scheda MicroPrestito della Regione Puglia - edizione 2021.pdf'\n"
          ]
        }
      ],
      "source": [
        "query1 = fine_tuning_dataset.prompt[0]\n",
        "print(query1)"
      ]
    },
    {
      "cell_type": "code",
      "execution_count": null,
      "metadata": {
        "colab": {
          "base_uri": "https://localhost:8080/"
        },
        "id": "Pf03DmQ5v0p4",
        "outputId": "b2d83cc8-404a-47c6-e9b6-daf3f8b58d7f"
      },
      "outputs": [
        {
          "output_type": "stream",
          "name": "stdout",
          "text": [
            "gpt-3.5-turbo\n"
          ]
        }
      ],
      "source": [
        "import datetime\n",
        "current_date = datetime.datetime.now().date()\n",
        "if current_date < datetime.date(2023, 9, 2):\n",
        "    llm_name = \"gpt-3.5-turbo-0301\"\n",
        "else:\n",
        "    llm_name = \"gpt-3.5-turbo\"\n",
        "print(llm_name)"
      ]
    },
    {
      "cell_type": "markdown",
      "source": [
        "api langsmith per vedere le chiamate"
      ],
      "metadata": {
        "id": "sGFM8AKB7oLJ"
      }
    },
    {
      "cell_type": "code",
      "execution_count": null,
      "metadata": {
        "id": "MqyG91Isv2yJ"
      },
      "outputs": [],
      "source": [
        "import os\n",
        "os.environ[\"LANGCHAIN_TRACING_V2\"] = \"true\"\n",
        "os.environ[\"LANGCHAIN_ENDPOINT\"] = \"https://api.langchain.plus\"\n",
        "os.environ[\"LANGCHAIN_API_KEY\"] = \"ls__0554eeed658141b4a601195abd6c737d\""
      ]
    },
    {
      "cell_type": "markdown",
      "source": [
        "Carico i documenti ed estraggo il contenuto della pagina e i suoi metadata"
      ],
      "metadata": {
        "id": "-c5TdyrH8Zzc"
      }
    },
    {
      "cell_type": "code",
      "execution_count": null,
      "metadata": {
        "id": "SwqWVatZv5ZU"
      },
      "outputs": [],
      "source": [
        "import os\n",
        "from langchain.document_loaders import PyPDFLoader\n",
        "\n",
        "pdf_directory = \"Tesi/Documenti\"\n",
        "\n",
        "pdf_files = [file for file in os.listdir(pdf_directory) if file.endswith('.pdf')]\n",
        "\n",
        "docs = []\n",
        "\n",
        "for pdf_file in pdf_files:\n",
        "  file_path = os.path.join(pdf_directory, pdf_file)\n",
        "\n",
        "  loader = PyPDFLoader(file_path)\n",
        "  loaded_docs = loader.load()\n",
        "\n",
        "  for doc in loaded_docs:\n",
        "      doc.metadata[\"source\"] = pdf_file\n",
        "      docs.append(doc)\n"
      ]
    },
    {
      "cell_type": "code",
      "execution_count": null,
      "metadata": {
        "colab": {
          "base_uri": "https://localhost:8080/"
        },
        "id": "0WUSSTnVwYY7",
        "outputId": "d872ab2b-d077-4774-82c1-fb4b84f4897e"
      },
      "outputs": [
        {
          "data": {
            "text/plain": [
              "Document(page_content='  \\n \\n14 ottobre  2021 Pag 1 di 2 Centro Servizi Sistema Puglia  \\nwww.sistema.puglia.it  \\n \\n \\nScheda: Avviso MicroPrestito  della  Regione  Puglia  \\n \\nInformazioni  generali  Titolo  bando  MicroPrestito  della  Regione  Puglia  \\nDescrizione  L’Avviso  è stato  adottato  per far fronte  alle esigenze  delle  imprese  derivanti  dalle  \\nripercussioni  economiche  causate  dall’emergenza  epidemiologia  Covid -19. La \\nmisura vuole garantire la continuità dell’operatività aziendale  e la salvaguardia \\ndell’occupazione.  \\nLe disposizioni  dell’Avviso  sono  conformi  all’approvazione  dell’Aiuto  di Stato  SA. \\n57021 -Italia -Covid19 regime quadro del 21 maggio 2020 da parte della  \\nCommissione  europea  ai sensi dell’art.  108 del TFUE e  s.m.i.  \\nRisultati  attesi  La misura  sostiene  l’accesso  al credito  attraverso  interventi  di micro -finanza  \\nche consistono  in mutui  concessi  a tasso zero  e senza  garanzie.  \\nDestinatari  Il sistema  economico  e produttivo  pugliese.  Chi può  partecipare  Beneficiari  Le microimprese ed i lavoratori autonomi iscritti al registro delle imprese,  con \\nsede operativa  in Puglia  che abbiano  subito  perdite  di fatturato  o incrementi di \\ncosti in conseguenza dell’epidemia Covid -19 e delle relative  misure  di \\ncontenimento,  avendo  avuto  nel periodo  compreso  tra il 1° gennaio  2021  e il 30 \\nsettembre  2021  ricavi  inferiori  ai ricavi  del periodo  dal \\n1° gennaio  2019 al  30 settembre  2019.  \\nLe microimprese devono essere costituite nelle seguenti forme giuridiche:  ditta  \\nindividuale,  società  in nome  collettivo,  società  in accomandita  semplice, società \\ncooperative, società a responsabilità limitata (anche in  forma  unipersonale  e \\nsemplificata).  \\nL’elenco  dei codici  attività  ammissibili  è riportato  nell’Allegato  1 dell’Avviso.  \\nLe imprese,  nell’esercizio  2019,  non devono  aver  generato  \\nricavi /compensi/fatturato  annuali  superiori a  400.000,00  €. \\nSe l’esercizio  2019  si è concluso  con una perdita,  quest’ultima  non deve  essere  \\nstata  superiore  al 20%  del fatturato.  Cosa  \\nfinanzi a Operazioni  finanziabili  Spese  di funzionamento:  costi  derivanti  dalla  gestione  dell’attività  d’impresa  \\nsostenuti (pagati) in data successiva alla partecipazione all’avviso ed entro  12 mesi \\ndalla concessione  delle agevolazioni.  Risorse  economiche  Fonte  delle  risorse  POR  Puglia  2014 -2020  \\nFonte  specifica  Azioni  3.6 e 3.8 del POR  Puglia  2014 -2020.  \\nFondo  Microprestito  della  Regione  Puglia  2014 -2020.  \\nA sportello  / A \\nscadenza  Avviso  a sportello  operativo  sino al 31/12/2021  e, comunque,  sino ad \\nesaurimento  fondi  \\nContributo massimo  \\nper progetto  Il finanziamento erogabile potrà essere compreso tra 5.000 € e 30.000 € in  ragione \\ndel fatturato conseguito nel 2019. I mutui avranno durata massima  pari a 60 mesi \\n(più preammortamento della durata di 12 mesi). Le imprese,  in regola  con la \\nrestituzione  del finanziamento,  ottengono  un contributo  pari al 20%  dell’importo  \\ndello  stesso  finanziamento  sotto  forma  di abbuono  delle  ultime  12 rate.  \\nGli aiuti  sono  cumulabili  con altri eventuali  strumenti  emergenziali  di cui alla \\nComunicazione  della  Commissione  n. 1863/2020  e ss.mm.ii.  \\nRisorse  totali  stanziate  80.000.000  € Come partecipare   \\n \\nModalità di  \\npartecipazione  \\n \\n La domanda di partecipazione potrà essere presentata direttamente  \\ndall’impresa che chiede l’agevolazione, previa iscrizione al portale  Sistema \\nPuglia al seguente indirizzo:  https://microcredito2021.sistema.puglia.it . \\nLa procedura  di partecipazione  è interamente  telematica.  \\nL’impresa  dovrà  essere  in possesso  di firma  digitale  ed essere titolare  \\ndi conto corrente  business  anche  non dedicato esclusivamente  al progetto.  ', metadata={'source': 'Scheda MicroPrestito della Regione Puglia - edizione 2021.pdf', 'page': 0})"
            ]
          },
          "execution_count": 8,
          "metadata": {},
          "output_type": "execute_result"
        }
      ],
      "source": [
        "docs[0]"
      ]
    },
    {
      "cell_type": "code",
      "execution_count": null,
      "metadata": {
        "id": "ckO_c19c8tsI"
      },
      "outputs": [],
      "source": [
        "# from langchain.prompts import ChatPromptTemplate\n",
        "\n",
        "# from langchain.chat_models import ChatOpenAI\n",
        "# from langchain.document_transformers.openai_functions import create_metadata_tagger\n",
        "# from langchain.schema import Document\n",
        "# from typing import Literal\n",
        "\n",
        "# from pydantic import BaseModel, Field\n",
        "\n",
        "# prompt = ChatPromptTemplate.from_template(\n",
        "#     \"\"\"Calcola le occorrenze di ciascuna parola nel documento e dammi la parola che mi aiuti a identificare il documento:\n",
        "# {input}\n",
        "# \"\"\"\n",
        "# )\n",
        "# class Properties(BaseModel):\n",
        "#     label: str = Field(description=\"keyword non presente nel titolo e ripetuta nel documento\")\n",
        "\n",
        "# # Must be an OpenAI model that supports functions\n",
        "# llm = ChatOpenAI(temperature=0, model=\"gpt-3.5-turbo-0613\")\n",
        "\n",
        "# document_transformer = create_metadata_tagger(Properties, llm=llm, prompt = prompt)\n",
        "\n",
        "# enhanced_documents = document_transformer.transform_documents(docs[:9])"
      ]
    },
    {
      "cell_type": "code",
      "execution_count": null,
      "metadata": {
        "id": "TRh1HTZfBWmE"
      },
      "outputs": [],
      "source": [
        "# from collections import Counter\n",
        "\n",
        "# # Assume docs è una lista di documenti\n",
        "# docs = [...]\n",
        "\n",
        "# # Unisci tutti i documenti in un unico testo\n",
        "# full_text = ' '.join(docs)\n",
        "\n",
        "# # Tokenizza il testo in parole\n",
        "# words = full_text.split()\n",
        "\n",
        "# # Calcola le occorrenze di ciascuna parola\n",
        "# word_counts = Counter(words)\n",
        "\n",
        "# # Trova la parola chiave più comune\n",
        "# most_common_word, occurrences = word_counts.most_common(1)[0]\n",
        "\n",
        "# # Ora most_common_word contiene la parola chiave più comune e occurrences il numero di occorrenze\n",
        "# print(f\"Parola chiave più comune: {most_common_word}, Occorrenze: {occurrences}\")\n"
      ]
    },
    {
      "cell_type": "markdown",
      "source": [
        "Uso una OpenAI function chiamata metadata_tagger che passandogli una classe pydantic con le proprietà label(il nome di quello che vogliamo trovare) : str(il tipo) = description(cosa deve cercare la funzione)  "
      ],
      "metadata": {
        "id": "5RCjWbzA8q7I"
      }
    },
    {
      "cell_type": "code",
      "execution_count": null,
      "metadata": {
        "colab": {
          "base_uri": "https://localhost:8080/"
        },
        "id": "16T5WSuG5BR5",
        "outputId": "82c9e389-95be-4ae8-e85d-daf196f37da5"
      },
      "outputs": [
        {
          "name": "stderr",
          "output_type": "stream",
          "text": [
            "WARNING:langchain_core.language_models.llms:Retrying langchain.chat_models.openai.ChatOpenAI.completion_with_retry.<locals>._completion_with_retry in 4.0 seconds as it raised Timeout: Request timed out: HTTPSConnectionPool(host='api.openai.com', port=443): Read timed out. (read timeout=600).\n",
            "WARNING:langchain_core.language_models.llms:Retrying langchain.chat_models.openai.ChatOpenAI.completion_with_retry.<locals>._completion_with_retry in 4.0 seconds as it raised Timeout: Request timed out: HTTPSConnectionPool(host='api.openai.com', port=443): Read timed out. (read timeout=600).\n"
          ]
        }
      ],
      "source": [
        "from langchain.chat_models import ChatOpenAI\n",
        "from langchain.document_transformers.openai_functions import create_metadata_tagger\n",
        "from langchain.schema import Document\n",
        "from typing import Literal\n",
        "\n",
        "from pydantic import BaseModel, Field\n",
        "\n",
        "class Properties(BaseModel):\n",
        "    label: str = Field(description=\"parola più importante con più occurrenze\")\n",
        "\n",
        "# Must be an OpenAI model that supports functions\n",
        "llm = ChatOpenAI(temperature=0, model=\"gpt-3.5-turbo-0613\")\n",
        "\n",
        "document_transformer = create_metadata_tagger(Properties, llm=llm)\n",
        "\n",
        "enhanced_documents = document_transformer.transform_documents(docs)"
      ]
    },
    {
      "cell_type": "code",
      "execution_count": null,
      "metadata": {
        "id": "BuW_VkK85OFj"
      },
      "outputs": [],
      "source": [
        "enhanced_documents"
      ]
    },
    {
      "cell_type": "code",
      "execution_count": null,
      "metadata": {
        "colab": {
          "base_uri": "https://localhost:8080/"
        },
        "id": "_prDDX3swffu",
        "outputId": "3467c19b-030f-4104-d0fa-fae752bf45ae"
      },
      "outputs": [
        {
          "name": "stdout",
          "output_type": "stream",
          "text": [
            "119\n"
          ]
        }
      ],
      "source": [
        "print(len(docs))"
      ]
    },
    {
      "cell_type": "markdown",
      "source": [
        "Splitto il testo delle pagine dei documenti salvando i metadata"
      ],
      "metadata": {
        "id": "9YZ53_f390WI"
      }
    },
    {
      "cell_type": "code",
      "execution_count": null,
      "metadata": {
        "id": "mgx9_rSqwhN0"
      },
      "outputs": [],
      "source": [
        "from langchain.text_splitter import RecursiveCharacterTextSplitter\n",
        "from langchain.schema import Document\n",
        "\n",
        "text_splitter = RecursiveCharacterTextSplitter(\n",
        "    chunk_size=3796,\n",
        "    chunk_overlap=0,\n",
        "    separators=[\"\\n\\n\", \"\\n\", \"(?<=\\. )\", \" \", \"\"]\n",
        ")\n",
        "\n",
        "\n",
        "split_docs = []\n",
        "\n",
        "for document in enhanced_documents:\n",
        "  metadata = document.metadata\n",
        "  page_content = document.page_content\n",
        "\n",
        "\n",
        "  split_content = text_splitter.create_documents([page_content])\n",
        "\n",
        "\n",
        "  for content_chunk in split_content:\n",
        "    print(content_chunk)\n",
        "    split_docs.append(Document(metadata = metadata, page_content = content_chunk.page_content))\n",
        "\n"
      ]
    },
    {
      "cell_type": "code",
      "execution_count": null,
      "metadata": {
        "colab": {
          "base_uri": "https://localhost:8080/",
          "height": 1000
        },
        "id": "X3qe4LORwsK9",
        "outputId": "0926b3f8-9eab-496c-c17c-e97263fc2a36"
      },
      "outputs": [
        {
          "data": {
            "text/html": [
              "\n",
              "  <div id=\"df-d3763c2e-c095-45b5-b815-e5eb2bd1c6c7\" class=\"colab-df-container\">\n",
              "    <div>\n",
              "<style scoped>\n",
              "    .dataframe tbody tr th:only-of-type {\n",
              "        vertical-align: middle;\n",
              "    }\n",
              "\n",
              "    .dataframe tbody tr th {\n",
              "        vertical-align: top;\n",
              "    }\n",
              "\n",
              "    .dataframe thead th {\n",
              "        text-align: right;\n",
              "    }\n",
              "</style>\n",
              "<table border=\"1\" class=\"dataframe\">\n",
              "  <thead>\n",
              "    <tr style=\"text-align: right;\">\n",
              "      <th></th>\n",
              "      <th>0</th>\n",
              "      <th>1</th>\n",
              "      <th>2</th>\n",
              "    </tr>\n",
              "  </thead>\n",
              "  <tbody>\n",
              "    <tr>\n",
              "      <th>0</th>\n",
              "      <td>(page_content, 14 ottobre  2021 Pag 1 di 2 Centro Servizi Sistema Puglia  \\nwww.sistema.puglia.it  \\n \\n \\nScheda: Avviso MicroPrestito  della  Regione  Puglia  \\n \\nInformazioni  generali  Titolo  bando  MicroPrestito  della  Regione  Puglia  \\nDescrizione  L’Avviso  è stato  adottato  per far fronte  alle esigenze  delle  imprese  derivanti  dalle  \\nripercussioni  economiche  causate  dall’emergenza  epidemiologia  Covid -19. La \\nmisura vuole garantire la continuità dell’operatività aziendale  e la salvaguardia \\ndell’occupazione.  \\nLe disposizioni  dell’Avviso  sono  conformi  all’approvazione  dell’Aiuto  di Stato  SA. \\n57021 -Italia -Covid19 regime quadro del 21 maggio 2020 da parte della  \\nCommissione  europea  ai sensi dell’art.  108 del TFUE e  s.m.i.  \\nRisultati  attesi  La misura  sostiene  l’accesso  al credito  attraverso  interventi  di micro -finanza  \\nche consistono  in mutui  concessi  a tasso zero  e senza  garanzie.  \\nDestinatari  Il sistema  economico  e produttivo  pugliese.  Chi può  partecipare  Beneficiari  Le microimprese ed i lavoratori autonomi iscritti al registro delle imprese,  con \\nsede operativa  in Puglia  che abbiano  subito  perdite  di fatturato  o incrementi di \\ncosti in conseguenza dell’epidemia Covid -19 e delle relative  misure  di \\ncontenimento,  avendo  avuto  nel periodo  compreso  tra il 1° gennaio  2021  e il 30 \\nsettembre  2021  ricavi  inferiori  ai ricavi  del periodo  dal \\n1° gennaio  2019 al  30 settembre  2019.  \\nLe microimprese devono essere costituite nelle seguenti forme giuridiche:  ditta  \\nindividuale,  società  in nome  collettivo,  società  in accomandita  semplice, società \\ncooperative, società a responsabilità limitata (anche in  forma  unipersonale  e \\nsemplificata).  \\nL’elenco  dei codici  attività  ammissibili  è riportato  nell’Allegato  1 dell’Avviso.  \\nLe imprese,  nell’esercizio  2019,  non devono  aver  generato  \\nricavi /compensi/fatturato  annuali  superiori a  400.000,00  €. \\nSe l’esercizio  2019  si è concluso  con una perdita,  quest’ultima  non deve  essere  \\nstata  superiore  al 20%  del fatturato.  Cosa  \\nfinanzi a Operazioni  finanziabili  Spese  di funzionamento:  costi  derivanti  dalla  gestione  dell’attività  d’impresa  \\nsostenuti (pagati) in data successiva alla partecipazione all’avviso ed entro  12 mesi \\ndalla concessione  delle agevolazioni.  Risorse  economiche  Fonte  delle  risorse  POR  Puglia  2014 -2020  \\nFonte  specifica  Azioni  3.6 e 3.8 del POR  Puglia  2014 -2020.  \\nFondo  Microprestito  della  Regione  Puglia  2014 -2020.  \\nA sportello  / A \\nscadenza  Avviso  a sportello  operativo  sino al 31/12/2021  e, comunque,  sino ad \\nesaurimento  fondi  \\nContributo massimo  \\nper progetto  Il finanziamento erogabile potrà essere compreso tra 5.000 € e 30.000 € in  ragione \\ndel fatturato conseguito nel 2019. I mutui avranno durata massima  pari a 60 mesi \\n(più preammortamento della durata di 12 mesi). Le imprese,  in regola  con la \\nrestituzione  del finanziamento,  ottengono  un contributo  pari al 20%  dell’importo  \\ndello  stesso  finanziamento  sotto  forma  di abbuono  delle  ultime  12 rate.  \\nGli aiuti  sono  cumulabili  con altri eventuali  strumenti  emergenziali  di cui alla \\nComunicazione  della  Commissione  n. 1863/2020  e ss.mm.ii.  \\nRisorse  totali  stanziate  80.000.000  € Come partecipare   \\n \\nModalità di  \\npartecipazione  \\n \\n La domanda di partecipazione potrà essere presentata direttamente  \\ndall’impresa che chiede l’agevolazione, previa iscrizione al portale  Sistema \\nPuglia al seguente indirizzo:  https://microcredito2021.sistema.puglia.it . \\nLa procedura  di partecipazione  è interamente  telematica.  \\nL’impresa  dovrà  essere  in possesso  di firma  digitale  ed essere titolare)</td>\n",
              "      <td>(metadata, {'label': 'Avviso MicroPrestito della Regione Puglia', 'source': 'Scheda MicroPrestito della Regione Puglia - edizione 2021.pdf', 'page': 0})</td>\n",
              "      <td>(type, Document)</td>\n",
              "    </tr>\n",
              "    <tr>\n",
              "      <th>1</th>\n",
              "      <td>(page_content, di conto corrente  business  anche  non dedicato esclusivamente  al progetto.)</td>\n",
              "      <td>(metadata, {'label': 'Avviso MicroPrestito della Regione Puglia', 'source': 'Scheda MicroPrestito della Regione Puglia - edizione 2021.pdf', 'page': 0})</td>\n",
              "      <td>(type, Document)</td>\n",
              "    </tr>\n",
              "    <tr>\n",
              "      <th>2</th>\n",
              "      <td>(page_content, 14 ottobre  2021 Pag 2 di 2 Centro Servizi Sistema Puglia  \\nwww.sistema.puglia.it  \\n \\n \\n  Avviso  operativo  sino al 31/12/2021  salvo  esaurimento  fondi.  \\nPer la presentazione della domanda di agevolazione devono essere  \\nprodotti  i seguenti documenti:  \\n· Domanda  di agevolazione  firmata  digitalmente.  \\n· Dichiarazione  di consenso  al trattamento  dei dati personali.  \\n· Dichiarazione sostitutiva di atto notorio (utilizzando la modulistica  \\npresente  sulla  piattaforma)  attestante  il possesso  dei requisiti  \\nprevisti  dall’Avviso.  \\n· Dichiarazione sostitutiva di atto notorio attestante il rispetto degli  \\nobblighi  contributivi.  \\n· documentazione fiscale dell’esercizio 2019 (bilancio d’esercizio  \\ndepositato  o UNICO presentato  all’Agenzia  delle  Entrate);  \\n· documentazione  attestante  i minori  ricavi  dei primi  9 mesi  del 2021  \\nrispetto  al medesimo  periodo  del 2019;  \\n· Estratto  conto  corrente  aziendale  dell’ultimo trimestre.  \\nModulistica  e allegati  Cfr. Allegati  \\nData  di apertura  21/10/2021  \\nData  di chiusura  31/12/2021  salvo  esaurimento  fondi  \\n Sezione  Sezione  Competitività  dei Sistemi  Produttivi  \\nResponsabile  di \\nProcedimento  Lorenzo  Minnielli  c/o Puglia  Sviluppo  S.p.A.  \\ninfo@pugliasviluppo.regione.puglia.it  \\nResponsabile di  \\nAzione  Giuseppe  Pastore  c/o Sezione  Competitività,  Dipartimento  Sviluppo  \\nEconomico  della  Regione  Puglia  \\ncompetitivita.regione@pec.rupar.puglia.it  \\nAltri  eventuali  contatti  I contatti sono disponibili al seguente indirizzo:  \\nhttps://regione.puglia.it/web/guest/bandi -e-avvisi  \\nNumero  Verde  per info 800990064  \\nSito web  Per consultazione dell’Avviso e della modulistica  \\nhttps://regione.puglia.it/web/guest/bandi -e-avvisi  Per la \\npresentazione della domanda di agevolazione  \\nhttps://microcredito2021.sistema.puglia.it . \\nSi consiglia vivamente di accedere alla compilazione della domanda  \\nesclusivamente quando si è in possesso della firma digitale per la  \\nsottoscrizione dei documenti,  nonché  di tutti  i dati e della  \\ndocumentazione richiesti dall’Avviso e dalla relativa modulistica. Si  \\nricorda  che l’invio  di domande incomplete  genera  ritardi  \\nnell’erogazione del  finanziamento.  Documen  ti Avviso  pubblico  Cfr. Allegato  \\nDeterminazione  di \\napprovazione  Determina  del Direttore  Generale  di Puglia  Sviluppo n.  39 dell’8/10/2021  \\nBURP  Bollettino  Ufficiale  della  Regione  Puglia  del 21 ottobre  2021)</td>\n",
              "      <td>(metadata, {'label': 'documentazione fiscale dell’esercizio 2019', 'source': 'Scheda MicroPrestito della Regione Puglia - edizione 2021.pdf', 'page': 1})</td>\n",
              "      <td>(type, Document)</td>\n",
              "    </tr>\n",
              "    <tr>\n",
              "      <th>3</th>\n",
              "      <td>(page_content, Puglia sviluppo  \\nUNIONE  EUROPEA  \\nFONDO  EUROPEO  DI SVILUPPO  REGIONALE  REGIONE  PUGLIA  \\nDIPARTIMENTO  SVILUPPO  ECONOMICO,  \\nINNOVAZIONE,  ISTRUZIONE,  \\nFORMAZIONE  E LAVORO  Ministero  Sviluppo  Economico  \\n1  \\n  \\n \\nNIDI  – Nuove  iniziative d’impresa  \\nStrumento  di ingegneria  finanziaria  \\n \\nAvviso  a sportello  \\nL’iniziativa  viene  attuata  da Puglia  Sviluppo  S.p.A. – società  interamente  \\npartecipata  dalla Regione  Puglia  – con il sostegno  dell’Unione  Europea,  \\nattraverso il Programma  Operativo FESR -FSE 2014 – 2020.  \\nCosa  trovo  in questa  scheda?  \\nQuesta  scheda  contiene  alcune  informazioni  su NIDI strumento  di politica  attiva  \\ndel lavoro della Regione  Puglia  che sostiene  le scelte  di autoimpiego  ed \\nautoimprenditorialità  da parte  delle donne,  dei disoccupati,  dei precari,  di chi sta \\nper perdere il  posto  di lavoro,  dei giovani.  \\nL’obiettivo  di questa  scheda  è fornire  un primo  orientamento  su questa  \\nopportunità  per coloro che intendono  accedere  ai finanziamenti del Fondo  messi  \\na disposizione dalla Regione  Puglia.  \\nNidi offre un aiuto per l'avvio di una nuova impresa con un contributo a fondo  \\nperduto  e un prestito  rimborsabile  sulle spese  per investimenti. È anche  previsto  \\nun ulteriore contributo a fondo perduto per le spese di gestione sostenute nei  \\nprimi mesi di attività. \\nLa dotazione  della misura  è pari a 35.000.000 euro. \\nChi può richiedere l’agevolazione?  \\nPuò richiedere  l'agevolazione: \\n• chi intende  avviare  una nuova  attività  e non ha ancora  costituito  \\nl’impresa;  \\n• le imprese costituite da meno di 6 mesi ; \\n• le imprese,  pur se costituite  da più di 6 mesi, che si configurino  come:  \\n passaggio  generazionale;  \\n rilevamento  di impresa  in crisi o di impresa  confiscata da parte  dei \\ndipendenti;  \\n cooperative  sociali  assegnatarie  di beni immobili  confiscati;  \\n beneficiarie  della misura  “PIN – Pugliesi Innovativi . \\n \\nLe Nuove Iniziative d’Impresa dovranno ricadere in una delle seguenti \\nfattispecie : \\n- Compagini Giovanili, da costituirsi in forma di società, partecipate \\ninteramente da giovani  con età compresa tra i 18 e i 35 anni alla data della)</td>\n",
              "      <td>(metadata, {'label': 'NIDI', 'source': 'Scheda NIDI - Nuove iniziative d'impresa_ Strumento di ingegneria finanziaria.pdf', 'page': 0})</td>\n",
              "      <td>(type, Document)</td>\n",
              "    </tr>\n",
              "    <tr>\n",
              "      <th>4</th>\n",
              "      <td>(page_content, Puglia sviluppo  \\nUNIONE  EUROPEA  \\nFONDO  EUROPEO  DI SVILUPPO  REGIONALE  REGIONE  PUGLIA  \\nDIPARTIMENTO  SVILUPPO  ECONOMICO,  \\nINNOVAZIONE,  ISTRUZIONE,  \\nFORMAZIONE  E LAVORO  Ministero  Sviluppo  Economico  \\n2  \\n domanda preliminare e composte per almeno il 50%, sia del capitale sia \\ndel numero di soci, da soggetti che non siano : dipendenti di altre imprese \\ncon contratto a tempo indeterminato superiore alle 20 ore settimanali , \\npensionati, titolari o amministratori di altra impresa;  \\n• Imprese Femminili , sia in forma di impresa individuale che di società, \\npartecipate interamente da donne  di età superiore a 18 anni e composte \\nper almeno il 50%, sia del capitale sia del numero di soci, da soggetti che non siano: dipendenti di altre imprese con contratto a tempo indeterminato \\nilsuperiore alle 20 ore settimanali , pensionati, titolari o amministratori di \\naltra impresa;  \\n• Nuove Imprese, partecipate per almeno il 50% , sia del capitale sia del \\nnumero di soci, da soggetti svantaggiati  appartenenti, alla data di \\npresentazione della domanda preliminare di cui al successivo Art. 10, ad  \\nalmeno una delle seguenti categorie:  \\na. giovani con età tra 18 anni e 35 anni;  \\nb. donne di età superiore a 18 anni;  \\nc. soggetti che non abbiano avuto rapporti di lavoro subordinato nell’ultimo mese; \\nd. persone in procinto di perdere un posto di lavoro ; \\ne. i titolari di partita IVA non iscritti al registro delle imprese che, nei 12 \\nmesi antecedenti la presentazione della domanda telematica \\npreliminare, abbiano emesso fatture per un imponibile inferiore a \\n15.000 Euro;  \\nf. i soci lavoratori e gli amministratori di cooperative s ociali assegnatarie \\ndi beni immobili confiscati;  \\ng. i soci e amministratori delle imprese, costituite in forma di società, che \\nabbiano firmato l’atto di impegno e regolamentazione dei rapporti \\nnell’ambito del progetto finanziato dall’Avviso pubblico “PIN –  Pugliesi \\nInnovativi ”. \\n• Imprese Turistiche  in possesso dei medesimi requisiti previsti per le \\nNuove Imprese . \\n \\nQuali  attività  posso  realizzare  con l’aiuto di NIDI? \\nÈ possibile  avviare  una nuova  impresa  nei seguenti  settori:  \\n• manifatturiero, \\n• costruzioni  ed edilizia, \\n• riparazione  di autoveicoli e motocicli,  \\n• affittacamere  e bed &amp; breakfast,  \\n• ristorazione  con e senza cucina,  \\n• servizi di informazione  e comunicazione,  \\n• attività  professionali,  scientifiche  e tecniche,  \\n• agenzie  di viaggio,  \\n• servizi di supporto  alle imprese,)</td>\n",
              "      <td>(metadata, {'label': 'imprese', 'source': 'Scheda NIDI - Nuove iniziative d'impresa_ Strumento di ingegneria finanziaria.pdf', 'page': 1})</td>\n",
              "      <td>(type, Document)</td>\n",
              "    </tr>\n",
              "    <tr>\n",
              "      <th>...</th>\n",
              "      <td>...</td>\n",
              "      <td>...</td>\n",
              "      <td>...</td>\n",
              "    </tr>\n",
              "    <tr>\n",
              "      <th>122</th>\n",
              "      <td>(page_content, ricollocazione del personale, ai sensi dell e vigenti norme contrattuali collettive, nonché rispettare quanto  \\nprevisto dal Decreto Interministeriale del 29/11/2007 e devono essere in regola, ai se nsi dell’art. 17 della  \\nLegge  n.68/1999,  in materia  di disciplina  del diritto  al lavoro  dei disabili.)</td>\n",
              "      <td>(metadata, {'label': 'Percorsi IeFP', 'source': 'Scheda Avviso Pubblico OF a_f_ 2023_2024.pdf', 'page': 1})</td>\n",
              "      <td>(type, Document)</td>\n",
              "    </tr>\n",
              "    <tr>\n",
              "      <th>123</th>\n",
              "      <td>(page_content, 12 luglio  2023 Pag 3 di 3 Centro  Servizi Sistema  Puglia  \\nwww.sistema.puglia.it   \\n  \\n \\nRelativamente alle proposte della linea 2 - percorsi IeFP di IV anno - ciascuna Istituzione forma tiva \\naccreditata  potrà  presentare  esclusivamente  propos te di percorsi  correlati  a un corso  di qualifica  \\ntriennale, portato a com pimento dalla medesima Istituzione formativa, secondo il quadro di confluenza  \\ndalle figure nazionali di qualifica a quelle di di ploma professionale contenuto nell ’Accordo fra le Regio ni e \\nle Province autonome del 18 dicembre 2019. La presentazione di propo ste relative a figure di Tecnico non  \\ncoerenti  con le qualifiche  triennali  completate  sarà considerata  irricevibile.  \\n \\nInterventi  finanziabili   \\nGli interventi  finanziabili  dal presente  Avviso  sono i percorsi  formativi  di IeFP in modalità  duale,  distinti  \\nnelle seguenti  linee:  \\n✓ Linea  1 – percorsi  IeFP triennali  in modalità  duale  volti al conseguimento  di una qualifica  \\nprofessionale,  della durata  di 3200 ore di  cui 1100 al primo  e secondo  anno e 1000 al  terzo  anno \\n✓ Linea  2 – percorsi  IeFP di IV anno in modalità  duale volti al conseguimento  di un diploma  \\nprofessionale,  della durata  di 990 ore \\n \\nTermini  e modalità  di presentazione  della  doman da  \\nLe istanze dovranno essere inoltrate, pena l’esclus ione,  unicamente in via telematica attraverso la  \\nprocedura on line Riaper tura termini  Avviso OF 22  – Anno formativo 2023 - 2024 ” all’indirizzo \\nwww.sistema .puglia.it  nella sezione Formazione , link  diretto:  \\nhttps://www.sistema.puglia.it/SistemaPugl ia/offertaformativa202 3 \\nLa procedura on line sarà disp onibile a partire dalle ore 12:00 del 12/07/2023 e sino alle ore 1 4:00 de l \\n31/07/2023. \\nOltre tale termine, il sistema non consentirà più l’accesso alla procedura telematica e, pertanto, non sarà  \\npiù possibile  la regolarizzazione,  sotto  qualsiasi  forma,  delle domande  da parte dei soggetti  proponenti  \\nche abbiano omesso, totalment e o in modo parziale, anche uno solo dei dati e/o delle dichiarazioni  \\nprescritte.  \\n \\nATTENZIONE: con Determinazione Dirigenziale n. 1279 del 27 luglio 2023 la scadenza dei termini \\nper la presentazione delle istanze è stata prorogata alle ore 13:00 del 07.08.202 3)</td>\n",
              "      <td>(metadata, {'label': 'Avviso OF 22', 'source': 'Scheda Avviso Pubblico OF a_f_ 2023_2024.pdf', 'page': 2})</td>\n",
              "      <td>(type, Document)</td>\n",
              "    </tr>\n",
              "    <tr>\n",
              "      <th>124</th>\n",
              "      <td>(page_content, 05 ottobre  2023 Pag 1 di 3 Centro Servizi Sistema Pug lia \\nwww.sistema.puglia.it  \\n SCHEDA PASS LAUREATI 2023 \\nObiettivi  \\n \\nIn continuità con le precedenti edizioni , l'Avviso pubblico n. 1/ POC/2023 - Pass Laureati 202 3 sostiene \\nl'innalzamento dei livelli di competenze, di partecipazione e di successo formativo nell'istruzione \\nuniversitaria o  equivalente. Regione Puglia sostiene così i laureati pugliesi , senza  limiti di età  e con ISEE \\nfino a  € 35.000,00 , che vogliono fre quenta re un Master post-lauream  in Italia o all'estero, finanziandolo \\ncon voucher formativi  che favoriscono l’accrescimento d i competenze ed abilità professionali .  \\nObiettivo dell'intervento resta  l'acquisizione da parte dei p artecipanti di un lavoro, anche autonomo, \\nentro sei mesi dalla fine del percorso.  \\n \\nChi può partecipare  \\n \\nLaureati senza limiti di età che: \\n✓ risultino iscritti nelle liste anagrafiche di uno dei Comuni presenti nel territorio della Regione Puglia \\nda almeno 3 anni;  \\n✓ siano in possesso del Diploma di Laurea (I livello) conseguito al termine dei tre anni di corso, o della \\nLaurea specialistica, o della Laurea conseguita secondo le regole del vecchio ordinamento. Nel caso \\ndi laurea conseguita all’estero, il titolo di  studio deve essere stato riconosciuto in Italia;  \\n✓ non abbiano già fruito, a qualunque titolo, di borse di studio per Master post-lauream  erogate dalla \\nRegione Puglia a valere sui precedenti Avvisi pubblici “PASS LAUREATI” finanziati con le risorse del \\nPOR PUGLIA FSEFESR 2014 -2020;  \\n✓ abbiano un reddito familiare non superiore ad € 35.000,00 individuato esclusivamente sulla base \\ndell’Indicatore della Situazione Economica Equivalente ( I.S.E.E.  ordinario ) in corso di validità al \\nmomento della presentazione dell’istanza . \\n \\nCosa finanzia  \\n \\nRegione Puglia riconosce un voucher formativo a rimborso dell a spesa  di iscrizione al Master , definita \\n“Quota di iscrizione ”, da rendicontare a costo reale producendo la relativa documentazione giustificativa \\n(bonifici di pagamento e fatture) ; in aggiunta, a  copertura de i costi definiti “ Accessori ” (per spese di \\nviaggio, vitto e alloggio ), assegna l'ulteriore sovvenzione  determinata sulla base di opzioni di \\nsemplificazione dei costi e secondo i massimali dettagliatamente indicati nelle Tabelle 1, 2 e 3 dell'A vviso \\n(non soggetta a rendicontazione ). \\nPer i percorsi formativi svolti in Paesi non UE comunque non ricompresi nella Tabella 3, verrà corrisposta \\nla sovvenzione più elevata ivi prevista (Norvegia), da rendicontare a costo reale producendo la relativa \\ndocumentazione giustificativa (bonifici di pa gamento e fatture , titoli di viaggio, ecc. ). \\nI Master finanziabili sono quelli erogati dalle Università italiane e straniere e dalle istituzioni AFAM , \\npubbliche e private , riconosciute dall’ordinamento nazionale ; i Master accredita ti ASFOR o EQUIS o AACSB \\no riconosciuti da Association of MBAS (AMBA)  ed anche quelli erogati da Istituti di Formazione Avanzata, \\npubblici e privati, in possesso di esperienza documentabile decennale qualificata nell’erogazione di Master \\npost-lauream .  \\n• Per quanto concerne la “Quota di iscrizione ” sarà riconosciuto:  \\no per i percorsi formativi svolti sul territorio nazionale  (ivi compresi i territori  di San Marino e \\nCittà del Vaticano ), il costo reale sino ad una concorrenza massima di € 7.500,0 0; \\no per i percorsi formativi svolti all'estero, il costo reale sino ad una concorrenza massima di € \\n10.000,00 . \\n• Relativamente ai costi “ Accessori ” (a copertura delle spese di viaggio, vitto e allog gio) la Sezione \\nFormazione si è avvalsa del supporto fornito da ARTI per l'individuazione di una Opzione di)</td>\n",
              "      <td>(metadata, {'label': 'Pass Laureati', 'source': 'Scheda Pass Laureati 2023.pdf', 'page': 0})</td>\n",
              "      <td>(type, Document)</td>\n",
              "    </tr>\n",
              "    <tr>\n",
              "      <th>125</th>\n",
              "      <td>(page_content, 05 ottobre  2023 Pag 2 di 3 Centro Servizi Sistema Pug lia \\nwww.sistema.puglia.it  \\n Semplificazione dei Costi (O.S.C.) adeguata alle caratteristiche dell'Avviso, partendo da costi già \\ndisponibili si sensi del Reg. (UE) n.697/2019 e tenut o conto dell'art. 67 del Reg. (UE) n. 1303/2013 (così \\ncome novellato dal Reg. (UE -EURATOM) n. 2018/1046), nonché dell'art. 14 (comma 1) del Reg. FSE.  \\nA seguito di un’attenta disamina delle opzioni disponibili nel Regolamento, è stata individuata e \\nquantificata una “sovvenzione” a copertura delle spese per viaggio, vitto e alloggio interregionali e \\ntransnazionali. Le indennità interregionali sono differenziate a seconda della regione in cui si svolge la \\nformazione (destinazione) e della regione di orig ine d el destinatario, mentre le indennità \\ntransnazionali sulla base del Paese di destinazione.  \\n \\nContributo massimo per progetto  \\n \\nVariabile in base alla durata della formazione e alla Regione o al Paese straniero di svolgimento . \\nL’importo massimo erogabile a rimborso del solo costo di iscrizione è di € 10.000,00 per i master all’estero \\ne di € 7.500,00 per i master sul territorio nazionale  (ivi compresi i territori di San Marino e Città del \\nVaticano ), cui si aggiunge  la somma forfettaria per le spes e di vitto , alloggio e trasporto pubblico s ulla \\nbase delle t abelle del bando . \\n \\nRisorse totali disponibili  \\n \\nLe risorse disponibili per finanziare il presente avviso pubblico ammontano ad € 2.300.000 ,00 (euro \\nduemilionitrecentomila /00),  rivenienti dal PO C PUGLIA 2014 -2020.  \\n \\nCome  partecipare  \\n \\nLa procedura sarà attiva a partire dal le ore 1 5.00 del giorno 05 Ottobre  2023 e fino ad esaurimento delle \\nrisorse disponibili.  \\nPer la partecipazione al l’Avviso Pass Laureati 202 3 è necessario essere titolari di una utenza certific ata: \\nSPID (Sistema Pubblico di Identità Digitale), CIE (Carta d’Identità Elettronica) o CNS (Carta Nazionale dei \\nServizi) ed effettuare l’accesso al portale Sistema Puglia attraverso tale canale digitale . \\nLe domande, esenti da bollo, dovranno essere redatt e ed inol trate, a pena di esclusione, unicamente in \\nvia telematica attraverso la procedura on line “PASS LAUREATI 202 3” messa a disposizione all’indirizzo: \\nwww.sistema.puglia.it . Le date di avvio e conclusione del percorso devono essere indicate nella \\ndoma nda. \\nCiascun soggetto può rispondere al l’avviso inoltrando, a pena di esclusione, una sola domanda di \\ncandidatura per un solo percorso formativo.  \\nPer effetto della compilazione telematica il sistema attribuirà all’istanza di candidatura un Codice Pratica \\nunivoco che sarà utilizzato da Regione Puglia per referenziare la stessa pratica negli atti amministrativi \\nconseguenti all’istruttoria.  \\nSi precisa che aver compilato la procedura informatizzata, senza aver effettuato la trasmissione \\ndell’istanza, costitui rà motiv o di esclusione della stessa. In fase di compilazione dell’istanza ciascun \\npartecipante dovrà dichiarare l’indirizzo e -mail corrispondente al proprio domicilio digitale, ove ricevere \\nin via esclusiva tutte le comunicazioni inerenti la procedura. La  Regione  Puglia non è responsabile del \\nmancato ricevimento delle suddette comunicazioni legato all’indicazione errata del domicilio digitale ad \\nopera del partecipante.  \\nPer assistenza sulle modalità di partecipazione, nella pagina del portale dedicata all’ avviso “PASS \\nLAUREATI 2023” saranno attivi i servizi di:  \\n• SUPPORTO TECNICO , gestito dal Centro Servizi Sistema Puglia e dedicato esclusivamente a richieste di \\nsupporto  tecnico informatico in merito alla procedura telematica;  \\n• RICHIEDI INFO, gestito dal la Sezione Formazione e dedicato esclusivamente a richieste di informazioni e \\nchiarimenti sul  testo del l’avviso .)</td>\n",
              "      <td>(metadata, {'label': 'Pass Laureati 2023', 'source': 'Scheda Pass Laureati 2023.pdf', 'page': 1})</td>\n",
              "      <td>(type, Document)</td>\n",
              "    </tr>\n",
              "    <tr>\n",
              "      <th>126</th>\n",
              "      <td>(page_content, 05 ottobre  2023 Pag 3 di 3 Centro Servizi Sistema Pug lia \\nwww.sistema.puglia.it  \\n Inoltre, nella stessa pagina web sarà pubblicato il docu mento “ ITER PROCEDURALE ” che descrive , \\nsinteticamente e step -to-step, la proced ura operativa per l’inoltro dell a candidatura . \\nIl candidato, nella fase di presentazione dell’istanza, dovrà obbligatoriamente , a pena di esclusione , \\nallegare la seguente documentazione in formato pdf:  \\n• autocertificazione attestante i requisiti soggettivi di parte cipazione di cui ai punti a), b), c) e d) del \\nparagrafo 3.1  (il modello verrà generato dalla procedura telematica );  \\n• brochure / scheda infor mativa ufficiale del Master prescelto (o altro documento equivalente), \\nrilasciata dall’Organismo attuatore, da cui p ossano evincersi tutti i requisiti previsti alle lettere a), b), \\nc) e d) del paragrafo 2.1, nonché l’articolazione del percorso formativo (ore didattica frontale; ore \\nstage o tirocinio; materie; numero di CFU; numero di edizione; costo di iscrizione al Mas ter);  \\n• dichiarazione r ilasciata dal soggetto erogatore del Master circa il possesso dei requisiti specifici ad esso \\nrichiesti (solo per i Master di tipologia C).  \\nPer i documenti redatti in lingua straniera è obbligatorio produrre anche la traduzione degli  stessi. La \\nveridicità  della traduzione, oltre che dagli organismi preposti, potrà essere attestata, sotto propria \\nresponsabilità ai sensi dell’art. 46 del DPR 445/2000 e nella consapevolezza del disposto di cui agli artt. 75 \\ne 76 del citato DPR, dal candi dato.  \\n \\nIn caso di irre golarità della documentazione valida ai fini dell’ammissibilità, ai sensi dell’art. 6, comma 1, \\nlett. b), della L. 241/90, l’Amministrazione potrà procedere all’invio di una richiesta di integrazione al \\ndomicilio digitale comunicato a l momento della compil azione dell’istanza che dovrà essere evasa entro e \\nnon oltre i dieci giorni dalla ricezione. In caso di mancata integrazione documentale il Responsabile del \\nProcedimento provvederà alla declaratoria di inammissibilità dell’istanza.  \\nDiversamente, in caso d i mancanza anche di un singolo documento richiesto per l’ammissibilità, \\nl’Amministrazione procederà alla declaratoria di inammissibilità dell’istanza proposta. La presenza di una \\nrichiesta di integrazione verrà notificata all’utente tramite messaggio via s ms e via e -mail, ai recapiti \\nspecificati nel pannello omonimo della procedura e sui quali è possibile in qualunque momento operare un \\naggiornamento.  \\n \\nEventuali disallineamenti della modulistica allegat a rispetto alla lex-specialis  (l’Avviso pubblico) \\nverranno , in seguito , corretti con apposito provvedimento ; in caso di eventuali  discrasi e tra \\ndisposizioni dell ’Avviso e relativa modulistica verrà applica ta la regula iuris  della  prevalenza delle \\ndisposizioni dell’Avviso .  \\n \\nStruttura Res ponsabile del Procedimento  \\nLa Struttura responsabile del procedimento è la Regione Puglia - Sezione Formazione.  \\nIl responsabile del procedimento fino alla fase di adozione dell’atto di ammissione a contributo è l’Avv. \\nMonica Calzetta.  \\nIl responsabile del  procedimento per la fase di gestione è l’Avv. Christian Cavallo.  \\nIl responsabile del procedimento per la fase di controllo è il dott. Gaetano D’Innocenzo.)</td>\n",
              "      <td>(metadata, {'label': 'documento', 'source': 'Scheda Pass Laureati 2023.pdf', 'page': 2})</td>\n",
              "      <td>(type, Document)</td>\n",
              "    </tr>\n",
              "  </tbody>\n",
              "</table>\n",
              "<p>127 rows × 3 columns</p>\n",
              "</div>\n",
              "    <div class=\"colab-df-buttons\">\n",
              "\n",
              "  <div class=\"colab-df-container\">\n",
              "    <button class=\"colab-df-convert\" onclick=\"convertToInteractive('df-d3763c2e-c095-45b5-b815-e5eb2bd1c6c7')\"\n",
              "            title=\"Convert this dataframe to an interactive table.\"\n",
              "            style=\"display:none;\">\n",
              "\n",
              "  <svg xmlns=\"http://www.w3.org/2000/svg\" height=\"24px\" viewBox=\"0 -960 960 960\">\n",
              "    <path d=\"M120-120v-720h720v720H120Zm60-500h600v-160H180v160Zm220 220h160v-160H400v160Zm0 220h160v-160H400v160ZM180-400h160v-160H180v160Zm440 0h160v-160H620v160ZM180-180h160v-160H180v160Zm440 0h160v-160H620v160Z\"/>\n",
              "  </svg>\n",
              "    </button>\n",
              "\n",
              "  <style>\n",
              "    .colab-df-container {\n",
              "      display:flex;\n",
              "      gap: 12px;\n",
              "    }\n",
              "\n",
              "    .colab-df-convert {\n",
              "      background-color: #E8F0FE;\n",
              "      border: none;\n",
              "      border-radius: 50%;\n",
              "      cursor: pointer;\n",
              "      display: none;\n",
              "      fill: #1967D2;\n",
              "      height: 32px;\n",
              "      padding: 0 0 0 0;\n",
              "      width: 32px;\n",
              "    }\n",
              "\n",
              "    .colab-df-convert:hover {\n",
              "      background-color: #E2EBFA;\n",
              "      box-shadow: 0px 1px 2px rgba(60, 64, 67, 0.3), 0px 1px 3px 1px rgba(60, 64, 67, 0.15);\n",
              "      fill: #174EA6;\n",
              "    }\n",
              "\n",
              "    .colab-df-buttons div {\n",
              "      margin-bottom: 4px;\n",
              "    }\n",
              "\n",
              "    [theme=dark] .colab-df-convert {\n",
              "      background-color: #3B4455;\n",
              "      fill: #D2E3FC;\n",
              "    }\n",
              "\n",
              "    [theme=dark] .colab-df-convert:hover {\n",
              "      background-color: #434B5C;\n",
              "      box-shadow: 0px 1px 3px 1px rgba(0, 0, 0, 0.15);\n",
              "      filter: drop-shadow(0px 1px 2px rgba(0, 0, 0, 0.3));\n",
              "      fill: #FFFFFF;\n",
              "    }\n",
              "  </style>\n",
              "\n",
              "    <script>\n",
              "      const buttonEl =\n",
              "        document.querySelector('#df-d3763c2e-c095-45b5-b815-e5eb2bd1c6c7 button.colab-df-convert');\n",
              "      buttonEl.style.display =\n",
              "        google.colab.kernel.accessAllowed ? 'block' : 'none';\n",
              "\n",
              "      async function convertToInteractive(key) {\n",
              "        const element = document.querySelector('#df-d3763c2e-c095-45b5-b815-e5eb2bd1c6c7');\n",
              "        const dataTable =\n",
              "          await google.colab.kernel.invokeFunction('convertToInteractive',\n",
              "                                                    [key], {});\n",
              "        if (!dataTable) return;\n",
              "\n",
              "        const docLinkHtml = 'Like what you see? Visit the ' +\n",
              "          '<a target=\"_blank\" href=https://colab.research.google.com/notebooks/data_table.ipynb>data table notebook</a>'\n",
              "          + ' to learn more about interactive tables.';\n",
              "        element.innerHTML = '';\n",
              "        dataTable['output_type'] = 'display_data';\n",
              "        await google.colab.output.renderOutput(dataTable, element);\n",
              "        const docLink = document.createElement('div');\n",
              "        docLink.innerHTML = docLinkHtml;\n",
              "        element.appendChild(docLink);\n",
              "      }\n",
              "    </script>\n",
              "  </div>\n",
              "\n",
              "\n",
              "<div id=\"df-04a2a435-ce76-4b12-975f-07a4524ca402\">\n",
              "  <button class=\"colab-df-quickchart\" onclick=\"quickchart('df-04a2a435-ce76-4b12-975f-07a4524ca402')\"\n",
              "            title=\"Suggest charts\"\n",
              "            style=\"display:none;\">\n",
              "\n",
              "<svg xmlns=\"http://www.w3.org/2000/svg\" height=\"24px\"viewBox=\"0 0 24 24\"\n",
              "     width=\"24px\">\n",
              "    <g>\n",
              "        <path d=\"M19 3H5c-1.1 0-2 .9-2 2v14c0 1.1.9 2 2 2h14c1.1 0 2-.9 2-2V5c0-1.1-.9-2-2-2zM9 17H7v-7h2v7zm4 0h-2V7h2v10zm4 0h-2v-4h2v4z\"/>\n",
              "    </g>\n",
              "</svg>\n",
              "  </button>\n",
              "\n",
              "<style>\n",
              "  .colab-df-quickchart {\n",
              "      --bg-color: #E8F0FE;\n",
              "      --fill-color: #1967D2;\n",
              "      --hover-bg-color: #E2EBFA;\n",
              "      --hover-fill-color: #174EA6;\n",
              "      --disabled-fill-color: #AAA;\n",
              "      --disabled-bg-color: #DDD;\n",
              "  }\n",
              "\n",
              "  [theme=dark] .colab-df-quickchart {\n",
              "      --bg-color: #3B4455;\n",
              "      --fill-color: #D2E3FC;\n",
              "      --hover-bg-color: #434B5C;\n",
              "      --hover-fill-color: #FFFFFF;\n",
              "      --disabled-bg-color: #3B4455;\n",
              "      --disabled-fill-color: #666;\n",
              "  }\n",
              "\n",
              "  .colab-df-quickchart {\n",
              "    background-color: var(--bg-color);\n",
              "    border: none;\n",
              "    border-radius: 50%;\n",
              "    cursor: pointer;\n",
              "    display: none;\n",
              "    fill: var(--fill-color);\n",
              "    height: 32px;\n",
              "    padding: 0;\n",
              "    width: 32px;\n",
              "  }\n",
              "\n",
              "  .colab-df-quickchart:hover {\n",
              "    background-color: var(--hover-bg-color);\n",
              "    box-shadow: 0 1px 2px rgba(60, 64, 67, 0.3), 0 1px 3px 1px rgba(60, 64, 67, 0.15);\n",
              "    fill: var(--button-hover-fill-color);\n",
              "  }\n",
              "\n",
              "  .colab-df-quickchart-complete:disabled,\n",
              "  .colab-df-quickchart-complete:disabled:hover {\n",
              "    background-color: var(--disabled-bg-color);\n",
              "    fill: var(--disabled-fill-color);\n",
              "    box-shadow: none;\n",
              "  }\n",
              "\n",
              "  .colab-df-spinner {\n",
              "    border: 2px solid var(--fill-color);\n",
              "    border-color: transparent;\n",
              "    border-bottom-color: var(--fill-color);\n",
              "    animation:\n",
              "      spin 1s steps(1) infinite;\n",
              "  }\n",
              "\n",
              "  @keyframes spin {\n",
              "    0% {\n",
              "      border-color: transparent;\n",
              "      border-bottom-color: var(--fill-color);\n",
              "      border-left-color: var(--fill-color);\n",
              "    }\n",
              "    20% {\n",
              "      border-color: transparent;\n",
              "      border-left-color: var(--fill-color);\n",
              "      border-top-color: var(--fill-color);\n",
              "    }\n",
              "    30% {\n",
              "      border-color: transparent;\n",
              "      border-left-color: var(--fill-color);\n",
              "      border-top-color: var(--fill-color);\n",
              "      border-right-color: var(--fill-color);\n",
              "    }\n",
              "    40% {\n",
              "      border-color: transparent;\n",
              "      border-right-color: var(--fill-color);\n",
              "      border-top-color: var(--fill-color);\n",
              "    }\n",
              "    60% {\n",
              "      border-color: transparent;\n",
              "      border-right-color: var(--fill-color);\n",
              "    }\n",
              "    80% {\n",
              "      border-color: transparent;\n",
              "      border-right-color: var(--fill-color);\n",
              "      border-bottom-color: var(--fill-color);\n",
              "    }\n",
              "    90% {\n",
              "      border-color: transparent;\n",
              "      border-bottom-color: var(--fill-color);\n",
              "    }\n",
              "  }\n",
              "</style>\n",
              "\n",
              "  <script>\n",
              "    async function quickchart(key) {\n",
              "      const quickchartButtonEl =\n",
              "        document.querySelector('#' + key + ' button');\n",
              "      quickchartButtonEl.disabled = true;  // To prevent multiple clicks.\n",
              "      quickchartButtonEl.classList.add('colab-df-spinner');\n",
              "      try {\n",
              "        const charts = await google.colab.kernel.invokeFunction(\n",
              "            'suggestCharts', [key], {});\n",
              "      } catch (error) {\n",
              "        console.error('Error during call to suggestCharts:', error);\n",
              "      }\n",
              "      quickchartButtonEl.classList.remove('colab-df-spinner');\n",
              "      quickchartButtonEl.classList.add('colab-df-quickchart-complete');\n",
              "    }\n",
              "    (() => {\n",
              "      let quickchartButtonEl =\n",
              "        document.querySelector('#df-04a2a435-ce76-4b12-975f-07a4524ca402 button');\n",
              "      quickchartButtonEl.style.display =\n",
              "        google.colab.kernel.accessAllowed ? 'block' : 'none';\n",
              "    })();\n",
              "  </script>\n",
              "</div>\n",
              "    </div>\n",
              "  </div>\n"
            ],
            "text/plain": [
              "                                                                                                                                                                                                                                                                                                                                                                                                                                                                                                                                                                                                                                                                                                                                                                                                                                                                                                                                                                                                                                                                                                                                                                                                                                                                                                                                                                                                                                                                                                                                                                                                                                                                                                                                                                                                                                                                                                                                                                                                                                                                                                                                                                                                                                                                                                                                                                                                                                                                                                                                                                                                                                                                                                                                                                                                                                                                                                                                                                                                                                                                                                                                                                                                                                                                                                                                                                                                                                                                                                                                                                                                                                                                                                                                                                                                                                                                                                                                                                                                  0  \\\n",
              "0                                        (page_content, 14 ottobre  2021 Pag 1 di 2 Centro Servizi Sistema Puglia  \\nwww.sistema.puglia.it  \\n \\n \\nScheda: Avviso MicroPrestito  della  Regione  Puglia  \\n \\nInformazioni  generali  Titolo  bando  MicroPrestito  della  Regione  Puglia  \\nDescrizione  L’Avviso  è stato  adottato  per far fronte  alle esigenze  delle  imprese  derivanti  dalle  \\nripercussioni  economiche  causate  dall’emergenza  epidemiologia  Covid -19. La \\nmisura vuole garantire la continuità dell’operatività aziendale  e la salvaguardia \\ndell’occupazione.  \\nLe disposizioni  dell’Avviso  sono  conformi  all’approvazione  dell’Aiuto  di Stato  SA. \\n57021 -Italia -Covid19 regime quadro del 21 maggio 2020 da parte della  \\nCommissione  europea  ai sensi dell’art.  108 del TFUE e  s.m.i.  \\nRisultati  attesi  La misura  sostiene  l’accesso  al credito  attraverso  interventi  di micro -finanza  \\nche consistono  in mutui  concessi  a tasso zero  e senza  garanzie.  \\nDestinatari  Il sistema  economico  e produttivo  pugliese.  Chi può  partecipare  Beneficiari  Le microimprese ed i lavoratori autonomi iscritti al registro delle imprese,  con \\nsede operativa  in Puglia  che abbiano  subito  perdite  di fatturato  o incrementi di \\ncosti in conseguenza dell’epidemia Covid -19 e delle relative  misure  di \\ncontenimento,  avendo  avuto  nel periodo  compreso  tra il 1° gennaio  2021  e il 30 \\nsettembre  2021  ricavi  inferiori  ai ricavi  del periodo  dal \\n1° gennaio  2019 al  30 settembre  2019.  \\nLe microimprese devono essere costituite nelle seguenti forme giuridiche:  ditta  \\nindividuale,  società  in nome  collettivo,  società  in accomandita  semplice, società \\ncooperative, società a responsabilità limitata (anche in  forma  unipersonale  e \\nsemplificata).  \\nL’elenco  dei codici  attività  ammissibili  è riportato  nell’Allegato  1 dell’Avviso.  \\nLe imprese,  nell’esercizio  2019,  non devono  aver  generato  \\nricavi /compensi/fatturato  annuali  superiori a  400.000,00  €. \\nSe l’esercizio  2019  si è concluso  con una perdita,  quest’ultima  non deve  essere  \\nstata  superiore  al 20%  del fatturato.  Cosa  \\nfinanzi a Operazioni  finanziabili  Spese  di funzionamento:  costi  derivanti  dalla  gestione  dell’attività  d’impresa  \\nsostenuti (pagati) in data successiva alla partecipazione all’avviso ed entro  12 mesi \\ndalla concessione  delle agevolazioni.  Risorse  economiche  Fonte  delle  risorse  POR  Puglia  2014 -2020  \\nFonte  specifica  Azioni  3.6 e 3.8 del POR  Puglia  2014 -2020.  \\nFondo  Microprestito  della  Regione  Puglia  2014 -2020.  \\nA sportello  / A \\nscadenza  Avviso  a sportello  operativo  sino al 31/12/2021  e, comunque,  sino ad \\nesaurimento  fondi  \\nContributo massimo  \\nper progetto  Il finanziamento erogabile potrà essere compreso tra 5.000 € e 30.000 € in  ragione \\ndel fatturato conseguito nel 2019. I mutui avranno durata massima  pari a 60 mesi \\n(più preammortamento della durata di 12 mesi). Le imprese,  in regola  con la \\nrestituzione  del finanziamento,  ottengono  un contributo  pari al 20%  dell’importo  \\ndello  stesso  finanziamento  sotto  forma  di abbuono  delle  ultime  12 rate.  \\nGli aiuti  sono  cumulabili  con altri eventuali  strumenti  emergenziali  di cui alla \\nComunicazione  della  Commissione  n. 1863/2020  e ss.mm.ii.  \\nRisorse  totali  stanziate  80.000.000  € Come partecipare   \\n \\nModalità di  \\npartecipazione  \\n \\n La domanda di partecipazione potrà essere presentata direttamente  \\ndall’impresa che chiede l’agevolazione, previa iscrizione al portale  Sistema \\nPuglia al seguente indirizzo:  https://microcredito2021.sistema.puglia.it . \\nLa procedura  di partecipazione  è interamente  telematica.  \\nL’impresa  dovrà  essere  in possesso  di firma  digitale  ed essere titolare)   \n",
              "1                                                                                                                                                                                                                                                                                                                                                                                                                                                                                                                                                                                                                                                                                                                                                                                                                                                                                                                                                                                                                                                                                                                                                                                                                                                                                                                                                                                                                                                                                                                                                                                                                                                                                                                                                                                                                                                                                                                                                                                                                                                                                                                                                                                                                                                                                                                                                                                                                                                                                                                                                                                                                                                                                                                                                                                                                                                                                                                                                                                                                                                                                                                                                                                                                                                                                                                                                                                                                                                                                                                                                                                                                                                                                                                                                                                                                                                                                                     (page_content, di conto corrente  business  anche  non dedicato esclusivamente  al progetto.)   \n",
              "2                                                                                                                                                                                                                                                                                                                                                                                                                                                                                                                                                                                                                                                                                                                                                                                                                                                                                                                                                                                                                                                                                                                                                                                                                                                                                                                                                                        (page_content, 14 ottobre  2021 Pag 2 di 2 Centro Servizi Sistema Puglia  \\nwww.sistema.puglia.it  \\n \\n \\n  Avviso  operativo  sino al 31/12/2021  salvo  esaurimento  fondi.  \\nPer la presentazione della domanda di agevolazione devono essere  \\nprodotti  i seguenti documenti:  \\n· Domanda  di agevolazione  firmata  digitalmente.  \\n· Dichiarazione  di consenso  al trattamento  dei dati personali.  \\n· Dichiarazione sostitutiva di atto notorio (utilizzando la modulistica  \\npresente  sulla  piattaforma)  attestante  il possesso  dei requisiti  \\nprevisti  dall’Avviso.  \\n· Dichiarazione sostitutiva di atto notorio attestante il rispetto degli  \\nobblighi  contributivi.  \\n· documentazione fiscale dell’esercizio 2019 (bilancio d’esercizio  \\ndepositato  o UNICO presentato  all’Agenzia  delle  Entrate);  \\n· documentazione  attestante  i minori  ricavi  dei primi  9 mesi  del 2021  \\nrispetto  al medesimo  periodo  del 2019;  \\n· Estratto  conto  corrente  aziendale  dell’ultimo trimestre.  \\nModulistica  e allegati  Cfr. Allegati  \\nData  di apertura  21/10/2021  \\nData  di chiusura  31/12/2021  salvo  esaurimento  fondi  \\n Sezione  Sezione  Competitività  dei Sistemi  Produttivi  \\nResponsabile  di \\nProcedimento  Lorenzo  Minnielli  c/o Puglia  Sviluppo  S.p.A.  \\ninfo@pugliasviluppo.regione.puglia.it  \\nResponsabile di  \\nAzione  Giuseppe  Pastore  c/o Sezione  Competitività,  Dipartimento  Sviluppo  \\nEconomico  della  Regione  Puglia  \\ncompetitivita.regione@pec.rupar.puglia.it  \\nAltri  eventuali  contatti  I contatti sono disponibili al seguente indirizzo:  \\nhttps://regione.puglia.it/web/guest/bandi -e-avvisi  \\nNumero  Verde  per info 800990064  \\nSito web  Per consultazione dell’Avviso e della modulistica  \\nhttps://regione.puglia.it/web/guest/bandi -e-avvisi  Per la \\npresentazione della domanda di agevolazione  \\nhttps://microcredito2021.sistema.puglia.it . \\nSi consiglia vivamente di accedere alla compilazione della domanda  \\nesclusivamente quando si è in possesso della firma digitale per la  \\nsottoscrizione dei documenti,  nonché  di tutti  i dati e della  \\ndocumentazione richiesti dall’Avviso e dalla relativa modulistica. Si  \\nricorda  che l’invio  di domande incomplete  genera  ritardi  \\nnell’erogazione del  finanziamento.  Documen  ti Avviso  pubblico  Cfr. Allegato  \\nDeterminazione  di \\napprovazione  Determina  del Direttore  Generale  di Puglia  Sviluppo n.  39 dell’8/10/2021  \\nBURP  Bollettino  Ufficiale  della  Regione  Puglia  del 21 ottobre  2021)   \n",
              "3                                                                                                                                                                                                                                                                                                                                                                                                                                                                                                                                                                                                                                                                                                                                                                                                                                                                                                                                                                                                                                                                                                                                                                                                                                                                                                                                                                                                                                                                                                                                                                                                                                                   (page_content, Puglia sviluppo  \\nUNIONE  EUROPEA  \\nFONDO  EUROPEO  DI SVILUPPO  REGIONALE  REGIONE  PUGLIA  \\nDIPARTIMENTO  SVILUPPO  ECONOMICO,  \\nINNOVAZIONE,  ISTRUZIONE,  \\nFORMAZIONE  E LAVORO  Ministero  Sviluppo  Economico  \\n1  \\n  \\n \\nNIDI  – Nuove  iniziative d’impresa  \\nStrumento  di ingegneria  finanziaria  \\n \\nAvviso  a sportello  \\nL’iniziativa  viene  attuata  da Puglia  Sviluppo  S.p.A. – società  interamente  \\npartecipata  dalla Regione  Puglia  – con il sostegno  dell’Unione  Europea,  \\nattraverso il Programma  Operativo FESR -FSE 2014 – 2020.  \\nCosa  trovo  in questa  scheda?  \\nQuesta  scheda  contiene  alcune  informazioni  su NIDI strumento  di politica  attiva  \\ndel lavoro della Regione  Puglia  che sostiene  le scelte  di autoimpiego  ed \\nautoimprenditorialità  da parte  delle donne,  dei disoccupati,  dei precari,  di chi sta \\nper perdere il  posto  di lavoro,  dei giovani.  \\nL’obiettivo  di questa  scheda  è fornire  un primo  orientamento  su questa  \\nopportunità  per coloro che intendono  accedere  ai finanziamenti del Fondo  messi  \\na disposizione dalla Regione  Puglia.  \\nNidi offre un aiuto per l'avvio di una nuova impresa con un contributo a fondo  \\nperduto  e un prestito  rimborsabile  sulle spese  per investimenti. È anche  previsto  \\nun ulteriore contributo a fondo perduto per le spese di gestione sostenute nei  \\nprimi mesi di attività. \\nLa dotazione  della misura  è pari a 35.000.000 euro. \\nChi può richiedere l’agevolazione?  \\nPuò richiedere  l'agevolazione: \\n• chi intende  avviare  una nuova  attività  e non ha ancora  costituito  \\nl’impresa;  \\n• le imprese costituite da meno di 6 mesi ; \\n• le imprese,  pur se costituite  da più di 6 mesi, che si configurino  come:  \\n passaggio  generazionale;  \\n rilevamento  di impresa  in crisi o di impresa  confiscata da parte  dei \\ndipendenti;  \\n cooperative  sociali  assegnatarie  di beni immobili  confiscati;  \\n beneficiarie  della misura  “PIN – Pugliesi Innovativi . \\n \\nLe Nuove Iniziative d’Impresa dovranno ricadere in una delle seguenti \\nfattispecie : \\n- Compagini Giovanili, da costituirsi in forma di società, partecipate \\ninteramente da giovani  con età compresa tra i 18 e i 35 anni alla data della)   \n",
              "4                                                                                                                                                                                                                                                                                                                                                                                                                                                                                                                                                                                                                                                                                                                                                                                                                                                                                                                                                                                                                                                                                                                                                                                                                                                                                                                                 (page_content, Puglia sviluppo  \\nUNIONE  EUROPEA  \\nFONDO  EUROPEO  DI SVILUPPO  REGIONALE  REGIONE  PUGLIA  \\nDIPARTIMENTO  SVILUPPO  ECONOMICO,  \\nINNOVAZIONE,  ISTRUZIONE,  \\nFORMAZIONE  E LAVORO  Ministero  Sviluppo  Economico  \\n2  \\n domanda preliminare e composte per almeno il 50%, sia del capitale sia \\ndel numero di soci, da soggetti che non siano : dipendenti di altre imprese \\ncon contratto a tempo indeterminato superiore alle 20 ore settimanali , \\npensionati, titolari o amministratori di altra impresa;  \\n• Imprese Femminili , sia in forma di impresa individuale che di società, \\npartecipate interamente da donne  di età superiore a 18 anni e composte \\nper almeno il 50%, sia del capitale sia del numero di soci, da soggetti che non siano: dipendenti di altre imprese con contratto a tempo indeterminato \\nilsuperiore alle 20 ore settimanali , pensionati, titolari o amministratori di \\naltra impresa;  \\n• Nuove Imprese, partecipate per almeno il 50% , sia del capitale sia del \\nnumero di soci, da soggetti svantaggiati  appartenenti, alla data di \\npresentazione della domanda preliminare di cui al successivo Art. 10, ad  \\nalmeno una delle seguenti categorie:  \\na. giovani con età tra 18 anni e 35 anni;  \\nb. donne di età superiore a 18 anni;  \\nc. soggetti che non abbiano avuto rapporti di lavoro subordinato nell’ultimo mese; \\nd. persone in procinto di perdere un posto di lavoro ; \\ne. i titolari di partita IVA non iscritti al registro delle imprese che, nei 12 \\nmesi antecedenti la presentazione della domanda telematica \\npreliminare, abbiano emesso fatture per un imponibile inferiore a \\n15.000 Euro;  \\nf. i soci lavoratori e gli amministratori di cooperative s ociali assegnatarie \\ndi beni immobili confiscati;  \\ng. i soci e amministratori delle imprese, costituite in forma di società, che \\nabbiano firmato l’atto di impegno e regolamentazione dei rapporti \\nnell’ambito del progetto finanziato dall’Avviso pubblico “PIN –  Pugliesi \\nInnovativi ”. \\n• Imprese Turistiche  in possesso dei medesimi requisiti previsti per le \\nNuove Imprese . \\n \\nQuali  attività  posso  realizzare  con l’aiuto di NIDI? \\nÈ possibile  avviare  una nuova  impresa  nei seguenti  settori:  \\n• manifatturiero, \\n• costruzioni  ed edilizia, \\n• riparazione  di autoveicoli e motocicli,  \\n• affittacamere  e bed & breakfast,  \\n• ristorazione  con e senza cucina,  \\n• servizi di informazione  e comunicazione,  \\n• attività  professionali,  scientifiche  e tecniche,  \\n• agenzie  di viaggio,  \\n• servizi di supporto  alle imprese,)   \n",
              "..                                                                                                                                                                                                                                                                                                                                                                                                                                                                                                                                                                                                                                                                                                                                                                                                                                                                                                                                                                                                                                                                                                                                                                                                                                                                                                                                                                                                                                                                                                                                                                                                                                                                                                                                                                                                                                                                                                                                                                                                                                                                                                                                                                                                                                                                                                                                                                                                                                                                                                                                                                                                                                                                                                                                                                                                                                                                                                                                                                                                                                                                                                                                                                                                                                                                                                                                                                                                                                                                                                                                                                                                                                                                                                                                                                                                                                                                                                                                                                                              ...   \n",
              "122                                                                                                                                                                                                                                                                                                                                                                                                                                                                                                                                                                                                                                                                                                                                                                                                                                                                                                                                                                                                                                                                                                                                                                                                                                                                                                                                                                                                                                                                                                                                                                                                                                                                                                                                                                                                                                                                                                                                                                                                                                                                                                                                                                                                                                                                                                                                                                                                                                                                                                                                                                                                                                                                                                                                                                                                                                                                                                                                                                                                                                                                                                                                                                                                                                                                                                                                                                                                                                                                                                                                                                                                                                                           (page_content, ricollocazione del personale, ai sensi dell e vigenti norme contrattuali collettive, nonché rispettare quanto  \\nprevisto dal Decreto Interministeriale del 29/11/2007 e devono essere in regola, ai se nsi dell’art. 17 della  \\nLegge  n.68/1999,  in materia  di disciplina  del diritto  al lavoro  dei disabili.)   \n",
              "123                                                                                                                                                                                                                                                                                                                                                                                                                                                                                                                                                                                                                                                                                                                                                                                                                                                                                                                                                                                                                                                                                                                                                                                                                                                                                                                                                                                                                                                                                                                                                                        (page_content, 12 luglio  2023 Pag 3 di 3 Centro  Servizi Sistema  Puglia  \\nwww.sistema.puglia.it   \\n  \\n \\nRelativamente alle proposte della linea 2 - percorsi IeFP di IV anno - ciascuna Istituzione forma tiva \\naccreditata  potrà  presentare  esclusivamente  propos te di percorsi  correlati  a un corso  di qualifica  \\ntriennale, portato a com pimento dalla medesima Istituzione formativa, secondo il quadro di confluenza  \\ndalle figure nazionali di qualifica a quelle di di ploma professionale contenuto nell ’Accordo fra le Regio ni e \\nle Province autonome del 18 dicembre 2019. La presentazione di propo ste relative a figure di Tecnico non  \\ncoerenti  con le qualifiche  triennali  completate  sarà considerata  irricevibile.  \\n \\nInterventi  finanziabili   \\nGli interventi  finanziabili  dal presente  Avviso  sono i percorsi  formativi  di IeFP in modalità  duale,  distinti  \\nnelle seguenti  linee:  \\n✓ Linea  1 – percorsi  IeFP triennali  in modalità  duale  volti al conseguimento  di una qualifica  \\nprofessionale,  della durata  di 3200 ore di  cui 1100 al primo  e secondo  anno e 1000 al  terzo  anno \\n✓ Linea  2 – percorsi  IeFP di IV anno in modalità  duale volti al conseguimento  di un diploma  \\nprofessionale,  della durata  di 990 ore \\n \\nTermini  e modalità  di presentazione  della  doman da  \\nLe istanze dovranno essere inoltrate, pena l’esclus ione,  unicamente in via telematica attraverso la  \\nprocedura on line Riaper tura termini  Avviso OF 22  – Anno formativo 2023 - 2024 ” all’indirizzo \\nwww.sistema .puglia.it  nella sezione Formazione , link  diretto:  \\nhttps://www.sistema.puglia.it/SistemaPugl ia/offertaformativa202 3 \\nLa procedura on line sarà disp onibile a partire dalle ore 12:00 del 12/07/2023 e sino alle ore 1 4:00 de l \\n31/07/2023. \\nOltre tale termine, il sistema non consentirà più l’accesso alla procedura telematica e, pertanto, non sarà  \\npiù possibile  la regolarizzazione,  sotto  qualsiasi  forma,  delle domande  da parte dei soggetti  proponenti  \\nche abbiano omesso, totalment e o in modo parziale, anche uno solo dei dati e/o delle dichiarazioni  \\nprescritte.  \\n \\nATTENZIONE: con Determinazione Dirigenziale n. 1279 del 27 luglio 2023 la scadenza dei termini \\nper la presentazione delle istanze è stata prorogata alle ore 13:00 del 07.08.202 3)   \n",
              "124                                                             (page_content, 05 ottobre  2023 Pag 1 di 3 Centro Servizi Sistema Pug lia \\nwww.sistema.puglia.it  \\n SCHEDA PASS LAUREATI 2023 \\nObiettivi  \\n \\nIn continuità con le precedenti edizioni , l'Avviso pubblico n. 1/ POC/2023 - Pass Laureati 202 3 sostiene \\nl'innalzamento dei livelli di competenze, di partecipazione e di successo formativo nell'istruzione \\nuniversitaria o  equivalente. Regione Puglia sostiene così i laureati pugliesi , senza  limiti di età  e con ISEE \\nfino a  € 35.000,00 , che vogliono fre quenta re un Master post-lauream  in Italia o all'estero, finanziandolo \\ncon voucher formativi  che favoriscono l’accrescimento d i competenze ed abilità professionali .  \\nObiettivo dell'intervento resta  l'acquisizione da parte dei p artecipanti di un lavoro, anche autonomo, \\nentro sei mesi dalla fine del percorso.  \\n \\nChi può partecipare  \\n \\nLaureati senza limiti di età che: \\n✓ risultino iscritti nelle liste anagrafiche di uno dei Comuni presenti nel territorio della Regione Puglia \\nda almeno 3 anni;  \\n✓ siano in possesso del Diploma di Laurea (I livello) conseguito al termine dei tre anni di corso, o della \\nLaurea specialistica, o della Laurea conseguita secondo le regole del vecchio ordinamento. Nel caso \\ndi laurea conseguita all’estero, il titolo di  studio deve essere stato riconosciuto in Italia;  \\n✓ non abbiano già fruito, a qualunque titolo, di borse di studio per Master post-lauream  erogate dalla \\nRegione Puglia a valere sui precedenti Avvisi pubblici “PASS LAUREATI” finanziati con le risorse del \\nPOR PUGLIA FSEFESR 2014 -2020;  \\n✓ abbiano un reddito familiare non superiore ad € 35.000,00 individuato esclusivamente sulla base \\ndell’Indicatore della Situazione Economica Equivalente ( I.S.E.E.  ordinario ) in corso di validità al \\nmomento della presentazione dell’istanza . \\n \\nCosa finanzia  \\n \\nRegione Puglia riconosce un voucher formativo a rimborso dell a spesa  di iscrizione al Master , definita \\n“Quota di iscrizione ”, da rendicontare a costo reale producendo la relativa documentazione giustificativa \\n(bonifici di pagamento e fatture) ; in aggiunta, a  copertura de i costi definiti “ Accessori ” (per spese di \\nviaggio, vitto e alloggio ), assegna l'ulteriore sovvenzione  determinata sulla base di opzioni di \\nsemplificazione dei costi e secondo i massimali dettagliatamente indicati nelle Tabelle 1, 2 e 3 dell'A vviso \\n(non soggetta a rendicontazione ). \\nPer i percorsi formativi svolti in Paesi non UE comunque non ricompresi nella Tabella 3, verrà corrisposta \\nla sovvenzione più elevata ivi prevista (Norvegia), da rendicontare a costo reale producendo la relativa \\ndocumentazione giustificativa (bonifici di pa gamento e fatture , titoli di viaggio, ecc. ). \\nI Master finanziabili sono quelli erogati dalle Università italiane e straniere e dalle istituzioni AFAM , \\npubbliche e private , riconosciute dall’ordinamento nazionale ; i Master accredita ti ASFOR o EQUIS o AACSB \\no riconosciuti da Association of MBAS (AMBA)  ed anche quelli erogati da Istituti di Formazione Avanzata, \\npubblici e privati, in possesso di esperienza documentabile decennale qualificata nell’erogazione di Master \\npost-lauream .  \\n• Per quanto concerne la “Quota di iscrizione ” sarà riconosciuto:  \\no per i percorsi formativi svolti sul territorio nazionale  (ivi compresi i territori  di San Marino e \\nCittà del Vaticano ), il costo reale sino ad una concorrenza massima di € 7.500,0 0; \\no per i percorsi formativi svolti all'estero, il costo reale sino ad una concorrenza massima di € \\n10.000,00 . \\n• Relativamente ai costi “ Accessori ” (a copertura delle spese di viaggio, vitto e allog gio) la Sezione \\nFormazione si è avvalsa del supporto fornito da ARTI per l'individuazione di una Opzione di)   \n",
              "125  (page_content, 05 ottobre  2023 Pag 2 di 3 Centro Servizi Sistema Pug lia \\nwww.sistema.puglia.it  \\n Semplificazione dei Costi (O.S.C.) adeguata alle caratteristiche dell'Avviso, partendo da costi già \\ndisponibili si sensi del Reg. (UE) n.697/2019 e tenut o conto dell'art. 67 del Reg. (UE) n. 1303/2013 (così \\ncome novellato dal Reg. (UE -EURATOM) n. 2018/1046), nonché dell'art. 14 (comma 1) del Reg. FSE.  \\nA seguito di un’attenta disamina delle opzioni disponibili nel Regolamento, è stata individuata e \\nquantificata una “sovvenzione” a copertura delle spese per viaggio, vitto e alloggio interregionali e \\ntransnazionali. Le indennità interregionali sono differenziate a seconda della regione in cui si svolge la \\nformazione (destinazione) e della regione di orig ine d el destinatario, mentre le indennità \\ntransnazionali sulla base del Paese di destinazione.  \\n \\nContributo massimo per progetto  \\n \\nVariabile in base alla durata della formazione e alla Regione o al Paese straniero di svolgimento . \\nL’importo massimo erogabile a rimborso del solo costo di iscrizione è di € 10.000,00 per i master all’estero \\ne di € 7.500,00 per i master sul territorio nazionale  (ivi compresi i territori di San Marino e Città del \\nVaticano ), cui si aggiunge  la somma forfettaria per le spes e di vitto , alloggio e trasporto pubblico s ulla \\nbase delle t abelle del bando . \\n \\nRisorse totali disponibili  \\n \\nLe risorse disponibili per finanziare il presente avviso pubblico ammontano ad € 2.300.000 ,00 (euro \\nduemilionitrecentomila /00),  rivenienti dal PO C PUGLIA 2014 -2020.  \\n \\nCome  partecipare  \\n \\nLa procedura sarà attiva a partire dal le ore 1 5.00 del giorno 05 Ottobre  2023 e fino ad esaurimento delle \\nrisorse disponibili.  \\nPer la partecipazione al l’Avviso Pass Laureati 202 3 è necessario essere titolari di una utenza certific ata: \\nSPID (Sistema Pubblico di Identità Digitale), CIE (Carta d’Identità Elettronica) o CNS (Carta Nazionale dei \\nServizi) ed effettuare l’accesso al portale Sistema Puglia attraverso tale canale digitale . \\nLe domande, esenti da bollo, dovranno essere redatt e ed inol trate, a pena di esclusione, unicamente in \\nvia telematica attraverso la procedura on line “PASS LAUREATI 202 3” messa a disposizione all’indirizzo: \\nwww.sistema.puglia.it . Le date di avvio e conclusione del percorso devono essere indicate nella \\ndoma nda. \\nCiascun soggetto può rispondere al l’avviso inoltrando, a pena di esclusione, una sola domanda di \\ncandidatura per un solo percorso formativo.  \\nPer effetto della compilazione telematica il sistema attribuirà all’istanza di candidatura un Codice Pratica \\nunivoco che sarà utilizzato da Regione Puglia per referenziare la stessa pratica negli atti amministrativi \\nconseguenti all’istruttoria.  \\nSi precisa che aver compilato la procedura informatizzata, senza aver effettuato la trasmissione \\ndell’istanza, costitui rà motiv o di esclusione della stessa. In fase di compilazione dell’istanza ciascun \\npartecipante dovrà dichiarare l’indirizzo e -mail corrispondente al proprio domicilio digitale, ove ricevere \\nin via esclusiva tutte le comunicazioni inerenti la procedura. La  Regione  Puglia non è responsabile del \\nmancato ricevimento delle suddette comunicazioni legato all’indicazione errata del domicilio digitale ad \\nopera del partecipante.  \\nPer assistenza sulle modalità di partecipazione, nella pagina del portale dedicata all’ avviso “PASS \\nLAUREATI 2023” saranno attivi i servizi di:  \\n• SUPPORTO TECNICO , gestito dal Centro Servizi Sistema Puglia e dedicato esclusivamente a richieste di \\nsupporto  tecnico informatico in merito alla procedura telematica;  \\n• RICHIEDI INFO, gestito dal la Sezione Formazione e dedicato esclusivamente a richieste di informazioni e \\nchiarimenti sul  testo del l’avviso .)   \n",
              "126                                                                                                                                                                                                                                                                                                                                                                                                                                                                                                                  (page_content, 05 ottobre  2023 Pag 3 di 3 Centro Servizi Sistema Pug lia \\nwww.sistema.puglia.it  \\n Inoltre, nella stessa pagina web sarà pubblicato il docu mento “ ITER PROCEDURALE ” che descrive , \\nsinteticamente e step -to-step, la proced ura operativa per l’inoltro dell a candidatura . \\nIl candidato, nella fase di presentazione dell’istanza, dovrà obbligatoriamente , a pena di esclusione , \\nallegare la seguente documentazione in formato pdf:  \\n• autocertificazione attestante i requisiti soggettivi di parte cipazione di cui ai punti a), b), c) e d) del \\nparagrafo 3.1  (il modello verrà generato dalla procedura telematica );  \\n• brochure / scheda infor mativa ufficiale del Master prescelto (o altro documento equivalente), \\nrilasciata dall’Organismo attuatore, da cui p ossano evincersi tutti i requisiti previsti alle lettere a), b), \\nc) e d) del paragrafo 2.1, nonché l’articolazione del percorso formativo (ore didattica frontale; ore \\nstage o tirocinio; materie; numero di CFU; numero di edizione; costo di iscrizione al Mas ter);  \\n• dichiarazione r ilasciata dal soggetto erogatore del Master circa il possesso dei requisiti specifici ad esso \\nrichiesti (solo per i Master di tipologia C).  \\nPer i documenti redatti in lingua straniera è obbligatorio produrre anche la traduzione degli  stessi. La \\nveridicità  della traduzione, oltre che dagli organismi preposti, potrà essere attestata, sotto propria \\nresponsabilità ai sensi dell’art. 46 del DPR 445/2000 e nella consapevolezza del disposto di cui agli artt. 75 \\ne 76 del citato DPR, dal candi dato.  \\n \\nIn caso di irre golarità della documentazione valida ai fini dell’ammissibilità, ai sensi dell’art. 6, comma 1, \\nlett. b), della L. 241/90, l’Amministrazione potrà procedere all’invio di una richiesta di integrazione al \\ndomicilio digitale comunicato a l momento della compil azione dell’istanza che dovrà essere evasa entro e \\nnon oltre i dieci giorni dalla ricezione. In caso di mancata integrazione documentale il Responsabile del \\nProcedimento provvederà alla declaratoria di inammissibilità dell’istanza.  \\nDiversamente, in caso d i mancanza anche di un singolo documento richiesto per l’ammissibilità, \\nl’Amministrazione procederà alla declaratoria di inammissibilità dell’istanza proposta. La presenza di una \\nrichiesta di integrazione verrà notificata all’utente tramite messaggio via s ms e via e -mail, ai recapiti \\nspecificati nel pannello omonimo della procedura e sui quali è possibile in qualunque momento operare un \\naggiornamento.  \\n \\nEventuali disallineamenti della modulistica allegat a rispetto alla lex-specialis  (l’Avviso pubblico) \\nverranno , in seguito , corretti con apposito provvedimento ; in caso di eventuali  discrasi e tra \\ndisposizioni dell ’Avviso e relativa modulistica verrà applica ta la regula iuris  della  prevalenza delle \\ndisposizioni dell’Avviso .  \\n \\nStruttura Res ponsabile del Procedimento  \\nLa Struttura responsabile del procedimento è la Regione Puglia - Sezione Formazione.  \\nIl responsabile del procedimento fino alla fase di adozione dell’atto di ammissione a contributo è l’Avv. \\nMonica Calzetta.  \\nIl responsabile del  procedimento per la fase di gestione è l’Avv. Christian Cavallo.  \\nIl responsabile del procedimento per la fase di controllo è il dott. Gaetano D’Innocenzo.)   \n",
              "\n",
              "                                                                                                                                                             1  \\\n",
              "0     (metadata, {'label': 'Avviso MicroPrestito della Regione Puglia', 'source': 'Scheda MicroPrestito della Regione Puglia - edizione 2021.pdf', 'page': 0})   \n",
              "1     (metadata, {'label': 'Avviso MicroPrestito della Regione Puglia', 'source': 'Scheda MicroPrestito della Regione Puglia - edizione 2021.pdf', 'page': 0})   \n",
              "2    (metadata, {'label': 'documentazione fiscale dell’esercizio 2019', 'source': 'Scheda MicroPrestito della Regione Puglia - edizione 2021.pdf', 'page': 1})   \n",
              "3                      (metadata, {'label': 'NIDI', 'source': 'Scheda NIDI - Nuove iniziative d'impresa_ Strumento di ingegneria finanziaria.pdf', 'page': 0})   \n",
              "4                   (metadata, {'label': 'imprese', 'source': 'Scheda NIDI - Nuove iniziative d'impresa_ Strumento di ingegneria finanziaria.pdf', 'page': 1})   \n",
              "..                                                                                                                                                         ...   \n",
              "122                                                (metadata, {'label': 'Percorsi IeFP', 'source': 'Scheda Avviso Pubblico OF a_f_ 2023_2024.pdf', 'page': 1})   \n",
              "123                                                 (metadata, {'label': 'Avviso OF 22', 'source': 'Scheda Avviso Pubblico OF a_f_ 2023_2024.pdf', 'page': 2})   \n",
              "124                                                               (metadata, {'label': 'Pass Laureati', 'source': 'Scheda Pass Laureati 2023.pdf', 'page': 0})   \n",
              "125                                                          (metadata, {'label': 'Pass Laureati 2023', 'source': 'Scheda Pass Laureati 2023.pdf', 'page': 1})   \n",
              "126                                                                   (metadata, {'label': 'documento', 'source': 'Scheda Pass Laureati 2023.pdf', 'page': 2})   \n",
              "\n",
              "                    2  \n",
              "0    (type, Document)  \n",
              "1    (type, Document)  \n",
              "2    (type, Document)  \n",
              "3    (type, Document)  \n",
              "4    (type, Document)  \n",
              "..                ...  \n",
              "122  (type, Document)  \n",
              "123  (type, Document)  \n",
              "124  (type, Document)  \n",
              "125  (type, Document)  \n",
              "126  (type, Document)  \n",
              "\n",
              "[127 rows x 3 columns]"
            ]
          },
          "execution_count": 64,
          "metadata": {},
          "output_type": "execute_result"
        }
      ],
      "source": [
        "import pandas as pd\n",
        "\n",
        "df= pd.DataFrame(split_docs)\n",
        "\n",
        "df.to_csv(\"df_with metadata_tag\", index=False)\n",
        "df"
      ]
    },
    {
      "cell_type": "code",
      "execution_count": null,
      "metadata": {
        "colab": {
          "base_uri": "https://localhost:8080/",
          "height": 1000
        },
        "id": "sGUGTRRQxXqA",
        "outputId": "d6baf372-6b5c-4198-c333-5a33a4f87a4a"
      },
      "outputs": [
        {
          "data": {
            "text/html": [
              "\n",
              "  <div id=\"df-77ea340d-324c-49bf-b3ac-c79fd0f0bf4a\" class=\"colab-df-container\">\n",
              "    <div>\n",
              "<style scoped>\n",
              "    .dataframe tbody tr th:only-of-type {\n",
              "        vertical-align: middle;\n",
              "    }\n",
              "\n",
              "    .dataframe tbody tr th {\n",
              "        vertical-align: top;\n",
              "    }\n",
              "\n",
              "    .dataframe thead th {\n",
              "        text-align: right;\n",
              "    }\n",
              "</style>\n",
              "<table border=\"1\" class=\"dataframe\">\n",
              "  <thead>\n",
              "    <tr style=\"text-align: right;\">\n",
              "      <th></th>\n",
              "      <th>0</th>\n",
              "      <th>1</th>\n",
              "      <th>2</th>\n",
              "    </tr>\n",
              "  </thead>\n",
              "  <tbody>\n",
              "    <tr>\n",
              "      <th>0</th>\n",
              "      <td>(page_content, 14 ottobre  2021 Pag 1 di 2 Centro Servizi Sistema Puglia  \\nwww.sistema.puglia.it  \\n \\n \\nScheda: Avviso MicroPrestito  della  Regione  Puglia  \\n \\nInformazioni  generali  Titolo  bando  MicroPrestito  della  Regione  Puglia  \\nDescrizione  L’Avviso  è stato  adottato  per far fronte  alle esigenze  delle  imprese  derivanti  dalle  \\nripercussioni  economiche  causate  dall’emergenza  epidemiologia  Covid -19. La \\nmisura vuole garantire la continuità dell’operatività aziendale  e la salvaguardia \\ndell’occupazione.  \\nLe disposizioni  dell’Avviso  sono  conformi  all’approvazione  dell’Aiuto  di Stato  SA. \\n57021 -Italia -Covid19 regime quadro del 21 maggio 2020 da parte della  \\nCommissione  europea  ai sensi dell’art.  108 del TFUE e  s.m.i.  \\nRisultati  attesi  La misura  sostiene  l’accesso  al credito  attraverso  interventi  di micro -finanza  \\nche consistono  in mutui  concessi  a tasso zero  e senza  garanzie.  \\nDestinatari  Il sistema  economico  e produttivo  pugliese.  Chi può  partecipare  Beneficiari  Le microimprese ed i lavoratori autonomi iscritti al registro delle imprese,  con \\nsede operativa  in Puglia  che abbiano  subito  perdite  di fatturato  o incrementi di \\ncosti in conseguenza dell’epidemia Covid -19 e delle relative  misure  di \\ncontenimento,  avendo  avuto  nel periodo  compreso  tra il 1° gennaio  2021  e il 30 \\nsettembre  2021  ricavi  inferiori  ai ricavi  del periodo  dal \\n1° gennaio  2019 al  30 settembre  2019.  \\nLe microimprese devono essere costituite nelle seguenti forme giuridiche:  ditta  \\nindividuale,  società  in nome  collettivo,  società  in accomandita  semplice, società \\ncooperative, società a responsabilità limitata (anche in  forma  unipersonale  e \\nsemplificata).  \\nL’elenco  dei codici  attività  ammissibili  è riportato  nell’Allegato  1 dell’Avviso.  \\nLe imprese,  nell’esercizio  2019,  non devono  aver  generato  \\nricavi /compensi/fatturato  annuali  superiori a  400.000,00  €. \\nSe l’esercizio  2019  si è concluso  con una perdita,  quest’ultima  non deve  essere  \\nstata  superiore  al 20%  del fatturato.  Cosa  \\nfinanzi a Operazioni  finanziabili  Spese  di funzionamento:  costi  derivanti  dalla  gestione  dell’attività  d’impresa  \\nsostenuti (pagati) in data successiva alla partecipazione all’avviso ed entro  12 mesi \\ndalla concessione  delle agevolazioni.  Risorse  economiche  Fonte  delle  risorse  POR  Puglia  2014 -2020  \\nFonte  specifica  Azioni  3.6 e 3.8 del POR  Puglia  2014 -2020.  \\nFondo  Microprestito  della  Regione  Puglia  2014 -2020.  \\nA sportello  / A \\nscadenza  Avviso  a sportello  operativo  sino al 31/12/2021  e, comunque,  sino ad \\nesaurimento  fondi  \\nContributo massimo  \\nper progetto  Il finanziamento erogabile potrà essere compreso tra 5.000 € e 30.000 € in  ragione \\ndel fatturato conseguito nel 2019. I mutui avranno durata massima  pari a 60 mesi \\n(più preammortamento della durata di 12 mesi). Le imprese,  in regola  con la \\nrestituzione  del finanziamento,  ottengono  un contributo  pari al 20%  dell’importo  \\ndello  stesso  finanziamento  sotto  forma  di abbuono  delle  ultime  12 rate.  \\nGli aiuti  sono  cumulabili  con altri eventuali  strumenti  emergenziali  di cui alla \\nComunicazione  della  Commissione  n. 1863/2020  e ss.mm.ii.  \\nRisorse  totali  stanziate  80.000.000  € Come partecipare   \\n \\nModalità di  \\npartecipazione  \\n \\n La domanda di partecipazione potrà essere presentata direttamente  \\ndall’impresa che chiede l’agevolazione, previa iscrizione al portale  Sistema \\nPuglia al seguente indirizzo:  https://microcredito2021.sistema.puglia.it . \\nLa procedura  di partecipazione  è interamente  telematica.  \\nL’impresa  dovrà  essere  in possesso  di firma  digitale  ed essere titolare)</td>\n",
              "      <td>(metadata, {'label': 'Avviso MicroPrestito della Regione Puglia', 'source': 'Scheda MicroPrestito della Regione Puglia - edizione 2021.pdf', 'page': 0})</td>\n",
              "      <td>(type, Document)</td>\n",
              "    </tr>\n",
              "    <tr>\n",
              "      <th>1</th>\n",
              "      <td>(page_content, di conto corrente  business  anche  non dedicato esclusivamente  al progetto.)</td>\n",
              "      <td>(metadata, {'label': 'Avviso MicroPrestito della Regione Puglia', 'source': 'Scheda MicroPrestito della Regione Puglia - edizione 2021.pdf', 'page': 0})</td>\n",
              "      <td>(type, Document)</td>\n",
              "    </tr>\n",
              "    <tr>\n",
              "      <th>2</th>\n",
              "      <td>(page_content, 14 ottobre  2021 Pag 2 di 2 Centro Servizi Sistema Puglia  \\nwww.sistema.puglia.it  \\n \\n \\n  Avviso  operativo  sino al 31/12/2021  salvo  esaurimento  fondi.  \\nPer la presentazione della domanda di agevolazione devono essere  \\nprodotti  i seguenti documenti:  \\n· Domanda  di agevolazione  firmata  digitalmente.  \\n· Dichiarazione  di consenso  al trattamento  dei dati personali.  \\n· Dichiarazione sostitutiva di atto notorio (utilizzando la modulistica  \\npresente  sulla  piattaforma)  attestante  il possesso  dei requisiti  \\nprevisti  dall’Avviso.  \\n· Dichiarazione sostitutiva di atto notorio attestante il rispetto degli  \\nobblighi  contributivi.  \\n· documentazione fiscale dell’esercizio 2019 (bilancio d’esercizio  \\ndepositato  o UNICO presentato  all’Agenzia  delle  Entrate);  \\n· documentazione  attestante  i minori  ricavi  dei primi  9 mesi  del 2021  \\nrispetto  al medesimo  periodo  del 2019;  \\n· Estratto  conto  corrente  aziendale  dell’ultimo trimestre.  \\nModulistica  e allegati  Cfr. Allegati  \\nData  di apertura  21/10/2021  \\nData  di chiusura  31/12/2021  salvo  esaurimento  fondi  \\n Sezione  Sezione  Competitività  dei Sistemi  Produttivi  \\nResponsabile  di \\nProcedimento  Lorenzo  Minnielli  c/o Puglia  Sviluppo  S.p.A.  \\ninfo@pugliasviluppo.regione.puglia.it  \\nResponsabile di  \\nAzione  Giuseppe  Pastore  c/o Sezione  Competitività,  Dipartimento  Sviluppo  \\nEconomico  della  Regione  Puglia  \\ncompetitivita.regione@pec.rupar.puglia.it  \\nAltri  eventuali  contatti  I contatti sono disponibili al seguente indirizzo:  \\nhttps://regione.puglia.it/web/guest/bandi -e-avvisi  \\nNumero  Verde  per info 800990064  \\nSito web  Per consultazione dell’Avviso e della modulistica  \\nhttps://regione.puglia.it/web/guest/bandi -e-avvisi  Per la \\npresentazione della domanda di agevolazione  \\nhttps://microcredito2021.sistema.puglia.it . \\nSi consiglia vivamente di accedere alla compilazione della domanda  \\nesclusivamente quando si è in possesso della firma digitale per la  \\nsottoscrizione dei documenti,  nonché  di tutti  i dati e della  \\ndocumentazione richiesti dall’Avviso e dalla relativa modulistica. Si  \\nricorda  che l’invio  di domande incomplete  genera  ritardi  \\nnell’erogazione del  finanziamento.  Documen  ti Avviso  pubblico  Cfr. Allegato  \\nDeterminazione  di \\napprovazione  Determina  del Direttore  Generale  di Puglia  Sviluppo n.  39 dell’8/10/2021  \\nBURP  Bollettino  Ufficiale  della  Regione  Puglia  del 21 ottobre  2021)</td>\n",
              "      <td>(metadata, {'label': 'Avviso operativo', 'source': 'Scheda MicroPrestito della Regione Puglia - edizione 2021.pdf', 'page': 1})</td>\n",
              "      <td>(type, Document)</td>\n",
              "    </tr>\n",
              "    <tr>\n",
              "      <th>3</th>\n",
              "      <td>(page_content, Puglia sviluppo  \\nUNIONE  EUROPEA  \\nFONDO  EUROPEO  DI SVILUPPO  REGIONALE  REGIONE  PUGLIA  \\nDIPARTIMENTO  SVILUPPO  ECONOMICO,  \\nINNOVAZIONE,  ISTRUZIONE,  \\nFORMAZIONE  E LAVORO  Ministero  Sviluppo  Economico  \\n1  \\n  \\n \\nNIDI  – Nuove  iniziative d’impresa  \\nStrumento  di ingegneria  finanziaria  \\n \\nAvviso  a sportello  \\nL’iniziativa  viene  attuata  da Puglia  Sviluppo  S.p.A. – società  interamente  \\npartecipata  dalla Regione  Puglia  – con il sostegno  dell’Unione  Europea,  \\nattraverso il Programma  Operativo FESR -FSE 2014 – 2020.  \\nCosa  trovo  in questa  scheda?  \\nQuesta  scheda  contiene  alcune  informazioni  su NIDI strumento  di politica  attiva  \\ndel lavoro della Regione  Puglia  che sostiene  le scelte  di autoimpiego  ed \\nautoimprenditorialità  da parte  delle donne,  dei disoccupati,  dei precari,  di chi sta \\nper perdere il  posto  di lavoro,  dei giovani.  \\nL’obiettivo  di questa  scheda  è fornire  un primo  orientamento  su questa  \\nopportunità  per coloro che intendono  accedere  ai finanziamenti del Fondo  messi  \\na disposizione dalla Regione  Puglia.  \\nNidi offre un aiuto per l'avvio di una nuova impresa con un contributo a fondo  \\nperduto  e un prestito  rimborsabile  sulle spese  per investimenti. È anche  previsto  \\nun ulteriore contributo a fondo perduto per le spese di gestione sostenute nei  \\nprimi mesi di attività. \\nLa dotazione  della misura  è pari a 35.000.000 euro. \\nChi può richiedere l’agevolazione?  \\nPuò richiedere  l'agevolazione: \\n• chi intende  avviare  una nuova  attività  e non ha ancora  costituito  \\nl’impresa;  \\n• le imprese costituite da meno di 6 mesi ; \\n• le imprese,  pur se costituite  da più di 6 mesi, che si configurino  come:  \\n passaggio  generazionale;  \\n rilevamento  di impresa  in crisi o di impresa  confiscata da parte  dei \\ndipendenti;  \\n cooperative  sociali  assegnatarie  di beni immobili  confiscati;  \\n beneficiarie  della misura  “PIN – Pugliesi Innovativi . \\n \\nLe Nuove Iniziative d’Impresa dovranno ricadere in una delle seguenti \\nfattispecie : \\n- Compagini Giovanili, da costituirsi in forma di società, partecipate \\ninteramente da giovani  con età compresa tra i 18 e i 35 anni alla data della)</td>\n",
              "      <td>(metadata, {'label': 'NIDI', 'source': 'Scheda NIDI - Nuove iniziative d'impresa_ Strumento di ingegneria finanziaria.pdf', 'page': 0})</td>\n",
              "      <td>(type, Document)</td>\n",
              "    </tr>\n",
              "    <tr>\n",
              "      <th>4</th>\n",
              "      <td>(page_content, Puglia sviluppo  \\nUNIONE  EUROPEA  \\nFONDO  EUROPEO  DI SVILUPPO  REGIONALE  REGIONE  PUGLIA  \\nDIPARTIMENTO  SVILUPPO  ECONOMICO,  \\nINNOVAZIONE,  ISTRUZIONE,  \\nFORMAZIONE  E LAVORO  Ministero  Sviluppo  Economico  \\n2  \\n domanda preliminare e composte per almeno il 50%, sia del capitale sia \\ndel numero di soci, da soggetti che non siano : dipendenti di altre imprese \\ncon contratto a tempo indeterminato superiore alle 20 ore settimanali , \\npensionati, titolari o amministratori di altra impresa;  \\n• Imprese Femminili , sia in forma di impresa individuale che di società, \\npartecipate interamente da donne  di età superiore a 18 anni e composte \\nper almeno il 50%, sia del capitale sia del numero di soci, da soggetti che non siano: dipendenti di altre imprese con contratto a tempo indeterminato \\nilsuperiore alle 20 ore settimanali , pensionati, titolari o amministratori di \\naltra impresa;  \\n• Nuove Imprese, partecipate per almeno il 50% , sia del capitale sia del \\nnumero di soci, da soggetti svantaggiati  appartenenti, alla data di \\npresentazione della domanda preliminare di cui al successivo Art. 10, ad  \\nalmeno una delle seguenti categorie:  \\na. giovani con età tra 18 anni e 35 anni;  \\nb. donne di età superiore a 18 anni;  \\nc. soggetti che non abbiano avuto rapporti di lavoro subordinato nell’ultimo mese; \\nd. persone in procinto di perdere un posto di lavoro ; \\ne. i titolari di partita IVA non iscritti al registro delle imprese che, nei 12 \\nmesi antecedenti la presentazione della domanda telematica \\npreliminare, abbiano emesso fatture per un imponibile inferiore a \\n15.000 Euro;  \\nf. i soci lavoratori e gli amministratori di cooperative s ociali assegnatarie \\ndi beni immobili confiscati;  \\ng. i soci e amministratori delle imprese, costituite in forma di società, che \\nabbiano firmato l’atto di impegno e regolamentazione dei rapporti \\nnell’ambito del progetto finanziato dall’Avviso pubblico “PIN –  Pugliesi \\nInnovativi ”. \\n• Imprese Turistiche  in possesso dei medesimi requisiti previsti per le \\nNuove Imprese . \\n \\nQuali  attività  posso  realizzare  con l’aiuto di NIDI? \\nÈ possibile  avviare  una nuova  impresa  nei seguenti  settori:  \\n• manifatturiero, \\n• costruzioni  ed edilizia, \\n• riparazione  di autoveicoli e motocicli,  \\n• affittacamere  e bed &amp; breakfast,  \\n• ristorazione  con e senza cucina,  \\n• servizi di informazione  e comunicazione,  \\n• attività  professionali,  scientifiche  e tecniche,  \\n• agenzie  di viaggio,  \\n• servizi di supporto  alle imprese,)</td>\n",
              "      <td>(metadata, {'label': 'Imprese', 'source': 'Scheda NIDI - Nuove iniziative d'impresa_ Strumento di ingegneria finanziaria.pdf', 'page': 1})</td>\n",
              "      <td>(type, Document)</td>\n",
              "    </tr>\n",
              "    <tr>\n",
              "      <th>5</th>\n",
              "      <td>(page_content, Puglia sviluppo  \\nUNIONE  EUROPEA  \\nFONDO  EUROPEO  DI SVILUPPO  REGIONALE  REGIONE  PUGLIA  \\nDIPARTIMENTO  SVILUPPO  ECONOMICO,  \\nINNOVAZIONE,  ISTRUZIONE,  \\nFORMAZIONE  E LAVORO  Ministero  Sviluppo  Economico  \\n3  \\n • istruzione,  \\n• sanità  e assistenza sociale  non residenziale,  \\n• attività  artistiche, sportive, di intrattenimento  e divertimento  (sono  \\nescluse  le attività  delle lotterie, scommesse e  case da gioco), \\n• attività di servizi  per la persona,  \\n• commercio  elettronico. \\nPer le sole imprese confiscate  sono ammissibili  i settori  del commercio.  \\nSul portale  www.sistema.puglia.it  è possibile  consultare  l’elenco  dei codici  \\nATECO  ammissibili . \\n \\nQuali  sono  le spese ammissibili?  \\nLe spese  di investimento  che è possibile  finanziare  sono:  \\n• macchinari di produzione, impianti, attrezzature varie e automezzi di tipo  \\ncommerciale;  \\n• programmi  informatici  non personalizzati;  \\n• opere edili e assimilate . \\nPer le sole Compagini Giovanili  e le Imprese Femminili  sono inoltre ammissibili:  \\n• sviluppo di piattaforme B2B e B2C, sistemi di e -commerce proprieta ri e \\napp mobile, nella misura massi ma di € 5.000.  \\nLe Imprese Turistiche  devono realizzare investimenti in almeno due delle \\nseguenti ulteriori tipologie di investimento sostenibile e innovativo:  \\n• strumenti tecnologici connessi all’attività e finalizzati all’innovazione dei \\nprocessi organizzativi e dei servizi per gli ospiti;  \\n• sviluppo di piattaforme e app mobile, anche per la gestione di sistemi di \\nprenotazione elettronica, nella misura massima di € 5.000; \\n• interventi per migliorare l’accessibilità della struttura alle persone con disabilità;  \\n• mezzi di locomozione sostenibile destinati agli ospiti.  \\nPer le Imprese Turistiche , le spese per opere edili e di ristrutturazione (che \\ncomprendono anche gli infissi, gli impianti elettrici, termo -idraulici, di \\ncondizionamento e climatizzazione centralizzati, telefonici e telematici, di \\nproduzione di energia,  piscine, strutture prefabbricate e amovibili e spese di \\nsistemazione del suolo) sono complessivamente ammissibili entro il limite del \\n20% dell’importo dell’investimento ammissibile in altri attivi.  \\nLe spese  di gestione  che è possibile  finanziare  sono:  \\n• materie  prime,  semilavorati, materiali di consumo;  \\n• locazione  di immobili  o affitto  apparecchiature  di produzione;  \\n• utenze:  energia,  acqua,  riscaldamento,  telefoniche  e connettività;  \\n• premi  per polizze  assicurative;  \\n• canoni ed abbonamenti per l’accesso a banche dati, per servizi software,  \\nservizi “cloud”,  servizi informativi, housing,  registrazione  di domini)</td>\n",
              "      <td>(metadata, {'label': 'spese ammissibili', 'source': 'Scheda NIDI - Nuove iniziative d'impresa_ Strumento di ingegneria finanziaria.pdf', 'page': 2})</td>\n",
              "      <td>(type, Document)</td>\n",
              "    </tr>\n",
              "    <tr>\n",
              "      <th>6</th>\n",
              "      <td>(page_content, Puglia sviluppo  \\nUNIONE  EUROPEA  \\nFONDO  EUROPEO  DI SVILUPPO  REGIONALE  REGIONE  PUGLIA  \\nDIPARTIMENTO  SVILUPPO  ECONOMICO,  \\nINNOVAZIONE,  ISTRUZIONE,  \\nFORMAZIONE  E LAVORO  Ministero  Sviluppo  Economico  \\n4  \\n Internet, servizi di posizionamento sui motori di ricerca, acquisto di spazi  \\nper campagne  di Web Marketing; servizi di personalizzazione  di siti \\nInternet acquisiti da impresa operante nel settore della produzione di  \\nsoftware,  consulenza  informatica  e attività  connesse ; \\n•  spese per l’acquisto di dispositivi di protezione individuale e collettiva . \\n \\nA quanto ammontano gli investimenti e le \\nagevolazioni  di NIDI?  \\nA. \\nPer \\n le nuove attività  \\ne \\n le imprese  già esistenti  perché beneficiarie  della  misura  “PIN  – \\nPugliesi Innovativi” , \\nl’investimento  proposto può avere  un valore  compreso  tra 10mila  e 150mila  \\neuro. \\n \\nL’agevolazione, somma  di sovvenzione  (fondo  perduto)  e mutuo  agevolato, varia \\nal crescere  del valore  dell’investimento.  \\nAgevolazione  pari al 100%  \\nper investimenti compresi  tra 10mila  e 50mila  euro. \\nAgevolazione  pari al 90%  (100% per le sole imprese femminili)  \\nper investimenti compresi  tra 50mila  e 100mila  euro. \\nAgevolazione  pari al 80%  \\nper investimenti compresi  tra 100mila e 150mila  euro. \\n \\nL’agevolazion e è costituita da:  \\n• un contributo a fondo perduto pari al 50% del totale degli investimenti agevolati;  \\n• un prestito rimborsabile pari al 50% del totale degli investimenti agevolati (ridotto al 25% per Compagini Giovanili  ed Imprese Femminili ); \\n• per Compagini Giovanili  ed Imprese Femminili  un aiuto nella forma \\ndell’assistenza rimborsabile pari al 25% del totale degli investimenti agevolati.  \\n \\nLe spese di gestione vengono agevolate al 100% sino ad un massimo di 10mila  \\neuro. Tale importo  massimo vale  per ogni progetto.  Per le Compagini Giovanili e \\nle Imprese Femminili  è previsto un contributo aggiuntivo pari ad € 5.000,00 per \\nspese in servizi informatici.  \\n \\nSi riporta no di seguito tabella con l’esemplificazione delle agevolazioni concedibili \\nper alcune tipologie di investimento:)</td>\n",
              "      <td>(metadata, {'label': 'investments', 'source': 'Scheda NIDI - Nuove iniziative d'impresa_ Strumento di ingegneria finanziaria.pdf', 'page': 3})</td>\n",
              "      <td>(type, Document)</td>\n",
              "    </tr>\n",
              "    <tr>\n",
              "      <th>7</th>\n",
              "      <td>(page_content, Puglia sviluppo  \\nUNIONE  EUROPEA  \\nFONDO  EUROPEO  DI SVILUPPO  REGIONALE  REGIONE  PUGLIA  \\nDIPARTIMENTO  SVILUPPO  ECONOMICO,  \\nINNOVAZIONE,  ISTRUZIONE,  \\nFORMAZIONE  E LAVORO  Ministero  Sviluppo  Economico  \\n5  \\n INVESTIMENTI  \\nAMMISSIBILI  Nuove imprese e Imprese Turistiche  \\n% \\nagevolazione  Contributo  \\nfondo \\nperduto  Prestito \\nrimborsabile  \\n€ 20.000  100%  € 10.000  € 10.000  \\n€ 50.000  100%  € 25.000  € 25.000  \\n€ 80.000  90% € 36.000  € 36.000  \\n€ 100.000  90% € 45.000  € 45.000  \\n€ 120.000  80% € 48.000  € 48.000  \\n€ 150.000  80% € 60.000  € 60.000  \\n \\nINVESTIMENTI  \\nAMMISSIBILI  Compagini giovanili  \\n% \\nagevolazione  Contributo  \\nfondo perduto  Assistenza \\nrimborsabile  Prestito \\nrimborsabile  \\n€ 20.000  100%  € 10.000  € 5.000  € 5.000  \\n€ 50.000  100%  € 25.000  € 12.500  € 12.500  \\n \\nINVESTIMENTI  \\nAMMISSIBILI  Imprese Femminili  \\n% \\nagevolazione  Contributo  \\nfondo perduto  Assistenza \\nrimborsabile  Prestito \\nrimborsabile  \\n€ 20.000  100%  € 10.000  € 5.000  € 5.000  \\n€ 50.000  100%  € 25.000  € 12.500  € 12.500  \\n€ 80.000  100%  € 40.000  € 20.000  € 20.000  \\n€ 100.000  100%  € 50.000  € 25.000  € 25.000  \\n \\nB. \\nPer le iniziative  in continuità  con imprese pre-esistenti  quali:  \\n passaggio  generazionale,  \\n rilevamento  di impresa  in crisi, \\n rilevamento  di impresa  confiscata,  \\n cooperative  sociali  assegnatarie  di beni immobili  confiscati,  \\nè possibile  prevedere programmi  di investimento fino  ad € 250.000,00.  \\n \\nL’agevolazione, somma  di sovvenzione  (fondo  perduto)  e mutuo  agevolato, varia \\nal crescere del  valore dell’investimento.  \\nAgevolazione  pari al 100%  \\nper investimenti compresi  tra 10mila  e 50mila  euro. \\nAgevolazione  pari al 90%  \\nper investimenti compresi  tra 50mila  e 100mila  euro. \\nAgevolazione  pari al 80%  \\nper investimenti compresi  tra 100mila  e 250mila  euro. \\n \\nLe spese di gestione vengono agevolate al 100% sino ad un massimo di 20mila  \\neuro. Tale importo  massimo vale  per ogni progetto.  \\n \\nPer tutte le iniziative agevolate, il prestito rimborsabile è erogato nella forma di  \\nmutuo  della durata  di 60 mesi (84 mesi per mutui  superiori  ad €60.000,00),  con \\ntasso fisso pari a 0,00%.)</td>\n",
              "      <td>(metadata, {'label': 'INVESTIMENTI AMMISSIBILI', 'source': 'Scheda NIDI - Nuove iniziative d'impresa_ Strumento di ingegneria finanziaria.pdf', 'page': 4})</td>\n",
              "      <td>(type, Document)</td>\n",
              "    </tr>\n",
              "    <tr>\n",
              "      <th>8</th>\n",
              "      <td>(page_content, Puglia sviluppo  \\nUNIONE  EUROPEA  \\nFONDO  EUROPEO  DI SVILUPPO  REGIONALE  REGIONE  PUGLIA  \\nDIPARTIMENTO  SVILUPPO  ECONOMICO,  \\nINNOVAZIONE,  ISTRUZIONE,  \\nFORMAZIONE  E LAVORO  Ministero  Sviluppo  Economico  \\n6  \\n Per le compagini giovanili  e le imprese femminili , il prestito sarà pari al 25% \\ndel totale degli investimenti agevolati e il restante 25% sarà costituito da \\nun’aiuto nella forma dell’assistenza rimborsabile. Ai beneficiari che saranno in \\nregola con la restituzione delle rate del piano di ammortamento prima della \\nscadenza della 31a rata e che avranno adempiuto alla corretta dimostrazione \\ndi spesa sarà riconosciuta una premialità di importo pari alla somma delle 30 \\nrate dell’assistenza rimborsabile. Tale premialità, pari al 25% dell’importo \\nagevolato, sarà concessa mediante l’integrale abbuono delle 30 rate restanti.   \\n \\nCome presentare  domanda  di agevolazione?  \\nBisogna  iscriversi  (gratuitamente) sul portale  www.sistema.puglia.it.  \\nIl portale prevede una sezione dedicata a NIDI che deve essere utilizzata per  \\ncompilare la domanda preliminare che descrive le caratteristiche tecniche ed  \\neconomiche del progetto, i profili dei soggetti proponenti, l’ammontare e le  \\ncaratteristiche  degli investimenti  e delle spese  previste. \\nNella fase preliminare  non è previsto  l’invio  di alcun  documento  cartaceo  né l’uso \\ndella PEC. La domanda  preliminare  non è un’istanza  di accesso  alle agevolazioni  \\ndel Fondo. Quest’ultima è formalizzata e sottoscritta durante un colloquio di  \\ntutoraggio  presso Puglia Sviluppo S.p.A.  \\nIl colloquio  di tutoraggio  presso  Puglia Sviluppo  ha, infatti, le finalità  di: \\n- valutare  la fattibilità  del progetto  rispetto  alle competenze  maturate  \\ndall’impresa  e alle prospettive  di mercato;  \\n- assistere  i proponenti  nella definizione  del programma  di investimenti al fine \\ndi pervenire  alla formulazione  della definitiva  istanza  di agevolazione. \\nAl termine  del colloquio  è rilasciata  ai proponenti  copia del verbale  e dell’istanza  \\ndi agevolazione.  \\n \\nCome  viene  concessa  l’agevolazione?  \\nAlla conclusione  dell’iter  istruttorio  Puglia  Sviluppo  adotta  il provvedimento  di \\nconcessione  delle agevolazioni ovvero  di inammissibilità.  \\nLe imprese ammesse sono convocate, presso la sede di Puglia Sviluppo, per un  \\nincontro  finalizzato  alla sottoscrizione  del contratto  di agevolazione  e per \\npartecipare ad una sessione di assistenza tecnica finalizzata ad illustrare le  \\nmodalità di realizzazione e rendic ontazione delle spese finanziate e di rimborso  \\ndella quota di finanziamento. Durante tale sessione di assistenza tecnica Puglia  \\nSviluppo consegna a ciascun beneficiario una guida sintetica per la corretta  \\ngestione dell’intero iter agevolativo. Durante l’in contro le imprese formalizzano  \\nla richiesta di erogazione della prima quota del mutuo agevolato . Segue la  \\nrealizzazione  dell’investimento  e l’ottenimento  di altre 2 quote  dell’agevolazione.)</td>\n",
              "      <td>(metadata, {'label': 'agevolazione', 'source': 'Scheda NIDI - Nuove iniziative d'impresa_ Strumento di ingegneria finanziaria.pdf', 'page': 5})</td>\n",
              "      <td>(type, Document)</td>\n",
              "    </tr>\n",
              "    <tr>\n",
              "      <th>9</th>\n",
              "      <td>(page_content, Puglia sviluppo  \\nUNIONE  EUROPEA  \\nFONDO  EUROPEO  DI SVILUPPO  REGIONALE  REGIONE  PUGLIA  \\nDIPARTIMENTO  SVILUPPO  ECONOMICO,  \\nINNOVAZIONE,  ISTRUZIONE,  \\nFORMAZIONE  E LAVORO  Ministero  Sviluppo  Economico  \\n7  \\n Una volta concluso  l’investimento,  ottenute  tutte le quote  della relativa  \\nagevolazione, dimostrato  di aver pagato  i fornitori,  si ottiene  anche  il contributo  \\nper le spese di  gestione.  \\n \\nDove trovo ulteriori  informazioni? \\nSul sito www.sistema.puglia.it/nidi è possibile: \\n- scaricare  la normativa  e la modulistica;  \\n- verificare  il possesso  dei requisiti mediante  un breve  questionario;  \\n- leggere  le informazioni  di dettaglio;  \\n- formulare  specifiche  domande,  accedere  al forum  informativo; \\n- accedere ad una mappa interattiva per individuare gli sportelli informativi e di  \\nsupporto;  \\n- compilare  ed inviare  la domanda  preliminare.  \\n \\nPer accedere alle informazioni e per presentare la domanda preliminare di  \\nagevolazione, sono disponibili sul territorio sportelli gratuiti informativi e di \\nsupporto.  \\nGli sportelli  supportano  il proponente  nella verifica  dei requisiti per presentare  la \\ndomanda, informano sul funzionamento della misura agevolativa e rilasciano  \\nmateriale informativo. Alcuni sportelli, mettono a disposizione un computer e  \\nuna persona che assiste nella compilazione della domanda, fornendo supporto  \\nper determinare il valore dell’investimento da chiedere e per tutte le altre  \\ninformazioni  necessarie alla compilazione della  domanda.  \\n \\nSiti internet:  \\nwww.regione.puglia.it  \\nwww.sistema.puglia.it  \\nwww.pugliasviluppo.eu.)</td>\n",
              "      <td>(metadata, {'label': 'Puglia sviluppo', 'source': 'Scheda NIDI - Nuove iniziative d'impresa_ Strumento di ingegneria finanziaria.pdf', 'page': 6})</td>\n",
              "      <td>(type, Document)</td>\n",
              "    </tr>\n",
              "    <tr>\n",
              "      <th>10</th>\n",
              "      <td>(page_content, puglia sviluppo  \\n \\n \\nUNIONE  EUROPEA  \\nFONDO  EUROPEO  DI SVILUPPO  REGIONALE   \\nMinistero  Sviluppo  Economico   \\nREGIONE  PUGLIA  \\nDIPARTIMENTO  SVILUPPO  ECONOMICO,  \\n  INNOVAZIONE,  ISTRUZIONE,   \\nFORMAZIONE  E LAVORO \\n \\n1 \\n \\nAiuti  agli Investimenti  delle  Piccole  e \\nMedie  Imprese  (Titolo  II Capo  3 Reg. \\nRegionale  17/2014)  \\n \\nAvviso  a sportello  a partire  dal 22/01/2015  \\nLa gestione  del presente  strumento  è di competenza  della Regione  Puglia  che, \\nad eccezione  della fase di erogazione  dei contributi,  procederà  all’attuazione  \\nmediante  Puglia  Sviluppo  SpA, in qualità  di Soggetto  Intermediario.   \\n \\nCosa  trovo  in questa  scheda?  \\nQuesta  scheda  contiene  alcune  informazioni  sullo strumento  finanziario  “Aiuti  \\nAgli Investimenti  delle piccole  e medie  imprese”  rivolto  ad imprese  di piccola  e \\nmedia  dimensione  che intendano  realizzare  un investimento  nel territorio  della \\nRegione  Puglia.  \\nL’obiettivo  di questa  scheda  è fornire  un primo  orientamento  su questa  \\nopportunità.  \\nNota bene:  le informazioni  presenti  in questa  scheda  sono puramente  indicative  \\ne potrebbero  subire  variazioni.  Invitiamo  tutte le persone  interessate  a prendere  \\nvisione  del bando  pubblicato  sul Bollettino  Ufficiale  della Regione  Puglia  del \\n31/12/2014  n. 177 e successive  modifiche  e integrazioni  e sul sito \\nwww.sistema.puglia.it/titoloIIcapo3 . \\n \\nChi può richiedere  l’agevolazione?  \\nPuò richiedere  l’agevolazione:  \\n1. microimprese  (impresa  che occupa  meno  di 10 persone,  realizza  un \\nfatturato  annuo  o un totale  di bilancio  annuo  non superiori  a 2 milioni  di \\neuro);  \\n2. imprese  di piccole  dimensioni  (impresa  che occupa  meno  di 50 persone  e \\nrealizza  un fatturato  annuo  o un totale  di bilancio  non superiori  a 10 milioni  \\ndi euro);  \\n3. imprese  di medie  dimensioni:  che occupa  meno  di 250 persone,  realizza  \\nun fatturato  annuo  non superiore  a 50 milioni  di euro oppure  il totale  di \\nbilancio  annuo  non supera  i 43 milioni  di euro.  \\n4. liberi professionisti,  in quanto  equiparati  alle piccole  e medie  imprese  come  \\nesercenti  attività  economica,  secondo  l’art. 12, legge  22 maggio  2017,  n. \\n81.)</td>\n",
              "      <td>(metadata, {'label': 'Aiuti agli Investimenti delle Piccole e Medie Imprese', 'source': 'Aiuti agli Investimenti delle Piccole e Medie Imprese (Titolo II Capo 3 Reg_ Regionale 17_2014)_br ___br __.pdf', 'page': 0})</td>\n",
              "      <td>(type, Document)</td>\n",
              "    </tr>\n",
              "    <tr>\n",
              "      <th>11</th>\n",
              "      <td>(page_content, puglia sviluppo  \\n \\n \\nUNIONE  EUROPEA  \\nFONDO  EUROPEO  DI SVILUPPO  REGIONALE   \\nMinistero  Sviluppo  Economico   \\nREGIONE  PUGLIA  \\nDIPARTIMENTO  SVILUPPO  ECONOMICO,  \\n  INNOVAZIONE,  ISTRUZIONE,   \\nFORMAZIONE  E LAVORO \\n \\n2 \\n \\nQuali  attività  posso  realizzare  con l’aiuto  del Titolo  \\nII capo  3? \\nCon il Titolo  II capo 3 si possono  realizzare  investimenti  in unità locali \\nubicate/da  ubicare  nel territorio  della Regione  Puglia  e riguardanti  Progetti  \\ndi investimento  di importo  non inferiori  a € 30.000,00  per: \\n• la creazione  di una nuova  unità produttiva;  \\n• l’ampliamento  di una unità produttiva  esistente;  \\n• diversificazione  della produzione  di uno stabilimento  esistente  per \\nottenere  prodotti  mai fabbricati  precedentemente ; \\n• il cambiamento  fondamentale  del processo  di produzione  complessivo  \\ndi un’unità  produttiva  esistente  \\nSono ammissibili  gli investimenti  riguardanti:  \\na. imprese  artigiane,  costituite  anche  in forma  coopera tiva o consortile, \\niscritte negli albi di cui alla legge  443/85  (legge quadro sull’artigianato);  \\nb. impres e che realizzano  programm i di investimento nel settore del \\ncommercio:  \\no eserci zi commerci ali di vendita al dettaglio ed all’ingrosso  classificati \\nesercizi di vicinato  (esercizi  con superficie  di vendita  non superiore  a 250 \\nmq); \\no esercizi  commerci ali di vendita al dettaglio ed all’ingrosso classi ficati \\nM1. Medie strutture  di livello  locale con superf icie di vendita  da 251 a \\n600 mq (LR n. 11/200 3); \\no esercizi  commerci ali di vendita al dettaglio ed all’ingrosso classi ficati \\nM2. Medie strutture  di livello  locale con superf icie di vendita  da 601 a \\n1.500 mq (LR n. 11/200 3); \\no esercizi  commerciali  di vendita  al dettaglio  ed all’ingrosso  classificati  M3. \\nmedie  strutture  attrattive  con superficie  di vendita  da 1501 a 2500 mq \\n(LR n. 11/200 3); \\no servizi  di ristorazione  di cui al gruppo  “56” della “Classificazione delle \\nAttività economiche  ATECO  2007”, ad eccezione  delle categorie  “56.10.4”  \\ne “56.10.5”;  \\no attività di commerc io elettron ico; per comm ercio elettronico si intende  \\nl’attività commerciale  - ovvero  quella  di acquisto  di merci  in nome  e \\nper conto  proprio  e la loro rivendita – svolta tramite la rete internet, \\nmedia nte l’utilizzo di un portale o sito web (e-commerce).)</td>\n",
              "      <td>(metadata, {'label': 'Titolo II capo 3', 'source': 'Aiuti agli Investimenti delle Piccole e Medie Imprese (Titolo II Capo 3 Reg_ Regionale 17_2014)_br ___br __.pdf', 'page': 1})</td>\n",
              "      <td>(type, Document)</td>\n",
              "    </tr>\n",
              "    <tr>\n",
              "      <th>12</th>\n",
              "      <td>(page_content, puglia sviluppo  \\n \\n \\nUNIONE  EUROPEA  \\nFONDO  EUROPEO  DI SVILUPPO  REGIONALE   \\nMinistero  Sviluppo  Economico   \\nREGIONE  PUGLIA  \\nDIPARTIMENTO  SVILUPPO  ECONOMICO,  \\n  INNOVAZIONE,  ISTRUZIONE,   \\nFORMAZIONE  E LAVORO \\n \\n3 \\n \\nc. imprese  che realizzano  investimenti  in alcune  attività  economiche  delle \\nseguenti  divisioni  della “Classificazione  delle Attività  economiche  ATECO  \\n2007:  \\no sezione  “C”: imprese,  non iscritte  negli albi di cui alla legge  443/85,  \\nche realizzano  investimenti  riguardanti  il settore  delle attività  \\nmanifatturiere;  \\no sezione  “E”: settore  fornitura  di acqua,  reti fognarie,  attività  di \\ntrattamento  dei rifiuti e risanamento;  \\no sezione  “F”: settore  delle costruzioni;  \\no sezione  “J”: settore  dei servizi  di comunicazione  ed informazione ; \\no sezione  “Q”: sanità  e assistenza  sociale;  \\no sezione  “R”: settore  Attività  artistiche,  di intrattenimento  e divertimento . \\nd. Liberi  professionisti  che svolgono  le attività  disciplinate  da apposite  leggi \\nprofessionali  o quelle  regolamentate  dalla legge  n. 4 del 14 gennaio  2013 \\n(“disposizioni  in materia  di professioni  non organizzate”),  che realizzano  \\nattività  in uno dei settori  previsti  di cui all’allegato  1. \\n \\nL’elenco  dei codici  Ateco  e delle  attività  ammissibili  è allegato  all’Avviso  \\n(Allegato  1). \\n \\nQuali  sono  le spese  ammissibili?  \\nSono  ammissibili  le spese  per: \\na. acquisto  del suolo  aziendale  e sue sistemazioni  entro  il limite  del 5% \\ndell'importo  dell'investimento  in attivi materiali;  \\nb. spese  per opere  murarie  e assimilabili  relative  a interventi  di ampliamento  \\no di riqualificazione  di immobili  esistenti  nonché  quelle  relative  a nuova  \\ncostruzione  solo nei casi in cui l’impresa  dimostri  che l’assenza  di \\nagevolazione  su tali spese,  in ragione  delle caratteristiche  tecnologiche  e \\nlocalizzative  dell’iniziativa,  ne inficerebbe  la redditività  e le opportunità  di \\ninnovazione  e sviluppo;   \\nc. acquisto  di macchinari,  impianti  e attrezzature  varie,  nuovi  di fabbrica,  ivi \\ncompresi  quelli  necessari  all'attività  di rappresentanza,  nonché  i mezzi  \\nmobili  strettamente  necessari  al ciclo di produzione  o per il trasporto  in \\nconservazione  condizionata  dei prodotti,  purché  dimensionati  all'effettiva  \\nproduzione,  identificabili  singolarmente  ed a servizio  esclusivo  dell'unità  \\nproduttiva  oggetto  delle agevolazioni.  Per il settore  dei trasporti  sono \\nescluse  le spese  relative  all'acquisto  di materiale  di trasporto  e l'acquisto  \\ndi automezzi  è ammissibile  esclusivamente  nel caso di imprese  di trasporto)</td>\n",
              "      <td>(metadata, {'label': 'properties', 'source': 'Aiuti agli Investimenti delle Piccole e Medie Imprese (Titolo II Capo 3 Reg_ Regionale 17_2014)_br ___br __.pdf', 'page': 2})</td>\n",
              "      <td>(type, Document)</td>\n",
              "    </tr>\n",
              "    <tr>\n",
              "      <th>13</th>\n",
              "      <td>(page_content, puglia sviluppo  \\n \\n \\nUNIONE  EUROPEA  \\nFONDO  EUROPEO  DI SVILUPPO  REGIONALE   \\nMinistero  Sviluppo  Economico   \\nREGIONE  PUGLIA  \\nDIPARTIMENTO  SVILUPPO  ECONOMICO,  \\n  INNOVAZIONE,  ISTRUZIONE,   \\nFORMAZIONE  E LAVORO \\n \\n4 \\n \\npersone;  \\nd. Investimenti  finalizzati  al miglioramento  delle misure  di prevenzione  dei \\nrischi,  salute  e sicurezza  sui luoghi  di lavoro;  \\ne. spese di progettazione ingegneristica e di direzione lavori nei limiti del 5% \\ndelle spese  di cui alla lettera  b);  \\nf. sono ammissibili  anche  le spese  per l'acquisto  di programmi  informatici  \\ncommisurati  alle esigenze  produttive  e gestionali  dell'impresa  ed i \\ntrasferimenti  di tecnologia  mediante  l'acquisto  di diritti  di brevetto  e \\nlicenze,  connessi  alle esigenze  produttive  e gestionali  dell'impresa.  \\nÈ possibile  presentare  un programma  di investimenti  che preveda  unicamente  la \\nrealizzazione  di un “impianto  di produzione  di energia  da fonte rinnovabile”.  \\nCon la dizione  “impianti  di produzione  di energia  da fonte rinnovabile”  si intende  \\nriferirsi  alle seguenti  tipologie:  \\n• impianti  ad energia  eolica;  \\n• impianti  ad energia  solare  (tutte  le tecnologie);  \\n• macchine  frigorifere  a fonte geotermica  (refrigeratori  o pompe  di calore)  \\nintegrati  nei processi  produttivi  e/o dedicati  alla climatizzazione  \\nambientale;  \\n• impianti  di produzione  di energia  termica  e/o elettrica  a biomasse  (liquide,  \\nsolide  o gassose).  \\nCon riferimento  all’acquisto  dell’immobile,  del suolo  o di software,  non è \\nammissibile  l’acquisto  da parenti  e affini fino al terzo grado  dei soci, nel caso di \\nsocietà  proponente,  o del titolare,  nel caso di ditta proponente,  nonché  dal \\nconiuge  del titolare  o dei soci”.  L’acquisto  di un immobile,  del suolo  o di software  \\ndi proprietà  di uno o più soci dell’impresa  richiedente  le agevolazioni  medesime  \\no dei relativi  coniugi  ovvero  parenti  o affini dei soci stessi  entro  il terzo grado,  è \\nammissibile  in proporzione  alle quote  di partecipazione  nell’impresa  medesima  \\ndegli altri soci che non hanno  alcun  rapporto  di parentela  e coniugio  suindicato.  \\nNon sono ammissibili  alle agevolazioni  \"gli acquisti  infragruppo,  gli acquisti  da \\nsoci o amministratori  dell’impresa  beneficiaria/proponente,  da coniugi,  parenti  o \\naffini entro  il terzo grado  di uno dei soci o amministratori  dell’impresa  \\nbeneficiaria  anche  nel caso in cui il rapporto  sussista  con un soggetto  che rivesta  \\nil ruolo di amministratore  o socio dell’impresa  fornitrice\".  \\nNon è ammissibile  l'acquisto  di immobili  che siano  stati oggetto  di agevolazione  \\nnei dieci anni precedenti  come  stabilito  dall’articolo  18, comma  1 lettera  c) del \\nD.P.R.  del 5 febbraio  2018,  n. 22 recante  i criteri  sull'ammissibilità  delle spese)</td>\n",
              "      <td>(metadata, {'label': 'properties', 'source': 'Aiuti agli Investimenti delle Piccole e Medie Imprese (Titolo II Capo 3 Reg_ Regionale 17_2014)_br ___br __.pdf', 'page': 3})</td>\n",
              "      <td>(type, Document)</td>\n",
              "    </tr>\n",
              "    <tr>\n",
              "      <th>14</th>\n",
              "      <td>(page_content, puglia sviluppo  \\n \\n \\nUNIONE  EUROPEA  \\nFONDO  EUROPEO  DI SVILUPPO  REGIONALE   \\nMinistero  Sviluppo  Economico   \\nREGIONE  PUGLIA  \\nDIPARTIMENTO  SVILUPPO  ECONOMICO,  \\n  INNOVAZIONE,  ISTRUZIONE,   \\nFORMAZIONE  E LAVORO \\n \\n5 \\n \\nper i programmi  cofinanziati  dai Fondi  strutturali  di investimento  europei  (SIE)  \\nper il periodo  di programmazione  2014/2020.  \\nSpese  comunque  non ammissibili:  \\na) le spese  notarili  e quelle  relative  a imposte  e tasse;  \\nb) le spese  relative  all'acquisto  di scorte;  \\nc) le spese  relative  all'acquisto  di macchinari  ed attrezzature  usati;  \\nd)  titoli di spesa  regolati  In contanti;  \\ne) le spese  di pura sostituzione;  \\nf) le spese  di funzionamento  in generale;  \\ng) le spese  in leasing  e quelle  relative  ai cosiddetti  contratti  chiavi  in mano ; \\nh) tutte le spese  non capitalizzate;  \\ni) le spese  sostenute  con commesse  interne  di lavorazione,  anche  se \\ncapitalizzate  ed Indipendentemente  dal settore  in cui opera  l'Impresa;  \\nj) i titoli di spesa  nel quali l'importo  complessivo  dei beni agevolabili  sia \\ninferiore  a 500,00  euro;  \\nk) acquisto  di beni non strettamente  funzionali  e non a uso esclusivo  \\ndell'attività  di Impresa;  \\nl) acquisto  di beni facilmente  deperibili  quali ad esempio  biancheria  da \\ntavola,  biancheria  da bagno,  stoviglie,  utensili  per cucina.  \\nm) nell’acquisto  di mezzi  mobili  non sono ammissibili  le spese  di IPT, messa  \\nsu strada,  immatricolazione.  \\nNon sono  ammissibili  le spese  relative  all'attività  di ricevitoria,  \\ncommercio  al dettaglio  di generi  di monopolio  e le attività  di giochi,  \\nlotterie  e scommesse.  \\n \\nQuando  è possibile  avviare  gli investimenti?  \\nSi rammenta  che ciascuna  spesa  deve essere  supportata  da un documento  \\ngiuridicamente  vincolante,  come  ad esempio  un ordine  di acquisto  o un \\npreventivo  controfirmato  per accettazione  che, conformemente  alle disposizioni  \\ndell’Avviso , deve riportare  data successiva  alla data di presentazione  della \\ndomanda  (data  attestata  nell’allegato  D). \\nCon riferimento  all’effetto  di incentivazione  si evidenzia  che: ai sensi dell’art.  2 \\npunto  23 Regolamento  (CE) 651/2014  del 17/06/2014,  per \"avvio  dei lavori\"  si \\nintende:  “la data di inizio dei lavori  di costruzione  relativi  all'investimento  oppure)</td>\n",
              "      <td>(metadata, {'label': 'spese non ammissibili', 'source': 'Aiuti agli Investimenti delle Piccole e Medie Imprese (Titolo II Capo 3 Reg_ Regionale 17_2014)_br ___br __.pdf', 'page': 4})</td>\n",
              "      <td>(type, Document)</td>\n",
              "    </tr>\n",
              "    <tr>\n",
              "      <th>15</th>\n",
              "      <td>(page_content, puglia sviluppo  \\n \\n \\nUNIONE  EUROPEA  \\nFONDO  EUROPEO  DI SVILUPPO  REGIONALE   \\nMinistero  Sviluppo  Economico   \\nREGIONE  PUGLIA  \\nDIPARTIMENTO  SVILUPPO  ECONOMICO,  \\n  INNOVAZIONE,  ISTRUZIONE,   \\nFORMAZIONE  E LAVORO \\n \\n6 \\n \\nla data del primo  impegno  giuridicamente  vincolante  ad ordinare  \\nattrezzature  o di qualsiasi  altro impegno  che renda  irreversibile  l'investimento,  \\na seconda  di quale  condizione  si verifichi  prima.  L'acquisto  di terreno  e i lavori  \\npreparatori  quali la richiesta  di permessi  o la realizzazione  di studi di fattibilità  \\nnon sono considerati  come  avvio  dei lavori.  In caso di acquisizioni,  per \"avvio  \\ndei lavori\"  si intende  il momento  di acquisizione  degli attivi direttamente  collegati  \\nallo stabilimento  acquisito” . \\nIn presenza  di un atto giuridicamente  vincolante  con data antecedente  alla data \\ndi presentazione  della domanda,  l’intero  programma  di investimenti  è ritenuto  \\ninammissibile.  \\nA titolo esemplificativo,  si riportano  i documenti  che possono  ritenersi  atti \\ngiuridicamente  vincolanti:  \\n• Preventivo  controfirmato  per accettazione;  \\n• Ordine  di acquisto/Contratto  di fornitura/appalto;  \\n• Conferma  d’ordine  (con o senza  il versamento  di un \\nacconto/anticipo/caparra);  \\n• Decreto  di trasferimento  del giudice,  nel caso di acquisto  immobile.  \\nSi precisa,  inoltre,  che nel caso il progetto  di investimenti  preveda  anche  \\nl’acquisto  dell’immobile  ed il soggetto  proponente  fornisca  come  titolo di \\ndisponibilità  dell’immobile  un contratto  preliminare  di compravendita  o una \\nproposta  di acquisto  accettata,  tali documenti  devono  presentare  una condizione  \\nsospensiva  o l’espressa  rinuncia  all’applicazione  delle disposizioni  dell’art.  2932 \\nc.c. da entrambe  le parti. \\n \\nA quanto  ammontano  gli investimenti  e le \\nagevolazioni  del Titolo  II capo  3? \\nL'aiuto  sarà erogato  in forma  di contributo  in conto  Impianti  determinato  sul \\nmontante  degli Interessi  di un finanziamento  concesso  da un Soggetto  \\nFinanziatore.  \\nIl contributo  viene  riconosciuto  in misura  pari all'Interest  Rate Swap  (Euribor  6 \\nmesi versus  tasso  fisso)  denaro,  in euro a 10 anni {10Y/6M),  pubblicato  sul \\nquotidiano  \"Il Sole 24 Ore\" il giorno  della stipula  del finanziamento  da parte  del \\nSoggetto  Finanziatore,  maggiorato  di uno spread.  \\nAl momento  la misura  dello spread  è pari al 5% (500 punti base);  tale valore  \\nviene  aggiornato  di anno in anno.)</td>\n",
              "      <td>(metadata, {'label': 'investments', 'source': 'Aiuti agli Investimenti delle Piccole e Medie Imprese (Titolo II Capo 3 Reg_ Regionale 17_2014)_br ___br __.pdf', 'page': 5})</td>\n",
              "      <td>(type, Document)</td>\n",
              "    </tr>\n",
              "    <tr>\n",
              "      <th>16</th>\n",
              "      <td>(page_content, puglia sviluppo  \\n \\n \\nUNIONE  EUROPEA  \\nFONDO  EUROPEO  DI SVILUPPO  REGIONALE   \\nMinistero  Sviluppo  Economico   \\nREGIONE  PUGLIA  \\nDIPARTIMENTO  SVILUPPO  ECONOMICO,  \\n  INNOVAZIONE,  ISTRUZIONE,   \\nFORMAZIONE  E LAVORO \\n \\n7 \\n \\nIl contributo  in conto  impianti  calcolato  sul montante  degli interessi  comprenderà  \\nl’eventuale  preammortamento:  \\n• Per una durata  massima  di 12 mesi per i finanziamenti  destinati  \\nall'acquisto  di macchinari  e di attrezzature;   \\n• Per una durata  massima  di 24 mesi per i finanziamenti  destinati  \\nall'ampliamento  dello stabilimento;  \\nQualunque  sia la maggior  durata  del contratto  di finanziamento,  il contributo  in \\nconto  impianti  determinato  sul montante  degli Interessi  sarà calcolato  con \\nriferimento  ad una durata  massima  del finanziamento  (al netto dell’eventuale  \\nperiodo  di preammortamento)  di: \\n• sette anni per i finanziamenti  destinati  alla creazione,  all’ampliamento  \\ne/o all’ammodernamento  dello stabilimento;  \\n• cinque  anni per i finanziamenti  destinati  all’acquisto  di macchinari,  \\nattrezzature,  brevetti  e licenze.  \\nLe agevolazioni  saranno  calcolate,  indipendentemente  dall’ammontare  del \\nprogetto  ammissibile,  su un importo  finanziato  massimo  di: \\n− 4.000.000  di euro in caso di soggetti  proponenti  di medie  dimensioni  \\n− 2.000.000  di euro in caso di soggetti  proponenti  di micro  e piccole  \\ndimensioni  \\n \\nPer gli investimenti  in nuovi  macchinari  ed attrezzature  potrà  essere  erogato  un \\ncontributo  aggiuntivo  in conto  impianti  che non potrà  essere  superiore  al 30% \\ndell’investimento  e all’importo  massimo  di 1.200.000  euro per le medie  imprese  \\ne 35% dell’investimento  e all’importo  massimo  di 700.000  euro per le piccole  \\nimprese.  \\nLe imprese  in possesso  del rating  di legalità  (articolo  5-ter del decreto  legge  24 \\ngennaio  2012,  n. 1, convertito  con modificazioni  della legge  24 maggio  2012,  n. \\n27) beneficiano  di una ulteriore  sovvenzione  diretta  che è pari al 5% dell’importo  \\ndell’investi mento  per le piccole  imprese  ed al 2,50%  dell’investimento  per le \\nmedie  imprese,  in entrambi  i casi con un tetto massimo  pari ad euro 100.000,00.  \\nAlla data di invio telematica  della domanda  da parte del Soggetto  Finanziatore,  \\nle imprese  devono  già possedere  il rating  di legalità  o avere  inoltrato  apposita  \\nrichiesta  all’Autorità  Garante  della concorrenza  e del mercato.)</td>\n",
              "      <td>(metadata, {'label': 'puglia sviluppo', 'source': 'Aiuti agli Investimenti delle Piccole e Medie Imprese (Titolo II Capo 3 Reg_ Regionale 17_2014)_br ___br __.pdf', 'page': 6})</td>\n",
              "      <td>(type, Document)</td>\n",
              "    </tr>\n",
              "    <tr>\n",
              "      <th>17</th>\n",
              "      <td>(page_content, puglia sviluppo  \\n \\n \\nUNIONE  EUROPEA  \\nFONDO  EUROPEO  DI SVILUPPO  REGIONALE   \\nMinistero  Sviluppo  Economico   \\nREGIONE  PUGLIA  \\nDIPARTIMENTO  SVILUPPO  ECONOMICO,  \\n  INNOVAZIONE,  ISTRUZIONE,   \\nFORMAZIONE  E LAVORO \\n \\n8 \\n \\nLe imprese  che hanno  conseguito  il rating  di legalità,  l'impor to massimo  del \\ncontributo  aggiuntivo  in conto  impianti  è elevato  a 1.300.000  euro per le medie  \\ne a 800.000  euro per le piccole  imprese . \\nÈ prevista,  come  sopra  anticipato,  una premialità  pari al pari al 30%  per le \\nmedie  imprese  e pari al 35%  per le piccole  imprese  nell’eventualità  di \\nrealizzazione  di un investimento  per la realizzazione  di un “impianto  di \\nproduzione  di energia  da fonte  rinnovabile ” (comprensivo  delle spese  \\nrelative  alla diagnosi  energetica  nella misura  non superiore  all’1,5%  del costo \\ndell’impianto  di produzione  di energia  da fonte rinnovabile,  per un ammontare  \\ncomplessi vo non superiore  a € 10.000,00).  \\nI soggetti  proponenti  che realizzano  interventi  in opere  murarie  necessari  al \\nrecupero  di immobili  esistenti  e non utilizzati  (come  definiti  al comma  23 del \\nprecedente  art. 4), ove acquisibili  e restaurabili,  beneficiano  di una ulteriore  \\nsovvenzione  diretta  del 10%.  Tale 10% di ulteriore  sovvenzione  sarà \\ncalcolato  esclusivamente  con riferimento  alle spese  necessarie  all’eventuale  \\nacquisto  e al recupero  dei predetti  immobili,  così come  definiti  al comma  23 del \\nprecedente  art. 4. \\nGli aiuti di cui al presente  Avviso  sono cumulabili:  \\n➢ con gli aiuti al finanziamento  del rischio  di cui al Titolo  III del Regolamento;   \\n➢ con gli aiuti de minimis  di cui al Regolamento  Regionale  n. 15 del \\n01/08/2014.  \\n \\nL’intensità  massima  di aiuto è: \\n✓ 35%  per i soggetti  proponenti  di medie  dimensioni  \\n✓ 45%  per i soggetti  proponenti  di piccole  dimensioni  \\nIn presenza  di un eventuale  ESL aiuto  di cui al finanziamento  del rischio,  in \\nforma  di garanzia,  controgaranzia  e cogaranzia , il quale  si somma  all’aiuto  di \\ncui al presente  Avviso  fino a concorrenza  del massimale,  l’ammontare  massimo  \\ndella  sovvenzione  complessiva  viene  aumentat o di 10 punti  percentuali  (45%)  \\nper le medie  imprese  e di 15 punti  percentuali  (60%)  per le piccole  imprese.)</td>\n",
              "      <td>(metadata, {'label': 'imprese', 'source': 'Aiuti agli Investimenti delle Piccole e Medie Imprese (Titolo II Capo 3 Reg_ Regionale 17_2014)_br ___br __.pdf', 'page': 7})</td>\n",
              "      <td>(type, Document)</td>\n",
              "    </tr>\n",
              "    <tr>\n",
              "      <th>18</th>\n",
              "      <td>(page_content, puglia sviluppo  \\n \\n \\nUNIONE  EUROPEA  \\nFONDO  EUROPEO  DI SVILUPPO  REGIONALE   \\nMinistero  Sviluppo  Economico   \\nREGIONE  PUGLIA  \\nDIPARTIMENTO  SVILUPPO  ECONOMICO,  \\n  INNOVAZIONE,  ISTRUZIONE,   \\nFORMAZIONE  E LAVORO \\n \\n9 \\n \\nCome  presentare  domanda  di agevolazione?  \\nLe domande  possono  essere  inoltrate  unicamente  da un Soggetto  Finanziatore  \\n(Banca  o Confidi  Vigilato)  accreditato  o un Confidi  (iscritto  nell’Elenco  ex art. 112 \\nTUB tenuto  dall’Organismo  Confidi  Minori  oppure  iscritto  nell'albo  unico  di cui \\nall'art.  106 del TUB) in via telematica  attraverso  la procedura  on line “Titolo  II \\ncapo 3” messa  a disposizione  nella pagina  dedicata  all'Avviso  presente  su \\nwww.sistema.puglia.it  (sul sito sistema.puglia  è presente  un utility  con l’elenco  \\ndei soggetti  accreditati) . \\nL’invio  della domanda  di agevolazione  e della documentazione  relativa  sarà \\neffettuato  dal Soggetto  Finanziatore  solo successivamente  alla deliberazione  di \\nconcessione  del finanziamento.   \\nIl Soggetto  Finanziatore  deve deliberare  il finanziamento  bancario  ed inviare  \\ntelematicamente  la domanda  entro  6 mesi dalla data di ricevimento  della stessa  \\nda parte  dell’impresa  proponente,  pena la decadenza  della domanda  di aiuto \\ndell’impresa  e la eliminazione  della posizione  telematica  dalla procedura.  \\nIl Soggetto  Finanziatore  o il Confidi,  al fine di censire  telematicamente  la \\ndomanda  di aiuti nella piattaforma  telematica  (con contestuale  generazione  del \\ncodice  pratica),  deve procedere  obbligatoriamente  alla compilazione  di tutte \\nle informazioni  previste  per la generazione  della domanda  di agevolazione  \\n(Allega to C), come  da modulo  di domanda  allegato  al presente  Avviso.  Tale \\nallegato  generato  telematicamente,  deve essere  firmato  digitalmente  dal legale  \\nrappresentante  dell’impresa  proponente  o dal libero  professionista.  \\nIl Soggetto  Finanziatore  inserisce  nella procedura  telematica  l’attestazione  della \\npresentazione  domanda  (Allegato  D) sottoscritta  con firma digitale.  \\nA seguito  di presentazione  della domanda  presso  un Soggetto  Finanziatore,  \\nottenuto  il codice  pratica,  il Soggetto  Proponente  si deve obbligatoriamente  \\nregistrare  al portale  raggiungibile  nella pagina  dedicata  all'Avviso  presente  su \\nwww.sistema.puglia.it , eseguire  la procedura  di attivazione  profilo  e, \\nsuccessivamente,  accreditarsi  per la specifica  pratica.  Una volta accreditata  il \\nSoggetto  proponente  potrà  operare  sulla propria  pratica  ed effettuare  l’upload  di \\ntutta la documentazione  utile al completamento  delle verifiche  istruttorie,  \\neventualmente  richiesta  da Puglia  Sviluppo  SPA.)</td>\n",
              "      <td>(metadata, {'label': 'puglia sviluppo', 'source': 'Aiuti agli Investimenti delle Piccole e Medie Imprese (Titolo II Capo 3 Reg_ Regionale 17_2014)_br ___br __.pdf', 'page': 8})</td>\n",
              "      <td>(type, Document)</td>\n",
              "    </tr>\n",
              "    <tr>\n",
              "      <th>19</th>\n",
              "      <td>(page_content, puglia sviluppo  \\n \\n \\nUNIONE  EUROPEA  \\nFONDO  EUROPEO  DI SVILUPPO  REGIONALE   \\nMinistero  Sviluppo  Economico   \\nREGIONE  PUGLIA  \\nDIPARTIMENTO  SVILUPPO  ECONOMICO,  \\n  INNOVAZIONE,  ISTRUZIONE,   \\nFORMAZIONE  E LAVORO \\n \\n10 \\n \\nCome  riceverò  l’agevolazione?  \\nSulla base delle verifiche  effettuate  da parte  di Puglia  Sviluppo,  la Regione,  \\nmediante  Determinazione  Dirigenziale,  adotta  il provvedimento  di ammissione  \\nprovvisoria  alle agevolazioni.  \\nLa Regione  comunica  ai soggetti  proponenti  l’esito  dell’esame  tramite  pec.  \\nL’impresa  ritenuta  ammissibile,  anche  per il tramite  del Soggetto  Finanziatore  o \\ndel Confidi,  entro  2 mesi dalla documentata  conclusione  dell’investimento,  \\ninoltra  telematicamente  la richiesta  di erogazione  con tutta la documentazione  \\nprevista  dall’art.  13 dell’Avviso.  \\nPuglia  Sviluppo,  ricevuta  la richiesta  di erogazione  del contributo  con tutta la \\ndocumentazione  a corredo,  a seguito  di completamento  degli investimenti  da \\nparte  dell’impresa,  procede , per quelle  pratiche  per le quali si è concluso  \\npositivamente  l’esame  istruttorio  preliminare  con l’emissione  della determina  \\nprovvisoria,  all’ulteriore  istruttoria  tecnica,  accerta ndo la pertinenza  e \\nl’ammissibilità  delle spese  e, quindi,  l’agevolabilità  dell’iniziativa.   \\nL’attività  istruttoria  si conclude  con l’elaborazione  di una relazione  da sottoporre  \\nalla Regione  Puglia.  \\nLa Regione  provvede  periodicamente,  rispettando  l’ordine  cronologico  di \\nricezione  delle domande  da parte  dei Soggetti  Finanziatori,  all’ammissione  \\ndefinitiva  ad agevolazione  delle iniziative  istruite  positivamente,  comunicando  il \\nprovvedimento  ai richiedenti,  ai Soggetti  Finanziatori  ed all’eventuale  Confidi.   \\nLa Regione,  provvede  alla erogazione  in unica  soluzione  all’impresa  del \\ncontributo  in conto  impianti  attualizzato  al medesimo  tasso  con cui è calcolata  \\nl’agevolazione  e di quello  aggiuntivo.  \\n \\nDove  trovo  ulteriori  informazioni?  \\nRegione  Puglia  – Area Politiche  per lo Sviluppo  Economico,  il Lavoro  e \\nl’Innovazione  Corso  Sonnino,  177, 70121  Bari. \\n \\nSiti internet:   \\nwww.regione.puglia.it ; www.sistema.puglia.it ; www.pugliasviluppo.eu.  \\n \\nI moduli  e gli allegati  del presente  Avviso  sono resi disponibili  sul sito \\nwww.sistema.puglia.it . \\n \\nSul sito www.sistema.puglia.it  puoi: \\n➢ scaricare  la normativa  e la modulistica;  \\n➢ verificare  i Codici  Ateco  ammissibili;  \\n➢ formulare  specifiche  domande.)</td>\n",
              "      <td>(metadata, {'label': 'Passage', 'source': 'Aiuti agli Investimenti delle Piccole e Medie Imprese (Titolo II Capo 3 Reg_ Regionale 17_2014)_br ___br __.pdf', 'page': 9})</td>\n",
              "      <td>(type, Document)</td>\n",
              "    </tr>\n",
              "    <tr>\n",
              "      <th>20</th>\n",
              "      <td>(page_content, puglia sviluppo  \\n \\n \\nUNIONE  EUROPEA  \\nFONDO  EUROPEO  DI SVILUPPO  REGIONALE   \\nMinistero  Sviluppo  Economico   \\nREGIONE  PUGLIA  \\nDIPARTIMENTO  SVILUPPO  ECONOMICO,  \\n  INNOVAZIONE,  ISTRUZIONE,   \\nFORMAZIONE  E LAVORO \\n \\n1 \\n \\nAiuti  Agli Investimenti  delle  \\nPMI nel Settore  Turistico  - \\nAlberghiero  (Titolo  II capo  6 \\nReg. Reg. 17/2014)  \\n \\nAvviso  a sportello  a partire  dal 9/03 /2015  \\nLa gestione  del presente  strumento  è di competenza  della Regione  Puglia  che, \\nad eccezione  della fase di erogazione  dei contributi,  procederà  all’attuazione  \\nmediante  Puglia  Sviluppo  SpA, in qualità  di Soggetto  Intermediario.   \\n \\nCosa trovo  in questa  scheda?  \\nQuesta  scheda  contiene  alcune  informazioni  sullo strumento  finanziario  “Aiuti \\nAgli Investimenti  delle PMI nel Settore  Turistico -Alberghiero ” rivolto  ad imprese  \\ndi piccola  e media  dimensione  che intendano  realizzare  un investimento  nel \\nterritorio  della Regione  Puglia.  \\nL’obiettivo  di questa  scheda  è fornire  un primo  orientamento  su questa  \\nopportunità.  \\nNota bene:  le informazioni  presenti  in questa  scheda  sono puramente  indicative  \\ne potrebbero  subire  variazioni.  Invitiamo  tutte le persone  interessate  a prendere  \\nvisione  del bando  pubblicato  sul Bollettino  Ufficiale  della Regione  Puglia  del \\n03/03/ 2015 n. 32 e sul sito www.sistema.puglia.it/ titoloiIIcapo 6 e successive  \\nmodifiche . \\n \\nChi può richiedere  l’agevolazione?  \\nPuò richiedere  l’agevolazione : \\n1. microimprese  (impresa  che occupa  meno  di 10 persone,  realizza  un \\nfatturato  annuo  o un totale  di bilancio  annuo  non superiori  a 2 milioni  di \\neuro);  \\n2. imprese  di piccole  dimensioni  (impresa  che occupa  meno  di 50 persone  e \\nrealizza  un fatturato  annuo  o un totale  di bilancio  non superiori  a 10 milioni  \\ndi euro);  \\n3. imprese  di medie  dimensioni:  che occupa  meno  di 250 persone,  realizza  \\nun fatturato  annuo  non superiore  a 50 milioni  di euro oppure  il totale  di \\nbilancio  annuo  non supera  i 43 milioni  di euro.)</td>\n",
              "      <td>(metadata, {'label': 'Aiuti Agli Investimenti delle PMI nel Settore Turistico - Alberghiero', 'source': 'Aiuti Agli Investimenti delle PMI nel Settore Turistico - Alberghiero (Titolo II capo 6 Reg_ Reg_ 17_2014) _br ___br __.pdf', 'page': 0})</td>\n",
              "      <td>(type, Document)</td>\n",
              "    </tr>\n",
              "    <tr>\n",
              "      <th>21</th>\n",
              "      <td>(page_content, puglia sviluppo  \\n \\n \\nUNIONE  EUROPEA  \\nFONDO  EUROPEO  DI SVILUPPO  REGIONALE   \\nMinistero  Sviluppo  Economico   \\nREGIONE  PUGLIA  \\nDIPARTIMENTO  SVILUPPO  ECONOMICO,  \\n  INNOVAZIONE,  ISTRUZIONE,   \\nFORMAZIONE  E LAVORO \\n \\n2 \\n \\nQuali  attività  posso  realizzare  con l’aiuto  del Titolo  \\nII capo  6? \\nCon il Titolo  II capo 6 si possono  realizzare  investimenti  in unità locali ubicate/da  \\nubicare  nel territorio  della Regione  Puglia  e riguardanti  Progetti  di investimento  \\ndi importo  non inferiori  a € 30.000 ,00 per: \\na) l’ampliamento,  l’ammodernamento  e la ristrutturazione  delle strutture  \\nturistico  alberghiere,  ivi comprese  le strutture  di servizi  funzionali  allo \\nsvolgimento  dell’attività  (quali  bar, palestre,  piscine,  centri  benessere,  \\necc.) nonché  gli interventi  finaliz zati al superamento  delle barriere  \\narchitettoniche,  al rinnovo  e aggiornamento  tecnologico,  al miglioramento  \\ndell’impatto  ambientale;  \\nb) la realizzazione  o l’ammodernamento  degli stabilimenti  balneari,  ivi \\ncompresi  gli spazi destinati  alla ristorazione  e alla somministrazione  di cibi \\ne bevande,  ai parcheggi  ed ai punti di ormeggio;  \\nc) la realizzazione  e/o la gestione  di approdi  turistici;  \\nd) la realizzazione  di strutture  turistico  ‐ alberghiere  (compresi  servizi  \\nannessi,  nel rispetto  della normativa  vigente)  attraverso  il consolidamento  \\ned il restauro  e risanamento  conservativo  di immobili  che presentano  \\ninteresse  artistico  e storico -architettonico.  Ai fini di cui sopra,  deve restare  \\nimmutata  la volumetria  fuori terra esistente  e fatti salvi i prospetti  originari  \\ne le caratteristiche  architettoniche  e artistiche.  Si precisa  che \\nl’ampliamento,  attraverso  la costruzione  di vani tecnici,  costituisce  \\nvariazione  di volumetria  fuori terra;  \\ne) il consolidamento,  restauro  e risanamento  conservativo  di edifici  rurali,  \\nmasserie,  trulli, torri, fortificazioni  al fine della trasformazione  \\ndell’immobile  in strutture  turistico ‐alberghiere  (compresi  servizi  annessi,  \\nnel rispetto  della normativa  vigente).  Ai fini di cui sopra,  devono  essere  \\nfatte salve le caratteristiche  architettoniche  e artistiche  dell’immobile.  \\nSono consentiti  ampliamenti  degli edifici  esistenti,  strettamente  connessi  \\nad esigenze  igienico -sanitarie  o tecnologico -funzionali,  fino a un massimo  \\ndel 20 per cento  della volumetria  esistente,  comunque  nel rispetto  degli \\nindici e parametri  dimensionali  stabiliti  dai vigenti  strumenti  urbanistici.  \\nNel caso di demolizione  e ricostruzione  di parte  dei fabbricati  esistenti,  \\ndeve essere  ripristinata  la tipologia  architettonica  originaria;  \\nf) Il primo  impianto  e/o sistemazione  di area a verde  di almeno  10 ettari  \\n(anche  mediante  la realizzazione  di piste ciclabili,  sentieri  attrezzati,  \\npercorsi  sportivi,  punti ristoro,  ecc.) anche  di proprietà  pubblica,  la cui \\nfruizione  sia condivisa  con la eventuale  Amministrazione  proprietaria  e/o \\nil soggetto  gestore ;)</td>\n",
              "      <td>(metadata, {'label': 'Titolo II capo 6', 'source': 'Aiuti Agli Investimenti delle PMI nel Settore Turistico - Alberghiero (Titolo II capo 6 Reg_ Reg_ 17_2014) _br ___br __.pdf', 'page': 1})</td>\n",
              "      <td>(type, Document)</td>\n",
              "    </tr>\n",
              "    <tr>\n",
              "      <th>22</th>\n",
              "      <td>(page_content, puglia sviluppo  \\n \\n \\nUNIONE  EUROPEA  \\nFONDO  EUROPEO  DI SVILUPPO  REGIONALE   \\nMinistero  Sviluppo  Economico   \\nREGIONE  PUGLIA  \\nDIPARTIMENTO  SVILUPPO  ECONOMICO,  \\n  INNOVAZIONE,  ISTRUZIONE,   \\nFORMAZIONE  E LAVORO \\n \\n3 \\n \\ng) Nuove  attività  turistico  – alberghiere,  attraverso  il recupero  fisico e/o \\nfunzionale  di strutture  non ultimate,  legittimamente  iniziate,  destinate  ad \\nattività  ricettive  di cui all’art.  3 della legge  regionale  n. 11/99;  \\nh) Recupero  di aree urbane  degradate  e/o inquinate  da destinare  alla \\nrealizzazione  di strutture  ricettive,  congressuali,  sportive,  culturali  e/o \\nricreative.  \\n \\nLe strutture  turistico  alberghiere  di cui alle lettere  a), d) ed e) che precedono,  \\npossono  essere  realizzate  anche  nella forma  della ricettività  diffusa  di cui al \\nRegolament o Regionale  22 marzo  2012,  n. 6. \\n \\nI progetti  di cui ai punti a), b), c), d), e), f), g) e h) devono  tendere  alla:  \\n• promozione  del risparmio  energetico,  della gestione  sostenibile  dei rifiuti  \\ne il recupero  degli stessi , del risparmio  e della tutela  delle risorse  idriche;   \\n• riduzione  di emissioni  di C02, di sostanze  acidificanti  e di emissioni  \\nodorifere  e sonore  da parte delle imprese  beneficiarie.  \\nSezioni  codice  ATECO  2007 interessate  all’intervento:  \\n• Sezione  H, categoria  52.22.09  “altre  attività  dei servizi  connessi  al \\ntrasporto  marittimo  e per vie d’acqua”  con riferimento  esclusivamente  alle \\nimprese  che realizzano  investimenti  per la gestione  di approdi  turistici  e di \\nrimessaggio  delle imbarcazioni;  \\n• Sezione  I, Divisione  55 “Alloggio”  ad eccezione  delle categorie:  \\na. 55.20.52  “Attività di alloggio connesse alle aziende agricole”; \\nb. 55.90.10  “Gestione di vagoni letto”; \\nc. 55.90.20  “Alloggi per studenti e lavoratori con servizi accessori di tipo \\nalberghiero”; \\n• Sezione  N, limitatamente  alle categorie:  \\na. 77.21.01  “Noleggio  di biciclette”;  \\nb. 77.21.02  “Noleggio  senza  equipaggio  di imbarcazioni  da diporto  (inclusi  \\ni pedalò)”.  Si precisa  che sono ammissibili  le spese  di acquisto  delle \\nimbarcazioni  se “natanti  da diporto”  e cioè se di lunghezza  inferiore  ai \\n10 metri  e quindi  non targati  e non immatricolati;  \\nc. 77.21.09  “Noleggio  di altre attrezzature  sportive  e ricreative”;  \\nd. 77.39.94  “Noleggio  di strutture  ed attrezzature  per manifestazioni  e \\nspettacoli:  impianti  luce ed audio  senza  operatore,  palchi,  stand  ed \\naddobbi  luminosi”;  \\ne. Gruppo  79.1 “attività  delle agenzie  di viaggio  e dei Tour Operator”;  \\nf. Gruppo  79.9 “altri servizi  di prenotazione  e attività  connesse”  purché  \\nfinalizzate  all’offerta  di servizi  turistici;)</td>\n",
              "      <td>(metadata, {'label': 'properties', 'source': 'Aiuti Agli Investimenti delle PMI nel Settore Turistico - Alberghiero (Titolo II capo 6 Reg_ Reg_ 17_2014) _br ___br __.pdf', 'page': 2})</td>\n",
              "      <td>(type, Document)</td>\n",
              "    </tr>\n",
              "    <tr>\n",
              "      <th>23</th>\n",
              "      <td>(page_content, puglia sviluppo  \\n \\n \\nUNIONE  EUROPEA  \\nFONDO  EUROPEO  DI SVILUPPO  REGIONALE   \\nMinistero  Sviluppo  Economico   \\nREGIONE  PUGLIA  \\nDIPARTIMENTO  SVILUPPO  ECONOMICO,  \\n  INNOVAZIONE,  ISTRUZIONE,   \\nFORMAZIONE  E LAVORO \\n \\n4 \\n \\ng. Classe  82.30  “organizzazione  di convegni  e fiere”;  \\n• Sezione R, limitatamente  alla Divisione:  \\na. Divisione  90 “attività  creative,  artistiche  e di intrattenimento”;  \\nb. Divisione  91 “attività  di biblioteche,  archivi,  musei  ed altre attività  \\nculturali”;  \\nc. Categoria  93.11.20  “gestione  di piscine”;  \\nd. Categoria  93.11.30  “gestione  di impianti  sportivi  polivalenti  nca”;  \\ne. Categoria  93.11.90  “gestione  di altri impianti  sportivi  nca”. \\nf. Classe  93.21  “Parchi  di divertimento  e parchi  tematici”;  \\ng. Categoria  93.29.1  “Discoteche,  sale da ballo night-club e simili”;  \\nh. Categoria  93.29.2  “Gestione  di stabilimenti  balneari:  marittimi,  lacuali  e \\nfluviali”  \\n• Sezione  S, limitatamente  alla Divisione  96 ”altre  attività  di servizi  per la \\npersona”  e alla categoria  96.04.20  “Stabilimenti  termali”.  \\n \\nQuali  sono  le spese  ammissibili?  \\nSono ammissibili  le spese  per: \\na. acquisto del suolo aziendale e sue sistemazioni entro il limite del 5% \\ndell’importo dell’investimento in attivi materiali; \\nb. le spese  per opere  murarie  e assimilabili  relative  a interventi  di \\nampliamento  o di riqualificazione  di immobili  esistenti  nonché  quelle  \\nrelative  a nuova  costruzione  solo nei casi in cui l’impresa  dimostri  che \\nl’assenza  di agevolazione  su tali spese,  in ragione  delle caratteristiche  \\ntecnologiche  e localizzative  dell’iniziativa,  ne inficerebbe  la redditività  e le \\nopportunità  di innovazione  e sviluppo;  gli avvisi  prevedono,  inoltre,  una \\npremialità  per le opere  necessarie  al recupero  di immobili  esistenti  e non \\nutilizzati  ove acquisibili  e restaurabili ;  \\nc. acquisto di macchinari, impianti e attrezzature varie, nuovi di fabbrica;  \\nd. Investimenti  finalizzati  al miglioramento  delle misure  di prevenzione  dei \\nrischi,  salute  e sicurezza  sui luoghi  di lavoro.  \\ne. spese di progettazione ingegneristica e di direzione lavori nei limiti del 5% \\ndelle spese  di cui alla lettera  b);  \\nf. sono ammissibili  anche  le spese  per l'acquisto  di programmi  informatici  \\ncommisurati  alle esigenze  produttive  e gestionali  dell'impresa  ed i \\ntrasferimenti  di tecnologia  mediante  l'acquisto  di diritti  di brevetto  e \\nlicenze,  connessi  alle esigenze  produttive  e gestionali  dell'impresa.)</td>\n",
              "      <td>(metadata, {'label': 'spese ammissibili', 'source': 'Aiuti Agli Investimenti delle PMI nel Settore Turistico - Alberghiero (Titolo II capo 6 Reg_ Reg_ 17_2014) _br ___br __.pdf', 'page': 3})</td>\n",
              "      <td>(type, Document)</td>\n",
              "    </tr>\n",
              "    <tr>\n",
              "      <th>24</th>\n",
              "      <td>(page_content, puglia sviluppo  \\n \\n \\nUNIONE  EUROPEA  \\nFONDO  EUROPEO  DI SVILUPPO  REGIONALE   \\nMinistero  Sviluppo  Economico   \\nREGIONE  PUGLIA  \\nDIPARTIMENTO  SVILUPPO  ECONOMICO,  \\n  INNOVAZIONE,  ISTRUZIONE,   \\nFORMAZIONE  E LAVORO \\n \\n5 \\n \\nÈ possibile presentare  un programma  di investimenti  che preveda  unicamente  la \\nrealizzazione  di un “impianto  di produzione  di energia  da fonte rinnovabile”.  \\nCon la dizione  “impianti  di produzione  di energia  da fonte rinnovabile,”  si intende  \\nqui riferirsi  alle seguenti  tipologie:  \\n• impianti  ad energia  eolica;  \\n• impianti  ad energia  solare  (tutte  le tecnologie);  \\n• macchine  frigorifere  a fonte geotermica  (refrigeratori  o pompe  di calore)  \\nintegrati  nei processi  produttivi  e/o dedicati  alla climatizzazione  \\nambientale;  \\n• impianti  di produzione  di energia  termica  e/o elettrica  a biomasse  (liquide,  \\nsolide  o gassose).  \\n \\nCon riferimento  all’acquisto  dell’immobile,  del suolo  o di software,  non è \\nammissibile  l’acquisto  da parenti  e affini fino al terzo grado  dei soci, nel caso di \\nsocietà  proponente,  o del titolare,  nel caso di ditta proponente,  nonché  dal \\nconiuge  del titolare  o dei soci”.  L’acquisto  di un immobile,  del suolo  o di software  \\ndi proprietà  di uno o più soci dell’impresa  richiedente  le agevolazioni  medesime  \\no dei relativi  coniugi  ovvero  parenti  o affini dei soci stessi  entro  il terzo grado,  è \\nammissibile  in proporzione  alle quote  di partecipazione  nell’impresa  medesima  \\ndegli altri soci che non hanno  alcun  rapporto  di parentela  e coniugio  suindicato.  \\nNon sono ammissibili  alle agevolazioni  \"gli acquisti  infragruppo,  gli acquisti  da \\nsoci o amministratori  dell’impresa  beneficiaria/proponente,  da coniugi,  parenti  o \\naffini entro  il terzo grado  di uno dei soci o amministratori  dell’impresa  \\nbeneficiaria  anche  nel caso in cui il rapporto  sussista  con un soggetto  che rivesta  \\nil ruolo di amministratore  o socio dell’impresa  fornitrice\".  \\n \\nNon è ammissibile  l'acquisto  di immobili  che siano  stati oggetto  di agevolazione  \\nnei dieci anni precedenti  come  stabilito  dall’articolo  18, comma  1 lettera  c) del \\nD.P.R.  del 5 febbraio  2018,  n. 22 recante  i criteri  sull'ammissibilità  delle spese  \\nper i programmi  cofinanziati  dai Fondi  strutturali  di investimento  europei  (SIE)  \\nper il periodo  di programmazione  2014/2020.  \\n \\nSpese  comunque  non ammissibili : \\na. le spese  notarili  e quelle  relative  a imposte  e tasse;  \\nb. le spese  relative  all’acquisto  di scorte;  \\nc. le spese  relative  all’acquisto  di macchinari  ed attrezzature  usati;  \\nd. i titoli di spesa  regolati  in contanti;  \\ne. le spese  di pura sostituzione;  \\nf. le spese  di funzionamento  in generale;)</td>\n",
              "      <td>(metadata, {'label': 'impianti di produzione di energia da fonte rinnovabile', 'source': 'Aiuti Agli Investimenti delle PMI nel Settore Turistico - Alberghiero (Titolo II capo 6 Reg_ Reg_ 17_2014) _br ___br __.pdf', 'page': 4})</td>\n",
              "      <td>(type, Document)</td>\n",
              "    </tr>\n",
              "    <tr>\n",
              "      <th>25</th>\n",
              "      <td>(page_content, puglia sviluppo  \\n \\n \\nUNIONE  EUROPEA  \\nFONDO  EUROPEO  DI SVILUPPO  REGIONALE   \\nMinistero  Sviluppo  Economico   \\nREGIONE  PUGLIA  \\nDIPARTIMENTO  SVILUPPO  ECONOMICO,  \\n  INNOVAZIONE,  ISTRUZIONE,   \\nFORMAZIONE  E LAVORO \\n \\n6 \\n \\ng. le spese  in leasing  e quelle  relative  ai cosiddetti  contratti  chiavi  in mano;  \\nh. tutte le spese  non capitalizzate;  \\ni. le spese  sostenute  con commesse  interne  di lavorazione,  anche  se \\ncapitalizzate  ed indipendentemente  dal settore  in cui opera  l’impresa;  \\nj. i titolI di spesa  nei quali l’importo  complessivo  dei beni agevolabili  sia \\ninferiore  a 500,00  euro;  \\nk. acquisto  di beni non strettamente  funzionali  e non a uso esclusivo  \\ndell'attività  di Impresa;  \\nl. non sono ammissibili  spese  per l’acquisto  di beni facilmente  deperibili  \\n(biancheria  da tavolo,  da bagno,  da letto, stoviglie,  utensili  per cucina) ; \\nm. acquisto  di mezzi  mobili  targati . \\n \\nQuando  è possibile  avviare  gli investimenti?  \\nSi rammenta  che ciascuna  spesa  deve essere  supportata  da un documento  \\ngiuridicamente  vincolante,  come  ad esempio  un ordine  di acquisto  o un \\npreventivo  controfirmato  per accettazione  che, conformemente  alle disposizioni  \\ndell’Avviso , deve riportare  data successiva  alla data di presentazione  della \\ndomanda  (data  attestata  nell’allegato  D). \\nCon riferimento  all’effetto  di incentivazione  si evidenzia  che: ai sensi dell’art.  2 \\npunto  23 Regolamento  (CE) 651/2014  del 17/06/2014,  per \"avvio  dei lavori\"  si \\nintende:  “la data di inizio dei lavori  di costruzione  relativi  all'investimento  oppure  \\nla data del primo  impegno  giuridicamente  vincolante  ad ordinare  \\nattrezzature  o di qualsiasi  altro impegno  che renda  irreversibile  l'investimento,  \\na seconda  di quale  condizione  si verifichi  prima.  L'acquisto  di terreno  e i lavori  \\npreparatori  quali la richiesta  di permessi  o la realizzazione  di studi di fattibilità  \\nnon sono considerati  come  avvio  dei lavori.  In caso di acquisizioni,  per \"avvio  \\ndei lavori\"  si intende il momento  di acquisizione  degli attivi direttamente  collegati  \\nallo stabilimento  acquisito” . \\nIn presenza  di un atto giuridicamente  vincolante  con data antecedente  alla data \\ndi presentazione  della domanda,  l’intero  programma  di investimenti  è ritenuto  \\ninammissibile.  \\nA titolo esemplificativo,  si riportano  i documenti  che possono  ritenersi  atti \\ngiuridicamente  vincolanti:  \\n• Preventivo  controfirmato  per accettazione;  \\n• Ordine  di acquisto/Contratto  di fornitura/appalto;  \\n• Conferma  d’ordine  (con o senza  il versamento  di un \\nacconto/anticipo/caparra);  \\n• Decreto  di trasferimento  del giudice,  nel caso di acquisto  immobile.)</td>\n",
              "      <td>(metadata, {'label': 'spese', 'source': 'Aiuti Agli Investimenti delle PMI nel Settore Turistico - Alberghiero (Titolo II capo 6 Reg_ Reg_ 17_2014) _br ___br __.pdf', 'page': 5})</td>\n",
              "      <td>(type, Document)</td>\n",
              "    </tr>\n",
              "    <tr>\n",
              "      <th>26</th>\n",
              "      <td>(page_content, puglia sviluppo  \\n \\n \\nUNIONE  EUROPEA  \\nFONDO  EUROPEO  DI SVILUPPO  REGIONALE   \\nMinistero  Sviluppo  Economico   \\nREGIONE  PUGLIA  \\nDIPARTIMENTO  SVILUPPO  ECONOMICO,  \\n  INNOVAZIONE,  ISTRUZIONE,   \\nFORMAZIONE  E LAVORO \\n \\n7 \\n \\nSi precisa,  inoltre,  che nel caso il progetto  di investimenti  preveda  anche  \\nl’acquisto  dell’immobile  ed il soggetto  proponente  fornisca  come  titolo di \\ndisponibilità  dell’immobile  un contratto  preliminare  di compravendita  o una \\nproposta  di acquisto  accettata,  tali documenti  devono  presentare  una condizione  \\nsospensiva  o l’espressa  rinuncia  all’applicazione  delle disposizioni  dell’art.  2932 \\nc.c. da entrambe  le parti. \\n \\nA quanto  ammontano  gli investimenti  e le \\nagevolazioni  del Titolo  II capo  6? \\nL'aiuto  sarà erogato  in forma  di contributo  in conto  Impianti  determinato  sul \\nmontante  degli Interessi  di un finanziamento  concesso  da un Soggetto  \\nFinanziatore.  \\nIl contributo  viene  riconosciuto  in misura  pari all'Interest  Rate Swap  (Euribor  6 \\nmesi versus  tasso  fisso)  denaro,  in euro a 10 anni {10Y/6M),  pubblicato  sul \\nquotidiano  \"Il Sole 24 Ore\" il giorno  della stipula del finanziamento  da parte  del \\nSoggetto  Finanziatore,  maggiorato  di uno spread.  \\n \\nAl momento  la misura  dello spread  è pari al 5% (500 punti base);  tale valore  \\nviene  aggiornato  di anno in anno.  \\n \\nIl contributo  in conto  impianti  calcolato  sul montante  degli interessi  comprenderà  \\nl’eventuale  preammortamento:  \\n• Per una durata  massima  di 12 mesi per i finanziamenti  destinati  \\nall'acquisto  di macchinari  e di attrezzature;   \\n• Per una durata  massima  di 24 mesi per i finanziamenti  destinati  \\nall'ampliamento  dello stabilimento;  \\nQualunque  sia la maggior  durata  del contratto  di finanziamento,  il contributo  in \\nconto  impianti  determinato  sul montante  degli Interessi  sarà calcolato  con \\nriferimento  ad una durata  massima  del finanziamento  (al netto dell’eventuale  \\nperiodo  di preammortamento)  di: \\n• sette anni per i finanziamenti  destinati  alla creazione,  all’ampliamento  \\ne/o all’ammodernamento  dello stabilimento;  \\n• cinque  anni per i finanziamenti  destinati  all’acquisto  di macchinari,  \\nattrezzature,  brevetti  e licenze.  \\nLe agevolazioni  saranno  calcolate,  indipendentemente  dall’ammontare  del \\nprogetto  ammissibile,  su un importo  finanziato  massimo  di:)</td>\n",
              "      <td>(metadata, {'label': 'investimenti e agevolazioni', 'source': 'Aiuti Agli Investimenti delle PMI nel Settore Turistico - Alberghiero (Titolo II capo 6 Reg_ Reg_ 17_2014) _br ___br __.pdf', 'page': 6})</td>\n",
              "      <td>(type, Document)</td>\n",
              "    </tr>\n",
              "    <tr>\n",
              "      <th>27</th>\n",
              "      <td>(page_content, puglia sviluppo  \\n \\n \\nUNIONE  EUROPEA  \\nFONDO  EUROPEO  DI SVILUPPO  REGIONALE   \\nMinistero  Sviluppo  Economico   \\nREGIONE  PUGLIA  \\nDIPARTIMENTO  SVILUPPO  ECONOMICO,  \\n  INNOVAZIONE,  ISTRUZIONE,   \\nFORMAZIONE  E LAVORO \\n \\n8 \\n \\n− 4.000.000  di euro in caso di medie  imprese;  \\n− 2.000.000  di euro in caso di piccole  e micro  imprese.  \\n \\nAlle imprese  può essere  erogato  un contributo  aggiuntivo  in conto  impianti  che \\nnon può essere  superiore  al 30% dell’investimento  e all’importo  massimo  di \\n1.200.000  euro per le medie  imprese  e 35% dell’investimento  e all’importo  \\nmassimo  di 700.000  euro per le piccole  imprese.  \\nLe imprese  in possesso  del rating  di legalità  (articolo  5-ter del decreto  legge  24 \\ngennaio  2012,  n.1, convertito  con modificazioni  della legge  24 maggio  2012,  n. \\n27) beneficiano  di una ulteriore  sovvenzione  diretta  che è pari al 5% dell’importo  \\ndell’investimento  per le piccole  imprese  ed al 2,50%  dell’investimento  per le \\nmedie  imprese,  in entrambi  i casi con un tetto massimo  pari ad euro 100.000,00.  \\nAlla data di invio telematica  della domanda  da parte del Soggetto  Finanziatore,  \\nle imprese  devono  già possedere  il rating  di legalità  o avere  inoltrato  apposita  \\nrichiesta  all’Autorità  Garante  della concorrenza  e del mercato.  \\nPer le imprese  che hanno  conseguito  il rating  di legalità,  l’importo  massimo  del \\ncontributo  aggiuntivo  in conto  impianti  è elevato  a euro 1.300.000  per le medie  \\nimprese  e a euro 800.000  per le piccole . \\nLe imprese  che realizzano  interventi  in opere  murarie  necessari  al recupero  di \\nimmobili  esistenti  e non utilizzati  (come  definiti  al comma  23 del precedente  art. \\n4), ove acquisibili  e restaurabili,  beneficiano  di una ulteriore  sovvenzione  diretta  \\ndel 10%.  Tale 10% di ulteriore  sovvenzione  sarà calcolato  esclusivamente  con \\nriferimento  alle spese  necessarie  all’eventuale  acquisto  e al recupero  dei predetti  \\nimmobili,  così come  definiti  al comma  23 del precedente  art. 4. \\n \\nGli aiuti di cui al presente  Avviso  sono cumulabili:  \\n➢ con gli aiuti al finanziamento  del rischio  di cui al Titolo  III del Regolamento , \\n➢ con gli aiuti de minimis  di cui al Regolamento  Regionale  n. 15 del \\n01/08/2014 . \\n \\nL’intensità  massima  di aiuto è: \\n✓ 35%  Medie  Imprese  \\n✓ 45%  Piccole  Imprese)</td>\n",
              "      <td>(metadata, {'label': 'imprese', 'source': 'Aiuti Agli Investimenti delle PMI nel Settore Turistico - Alberghiero (Titolo II capo 6 Reg_ Reg_ 17_2014) _br ___br __.pdf', 'page': 7})</td>\n",
              "      <td>(type, Document)</td>\n",
              "    </tr>\n",
              "    <tr>\n",
              "      <th>28</th>\n",
              "      <td>(page_content, puglia sviluppo  \\n \\n \\nUNIONE  EUROPEA  \\nFONDO  EUROPEO  DI SVILUPPO  REGIONALE   \\nMinistero  Sviluppo  Economico   \\nREGIONE  PUGLIA  \\nDIPARTIMENTO  SVILUPPO  ECONOMICO,  \\n  INNOVAZIONE,  ISTRUZIONE,   \\nFORMAZIONE  E LAVORO \\n \\n9 \\n \\nIn presenza  di un eventuale  ESL aiuto  di cui al finanziamento  del rischio,  in \\nforma  di garanzia,  controgaranzia  e cogaranzia,  il quale  si somma  all’aiuto  di \\ncui al presente  Avviso  fino a concorrenza  del massimale,  l’ammontare  massimo  \\ndella  sovvenzione  complessiva  viene  aumentato  di 10 punti  percentuali  (45%)  \\nper le medie  imprese  e di 15 punti  percentuali  (60%)  per le piccole  imprese.  \\n \\nCome  presentare  domanda  di agevolazione ? \\nLe domande  possono  essere  inoltrate  unicamente  da un Soggetto  Finanziatore  \\n(Banca  o Confidi  Vigilato)  accreditato  o un Confidi  (iscritto  nell’Elenco  ex art. 112 \\nTUB tenuto  dall’Organismo  Confidi  Minori  oppure  iscritto  nell'albo  unico  di cui \\nall'art.  106 del TUB) in via telematica  attraverso  la procedura  on line “Titolo  II \\ncapo 6” messa  a disposizione  nella pagina  dedicata  all'Avviso  presente  su \\nwww.sistema.puglia.it  (sul sito sistema.puglia  è presente  un utility  con l’elenco  \\ndei soggetti  accreditati) . \\nL’invio  della domanda  di agevolazione  e della documentazione  relativa  sarà \\neffettuato  dal Soggetto  Finanziatore  solo successivamente  alla deliberazione  di \\nconcessione  del finanziamento.   \\nIl Soggetto  Finanziatore  deve deliberare  il finanziamento  bancario  ed inviare  \\ntelematicamente  la domanda  entro  6 mesi dalla data di ricevimento  della stessa  \\nda parte  dell’impresa  proponente,  pena la decadenza  della domanda  di aiuto \\ndell’impresa  e la eliminazione  della posizione  telematica  dalla procedura.  \\nIl Soggetto  Finanziatore  o il Confidi,  al fine di censire  telematicamente  la \\ndomanda  di aiuti nella piattaforma  telematica  (con contestuale  generazione  del \\ncodice  pratica),  deve procedere  obbligatoriamente  alla compilazione  di tutte \\nle informazioni  previste  per la generazione  della domanda  di agevolazione  \\n(Allegato  C), come  da modulo  di domanda  allegato  al presente  Avviso.  Tale \\nallegato  generato  telematicamente,  deve essere  firmato  digitalmente  dal legale  \\nrappresentante  dell’impresa  proponente  o dal libero  professionista.  \\n \\nIl Soggetto  Finanziatore  inserisce  nella procedura  telematica  l’attestazione  della \\npresentazione  domanda  (Allegato  D) sottoscritta  con firma digitale.  \\n \\nA seguito  di presentazione  della domanda  presso  un Soggetto  Finanziatore,  \\nottenuto  il codice  pratica , il Soggetto  Proponente  si deve obbligatoriamente  \\nregistrare  al portale  raggiungibile  nella pagina  dedicata  all'Avviso  presente  su \\nwww.sistema.puglia.it , eseguire  la procedura  di attivazione  profilo  e, \\nsuccessivamente,  accreditarsi  per la specifica  pratica.  Una volta accreditata  \\nl’impresa  potrà  operare  sulla propria  pratica  ed effettuare  l’upload  di tutta la)</td>\n",
              "      <td>(metadata, {'label': 'agevolazione', 'source': 'Aiuti Agli Investimenti delle PMI nel Settore Turistico - Alberghiero (Titolo II capo 6 Reg_ Reg_ 17_2014) _br ___br __.pdf', 'page': 8})</td>\n",
              "      <td>(type, Document)</td>\n",
              "    </tr>\n",
              "    <tr>\n",
              "      <th>29</th>\n",
              "      <td>(page_content, puglia sviluppo  \\n \\n \\nUNIONE  EUROPEA  \\nFONDO  EUROPEO  DI SVILUPPO  REGIONALE   \\nMinistero  Sviluppo  Economico   \\nREGIONE  PUGLIA  \\nDIPARTIMENTO  SVILUPPO  ECONOMICO,  \\n  INNOVAZIONE,  ISTRUZIONE,   \\nFORMAZIONE  E LAVORO \\n \\n10 \\n \\ndocumentazione  utile al completamento  delle verifiche  istruttorie,  \\neventualmente  richiesta da Puglia  Sviluppo  SPA, come  indicato  nel precedente  \\ncomma  7. \\n \\nCome  riceverò  l’agevolazione?  \\nSulla base delle verifiche  effettuate  da parte  di Puglia  Sviluppo , la Regione,  \\nmediante  Determinazione  Dirigenziale,  adotta  il provvedimento  di ammissione  \\nprovvisoria  alle agevolazioni . \\nLa Regione  comunica  ai soggetti  proponenti  l’esito  dell’esame  tramite  pec.  \\nL’impresa  ritenuta  ammissibile,  anche  per il tramite  del Soggetto  Finanziatore  o \\ndel Confidi,  entro  2 mesi dalla documentata  conclusione  dell’investimento,  \\ninoltra  telematicamente  la richiesta  di erogazione  con tutta la documentazione  \\nprevista  dall’art.  13 dell’Avviso.  \\nPuglia  Sviluppo,  ricevuta  la richiesta  di erogazione  del contributo  con tutta la \\ndocumentazione  a corredo,  a seguito  di completamento  degli investimenti  da \\nparte  dell’impresa,  procede  all’istruttoria  tecnica,  accerta  la pertinenza  e \\nl’ammissibilità  delle spese  e, quindi,  l’agevolabilità  dell’iniziativa.   \\nL’attività  istruttoria  si conclude  con l’elabora zione  di una relazione  da sottoporre  \\nalla Regione  Puglia . \\nLa Regione  provvede  periodicamente,  rispettando  l’ordine  cronologico  di \\nricezione  delle domande  da parte  dei Soggetti  Finanziatori,  all’ammissione  \\ndefinitiva  alle agevolazion i delle iniziative  istruite  positivamente,  comunicando  il \\nprovvedimento  ai richiedenti,  ai Soggetti  Finanziatori  ed all’eventuale  Confidi.   \\nLa Regione,  provvede  alla erogazione  in unica  soluzione  all’impresa  del \\ncontributo  in conto  impianti  attualizzato  al medesimo  tasso  con cui è calcolata  \\nl’agevolazione  e di quello  aggiuntivo.  \\n \\nDove  trovo  ulteriori  informazioni?  \\nRegione  Puglia  – Area Politiche  per lo Sviluppo  Economico,  il Lavoro  e \\nl’Innovazione  Corso  Sonnino,  177, 70121  BARI  \\n \\nSiti internet:  www.regione.puglia.it ; www.sistema.puglia.it ; \\nwww.pugliasviluppo.eu.  \\n \\nI moduli  e gli allegati  del presente  Avviso  sono resi disponibili  sul sito \\nwww.sistema.puglia.it . \\n \\nSul sito www. sistema .puglia.it  puoi: \\n➢ scaricare  la normativa  e la modulistica;  \\n➢ verificare  i Codici  Ateco  ammissibili ; \\n➢ formulare  specifiche  domande.)</td>\n",
              "      <td>(metadata, {'label': 'Puglia Sviluppo', 'source': 'Aiuti Agli Investimenti delle PMI nel Settore Turistico - Alberghiero (Titolo II capo 6 Reg_ Reg_ 17_2014) _br ___br __.pdf', 'page': 9})</td>\n",
              "      <td>(type, Document)</td>\n",
              "    </tr>\n",
              "  </tbody>\n",
              "</table>\n",
              "</div>\n",
              "    <div class=\"colab-df-buttons\">\n",
              "\n",
              "  <div class=\"colab-df-container\">\n",
              "    <button class=\"colab-df-convert\" onclick=\"convertToInteractive('df-77ea340d-324c-49bf-b3ac-c79fd0f0bf4a')\"\n",
              "            title=\"Convert this dataframe to an interactive table.\"\n",
              "            style=\"display:none;\">\n",
              "\n",
              "  <svg xmlns=\"http://www.w3.org/2000/svg\" height=\"24px\" viewBox=\"0 -960 960 960\">\n",
              "    <path d=\"M120-120v-720h720v720H120Zm60-500h600v-160H180v160Zm220 220h160v-160H400v160Zm0 220h160v-160H400v160ZM180-400h160v-160H180v160Zm440 0h160v-160H620v160ZM180-180h160v-160H180v160Zm440 0h160v-160H620v160Z\"/>\n",
              "  </svg>\n",
              "    </button>\n",
              "\n",
              "  <style>\n",
              "    .colab-df-container {\n",
              "      display:flex;\n",
              "      gap: 12px;\n",
              "    }\n",
              "\n",
              "    .colab-df-convert {\n",
              "      background-color: #E8F0FE;\n",
              "      border: none;\n",
              "      border-radius: 50%;\n",
              "      cursor: pointer;\n",
              "      display: none;\n",
              "      fill: #1967D2;\n",
              "      height: 32px;\n",
              "      padding: 0 0 0 0;\n",
              "      width: 32px;\n",
              "    }\n",
              "\n",
              "    .colab-df-convert:hover {\n",
              "      background-color: #E2EBFA;\n",
              "      box-shadow: 0px 1px 2px rgba(60, 64, 67, 0.3), 0px 1px 3px 1px rgba(60, 64, 67, 0.15);\n",
              "      fill: #174EA6;\n",
              "    }\n",
              "\n",
              "    .colab-df-buttons div {\n",
              "      margin-bottom: 4px;\n",
              "    }\n",
              "\n",
              "    [theme=dark] .colab-df-convert {\n",
              "      background-color: #3B4455;\n",
              "      fill: #D2E3FC;\n",
              "    }\n",
              "\n",
              "    [theme=dark] .colab-df-convert:hover {\n",
              "      background-color: #434B5C;\n",
              "      box-shadow: 0px 1px 3px 1px rgba(0, 0, 0, 0.15);\n",
              "      filter: drop-shadow(0px 1px 2px rgba(0, 0, 0, 0.3));\n",
              "      fill: #FFFFFF;\n",
              "    }\n",
              "  </style>\n",
              "\n",
              "    <script>\n",
              "      const buttonEl =\n",
              "        document.querySelector('#df-77ea340d-324c-49bf-b3ac-c79fd0f0bf4a button.colab-df-convert');\n",
              "      buttonEl.style.display =\n",
              "        google.colab.kernel.accessAllowed ? 'block' : 'none';\n",
              "\n",
              "      async function convertToInteractive(key) {\n",
              "        const element = document.querySelector('#df-77ea340d-324c-49bf-b3ac-c79fd0f0bf4a');\n",
              "        const dataTable =\n",
              "          await google.colab.kernel.invokeFunction('convertToInteractive',\n",
              "                                                    [key], {});\n",
              "        if (!dataTable) return;\n",
              "\n",
              "        const docLinkHtml = 'Like what you see? Visit the ' +\n",
              "          '<a target=\"_blank\" href=https://colab.research.google.com/notebooks/data_table.ipynb>data table notebook</a>'\n",
              "          + ' to learn more about interactive tables.';\n",
              "        element.innerHTML = '';\n",
              "        dataTable['output_type'] = 'display_data';\n",
              "        await google.colab.output.renderOutput(dataTable, element);\n",
              "        const docLink = document.createElement('div');\n",
              "        docLink.innerHTML = docLinkHtml;\n",
              "        element.appendChild(docLink);\n",
              "      }\n",
              "    </script>\n",
              "  </div>\n",
              "\n",
              "\n",
              "<div id=\"df-1dd86e1d-a0c8-4505-b18d-22fe2b6e8324\">\n",
              "  <button class=\"colab-df-quickchart\" onclick=\"quickchart('df-1dd86e1d-a0c8-4505-b18d-22fe2b6e8324')\"\n",
              "            title=\"Suggest charts\"\n",
              "            style=\"display:none;\">\n",
              "\n",
              "<svg xmlns=\"http://www.w3.org/2000/svg\" height=\"24px\"viewBox=\"0 0 24 24\"\n",
              "     width=\"24px\">\n",
              "    <g>\n",
              "        <path d=\"M19 3H5c-1.1 0-2 .9-2 2v14c0 1.1.9 2 2 2h14c1.1 0 2-.9 2-2V5c0-1.1-.9-2-2-2zM9 17H7v-7h2v7zm4 0h-2V7h2v10zm4 0h-2v-4h2v4z\"/>\n",
              "    </g>\n",
              "</svg>\n",
              "  </button>\n",
              "\n",
              "<style>\n",
              "  .colab-df-quickchart {\n",
              "      --bg-color: #E8F0FE;\n",
              "      --fill-color: #1967D2;\n",
              "      --hover-bg-color: #E2EBFA;\n",
              "      --hover-fill-color: #174EA6;\n",
              "      --disabled-fill-color: #AAA;\n",
              "      --disabled-bg-color: #DDD;\n",
              "  }\n",
              "\n",
              "  [theme=dark] .colab-df-quickchart {\n",
              "      --bg-color: #3B4455;\n",
              "      --fill-color: #D2E3FC;\n",
              "      --hover-bg-color: #434B5C;\n",
              "      --hover-fill-color: #FFFFFF;\n",
              "      --disabled-bg-color: #3B4455;\n",
              "      --disabled-fill-color: #666;\n",
              "  }\n",
              "\n",
              "  .colab-df-quickchart {\n",
              "    background-color: var(--bg-color);\n",
              "    border: none;\n",
              "    border-radius: 50%;\n",
              "    cursor: pointer;\n",
              "    display: none;\n",
              "    fill: var(--fill-color);\n",
              "    height: 32px;\n",
              "    padding: 0;\n",
              "    width: 32px;\n",
              "  }\n",
              "\n",
              "  .colab-df-quickchart:hover {\n",
              "    background-color: var(--hover-bg-color);\n",
              "    box-shadow: 0 1px 2px rgba(60, 64, 67, 0.3), 0 1px 3px 1px rgba(60, 64, 67, 0.15);\n",
              "    fill: var(--button-hover-fill-color);\n",
              "  }\n",
              "\n",
              "  .colab-df-quickchart-complete:disabled,\n",
              "  .colab-df-quickchart-complete:disabled:hover {\n",
              "    background-color: var(--disabled-bg-color);\n",
              "    fill: var(--disabled-fill-color);\n",
              "    box-shadow: none;\n",
              "  }\n",
              "\n",
              "  .colab-df-spinner {\n",
              "    border: 2px solid var(--fill-color);\n",
              "    border-color: transparent;\n",
              "    border-bottom-color: var(--fill-color);\n",
              "    animation:\n",
              "      spin 1s steps(1) infinite;\n",
              "  }\n",
              "\n",
              "  @keyframes spin {\n",
              "    0% {\n",
              "      border-color: transparent;\n",
              "      border-bottom-color: var(--fill-color);\n",
              "      border-left-color: var(--fill-color);\n",
              "    }\n",
              "    20% {\n",
              "      border-color: transparent;\n",
              "      border-left-color: var(--fill-color);\n",
              "      border-top-color: var(--fill-color);\n",
              "    }\n",
              "    30% {\n",
              "      border-color: transparent;\n",
              "      border-left-color: var(--fill-color);\n",
              "      border-top-color: var(--fill-color);\n",
              "      border-right-color: var(--fill-color);\n",
              "    }\n",
              "    40% {\n",
              "      border-color: transparent;\n",
              "      border-right-color: var(--fill-color);\n",
              "      border-top-color: var(--fill-color);\n",
              "    }\n",
              "    60% {\n",
              "      border-color: transparent;\n",
              "      border-right-color: var(--fill-color);\n",
              "    }\n",
              "    80% {\n",
              "      border-color: transparent;\n",
              "      border-right-color: var(--fill-color);\n",
              "      border-bottom-color: var(--fill-color);\n",
              "    }\n",
              "    90% {\n",
              "      border-color: transparent;\n",
              "      border-bottom-color: var(--fill-color);\n",
              "    }\n",
              "  }\n",
              "</style>\n",
              "\n",
              "  <script>\n",
              "    async function quickchart(key) {\n",
              "      const quickchartButtonEl =\n",
              "        document.querySelector('#' + key + ' button');\n",
              "      quickchartButtonEl.disabled = true;  // To prevent multiple clicks.\n",
              "      quickchartButtonEl.classList.add('colab-df-spinner');\n",
              "      try {\n",
              "        const charts = await google.colab.kernel.invokeFunction(\n",
              "            'suggestCharts', [key], {});\n",
              "      } catch (error) {\n",
              "        console.error('Error during call to suggestCharts:', error);\n",
              "      }\n",
              "      quickchartButtonEl.classList.remove('colab-df-spinner');\n",
              "      quickchartButtonEl.classList.add('colab-df-quickchart-complete');\n",
              "    }\n",
              "    (() => {\n",
              "      let quickchartButtonEl =\n",
              "        document.querySelector('#df-1dd86e1d-a0c8-4505-b18d-22fe2b6e8324 button');\n",
              "      quickchartButtonEl.style.display =\n",
              "        google.colab.kernel.accessAllowed ? 'block' : 'none';\n",
              "    })();\n",
              "  </script>\n",
              "</div>\n",
              "    </div>\n",
              "  </div>\n"
            ],
            "text/plain": [
              "                                                                                                                                                                                                                                                                                                                                                                                                                                                                                                                                                                                                                                                                                                                                                                                                                                                                                                                                                                                                                                                                                                                                                                                                                                                                                                                                                                                                                                                                                                                                                                                                                                                                                                                                                                                                                                                                                                                                                                                                                                                                                                                                                                                                                                                                                                                                                                                                                                                                                                                                                                                                                                                                                                                                                                                                                                                                                                                                                                                                                                                                                                                                                                                                                                                                                                                                                                                                                                                                                                                                                                                                                                                                                                                                                                                                                                                                                                                                                             0  \\\n",
              "0   (page_content, 14 ottobre  2021 Pag 1 di 2 Centro Servizi Sistema Puglia  \\nwww.sistema.puglia.it  \\n \\n \\nScheda: Avviso MicroPrestito  della  Regione  Puglia  \\n \\nInformazioni  generali  Titolo  bando  MicroPrestito  della  Regione  Puglia  \\nDescrizione  L’Avviso  è stato  adottato  per far fronte  alle esigenze  delle  imprese  derivanti  dalle  \\nripercussioni  economiche  causate  dall’emergenza  epidemiologia  Covid -19. La \\nmisura vuole garantire la continuità dell’operatività aziendale  e la salvaguardia \\ndell’occupazione.  \\nLe disposizioni  dell’Avviso  sono  conformi  all’approvazione  dell’Aiuto  di Stato  SA. \\n57021 -Italia -Covid19 regime quadro del 21 maggio 2020 da parte della  \\nCommissione  europea  ai sensi dell’art.  108 del TFUE e  s.m.i.  \\nRisultati  attesi  La misura  sostiene  l’accesso  al credito  attraverso  interventi  di micro -finanza  \\nche consistono  in mutui  concessi  a tasso zero  e senza  garanzie.  \\nDestinatari  Il sistema  economico  e produttivo  pugliese.  Chi può  partecipare  Beneficiari  Le microimprese ed i lavoratori autonomi iscritti al registro delle imprese,  con \\nsede operativa  in Puglia  che abbiano  subito  perdite  di fatturato  o incrementi di \\ncosti in conseguenza dell’epidemia Covid -19 e delle relative  misure  di \\ncontenimento,  avendo  avuto  nel periodo  compreso  tra il 1° gennaio  2021  e il 30 \\nsettembre  2021  ricavi  inferiori  ai ricavi  del periodo  dal \\n1° gennaio  2019 al  30 settembre  2019.  \\nLe microimprese devono essere costituite nelle seguenti forme giuridiche:  ditta  \\nindividuale,  società  in nome  collettivo,  società  in accomandita  semplice, società \\ncooperative, società a responsabilità limitata (anche in  forma  unipersonale  e \\nsemplificata).  \\nL’elenco  dei codici  attività  ammissibili  è riportato  nell’Allegato  1 dell’Avviso.  \\nLe imprese,  nell’esercizio  2019,  non devono  aver  generato  \\nricavi /compensi/fatturato  annuali  superiori a  400.000,00  €. \\nSe l’esercizio  2019  si è concluso  con una perdita,  quest’ultima  non deve  essere  \\nstata  superiore  al 20%  del fatturato.  Cosa  \\nfinanzi a Operazioni  finanziabili  Spese  di funzionamento:  costi  derivanti  dalla  gestione  dell’attività  d’impresa  \\nsostenuti (pagati) in data successiva alla partecipazione all’avviso ed entro  12 mesi \\ndalla concessione  delle agevolazioni.  Risorse  economiche  Fonte  delle  risorse  POR  Puglia  2014 -2020  \\nFonte  specifica  Azioni  3.6 e 3.8 del POR  Puglia  2014 -2020.  \\nFondo  Microprestito  della  Regione  Puglia  2014 -2020.  \\nA sportello  / A \\nscadenza  Avviso  a sportello  operativo  sino al 31/12/2021  e, comunque,  sino ad \\nesaurimento  fondi  \\nContributo massimo  \\nper progetto  Il finanziamento erogabile potrà essere compreso tra 5.000 € e 30.000 € in  ragione \\ndel fatturato conseguito nel 2019. I mutui avranno durata massima  pari a 60 mesi \\n(più preammortamento della durata di 12 mesi). Le imprese,  in regola  con la \\nrestituzione  del finanziamento,  ottengono  un contributo  pari al 20%  dell’importo  \\ndello  stesso  finanziamento  sotto  forma  di abbuono  delle  ultime  12 rate.  \\nGli aiuti  sono  cumulabili  con altri eventuali  strumenti  emergenziali  di cui alla \\nComunicazione  della  Commissione  n. 1863/2020  e ss.mm.ii.  \\nRisorse  totali  stanziate  80.000.000  € Come partecipare   \\n \\nModalità di  \\npartecipazione  \\n \\n La domanda di partecipazione potrà essere presentata direttamente  \\ndall’impresa che chiede l’agevolazione, previa iscrizione al portale  Sistema \\nPuglia al seguente indirizzo:  https://microcredito2021.sistema.puglia.it . \\nLa procedura  di partecipazione  è interamente  telematica.  \\nL’impresa  dovrà  essere  in possesso  di firma  digitale  ed essere titolare)   \n",
              "1                                                                                                                                                                                                                                                                                                                                                                                                                                                                                                                                                                                                                                                                                                                                                                                                                                                                                                                                                                                                                                                                                                                                                                                                                                                                                                                                                                                                                                                                                                                                                                                                                                                                                                                                                                                                                                                                                                                                                                                                                                                                                                                                                                                                                                                                                                                                                                                                                                                                                                                                                                                                                                                                                                                                                                                                                                                                                                                                                                                                                                                                                                                                                                                                                                                                                                                                                                                                                                                                                                                                                                                                                                                                                                                                                                                                                                                                (page_content, di conto corrente  business  anche  non dedicato esclusivamente  al progetto.)   \n",
              "2                                                                                                                                                                                                                                                                                                                                                                                                                                                                                                                                                                                                                                                                                                                                                                                                                                                                                                                                                                                                                                                                                                                                                                                                                                                                                                                                   (page_content, 14 ottobre  2021 Pag 2 di 2 Centro Servizi Sistema Puglia  \\nwww.sistema.puglia.it  \\n \\n \\n  Avviso  operativo  sino al 31/12/2021  salvo  esaurimento  fondi.  \\nPer la presentazione della domanda di agevolazione devono essere  \\nprodotti  i seguenti documenti:  \\n· Domanda  di agevolazione  firmata  digitalmente.  \\n· Dichiarazione  di consenso  al trattamento  dei dati personali.  \\n· Dichiarazione sostitutiva di atto notorio (utilizzando la modulistica  \\npresente  sulla  piattaforma)  attestante  il possesso  dei requisiti  \\nprevisti  dall’Avviso.  \\n· Dichiarazione sostitutiva di atto notorio attestante il rispetto degli  \\nobblighi  contributivi.  \\n· documentazione fiscale dell’esercizio 2019 (bilancio d’esercizio  \\ndepositato  o UNICO presentato  all’Agenzia  delle  Entrate);  \\n· documentazione  attestante  i minori  ricavi  dei primi  9 mesi  del 2021  \\nrispetto  al medesimo  periodo  del 2019;  \\n· Estratto  conto  corrente  aziendale  dell’ultimo trimestre.  \\nModulistica  e allegati  Cfr. Allegati  \\nData  di apertura  21/10/2021  \\nData  di chiusura  31/12/2021  salvo  esaurimento  fondi  \\n Sezione  Sezione  Competitività  dei Sistemi  Produttivi  \\nResponsabile  di \\nProcedimento  Lorenzo  Minnielli  c/o Puglia  Sviluppo  S.p.A.  \\ninfo@pugliasviluppo.regione.puglia.it  \\nResponsabile di  \\nAzione  Giuseppe  Pastore  c/o Sezione  Competitività,  Dipartimento  Sviluppo  \\nEconomico  della  Regione  Puglia  \\ncompetitivita.regione@pec.rupar.puglia.it  \\nAltri  eventuali  contatti  I contatti sono disponibili al seguente indirizzo:  \\nhttps://regione.puglia.it/web/guest/bandi -e-avvisi  \\nNumero  Verde  per info 800990064  \\nSito web  Per consultazione dell’Avviso e della modulistica  \\nhttps://regione.puglia.it/web/guest/bandi -e-avvisi  Per la \\npresentazione della domanda di agevolazione  \\nhttps://microcredito2021.sistema.puglia.it . \\nSi consiglia vivamente di accedere alla compilazione della domanda  \\nesclusivamente quando si è in possesso della firma digitale per la  \\nsottoscrizione dei documenti,  nonché  di tutti  i dati e della  \\ndocumentazione richiesti dall’Avviso e dalla relativa modulistica. Si  \\nricorda  che l’invio  di domande incomplete  genera  ritardi  \\nnell’erogazione del  finanziamento.  Documen  ti Avviso  pubblico  Cfr. Allegato  \\nDeterminazione  di \\napprovazione  Determina  del Direttore  Generale  di Puglia  Sviluppo n.  39 dell’8/10/2021  \\nBURP  Bollettino  Ufficiale  della  Regione  Puglia  del 21 ottobre  2021)   \n",
              "3                                                                                                                                                                                                                                                                                                                                                                                                                                                                                                                                                                                                                                                                                                                                                                                                                                                                                                                                                                                                                                                                                                                                                                                                                                                                                                                                                                                                                                                                                                                                                                                                              (page_content, Puglia sviluppo  \\nUNIONE  EUROPEA  \\nFONDO  EUROPEO  DI SVILUPPO  REGIONALE  REGIONE  PUGLIA  \\nDIPARTIMENTO  SVILUPPO  ECONOMICO,  \\nINNOVAZIONE,  ISTRUZIONE,  \\nFORMAZIONE  E LAVORO  Ministero  Sviluppo  Economico  \\n1  \\n  \\n \\nNIDI  – Nuove  iniziative d’impresa  \\nStrumento  di ingegneria  finanziaria  \\n \\nAvviso  a sportello  \\nL’iniziativa  viene  attuata  da Puglia  Sviluppo  S.p.A. – società  interamente  \\npartecipata  dalla Regione  Puglia  – con il sostegno  dell’Unione  Europea,  \\nattraverso il Programma  Operativo FESR -FSE 2014 – 2020.  \\nCosa  trovo  in questa  scheda?  \\nQuesta  scheda  contiene  alcune  informazioni  su NIDI strumento  di politica  attiva  \\ndel lavoro della Regione  Puglia  che sostiene  le scelte  di autoimpiego  ed \\nautoimprenditorialità  da parte  delle donne,  dei disoccupati,  dei precari,  di chi sta \\nper perdere il  posto  di lavoro,  dei giovani.  \\nL’obiettivo  di questa  scheda  è fornire  un primo  orientamento  su questa  \\nopportunità  per coloro che intendono  accedere  ai finanziamenti del Fondo  messi  \\na disposizione dalla Regione  Puglia.  \\nNidi offre un aiuto per l'avvio di una nuova impresa con un contributo a fondo  \\nperduto  e un prestito  rimborsabile  sulle spese  per investimenti. È anche  previsto  \\nun ulteriore contributo a fondo perduto per le spese di gestione sostenute nei  \\nprimi mesi di attività. \\nLa dotazione  della misura  è pari a 35.000.000 euro. \\nChi può richiedere l’agevolazione?  \\nPuò richiedere  l'agevolazione: \\n• chi intende  avviare  una nuova  attività  e non ha ancora  costituito  \\nl’impresa;  \\n• le imprese costituite da meno di 6 mesi ; \\n• le imprese,  pur se costituite  da più di 6 mesi, che si configurino  come:  \\n passaggio  generazionale;  \\n rilevamento  di impresa  in crisi o di impresa  confiscata da parte  dei \\ndipendenti;  \\n cooperative  sociali  assegnatarie  di beni immobili  confiscati;  \\n beneficiarie  della misura  “PIN – Pugliesi Innovativi . \\n \\nLe Nuove Iniziative d’Impresa dovranno ricadere in una delle seguenti \\nfattispecie : \\n- Compagini Giovanili, da costituirsi in forma di società, partecipate \\ninteramente da giovani  con età compresa tra i 18 e i 35 anni alla data della)   \n",
              "4                                                                                                                                                                                                                                                                                                                                                                                                                                                                                                                                                                                                                                                                                                                                                                                                                                                                                                                                                                                                                                                                                                                                                                                                                                                                                            (page_content, Puglia sviluppo  \\nUNIONE  EUROPEA  \\nFONDO  EUROPEO  DI SVILUPPO  REGIONALE  REGIONE  PUGLIA  \\nDIPARTIMENTO  SVILUPPO  ECONOMICO,  \\nINNOVAZIONE,  ISTRUZIONE,  \\nFORMAZIONE  E LAVORO  Ministero  Sviluppo  Economico  \\n2  \\n domanda preliminare e composte per almeno il 50%, sia del capitale sia \\ndel numero di soci, da soggetti che non siano : dipendenti di altre imprese \\ncon contratto a tempo indeterminato superiore alle 20 ore settimanali , \\npensionati, titolari o amministratori di altra impresa;  \\n• Imprese Femminili , sia in forma di impresa individuale che di società, \\npartecipate interamente da donne  di età superiore a 18 anni e composte \\nper almeno il 50%, sia del capitale sia del numero di soci, da soggetti che non siano: dipendenti di altre imprese con contratto a tempo indeterminato \\nilsuperiore alle 20 ore settimanali , pensionati, titolari o amministratori di \\naltra impresa;  \\n• Nuove Imprese, partecipate per almeno il 50% , sia del capitale sia del \\nnumero di soci, da soggetti svantaggiati  appartenenti, alla data di \\npresentazione della domanda preliminare di cui al successivo Art. 10, ad  \\nalmeno una delle seguenti categorie:  \\na. giovani con età tra 18 anni e 35 anni;  \\nb. donne di età superiore a 18 anni;  \\nc. soggetti che non abbiano avuto rapporti di lavoro subordinato nell’ultimo mese; \\nd. persone in procinto di perdere un posto di lavoro ; \\ne. i titolari di partita IVA non iscritti al registro delle imprese che, nei 12 \\nmesi antecedenti la presentazione della domanda telematica \\npreliminare, abbiano emesso fatture per un imponibile inferiore a \\n15.000 Euro;  \\nf. i soci lavoratori e gli amministratori di cooperative s ociali assegnatarie \\ndi beni immobili confiscati;  \\ng. i soci e amministratori delle imprese, costituite in forma di società, che \\nabbiano firmato l’atto di impegno e regolamentazione dei rapporti \\nnell’ambito del progetto finanziato dall’Avviso pubblico “PIN –  Pugliesi \\nInnovativi ”. \\n• Imprese Turistiche  in possesso dei medesimi requisiti previsti per le \\nNuove Imprese . \\n \\nQuali  attività  posso  realizzare  con l’aiuto di NIDI? \\nÈ possibile  avviare  una nuova  impresa  nei seguenti  settori:  \\n• manifatturiero, \\n• costruzioni  ed edilizia, \\n• riparazione  di autoveicoli e motocicli,  \\n• affittacamere  e bed & breakfast,  \\n• ristorazione  con e senza cucina,  \\n• servizi di informazione  e comunicazione,  \\n• attività  professionali,  scientifiche  e tecniche,  \\n• agenzie  di viaggio,  \\n• servizi di supporto  alle imprese,)   \n",
              "5                                                                                                                                                                                                                                                                                                                                                                                                                                                                                                                                                                                                                                                                                                                                                                                                                                                                                                                                                                                                                                                                                                                                (page_content, Puglia sviluppo  \\nUNIONE  EUROPEA  \\nFONDO  EUROPEO  DI SVILUPPO  REGIONALE  REGIONE  PUGLIA  \\nDIPARTIMENTO  SVILUPPO  ECONOMICO,  \\nINNOVAZIONE,  ISTRUZIONE,  \\nFORMAZIONE  E LAVORO  Ministero  Sviluppo  Economico  \\n3  \\n • istruzione,  \\n• sanità  e assistenza sociale  non residenziale,  \\n• attività  artistiche, sportive, di intrattenimento  e divertimento  (sono  \\nescluse  le attività  delle lotterie, scommesse e  case da gioco), \\n• attività di servizi  per la persona,  \\n• commercio  elettronico. \\nPer le sole imprese confiscate  sono ammissibili  i settori  del commercio.  \\nSul portale  www.sistema.puglia.it  è possibile  consultare  l’elenco  dei codici  \\nATECO  ammissibili . \\n \\nQuali  sono  le spese ammissibili?  \\nLe spese  di investimento  che è possibile  finanziare  sono:  \\n• macchinari di produzione, impianti, attrezzature varie e automezzi di tipo  \\ncommerciale;  \\n• programmi  informatici  non personalizzati;  \\n• opere edili e assimilate . \\nPer le sole Compagini Giovanili  e le Imprese Femminili  sono inoltre ammissibili:  \\n• sviluppo di piattaforme B2B e B2C, sistemi di e -commerce proprieta ri e \\napp mobile, nella misura massi ma di € 5.000.  \\nLe Imprese Turistiche  devono realizzare investimenti in almeno due delle \\nseguenti ulteriori tipologie di investimento sostenibile e innovativo:  \\n• strumenti tecnologici connessi all’attività e finalizzati all’innovazione dei \\nprocessi organizzativi e dei servizi per gli ospiti;  \\n• sviluppo di piattaforme e app mobile, anche per la gestione di sistemi di \\nprenotazione elettronica, nella misura massima di € 5.000; \\n• interventi per migliorare l’accessibilità della struttura alle persone con disabilità;  \\n• mezzi di locomozione sostenibile destinati agli ospiti.  \\nPer le Imprese Turistiche , le spese per opere edili e di ristrutturazione (che \\ncomprendono anche gli infissi, gli impianti elettrici, termo -idraulici, di \\ncondizionamento e climatizzazione centralizzati, telefonici e telematici, di \\nproduzione di energia,  piscine, strutture prefabbricate e amovibili e spese di \\nsistemazione del suolo) sono complessivamente ammissibili entro il limite del \\n20% dell’importo dell’investimento ammissibile in altri attivi.  \\nLe spese  di gestione  che è possibile  finanziare  sono:  \\n• materie  prime,  semilavorati, materiali di consumo;  \\n• locazione  di immobili  o affitto  apparecchiature  di produzione;  \\n• utenze:  energia,  acqua,  riscaldamento,  telefoniche  e connettività;  \\n• premi  per polizze  assicurative;  \\n• canoni ed abbonamenti per l’accesso a banche dati, per servizi software,  \\nservizi “cloud”,  servizi informativi, housing,  registrazione  di domini)   \n",
              "6                                                                                                                                                                                                                                                                                                                                                                                                                                                                                                                                                                                                                                                                                                                                                                                                                                                                                                                                                                                                                                                                                                                                                                                                                                                                                                                                                                                                                                                                                                                                                                                                                                                                                  (page_content, Puglia sviluppo  \\nUNIONE  EUROPEA  \\nFONDO  EUROPEO  DI SVILUPPO  REGIONALE  REGIONE  PUGLIA  \\nDIPARTIMENTO  SVILUPPO  ECONOMICO,  \\nINNOVAZIONE,  ISTRUZIONE,  \\nFORMAZIONE  E LAVORO  Ministero  Sviluppo  Economico  \\n4  \\n Internet, servizi di posizionamento sui motori di ricerca, acquisto di spazi  \\nper campagne  di Web Marketing; servizi di personalizzazione  di siti \\nInternet acquisiti da impresa operante nel settore della produzione di  \\nsoftware,  consulenza  informatica  e attività  connesse ; \\n•  spese per l’acquisto di dispositivi di protezione individuale e collettiva . \\n \\nA quanto ammontano gli investimenti e le \\nagevolazioni  di NIDI?  \\nA. \\nPer \\n le nuove attività  \\ne \\n le imprese  già esistenti  perché beneficiarie  della  misura  “PIN  – \\nPugliesi Innovativi” , \\nl’investimento  proposto può avere  un valore  compreso  tra 10mila  e 150mila  \\neuro. \\n \\nL’agevolazione, somma  di sovvenzione  (fondo  perduto)  e mutuo  agevolato, varia \\nal crescere  del valore  dell’investimento.  \\nAgevolazione  pari al 100%  \\nper investimenti compresi  tra 10mila  e 50mila  euro. \\nAgevolazione  pari al 90%  (100% per le sole imprese femminili)  \\nper investimenti compresi  tra 50mila  e 100mila  euro. \\nAgevolazione  pari al 80%  \\nper investimenti compresi  tra 100mila e 150mila  euro. \\n \\nL’agevolazion e è costituita da:  \\n• un contributo a fondo perduto pari al 50% del totale degli investimenti agevolati;  \\n• un prestito rimborsabile pari al 50% del totale degli investimenti agevolati (ridotto al 25% per Compagini Giovanili  ed Imprese Femminili ); \\n• per Compagini Giovanili  ed Imprese Femminili  un aiuto nella forma \\ndell’assistenza rimborsabile pari al 25% del totale degli investimenti agevolati.  \\n \\nLe spese di gestione vengono agevolate al 100% sino ad un massimo di 10mila  \\neuro. Tale importo  massimo vale  per ogni progetto.  Per le Compagini Giovanili e \\nle Imprese Femminili  è previsto un contributo aggiuntivo pari ad € 5.000,00 per \\nspese in servizi informatici.  \\n \\nSi riporta no di seguito tabella con l’esemplificazione delle agevolazioni concedibili \\nper alcune tipologie di investimento:)   \n",
              "7                                                                                                                                                                                                                                                                                                                                                                                                                                                                                                                                                                                                                                                                                                                                                                                                                                                                                                                                                                                                                                                                                                                                                                                                                                                                                                                                                                                                                                                                                                                                                                                        (page_content, Puglia sviluppo  \\nUNIONE  EUROPEA  \\nFONDO  EUROPEO  DI SVILUPPO  REGIONALE  REGIONE  PUGLIA  \\nDIPARTIMENTO  SVILUPPO  ECONOMICO,  \\nINNOVAZIONE,  ISTRUZIONE,  \\nFORMAZIONE  E LAVORO  Ministero  Sviluppo  Economico  \\n5  \\n INVESTIMENTI  \\nAMMISSIBILI  Nuove imprese e Imprese Turistiche  \\n% \\nagevolazione  Contributo  \\nfondo \\nperduto  Prestito \\nrimborsabile  \\n€ 20.000  100%  € 10.000  € 10.000  \\n€ 50.000  100%  € 25.000  € 25.000  \\n€ 80.000  90% € 36.000  € 36.000  \\n€ 100.000  90% € 45.000  € 45.000  \\n€ 120.000  80% € 48.000  € 48.000  \\n€ 150.000  80% € 60.000  € 60.000  \\n \\nINVESTIMENTI  \\nAMMISSIBILI  Compagini giovanili  \\n% \\nagevolazione  Contributo  \\nfondo perduto  Assistenza \\nrimborsabile  Prestito \\nrimborsabile  \\n€ 20.000  100%  € 10.000  € 5.000  € 5.000  \\n€ 50.000  100%  € 25.000  € 12.500  € 12.500  \\n \\nINVESTIMENTI  \\nAMMISSIBILI  Imprese Femminili  \\n% \\nagevolazione  Contributo  \\nfondo perduto  Assistenza \\nrimborsabile  Prestito \\nrimborsabile  \\n€ 20.000  100%  € 10.000  € 5.000  € 5.000  \\n€ 50.000  100%  € 25.000  € 12.500  € 12.500  \\n€ 80.000  100%  € 40.000  € 20.000  € 20.000  \\n€ 100.000  100%  € 50.000  € 25.000  € 25.000  \\n \\nB. \\nPer le iniziative  in continuità  con imprese pre-esistenti  quali:  \\n passaggio  generazionale,  \\n rilevamento  di impresa  in crisi, \\n rilevamento  di impresa  confiscata,  \\n cooperative  sociali  assegnatarie  di beni immobili  confiscati,  \\nè possibile  prevedere programmi  di investimento fino  ad € 250.000,00.  \\n \\nL’agevolazione, somma  di sovvenzione  (fondo  perduto)  e mutuo  agevolato, varia \\nal crescere del  valore dell’investimento.  \\nAgevolazione  pari al 100%  \\nper investimenti compresi  tra 10mila  e 50mila  euro. \\nAgevolazione  pari al 90%  \\nper investimenti compresi  tra 50mila  e 100mila  euro. \\nAgevolazione  pari al 80%  \\nper investimenti compresi  tra 100mila  e 250mila  euro. \\n \\nLe spese di gestione vengono agevolate al 100% sino ad un massimo di 20mila  \\neuro. Tale importo  massimo vale  per ogni progetto.  \\n \\nPer tutte le iniziative agevolate, il prestito rimborsabile è erogato nella forma di  \\nmutuo  della durata  di 60 mesi (84 mesi per mutui  superiori  ad €60.000,00),  con \\ntasso fisso pari a 0,00%.)   \n",
              "8                                                                                                                                                                                                                                                                                                                                                                                                                                                                                                                                                                                                                                                                                                                                                                         (page_content, Puglia sviluppo  \\nUNIONE  EUROPEA  \\nFONDO  EUROPEO  DI SVILUPPO  REGIONALE  REGIONE  PUGLIA  \\nDIPARTIMENTO  SVILUPPO  ECONOMICO,  \\nINNOVAZIONE,  ISTRUZIONE,  \\nFORMAZIONE  E LAVORO  Ministero  Sviluppo  Economico  \\n6  \\n Per le compagini giovanili  e le imprese femminili , il prestito sarà pari al 25% \\ndel totale degli investimenti agevolati e il restante 25% sarà costituito da \\nun’aiuto nella forma dell’assistenza rimborsabile. Ai beneficiari che saranno in \\nregola con la restituzione delle rate del piano di ammortamento prima della \\nscadenza della 31a rata e che avranno adempiuto alla corretta dimostrazione \\ndi spesa sarà riconosciuta una premialità di importo pari alla somma delle 30 \\nrate dell’assistenza rimborsabile. Tale premialità, pari al 25% dell’importo \\nagevolato, sarà concessa mediante l’integrale abbuono delle 30 rate restanti.   \\n \\nCome presentare  domanda  di agevolazione?  \\nBisogna  iscriversi  (gratuitamente) sul portale  www.sistema.puglia.it.  \\nIl portale prevede una sezione dedicata a NIDI che deve essere utilizzata per  \\ncompilare la domanda preliminare che descrive le caratteristiche tecniche ed  \\neconomiche del progetto, i profili dei soggetti proponenti, l’ammontare e le  \\ncaratteristiche  degli investimenti  e delle spese  previste. \\nNella fase preliminare  non è previsto  l’invio  di alcun  documento  cartaceo  né l’uso \\ndella PEC. La domanda  preliminare  non è un’istanza  di accesso  alle agevolazioni  \\ndel Fondo. Quest’ultima è formalizzata e sottoscritta durante un colloquio di  \\ntutoraggio  presso Puglia Sviluppo S.p.A.  \\nIl colloquio  di tutoraggio  presso  Puglia Sviluppo  ha, infatti, le finalità  di: \\n- valutare  la fattibilità  del progetto  rispetto  alle competenze  maturate  \\ndall’impresa  e alle prospettive  di mercato;  \\n- assistere  i proponenti  nella definizione  del programma  di investimenti al fine \\ndi pervenire  alla formulazione  della definitiva  istanza  di agevolazione. \\nAl termine  del colloquio  è rilasciata  ai proponenti  copia del verbale  e dell’istanza  \\ndi agevolazione.  \\n \\nCome  viene  concessa  l’agevolazione?  \\nAlla conclusione  dell’iter  istruttorio  Puglia  Sviluppo  adotta  il provvedimento  di \\nconcessione  delle agevolazioni ovvero  di inammissibilità.  \\nLe imprese ammesse sono convocate, presso la sede di Puglia Sviluppo, per un  \\nincontro  finalizzato  alla sottoscrizione  del contratto  di agevolazione  e per \\npartecipare ad una sessione di assistenza tecnica finalizzata ad illustrare le  \\nmodalità di realizzazione e rendic ontazione delle spese finanziate e di rimborso  \\ndella quota di finanziamento. Durante tale sessione di assistenza tecnica Puglia  \\nSviluppo consegna a ciascun beneficiario una guida sintetica per la corretta  \\ngestione dell’intero iter agevolativo. Durante l’in contro le imprese formalizzano  \\nla richiesta di erogazione della prima quota del mutuo agevolato . Segue la  \\nrealizzazione  dell’investimento  e l’ottenimento  di altre 2 quote  dell’agevolazione.)   \n",
              "9                                                                                                                                                                                                                                                                                                                                                                                                                                                                                                                                                                                                                                                                                                                                                                                                                                                                                                                                                                                                                                                                                                                                                                                                                                                                                                                                                                                                                                                                                                                                                                                                                                                                                                                                                                                                                                                                                                                                                                                                                                                                                                                                                                                                                    (page_content, Puglia sviluppo  \\nUNIONE  EUROPEA  \\nFONDO  EUROPEO  DI SVILUPPO  REGIONALE  REGIONE  PUGLIA  \\nDIPARTIMENTO  SVILUPPO  ECONOMICO,  \\nINNOVAZIONE,  ISTRUZIONE,  \\nFORMAZIONE  E LAVORO  Ministero  Sviluppo  Economico  \\n7  \\n Una volta concluso  l’investimento,  ottenute  tutte le quote  della relativa  \\nagevolazione, dimostrato  di aver pagato  i fornitori,  si ottiene  anche  il contributo  \\nper le spese di  gestione.  \\n \\nDove trovo ulteriori  informazioni? \\nSul sito www.sistema.puglia.it/nidi è possibile: \\n- scaricare  la normativa  e la modulistica;  \\n- verificare  il possesso  dei requisiti mediante  un breve  questionario;  \\n- leggere  le informazioni  di dettaglio;  \\n- formulare  specifiche  domande,  accedere  al forum  informativo; \\n- accedere ad una mappa interattiva per individuare gli sportelli informativi e di  \\nsupporto;  \\n- compilare  ed inviare  la domanda  preliminare.  \\n \\nPer accedere alle informazioni e per presentare la domanda preliminare di  \\nagevolazione, sono disponibili sul territorio sportelli gratuiti informativi e di \\nsupporto.  \\nGli sportelli  supportano  il proponente  nella verifica  dei requisiti per presentare  la \\ndomanda, informano sul funzionamento della misura agevolativa e rilasciano  \\nmateriale informativo. Alcuni sportelli, mettono a disposizione un computer e  \\nuna persona che assiste nella compilazione della domanda, fornendo supporto  \\nper determinare il valore dell’investimento da chiedere e per tutte le altre  \\ninformazioni  necessarie alla compilazione della  domanda.  \\n \\nSiti internet:  \\nwww.regione.puglia.it  \\nwww.sistema.puglia.it  \\nwww.pugliasviluppo.eu.)   \n",
              "10                                                                                                                                                                                                                                                                                                                                                                                                                                                                                                                                                                                                                                                                                                                                                                                                                                                                                                                                                                                                                                                                                                                                                                                                                                                                                                                                                                                                                                                                                                                                                                  (page_content, puglia sviluppo  \\n \\n \\nUNIONE  EUROPEA  \\nFONDO  EUROPEO  DI SVILUPPO  REGIONALE   \\nMinistero  Sviluppo  Economico   \\nREGIONE  PUGLIA  \\nDIPARTIMENTO  SVILUPPO  ECONOMICO,  \\n  INNOVAZIONE,  ISTRUZIONE,   \\nFORMAZIONE  E LAVORO \\n \\n1 \\n \\nAiuti  agli Investimenti  delle  Piccole  e \\nMedie  Imprese  (Titolo  II Capo  3 Reg. \\nRegionale  17/2014)  \\n \\nAvviso  a sportello  a partire  dal 22/01/2015  \\nLa gestione  del presente  strumento  è di competenza  della Regione  Puglia  che, \\nad eccezione  della fase di erogazione  dei contributi,  procederà  all’attuazione  \\nmediante  Puglia  Sviluppo  SpA, in qualità  di Soggetto  Intermediario.   \\n \\nCosa  trovo  in questa  scheda?  \\nQuesta  scheda  contiene  alcune  informazioni  sullo strumento  finanziario  “Aiuti  \\nAgli Investimenti  delle piccole  e medie  imprese”  rivolto  ad imprese  di piccola  e \\nmedia  dimensione  che intendano  realizzare  un investimento  nel territorio  della \\nRegione  Puglia.  \\nL’obiettivo  di questa  scheda  è fornire  un primo  orientamento  su questa  \\nopportunità.  \\nNota bene:  le informazioni  presenti  in questa  scheda  sono puramente  indicative  \\ne potrebbero  subire  variazioni.  Invitiamo  tutte le persone  interessate  a prendere  \\nvisione  del bando  pubblicato  sul Bollettino  Ufficiale  della Regione  Puglia  del \\n31/12/2014  n. 177 e successive  modifiche  e integrazioni  e sul sito \\nwww.sistema.puglia.it/titoloIIcapo3 . \\n \\nChi può richiedere  l’agevolazione?  \\nPuò richiedere  l’agevolazione:  \\n1. microimprese  (impresa  che occupa  meno  di 10 persone,  realizza  un \\nfatturato  annuo  o un totale  di bilancio  annuo  non superiori  a 2 milioni  di \\neuro);  \\n2. imprese  di piccole  dimensioni  (impresa  che occupa  meno  di 50 persone  e \\nrealizza  un fatturato  annuo  o un totale  di bilancio  non superiori  a 10 milioni  \\ndi euro);  \\n3. imprese  di medie  dimensioni:  che occupa  meno  di 250 persone,  realizza  \\nun fatturato  annuo  non superiore  a 50 milioni  di euro oppure  il totale  di \\nbilancio  annuo  non supera  i 43 milioni  di euro.  \\n4. liberi professionisti,  in quanto  equiparati  alle piccole  e medie  imprese  come  \\nesercenti  attività  economica,  secondo  l’art. 12, legge  22 maggio  2017,  n. \\n81.)   \n",
              "11                                                                                                                                                                                                                                                                                                                                                                                                                                                                                                                                                                                                                                                                                                                                                                                                                                                                                                                                                                                                                                                                                                                                                                                                                                                                                                                                                                                                                           (page_content, puglia sviluppo  \\n \\n \\nUNIONE  EUROPEA  \\nFONDO  EUROPEO  DI SVILUPPO  REGIONALE   \\nMinistero  Sviluppo  Economico   \\nREGIONE  PUGLIA  \\nDIPARTIMENTO  SVILUPPO  ECONOMICO,  \\n  INNOVAZIONE,  ISTRUZIONE,   \\nFORMAZIONE  E LAVORO \\n \\n2 \\n \\nQuali  attività  posso  realizzare  con l’aiuto  del Titolo  \\nII capo  3? \\nCon il Titolo  II capo 3 si possono  realizzare  investimenti  in unità locali \\nubicate/da  ubicare  nel territorio  della Regione  Puglia  e riguardanti  Progetti  \\ndi investimento  di importo  non inferiori  a € 30.000,00  per: \\n• la creazione  di una nuova  unità produttiva;  \\n• l’ampliamento  di una unità produttiva  esistente;  \\n• diversificazione  della produzione  di uno stabilimento  esistente  per \\nottenere  prodotti  mai fabbricati  precedentemente ; \\n• il cambiamento  fondamentale  del processo  di produzione  complessivo  \\ndi un’unità  produttiva  esistente  \\nSono ammissibili  gli investimenti  riguardanti:  \\na. imprese  artigiane,  costituite  anche  in forma  coopera tiva o consortile, \\niscritte negli albi di cui alla legge  443/85  (legge quadro sull’artigianato);  \\nb. impres e che realizzano  programm i di investimento nel settore del \\ncommercio:  \\no eserci zi commerci ali di vendita al dettaglio ed all’ingrosso  classificati \\nesercizi di vicinato  (esercizi  con superficie  di vendita  non superiore  a 250 \\nmq); \\no esercizi  commerci ali di vendita al dettaglio ed all’ingrosso classi ficati \\nM1. Medie strutture  di livello  locale con superf icie di vendita  da 251 a \\n600 mq (LR n. 11/200 3); \\no esercizi  commerci ali di vendita al dettaglio ed all’ingrosso classi ficati \\nM2. Medie strutture  di livello  locale con superf icie di vendita  da 601 a \\n1.500 mq (LR n. 11/200 3); \\no esercizi  commerciali  di vendita  al dettaglio  ed all’ingrosso  classificati  M3. \\nmedie  strutture  attrattive  con superficie  di vendita  da 1501 a 2500 mq \\n(LR n. 11/200 3); \\no servizi  di ristorazione  di cui al gruppo  “56” della “Classificazione delle \\nAttività economiche  ATECO  2007”, ad eccezione  delle categorie  “56.10.4”  \\ne “56.10.5”;  \\no attività di commerc io elettron ico; per comm ercio elettronico si intende  \\nl’attività commerciale  - ovvero  quella  di acquisto  di merci  in nome  e \\nper conto  proprio  e la loro rivendita – svolta tramite la rete internet, \\nmedia nte l’utilizzo di un portale o sito web (e-commerce).)   \n",
              "12                                                                                                                                                                                                                                                                                                                                                                                                                                                                                                                                                                                                                                                                                                                                                                                                                                                                                                                                                                                                                                                                                                     (page_content, puglia sviluppo  \\n \\n \\nUNIONE  EUROPEA  \\nFONDO  EUROPEO  DI SVILUPPO  REGIONALE   \\nMinistero  Sviluppo  Economico   \\nREGIONE  PUGLIA  \\nDIPARTIMENTO  SVILUPPO  ECONOMICO,  \\n  INNOVAZIONE,  ISTRUZIONE,   \\nFORMAZIONE  E LAVORO \\n \\n3 \\n \\nc. imprese  che realizzano  investimenti  in alcune  attività  economiche  delle \\nseguenti  divisioni  della “Classificazione  delle Attività  economiche  ATECO  \\n2007:  \\no sezione  “C”: imprese,  non iscritte  negli albi di cui alla legge  443/85,  \\nche realizzano  investimenti  riguardanti  il settore  delle attività  \\nmanifatturiere;  \\no sezione  “E”: settore  fornitura  di acqua,  reti fognarie,  attività  di \\ntrattamento  dei rifiuti e risanamento;  \\no sezione  “F”: settore  delle costruzioni;  \\no sezione  “J”: settore  dei servizi  di comunicazione  ed informazione ; \\no sezione  “Q”: sanità  e assistenza  sociale;  \\no sezione  “R”: settore  Attività  artistiche,  di intrattenimento  e divertimento . \\nd. Liberi  professionisti  che svolgono  le attività  disciplinate  da apposite  leggi \\nprofessionali  o quelle  regolamentate  dalla legge  n. 4 del 14 gennaio  2013 \\n(“disposizioni  in materia  di professioni  non organizzate”),  che realizzano  \\nattività  in uno dei settori  previsti  di cui all’allegato  1. \\n \\nL’elenco  dei codici  Ateco  e delle  attività  ammissibili  è allegato  all’Avviso  \\n(Allegato  1). \\n \\nQuali  sono  le spese  ammissibili?  \\nSono  ammissibili  le spese  per: \\na. acquisto  del suolo  aziendale  e sue sistemazioni  entro  il limite  del 5% \\ndell'importo  dell'investimento  in attivi materiali;  \\nb. spese  per opere  murarie  e assimilabili  relative  a interventi  di ampliamento  \\no di riqualificazione  di immobili  esistenti  nonché  quelle  relative  a nuova  \\ncostruzione  solo nei casi in cui l’impresa  dimostri  che l’assenza  di \\nagevolazione  su tali spese,  in ragione  delle caratteristiche  tecnologiche  e \\nlocalizzative  dell’iniziativa,  ne inficerebbe  la redditività  e le opportunità  di \\ninnovazione  e sviluppo;   \\nc. acquisto  di macchinari,  impianti  e attrezzature  varie,  nuovi  di fabbrica,  ivi \\ncompresi  quelli  necessari  all'attività  di rappresentanza,  nonché  i mezzi  \\nmobili  strettamente  necessari  al ciclo di produzione  o per il trasporto  in \\nconservazione  condizionata  dei prodotti,  purché  dimensionati  all'effettiva  \\nproduzione,  identificabili  singolarmente  ed a servizio  esclusivo  dell'unità  \\nproduttiva  oggetto  delle agevolazioni.  Per il settore  dei trasporti  sono \\nescluse  le spese  relative  all'acquisto  di materiale  di trasporto  e l'acquisto  \\ndi automezzi  è ammissibile  esclusivamente  nel caso di imprese  di trasporto)   \n",
              "13                                                                                                                                                                                                                                                                                                                                                                                                                                                                                                                                                                                                                                                                                                                                                                                                                                                                                                            (page_content, puglia sviluppo  \\n \\n \\nUNIONE  EUROPEA  \\nFONDO  EUROPEO  DI SVILUPPO  REGIONALE   \\nMinistero  Sviluppo  Economico   \\nREGIONE  PUGLIA  \\nDIPARTIMENTO  SVILUPPO  ECONOMICO,  \\n  INNOVAZIONE,  ISTRUZIONE,   \\nFORMAZIONE  E LAVORO \\n \\n4 \\n \\npersone;  \\nd. Investimenti  finalizzati  al miglioramento  delle misure  di prevenzione  dei \\nrischi,  salute  e sicurezza  sui luoghi  di lavoro;  \\ne. spese di progettazione ingegneristica e di direzione lavori nei limiti del 5% \\ndelle spese  di cui alla lettera  b);  \\nf. sono ammissibili  anche  le spese  per l'acquisto  di programmi  informatici  \\ncommisurati  alle esigenze  produttive  e gestionali  dell'impresa  ed i \\ntrasferimenti  di tecnologia  mediante  l'acquisto  di diritti  di brevetto  e \\nlicenze,  connessi  alle esigenze  produttive  e gestionali  dell'impresa.  \\nÈ possibile  presentare  un programma  di investimenti  che preveda  unicamente  la \\nrealizzazione  di un “impianto  di produzione  di energia  da fonte rinnovabile”.  \\nCon la dizione  “impianti  di produzione  di energia  da fonte rinnovabile”  si intende  \\nriferirsi  alle seguenti  tipologie:  \\n• impianti  ad energia  eolica;  \\n• impianti  ad energia  solare  (tutte  le tecnologie);  \\n• macchine  frigorifere  a fonte geotermica  (refrigeratori  o pompe  di calore)  \\nintegrati  nei processi  produttivi  e/o dedicati  alla climatizzazione  \\nambientale;  \\n• impianti  di produzione  di energia  termica  e/o elettrica  a biomasse  (liquide,  \\nsolide  o gassose).  \\nCon riferimento  all’acquisto  dell’immobile,  del suolo  o di software,  non è \\nammissibile  l’acquisto  da parenti  e affini fino al terzo grado  dei soci, nel caso di \\nsocietà  proponente,  o del titolare,  nel caso di ditta proponente,  nonché  dal \\nconiuge  del titolare  o dei soci”.  L’acquisto  di un immobile,  del suolo  o di software  \\ndi proprietà  di uno o più soci dell’impresa  richiedente  le agevolazioni  medesime  \\no dei relativi  coniugi  ovvero  parenti  o affini dei soci stessi  entro  il terzo grado,  è \\nammissibile  in proporzione  alle quote  di partecipazione  nell’impresa  medesima  \\ndegli altri soci che non hanno  alcun  rapporto  di parentela  e coniugio  suindicato.  \\nNon sono ammissibili  alle agevolazioni  \"gli acquisti  infragruppo,  gli acquisti  da \\nsoci o amministratori  dell’impresa  beneficiaria/proponente,  da coniugi,  parenti  o \\naffini entro  il terzo grado  di uno dei soci o amministratori  dell’impresa  \\nbeneficiaria  anche  nel caso in cui il rapporto  sussista  con un soggetto  che rivesta  \\nil ruolo di amministratore  o socio dell’impresa  fornitrice\".  \\nNon è ammissibile  l'acquisto  di immobili  che siano  stati oggetto  di agevolazione  \\nnei dieci anni precedenti  come  stabilito  dall’articolo  18, comma  1 lettera  c) del \\nD.P.R.  del 5 febbraio  2018,  n. 22 recante  i criteri  sull'ammissibilità  delle spese)   \n",
              "14                                                                                                                                                                                                                                                                                                                                                                                                                                                                                                                                                                                                                                                                                                                                                                                                                                                                                                                                                                                                                                                                                                                                                                                                                                                                                                                                                                                                                                               (page_content, puglia sviluppo  \\n \\n \\nUNIONE  EUROPEA  \\nFONDO  EUROPEO  DI SVILUPPO  REGIONALE   \\nMinistero  Sviluppo  Economico   \\nREGIONE  PUGLIA  \\nDIPARTIMENTO  SVILUPPO  ECONOMICO,  \\n  INNOVAZIONE,  ISTRUZIONE,   \\nFORMAZIONE  E LAVORO \\n \\n5 \\n \\nper i programmi  cofinanziati  dai Fondi  strutturali  di investimento  europei  (SIE)  \\nper il periodo  di programmazione  2014/2020.  \\nSpese  comunque  non ammissibili:  \\na) le spese  notarili  e quelle  relative  a imposte  e tasse;  \\nb) le spese  relative  all'acquisto  di scorte;  \\nc) le spese  relative  all'acquisto  di macchinari  ed attrezzature  usati;  \\nd)  titoli di spesa  regolati  In contanti;  \\ne) le spese  di pura sostituzione;  \\nf) le spese  di funzionamento  in generale;  \\ng) le spese  in leasing  e quelle  relative  ai cosiddetti  contratti  chiavi  in mano ; \\nh) tutte le spese  non capitalizzate;  \\ni) le spese  sostenute  con commesse  interne  di lavorazione,  anche  se \\ncapitalizzate  ed Indipendentemente  dal settore  in cui opera  l'Impresa;  \\nj) i titoli di spesa  nel quali l'importo  complessivo  dei beni agevolabili  sia \\ninferiore  a 500,00  euro;  \\nk) acquisto  di beni non strettamente  funzionali  e non a uso esclusivo  \\ndell'attività  di Impresa;  \\nl) acquisto  di beni facilmente  deperibili  quali ad esempio  biancheria  da \\ntavola,  biancheria  da bagno,  stoviglie,  utensili  per cucina.  \\nm) nell’acquisto  di mezzi  mobili  non sono ammissibili  le spese  di IPT, messa  \\nsu strada,  immatricolazione.  \\nNon sono  ammissibili  le spese  relative  all'attività  di ricevitoria,  \\ncommercio  al dettaglio  di generi  di monopolio  e le attività  di giochi,  \\nlotterie  e scommesse.  \\n \\nQuando  è possibile  avviare  gli investimenti?  \\nSi rammenta  che ciascuna  spesa  deve essere  supportata  da un documento  \\ngiuridicamente  vincolante,  come  ad esempio  un ordine  di acquisto  o un \\npreventivo  controfirmato  per accettazione  che, conformemente  alle disposizioni  \\ndell’Avviso , deve riportare  data successiva  alla data di presentazione  della \\ndomanda  (data  attestata  nell’allegato  D). \\nCon riferimento  all’effetto  di incentivazione  si evidenzia  che: ai sensi dell’art.  2 \\npunto  23 Regolamento  (CE) 651/2014  del 17/06/2014,  per \"avvio  dei lavori\"  si \\nintende:  “la data di inizio dei lavori  di costruzione  relativi  all'investimento  oppure)   \n",
              "15                                                                                                                                                                                                                                                                                                                                                                                                                                                                                                                                                                                                                                                                                                                                                                                                                                                                                                                                                                                                                                                                                                                                                                                                                                                                               (page_content, puglia sviluppo  \\n \\n \\nUNIONE  EUROPEA  \\nFONDO  EUROPEO  DI SVILUPPO  REGIONALE   \\nMinistero  Sviluppo  Economico   \\nREGIONE  PUGLIA  \\nDIPARTIMENTO  SVILUPPO  ECONOMICO,  \\n  INNOVAZIONE,  ISTRUZIONE,   \\nFORMAZIONE  E LAVORO \\n \\n6 \\n \\nla data del primo  impegno  giuridicamente  vincolante  ad ordinare  \\nattrezzature  o di qualsiasi  altro impegno  che renda  irreversibile  l'investimento,  \\na seconda  di quale  condizione  si verifichi  prima.  L'acquisto  di terreno  e i lavori  \\npreparatori  quali la richiesta  di permessi  o la realizzazione  di studi di fattibilità  \\nnon sono considerati  come  avvio  dei lavori.  In caso di acquisizioni,  per \"avvio  \\ndei lavori\"  si intende  il momento  di acquisizione  degli attivi direttamente  collegati  \\nallo stabilimento  acquisito” . \\nIn presenza  di un atto giuridicamente  vincolante  con data antecedente  alla data \\ndi presentazione  della domanda,  l’intero  programma  di investimenti  è ritenuto  \\ninammissibile.  \\nA titolo esemplificativo,  si riportano  i documenti  che possono  ritenersi  atti \\ngiuridicamente  vincolanti:  \\n• Preventivo  controfirmato  per accettazione;  \\n• Ordine  di acquisto/Contratto  di fornitura/appalto;  \\n• Conferma  d’ordine  (con o senza  il versamento  di un \\nacconto/anticipo/caparra);  \\n• Decreto  di trasferimento  del giudice,  nel caso di acquisto  immobile.  \\nSi precisa,  inoltre,  che nel caso il progetto  di investimenti  preveda  anche  \\nl’acquisto  dell’immobile  ed il soggetto  proponente  fornisca  come  titolo di \\ndisponibilità  dell’immobile  un contratto  preliminare  di compravendita  o una \\nproposta  di acquisto  accettata,  tali documenti  devono  presentare  una condizione  \\nsospensiva  o l’espressa  rinuncia  all’applicazione  delle disposizioni  dell’art.  2932 \\nc.c. da entrambe  le parti. \\n \\nA quanto  ammontano  gli investimenti  e le \\nagevolazioni  del Titolo  II capo  3? \\nL'aiuto  sarà erogato  in forma  di contributo  in conto  Impianti  determinato  sul \\nmontante  degli Interessi  di un finanziamento  concesso  da un Soggetto  \\nFinanziatore.  \\nIl contributo  viene  riconosciuto  in misura  pari all'Interest  Rate Swap  (Euribor  6 \\nmesi versus  tasso  fisso)  denaro,  in euro a 10 anni {10Y/6M),  pubblicato  sul \\nquotidiano  \"Il Sole 24 Ore\" il giorno  della stipula  del finanziamento  da parte  del \\nSoggetto  Finanziatore,  maggiorato  di uno spread.  \\nAl momento  la misura  dello spread  è pari al 5% (500 punti base);  tale valore  \\nviene  aggiornato  di anno in anno.)   \n",
              "16                                                                                                                                                                                                                                                                                                                                                                                                                                                                                                                                                                                                                                                                                                                                                                                                                                                                                                                                                                                                                                                                                                                                                                                                                                                                                                                                (page_content, puglia sviluppo  \\n \\n \\nUNIONE  EUROPEA  \\nFONDO  EUROPEO  DI SVILUPPO  REGIONALE   \\nMinistero  Sviluppo  Economico   \\nREGIONE  PUGLIA  \\nDIPARTIMENTO  SVILUPPO  ECONOMICO,  \\n  INNOVAZIONE,  ISTRUZIONE,   \\nFORMAZIONE  E LAVORO \\n \\n7 \\n \\nIl contributo  in conto  impianti  calcolato  sul montante  degli interessi  comprenderà  \\nl’eventuale  preammortamento:  \\n• Per una durata  massima  di 12 mesi per i finanziamenti  destinati  \\nall'acquisto  di macchinari  e di attrezzature;   \\n• Per una durata  massima  di 24 mesi per i finanziamenti  destinati  \\nall'ampliamento  dello stabilimento;  \\nQualunque  sia la maggior  durata  del contratto  di finanziamento,  il contributo  in \\nconto  impianti  determinato  sul montante  degli Interessi  sarà calcolato  con \\nriferimento  ad una durata  massima  del finanziamento  (al netto dell’eventuale  \\nperiodo  di preammortamento)  di: \\n• sette anni per i finanziamenti  destinati  alla creazione,  all’ampliamento  \\ne/o all’ammodernamento  dello stabilimento;  \\n• cinque  anni per i finanziamenti  destinati  all’acquisto  di macchinari,  \\nattrezzature,  brevetti  e licenze.  \\nLe agevolazioni  saranno  calcolate,  indipendentemente  dall’ammontare  del \\nprogetto  ammissibile,  su un importo  finanziato  massimo  di: \\n− 4.000.000  di euro in caso di soggetti  proponenti  di medie  dimensioni  \\n− 2.000.000  di euro in caso di soggetti  proponenti  di micro  e piccole  \\ndimensioni  \\n \\nPer gli investimenti  in nuovi  macchinari  ed attrezzature  potrà  essere  erogato  un \\ncontributo  aggiuntivo  in conto  impianti  che non potrà  essere  superiore  al 30% \\ndell’investimento  e all’importo  massimo  di 1.200.000  euro per le medie  imprese  \\ne 35% dell’investimento  e all’importo  massimo  di 700.000  euro per le piccole  \\nimprese.  \\nLe imprese  in possesso  del rating  di legalità  (articolo  5-ter del decreto  legge  24 \\ngennaio  2012,  n. 1, convertito  con modificazioni  della legge  24 maggio  2012,  n. \\n27) beneficiano  di una ulteriore  sovvenzione  diretta  che è pari al 5% dell’importo  \\ndell’investi mento  per le piccole  imprese  ed al 2,50%  dell’investimento  per le \\nmedie  imprese,  in entrambi  i casi con un tetto massimo  pari ad euro 100.000,00.  \\nAlla data di invio telematica  della domanda  da parte del Soggetto  Finanziatore,  \\nle imprese  devono  già possedere  il rating  di legalità  o avere  inoltrato  apposita  \\nrichiesta  all’Autorità  Garante  della concorrenza  e del mercato.)   \n",
              "17                                                                                                                                                                                                                                                                                                                                                                                                                                                                                                                                                                                                                                                                                                                                                                                                                                                                                                                                                                                                                                                                                                                                                                                                                                                                                                                                                                                                                                                                                  (page_content, puglia sviluppo  \\n \\n \\nUNIONE  EUROPEA  \\nFONDO  EUROPEO  DI SVILUPPO  REGIONALE   \\nMinistero  Sviluppo  Economico   \\nREGIONE  PUGLIA  \\nDIPARTIMENTO  SVILUPPO  ECONOMICO,  \\n  INNOVAZIONE,  ISTRUZIONE,   \\nFORMAZIONE  E LAVORO \\n \\n8 \\n \\nLe imprese  che hanno  conseguito  il rating  di legalità,  l'impor to massimo  del \\ncontributo  aggiuntivo  in conto  impianti  è elevato  a 1.300.000  euro per le medie  \\ne a 800.000  euro per le piccole  imprese . \\nÈ prevista,  come  sopra  anticipato,  una premialità  pari al pari al 30%  per le \\nmedie  imprese  e pari al 35%  per le piccole  imprese  nell’eventualità  di \\nrealizzazione  di un investimento  per la realizzazione  di un “impianto  di \\nproduzione  di energia  da fonte  rinnovabile ” (comprensivo  delle spese  \\nrelative  alla diagnosi  energetica  nella misura  non superiore  all’1,5%  del costo \\ndell’impianto  di produzione  di energia  da fonte rinnovabile,  per un ammontare  \\ncomplessi vo non superiore  a € 10.000,00).  \\nI soggetti  proponenti  che realizzano  interventi  in opere  murarie  necessari  al \\nrecupero  di immobili  esistenti  e non utilizzati  (come  definiti  al comma  23 del \\nprecedente  art. 4), ove acquisibili  e restaurabili,  beneficiano  di una ulteriore  \\nsovvenzione  diretta  del 10%.  Tale 10% di ulteriore  sovvenzione  sarà \\ncalcolato  esclusivamente  con riferimento  alle spese  necessarie  all’eventuale  \\nacquisto  e al recupero  dei predetti  immobili,  così come  definiti  al comma  23 del \\nprecedente  art. 4. \\nGli aiuti di cui al presente  Avviso  sono cumulabili:  \\n➢ con gli aiuti al finanziamento  del rischio  di cui al Titolo  III del Regolamento;   \\n➢ con gli aiuti de minimis  di cui al Regolamento  Regionale  n. 15 del \\n01/08/2014.  \\n \\nL’intensità  massima  di aiuto è: \\n✓ 35%  per i soggetti  proponenti  di medie  dimensioni  \\n✓ 45%  per i soggetti  proponenti  di piccole  dimensioni  \\nIn presenza  di un eventuale  ESL aiuto  di cui al finanziamento  del rischio,  in \\nforma  di garanzia,  controgaranzia  e cogaranzia , il quale  si somma  all’aiuto  di \\ncui al presente  Avviso  fino a concorrenza  del massimale,  l’ammontare  massimo  \\ndella  sovvenzione  complessiva  viene  aumentat o di 10 punti  percentuali  (45%)  \\nper le medie  imprese  e di 15 punti  percentuali  (60%)  per le piccole  imprese.)   \n",
              "18                                                                                                                                                                                                                                                                                                                                                                                                                                                                                                                                                                                                                                                                                                                                                                                                                                                                                                                                                                                                                                        (page_content, puglia sviluppo  \\n \\n \\nUNIONE  EUROPEA  \\nFONDO  EUROPEO  DI SVILUPPO  REGIONALE   \\nMinistero  Sviluppo  Economico   \\nREGIONE  PUGLIA  \\nDIPARTIMENTO  SVILUPPO  ECONOMICO,  \\n  INNOVAZIONE,  ISTRUZIONE,   \\nFORMAZIONE  E LAVORO \\n \\n9 \\n \\nCome  presentare  domanda  di agevolazione?  \\nLe domande  possono  essere  inoltrate  unicamente  da un Soggetto  Finanziatore  \\n(Banca  o Confidi  Vigilato)  accreditato  o un Confidi  (iscritto  nell’Elenco  ex art. 112 \\nTUB tenuto  dall’Organismo  Confidi  Minori  oppure  iscritto  nell'albo  unico  di cui \\nall'art.  106 del TUB) in via telematica  attraverso  la procedura  on line “Titolo  II \\ncapo 3” messa  a disposizione  nella pagina  dedicata  all'Avviso  presente  su \\nwww.sistema.puglia.it  (sul sito sistema.puglia  è presente  un utility  con l’elenco  \\ndei soggetti  accreditati) . \\nL’invio  della domanda  di agevolazione  e della documentazione  relativa  sarà \\neffettuato  dal Soggetto  Finanziatore  solo successivamente  alla deliberazione  di \\nconcessione  del finanziamento.   \\nIl Soggetto  Finanziatore  deve deliberare  il finanziamento  bancario  ed inviare  \\ntelematicamente  la domanda  entro  6 mesi dalla data di ricevimento  della stessa  \\nda parte  dell’impresa  proponente,  pena la decadenza  della domanda  di aiuto \\ndell’impresa  e la eliminazione  della posizione  telematica  dalla procedura.  \\nIl Soggetto  Finanziatore  o il Confidi,  al fine di censire  telematicamente  la \\ndomanda  di aiuti nella piattaforma  telematica  (con contestuale  generazione  del \\ncodice  pratica),  deve procedere  obbligatoriamente  alla compilazione  di tutte \\nle informazioni  previste  per la generazione  della domanda  di agevolazione  \\n(Allega to C), come  da modulo  di domanda  allegato  al presente  Avviso.  Tale \\nallegato  generato  telematicamente,  deve essere  firmato  digitalmente  dal legale  \\nrappresentante  dell’impresa  proponente  o dal libero  professionista.  \\nIl Soggetto  Finanziatore  inserisce  nella procedura  telematica  l’attestazione  della \\npresentazione  domanda  (Allegato  D) sottoscritta  con firma digitale.  \\nA seguito  di presentazione  della domanda  presso  un Soggetto  Finanziatore,  \\nottenuto  il codice  pratica,  il Soggetto  Proponente  si deve obbligatoriamente  \\nregistrare  al portale  raggiungibile  nella pagina  dedicata  all'Avviso  presente  su \\nwww.sistema.puglia.it , eseguire  la procedura  di attivazione  profilo  e, \\nsuccessivamente,  accreditarsi  per la specifica  pratica.  Una volta accreditata  il \\nSoggetto  proponente  potrà  operare  sulla propria  pratica  ed effettuare  l’upload  di \\ntutta la documentazione  utile al completamento  delle verifiche  istruttorie,  \\neventualmente  richiesta  da Puglia  Sviluppo  SPA.)   \n",
              "19                                                                                                                                                                                                                                                                                                                                                                                                                                                                                                                                                                                                                                                                                                                                                                                                                                                                                                                                                                                                                                                                                                                                                                                                                                   (page_content, puglia sviluppo  \\n \\n \\nUNIONE  EUROPEA  \\nFONDO  EUROPEO  DI SVILUPPO  REGIONALE   \\nMinistero  Sviluppo  Economico   \\nREGIONE  PUGLIA  \\nDIPARTIMENTO  SVILUPPO  ECONOMICO,  \\n  INNOVAZIONE,  ISTRUZIONE,   \\nFORMAZIONE  E LAVORO \\n \\n10 \\n \\nCome  riceverò  l’agevolazione?  \\nSulla base delle verifiche  effettuate  da parte  di Puglia  Sviluppo,  la Regione,  \\nmediante  Determinazione  Dirigenziale,  adotta  il provvedimento  di ammissione  \\nprovvisoria  alle agevolazioni.  \\nLa Regione  comunica  ai soggetti  proponenti  l’esito  dell’esame  tramite  pec.  \\nL’impresa  ritenuta  ammissibile,  anche  per il tramite  del Soggetto  Finanziatore  o \\ndel Confidi,  entro  2 mesi dalla documentata  conclusione  dell’investimento,  \\ninoltra  telematicamente  la richiesta  di erogazione  con tutta la documentazione  \\nprevista  dall’art.  13 dell’Avviso.  \\nPuglia  Sviluppo,  ricevuta  la richiesta  di erogazione  del contributo  con tutta la \\ndocumentazione  a corredo,  a seguito  di completamento  degli investimenti  da \\nparte  dell’impresa,  procede , per quelle  pratiche  per le quali si è concluso  \\npositivamente  l’esame  istruttorio  preliminare  con l’emissione  della determina  \\nprovvisoria,  all’ulteriore  istruttoria  tecnica,  accerta ndo la pertinenza  e \\nl’ammissibilità  delle spese  e, quindi,  l’agevolabilità  dell’iniziativa.   \\nL’attività  istruttoria  si conclude  con l’elaborazione  di una relazione  da sottoporre  \\nalla Regione  Puglia.  \\nLa Regione  provvede  periodicamente,  rispettando  l’ordine  cronologico  di \\nricezione  delle domande  da parte  dei Soggetti  Finanziatori,  all’ammissione  \\ndefinitiva  ad agevolazione  delle iniziative  istruite  positivamente,  comunicando  il \\nprovvedimento  ai richiedenti,  ai Soggetti  Finanziatori  ed all’eventuale  Confidi.   \\nLa Regione,  provvede  alla erogazione  in unica  soluzione  all’impresa  del \\ncontributo  in conto  impianti  attualizzato  al medesimo  tasso  con cui è calcolata  \\nl’agevolazione  e di quello  aggiuntivo.  \\n \\nDove  trovo  ulteriori  informazioni?  \\nRegione  Puglia  – Area Politiche  per lo Sviluppo  Economico,  il Lavoro  e \\nl’Innovazione  Corso  Sonnino,  177, 70121  Bari. \\n \\nSiti internet:   \\nwww.regione.puglia.it ; www.sistema.puglia.it ; www.pugliasviluppo.eu.  \\n \\nI moduli  e gli allegati  del presente  Avviso  sono resi disponibili  sul sito \\nwww.sistema.puglia.it . \\n \\nSul sito www.sistema.puglia.it  puoi: \\n➢ scaricare  la normativa  e la modulistica;  \\n➢ verificare  i Codici  Ateco  ammissibili;  \\n➢ formulare  specifiche  domande.)   \n",
              "20                                                                                                                                                                                                                                                                                                                                                                                                                                                                                                                                                                                                                                                                                                                                                                                                                                                                                                                                                                                                                                                                                                                                                                                                                                                                                                                                                                                                                                                                                                                                                                                                                                                                                                                                             (page_content, puglia sviluppo  \\n \\n \\nUNIONE  EUROPEA  \\nFONDO  EUROPEO  DI SVILUPPO  REGIONALE   \\nMinistero  Sviluppo  Economico   \\nREGIONE  PUGLIA  \\nDIPARTIMENTO  SVILUPPO  ECONOMICO,  \\n  INNOVAZIONE,  ISTRUZIONE,   \\nFORMAZIONE  E LAVORO \\n \\n1 \\n \\nAiuti  Agli Investimenti  delle  \\nPMI nel Settore  Turistico  - \\nAlberghiero  (Titolo  II capo  6 \\nReg. Reg. 17/2014)  \\n \\nAvviso  a sportello  a partire  dal 9/03 /2015  \\nLa gestione  del presente  strumento  è di competenza  della Regione  Puglia  che, \\nad eccezione  della fase di erogazione  dei contributi,  procederà  all’attuazione  \\nmediante  Puglia  Sviluppo  SpA, in qualità  di Soggetto  Intermediario.   \\n \\nCosa trovo  in questa  scheda?  \\nQuesta  scheda  contiene  alcune  informazioni  sullo strumento  finanziario  “Aiuti \\nAgli Investimenti  delle PMI nel Settore  Turistico -Alberghiero ” rivolto  ad imprese  \\ndi piccola  e media  dimensione  che intendano  realizzare  un investimento  nel \\nterritorio  della Regione  Puglia.  \\nL’obiettivo  di questa  scheda  è fornire  un primo  orientamento  su questa  \\nopportunità.  \\nNota bene:  le informazioni  presenti  in questa  scheda  sono puramente  indicative  \\ne potrebbero  subire  variazioni.  Invitiamo  tutte le persone  interessate  a prendere  \\nvisione  del bando  pubblicato  sul Bollettino  Ufficiale  della Regione  Puglia  del \\n03/03/ 2015 n. 32 e sul sito www.sistema.puglia.it/ titoloiIIcapo 6 e successive  \\nmodifiche . \\n \\nChi può richiedere  l’agevolazione?  \\nPuò richiedere  l’agevolazione : \\n1. microimprese  (impresa  che occupa  meno  di 10 persone,  realizza  un \\nfatturato  annuo  o un totale  di bilancio  annuo  non superiori  a 2 milioni  di \\neuro);  \\n2. imprese  di piccole  dimensioni  (impresa  che occupa  meno  di 50 persone  e \\nrealizza  un fatturato  annuo  o un totale  di bilancio  non superiori  a 10 milioni  \\ndi euro);  \\n3. imprese  di medie  dimensioni:  che occupa  meno  di 250 persone,  realizza  \\nun fatturato  annuo  non superiore  a 50 milioni  di euro oppure  il totale  di \\nbilancio  annuo  non supera  i 43 milioni  di euro.)   \n",
              "21                                                                                                                                                                                                                                                                                                                                                                                                                                                                                                                                                                                                                                                                                      (page_content, puglia sviluppo  \\n \\n \\nUNIONE  EUROPEA  \\nFONDO  EUROPEO  DI SVILUPPO  REGIONALE   \\nMinistero  Sviluppo  Economico   \\nREGIONE  PUGLIA  \\nDIPARTIMENTO  SVILUPPO  ECONOMICO,  \\n  INNOVAZIONE,  ISTRUZIONE,   \\nFORMAZIONE  E LAVORO \\n \\n2 \\n \\nQuali  attività  posso  realizzare  con l’aiuto  del Titolo  \\nII capo  6? \\nCon il Titolo  II capo 6 si possono  realizzare  investimenti  in unità locali ubicate/da  \\nubicare  nel territorio  della Regione  Puglia  e riguardanti  Progetti  di investimento  \\ndi importo  non inferiori  a € 30.000 ,00 per: \\na) l’ampliamento,  l’ammodernamento  e la ristrutturazione  delle strutture  \\nturistico  alberghiere,  ivi comprese  le strutture  di servizi  funzionali  allo \\nsvolgimento  dell’attività  (quali  bar, palestre,  piscine,  centri  benessere,  \\necc.) nonché  gli interventi  finaliz zati al superamento  delle barriere  \\narchitettoniche,  al rinnovo  e aggiornamento  tecnologico,  al miglioramento  \\ndell’impatto  ambientale;  \\nb) la realizzazione  o l’ammodernamento  degli stabilimenti  balneari,  ivi \\ncompresi  gli spazi destinati  alla ristorazione  e alla somministrazione  di cibi \\ne bevande,  ai parcheggi  ed ai punti di ormeggio;  \\nc) la realizzazione  e/o la gestione  di approdi  turistici;  \\nd) la realizzazione  di strutture  turistico  ‐ alberghiere  (compresi  servizi  \\nannessi,  nel rispetto  della normativa  vigente)  attraverso  il consolidamento  \\ned il restauro  e risanamento  conservativo  di immobili  che presentano  \\ninteresse  artistico  e storico -architettonico.  Ai fini di cui sopra,  deve restare  \\nimmutata  la volumetria  fuori terra esistente  e fatti salvi i prospetti  originari  \\ne le caratteristiche  architettoniche  e artistiche.  Si precisa  che \\nl’ampliamento,  attraverso  la costruzione  di vani tecnici,  costituisce  \\nvariazione  di volumetria  fuori terra;  \\ne) il consolidamento,  restauro  e risanamento  conservativo  di edifici  rurali,  \\nmasserie,  trulli, torri, fortificazioni  al fine della trasformazione  \\ndell’immobile  in strutture  turistico ‐alberghiere  (compresi  servizi  annessi,  \\nnel rispetto  della normativa  vigente).  Ai fini di cui sopra,  devono  essere  \\nfatte salve le caratteristiche  architettoniche  e artistiche  dell’immobile.  \\nSono consentiti  ampliamenti  degli edifici  esistenti,  strettamente  connessi  \\nad esigenze  igienico -sanitarie  o tecnologico -funzionali,  fino a un massimo  \\ndel 20 per cento  della volumetria  esistente,  comunque  nel rispetto  degli \\nindici e parametri  dimensionali  stabiliti  dai vigenti  strumenti  urbanistici.  \\nNel caso di demolizione  e ricostruzione  di parte  dei fabbricati  esistenti,  \\ndeve essere  ripristinata  la tipologia  architettonica  originaria;  \\nf) Il primo  impianto  e/o sistemazione  di area a verde  di almeno  10 ettari  \\n(anche  mediante  la realizzazione  di piste ciclabili,  sentieri  attrezzati,  \\npercorsi  sportivi,  punti ristoro,  ecc.) anche  di proprietà  pubblica,  la cui \\nfruizione  sia condivisa  con la eventuale  Amministrazione  proprietaria  e/o \\nil soggetto  gestore ;)   \n",
              "22                                                                                                                                                                                                                                                                                                                                                                                                                                                                                                                                                                                                                                                                                                                                                                                                                                                                                                                                                                                                                                           (page_content, puglia sviluppo  \\n \\n \\nUNIONE  EUROPEA  \\nFONDO  EUROPEO  DI SVILUPPO  REGIONALE   \\nMinistero  Sviluppo  Economico   \\nREGIONE  PUGLIA  \\nDIPARTIMENTO  SVILUPPO  ECONOMICO,  \\n  INNOVAZIONE,  ISTRUZIONE,   \\nFORMAZIONE  E LAVORO \\n \\n3 \\n \\ng) Nuove  attività  turistico  – alberghiere,  attraverso  il recupero  fisico e/o \\nfunzionale  di strutture  non ultimate,  legittimamente  iniziate,  destinate  ad \\nattività  ricettive  di cui all’art.  3 della legge  regionale  n. 11/99;  \\nh) Recupero  di aree urbane  degradate  e/o inquinate  da destinare  alla \\nrealizzazione  di strutture  ricettive,  congressuali,  sportive,  culturali  e/o \\nricreative.  \\n \\nLe strutture  turistico  alberghiere  di cui alle lettere  a), d) ed e) che precedono,  \\npossono  essere  realizzate  anche  nella forma  della ricettività  diffusa  di cui al \\nRegolament o Regionale  22 marzo  2012,  n. 6. \\n \\nI progetti  di cui ai punti a), b), c), d), e), f), g) e h) devono  tendere  alla:  \\n• promozione  del risparmio  energetico,  della gestione  sostenibile  dei rifiuti  \\ne il recupero  degli stessi , del risparmio  e della tutela  delle risorse  idriche;   \\n• riduzione  di emissioni  di C02, di sostanze  acidificanti  e di emissioni  \\nodorifere  e sonore  da parte delle imprese  beneficiarie.  \\nSezioni  codice  ATECO  2007 interessate  all’intervento:  \\n• Sezione  H, categoria  52.22.09  “altre  attività  dei servizi  connessi  al \\ntrasporto  marittimo  e per vie d’acqua”  con riferimento  esclusivamente  alle \\nimprese  che realizzano  investimenti  per la gestione  di approdi  turistici  e di \\nrimessaggio  delle imbarcazioni;  \\n• Sezione  I, Divisione  55 “Alloggio”  ad eccezione  delle categorie:  \\na. 55.20.52  “Attività di alloggio connesse alle aziende agricole”; \\nb. 55.90.10  “Gestione di vagoni letto”; \\nc. 55.90.20  “Alloggi per studenti e lavoratori con servizi accessori di tipo \\nalberghiero”; \\n• Sezione  N, limitatamente  alle categorie:  \\na. 77.21.01  “Noleggio  di biciclette”;  \\nb. 77.21.02  “Noleggio  senza  equipaggio  di imbarcazioni  da diporto  (inclusi  \\ni pedalò)”.  Si precisa  che sono ammissibili  le spese  di acquisto  delle \\nimbarcazioni  se “natanti  da diporto”  e cioè se di lunghezza  inferiore  ai \\n10 metri  e quindi  non targati  e non immatricolati;  \\nc. 77.21.09  “Noleggio  di altre attrezzature  sportive  e ricreative”;  \\nd. 77.39.94  “Noleggio  di strutture  ed attrezzature  per manifestazioni  e \\nspettacoli:  impianti  luce ed audio  senza  operatore,  palchi,  stand  ed \\naddobbi  luminosi”;  \\ne. Gruppo  79.1 “attività  delle agenzie  di viaggio  e dei Tour Operator”;  \\nf. Gruppo  79.9 “altri servizi  di prenotazione  e attività  connesse”  purché  \\nfinalizzate  all’offerta  di servizi  turistici;)   \n",
              "23                                                                                                                                                                                                                                                                                                                                                                                                                                                                                                                                                                                                                                                                                                                                                                                                                                                                                                                                                                                                                                                                                                                                                                                                                          (page_content, puglia sviluppo  \\n \\n \\nUNIONE  EUROPEA  \\nFONDO  EUROPEO  DI SVILUPPO  REGIONALE   \\nMinistero  Sviluppo  Economico   \\nREGIONE  PUGLIA  \\nDIPARTIMENTO  SVILUPPO  ECONOMICO,  \\n  INNOVAZIONE,  ISTRUZIONE,   \\nFORMAZIONE  E LAVORO \\n \\n4 \\n \\ng. Classe  82.30  “organizzazione  di convegni  e fiere”;  \\n• Sezione R, limitatamente  alla Divisione:  \\na. Divisione  90 “attività  creative,  artistiche  e di intrattenimento”;  \\nb. Divisione  91 “attività  di biblioteche,  archivi,  musei  ed altre attività  \\nculturali”;  \\nc. Categoria  93.11.20  “gestione  di piscine”;  \\nd. Categoria  93.11.30  “gestione  di impianti  sportivi  polivalenti  nca”;  \\ne. Categoria  93.11.90  “gestione  di altri impianti  sportivi  nca”. \\nf. Classe  93.21  “Parchi  di divertimento  e parchi  tematici”;  \\ng. Categoria  93.29.1  “Discoteche,  sale da ballo night-club e simili”;  \\nh. Categoria  93.29.2  “Gestione  di stabilimenti  balneari:  marittimi,  lacuali  e \\nfluviali”  \\n• Sezione  S, limitatamente  alla Divisione  96 ”altre  attività  di servizi  per la \\npersona”  e alla categoria  96.04.20  “Stabilimenti  termali”.  \\n \\nQuali  sono  le spese  ammissibili?  \\nSono ammissibili  le spese  per: \\na. acquisto del suolo aziendale e sue sistemazioni entro il limite del 5% \\ndell’importo dell’investimento in attivi materiali; \\nb. le spese  per opere  murarie  e assimilabili  relative  a interventi  di \\nampliamento  o di riqualificazione  di immobili  esistenti  nonché  quelle  \\nrelative  a nuova  costruzione  solo nei casi in cui l’impresa  dimostri  che \\nl’assenza  di agevolazione  su tali spese,  in ragione  delle caratteristiche  \\ntecnologiche  e localizzative  dell’iniziativa,  ne inficerebbe  la redditività  e le \\nopportunità  di innovazione  e sviluppo;  gli avvisi  prevedono,  inoltre,  una \\npremialità  per le opere  necessarie  al recupero  di immobili  esistenti  e non \\nutilizzati  ove acquisibili  e restaurabili ;  \\nc. acquisto di macchinari, impianti e attrezzature varie, nuovi di fabbrica;  \\nd. Investimenti  finalizzati  al miglioramento  delle misure  di prevenzione  dei \\nrischi,  salute  e sicurezza  sui luoghi  di lavoro.  \\ne. spese di progettazione ingegneristica e di direzione lavori nei limiti del 5% \\ndelle spese  di cui alla lettera  b);  \\nf. sono ammissibili  anche  le spese  per l'acquisto  di programmi  informatici  \\ncommisurati  alle esigenze  produttive  e gestionali  dell'impresa  ed i \\ntrasferimenti  di tecnologia  mediante  l'acquisto  di diritti  di brevetto  e \\nlicenze,  connessi  alle esigenze  produttive  e gestionali  dell'impresa.)   \n",
              "24                                                                                                                                                                                                                                                                                                                                                                                                                                                                                                                                                                                                                                                                                                                                                                                                                                                                                                                                                                                       (page_content, puglia sviluppo  \\n \\n \\nUNIONE  EUROPEA  \\nFONDO  EUROPEO  DI SVILUPPO  REGIONALE   \\nMinistero  Sviluppo  Economico   \\nREGIONE  PUGLIA  \\nDIPARTIMENTO  SVILUPPO  ECONOMICO,  \\n  INNOVAZIONE,  ISTRUZIONE,   \\nFORMAZIONE  E LAVORO \\n \\n5 \\n \\nÈ possibile presentare  un programma  di investimenti  che preveda  unicamente  la \\nrealizzazione  di un “impianto  di produzione  di energia  da fonte rinnovabile”.  \\nCon la dizione  “impianti  di produzione  di energia  da fonte rinnovabile,”  si intende  \\nqui riferirsi  alle seguenti  tipologie:  \\n• impianti  ad energia  eolica;  \\n• impianti  ad energia  solare  (tutte  le tecnologie);  \\n• macchine  frigorifere  a fonte geotermica  (refrigeratori  o pompe  di calore)  \\nintegrati  nei processi  produttivi  e/o dedicati  alla climatizzazione  \\nambientale;  \\n• impianti  di produzione  di energia  termica  e/o elettrica  a biomasse  (liquide,  \\nsolide  o gassose).  \\n \\nCon riferimento  all’acquisto  dell’immobile,  del suolo  o di software,  non è \\nammissibile  l’acquisto  da parenti  e affini fino al terzo grado  dei soci, nel caso di \\nsocietà  proponente,  o del titolare,  nel caso di ditta proponente,  nonché  dal \\nconiuge  del titolare  o dei soci”.  L’acquisto  di un immobile,  del suolo  o di software  \\ndi proprietà  di uno o più soci dell’impresa  richiedente  le agevolazioni  medesime  \\no dei relativi  coniugi  ovvero  parenti  o affini dei soci stessi  entro  il terzo grado,  è \\nammissibile  in proporzione  alle quote  di partecipazione  nell’impresa  medesima  \\ndegli altri soci che non hanno  alcun  rapporto  di parentela  e coniugio  suindicato.  \\nNon sono ammissibili  alle agevolazioni  \"gli acquisti  infragruppo,  gli acquisti  da \\nsoci o amministratori  dell’impresa  beneficiaria/proponente,  da coniugi,  parenti  o \\naffini entro  il terzo grado  di uno dei soci o amministratori  dell’impresa  \\nbeneficiaria  anche  nel caso in cui il rapporto  sussista  con un soggetto  che rivesta  \\nil ruolo di amministratore  o socio dell’impresa  fornitrice\".  \\n \\nNon è ammissibile  l'acquisto  di immobili  che siano  stati oggetto  di agevolazione  \\nnei dieci anni precedenti  come  stabilito  dall’articolo  18, comma  1 lettera  c) del \\nD.P.R.  del 5 febbraio  2018,  n. 22 recante  i criteri  sull'ammissibilità  delle spese  \\nper i programmi  cofinanziati  dai Fondi  strutturali  di investimento  europei  (SIE)  \\nper il periodo  di programmazione  2014/2020.  \\n \\nSpese  comunque  non ammissibili : \\na. le spese  notarili  e quelle  relative  a imposte  e tasse;  \\nb. le spese  relative  all’acquisto  di scorte;  \\nc. le spese  relative  all’acquisto  di macchinari  ed attrezzature  usati;  \\nd. i titoli di spesa  regolati  in contanti;  \\ne. le spese  di pura sostituzione;  \\nf. le spese  di funzionamento  in generale;)   \n",
              "25                                                                                                                                                                                                                                                                                                                                                                                                                                                                                                                                                                                                                                                                                                                                                                                                                                                                                                                                                                                                                               (page_content, puglia sviluppo  \\n \\n \\nUNIONE  EUROPEA  \\nFONDO  EUROPEO  DI SVILUPPO  REGIONALE   \\nMinistero  Sviluppo  Economico   \\nREGIONE  PUGLIA  \\nDIPARTIMENTO  SVILUPPO  ECONOMICO,  \\n  INNOVAZIONE,  ISTRUZIONE,   \\nFORMAZIONE  E LAVORO \\n \\n6 \\n \\ng. le spese  in leasing  e quelle  relative  ai cosiddetti  contratti  chiavi  in mano;  \\nh. tutte le spese  non capitalizzate;  \\ni. le spese  sostenute  con commesse  interne  di lavorazione,  anche  se \\ncapitalizzate  ed indipendentemente  dal settore  in cui opera  l’impresa;  \\nj. i titolI di spesa  nei quali l’importo  complessivo  dei beni agevolabili  sia \\ninferiore  a 500,00  euro;  \\nk. acquisto  di beni non strettamente  funzionali  e non a uso esclusivo  \\ndell'attività  di Impresa;  \\nl. non sono ammissibili  spese  per l’acquisto  di beni facilmente  deperibili  \\n(biancheria  da tavolo,  da bagno,  da letto, stoviglie,  utensili  per cucina) ; \\nm. acquisto  di mezzi  mobili  targati . \\n \\nQuando  è possibile  avviare  gli investimenti?  \\nSi rammenta  che ciascuna  spesa  deve essere  supportata  da un documento  \\ngiuridicamente  vincolante,  come  ad esempio  un ordine  di acquisto  o un \\npreventivo  controfirmato  per accettazione  che, conformemente  alle disposizioni  \\ndell’Avviso , deve riportare  data successiva  alla data di presentazione  della \\ndomanda  (data  attestata  nell’allegato  D). \\nCon riferimento  all’effetto  di incentivazione  si evidenzia  che: ai sensi dell’art.  2 \\npunto  23 Regolamento  (CE) 651/2014  del 17/06/2014,  per \"avvio  dei lavori\"  si \\nintende:  “la data di inizio dei lavori  di costruzione  relativi  all'investimento  oppure  \\nla data del primo  impegno  giuridicamente  vincolante  ad ordinare  \\nattrezzature  o di qualsiasi  altro impegno  che renda  irreversibile  l'investimento,  \\na seconda  di quale  condizione  si verifichi  prima.  L'acquisto  di terreno  e i lavori  \\npreparatori  quali la richiesta  di permessi  o la realizzazione  di studi di fattibilità  \\nnon sono considerati  come  avvio  dei lavori.  In caso di acquisizioni,  per \"avvio  \\ndei lavori\"  si intende il momento  di acquisizione  degli attivi direttamente  collegati  \\nallo stabilimento  acquisito” . \\nIn presenza  di un atto giuridicamente  vincolante  con data antecedente  alla data \\ndi presentazione  della domanda,  l’intero  programma  di investimenti  è ritenuto  \\ninammissibile.  \\nA titolo esemplificativo,  si riportano  i documenti  che possono  ritenersi  atti \\ngiuridicamente  vincolanti:  \\n• Preventivo  controfirmato  per accettazione;  \\n• Ordine  di acquisto/Contratto  di fornitura/appalto;  \\n• Conferma  d’ordine  (con o senza  il versamento  di un \\nacconto/anticipo/caparra);  \\n• Decreto  di trasferimento  del giudice,  nel caso di acquisto  immobile.)   \n",
              "26                                                                                                                                                                                                                                                                                                                                                                                                                                                                                                                                                                                                                                                                                                                                                                                                                                                                                                                                                                                                                                                                                                                                                                                                                                                                                                                                                                             (page_content, puglia sviluppo  \\n \\n \\nUNIONE  EUROPEA  \\nFONDO  EUROPEO  DI SVILUPPO  REGIONALE   \\nMinistero  Sviluppo  Economico   \\nREGIONE  PUGLIA  \\nDIPARTIMENTO  SVILUPPO  ECONOMICO,  \\n  INNOVAZIONE,  ISTRUZIONE,   \\nFORMAZIONE  E LAVORO \\n \\n7 \\n \\nSi precisa,  inoltre,  che nel caso il progetto  di investimenti  preveda  anche  \\nl’acquisto  dell’immobile  ed il soggetto  proponente  fornisca  come  titolo di \\ndisponibilità  dell’immobile  un contratto  preliminare  di compravendita  o una \\nproposta  di acquisto  accettata,  tali documenti  devono  presentare  una condizione  \\nsospensiva  o l’espressa  rinuncia  all’applicazione  delle disposizioni  dell’art.  2932 \\nc.c. da entrambe  le parti. \\n \\nA quanto  ammontano  gli investimenti  e le \\nagevolazioni  del Titolo  II capo  6? \\nL'aiuto  sarà erogato  in forma  di contributo  in conto  Impianti  determinato  sul \\nmontante  degli Interessi  di un finanziamento  concesso  da un Soggetto  \\nFinanziatore.  \\nIl contributo  viene  riconosciuto  in misura  pari all'Interest  Rate Swap  (Euribor  6 \\nmesi versus  tasso  fisso)  denaro,  in euro a 10 anni {10Y/6M),  pubblicato  sul \\nquotidiano  \"Il Sole 24 Ore\" il giorno  della stipula del finanziamento  da parte  del \\nSoggetto  Finanziatore,  maggiorato  di uno spread.  \\n \\nAl momento  la misura  dello spread  è pari al 5% (500 punti base);  tale valore  \\nviene  aggiornato  di anno in anno.  \\n \\nIl contributo  in conto  impianti  calcolato  sul montante  degli interessi  comprenderà  \\nl’eventuale  preammortamento:  \\n• Per una durata  massima  di 12 mesi per i finanziamenti  destinati  \\nall'acquisto  di macchinari  e di attrezzature;   \\n• Per una durata  massima  di 24 mesi per i finanziamenti  destinati  \\nall'ampliamento  dello stabilimento;  \\nQualunque  sia la maggior  durata  del contratto  di finanziamento,  il contributo  in \\nconto  impianti  determinato  sul montante  degli Interessi  sarà calcolato  con \\nriferimento  ad una durata  massima  del finanziamento  (al netto dell’eventuale  \\nperiodo  di preammortamento)  di: \\n• sette anni per i finanziamenti  destinati  alla creazione,  all’ampliamento  \\ne/o all’ammodernamento  dello stabilimento;  \\n• cinque  anni per i finanziamenti  destinati  all’acquisto  di macchinari,  \\nattrezzature,  brevetti  e licenze.  \\nLe agevolazioni  saranno  calcolate,  indipendentemente  dall’ammontare  del \\nprogetto  ammissibile,  su un importo  finanziato  massimo  di:)   \n",
              "27                                                                                                                                                                                                                                                                                                                                                                                                                                                                                                                                                                                                                                                                                                                                                                                                                                                                                                                                                                                                                                                                                                                                                                                                                                                                                                                                                                                                                 (page_content, puglia sviluppo  \\n \\n \\nUNIONE  EUROPEA  \\nFONDO  EUROPEO  DI SVILUPPO  REGIONALE   \\nMinistero  Sviluppo  Economico   \\nREGIONE  PUGLIA  \\nDIPARTIMENTO  SVILUPPO  ECONOMICO,  \\n  INNOVAZIONE,  ISTRUZIONE,   \\nFORMAZIONE  E LAVORO \\n \\n8 \\n \\n− 4.000.000  di euro in caso di medie  imprese;  \\n− 2.000.000  di euro in caso di piccole  e micro  imprese.  \\n \\nAlle imprese  può essere  erogato  un contributo  aggiuntivo  in conto  impianti  che \\nnon può essere  superiore  al 30% dell’investimento  e all’importo  massimo  di \\n1.200.000  euro per le medie  imprese  e 35% dell’investimento  e all’importo  \\nmassimo  di 700.000  euro per le piccole  imprese.  \\nLe imprese  in possesso  del rating  di legalità  (articolo  5-ter del decreto  legge  24 \\ngennaio  2012,  n.1, convertito  con modificazioni  della legge  24 maggio  2012,  n. \\n27) beneficiano  di una ulteriore  sovvenzione  diretta  che è pari al 5% dell’importo  \\ndell’investimento  per le piccole  imprese  ed al 2,50%  dell’investimento  per le \\nmedie  imprese,  in entrambi  i casi con un tetto massimo  pari ad euro 100.000,00.  \\nAlla data di invio telematica  della domanda  da parte del Soggetto  Finanziatore,  \\nle imprese  devono  già possedere  il rating  di legalità  o avere  inoltrato  apposita  \\nrichiesta  all’Autorità  Garante  della concorrenza  e del mercato.  \\nPer le imprese  che hanno  conseguito  il rating  di legalità,  l’importo  massimo  del \\ncontributo  aggiuntivo  in conto  impianti  è elevato  a euro 1.300.000  per le medie  \\nimprese  e a euro 800.000  per le piccole . \\nLe imprese  che realizzano  interventi  in opere  murarie  necessari  al recupero  di \\nimmobili  esistenti  e non utilizzati  (come  definiti  al comma  23 del precedente  art. \\n4), ove acquisibili  e restaurabili,  beneficiano  di una ulteriore  sovvenzione  diretta  \\ndel 10%.  Tale 10% di ulteriore  sovvenzione  sarà calcolato  esclusivamente  con \\nriferimento  alle spese  necessarie  all’eventuale  acquisto  e al recupero  dei predetti  \\nimmobili,  così come  definiti  al comma  23 del precedente  art. 4. \\n \\nGli aiuti di cui al presente  Avviso  sono cumulabili:  \\n➢ con gli aiuti al finanziamento  del rischio  di cui al Titolo  III del Regolamento , \\n➢ con gli aiuti de minimis  di cui al Regolamento  Regionale  n. 15 del \\n01/08/2014 . \\n \\nL’intensità  massima  di aiuto è: \\n✓ 35%  Medie  Imprese  \\n✓ 45%  Piccole  Imprese)   \n",
              "28                                                                                                                                                                                                                                                                                                                                                                                                                                                                                                                                                                                                                                                                                                                              (page_content, puglia sviluppo  \\n \\n \\nUNIONE  EUROPEA  \\nFONDO  EUROPEO  DI SVILUPPO  REGIONALE   \\nMinistero  Sviluppo  Economico   \\nREGIONE  PUGLIA  \\nDIPARTIMENTO  SVILUPPO  ECONOMICO,  \\n  INNOVAZIONE,  ISTRUZIONE,   \\nFORMAZIONE  E LAVORO \\n \\n9 \\n \\nIn presenza  di un eventuale  ESL aiuto  di cui al finanziamento  del rischio,  in \\nforma  di garanzia,  controgaranzia  e cogaranzia,  il quale  si somma  all’aiuto  di \\ncui al presente  Avviso  fino a concorrenza  del massimale,  l’ammontare  massimo  \\ndella  sovvenzione  complessiva  viene  aumentato  di 10 punti  percentuali  (45%)  \\nper le medie  imprese  e di 15 punti  percentuali  (60%)  per le piccole  imprese.  \\n \\nCome  presentare  domanda  di agevolazione ? \\nLe domande  possono  essere  inoltrate  unicamente  da un Soggetto  Finanziatore  \\n(Banca  o Confidi  Vigilato)  accreditato  o un Confidi  (iscritto  nell’Elenco  ex art. 112 \\nTUB tenuto  dall’Organismo  Confidi  Minori  oppure  iscritto  nell'albo  unico  di cui \\nall'art.  106 del TUB) in via telematica  attraverso  la procedura  on line “Titolo  II \\ncapo 6” messa  a disposizione  nella pagina  dedicata  all'Avviso  presente  su \\nwww.sistema.puglia.it  (sul sito sistema.puglia  è presente  un utility  con l’elenco  \\ndei soggetti  accreditati) . \\nL’invio  della domanda  di agevolazione  e della documentazione  relativa  sarà \\neffettuato  dal Soggetto  Finanziatore  solo successivamente  alla deliberazione  di \\nconcessione  del finanziamento.   \\nIl Soggetto  Finanziatore  deve deliberare  il finanziamento  bancario  ed inviare  \\ntelematicamente  la domanda  entro  6 mesi dalla data di ricevimento  della stessa  \\nda parte  dell’impresa  proponente,  pena la decadenza  della domanda  di aiuto \\ndell’impresa  e la eliminazione  della posizione  telematica  dalla procedura.  \\nIl Soggetto  Finanziatore  o il Confidi,  al fine di censire  telematicamente  la \\ndomanda  di aiuti nella piattaforma  telematica  (con contestuale  generazione  del \\ncodice  pratica),  deve procedere  obbligatoriamente  alla compilazione  di tutte \\nle informazioni  previste  per la generazione  della domanda  di agevolazione  \\n(Allegato  C), come  da modulo  di domanda  allegato  al presente  Avviso.  Tale \\nallegato  generato  telematicamente,  deve essere  firmato  digitalmente  dal legale  \\nrappresentante  dell’impresa  proponente  o dal libero  professionista.  \\n \\nIl Soggetto  Finanziatore  inserisce  nella procedura  telematica  l’attestazione  della \\npresentazione  domanda  (Allegato  D) sottoscritta  con firma digitale.  \\n \\nA seguito  di presentazione  della domanda  presso  un Soggetto  Finanziatore,  \\nottenuto  il codice  pratica , il Soggetto  Proponente  si deve obbligatoriamente  \\nregistrare  al portale  raggiungibile  nella pagina  dedicata  all'Avviso  presente  su \\nwww.sistema.puglia.it , eseguire  la procedura  di attivazione  profilo  e, \\nsuccessivamente,  accreditarsi  per la specifica  pratica.  Una volta accreditata  \\nl’impresa  potrà  operare  sulla propria  pratica  ed effettuare  l’upload  di tutta la)   \n",
              "29                                                                                                                                                                                                                                                                                                                                                                                                                                                                                                                                                                                                                                                                                                                                                                                                                                                                                                                                                                                                                                                                                                                                                                                                                         (page_content, puglia sviluppo  \\n \\n \\nUNIONE  EUROPEA  \\nFONDO  EUROPEO  DI SVILUPPO  REGIONALE   \\nMinistero  Sviluppo  Economico   \\nREGIONE  PUGLIA  \\nDIPARTIMENTO  SVILUPPO  ECONOMICO,  \\n  INNOVAZIONE,  ISTRUZIONE,   \\nFORMAZIONE  E LAVORO \\n \\n10 \\n \\ndocumentazione  utile al completamento  delle verifiche  istruttorie,  \\neventualmente  richiesta da Puglia  Sviluppo  SPA, come  indicato  nel precedente  \\ncomma  7. \\n \\nCome  riceverò  l’agevolazione?  \\nSulla base delle verifiche  effettuate  da parte  di Puglia  Sviluppo , la Regione,  \\nmediante  Determinazione  Dirigenziale,  adotta  il provvedimento  di ammissione  \\nprovvisoria  alle agevolazioni . \\nLa Regione  comunica  ai soggetti  proponenti  l’esito  dell’esame  tramite  pec.  \\nL’impresa  ritenuta  ammissibile,  anche  per il tramite  del Soggetto  Finanziatore  o \\ndel Confidi,  entro  2 mesi dalla documentata  conclusione  dell’investimento,  \\ninoltra  telematicamente  la richiesta  di erogazione  con tutta la documentazione  \\nprevista  dall’art.  13 dell’Avviso.  \\nPuglia  Sviluppo,  ricevuta  la richiesta  di erogazione  del contributo  con tutta la \\ndocumentazione  a corredo,  a seguito  di completamento  degli investimenti  da \\nparte  dell’impresa,  procede  all’istruttoria  tecnica,  accerta  la pertinenza  e \\nl’ammissibilità  delle spese  e, quindi,  l’agevolabilità  dell’iniziativa.   \\nL’attività  istruttoria  si conclude  con l’elabora zione  di una relazione  da sottoporre  \\nalla Regione  Puglia . \\nLa Regione  provvede  periodicamente,  rispettando  l’ordine  cronologico  di \\nricezione  delle domande  da parte  dei Soggetti  Finanziatori,  all’ammissione  \\ndefinitiva  alle agevolazion i delle iniziative  istruite  positivamente,  comunicando  il \\nprovvedimento  ai richiedenti,  ai Soggetti  Finanziatori  ed all’eventuale  Confidi.   \\nLa Regione,  provvede  alla erogazione  in unica  soluzione  all’impresa  del \\ncontributo  in conto  impianti  attualizzato  al medesimo  tasso  con cui è calcolata  \\nl’agevolazione  e di quello  aggiuntivo.  \\n \\nDove  trovo  ulteriori  informazioni?  \\nRegione  Puglia  – Area Politiche  per lo Sviluppo  Economico,  il Lavoro  e \\nl’Innovazione  Corso  Sonnino,  177, 70121  BARI  \\n \\nSiti internet:  www.regione.puglia.it ; www.sistema.puglia.it ; \\nwww.pugliasviluppo.eu.  \\n \\nI moduli  e gli allegati  del presente  Avviso  sono resi disponibili  sul sito \\nwww.sistema.puglia.it . \\n \\nSul sito www. sistema .puglia.it  puoi: \\n➢ scaricare  la normativa  e la modulistica;  \\n➢ verificare  i Codici  Ateco  ammissibili ; \\n➢ formulare  specifiche  domande.)   \n",
              "\n",
              "                                                                                                                                                                                                                                                     1  \\\n",
              "0                                                                                             (metadata, {'label': 'Avviso MicroPrestito della Regione Puglia', 'source': 'Scheda MicroPrestito della Regione Puglia - edizione 2021.pdf', 'page': 0})   \n",
              "1                                                                                             (metadata, {'label': 'Avviso MicroPrestito della Regione Puglia', 'source': 'Scheda MicroPrestito della Regione Puglia - edizione 2021.pdf', 'page': 0})   \n",
              "2                                                                                                                      (metadata, {'label': 'Avviso operativo', 'source': 'Scheda MicroPrestito della Regione Puglia - edizione 2021.pdf', 'page': 1})   \n",
              "3                                                                                                              (metadata, {'label': 'NIDI', 'source': 'Scheda NIDI - Nuove iniziative d'impresa_ Strumento di ingegneria finanziaria.pdf', 'page': 0})   \n",
              "4                                                                                                           (metadata, {'label': 'Imprese', 'source': 'Scheda NIDI - Nuove iniziative d'impresa_ Strumento di ingegneria finanziaria.pdf', 'page': 1})   \n",
              "5                                                                                                 (metadata, {'label': 'spese ammissibili', 'source': 'Scheda NIDI - Nuove iniziative d'impresa_ Strumento di ingegneria finanziaria.pdf', 'page': 2})   \n",
              "6                                                                                                       (metadata, {'label': 'investments', 'source': 'Scheda NIDI - Nuove iniziative d'impresa_ Strumento di ingegneria finanziaria.pdf', 'page': 3})   \n",
              "7                                                                                          (metadata, {'label': 'INVESTIMENTI AMMISSIBILI', 'source': 'Scheda NIDI - Nuove iniziative d'impresa_ Strumento di ingegneria finanziaria.pdf', 'page': 4})   \n",
              "8                                                                                                      (metadata, {'label': 'agevolazione', 'source': 'Scheda NIDI - Nuove iniziative d'impresa_ Strumento di ingegneria finanziaria.pdf', 'page': 5})   \n",
              "9                                                                                                   (metadata, {'label': 'Puglia sviluppo', 'source': 'Scheda NIDI - Nuove iniziative d'impresa_ Strumento di ingegneria finanziaria.pdf', 'page': 6})   \n",
              "10                              (metadata, {'label': 'Aiuti agli Investimenti delle Piccole e Medie Imprese', 'source': 'Aiuti agli Investimenti delle Piccole e Medie Imprese (Titolo II Capo 3 Reg_ Regionale 17_2014)_br ___br __.pdf', 'page': 0})   \n",
              "11                                                                   (metadata, {'label': 'Titolo II capo 3', 'source': 'Aiuti agli Investimenti delle Piccole e Medie Imprese (Titolo II Capo 3 Reg_ Regionale 17_2014)_br ___br __.pdf', 'page': 1})   \n",
              "12                                                                         (metadata, {'label': 'properties', 'source': 'Aiuti agli Investimenti delle Piccole e Medie Imprese (Titolo II Capo 3 Reg_ Regionale 17_2014)_br ___br __.pdf', 'page': 2})   \n",
              "13                                                                         (metadata, {'label': 'properties', 'source': 'Aiuti agli Investimenti delle Piccole e Medie Imprese (Titolo II Capo 3 Reg_ Regionale 17_2014)_br ___br __.pdf', 'page': 3})   \n",
              "14                                                              (metadata, {'label': 'spese non ammissibili', 'source': 'Aiuti agli Investimenti delle Piccole e Medie Imprese (Titolo II Capo 3 Reg_ Regionale 17_2014)_br ___br __.pdf', 'page': 4})   \n",
              "15                                                                        (metadata, {'label': 'investments', 'source': 'Aiuti agli Investimenti delle Piccole e Medie Imprese (Titolo II Capo 3 Reg_ Regionale 17_2014)_br ___br __.pdf', 'page': 5})   \n",
              "16                                                                    (metadata, {'label': 'puglia sviluppo', 'source': 'Aiuti agli Investimenti delle Piccole e Medie Imprese (Titolo II Capo 3 Reg_ Regionale 17_2014)_br ___br __.pdf', 'page': 6})   \n",
              "17                                                                            (metadata, {'label': 'imprese', 'source': 'Aiuti agli Investimenti delle Piccole e Medie Imprese (Titolo II Capo 3 Reg_ Regionale 17_2014)_br ___br __.pdf', 'page': 7})   \n",
              "18                                                                    (metadata, {'label': 'puglia sviluppo', 'source': 'Aiuti agli Investimenti delle Piccole e Medie Imprese (Titolo II Capo 3 Reg_ Regionale 17_2014)_br ___br __.pdf', 'page': 8})   \n",
              "19                                                                            (metadata, {'label': 'Passage', 'source': 'Aiuti agli Investimenti delle Piccole e Medie Imprese (Titolo II Capo 3 Reg_ Regionale 17_2014)_br ___br __.pdf', 'page': 9})   \n",
              "20  (metadata, {'label': 'Aiuti Agli Investimenti delle PMI nel Settore Turistico - Alberghiero', 'source': 'Aiuti Agli Investimenti delle PMI nel Settore Turistico - Alberghiero (Titolo II capo 6 Reg_ Reg_ 17_2014) _br ___br __.pdf', 'page': 0})   \n",
              "21                                                       (metadata, {'label': 'Titolo II capo 6', 'source': 'Aiuti Agli Investimenti delle PMI nel Settore Turistico - Alberghiero (Titolo II capo 6 Reg_ Reg_ 17_2014) _br ___br __.pdf', 'page': 1})   \n",
              "22                                                             (metadata, {'label': 'properties', 'source': 'Aiuti Agli Investimenti delle PMI nel Settore Turistico - Alberghiero (Titolo II capo 6 Reg_ Reg_ 17_2014) _br ___br __.pdf', 'page': 2})   \n",
              "23                                                      (metadata, {'label': 'spese ammissibili', 'source': 'Aiuti Agli Investimenti delle PMI nel Settore Turistico - Alberghiero (Titolo II capo 6 Reg_ Reg_ 17_2014) _br ___br __.pdf', 'page': 3})   \n",
              "24                 (metadata, {'label': 'impianti di produzione di energia da fonte rinnovabile', 'source': 'Aiuti Agli Investimenti delle PMI nel Settore Turistico - Alberghiero (Titolo II capo 6 Reg_ Reg_ 17_2014) _br ___br __.pdf', 'page': 4})   \n",
              "25                                                                  (metadata, {'label': 'spese', 'source': 'Aiuti Agli Investimenti delle PMI nel Settore Turistico - Alberghiero (Titolo II capo 6 Reg_ Reg_ 17_2014) _br ___br __.pdf', 'page': 5})   \n",
              "26                                            (metadata, {'label': 'investimenti e agevolazioni', 'source': 'Aiuti Agli Investimenti delle PMI nel Settore Turistico - Alberghiero (Titolo II capo 6 Reg_ Reg_ 17_2014) _br ___br __.pdf', 'page': 6})   \n",
              "27                                                                (metadata, {'label': 'imprese', 'source': 'Aiuti Agli Investimenti delle PMI nel Settore Turistico - Alberghiero (Titolo II capo 6 Reg_ Reg_ 17_2014) _br ___br __.pdf', 'page': 7})   \n",
              "28                                                           (metadata, {'label': 'agevolazione', 'source': 'Aiuti Agli Investimenti delle PMI nel Settore Turistico - Alberghiero (Titolo II capo 6 Reg_ Reg_ 17_2014) _br ___br __.pdf', 'page': 8})   \n",
              "29                                                        (metadata, {'label': 'Puglia Sviluppo', 'source': 'Aiuti Agli Investimenti delle PMI nel Settore Turistico - Alberghiero (Titolo II capo 6 Reg_ Reg_ 17_2014) _br ___br __.pdf', 'page': 9})   \n",
              "\n",
              "                   2  \n",
              "0   (type, Document)  \n",
              "1   (type, Document)  \n",
              "2   (type, Document)  \n",
              "3   (type, Document)  \n",
              "4   (type, Document)  \n",
              "5   (type, Document)  \n",
              "6   (type, Document)  \n",
              "7   (type, Document)  \n",
              "8   (type, Document)  \n",
              "9   (type, Document)  \n",
              "10  (type, Document)  \n",
              "11  (type, Document)  \n",
              "12  (type, Document)  \n",
              "13  (type, Document)  \n",
              "14  (type, Document)  \n",
              "15  (type, Document)  \n",
              "16  (type, Document)  \n",
              "17  (type, Document)  \n",
              "18  (type, Document)  \n",
              "19  (type, Document)  \n",
              "20  (type, Document)  \n",
              "21  (type, Document)  \n",
              "22  (type, Document)  \n",
              "23  (type, Document)  \n",
              "24  (type, Document)  \n",
              "25  (type, Document)  \n",
              "26  (type, Document)  \n",
              "27  (type, Document)  \n",
              "28  (type, Document)  \n",
              "29  (type, Document)  "
            ]
          },
          "execution_count": 14,
          "metadata": {},
          "output_type": "execute_result"
        }
      ],
      "source": [
        "import pandas as pd\n",
        "\n",
        "# Assuming df is your DataFrame\n",
        "pd.set_option('display.max_colwidth', None)\n",
        "\n",
        "# Display the DataFrame\n",
        "df.head(30)\n"
      ]
    },
    {
      "cell_type": "code",
      "execution_count": null,
      "metadata": {
        "colab": {
          "base_uri": "https://localhost:8080/"
        },
        "id": "QfRmQjKrwjUE",
        "outputId": "de563848-6c7b-4741-d6f1-bc3a39229169"
      },
      "outputs": [
        {
          "data": {
            "text/plain": [
              "Document(page_content=\"Puglia sviluppo  \\nUNIONE  EUROPEA  \\nFONDO  EUROPEO  DI SVILUPPO  REGIONALE  REGIONE  PUGLIA  \\nDIPARTIMENTO  SVILUPPO  ECONOMICO,  \\nINNOVAZIONE,  ISTRUZIONE,  \\nFORMAZIONE  E LAVORO  Ministero  Sviluppo  Economico  \\n1  \\n  \\n \\nNIDI  – Nuove  iniziative d’impresa  \\nStrumento  di ingegneria  finanziaria  \\n \\nAvviso  a sportello  \\nL’iniziativa  viene  attuata  da Puglia  Sviluppo  S.p.A. – società  interamente  \\npartecipata  dalla Regione  Puglia  – con il sostegno  dell’Unione  Europea,  \\nattraverso il Programma  Operativo FESR -FSE 2014 – 2020.  \\nCosa  trovo  in questa  scheda?  \\nQuesta  scheda  contiene  alcune  informazioni  su NIDI strumento  di politica  attiva  \\ndel lavoro della Regione  Puglia  che sostiene  le scelte  di autoimpiego  ed \\nautoimprenditorialità  da parte  delle donne,  dei disoccupati,  dei precari,  di chi sta \\nper perdere il  posto  di lavoro,  dei giovani.  \\nL’obiettivo  di questa  scheda  è fornire  un primo  orientamento  su questa  \\nopportunità  per coloro che intendono  accedere  ai finanziamenti del Fondo  messi  \\na disposizione dalla Regione  Puglia.  \\nNidi offre un aiuto per l'avvio di una nuova impresa con un contributo a fondo  \\nperduto  e un prestito  rimborsabile  sulle spese  per investimenti. È anche  previsto  \\nun ulteriore contributo a fondo perduto per le spese di gestione sostenute nei  \\nprimi mesi di attività. \\nLa dotazione  della misura  è pari a 35.000.000 euro. \\nChi può richiedere l’agevolazione?  \\nPuò richiedere  l'agevolazione: \\n• chi intende  avviare  una nuova  attività  e non ha ancora  costituito  \\nl’impresa;  \\n• le imprese costituite da meno di 6 mesi ; \\n• le imprese,  pur se costituite  da più di 6 mesi, che si configurino  come:  \\n\\uf0fc passaggio  generazionale;  \\n\\uf0fc rilevamento  di impresa  in crisi o di impresa  confiscata da parte  dei \\ndipendenti;  \\n\\uf0fc cooperative  sociali  assegnatarie  di beni immobili  confiscati;  \\n\\uf0fc beneficiarie  della misura  “PIN – Pugliesi Innovativi . \\n \\nLe Nuove Iniziative d’Impresa dovranno ricadere in una delle seguenti \\nfattispecie : \\n- Compagini Giovanili, da costituirsi in forma di società, partecipate \\ninteramente da giovani  con età compresa tra i 18 e i 35 anni alla data della\", metadata={'label': 'NIDI', 'source': \"Scheda NIDI - Nuove iniziative d'impresa_ Strumento di ingegneria finanziaria.pdf\", 'page': 0})"
            ]
          },
          "execution_count": 65,
          "metadata": {},
          "output_type": "execute_result"
        }
      ],
      "source": [
        "split_docs[3]"
      ]
    },
    {
      "cell_type": "markdown",
      "source": [
        "Qui provo a cambiare a mano una label decisa da me"
      ],
      "metadata": {
        "id": "8FL06DlU-A0q"
      }
    },
    {
      "cell_type": "code",
      "execution_count": null,
      "metadata": {
        "colab": {
          "base_uri": "https://localhost:8080/"
        },
        "id": "O69cKzEO13gJ",
        "outputId": "19d68463-06b9-44f3-f348-d14e0fe847c5"
      },
      "outputs": [
        {
          "data": {
            "text/plain": [
              "{'label': 'agevolazione NIDI',\n",
              " 'source': \"Scheda NIDI - Nuove iniziative d'impresa_ Strumento di ingegneria finanziaria.pdf\",\n",
              " 'page': 3}"
            ]
          },
          "execution_count": 67,
          "metadata": {},
          "output_type": "execute_result"
        }
      ],
      "source": [
        "for doc in split_docs:\n",
        "  if doc.metadata['source'] == \"Scheda NIDI - Nuove iniziative d'impresa_ Strumento di ingegneria finanziaria.pdf\":\n",
        "    doc.metadata['label'] = 'agevolazione NIDI'\n",
        "split_docs[6].metadata"
      ]
    },
    {
      "cell_type": "code",
      "execution_count": null,
      "metadata": {
        "id": "5l3tVFeY2I_d"
      },
      "outputs": [],
      "source": [
        "for doc in split_docs:\n",
        "  if doc.metadata['source'] == \"Scheda NIDI - Nuove iniziative d'impresa_ Strumento di ingegneria finanziaria.pdf\" and doc.metadata['page'] == 2  :\n",
        "    doc.metadata['argomento'] = 'Spese'"
      ]
    },
    {
      "cell_type": "markdown",
      "source": [
        "Inserisco tutte le label in una lista che mi salverò sul disco"
      ],
      "metadata": {
        "id": "nlkWsr2F-J3W"
      }
    },
    {
      "cell_type": "code",
      "execution_count": null,
      "metadata": {
        "colab": {
          "base_uri": "https://localhost:8080/"
        },
        "id": "MdKgyX3AV05b",
        "outputId": "a247ecf1-13a6-4740-bdfe-1436a1a1368b"
      },
      "outputs": [
        {
          "data": {
            "text/plain": [
              "{'Appendice A1',\n",
              " 'Attivi Materiali',\n",
              " 'Avviso',\n",
              " 'Avviso 4/2016',\n",
              " 'Avviso 40/2017',\n",
              " 'Avviso MicroPrestito della Regione Puglia',\n",
              " 'Avviso OF 22',\n",
              " 'Avviso n. 40/2017',\n",
              " 'Avviso pubblico',\n",
              " 'Certificazione ex novo',\n",
              " 'Codici Ateco',\n",
              " 'Contratti di Programma',\n",
              " 'Contratto di Programma',\n",
              " 'Diploma Professionale',\n",
              " 'Diploma professionale',\n",
              " 'Dotazione finanziaria',\n",
              " 'GOL',\n",
              " 'Misura',\n",
              " 'Misure',\n",
              " 'Obiettivi',\n",
              " 'Organismi accreditati',\n",
              " 'Organismi formativi',\n",
              " 'PIA',\n",
              " 'PIA TURISMO',\n",
              " 'PICCOLE IMPRESE',\n",
              " 'Pass Laureati',\n",
              " 'Pass Laureati 2022',\n",
              " 'Pass Laureati 2023',\n",
              " 'Passage',\n",
              " 'Percorsi IeFP',\n",
              " 'Puglia',\n",
              " 'Puglia Sviluppo',\n",
              " 'Puglia sviluppo',\n",
              " 'Reddito di Dignità pugliese',\n",
              " 'Regione Puglia',\n",
              " 'Responsabile di Azione',\n",
              " 'Responsabile di Procedimento',\n",
              " 'Risorse economiche',\n",
              " 'Tecnonidi',\n",
              " 'Titolo II capo 3',\n",
              " 'Titolo II capo 6',\n",
              " 'Titolo bando',\n",
              " 'VALORE DELLA COMPONENTE PATRIMONIALE IMMOBILIARE DELL’ISEE, AL NETTO DELLE DETRAZIONI, NON SUPERIORE A € 30.000,00;',\n",
              " 'Voci di Spesa',\n",
              " 'accreditamento',\n",
              " 'acquisto',\n",
              " 'agevolazione',\n",
              " 'agevolazione NIDI',\n",
              " 'agevolazioni',\n",
              " 'aiuto',\n",
              " 'bilanci',\n",
              " 'documentazione fiscale dell’esercizio 2019',\n",
              " 'documento',\n",
              " 'domanda',\n",
              " 'impianti di produzione di idrogeno rinnovabile',\n",
              " 'imprese',\n",
              " 'imprese di piccole dimensioni',\n",
              " 'investimenti',\n",
              " 'investimenti e agevolazioni',\n",
              " 'misura Tecno Nidi',\n",
              " 'novità',\n",
              " 'numero dei percorsi assegnati',\n",
              " 'offerta formativa',\n",
              " 'opere murarie e assimilabili riferite a immobili dichiarati inagibili o inabitabili e di fatto non utilizzati',\n",
              " 'organismi accreditati',\n",
              " 'passage',\n",
              " 'percorsi IeFP',\n",
              " 'percorsi formativi',\n",
              " 'responsabile del procedimento',\n",
              " 'risorse disponibili',\n",
              " 'scheda',\n",
              " 'soggetti accreditati',\n",
              " 'spese',\n",
              " 'spese ammissibili'}"
            ]
          },
          "execution_count": 69,
          "metadata": {},
          "output_type": "execute_result"
        }
      ],
      "source": [
        "list_label = []\n",
        "for doc in split_docs:\n",
        "  list_label.append(doc.metadata['label'])\n",
        "\n",
        "list_label = set(list_label)\n",
        "list_label"
      ]
    },
    {
      "cell_type": "code",
      "execution_count": null,
      "metadata": {
        "id": "kIoCymk2Xu2T"
      },
      "outputs": [],
      "source": [
        "with open(\"lista_label.txt\", \"w\") as f:\n",
        "  for elemento in list_label:\n",
        "    f.write(str(elemento) + \"\\n\")\n",
        "f.close()"
      ]
    },
    {
      "cell_type": "code",
      "execution_count": null,
      "metadata": {
        "colab": {
          "base_uri": "https://localhost:8080/"
        },
        "id": "8O9RMHPl2s5T",
        "outputId": "e6a9fd94-db82-44d2-9e0d-83ad30d27a07"
      },
      "outputs": [
        {
          "data": {
            "text/plain": [
              "{'label': 'agevolazione NIDI',\n",
              " 'source': \"Scheda NIDI - Nuove iniziative d'impresa_ Strumento di ingegneria finanziaria.pdf\",\n",
              " 'page': 2,\n",
              " 'argomento': 'Spese'}"
            ]
          },
          "execution_count": 71,
          "metadata": {},
          "output_type": "execute_result"
        }
      ],
      "source": [
        "split_docs[5].metadata"
      ]
    },
    {
      "cell_type": "markdown",
      "source": [
        "provo ad aggiungere un secondo metadato specifico per un chunk"
      ],
      "metadata": {
        "id": "f8KNf1kX-WV9"
      }
    },
    {
      "cell_type": "code",
      "execution_count": null,
      "metadata": {
        "id": "y8RreGwM2nCQ"
      },
      "outputs": [],
      "source": [
        "for doc in split_docs:\n",
        "  if doc.metadata['source'] == \"Scheda NIDI - Nuove iniziative d'impresa_ Strumento di ingegneria finanziaria.pdf\" and doc.metadata['page'] == 6  :\n",
        "    doc.metadata['argomento'] = 'Ulteriori Informazioni'"
      ]
    },
    {
      "cell_type": "code",
      "execution_count": null,
      "metadata": {
        "colab": {
          "base_uri": "https://localhost:8080/"
        },
        "id": "Uo3Yslmg3pxT",
        "outputId": "e1d59fae-d3df-43af-951a-b279cf70b9d1"
      },
      "outputs": [
        {
          "data": {
            "text/plain": [
              "{'label': 'agevolazione NIDI',\n",
              " 'source': \"Scheda NIDI - Nuove iniziative d'impresa_ Strumento di ingegneria finanziaria.pdf\",\n",
              " 'page': 6,\n",
              " 'argomento': 'Ulteriori Informazioni'}"
            ]
          },
          "execution_count": 73,
          "metadata": {},
          "output_type": "execute_result"
        }
      ],
      "source": [
        "split_docs[9].metadata"
      ]
    },
    {
      "cell_type": "code",
      "execution_count": null,
      "metadata": {
        "colab": {
          "base_uri": "https://localhost:8080/"
        },
        "id": "gpQeZyExCuC3",
        "outputId": "e2a50a06-0b79-4f96-b93a-2446bab48f07"
      },
      "outputs": [
        {
          "name": "stdout",
          "output_type": "stream",
          "text": [
            "Numero di chunks 127\n"
          ]
        }
      ],
      "source": [
        "print(f'Numero di chunks {len(split_docs)}')"
      ]
    },
    {
      "cell_type": "markdown",
      "source": [
        "###Creazione dei Vector Store"
      ],
      "metadata": {
        "id": "IjCVltiu-ssO"
      }
    },
    {
      "cell_type": "code",
      "execution_count": null,
      "metadata": {
        "id": "TBneD_5lC25t"
      },
      "outputs": [],
      "source": [
        "from langchain.embeddings.openai import OpenAIEmbeddings\n",
        "embedding = OpenAIEmbeddings()"
      ]
    },
    {
      "cell_type": "code",
      "execution_count": null,
      "metadata": {
        "id": "E10Z4y-ANMms"
      },
      "outputs": [],
      "source": [
        "from langchain.vectorstores import Chroma\n",
        "persist_directory = './Tesi/Documenti/docs/chroma/'"
      ]
    },
    {
      "cell_type": "markdown",
      "source": [
        "Creo un vector store con Chroma"
      ],
      "metadata": {
        "id": "f-LqGBrv-oH-"
      }
    },
    {
      "cell_type": "code",
      "execution_count": null,
      "metadata": {
        "id": "u_j9rj2BOE_f"
      },
      "outputs": [],
      "source": [
        "vectordb = Chroma.from_documents(\n",
        "    documents=split_docs,\n",
        "    embedding=embedding,\n",
        "    persist_directory=persist_directory\n",
        ")"
      ]
    },
    {
      "cell_type": "code",
      "source": [
        "vectordb = Chroma(persist_directory = persist_directory, embedding_function= embedding)"
      ],
      "metadata": {
        "id": "7hLVXep-s3cY"
      },
      "execution_count": null,
      "outputs": []
    },
    {
      "cell_type": "code",
      "execution_count": null,
      "metadata": {
        "colab": {
          "base_uri": "https://localhost:8080/"
        },
        "id": "g46scIryOMuA",
        "outputId": "65df94bc-ea2f-418a-ee3c-91cc7acb460d"
      },
      "outputs": [
        {
          "output_type": "stream",
          "name": "stdout",
          "text": [
            "127\n"
          ]
        }
      ],
      "source": [
        "print(vectordb._collection.count())"
      ]
    },
    {
      "cell_type": "code",
      "execution_count": null,
      "metadata": {
        "id": "AE_MidE9NmMs"
      },
      "outputs": [],
      "source": [
        "# !rm -rf ./Tesi/Documenti/docs/chroma/ # remove old database files if any"
      ]
    },
    {
      "cell_type": "code",
      "execution_count": null,
      "metadata": {
        "id": "uHibXEmhC0vl"
      },
      "outputs": [],
      "source": [
        "def insert_or_fetch_embeddings(index_name, chunks):\n",
        "    import pinecone\n",
        "    from langchain.vectorstores import Pinecone\n",
        "    from langchain.embeddings.openai import OpenAIEmbeddings\n",
        "\n",
        "    embeddings = OpenAIEmbeddings()\n",
        "\n",
        "    pinecone.init(api_key=os.environ.get('PINECONE_API_KEY'), environment=os.environ.get('PINECONE_ENV'))\n",
        "\n",
        "    if index_name in pinecone.list_indexes():\n",
        "        print(f'Index {index_name} esiste. Loading embeddings ... ', end='')\n",
        "        vector_store = Pinecone.from_existing_index(index_name, embeddings)\n",
        "        print('Ok')\n",
        "    else:\n",
        "        print(f'Creazione di index {index_name} e embeddings ...', end='')\n",
        "        pinecone.create_index(index_name, dimension=1536, metric='cosine')\n",
        "        vector_store = Pinecone.from_documents(chunks, embeddings, index_name=index_name)\n",
        "        print('Ok')\n",
        "\n",
        "    return vector_store"
      ]
    },
    {
      "cell_type": "code",
      "execution_count": null,
      "metadata": {
        "colab": {
          "base_uri": "https://localhost:8080/"
        },
        "id": "cwXPPNQeC52Y",
        "outputId": "41d2c0d7-0393-4bf4-950c-ed72e0597006"
      },
      "outputs": [
        {
          "name": "stdout",
          "output_type": "stream",
          "text": [
            "1536\n"
          ]
        }
      ],
      "source": [
        "vector = embedding.embed_query(split_docs[0].page_content)\n",
        "print(len(vector))"
      ]
    },
    {
      "cell_type": "code",
      "execution_count": null,
      "metadata": {
        "colab": {
          "base_uri": "https://localhost:8080/",
          "height": 217
        },
        "id": "FLCAGneFC6_X",
        "outputId": "e8e1742c-5c1b-4edd-9cd3-be4df1295ba1"
      },
      "outputs": [
        {
          "output_type": "error",
          "ename": "NameError",
          "evalue": "ignored",
          "traceback": [
            "\u001b[0;31m---------------------------------------------------------------------------\u001b[0m",
            "\u001b[0;31mNameError\u001b[0m                                 Traceback (most recent call last)",
            "\u001b[0;32m<ipython-input-14-1a35c63bb919>\u001b[0m in \u001b[0;36m<cell line: 8>\u001b[0;34m()\u001b[0m\n\u001b[1;32m      6\u001b[0m     \u001b[0mprint\u001b[0m\u001b[0;34m(\u001b[0m\u001b[0;34mf'Costo degli Embedding $: {total_tokens / 1000 * 0.0001:.6f}'\u001b[0m\u001b[0;34m)\u001b[0m\u001b[0;34m\u001b[0m\u001b[0;34m\u001b[0m\u001b[0m\n\u001b[1;32m      7\u001b[0m \u001b[0;34m\u001b[0m\u001b[0m\n\u001b[0;32m----> 8\u001b[0;31m \u001b[0mprint_embedding_cost\u001b[0m\u001b[0;34m(\u001b[0m\u001b[0msplit_docs\u001b[0m\u001b[0;34m)\u001b[0m\u001b[0;34m\u001b[0m\u001b[0;34m\u001b[0m\u001b[0m\n\u001b[0m",
            "\u001b[0;31mNameError\u001b[0m: name 'split_docs' is not defined"
          ]
        }
      ],
      "source": [
        "def print_embedding_cost(texts):\n",
        "    import tiktoken\n",
        "    enc = tiktoken.encoding_for_model('text-embedding-ada-002')\n",
        "    total_tokens = sum([len(enc.encode(page.page_content)) for page in texts])\n",
        "    print(f'Numero totale di Token: {total_tokens}')\n",
        "    print(f'Costo degli Embedding $: {total_tokens / 1000 * 0.0001:.6f}')\n",
        "\n",
        "print_embedding_cost(split_docs)"
      ]
    },
    {
      "cell_type": "code",
      "source": [
        "df = pd.read_csv"
      ],
      "metadata": {
        "id": "uIt8sMLzvwTR"
      },
      "execution_count": null,
      "outputs": []
    },
    {
      "cell_type": "code",
      "execution_count": null,
      "metadata": {
        "colab": {
          "base_uri": "https://localhost:8080/"
        },
        "id": "CA1Ptid3C9JC",
        "outputId": "1ed4c8d0-060c-490e-d111-ab6d79d3c822"
      },
      "outputs": [
        {
          "output_type": "stream",
          "name": "stderr",
          "text": [
            "/usr/local/lib/python3.10/dist-packages/pinecone/index.py:4: TqdmExperimentalWarning: Using `tqdm.autonotebook.tqdm` in notebook mode. Use `tqdm.tqdm` instead to force console mode (e.g. in jupyter console)\n",
            "  from tqdm.autonotebook import tqdm\n"
          ]
        }
      ],
      "source": [
        "import pinecone\n",
        "\n",
        "pinecone.init(\n",
        "    api_key=os.environ.get('PINECONE_API_KEY'),\n",
        "    environment=os.environ.get('PINECONE_ENV')\n",
        ")"
      ]
    },
    {
      "cell_type": "code",
      "execution_count": null,
      "metadata": {
        "colab": {
          "base_uri": "https://localhost:8080/"
        },
        "id": "n4FVd0GSC_Oy",
        "outputId": "67e57763-45b6-40f5-9d62-2f8bf4905855"
      },
      "outputs": [
        {
          "output_type": "execute_result",
          "data": {
            "text/plain": [
              "['embedding-bandi']"
            ]
          },
          "metadata": {},
          "execution_count": 16
        }
      ],
      "source": [
        "pinecone.list_indexes()"
      ]
    },
    {
      "cell_type": "code",
      "execution_count": null,
      "metadata": {
        "colab": {
          "base_uri": "https://localhost:8080/"
        },
        "id": "hoRbwGtvDBt3",
        "outputId": "faadb655-059a-4320-e07f-31e980e907fd"
      },
      "outputs": [
        {
          "name": "stdout",
          "output_type": "stream",
          "text": [
            "ok\n"
          ]
        }
      ],
      "source": [
        "# indexes = pinecone.list_indexes()\n",
        "# for i in indexes:\n",
        "#   pinecone.delete_index(i)\n",
        "#   print('ok')"
      ]
    },
    {
      "cell_type": "markdown",
      "source": [
        "Mentre qui creo un vectorstore di Pinecone"
      ],
      "metadata": {
        "id": "7ghLDbqE-zl7"
      }
    },
    {
      "cell_type": "code",
      "execution_count": null,
      "metadata": {
        "colab": {
          "base_uri": "https://localhost:8080/"
        },
        "id": "0qWCAF-7DF9C",
        "outputId": "6f438337-5999-43e9-847a-781df3f6c00b"
      },
      "outputs": [
        {
          "output_type": "stream",
          "name": "stdout",
          "text": [
            "Index embedding-bandi esiste. Loading embeddings ... Ok\n"
          ]
        }
      ],
      "source": [
        "index_name = 'embedding-bandi'\n",
        "vector_store = insert_or_fetch_embeddings(index_name, split_docs)"
      ]
    },
    {
      "cell_type": "markdown",
      "source": [
        "provo a fare una similarity search su Pinecone filtrando una label"
      ],
      "metadata": {
        "id": "dAjbSZu9-6TI"
      }
    },
    {
      "cell_type": "code",
      "execution_count": null,
      "metadata": {
        "colab": {
          "base_uri": "https://localhost:8080/"
        },
        "id": "BAVZA6HjDHJy",
        "outputId": "39265b43-1f40-4eb3-be43-670fef9dcebe"
      },
      "outputs": [
        {
          "output_type": "stream",
          "name": "stdout",
          "text": [
            "[Document(page_content=\"Puglia sviluppo  \\nUNIONE  EUROPEA  \\nFONDO  EUROPEO  DI SVILUPPO  REGIONALE  REGIONE  PUGLIA  \\nDIPARTIMENTO  SVILUPPO  ECONOMICO,  \\nINNOVAZIONE,  ISTRUZIONE,  \\nFORMAZIONE  E LAVORO  Ministero  Sviluppo  Economico  \\n1  \\n  \\n \\nNIDI  – Nuove  iniziative d’impresa  \\nStrumento  di ingegneria  finanziaria  \\n \\nAvviso  a sportello  \\nL’iniziativa  viene  attuata  da Puglia  Sviluppo  S.p.A. – società  interamente  \\npartecipata  dalla Regione  Puglia  – con il sostegno  dell’Unione  Europea,  \\nattraverso il Programma  Operativo FESR -FSE 2014 – 2020.  \\nCosa  trovo  in questa  scheda?  \\nQuesta  scheda  contiene  alcune  informazioni  su NIDI strumento  di politica  attiva  \\ndel lavoro della Regione  Puglia  che sostiene  le scelte  di autoimpiego  ed \\nautoimprenditorialità  da parte  delle donne,  dei disoccupati,  dei precari,  di chi sta \\nper perdere il  posto  di lavoro,  dei giovani.  \\nL’obiettivo  di questa  scheda  è fornire  un primo  orientamento  su questa  \\nopportunità  per coloro che intendono  accedere  ai finanziamenti del Fondo  messi  \\na disposizione dalla Regione  Puglia.  \\nNidi offre un aiuto per l'avvio di una nuova impresa con un contributo a fondo  \\nperduto  e un prestito  rimborsabile  sulle spese  per investimenti. È anche  previsto  \\nun ulteriore contributo a fondo perduto per le spese di gestione sostenute nei  \\nprimi mesi di attività. \\nLa dotazione  della misura  è pari a 35.000.000 euro. \\nChi può richiedere l’agevolazione?  \\nPuò richiedere  l'agevolazione: \\n• chi intende  avviare  una nuova  attività  e non ha ancora  costituito  \\nl’impresa;  \\n• le imprese costituite da meno di 6 mesi ; \\n• le imprese,  pur se costituite  da più di 6 mesi, che si configurino  come:  \\n\\uf0fc passaggio  generazionale;  \\n\\uf0fc rilevamento  di impresa  in crisi o di impresa  confiscata da parte  dei \\ndipendenti;  \\n\\uf0fc cooperative  sociali  assegnatarie  di beni immobili  confiscati;  \\n\\uf0fc beneficiarie  della misura  “PIN – Pugliesi Innovativi . \\n \\nLe Nuove Iniziative d’Impresa dovranno ricadere in una delle seguenti \\nfattispecie : \\n- Compagini Giovanili, da costituirsi in forma di società, partecipate \\ninteramente da giovani  con età compresa tra i 18 e i 35 anni alla data della\", metadata={'label': 'Agevolazione', 'page': 0.0, 'source': \"Scheda NIDI - Nuove iniziative d'impresa_ Strumento di ingegneria finanziaria.pdf\"}), Document(page_content='Puglia sviluppo  \\nUNIONE  EUROPEA  \\nFONDO  EUROPEO  DI SVILUPPO  REGIONALE  REGIONE  PUGLIA  \\nDIPARTIMENTO  SVILUPPO  ECONOMICO,  \\nINNOVAZIONE,  ISTRUZIONE,  \\nFORMAZIONE  E LAVORO  Ministero  Sviluppo  Economico  \\n6  \\n Per le compagini giovanili  e le imprese femminili , il prestito sarà pari al 25% \\ndel totale degli investimenti agevolati e il restante 25% sarà costituito da \\nun’aiuto nella forma dell’assistenza rimborsabile. Ai beneficiari che saranno in \\nregola con la restituzione delle rate del piano di ammortamento prima della \\nscadenza della 31a rata e che avranno adempiuto alla corretta dimostrazione \\ndi spesa sarà riconosciuta una premialità di importo pari alla somma delle 30 \\nrate dell’assistenza rimborsabile. Tale premialità, pari al 25% dell’importo \\nagevolato, sarà concessa mediante l’integrale abbuono delle 30 rate restanti.   \\n \\nCome presentare  domanda  di agevolazione?  \\nBisogna  iscriversi  (gratuitamente) sul portale  www.sistema.puglia.it.  \\nIl portale prevede una sezione dedicata a NIDI che deve essere utilizzata per  \\ncompilare la domanda preliminare che descrive le caratteristiche tecniche ed  \\neconomiche del progetto, i profili dei soggetti proponenti, l’ammontare e le  \\ncaratteristiche  degli investimenti  e delle spese  previste. \\nNella fase preliminare  non è previsto  l’invio  di alcun  documento  cartaceo  né l’uso \\ndella PEC. La domanda  preliminare  non è un’istanza  di accesso  alle agevolazioni  \\ndel Fondo. Quest’ultima è formalizzata e sottoscritta durante un colloquio di  \\ntutoraggio  presso Puglia Sviluppo S.p.A.  \\nIl colloquio  di tutoraggio  presso  Puglia Sviluppo  ha, infatti, le finalità  di: \\n- valutare  la fattibilità  del progetto  rispetto  alle competenze  maturate  \\ndall’impresa  e alle prospettive  di mercato;  \\n- assistere  i proponenti  nella definizione  del programma  di investimenti al fine \\ndi pervenire  alla formulazione  della definitiva  istanza  di agevolazione. \\nAl termine  del colloquio  è rilasciata  ai proponenti  copia del verbale  e dell’istanza  \\ndi agevolazione.  \\n \\nCome  viene  concessa  l’agevolazione?  \\nAlla conclusione  dell’iter  istruttorio  Puglia  Sviluppo  adotta  il provvedimento  di \\nconcessione  delle agevolazioni ovvero  di inammissibilità.  \\nLe imprese ammesse sono convocate, presso la sede di Puglia Sviluppo, per un  \\nincontro  finalizzato  alla sottoscrizione  del contratto  di agevolazione  e per \\npartecipare ad una sessione di assistenza tecnica finalizzata ad illustrare le  \\nmodalità di realizzazione e rendic ontazione delle spese finanziate e di rimborso  \\ndella quota di finanziamento. Durante tale sessione di assistenza tecnica Puglia  \\nSviluppo consegna a ciascun beneficiario una guida sintetica per la corretta  \\ngestione dell’intero iter agevolativo. Durante l’in contro le imprese formalizzano  \\nla richiesta di erogazione della prima quota del mutuo agevolato . Segue la  \\nrealizzazione  dell’investimento  e l’ottenimento  di altre 2 quote  dell’agevolazione.', metadata={'label': 'Agevolazione', 'page': 5.0, 'source': \"Scheda NIDI - Nuove iniziative d'impresa_ Strumento di ingegneria finanziaria.pdf\"}), Document(page_content='Puglia sviluppo  \\nUNIONE  EUROPEA  \\nFONDO  EUROPEO  DI SVILUPPO  REGIONALE  REGIONE  PUGLIA  \\nDIPARTIMENTO  SVILUPPO  ECONOMICO,  \\nINNOVAZIONE,  ISTRUZIONE,  \\nFORMAZIONE  E LAVORO  Ministero  Sviluppo  Economico  \\n4  \\n Internet, servizi di posizionamento sui motori di ricerca, acquisto di spazi  \\nper campagne  di Web Marketing; servizi di personalizzazione  di siti \\nInternet acquisiti da impresa operante nel settore della produzione di  \\nsoftware,  consulenza  informatica  e attività  connesse ; \\n•  spese per l’acquisto di dispositivi di protezione individuale e collettiva . \\n \\nA quanto ammontano gli investimenti e le \\nagevolazioni  di NIDI?  \\nA. \\nPer \\n\\uf0fc le nuove attività  \\ne \\n\\uf0fc le imprese  già esistenti  perché beneficiarie  della  misura  “PIN  – \\nPugliesi Innovativi” , \\nl’investimento  proposto può avere  un valore  compreso  tra 10mila  e 150mila  \\neuro. \\n \\nL’agevolazione, somma  di sovvenzione  (fondo  perduto)  e mutuo  agevolato, varia \\nal crescere  del valore  dell’investimento.  \\nAgevolazione  pari al 100%  \\nper investimenti compresi  tra 10mila  e 50mila  euro. \\nAgevolazione  pari al 90%  (100% per le sole imprese femminili)  \\nper investimenti compresi  tra 50mila  e 100mila  euro. \\nAgevolazione  pari al 80%  \\nper investimenti compresi  tra 100mila e 150mila  euro. \\n \\nL’agevolazion e è costituita da:  \\n• un contributo a fondo perduto pari al 50% del totale degli investimenti agevolati;  \\n• un prestito rimborsabile pari al 50% del totale degli investimenti agevolati (ridotto al 25% per Compagini Giovanili  ed Imprese Femminili ); \\n• per Compagini Giovanili  ed Imprese Femminili  un aiuto nella forma \\ndell’assistenza rimborsabile pari al 25% del totale degli investimenti agevolati.  \\n \\nLe spese di gestione vengono agevolate al 100% sino ad un massimo di 10mila  \\neuro. Tale importo  massimo vale  per ogni progetto.  Per le Compagini Giovanili e \\nle Imprese Femminili  è previsto un contributo aggiuntivo pari ad € 5.000,00 per \\nspese in servizi informatici.  \\n \\nSi riporta no di seguito tabella con l’esemplificazione delle agevolazioni concedibili \\nper alcune tipologie di investimento:', metadata={'label': 'Agevolazione', 'page': 3.0, 'source': \"Scheda NIDI - Nuove iniziative d'impresa_ Strumento di ingegneria finanziaria.pdf\"}), Document(page_content='Puglia sviluppo  \\nUNIONE  EUROPEA  \\nFONDO  EUROPEO  DI SVILUPPO  REGIONALE  REGIONE  PUGLIA  \\nDIPARTIMENTO  SVILUPPO  ECONOMICO,  \\nINNOVAZIONE,  ISTRUZIONE,  \\nFORMAZIONE  E LAVORO  Ministero  Sviluppo  Economico  \\n2  \\n domanda preliminare e composte per almeno il 50%, sia del capitale sia \\ndel numero di soci, da soggetti che non siano : dipendenti di altre imprese \\ncon contratto a tempo indeterminato superiore alle 20 ore settimanali , \\npensionati, titolari o amministratori di altra impresa;  \\n• Imprese Femminili , sia in forma di impresa individuale che di società, \\npartecipate interamente da donne  di età superiore a 18 anni e composte \\nper almeno il 50%, sia del capitale sia del numero di soci, da soggetti che non siano: dipendenti di altre imprese con contratto a tempo indeterminato \\nilsuperiore alle 20 ore settimanali , pensionati, titolari o amministratori di \\naltra impresa;  \\n• Nuove Imprese, partecipate per almeno il 50% , sia del capitale sia del \\nnumero di soci, da soggetti svantaggiati  appartenenti, alla data di \\npresentazione della domanda preliminare di cui al successivo Art. 10, ad  \\nalmeno una delle seguenti categorie:  \\na. giovani con età tra 18 anni e 35 anni;  \\nb. donne di età superiore a 18 anni;  \\nc. soggetti che non abbiano avuto rapporti di lavoro subordinato nell’ultimo mese; \\nd. persone in procinto di perdere un posto di lavoro ; \\ne. i titolari di partita IVA non iscritti al registro delle imprese che, nei 12 \\nmesi antecedenti la presentazione della domanda telematica \\npreliminare, abbiano emesso fatture per un imponibile inferiore a \\n15.000 Euro;  \\nf. i soci lavoratori e gli amministratori di cooperative s ociali assegnatarie \\ndi beni immobili confiscati;  \\ng. i soci e amministratori delle imprese, costituite in forma di società, che \\nabbiano firmato l’atto di impegno e regolamentazione dei rapporti \\nnell’ambito del progetto finanziato dall’Avviso pubblico “PIN –  Pugliesi \\nInnovativi ”. \\n• Imprese Turistiche  in possesso dei medesimi requisiti previsti per le \\nNuove Imprese . \\n \\nQuali  attività  posso  realizzare  con l’aiuto di NIDI? \\nÈ possibile  avviare  una nuova  impresa  nei seguenti  settori:  \\n• manifatturiero, \\n• costruzioni  ed edilizia, \\n• riparazione  di autoveicoli e motocicli,  \\n• affittacamere  e bed & breakfast,  \\n• ristorazione  con e senza cucina,  \\n• servizi di informazione  e comunicazione,  \\n• attività  professionali,  scientifiche  e tecniche,  \\n• agenzie  di viaggio,  \\n• servizi di supporto  alle imprese,', metadata={'label': 'Agevolazione', 'page': 1.0, 'source': \"Scheda NIDI - Nuove iniziative d'impresa_ Strumento di ingegneria finanziaria.pdf\"})]\n"
          ]
        }
      ],
      "source": [
        "query = fine_tuning_dataset.prompt[5]\n",
        "results = vector_store.similarity_search(query, filter = {'label': 'Agevolazione'} )\n",
        "print(results)"
      ]
    },
    {
      "cell_type": "markdown",
      "metadata": {
        "id": "UY9b1TvoLUNU"
      },
      "source": [
        "Mastering Pinecone’s Advanced Filtering Techniques\n",
        "Pinecone’s filtering query language takes a leaf out of MongoDB’s book, employing a similar structure of query and projection operators. This allows us to create complex metadata filters using logical operators like AND and OR. Here are some operators you can use:\n",
        "\n",
        "\n",
        "```\n",
        "\n",
        "$eq - Equal to (number, string, boolean)\n",
        "$ne - Not equal to (number, string, boolean)\n",
        "$gt - Greater than (number)\n",
        "$gte - Greater than or equal to (number)\n",
        "$lt - Less than (number)\n",
        "$lte - Less than or equal to (number)\n",
        "$in - In array (string or number)\n",
        "$nin - Not in array (string or number)\n",
        "```\n",
        "\n"
      ]
    },
    {
      "cell_type": "code",
      "execution_count": null,
      "metadata": {
        "colab": {
          "base_uri": "https://localhost:8080/"
        },
        "id": "-SVRgrr1ow6_",
        "outputId": "d2eb4566-82f3-4d60-bd54-88fef280ff5f"
      },
      "outputs": [
        {
          "name": "stdout",
          "output_type": "stream",
          "text": [
            "['spese', 'Avviso 4/2016', 'Organismi formativi', 'imprese', 'PICCOLE IMPRESE', 'Misure', 'Risorse economiche', 'Certificazione ex novo', 'PIA', 'Regione Puglia', 'investimenti', 'percorsi IeFP', 'opere murarie e assimilabili riferite a immobili dichiarati inagibili o inabitabili e di fatto non utilizzati', 'Titolo bando', 'Puglia sviluppo', 'passage', 'Avviso 40/2017', 'Misura', 'responsabile del procedimento', 'Avviso OF 22', 'accreditamento', 'Responsabile di Azione', 'novità', 'Organismi accreditati', 'Pass Laureati 2022', 'Attivi Materiali', 'GOL', 'percorsi formativi', 'Obiettivi', 'Diploma professionale', 'Titolo II capo 3', 'Avviso n. 40/2017', 'Tecnonidi', 'Puglia Sviluppo', 'acquisto', 'bilanci', 'impianti di produzione di idrogeno rinnovabile', 'Passage', 'Dotazione finanziaria', 'VALORE DELLA COMPONENTE PATRIMONIALE IMMOBILIARE DELL’ISEE, AL NETTO DELLE DETRAZIONI, NON SUPERIORE A € 30.000,00;', 'Avviso MicroPrestito della Regione Puglia', 'Contratto di Programma', 'agevolazioni', 'organismi accreditati', 'agevolazione NIDI', 'agevolazione', 'risorse disponibili', 'Pass Laureati', 'PIA TURISMO', 'documentazione fiscale dell’esercizio 2019', 'Voci di Spesa', 'soggetti accreditati', 'Titolo II capo 6', 'investimenti e agevolazioni', 'Appendice A1', 'spese ammissibili', 'Puglia', 'Pass Laureati 2023', 'Avviso pubblico', 'domanda', 'Avviso', 'Responsabile di Procedimento', 'Reddito di Dignità pugliese', 'Contratti di Programma', 'numero dei percorsi assegnati', 'offerta formativa', 'Diploma Professionale', 'aiuto', 'misura Tecno Nidi', 'imprese di piccole dimensioni', 'documento', 'scheda', 'Percorsi IeFP', 'Codici Ateco']\n"
          ]
        }
      ],
      "source": [
        "with open(\"lista_label.txt\", \"r\") as f:\n",
        "    # Creo una lista vuota\n",
        "    list_label = []\n",
        "    # Scorro le righe del file\n",
        "    for riga in f:\n",
        "        # Rimuovo il carattere di nuova riga e converto la riga in intero\n",
        "        elemento = riga.strip()        # Aggiungo l'elemento alla lista\n",
        "        list_label.append(elemento)\n",
        "f.close()\n",
        "# Stampo la lista caricata\n",
        "print(list_label)"
      ]
    },
    {
      "cell_type": "markdown",
      "source": [
        "Qui mi stampo tutte le label che ho"
      ],
      "metadata": {
        "id": "da4nYbzf_G8_"
      }
    },
    {
      "cell_type": "code",
      "execution_count": null,
      "metadata": {
        "colab": {
          "base_uri": "https://localhost:8080/"
        },
        "id": "Q3YsJIEWjJ49",
        "outputId": "a1928179-942a-452e-8124-4e085aefc2d3"
      },
      "outputs": [
        {
          "name": "stdout",
          "output_type": "stream",
          "text": [
            "['spese', 'Avviso 4/2016', 'Organismi formativi', 'imprese', 'PICCOLE IMPRESE', 'Misure', 'Risorse economiche', 'Certificazione ex novo', 'PIA', 'Regione Puglia', 'investimenti', 'percorsi IeFP', 'opere murarie e assimilabili riferite a immobili dichiarati inagibili o inabitabili e di fatto non utilizzati', 'Titolo bando', 'Puglia sviluppo', 'passage', 'Avviso 40/2017', 'Misura', 'responsabile del procedimento', 'Avviso OF 22', 'accreditamento', 'Responsabile di Azione', 'novità', 'Organismi accreditati', 'Pass Laureati 2022', 'Attivi Materiali', 'GOL', 'percorsi formativi', 'Obiettivi', 'Diploma professionale', 'Titolo II capo 3', 'Avviso n. 40/2017', 'Tecnonidi', 'Puglia Sviluppo', 'acquisto', 'bilanci', 'impianti di produzione di idrogeno rinnovabile', 'Passage', 'Dotazione finanziaria', 'VALORE DELLA COMPONENTE PATRIMONIALE IMMOBILIARE DELL’ISEE, AL NETTO DELLE DETRAZIONI, NON SUPERIORE A € 30.000,00;', 'Avviso MicroPrestito della Regione Puglia', 'Contratto di Programma', 'agevolazioni', 'organismi accreditati', 'agevolazione NIDI', 'agevolazione', 'risorse disponibili', 'Pass Laureati', 'PIA TURISMO', 'documentazione fiscale dell’esercizio 2019', 'Voci di Spesa', 'soggetti accreditati', 'Titolo II capo 6', 'investimenti e agevolazioni', 'Appendice A1', 'spese ammissibili', 'Puglia', 'Pass Laureati 2023', 'Avviso pubblico', 'domanda', 'Avviso', 'Responsabile di Procedimento', 'Reddito di Dignità pugliese', 'Contratti di Programma', 'numero dei percorsi assegnati', 'offerta formativa', 'Diploma Professionale', 'aiuto', 'misura Tecno Nidi', 'imprese di piccole dimensioni', 'documento', 'scheda', 'Percorsi IeFP', 'Codici Ateco']\n"
          ]
        }
      ],
      "source": [
        "print(list_label)"
      ]
    },
    {
      "cell_type": "markdown",
      "source": [
        "###Label retrieval dalla query"
      ],
      "metadata": {
        "id": "uNQ8Wfn0_KMy"
      }
    },
    {
      "cell_type": "code",
      "execution_count": null,
      "metadata": {
        "id": "IvRKGCnuiP_e"
      },
      "outputs": [],
      "source": [
        "from langchain.prompts import ChatPromptTemplate\n",
        "\n",
        "prompt = ChatPromptTemplate.from_template(\n",
        "    \"\"\"Classifica la seguente query per ottenere una label dalla lista:\n",
        "{input}\n",
        "\"\"\"\n",
        ")\n"
      ]
    },
    {
      "cell_type": "code",
      "execution_count": null,
      "metadata": {
        "colab": {
          "base_uri": "https://localhost:8080/",
          "height": 36
        },
        "id": "seOOL7IunBTu",
        "outputId": "bb704fea-b438-4780-bc7a-8e922843c842"
      },
      "outputs": [
        {
          "data": {
            "application/vnd.google.colaboratory.intrinsic+json": {
              "type": "string"
            },
            "text/plain": [
              "\"Quali sono le modalità per accedere alle agevolazioni del Fondo? in riferimento al documento: 'Scheda NIDI - Nuove iniziative d'impresa_ Strumento di ingegneria finanziaria.pdf'\""
            ]
          },
          "execution_count": 83,
          "metadata": {},
          "output_type": "execute_result"
        }
      ],
      "source": [
        "fine_tuning_dataset.prompt[5]"
      ]
    },
    {
      "cell_type": "markdown",
      "source": [
        "Qui creo una funzione che data la query trovi,sempre usando la functions create_metadata_tagger, una label da filtrare nel vectorstore.\n",
        "Lo faccio mettendo nelle proprietà label : Literal[tutta la lista dei label], purtroppo faccio copia incolla dalla lista stampata sopra, devo trovare un modo per passargli un attributo dinamico"
      ],
      "metadata": {
        "id": "fnR6YHRC_RNG"
      }
    },
    {
      "cell_type": "code",
      "execution_count": null,
      "metadata": {
        "colab": {
          "base_uri": "https://localhost:8080/"
        },
        "id": "bQsEixmBfrXo",
        "outputId": "2d60a9db-f78d-4931-a518-430a62082e88"
      },
      "outputs": [
        {
          "output_type": "stream",
          "name": "stdout",
          "text": [
            "Label: imprese\n"
          ]
        }
      ],
      "source": [
        "from langchain.chat_models import ChatOpenAI\n",
        "from langchain.document_transformers.openai_functions import create_metadata_tagger\n",
        "from langchain.schema import Document\n",
        "from typing import List, Literal\n",
        "from pydantic import BaseModel\n",
        "\n",
        "class Properties(BaseModel):\n",
        "    label: Literal['spese', 'Avviso 4/2016', 'Organismi formativi', 'imprese', 'PICCOLE IMPRESE', 'Misure', 'Risorse economiche', 'Certificazione ex novo', 'PIA', 'Regione Puglia', 'investimenti', 'percorsi IeFP', 'opere murarie e assimilabili riferite a immobili dichiarati inagibili o inabitabili e di fatto non utilizzati', 'Titolo bando', 'Puglia sviluppo', 'passage', 'Avviso 40/2017', 'Misura', 'responsabile del procedimento', 'Avviso OF 22', 'accreditamento', 'Responsabile di Azione', 'novità', 'Organismi accreditati', 'Pass Laureati 2022', 'Attivi Materiali', 'GOL', 'percorsi formativi', 'Obiettivi', 'Diploma professionale', 'Titolo II capo 3', 'Avviso n. 40/2017', 'Tecnonidi', 'Puglia Sviluppo', 'acquisto', 'bilanci', 'impianti di produzione di idrogeno rinnovabile', 'Passage', 'Dotazione finanziaria', 'VALORE DELLA COMPONENTE PATRIMONIALE IMMOBILIARE DELL’ISEE, AL NETTO DELLE DETRAZIONI, NON SUPERIORE A € 30.000,00;', 'Avviso MicroPrestito della Regione Puglia', 'Contratto di Programma', 'agevolazioni', 'organismi accreditati', 'agevolazione NIDI', 'agevolazione', 'risorse disponibili', 'Pass Laureati', 'PIA TURISMO', 'documentazione fiscale dell’esercizio 2019', 'Voci di Spesa', 'soggetti accreditati', 'Titolo II capo 6', 'investimenti e agevolazioni', 'Appendice A1', 'spese ammissibili', 'Puglia', 'Pass Laureati 2023', 'Avviso pubblico', 'domanda', 'Avviso', 'Responsabile di Procedimento', 'Reddito di Dignità pugliese', 'Contratti di Programma', 'numero dei percorsi assegnati', 'offerta formativa', 'Diploma Professionale', 'aiuto', 'misura Tecno Nidi', 'imprese di piccole dimensioni', 'documento', 'scheda', 'Percorsi IeFP', 'Codici Ateco']\n",
        "\n",
        "def get_label_from_query(query, llm_model=\"gpt-3.5-turbo-0613\"):\n",
        "    llm = ChatOpenAI(temperature=0, model=llm_model)\n",
        "\n",
        "    metadata_tagger = create_metadata_tagger(Properties, llm)\n",
        "\n",
        "    query_document = Document(page_content=query)\n",
        "    enhanced_query = metadata_tagger.transform_documents([query_document])\n",
        "\n",
        "    label = enhanced_query[0].metadata[\"label\"]\n",
        "\n",
        "    return label\n",
        "\n",
        "# query = \"voglio informazioni per le Medie imprese\"\n",
        "# result_label = get_label_from_query(query)\n",
        "# print(f\"Label: {result_label}\")\n"
      ]
    },
    {
      "cell_type": "markdown",
      "source": [
        "Creo una funzione che trovi la risposta usando il filtro dinamico che va passato al retriever"
      ],
      "metadata": {
        "id": "7UDG1UN-_9uN"
      }
    },
    {
      "cell_type": "code",
      "execution_count": null,
      "metadata": {
        "colab": {
          "base_uri": "https://localhost:8080/"
        },
        "id": "ZpuNrWnnAIrQ",
        "outputId": "e43404fd-2071-4c46-f3f4-78f7be2de829"
      },
      "outputs": [
        {
          "name": "stdout",
          "output_type": "stream",
          "text": [
            "Per accedere alle agevolazioni del Fondo, è necessario seguire le seguenti modalità:\n",
            "\n",
            "1. Iscriversi gratuitamente sul portale www.sistema.puglia.it.\n",
            "2. Compilare la domanda preliminare sul portale, fornendo informazioni sul progetto, sui soggetti proponenti, sugli investimenti e sulle spese previste.\n",
            "3. Non è richiesto l'invio di documenti cartacei o l'uso della PEC nella fase preliminare.\n",
            "4. Successivamente, è necessario partecipare a un colloquio di tutoraggio presso Puglia Sviluppo S.p.A., dove verranno valutate la fattibilità del progetto e assistiti nella definizione del programma di investimenti.\n",
            "5. Al termine del colloquio, verrà rilasciata una copia del verbale e dell'istanza di agevolazione.\n",
            "6. Puglia Sviluppo adotterà il provvedimento di concessione delle agevolazioni o di inammissibilità dopo l'iter istruttorio.\n",
            "7. Le imprese ammesse saranno convocate presso la sede di Puglia Sviluppo per la sottoscrizione del contratto di agevolazione e per partecipare a una sessione di assistenza tecnica.\n",
            "8. Durante la sessione di assistenza tecnica, verranno illustrate le modalità di realizzazione e rendicontazione delle spese finanziate e di rimborso della quota di finanziamento.\n",
            "9. Durante l'incontro, le imprese formalizzeranno la richiesta di erogazione della prima quota del mutuo agevolato.\n",
            "10. Sarà quindi possibile procedere alla realizzazione dell'investimento e all'ottenimento delle altre due quote di agevolazione.\n",
            "\n",
            "Si consiglia di fare riferimento al documento 'Scheda NIDI - Nuove iniziative d'impresa_ Strumento di ingegneria finanziaria.pdf' per ulteriori dettagli sulle modalità di accesso alle agevolazioni del Fondo.\n"
          ]
        }
      ],
      "source": [
        "from langchain.chains import RetrievalQA\n",
        "from langchain.chat_models import ChatOpenAI\n",
        "from langchain.vectorstores import Pinecone\n",
        "\n",
        "def get_answer_with_dynamic_filter(query, vector_store, label_to_search, llm_model='gpt-3.5-turbo', temperature=0.7):\n",
        "    llm = ChatOpenAI(model=llm_model, temperature=temperature)\n",
        "\n",
        "    dynamic_label = label_to_search\n",
        "\n",
        "    search_kwargs = {\"k\": 3}\n",
        "\n",
        "    vectorStore = Pinecone.from_existing_index(index_name, embedding)\n",
        "\n",
        "    retriever = vectorStore.as_retriever(filter={'label': {'$eq': dynamic_label}}, search_kwargs=search_kwargs)\n",
        "\n",
        "    chain = RetrievalQA.from_chain_type(llm=llm, chain_type='stuff', retriever=retriever)\n",
        "\n",
        "    answer = chain.run(query)\n",
        "\n",
        "    return answer\n",
        "\n",
        "result_label = 'Agevolazioni'\n",
        "query = fine_tuning_dataset.prompt[5]\n",
        "result = get_answer_with_dynamic_filter(query, vector_store, result_label)\n",
        "print(result)\n"
      ]
    },
    {
      "cell_type": "markdown",
      "metadata": {
        "id": "tMwsLz1XPDg0"
      },
      "source": [
        "#Retrieval con ChromaDB\n",
        "provo a fare la similarity search filtrando adesso la label sul vectorstore di Chroma"
      ]
    },
    {
      "cell_type": "code",
      "execution_count": null,
      "metadata": {
        "colab": {
          "base_uri": "https://localhost:8080/"
        },
        "id": "hRWHeV5QR4k0",
        "outputId": "b7245237-8930-44ac-8140-227344538063"
      },
      "outputs": [
        {
          "output_type": "stream",
          "name": "stdout",
          "text": [
            "spese\n",
            "{'label': 'spese', 'page': 4, 'source': 'Aiuti agli Investimenti delle Piccole e Medie Imprese (Titolo II Capo 3 Reg_ Regionale 17_2014)_br ___br __.pdf'}\n",
            "{'label': 'spese', 'page': 5, 'source': 'Aiuti Agli Investimenti delle PMI nel Settore Turistico - Alberghiero (Titolo II capo 6 Reg_ Reg_ 17_2014) _br ___br __.pdf'}\n",
            "{'label': 'spese', 'page': 3, 'source': 'Aiuti ai programmi di internazionalizzazione delle Piccole e Medie Imprese_br ___br __.pdf'}\n"
          ]
        }
      ],
      "source": [
        "question = fine_tuning_dataset.prompt[54]\n",
        "result_label = get_label_from_query(question)\n",
        "print(result_label)\n",
        "docs_result = vectordb.similarity_search(question,k=3, filter ={\"label\" : result_label})\n",
        "for d in docs_result:\n",
        "    print(d.metadata)"
      ]
    },
    {
      "cell_type": "code",
      "execution_count": null,
      "metadata": {
        "colab": {
          "base_uri": "https://localhost:8080/"
        },
        "id": "dPf9CUCXekaP",
        "outputId": "dfab6862-8f46-4587-c3be-561845b338be"
      },
      "outputs": [
        {
          "name": "stdout",
          "output_type": "stream",
          "text": [
            "scheda\n",
            "{'label': 'scheda', 'page': 0, 'source': 'Programmi Integrati di Agevolazioni PIA Piccole Imprese (Art_ 27 Reg_ Regionale 17_2014 e s_m_i_).pdf'}\n",
            "{'label': 'scheda', 'page': 0, 'source': 'Aiuti agli Investimenti delle Piccole e Medie Imprese (Titolo II Capo 3 Reg_ Regionale 17_2014)_br ___br __.pdf'}\n",
            "{'label': 'scheda', 'page': 0, 'source': 'Aiuti Agli Investimenti delle PMI nel Settore Turistico - Alberghiero (Titolo II capo 6 Reg_ Reg_ 17_2014) _br ___br __.pdf'}\n"
          ]
        }
      ],
      "source": [
        "question = fine_tuning_dataset.prompt[5]\n",
        "result_label = get_label_from_query(question)\n",
        "print(result_label)\n",
        "docs_resul = vectordb.similarity_search(question,k=3, filter ={\"label\" : result_label})\n",
        "for d in docs_resul:\n",
        "    print(d.metadata)"
      ]
    },
    {
      "cell_type": "markdown",
      "metadata": {
        "id": "vy9PSD0HYbiv"
      },
      "source": [
        "##Addressing Specificity: working with metadata using self-query retriever\n",
        "SelfQueryRettriever, che usa una LLM per estrarre:\n",
        "1. La stringa query da usare nel vector search\n",
        "2. Un filtro metadata da passargli\n",
        "\n",
        "I vectordb supportano i metadata filters"
      ]
    },
    {
      "cell_type": "code",
      "execution_count": null,
      "metadata": {
        "id": "YLr4kdqqYjnN"
      },
      "outputs": [],
      "source": [
        "from langchain.llms import OpenAI\n",
        "from langchain.retrievers.self_query.base import SelfQueryRetriever\n",
        "from langchain.chains.query_constructor.base import AttributeInfo"
      ]
    },
    {
      "cell_type": "code",
      "execution_count": null,
      "metadata": {
        "id": "_rYWsifeYqhz"
      },
      "outputs": [],
      "source": [
        "metadata_field_info = [\n",
        "    AttributeInfo(\n",
        "        name=\"label\",\n",
        "        description=\"keyword del documento\",\n",
        "        type=\"string\",\n",
        "    ),\n",
        "    AttributeInfo(\n",
        "        name=\"source\",\n",
        "        description=\"The info the chunk is from, should be one of the pdf in it\",\n",
        "        type=\"string\",\n",
        "    ),\n",
        "    AttributeInfo(\n",
        "        name=\"page\",\n",
        "        description=\"The page with info\",\n",
        "        type=\"integer\",\n",
        "    )\n",
        "]"
      ]
    },
    {
      "cell_type": "code",
      "execution_count": null,
      "metadata": {
        "colab": {
          "base_uri": "https://localhost:8080/"
        },
        "id": "DIi0DExZbAhZ",
        "outputId": "7843cb4a-4e1a-43a1-e051-8b78ef83439d"
      },
      "outputs": [
        {
          "output_type": "stream",
          "name": "stdout",
          "text": [
            "Collecting lark-parser\n",
            "  Downloading lark_parser-0.12.0-py2.py3-none-any.whl (103 kB)\n",
            "\u001b[?25l     \u001b[90m━━━━━━━━━━━━━━━━━━━━━━━━━━━━━━━━━━━━━━━━\u001b[0m \u001b[32m0.0/103.5 kB\u001b[0m \u001b[31m?\u001b[0m eta \u001b[36m-:--:--\u001b[0m\r\u001b[2K     \u001b[91m━━━━━━━━━━━━━━━\u001b[0m\u001b[91m╸\u001b[0m\u001b[90m━━━━━━━━━━━━━━━━━━━━━━━━\u001b[0m \u001b[32m41.0/103.5 kB\u001b[0m \u001b[31m1.3 MB/s\u001b[0m eta \u001b[36m0:00:01\u001b[0m\r\u001b[2K     \u001b[90m━━━━━━━━━━━━━━━━━━━━━━━━━━━━━━━━━━━━━━━━\u001b[0m \u001b[32m103.5/103.5 kB\u001b[0m \u001b[31m2.1 MB/s\u001b[0m eta \u001b[36m0:00:00\u001b[0m\n",
            "\u001b[?25hInstalling collected packages: lark-parser\n",
            "Successfully installed lark-parser-0.12.0\n"
          ]
        }
      ],
      "source": [
        "!pip install lark-parser\n"
      ]
    },
    {
      "cell_type": "markdown",
      "source": [
        "ISSUE: Purtroppo ricevo errore con la SelfQueryRetriever"
      ],
      "metadata": {
        "id": "dMV72N5HAb9d"
      }
    },
    {
      "cell_type": "code",
      "source": [
        "from langchain.chains.query_constructor.base import AttributeInfo\n",
        "from langchain.llms import OpenAI\n",
        "from langchain.retrievers.self_query.base import SelfQueryRetriever\n",
        "\n",
        "\n",
        "document_content_description = \"Bandi Regione Puglia\"\n",
        "llm = OpenAI(temperature=0)\n",
        "retriever = SelfQueryRetriever.from_llm(\n",
        "    llm, vectordb, document_content_description, metadata_field_info, verbose=True\n",
        ")"
      ],
      "metadata": {
        "colab": {
          "base_uri": "https://localhost:8080/",
          "height": 551
        },
        "id": "SQlOQgYs3hNd",
        "outputId": "f1999222-24c7-40f1-b724-6b42503fa2d7"
      },
      "execution_count": null,
      "outputs": [
        {
          "output_type": "error",
          "ename": "ImportError",
          "evalue": "ignored",
          "traceback": [
            "\u001b[0;31m---------------------------------------------------------------------------\u001b[0m",
            "\u001b[0;31mImportError\u001b[0m                               Traceback (most recent call last)",
            "\u001b[0;32m<ipython-input-64-ddfd29a4060c>\u001b[0m in \u001b[0;36m<cell line: 8>\u001b[0;34m()\u001b[0m\n\u001b[1;32m      6\u001b[0m \u001b[0mdocument_content_description\u001b[0m \u001b[0;34m=\u001b[0m \u001b[0;34m\"Bandi Regione Puglia\"\u001b[0m\u001b[0;34m\u001b[0m\u001b[0;34m\u001b[0m\u001b[0m\n\u001b[1;32m      7\u001b[0m \u001b[0mllm\u001b[0m \u001b[0;34m=\u001b[0m \u001b[0mOpenAI\u001b[0m\u001b[0;34m(\u001b[0m\u001b[0mtemperature\u001b[0m\u001b[0;34m=\u001b[0m\u001b[0;36m0\u001b[0m\u001b[0;34m)\u001b[0m\u001b[0;34m\u001b[0m\u001b[0;34m\u001b[0m\u001b[0m\n\u001b[0;32m----> 8\u001b[0;31m retriever = SelfQueryRetriever.from_llm(\n\u001b[0m\u001b[1;32m      9\u001b[0m     \u001b[0mllm\u001b[0m\u001b[0;34m,\u001b[0m \u001b[0mvectordb\u001b[0m\u001b[0;34m,\u001b[0m \u001b[0mdocument_content_description\u001b[0m\u001b[0;34m,\u001b[0m \u001b[0mmetadata_field_info\u001b[0m\u001b[0;34m,\u001b[0m \u001b[0mverbose\u001b[0m\u001b[0;34m=\u001b[0m\u001b[0;32mTrue\u001b[0m\u001b[0;34m\u001b[0m\u001b[0;34m\u001b[0m\u001b[0m\n\u001b[1;32m     10\u001b[0m )\n",
            "\u001b[0;32m/usr/local/lib/python3.10/dist-packages/langchain/retrievers/self_query/base.py\u001b[0m in \u001b[0;36mfrom_llm\u001b[0;34m(cls, llm, vectorstore, document_contents, metadata_field_info, structured_query_translator, chain_kwargs, enable_limit, use_original_query, **kwargs)\u001b[0m\n\u001b[1;32m    220\u001b[0m                 \u001b[0;34m\"allowed_operators\"\u001b[0m\u001b[0;34m\u001b[0m\u001b[0;34m\u001b[0m\u001b[0m\n\u001b[1;32m    221\u001b[0m             ] = structured_query_translator.allowed_operators\n\u001b[0;32m--> 222\u001b[0;31m         query_constructor = load_query_constructor_runnable(\n\u001b[0m\u001b[1;32m    223\u001b[0m             \u001b[0mllm\u001b[0m\u001b[0;34m,\u001b[0m\u001b[0;34m\u001b[0m\u001b[0;34m\u001b[0m\u001b[0m\n\u001b[1;32m    224\u001b[0m             \u001b[0mdocument_contents\u001b[0m\u001b[0;34m,\u001b[0m\u001b[0;34m\u001b[0m\u001b[0;34m\u001b[0m\u001b[0m\n",
            "\u001b[0;32m/usr/local/lib/python3.10/dist-packages/langchain/chains/query_constructor/base.py\u001b[0m in \u001b[0;36mload_query_constructor_runnable\u001b[0;34m(llm, document_contents, attribute_info, examples, allowed_comparators, allowed_operators, enable_limit, schema_prompt, fix_invalid, **kwargs)\u001b[0m\n\u001b[1;32m    355\u001b[0m             \u001b[0mainfo\u001b[0m\u001b[0;34m.\u001b[0m\u001b[0mname\u001b[0m \u001b[0;32mif\u001b[0m \u001b[0misinstance\u001b[0m\u001b[0;34m(\u001b[0m\u001b[0mainfo\u001b[0m\u001b[0;34m,\u001b[0m \u001b[0mAttributeInfo\u001b[0m\u001b[0;34m)\u001b[0m \u001b[0;32melse\u001b[0m \u001b[0mainfo\u001b[0m\u001b[0;34m[\u001b[0m\u001b[0;34m\"name\"\u001b[0m\u001b[0;34m]\u001b[0m\u001b[0;34m\u001b[0m\u001b[0;34m\u001b[0m\u001b[0m\n\u001b[1;32m    356\u001b[0m         )\n\u001b[0;32m--> 357\u001b[0;31m     output_parser = StructuredQueryOutputParser.from_components(\n\u001b[0m\u001b[1;32m    358\u001b[0m         \u001b[0mallowed_comparators\u001b[0m\u001b[0;34m=\u001b[0m\u001b[0mallowed_comparators\u001b[0m\u001b[0;34m,\u001b[0m\u001b[0;34m\u001b[0m\u001b[0;34m\u001b[0m\u001b[0m\n\u001b[1;32m    359\u001b[0m         \u001b[0mallowed_operators\u001b[0m\u001b[0;34m=\u001b[0m\u001b[0mallowed_operators\u001b[0m\u001b[0;34m,\u001b[0m\u001b[0;34m\u001b[0m\u001b[0;34m\u001b[0m\u001b[0m\n",
            "\u001b[0;32m/usr/local/lib/python3.10/dist-packages/langchain/chains/query_constructor/base.py\u001b[0m in \u001b[0;36mfrom_components\u001b[0;34m(cls, allowed_comparators, allowed_operators, allowed_attributes, fix_invalid)\u001b[0m\n\u001b[1;32m     97\u001b[0m \u001b[0;34m\u001b[0m\u001b[0m\n\u001b[1;32m     98\u001b[0m         \u001b[0;32melse\u001b[0m\u001b[0;34m:\u001b[0m\u001b[0;34m\u001b[0m\u001b[0;34m\u001b[0m\u001b[0m\n\u001b[0;32m---> 99\u001b[0;31m             ast_parse = get_parser(\n\u001b[0m\u001b[1;32m    100\u001b[0m                 \u001b[0mallowed_comparators\u001b[0m\u001b[0;34m=\u001b[0m\u001b[0mallowed_comparators\u001b[0m\u001b[0;34m,\u001b[0m\u001b[0;34m\u001b[0m\u001b[0;34m\u001b[0m\u001b[0m\n\u001b[1;32m    101\u001b[0m                 \u001b[0mallowed_operators\u001b[0m\u001b[0;34m=\u001b[0m\u001b[0mallowed_operators\u001b[0m\u001b[0;34m,\u001b[0m\u001b[0;34m\u001b[0m\u001b[0;34m\u001b[0m\u001b[0m\n",
            "\u001b[0;32m/usr/local/lib/python3.10/dist-packages/langchain/chains/query_constructor/parser.py\u001b[0m in \u001b[0;36mget_parser\u001b[0;34m(allowed_comparators, allowed_operators, allowed_attributes)\u001b[0m\n\u001b[1;32m    172\u001b[0m     \u001b[0;31m# QueryTransformer is None when Lark cannot be imported.\u001b[0m\u001b[0;34m\u001b[0m\u001b[0;34m\u001b[0m\u001b[0m\n\u001b[1;32m    173\u001b[0m     \u001b[0;32mif\u001b[0m \u001b[0mQueryTransformer\u001b[0m \u001b[0;32mis\u001b[0m \u001b[0;32mNone\u001b[0m\u001b[0;34m:\u001b[0m\u001b[0;34m\u001b[0m\u001b[0;34m\u001b[0m\u001b[0m\n\u001b[0;32m--> 174\u001b[0;31m         raise ImportError(\n\u001b[0m\u001b[1;32m    175\u001b[0m             \u001b[0;34m\"Cannot import lark, please install it with 'pip install lark'.\"\u001b[0m\u001b[0;34m\u001b[0m\u001b[0;34m\u001b[0m\u001b[0m\n\u001b[1;32m    176\u001b[0m         )\n",
            "\u001b[0;31mImportError\u001b[0m: Cannot import lark, please install it with 'pip install lark'.",
            "",
            "\u001b[0;31m---------------------------------------------------------------------------\u001b[0;32m\nNOTE: If your import is failing due to a missing package, you can\nmanually install dependencies using either !pip or !apt.\n\nTo view examples of installing some common dependencies, click the\n\"Open Examples\" button below.\n\u001b[0;31m---------------------------------------------------------------------------\u001b[0m\n"
          ],
          "errorDetails": {
            "actions": [
              {
                "action": "open_url",
                "actionText": "Open Examples",
                "url": "/notebooks/snippets/importing_libraries.ipynb"
              }
            ]
          }
        }
      ]
    },
    {
      "cell_type": "code",
      "execution_count": null,
      "metadata": {
        "id": "LpOZAkjyPGiY",
        "colab": {
          "base_uri": "https://localhost:8080/",
          "height": 551
        },
        "outputId": "728af90a-a955-4890-cc8a-8d9d95cab606"
      },
      "outputs": [
        {
          "output_type": "stream",
          "name": "stdout",
          "text": [
            "imprese\n"
          ]
        },
        {
          "output_type": "error",
          "ename": "ImportError",
          "evalue": "ignored",
          "traceback": [
            "\u001b[0;31m---------------------------------------------------------------------------\u001b[0m",
            "\u001b[0;31mImportError\u001b[0m                               Traceback (most recent call last)",
            "\u001b[0;32m<ipython-input-62-a1ada51bd917>\u001b[0m in \u001b[0;36m<cell line: 29>\u001b[0;34m()\u001b[0m\n\u001b[1;32m     27\u001b[0m \u001b[0;34m\u001b[0m\u001b[0m\n\u001b[1;32m     28\u001b[0m \u001b[0mquery\u001b[0m \u001b[0;34m=\u001b[0m \u001b[0mfine_tuning_dataset\u001b[0m\u001b[0;34m.\u001b[0m\u001b[0mprompt\u001b[0m\u001b[0;34m[\u001b[0m\u001b[0;36m5\u001b[0m\u001b[0;34m]\u001b[0m\u001b[0;34m\u001b[0m\u001b[0;34m\u001b[0m\u001b[0m\n\u001b[0;32m---> 29\u001b[0;31m \u001b[0mresult\u001b[0m \u001b[0;34m=\u001b[0m \u001b[0mget_answer_with_dynamic_filter\u001b[0m\u001b[0;34m(\u001b[0m\u001b[0mquery\u001b[0m\u001b[0;34m,\u001b[0m \u001b[0mvectordb\u001b[0m\u001b[0;34m,\u001b[0m \u001b[0mresult_label\u001b[0m\u001b[0;34m)\u001b[0m\u001b[0;34m\u001b[0m\u001b[0;34m\u001b[0m\u001b[0m\n\u001b[0m\u001b[1;32m     30\u001b[0m \u001b[0mprint\u001b[0m\u001b[0;34m(\u001b[0m\u001b[0mresult\u001b[0m\u001b[0;34m)\u001b[0m\u001b[0;34m\u001b[0m\u001b[0;34m\u001b[0m\u001b[0m\n",
            "\u001b[0;32m<ipython-input-62-a1ada51bd917>\u001b[0m in \u001b[0;36mget_answer_with_dynamic_filter\u001b[0;34m(query, vectordb, label_to_search, llm_model, temperature)\u001b[0m\n\u001b[1;32m      9\u001b[0m \u001b[0;34m\u001b[0m\u001b[0m\n\u001b[1;32m     10\u001b[0m     \u001b[0mdocument_content_description\u001b[0m \u001b[0;34m=\u001b[0m \u001b[0mlabel_to_search\u001b[0m\u001b[0;34m\u001b[0m\u001b[0;34m\u001b[0m\u001b[0m\n\u001b[0;32m---> 11\u001b[0;31m     retriever = SelfQueryRetriever.from_llm(\n\u001b[0m\u001b[1;32m     12\u001b[0m     \u001b[0mllm\u001b[0m\u001b[0;34m,\u001b[0m\u001b[0;34m\u001b[0m\u001b[0;34m\u001b[0m\u001b[0m\n\u001b[1;32m     13\u001b[0m     \u001b[0mvectordb\u001b[0m\u001b[0;34m,\u001b[0m\u001b[0;34m\u001b[0m\u001b[0;34m\u001b[0m\u001b[0m\n",
            "\u001b[0;32m/usr/local/lib/python3.10/dist-packages/langchain/retrievers/self_query/base.py\u001b[0m in \u001b[0;36mfrom_llm\u001b[0;34m(cls, llm, vectorstore, document_contents, metadata_field_info, structured_query_translator, chain_kwargs, enable_limit, use_original_query, **kwargs)\u001b[0m\n\u001b[1;32m    220\u001b[0m                 \u001b[0;34m\"allowed_operators\"\u001b[0m\u001b[0;34m\u001b[0m\u001b[0;34m\u001b[0m\u001b[0m\n\u001b[1;32m    221\u001b[0m             ] = structured_query_translator.allowed_operators\n\u001b[0;32m--> 222\u001b[0;31m         query_constructor = load_query_constructor_runnable(\n\u001b[0m\u001b[1;32m    223\u001b[0m             \u001b[0mllm\u001b[0m\u001b[0;34m,\u001b[0m\u001b[0;34m\u001b[0m\u001b[0;34m\u001b[0m\u001b[0m\n\u001b[1;32m    224\u001b[0m             \u001b[0mdocument_contents\u001b[0m\u001b[0;34m,\u001b[0m\u001b[0;34m\u001b[0m\u001b[0;34m\u001b[0m\u001b[0m\n",
            "\u001b[0;32m/usr/local/lib/python3.10/dist-packages/langchain/chains/query_constructor/base.py\u001b[0m in \u001b[0;36mload_query_constructor_runnable\u001b[0;34m(llm, document_contents, attribute_info, examples, allowed_comparators, allowed_operators, enable_limit, schema_prompt, fix_invalid, **kwargs)\u001b[0m\n\u001b[1;32m    355\u001b[0m             \u001b[0mainfo\u001b[0m\u001b[0;34m.\u001b[0m\u001b[0mname\u001b[0m \u001b[0;32mif\u001b[0m \u001b[0misinstance\u001b[0m\u001b[0;34m(\u001b[0m\u001b[0mainfo\u001b[0m\u001b[0;34m,\u001b[0m \u001b[0mAttributeInfo\u001b[0m\u001b[0;34m)\u001b[0m \u001b[0;32melse\u001b[0m \u001b[0mainfo\u001b[0m\u001b[0;34m[\u001b[0m\u001b[0;34m\"name\"\u001b[0m\u001b[0;34m]\u001b[0m\u001b[0;34m\u001b[0m\u001b[0;34m\u001b[0m\u001b[0m\n\u001b[1;32m    356\u001b[0m         )\n\u001b[0;32m--> 357\u001b[0;31m     output_parser = StructuredQueryOutputParser.from_components(\n\u001b[0m\u001b[1;32m    358\u001b[0m         \u001b[0mallowed_comparators\u001b[0m\u001b[0;34m=\u001b[0m\u001b[0mallowed_comparators\u001b[0m\u001b[0;34m,\u001b[0m\u001b[0;34m\u001b[0m\u001b[0;34m\u001b[0m\u001b[0m\n\u001b[1;32m    359\u001b[0m         \u001b[0mallowed_operators\u001b[0m\u001b[0;34m=\u001b[0m\u001b[0mallowed_operators\u001b[0m\u001b[0;34m,\u001b[0m\u001b[0;34m\u001b[0m\u001b[0;34m\u001b[0m\u001b[0m\n",
            "\u001b[0;32m/usr/local/lib/python3.10/dist-packages/langchain/chains/query_constructor/base.py\u001b[0m in \u001b[0;36mfrom_components\u001b[0;34m(cls, allowed_comparators, allowed_operators, allowed_attributes, fix_invalid)\u001b[0m\n\u001b[1;32m     97\u001b[0m \u001b[0;34m\u001b[0m\u001b[0m\n\u001b[1;32m     98\u001b[0m         \u001b[0;32melse\u001b[0m\u001b[0;34m:\u001b[0m\u001b[0;34m\u001b[0m\u001b[0;34m\u001b[0m\u001b[0m\n\u001b[0;32m---> 99\u001b[0;31m             ast_parse = get_parser(\n\u001b[0m\u001b[1;32m    100\u001b[0m                 \u001b[0mallowed_comparators\u001b[0m\u001b[0;34m=\u001b[0m\u001b[0mallowed_comparators\u001b[0m\u001b[0;34m,\u001b[0m\u001b[0;34m\u001b[0m\u001b[0;34m\u001b[0m\u001b[0m\n\u001b[1;32m    101\u001b[0m                 \u001b[0mallowed_operators\u001b[0m\u001b[0;34m=\u001b[0m\u001b[0mallowed_operators\u001b[0m\u001b[0;34m,\u001b[0m\u001b[0;34m\u001b[0m\u001b[0;34m\u001b[0m\u001b[0m\n",
            "\u001b[0;32m/usr/local/lib/python3.10/dist-packages/langchain/chains/query_constructor/parser.py\u001b[0m in \u001b[0;36mget_parser\u001b[0;34m(allowed_comparators, allowed_operators, allowed_attributes)\u001b[0m\n\u001b[1;32m    172\u001b[0m     \u001b[0;31m# QueryTransformer is None when Lark cannot be imported.\u001b[0m\u001b[0;34m\u001b[0m\u001b[0;34m\u001b[0m\u001b[0m\n\u001b[1;32m    173\u001b[0m     \u001b[0;32mif\u001b[0m \u001b[0mQueryTransformer\u001b[0m \u001b[0;32mis\u001b[0m \u001b[0;32mNone\u001b[0m\u001b[0;34m:\u001b[0m\u001b[0;34m\u001b[0m\u001b[0;34m\u001b[0m\u001b[0m\n\u001b[0;32m--> 174\u001b[0;31m         raise ImportError(\n\u001b[0m\u001b[1;32m    175\u001b[0m             \u001b[0;34m\"Cannot import lark, please install it with 'pip install lark'.\"\u001b[0m\u001b[0;34m\u001b[0m\u001b[0;34m\u001b[0m\u001b[0m\n\u001b[1;32m    176\u001b[0m         )\n",
            "\u001b[0;31mImportError\u001b[0m: Cannot import lark, please install it with 'pip install lark'.",
            "",
            "\u001b[0;31m---------------------------------------------------------------------------\u001b[0;32m\nNOTE: If your import is failing due to a missing package, you can\nmanually install dependencies using either !pip or !apt.\n\nTo view examples of installing some common dependencies, click the\n\"Open Examples\" button below.\n\u001b[0;31m---------------------------------------------------------------------------\u001b[0m\n"
          ],
          "errorDetails": {
            "actions": [
              {
                "action": "open_url",
                "actionText": "Open Examples",
                "url": "/notebooks/snippets/importing_libraries.ipynb"
              }
            ]
          }
        }
      ],
      "source": [
        "from langchain.chains import RetrievalQA\n",
        "from langchain.chat_models import ChatOpenAI\n",
        "import lark\n",
        "\n",
        "def get_answer_with_dynamic_filter(query, vectordb, label_to_search, llm_model='gpt-3.5-turbo', temperature=0.7):\n",
        "    llm = ChatOpenAI(model=llm_model, temperature=temperature)\n",
        "\n",
        "    search_kwargs = {\"k\": 3}\n",
        "\n",
        "    document_content_description = label_to_search\n",
        "    retriever = SelfQueryRetriever.from_llm(\n",
        "    llm,\n",
        "    vectordb,\n",
        "    document_content_description,\n",
        "    metadata_field_info,\n",
        "    verbose=True\n",
        "    )\n",
        "\n",
        "    chain = RetrievalQA.from_chain_type(llm=llm, chain_type='stuff', retriever=retriever)\n",
        "\n",
        "    answer = chain.run(query)\n",
        "\n",
        "    return answer\n",
        "\n",
        "result_label = get_label_from_query(query)\n",
        "print(result_label)\n",
        "\n",
        "query = fine_tuning_dataset.prompt[5]\n",
        "result = get_answer_with_dynamic_filter(query, vectordb, result_label)\n",
        "print(result)\n"
      ]
    },
    {
      "cell_type": "markdown",
      "source": [
        "Dal retriever provo a trovare i documenti rilevanti sempre filtrandogli la label che trova dinamicamente"
      ],
      "metadata": {
        "id": "Al6XLaHPAm3B"
      }
    },
    {
      "cell_type": "code",
      "source": [
        "query = fine_tuning_dataset.prompt[55]\n",
        "result_label = get_label_from_query(query)\n",
        "print(result_label)\n",
        "retriever = vectordb.as_retriever()\n",
        "docs = retriever.get_relevant_documents(query, filter = {'label' : result_label})"
      ],
      "metadata": {
        "colab": {
          "base_uri": "https://localhost:8080/"
        },
        "id": "7uaif2gK5VE2",
        "outputId": "0bc9e23e-e502-4317-ce97-ff48be23d37a"
      },
      "execution_count": null,
      "outputs": [
        {
          "output_type": "stream",
          "name": "stdout",
          "text": [
            "Avviso Tecnonidi\n"
          ]
        }
      ]
    },
    {
      "cell_type": "code",
      "source": [
        "for d in docs:\n",
        "    print(d.metadata)"
      ],
      "metadata": {
        "colab": {
          "base_uri": "https://localhost:8080/"
        },
        "id": "h1cxsJx26sdn",
        "outputId": "e3c2b6f0-83a0-433d-9b1a-f98bcaad94d9"
      },
      "execution_count": null,
      "outputs": [
        {
          "output_type": "stream",
          "name": "stdout",
          "text": [
            "{'label': 'agevolazioni', 'page': 2, 'source': 'Scheda Avviso Tecnonidi - Aiuti alle piccole imprese innovative.pdf'}\n",
            "{'label': 'Tecnonidi', 'page': 0, 'source': 'Scheda Avviso Tecnonidi - Aiuti alle piccole imprese innovative.pdf'}\n",
            "{'label': 'Voci di Spesa', 'page': 5, 'source': 'Programmi Integrati di Agevolazioni PIA Piccole Imprese (Art_ 27 Reg_ Regionale 17_2014 e s_m_i_).pdf'}\n",
            "{'label': 'domanda', 'page': 8, 'source': 'Aiuti agli Investimenti delle Piccole e Medie Imprese (Titolo II Capo 3 Reg_ Regionale 17_2014)_br ___br __.pdf'}\n"
          ]
        }
      ]
    },
    {
      "cell_type": "markdown",
      "source": [
        "La funzione di QA è identica a quella di Pinecone cambia soltanto il retriever"
      ],
      "metadata": {
        "id": "SfFOjj8HA0m1"
      }
    },
    {
      "cell_type": "code",
      "execution_count": null,
      "metadata": {
        "colab": {
          "base_uri": "https://localhost:8080/"
        },
        "id": "azDozZT7dcKy",
        "outputId": "e558e8e0-11dd-40cc-98ef-fbfb531f8ce6"
      },
      "outputs": [
        {
          "output_type": "stream",
          "name": "stdout",
          "text": [
            "Quali sono i requisiti necessari per poter beneficiare delle agevolazioni di Tecnonidi? in riferimento al documento: 'Scheda Avviso Tecnonidi - Aiuti alle piccole imprese innovative.pdf'\n",
            "Per poter beneficiare delle agevolazioni di Tecnonidi, è necessario che l'impresa rientri in una delle seguenti tipologie:\n",
            "\n",
            "a) Imprese regolarmente costituite ed iscritte al registro delle Start-up innovative;\n",
            "b) Imprese che hanno sostenuto costi di ricerca e sviluppo che rappresentino almeno il 10% del totale dei costi di esercizio in almeno uno dei tre anni precedenti la concessione dell'aiuto oppure, nel caso di una start-up senza dati finanziari precedenti, nella revisione contabile dell'esercizio finanziario in corso;\n",
            "c) Imprese che dispongono del riconoscimento del Seal of excellence.\n",
            "\n",
            "Inoltre, le imprese devono essere di piccole dimensioni e devono avere intenzione di avviare o sviluppare piani di investimento a contenuto tecnologico nel territorio della Regione Puglia.\n",
            "\n",
            "Si consiglia di consultare il bando pubblicato sul Bollettino Ufficiale della Regione Puglia del 10/08/2017 n. 95 e successive modifiche per ulteriori dettagli e requisiti specifici.\n"
          ]
        }
      ],
      "source": [
        "from langchain.chains import RetrievalQA\n",
        "from langchain.chat_models import ChatOpenAI\n",
        "from langchain.vectorstores import Chroma\n",
        "\n",
        "def get_answer_with_dynamic_filter(query, vector_store, label_to_search, llm_model='gpt-3.5-turbo', temperature=0.7):\n",
        "    llm = ChatOpenAI(model=llm_model, temperature=temperature)\n",
        "\n",
        "    dynamic_label = label_to_search\n",
        "\n",
        "    search_kwargs = {\"k\": 3}\n",
        "\n",
        "\n",
        "    retriever = vector_store.as_retriever(filter={'label': {'$eq': dynamic_label}}, search_kwargs=search_kwargs)\n",
        "\n",
        "    chain = RetrievalQA.from_chain_type(llm=llm, chain_type='stuff', retriever=retriever)\n",
        "\n",
        "    answer = chain.run(query)\n",
        "\n",
        "    return answer\n",
        "\n",
        "\n",
        "query = fine_tuning_dataset.prompt[55]\n",
        "print(query)\n",
        "result_label = get_label_from_query(query)\n",
        "result = get_answer_with_dynamic_filter(query, vectordb, result_label)\n",
        "print(result)\n"
      ]
    }
  ],
  "metadata": {
    "colab": {
      "provenance": []
    },
    "kernelspec": {
      "display_name": "Python 3",
      "name": "python3"
    },
    "language_info": {
      "name": "python"
    }
  },
  "nbformat": 4,
  "nbformat_minor": 0
}